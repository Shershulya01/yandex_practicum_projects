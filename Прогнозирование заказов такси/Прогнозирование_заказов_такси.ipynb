{
 "cells": [
  {
   "cell_type": "markdown",
   "metadata": {
    "toc": true
   },
   "source": [
    "<h1>Содержание<span class=\"tocSkip\"></span></h1>\n",
    "<div class=\"toc\"><ul class=\"toc-item\"><li><span><a href=\"#Подготовка\" data-toc-modified-id=\"Подготовка-1\"><span class=\"toc-item-num\">1&nbsp;&nbsp;</span>Подготовка</a></span></li><li><span><a href=\"#Анализ\" data-toc-modified-id=\"Анализ-2\"><span class=\"toc-item-num\">2&nbsp;&nbsp;</span>Анализ</a></span></li><li><span><a href=\"#Обучение\" data-toc-modified-id=\"Обучение-3\"><span class=\"toc-item-num\">3&nbsp;&nbsp;</span>Обучение</a></span></li><li><span><a href=\"#Тестирование\" data-toc-modified-id=\"Тестирование-4\"><span class=\"toc-item-num\">4&nbsp;&nbsp;</span>Тестирование"
   ]
  },
  {
   "cell_type": "markdown",
   "metadata": {},
   "source": [
    "#  Прогнозирование заказов такси"
   ]
  },
  {
   "cell_type": "markdown",
   "metadata": {},
   "source": [
    "Компания «Чётенькое такси» собрала исторические данные о заказах такси в аэропортах. Чтобы привлекать больше водителей в период пиковой нагрузки, нужно спрогнозировать количество заказов такси на следующий час. Постройте модель для такого предсказания.\n",
    "\n",
    "Значение метрики *RMSE* на тестовой выборке должно быть не больше 48.\n",
    "\n",
    "Вам нужно:\n",
    "\n",
    "1. Загрузить данные и выполнить их ресемплирование по одному часу.\n",
    "2. Проанализировать данные.\n",
    "3. Обучить разные модели с различными гиперпараметрами. Сделать тестовую выборку размером 10% от исходных данных.\n",
    "4. Проверить данные на тестовой выборке и сделать выводы.\n",
    "\n",
    "\n",
    "Данные лежат в файле `taxi.csv`. Количество заказов находится в столбце `num_orders` (от англ. *number of orders*, «число заказов»)."
   ]
  },
  {
   "cell_type": "markdown",
   "metadata": {},
   "source": [
    "## Подготовка"
   ]
  },
  {
   "cell_type": "code",
   "execution_count": 1,
   "metadata": {},
   "outputs": [],
   "source": [
    "import pandas as pd\n",
    "import numpy as np\n",
    "%matplotlib inline\n",
    "import matplotlib.pyplot as plt\n",
    "from sklearn.linear_model import LinearRegression\n",
    "from catboost import CatBoostRegressor\n",
    "from lightgbm import LGBMRegressor\n",
    "from sklearn.model_selection import train_test_split, GridSearchCV, cross_val_score, TimeSeriesSplit\n",
    "from sklearn.metrics import mean_squared_error\n",
    "from statsmodels.tsa.seasonal import seasonal_decompose\n",
    "\n",
    "import warnings\n",
    "warnings.filterwarnings(\"ignore\")"
   ]
  },
  {
   "cell_type": "code",
   "execution_count": 2,
   "metadata": {},
   "outputs": [],
   "source": [
    "data = pd.read_csv('https://code.s3.yandex.net/datasets/taxi.csv',index_col=[0],parse_dates=[0])"
   ]
  },
  {
   "cell_type": "code",
   "execution_count": 3,
   "metadata": {},
   "outputs": [],
   "source": [
    "data.sort_index(inplace=True)"
   ]
  },
  {
   "cell_type": "code",
   "execution_count": 4,
   "metadata": {},
   "outputs": [
    {
     "name": "stdout",
     "output_type": "stream",
     "text": [
      "True\n"
     ]
    }
   ],
   "source": [
    "#проверим, что индексы монотонны\n",
    "print(data.index.is_monotonic)"
   ]
  },
  {
   "cell_type": "code",
   "execution_count": 5,
   "metadata": {},
   "outputs": [],
   "source": [
    "#проведем ресемплирование по одному часу\n",
    "df = data.resample('1H').sum()"
   ]
  },
  {
   "cell_type": "code",
   "execution_count": 6,
   "metadata": {},
   "outputs": [
    {
     "data": {
      "text/plain": [
       "0"
      ]
     },
     "execution_count": 6,
     "metadata": {},
     "output_type": "execute_result"
    }
   ],
   "source": [
    "#проверим на дубликаты\n",
    "df.reset_index().duplicated().sum()"
   ]
  },
  {
   "cell_type": "markdown",
   "metadata": {},
   "source": [
    "**Вывод:**\n",
    "\n",
    "- произвели ресемплинг в 1 час\n",
    "- в данных отсутсвуют пропуски и дубликаты"
   ]
  },
  {
   "cell_type": "markdown",
   "metadata": {},
   "source": [
    "## Анализ"
   ]
  },
  {
   "cell_type": "code",
   "execution_count": 7,
   "metadata": {
    "scrolled": true
   },
   "outputs": [
    {
     "name": "stdout",
     "output_type": "stream",
     "text": [
      "<class 'pandas.core.frame.DataFrame'>\n",
      "DatetimeIndex: 4416 entries, 2018-03-01 00:00:00 to 2018-08-31 23:00:00\n",
      "Freq: H\n",
      "Data columns (total 1 columns):\n",
      " #   Column      Non-Null Count  Dtype\n",
      "---  ------      --------------  -----\n",
      " 0   num_orders  4416 non-null   int64\n",
      "dtypes: int64(1)\n",
      "memory usage: 69.0 KB\n"
     ]
    }
   ],
   "source": [
    "df.info()"
   ]
  },
  {
   "cell_type": "code",
   "execution_count": 8,
   "metadata": {},
   "outputs": [
    {
     "data": {
      "text/html": [
       "<div>\n",
       "<style scoped>\n",
       "    .dataframe tbody tr th:only-of-type {\n",
       "        vertical-align: middle;\n",
       "    }\n",
       "\n",
       "    .dataframe tbody tr th {\n",
       "        vertical-align: top;\n",
       "    }\n",
       "\n",
       "    .dataframe thead th {\n",
       "        text-align: right;\n",
       "    }\n",
       "</style>\n",
       "<table border=\"1\" class=\"dataframe\">\n",
       "  <thead>\n",
       "    <tr style=\"text-align: right;\">\n",
       "      <th></th>\n",
       "      <th>num_orders</th>\n",
       "    </tr>\n",
       "    <tr>\n",
       "      <th>datetime</th>\n",
       "      <th></th>\n",
       "    </tr>\n",
       "  </thead>\n",
       "  <tbody>\n",
       "    <tr>\n",
       "      <th>2018-03-01 00:00:00</th>\n",
       "      <td>124</td>\n",
       "    </tr>\n",
       "    <tr>\n",
       "      <th>2018-03-01 01:00:00</th>\n",
       "      <td>85</td>\n",
       "    </tr>\n",
       "    <tr>\n",
       "      <th>2018-03-01 02:00:00</th>\n",
       "      <td>71</td>\n",
       "    </tr>\n",
       "    <tr>\n",
       "      <th>2018-03-01 03:00:00</th>\n",
       "      <td>66</td>\n",
       "    </tr>\n",
       "    <tr>\n",
       "      <th>2018-03-01 04:00:00</th>\n",
       "      <td>43</td>\n",
       "    </tr>\n",
       "  </tbody>\n",
       "</table>\n",
       "</div>"
      ],
      "text/plain": [
       "                     num_orders\n",
       "datetime                       \n",
       "2018-03-01 00:00:00         124\n",
       "2018-03-01 01:00:00          85\n",
       "2018-03-01 02:00:00          71\n",
       "2018-03-01 03:00:00          66\n",
       "2018-03-01 04:00:00          43"
      ]
     },
     "execution_count": 8,
     "metadata": {},
     "output_type": "execute_result"
    }
   ],
   "source": [
    "df.head()"
   ]
  },
  {
   "cell_type": "code",
   "execution_count": 9,
   "metadata": {},
   "outputs": [
    {
     "data": {
      "text/html": [
       "<div>\n",
       "<style scoped>\n",
       "    .dataframe tbody tr th:only-of-type {\n",
       "        vertical-align: middle;\n",
       "    }\n",
       "\n",
       "    .dataframe tbody tr th {\n",
       "        vertical-align: top;\n",
       "    }\n",
       "\n",
       "    .dataframe thead th {\n",
       "        text-align: right;\n",
       "    }\n",
       "</style>\n",
       "<table border=\"1\" class=\"dataframe\">\n",
       "  <thead>\n",
       "    <tr style=\"text-align: right;\">\n",
       "      <th></th>\n",
       "      <th>num_orders</th>\n",
       "    </tr>\n",
       "  </thead>\n",
       "  <tbody>\n",
       "    <tr>\n",
       "      <th>count</th>\n",
       "      <td>4416.000000</td>\n",
       "    </tr>\n",
       "    <tr>\n",
       "      <th>mean</th>\n",
       "      <td>84.422781</td>\n",
       "    </tr>\n",
       "    <tr>\n",
       "      <th>std</th>\n",
       "      <td>45.023853</td>\n",
       "    </tr>\n",
       "    <tr>\n",
       "      <th>min</th>\n",
       "      <td>0.000000</td>\n",
       "    </tr>\n",
       "    <tr>\n",
       "      <th>25%</th>\n",
       "      <td>54.000000</td>\n",
       "    </tr>\n",
       "    <tr>\n",
       "      <th>50%</th>\n",
       "      <td>78.000000</td>\n",
       "    </tr>\n",
       "    <tr>\n",
       "      <th>75%</th>\n",
       "      <td>107.000000</td>\n",
       "    </tr>\n",
       "    <tr>\n",
       "      <th>max</th>\n",
       "      <td>462.000000</td>\n",
       "    </tr>\n",
       "  </tbody>\n",
       "</table>\n",
       "</div>"
      ],
      "text/plain": [
       "        num_orders\n",
       "count  4416.000000\n",
       "mean     84.422781\n",
       "std      45.023853\n",
       "min       0.000000\n",
       "25%      54.000000\n",
       "50%      78.000000\n",
       "75%     107.000000\n",
       "max     462.000000"
      ]
     },
     "execution_count": 9,
     "metadata": {},
     "output_type": "execute_result"
    }
   ],
   "source": [
    "df.describe()"
   ]
  },
  {
   "cell_type": "code",
   "execution_count": 10,
   "metadata": {
    "scrolled": false
   },
   "outputs": [
    {
     "data": {
      "image/png": "[encoded data removed]",
      "text/plain": [
       "<Figure size 1200x1400 with 4 Axes>"
      ]
     },
     "metadata": {},
     "output_type": "display_data"
    }
   ],
   "source": [
    "#разложим временой ряд\n",
    "decomposed = seasonal_decompose(df)\n",
    "plt.figure(figsize=(12, 14))\n",
    "plt.subplot(411)\n",
    "decomposed.trend.plot(ax=plt.gca())\n",
    "plt.title('Trend')\n",
    "plt.subplot(412)\n",
    "decomposed.seasonal['2018-08-01':'2018-08-02'].plot(ax=plt.gca())\n",
    "plt.title('Seasonality_day')\n",
    "plt.subplot(413)\n",
    "decomposed.seasonal['2018-08-01':'2018-08-07'].plot(ax=plt.gca())\n",
    "plt.title('Seasonality_week')  \n",
    "plt.subplot(414)\n",
    "decomposed.resid.plot(ax=plt.gca()) \n",
    "plt.title('Residuals')\n",
    "plt.tight_layout()"
   ]
  },
  {
   "cell_type": "code",
   "execution_count": 11,
   "metadata": {},
   "outputs": [],
   "source": [
    "#Функция создания признаков\n",
    "def make_features(data, max_lag, rolling_mean_size):\n",
    "    frame = data.copy()\n",
    "    frame['dayofweek'] = frame.index.dayofweek\n",
    "    frame['hour'] = frame.index.hour\n",
    "    for lag in range(1, max_lag + 1):\n",
    "        frame['lag_{}'.format(lag)] = data['num_orders'].shift(lag)\n",
    "    frame['rolling_mean'] = frame['num_orders'].shift().rolling(rolling_mean_size).mean()\n",
    "    return frame"
   ]
  },
  {
   "cell_type": "code",
   "execution_count": 12,
   "metadata": {
    "scrolled": true
   },
   "outputs": [
    {
     "data": {
      "text/html": [
       "<div>\n",
       "<style scoped>\n",
       "    .dataframe tbody tr th:only-of-type {\n",
       "        vertical-align: middle;\n",
       "    }\n",
       "\n",
       "    .dataframe tbody tr th {\n",
       "        vertical-align: top;\n",
       "    }\n",
       "\n",
       "    .dataframe thead th {\n",
       "        text-align: right;\n",
       "    }\n",
       "</style>\n",
       "<table border=\"1\" class=\"dataframe\">\n",
       "  <thead>\n",
       "    <tr style=\"text-align: right;\">\n",
       "      <th></th>\n",
       "      <th>num_orders</th>\n",
       "      <th>dayofweek</th>\n",
       "      <th>hour</th>\n",
       "      <th>lag_1</th>\n",
       "      <th>lag_2</th>\n",
       "      <th>lag_3</th>\n",
       "      <th>lag_4</th>\n",
       "      <th>lag_5</th>\n",
       "      <th>lag_6</th>\n",
       "      <th>lag_7</th>\n",
       "      <th>...</th>\n",
       "      <th>lag_16</th>\n",
       "      <th>lag_17</th>\n",
       "      <th>lag_18</th>\n",
       "      <th>lag_19</th>\n",
       "      <th>lag_20</th>\n",
       "      <th>lag_21</th>\n",
       "      <th>lag_22</th>\n",
       "      <th>lag_23</th>\n",
       "      <th>lag_24</th>\n",
       "      <th>rolling_mean</th>\n",
       "    </tr>\n",
       "    <tr>\n",
       "      <th>datetime</th>\n",
       "      <th></th>\n",
       "      <th></th>\n",
       "      <th></th>\n",
       "      <th></th>\n",
       "      <th></th>\n",
       "      <th></th>\n",
       "      <th></th>\n",
       "      <th></th>\n",
       "      <th></th>\n",
       "      <th></th>\n",
       "      <th></th>\n",
       "      <th></th>\n",
       "      <th></th>\n",
       "      <th></th>\n",
       "      <th></th>\n",
       "      <th></th>\n",
       "      <th></th>\n",
       "      <th></th>\n",
       "      <th></th>\n",
       "      <th></th>\n",
       "      <th></th>\n",
       "    </tr>\n",
       "  </thead>\n",
       "  <tbody>\n",
       "    <tr>\n",
       "      <th>2018-03-01 00:00:00</th>\n",
       "      <td>124</td>\n",
       "      <td>3</td>\n",
       "      <td>0</td>\n",
       "      <td>NaN</td>\n",
       "      <td>NaN</td>\n",
       "      <td>NaN</td>\n",
       "      <td>NaN</td>\n",
       "      <td>NaN</td>\n",
       "      <td>NaN</td>\n",
       "      <td>NaN</td>\n",
       "      <td>...</td>\n",
       "      <td>NaN</td>\n",
       "      <td>NaN</td>\n",
       "      <td>NaN</td>\n",
       "      <td>NaN</td>\n",
       "      <td>NaN</td>\n",
       "      <td>NaN</td>\n",
       "      <td>NaN</td>\n",
       "      <td>NaN</td>\n",
       "      <td>NaN</td>\n",
       "      <td>NaN</td>\n",
       "    </tr>\n",
       "    <tr>\n",
       "      <th>2018-03-01 01:00:00</th>\n",
       "      <td>85</td>\n",
       "      <td>3</td>\n",
       "      <td>1</td>\n",
       "      <td>124.0</td>\n",
       "      <td>NaN</td>\n",
       "      <td>NaN</td>\n",
       "      <td>NaN</td>\n",
       "      <td>NaN</td>\n",
       "      <td>NaN</td>\n",
       "      <td>NaN</td>\n",
       "      <td>...</td>\n",
       "      <td>NaN</td>\n",
       "      <td>NaN</td>\n",
       "      <td>NaN</td>\n",
       "      <td>NaN</td>\n",
       "      <td>NaN</td>\n",
       "      <td>NaN</td>\n",
       "      <td>NaN</td>\n",
       "      <td>NaN</td>\n",
       "      <td>NaN</td>\n",
       "      <td>NaN</td>\n",
       "    </tr>\n",
       "    <tr>\n",
       "      <th>2018-03-01 02:00:00</th>\n",
       "      <td>71</td>\n",
       "      <td>3</td>\n",
       "      <td>2</td>\n",
       "      <td>85.0</td>\n",
       "      <td>124.0</td>\n",
       "      <td>NaN</td>\n",
       "      <td>NaN</td>\n",
       "      <td>NaN</td>\n",
       "      <td>NaN</td>\n",
       "      <td>NaN</td>\n",
       "      <td>...</td>\n",
       "      <td>NaN</td>\n",
       "      <td>NaN</td>\n",
       "      <td>NaN</td>\n",
       "      <td>NaN</td>\n",
       "      <td>NaN</td>\n",
       "      <td>NaN</td>\n",
       "      <td>NaN</td>\n",
       "      <td>NaN</td>\n",
       "      <td>NaN</td>\n",
       "      <td>NaN</td>\n",
       "    </tr>\n",
       "    <tr>\n",
       "      <th>2018-03-01 03:00:00</th>\n",
       "      <td>66</td>\n",
       "      <td>3</td>\n",
       "      <td>3</td>\n",
       "      <td>71.0</td>\n",
       "      <td>85.0</td>\n",
       "      <td>124.0</td>\n",
       "      <td>NaN</td>\n",
       "      <td>NaN</td>\n",
       "      <td>NaN</td>\n",
       "      <td>NaN</td>\n",
       "      <td>...</td>\n",
       "      <td>NaN</td>\n",
       "      <td>NaN</td>\n",
       "      <td>NaN</td>\n",
       "      <td>NaN</td>\n",
       "      <td>NaN</td>\n",
       "      <td>NaN</td>\n",
       "      <td>NaN</td>\n",
       "      <td>NaN</td>\n",
       "      <td>NaN</td>\n",
       "      <td>NaN</td>\n",
       "    </tr>\n",
       "    <tr>\n",
       "      <th>2018-03-01 04:00:00</th>\n",
       "      <td>43</td>\n",
       "      <td>3</td>\n",
       "      <td>4</td>\n",
       "      <td>66.0</td>\n",
       "      <td>71.0</td>\n",
       "      <td>85.0</td>\n",
       "      <td>124.0</td>\n",
       "      <td>NaN</td>\n",
       "      <td>NaN</td>\n",
       "      <td>NaN</td>\n",
       "      <td>...</td>\n",
       "      <td>NaN</td>\n",
       "      <td>NaN</td>\n",
       "      <td>NaN</td>\n",
       "      <td>NaN</td>\n",
       "      <td>NaN</td>\n",
       "      <td>NaN</td>\n",
       "      <td>NaN</td>\n",
       "      <td>NaN</td>\n",
       "      <td>NaN</td>\n",
       "      <td>NaN</td>\n",
       "    </tr>\n",
       "    <tr>\n",
       "      <th>...</th>\n",
       "      <td>...</td>\n",
       "      <td>...</td>\n",
       "      <td>...</td>\n",
       "      <td>...</td>\n",
       "      <td>...</td>\n",
       "      <td>...</td>\n",
       "      <td>...</td>\n",
       "      <td>...</td>\n",
       "      <td>...</td>\n",
       "      <td>...</td>\n",
       "      <td>...</td>\n",
       "      <td>...</td>\n",
       "      <td>...</td>\n",
       "      <td>...</td>\n",
       "      <td>...</td>\n",
       "      <td>...</td>\n",
       "      <td>...</td>\n",
       "      <td>...</td>\n",
       "      <td>...</td>\n",
       "      <td>...</td>\n",
       "      <td>...</td>\n",
       "    </tr>\n",
       "    <tr>\n",
       "      <th>2018-08-31 19:00:00</th>\n",
       "      <td>136</td>\n",
       "      <td>4</td>\n",
       "      <td>19</td>\n",
       "      <td>207.0</td>\n",
       "      <td>217.0</td>\n",
       "      <td>197.0</td>\n",
       "      <td>116.0</td>\n",
       "      <td>133.0</td>\n",
       "      <td>166.0</td>\n",
       "      <td>136.0</td>\n",
       "      <td>...</td>\n",
       "      <td>99.0</td>\n",
       "      <td>230.0</td>\n",
       "      <td>194.0</td>\n",
       "      <td>276.0</td>\n",
       "      <td>246.0</td>\n",
       "      <td>158.0</td>\n",
       "      <td>198.0</td>\n",
       "      <td>142.0</td>\n",
       "      <td>72.0</td>\n",
       "      <td>164.875000</td>\n",
       "    </tr>\n",
       "    <tr>\n",
       "      <th>2018-08-31 20:00:00</th>\n",
       "      <td>154</td>\n",
       "      <td>4</td>\n",
       "      <td>20</td>\n",
       "      <td>136.0</td>\n",
       "      <td>207.0</td>\n",
       "      <td>217.0</td>\n",
       "      <td>197.0</td>\n",
       "      <td>116.0</td>\n",
       "      <td>133.0</td>\n",
       "      <td>166.0</td>\n",
       "      <td>...</td>\n",
       "      <td>268.0</td>\n",
       "      <td>99.0</td>\n",
       "      <td>230.0</td>\n",
       "      <td>194.0</td>\n",
       "      <td>276.0</td>\n",
       "      <td>246.0</td>\n",
       "      <td>158.0</td>\n",
       "      <td>198.0</td>\n",
       "      <td>142.0</td>\n",
       "      <td>167.541667</td>\n",
       "    </tr>\n",
       "    <tr>\n",
       "      <th>2018-08-31 21:00:00</th>\n",
       "      <td>159</td>\n",
       "      <td>4</td>\n",
       "      <td>21</td>\n",
       "      <td>154.0</td>\n",
       "      <td>136.0</td>\n",
       "      <td>207.0</td>\n",
       "      <td>217.0</td>\n",
       "      <td>197.0</td>\n",
       "      <td>116.0</td>\n",
       "      <td>133.0</td>\n",
       "      <td>...</td>\n",
       "      <td>78.0</td>\n",
       "      <td>268.0</td>\n",
       "      <td>99.0</td>\n",
       "      <td>230.0</td>\n",
       "      <td>194.0</td>\n",
       "      <td>276.0</td>\n",
       "      <td>246.0</td>\n",
       "      <td>158.0</td>\n",
       "      <td>198.0</td>\n",
       "      <td>168.041667</td>\n",
       "    </tr>\n",
       "    <tr>\n",
       "      <th>2018-08-31 22:00:00</th>\n",
       "      <td>223</td>\n",
       "      <td>4</td>\n",
       "      <td>22</td>\n",
       "      <td>159.0</td>\n",
       "      <td>154.0</td>\n",
       "      <td>136.0</td>\n",
       "      <td>207.0</td>\n",
       "      <td>217.0</td>\n",
       "      <td>197.0</td>\n",
       "      <td>116.0</td>\n",
       "      <td>...</td>\n",
       "      <td>35.0</td>\n",
       "      <td>78.0</td>\n",
       "      <td>268.0</td>\n",
       "      <td>99.0</td>\n",
       "      <td>230.0</td>\n",
       "      <td>194.0</td>\n",
       "      <td>276.0</td>\n",
       "      <td>246.0</td>\n",
       "      <td>158.0</td>\n",
       "      <td>166.416667</td>\n",
       "    </tr>\n",
       "    <tr>\n",
       "      <th>2018-08-31 23:00:00</th>\n",
       "      <td>205</td>\n",
       "      <td>4</td>\n",
       "      <td>23</td>\n",
       "      <td>223.0</td>\n",
       "      <td>159.0</td>\n",
       "      <td>154.0</td>\n",
       "      <td>136.0</td>\n",
       "      <td>207.0</td>\n",
       "      <td>217.0</td>\n",
       "      <td>197.0</td>\n",
       "      <td>...</td>\n",
       "      <td>46.0</td>\n",
       "      <td>35.0</td>\n",
       "      <td>78.0</td>\n",
       "      <td>268.0</td>\n",
       "      <td>99.0</td>\n",
       "      <td>230.0</td>\n",
       "      <td>194.0</td>\n",
       "      <td>276.0</td>\n",
       "      <td>246.0</td>\n",
       "      <td>169.125000</td>\n",
       "    </tr>\n",
       "  </tbody>\n",
       "</table>\n",
       "<p>4416 rows × 28 columns</p>\n",
       "</div>"
      ],
      "text/plain": [
       "                     num_orders  dayofweek  hour  lag_1  lag_2  lag_3  lag_4  \\\n",
       "datetime                                                                       \n",
       "2018-03-01 00:00:00         124          3     0    NaN    NaN    NaN    NaN   \n",
       "2018-03-01 01:00:00          85          3     1  124.0    NaN    NaN    NaN   \n",
       "2018-03-01 02:00:00          71          3     2   85.0  124.0    NaN    NaN   \n",
       "2018-03-01 03:00:00          66          3     3   71.0   85.0  124.0    NaN   \n",
       "2018-03-01 04:00:00          43          3     4   66.0   71.0   85.0  124.0   \n",
       "...                         ...        ...   ...    ...    ...    ...    ...   \n",
       "2018-08-31 19:00:00         136          4    19  207.0  217.0  197.0  116.0   \n",
       "2018-08-31 20:00:00         154          4    20  136.0  207.0  217.0  197.0   \n",
       "2018-08-31 21:00:00         159          4    21  154.0  136.0  207.0  217.0   \n",
       "2018-08-31 22:00:00         223          4    22  159.0  154.0  136.0  207.0   \n",
       "2018-08-31 23:00:00         205          4    23  223.0  159.0  154.0  136.0   \n",
       "\n",
       "                     lag_5  lag_6  lag_7  ...  lag_16  lag_17  lag_18  lag_19  \\\n",
       "datetime                                  ...                                   \n",
       "2018-03-01 00:00:00    NaN    NaN    NaN  ...     NaN     NaN     NaN     NaN   \n",
       "2018-03-01 01:00:00    NaN    NaN    NaN  ...     NaN     NaN     NaN     NaN   \n",
       "2018-03-01 02:00:00    NaN    NaN    NaN  ...     NaN     NaN     NaN     NaN   \n",
       "2018-03-01 03:00:00    NaN    NaN    NaN  ...     NaN     NaN     NaN     NaN   \n",
       "2018-03-01 04:00:00    NaN    NaN    NaN  ...     NaN     NaN     NaN     NaN   \n",
       "...                    ...    ...    ...  ...     ...     ...     ...     ...   \n",
       "2018-08-31 19:00:00  133.0  166.0  136.0  ...    99.0   230.0   194.0   276.0   \n",
       "2018-08-31 20:00:00  116.0  133.0  166.0  ...   268.0    99.0   230.0   194.0   \n",
       "2018-08-31 21:00:00  197.0  116.0  133.0  ...    78.0   268.0    99.0   230.0   \n",
       "2018-08-31 22:00:00  217.0  197.0  116.0  ...    35.0    78.0   268.0    99.0   \n",
       "2018-08-31 23:00:00  207.0  217.0  197.0  ...    46.0    35.0    78.0   268.0   \n",
       "\n",
       "                     lag_20  lag_21  lag_22  lag_23  lag_24  rolling_mean  \n",
       "datetime                                                                   \n",
       "2018-03-01 00:00:00     NaN     NaN     NaN     NaN     NaN           NaN  \n",
       "2018-03-01 01:00:00     NaN     NaN     NaN     NaN     NaN           NaN  \n",
       "2018-03-01 02:00:00     NaN     NaN     NaN     NaN     NaN           NaN  \n",
       "2018-03-01 03:00:00     NaN     NaN     NaN     NaN     NaN           NaN  \n",
       "2018-03-01 04:00:00     NaN     NaN     NaN     NaN     NaN           NaN  \n",
       "...                     ...     ...     ...     ...     ...           ...  \n",
       "2018-08-31 19:00:00   246.0   158.0   198.0   142.0    72.0    164.875000  \n",
       "2018-08-31 20:00:00   276.0   246.0   158.0   198.0   142.0    167.541667  \n",
       "2018-08-31 21:00:00   194.0   276.0   246.0   158.0   198.0    168.041667  \n",
       "2018-08-31 22:00:00   230.0   194.0   276.0   246.0   158.0    166.416667  \n",
       "2018-08-31 23:00:00    99.0   230.0   194.0   276.0   246.0    169.125000  \n",
       "\n",
       "[4416 rows x 28 columns]"
      ]
     },
     "execution_count": 12,
     "metadata": {},
     "output_type": "execute_result"
    }
   ],
   "source": [
    "frame = make_features(df, 24, 24)\n",
    "frame"
   ]
  },
  {
   "cell_type": "markdown",
   "metadata": {},
   "source": [
    "**Вывод:**\n",
    "\n",
    "- временной ряд стационарный\n",
    "- самый нагруженный день это пятница\n",
    "- количество заказов к осени увеличивается\n",
    "- пик заказов в 20:00-24:00, минимум заказов в 6 утра\n",
    "- остатки необъяснимы"
   ]
  },
  {
   "cell_type": "markdown",
   "metadata": {},
   "source": [
    "## Обучение"
   ]
  },
  {
   "cell_type": "code",
   "execution_count": 13,
   "metadata": {},
   "outputs": [],
   "source": [
    "#разделим выборки на тренировочную и тестовую\n",
    "train, test = train_test_split(frame, test_size=0.1, shuffle=False)\n",
    "train = train.dropna()"
   ]
  },
  {
   "cell_type": "code",
   "execution_count": 14,
   "metadata": {},
   "outputs": [
    {
     "name": "stdout",
     "output_type": "stream",
     "text": [
      "2018-03-02 00:00:00 2018-08-13 13:00:00\n",
      "2018-08-13 14:00:00 2018-08-31 23:00:00\n"
     ]
    }
   ],
   "source": [
    "#проверим выборки\n",
    "print(train.index.min(), train.index.max())\n",
    "print(test.index.min(), test.index.max())"
   ]
  },
  {
   "cell_type": "code",
   "execution_count": 15,
   "metadata": {},
   "outputs": [],
   "source": [
    "#разделим на признаки и целевой признак\n",
    "train_target = train['num_orders']\n",
    "test_target = test['num_orders']\n",
    "\n",
    "train_features = train.drop('num_orders', axis=1)\n",
    "test_features = test.drop('num_orders', axis=1) "
   ]
  },
  {
   "cell_type": "markdown",
   "metadata": {},
   "source": [
    "# LinearRegression"
   ]
  },
  {
   "cell_type": "code",
   "execution_count": 16,
   "metadata": {},
   "outputs": [
    {
     "name": "stdout",
     "output_type": "stream",
     "text": [
      "RMSE обучающей выборки = 27.133392250925603\n",
      "CPU times: total: 125 ms\n",
      "Wall time: 53.9 ms\n"
     ]
    }
   ],
   "source": [
    "%%time\n",
    "\n",
    "tscv = TimeSeriesSplit(n_splits=5)\n",
    "model_lr=LinearRegression()\n",
    "model_lr.fit(train_features, train_target)\n",
    "scores_lr = -cross_val_score(model_lr, \n",
    "                            train_features, \n",
    "                            train_target,\n",
    "                            cv=tscv, \n",
    "                            scoring='neg_root_mean_squared_error') \n",
    "train_rmse_lr = np.mean(scores_lr)\n",
    "print(\"RMSE обучающей выборки =\", train_rmse_lr)"
   ]
  },
  {
   "cell_type": "code",
   "execution_count": 17,
   "metadata": {},
   "outputs": [],
   "source": [
    "importances_lr = pd.DataFrame(data={\n",
    "    'Attribute': train_features.columns,\n",
    "    'Importance': model_lr.coef_\n",
    "})\n",
    "importances_lr = importances_lr.sort_values(by='Importance', ascending=False)"
   ]
  },
  {
   "cell_type": "code",
   "execution_count": 18,
   "metadata": {},
   "outputs": [
    {
     "data": {
      "image/png": "[encoded data removed]",
      "text/plain": [
       "<Figure size 2000x800 with 1 Axes>"
      ]
     },
     "metadata": {},
     "output_type": "display_data"
    }
   ],
   "source": [
    "plt.rcParams[\"figure.figsize\"] = (20,8)\n",
    "plt.bar(x=importances_lr['Attribute'], height=importances_lr['Importance'], color='#087E8B')\n",
    "plt.title('Важность признаков', size=20)\n",
    "plt.xticks(rotation='vertical')\n",
    "plt.show()"
   ]
  },
  {
   "cell_type": "markdown",
   "metadata": {},
   "source": [
    "# LGBMRegressor"
   ]
  },
  {
   "cell_type": "code",
   "execution_count": 19,
   "metadata": {},
   "outputs": [
    {
     "name": "stdout",
     "output_type": "stream",
     "text": [
      "[LightGBM] [Warning] Accuracy may be bad since you didn't explicitly set num_leaves OR 2^max_depth > num_leaves. (num_leaves=31).\n",
      "[LightGBM] [Warning] Accuracy may be bad since you didn't explicitly set num_leaves OR 2^max_depth > num_leaves. (num_leaves=31).\n",
      "[LightGBM] [Info] Auto-choosing col-wise multi-threading, the overhead of testing was 0.000353 seconds.\n",
      "You can set `force_col_wise=true` to remove the overhead.\n",
      "[LightGBM] [Info] Total Bins 4836\n",
      "[LightGBM] [Info] Number of data points in the train set: 3950, number of used features: 27\n",
      "[LightGBM] [Info] Start training from score 78.421013\n",
      "[LightGBM] [Warning] No further splits with positive gain, best gain: -inf\n",
      "[LightGBM] [Warning] No further splits with positive gain, best gain: -inf\n",
      "[LightGBM] [Warning] Accuracy may be bad since you didn't explicitly set num_leaves OR 2^max_depth > num_leaves. (num_leaves=31).\n",
      "[LightGBM] [Warning] Accuracy may be bad since you didn't explicitly set num_leaves OR 2^max_depth > num_leaves. (num_leaves=31).\n",
      "[LightGBM] [Info] Auto-choosing col-wise multi-threading, the overhead of testing was 0.000190 seconds.\n",
      "You can set `force_col_wise=true` to remove the overhead.\n",
      "[LightGBM] [Info] Total Bins 2688\n",
      "[LightGBM] [Info] Number of data points in the train set: 660, number of used features: 27\n",
      "[LightGBM] [Info] Start training from score 57.103030\n",
      "[LightGBM] [Warning] No further splits with positive gain, best gain: -inf\n",
      "[LightGBM] [Warning] No further splits with positive gain, best gain: -inf\n",
      "[LightGBM] [Warning] No further splits with positive gain, best gain: -inf\n",
      "[LightGBM] [Warning] No further splits with positive gain, best gain: -inf\n",
      "[LightGBM] [Warning] No further splits with positive gain, best gain: -inf\n",
      "[LightGBM] [Warning] No further splits with positive gain, best gain: -inf\n",
      "[LightGBM] [Warning] No further splits with positive gain, best gain: -inf\n",
      "[LightGBM] [Warning] No further splits with positive gain, best gain: -inf\n",
      "[LightGBM] [Warning] No further splits with positive gain, best gain: -inf\n",
      "[LightGBM] [Warning] No further splits with positive gain, best gain: -inf\n",
      "[LightGBM] [Warning] No further splits with positive gain, best gain: -inf\n",
      "[LightGBM] [Warning] No further splits with positive gain, best gain: -inf\n",
      "[LightGBM] [Warning] No further splits with positive gain, best gain: -inf\n",
      "[LightGBM] [Warning] No further splits with positive gain, best gain: -inf\n",
      "[LightGBM] [Warning] No further splits with positive gain, best gain: -inf\n",
      "[LightGBM] [Warning] No further splits with positive gain, best gain: -inf\n",
      "[LightGBM] [Warning] No further splits with positive gain, best gain: -inf\n",
      "[LightGBM] [Warning] No further splits with positive gain, best gain: -inf\n",
      "[LightGBM] [Warning] No further splits with positive gain, best gain: -inf\n",
      "[LightGBM] [Warning] No further splits with positive gain, best gain: -inf\n",
      "[LightGBM] [Warning] No further splits with positive gain, best gain: -inf\n",
      "[LightGBM] [Warning] No further splits with positive gain, best gain: -inf\n",
      "[LightGBM] [Warning] No further splits with positive gain, best gain: -inf\n",
      "[LightGBM] [Warning] No further splits with positive gain, best gain: -inf\n",
      "[LightGBM] [Warning] No further splits with positive gain, best gain: -inf\n",
      "[LightGBM] [Warning] No further splits with positive gain, best gain: -inf\n",
      "[LightGBM] [Warning] No further splits with positive gain, best gain: -inf\n",
      "[LightGBM] [Warning] No further splits with positive gain, best gain: -inf\n",
      "[LightGBM] [Warning] No further splits with positive gain, best gain: -inf\n",
      "[LightGBM] [Warning] No further splits with positive gain, best gain: -inf\n",
      "[LightGBM] [Warning] No further splits with positive gain, best gain: -inf\n",
      "[LightGBM] [Warning] No further splits with positive gain, best gain: -inf\n",
      "[LightGBM] [Warning] No further splits with positive gain, best gain: -inf\n",
      "[LightGBM] [Warning] No further splits with positive gain, best gain: -inf\n",
      "[LightGBM] [Warning] No further splits with positive gain, best gain: -inf\n",
      "[LightGBM] [Warning] No further splits with positive gain, best gain: -inf\n",
      "[LightGBM] [Warning] No further splits with positive gain, best gain: -inf\n",
      "[LightGBM] [Warning] No further splits with positive gain, best gain: -inf\n",
      "[LightGBM] [Warning] No further splits with positive gain, best gain: -inf\n",
      "[LightGBM] [Warning] No further splits with positive gain, best gain: -inf\n",
      "[LightGBM] [Warning] No further splits with positive gain, best gain: -inf\n",
      "[LightGBM] [Warning] No further splits with positive gain, best gain: -inf\n",
      "[LightGBM] [Warning] No further splits with positive gain, best gain: -inf\n",
      "[LightGBM] [Warning] No further splits with positive gain, best gain: -inf\n",
      "[LightGBM] [Warning] No further splits with positive gain, best gain: -inf\n",
      "[LightGBM] [Warning] No further splits with positive gain, best gain: -inf\n",
      "[LightGBM] [Warning] No further splits with positive gain, best gain: -inf\n",
      "[LightGBM] [Warning] No further splits with positive gain, best gain: -inf\n",
      "[LightGBM] [Warning] No further splits with positive gain, best gain: -inf\n",
      "[LightGBM] [Warning] No further splits with positive gain, best gain: -inf\n",
      "[LightGBM] [Warning] No further splits with positive gain, best gain: -inf\n",
      "[LightGBM] [Warning] No further splits with positive gain, best gain: -inf\n",
      "[LightGBM] [Warning] No further splits with positive gain, best gain: -inf\n",
      "[LightGBM] [Warning] No further splits with positive gain, best gain: -inf\n",
      "[LightGBM] [Warning] No further splits with positive gain, best gain: -inf\n",
      "[LightGBM] [Warning] No further splits with positive gain, best gain: -inf\n",
      "[LightGBM] [Warning] No further splits with positive gain, best gain: -inf\n",
      "[LightGBM] [Warning] No further splits with positive gain, best gain: -inf\n",
      "[LightGBM] [Warning] No further splits with positive gain, best gain: -inf\n",
      "[LightGBM] [Warning] No further splits with positive gain, best gain: -inf\n",
      "[LightGBM] [Warning] No further splits with positive gain, best gain: -inf\n",
      "[LightGBM] [Warning] No further splits with positive gain, best gain: -inf\n",
      "[LightGBM] [Warning] No further splits with positive gain, best gain: -inf\n",
      "[LightGBM] [Warning] No further splits with positive gain, best gain: -inf\n",
      "[LightGBM] [Warning] No further splits with positive gain, best gain: -inf\n",
      "[LightGBM] [Warning] No further splits with positive gain, best gain: -inf\n",
      "[LightGBM] [Warning] No further splits with positive gain, best gain: -inf\n",
      "[LightGBM] [Warning] No further splits with positive gain, best gain: -inf\n",
      "[LightGBM] [Warning] No further splits with positive gain, best gain: -inf\n",
      "[LightGBM] [Warning] No further splits with positive gain, best gain: -inf\n",
      "[LightGBM] [Warning] No further splits with positive gain, best gain: -inf\n",
      "[LightGBM] [Warning] No further splits with positive gain, best gain: -inf\n",
      "[LightGBM] [Warning] No further splits with positive gain, best gain: -inf\n",
      "[LightGBM] [Warning] No further splits with positive gain, best gain: -inf\n",
      "[LightGBM] [Warning] No further splits with positive gain, best gain: -inf\n",
      "[LightGBM] [Warning] No further splits with positive gain, best gain: -inf\n",
      "[LightGBM] [Warning] No further splits with positive gain, best gain: -inf\n",
      "[LightGBM] [Warning] No further splits with positive gain, best gain: -inf\n",
      "[LightGBM] [Warning] No further splits with positive gain, best gain: -inf\n",
      "[LightGBM] [Warning] No further splits with positive gain, best gain: -inf\n",
      "[LightGBM] [Warning] No further splits with positive gain, best gain: -inf\n",
      "[LightGBM] [Warning] No further splits with positive gain, best gain: -inf\n",
      "[LightGBM] [Warning] No further splits with positive gain, best gain: -inf\n",
      "[LightGBM] [Warning] No further splits with positive gain, best gain: -inf\n",
      "[LightGBM] [Warning] No further splits with positive gain, best gain: -inf\n",
      "[LightGBM] [Warning] No further splits with positive gain, best gain: -inf\n",
      "[LightGBM] [Warning] No further splits with positive gain, best gain: -inf\n",
      "[LightGBM] [Warning] No further splits with positive gain, best gain: -inf\n",
      "[LightGBM] [Warning] No further splits with positive gain, best gain: -inf\n",
      "[LightGBM] [Warning] No further splits with positive gain, best gain: -inf\n",
      "[LightGBM] [Warning] No further splits with positive gain, best gain: -inf\n",
      "[LightGBM] [Warning] No further splits with positive gain, best gain: -inf\n",
      "[LightGBM] [Warning] No further splits with positive gain, best gain: -inf\n",
      "[LightGBM] [Warning] No further splits with positive gain, best gain: -inf\n",
      "[LightGBM] [Warning] No further splits with positive gain, best gain: -inf\n",
      "[LightGBM] [Warning] No further splits with positive gain, best gain: -inf\n",
      "[LightGBM] [Warning] No further splits with positive gain, best gain: -inf\n",
      "[LightGBM] [Warning] No further splits with positive gain, best gain: -inf\n",
      "[LightGBM] [Warning] No further splits with positive gain, best gain: -inf\n",
      "[LightGBM] [Warning] No further splits with positive gain, best gain: -inf\n",
      "[LightGBM] [Warning] Accuracy may be bad since you didn't explicitly set num_leaves OR 2^max_depth > num_leaves. (num_leaves=31).\n",
      "[LightGBM] [Warning] Accuracy may be bad since you didn't explicitly set num_leaves OR 2^max_depth > num_leaves. (num_leaves=31).\n",
      "[LightGBM] [Warning] Accuracy may be bad since you didn't explicitly set num_leaves OR 2^max_depth > num_leaves. (num_leaves=31).\n",
      "[LightGBM] [Info] Auto-choosing col-wise multi-threading, the overhead of testing was 0.000259 seconds.\n",
      "You can set `force_col_wise=true` to remove the overhead.\n",
      "[LightGBM] [Info] Total Bins 3334\n",
      "[LightGBM] [Info] Number of data points in the train set: 1318, number of used features: 27\n",
      "[LightGBM] [Info] Start training from score 59.327769\n",
      "[LightGBM] [Warning] No further splits with positive gain, best gain: -inf\n",
      "[LightGBM] [Warning] No further splits with positive gain, best gain: -inf\n",
      "[LightGBM] [Warning] No further splits with positive gain, best gain: -inf\n",
      "[LightGBM] [Warning] No further splits with positive gain, best gain: -inf\n",
      "[LightGBM] [Warning] No further splits with positive gain, best gain: -inf\n",
      "[LightGBM] [Warning] No further splits with positive gain, best gain: -inf\n",
      "[LightGBM] [Warning] No further splits with positive gain, best gain: -inf\n",
      "[LightGBM] [Warning] No further splits with positive gain, best gain: -inf\n",
      "[LightGBM] [Warning] No further splits with positive gain, best gain: -inf\n",
      "[LightGBM] [Warning] No further splits with positive gain, best gain: -inf\n",
      "[LightGBM] [Warning] No further splits with positive gain, best gain: -inf\n",
      "[LightGBM] [Warning] No further splits with positive gain, best gain: -inf\n",
      "[LightGBM] [Warning] No further splits with positive gain, best gain: -inf\n",
      "[LightGBM] [Warning] No further splits with positive gain, best gain: -inf\n",
      "[LightGBM] [Warning] No further splits with positive gain, best gain: -inf\n",
      "[LightGBM] [Warning] No further splits with positive gain, best gain: -inf\n",
      "[LightGBM] [Warning] No further splits with positive gain, best gain: -inf\n",
      "[LightGBM] [Warning] No further splits with positive gain, best gain: -inf\n",
      "[LightGBM] [Warning] No further splits with positive gain, best gain: -inf\n",
      "[LightGBM] [Warning] No further splits with positive gain, best gain: -inf\n",
      "[LightGBM] [Warning] No further splits with positive gain, best gain: -inf\n",
      "[LightGBM] [Warning] No further splits with positive gain, best gain: -inf\n",
      "[LightGBM] [Warning] No further splits with positive gain, best gain: -inf\n",
      "[LightGBM] [Warning] No further splits with positive gain, best gain: -inf\n",
      "[LightGBM] [Warning] No further splits with positive gain, best gain: -inf\n",
      "[LightGBM] [Warning] No further splits with positive gain, best gain: -inf\n",
      "[LightGBM] [Warning] No further splits with positive gain, best gain: -inf\n",
      "[LightGBM] [Warning] Accuracy may be bad since you didn't explicitly set num_leaves OR 2^max_depth > num_leaves. (num_leaves=31).\n",
      "[LightGBM] [Warning] Accuracy may be bad since you didn't explicitly set num_leaves OR 2^max_depth > num_leaves. (num_leaves=31).\n",
      "[LightGBM] [Warning] Accuracy may be bad since you didn't explicitly set num_leaves OR 2^max_depth > num_leaves. (num_leaves=31).\n",
      "[LightGBM] [Info] Auto-choosing col-wise multi-threading, the overhead of testing was 0.000365 seconds.\n",
      "You can set `force_col_wise=true` to remove the overhead.\n",
      "[LightGBM] [Info] Total Bins 3710\n",
      "[LightGBM] [Info] Number of data points in the train set: 1976, number of used features: 27\n",
      "[LightGBM] [Info] Start training from score 63.373482\n",
      "[LightGBM] [Warning] No further splits with positive gain, best gain: -inf\n",
      "[LightGBM] [Warning] No further splits with positive gain, best gain: -inf\n",
      "[LightGBM] [Warning] No further splits with positive gain, best gain: -inf\n",
      "[LightGBM] [Warning] No further splits with positive gain, best gain: -inf\n",
      "[LightGBM] [Warning] No further splits with positive gain, best gain: -inf\n",
      "[LightGBM] [Warning] No further splits with positive gain, best gain: -inf\n",
      "[LightGBM] [Warning] No further splits with positive gain, best gain: -inf\n",
      "[LightGBM] [Warning] No further splits with positive gain, best gain: -inf\n",
      "[LightGBM] [Warning] Accuracy may be bad since you didn't explicitly set num_leaves OR 2^max_depth > num_leaves. (num_leaves=31).\n",
      "[LightGBM] [Warning] Accuracy may be bad since you didn't explicitly set num_leaves OR 2^max_depth > num_leaves. (num_leaves=31).\n",
      "[LightGBM] [Warning] Accuracy may be bad since you didn't explicitly set num_leaves OR 2^max_depth > num_leaves. (num_leaves=31).\n",
      "[LightGBM] [Info] Auto-choosing col-wise multi-threading, the overhead of testing was 0.000376 seconds.\n",
      "You can set `force_col_wise=true` to remove the overhead.\n",
      "[LightGBM] [Info] Total Bins 4054\n",
      "[LightGBM] [Info] Number of data points in the train set: 2634, number of used features: 27\n",
      "[LightGBM] [Info] Start training from score 67.753227\n",
      "[LightGBM] [Warning] No further splits with positive gain, best gain: -inf\n",
      "[LightGBM] [Warning] No further splits with positive gain, best gain: -inf\n",
      "[LightGBM] [Warning] No further splits with positive gain, best gain: -inf\n",
      "[LightGBM] [Warning] No further splits with positive gain, best gain: -inf\n",
      "[LightGBM] [Warning] No further splits with positive gain, best gain: -inf\n",
      "[LightGBM] [Warning] No further splits with positive gain, best gain: -inf\n",
      "[LightGBM] [Warning] No further splits with positive gain, best gain: -inf\n",
      "[LightGBM] [Warning] Accuracy may be bad since you didn't explicitly set num_leaves OR 2^max_depth > num_leaves. (num_leaves=31).\n",
      "[LightGBM] [Warning] Accuracy may be bad since you didn't explicitly set num_leaves OR 2^max_depth > num_leaves. (num_leaves=31).\n",
      "[LightGBM] [Warning] Accuracy may be bad since you didn't explicitly set num_leaves OR 2^max_depth > num_leaves. (num_leaves=31).\n",
      "[LightGBM] [Info] Auto-choosing col-wise multi-threading, the overhead of testing was 0.000587 seconds.\n",
      "You can set `force_col_wise=true` to remove the overhead.\n",
      "[LightGBM] [Info] Total Bins 4437\n",
      "[LightGBM] [Info] Number of data points in the train set: 3292, number of used features: 27\n",
      "[LightGBM] [Info] Start training from score 72.570170\n",
      "[LightGBM] [Warning] No further splits with positive gain, best gain: -inf\n",
      "[LightGBM] [Warning] No further splits with positive gain, best gain: -inf\n",
      "[LightGBM] [Warning] No further splits with positive gain, best gain: -inf\n",
      "[LightGBM] [Warning] Accuracy may be bad since you didn't explicitly set num_leaves OR 2^max_depth > num_leaves. (num_leaves=31).\n",
      "RMSE обучающей выборки = 25.52392665677757\n",
      "CPU times: total: 2.28 s\n",
      "Wall time: 459 ms\n"
     ]
    }
   ],
   "source": [
    "%%time\n",
    "\n",
    "tscv = TimeSeriesSplit(n_splits=5)\n",
    "model_LGBMR = LGBMRegressor(boosting_type='gbdt', num_leaves=31, max_depth=12, learning_rate=0.2, n_estimators=100, random_state=12345)\n",
    "model_LGBMR.fit(train_features, train_target)\n",
    "scores_LGBMR = -cross_val_score(model_LGBMR, \n",
    "                            train_features, \n",
    "                            train_target,\n",
    "                            cv=tscv, \n",
    "                            scoring='neg_root_mean_squared_error') \n",
    "train_rmse_LGBMR = np.mean(scores_LGBMR)\n",
    "print(\"RMSE обучающей выборки =\", train_rmse_LGBMR)"
   ]
  },
  {
   "cell_type": "code",
   "execution_count": 20,
   "metadata": {},
   "outputs": [],
   "source": [
    "importances_LGBMR = pd.DataFrame(data={\n",
    "    'Attribute': train_features.columns,\n",
    "    'Importance': model_LGBMR.feature_importances_\n",
    "})\n",
    "importances_LGBMR = importances_LGBMR.sort_values(by='Importance', ascending=False)"
   ]
  },
  {
   "cell_type": "code",
   "execution_count": 21,
   "metadata": {},
   "outputs": [
    {
     "data": {
      "image/png": "[encoded data removed]",
      "text/plain": [
       "<Figure size 2000x800 with 1 Axes>"
      ]
     },
     "metadata": {},
     "output_type": "display_data"
    }
   ],
   "source": [
    "plt.rcParams[\"figure.figsize\"] = (20,8)\n",
    "plt.bar(x=importances_lr['Attribute'], height=importances_lr['Importance'], color='#087E8B')\n",
    "plt.title('Важность признаков', size=20)\n",
    "plt.xticks(rotation='vertical')\n",
    "plt.show()"
   ]
  },
  {
   "cell_type": "markdown",
   "metadata": {},
   "source": [
    "# CatBoostRegressor"
   ]
  },
  {
   "cell_type": "code",
   "execution_count": 22,
   "metadata": {},
   "outputs": [
    {
     "name": "stdout",
     "output_type": "stream",
     "text": [
      "RMSE обучающей выборки = 24.737448034056154\n",
      "CPU times: total: 12.2 s\n",
      "Wall time: 1.73 s\n"
     ]
    }
   ],
   "source": [
    "%%time\n",
    "\n",
    "tscv = TimeSeriesSplit(n_splits=5)\n",
    "model_cbr = CatBoostRegressor(loss_function='RMSE', n_estimators = 100, silent = True)\n",
    "model_cbr.fit(train_features, train_target)\n",
    "scores_cbr = -cross_val_score(model_cbr, \n",
    "                            train_features, \n",
    "                            train_target,\n",
    "                            cv=tscv, \n",
    "                            scoring='neg_root_mean_squared_error') \n",
    "train_rmse_cbr = np.mean(scores_cbr)\n",
    "print(\"RMSE обучающей выборки =\", train_rmse_cbr) "
   ]
  },
  {
   "cell_type": "code",
   "execution_count": 23,
   "metadata": {},
   "outputs": [],
   "source": [
    "importances_cbr = pd.DataFrame(data={\n",
    "    'Attribute': train_features.columns,\n",
    "    'Importance': model_cbr.feature_importances_\n",
    "})\n",
    "importances_cbr = importances_cbr.sort_values(by='Importance', ascending=False)"
   ]
  },
  {
   "cell_type": "code",
   "execution_count": 24,
   "metadata": {},
   "outputs": [
    {
     "data": {
      "image/png": "[encoded data removed]",
      "text/plain": [
       "<Figure size 2000x800 with 1 Axes>"
      ]
     },
     "metadata": {},
     "output_type": "display_data"
    }
   ],
   "source": [
    "plt.rcParams[\"figure.figsize\"] = (20,8)\n",
    "plt.bar(x=importances_lr['Attribute'], height=importances_lr['Importance'], color='#087E8B')\n",
    "plt.title('Важность признаков', size=20)\n",
    "plt.xticks(rotation='vertical')\n",
    "plt.show()"
   ]
  },
  {
   "cell_type": "markdown",
   "metadata": {},
   "source": [
    "**Вывод:**\n",
    "\n",
    "Наименьшее значение RMSE получилось у модели `CatBoostRegressor` равное 24.74, ее и будем тестировать"
   ]
  },
  {
   "cell_type": "markdown",
   "metadata": {},
   "source": [
    "## Тестирование"
   ]
  },
  {
   "cell_type": "code",
   "execution_count": 25,
   "metadata": {},
   "outputs": [
    {
     "name": "stdout",
     "output_type": "stream",
     "text": [
      "RMSE тестовой выборки = 40.82418827166889\n",
      "RMSE for Constant Model: 62.05343632125475\n"
     ]
    }
   ],
   "source": [
    "test_scores_cbr = -cross_val_score(model_cbr, \n",
    "                            test_features, \n",
    "                            test_target,\n",
    "                            cv=5, \n",
    "                            scoring='neg_root_mean_squared_error') \n",
    "test_rmse_cbr = np.mean(test_scores_cbr)\n",
    "print(\"RMSE тестовой выборки =\", test_rmse_cbr)\n",
    "#прогноз модели по прошлом ряду\n",
    "pred_previous = np.ones(test_target.shape) * train_target.iloc[-1]\n",
    "print(\"RMSE for Constant Model:\", np.sqrt(mean_squared_error(test_target, pred_previous)))"
   ]
  },
  {
   "cell_type": "code",
   "execution_count": 26,
   "metadata": {},
   "outputs": [
    {
     "data": {
      "image/png": "[encoded data removed]",
      "text/plain": [
       "<Figure size 2000x600 with 1 Axes>"
      ]
     },
     "metadata": {},
     "output_type": "display_data"
    }
   ],
   "source": [
    "fig, ax = plt.subplots(figsize=(20, 6))\n",
    "ax.plot(pd.Series(model_cbr.predict(test_features), index = test_target.index), label='График предсказанных рядов')\n",
    "ax.plot(test_target, label='График исходного ряда')\n",
    "legend = ax.legend(loc='upper right', shadow=True, fontsize= 10)"
   ]
  },
  {
   "cell_type": "markdown",
   "metadata": {},
   "source": [
    "**Вывод:**\n",
    "\n",
    "Получили RMSE модели CatBoost на тестовой выборки = 39.41. Модель хорошо предсказываем минимальные значения заказов, пиковые значения предсказывает хуже"
   ]
  },
  {
   "cell_type": "markdown",
   "metadata": {},
   "source": [
    "**Общий вывод:**\n",
    "\n",
    "- Загрузили данные, выполнили их ресемплирование по одному часу\n",
    "- Проанализировали данные\n",
    "- Обучили три модели: Линейную регрессию, LightGBM, Catboost\n",
    "- Проверили данные на тестовой выборке\n",
    "- Выбрали лучшую модель, у которой значение RMSE на тестовой выборке не больше 48\n",
    "\n",
    " Лучшей моделью оказалась `CatBoost`:\n",
    "- RMSE = 39.41"
   ]
  }
 ],
 "metadata": {
  "ExecuteTimeLog": [
   {
    "duration": 1272,
    "start_time": "2023-08-10T15:21:46.694Z"
   },
   {
    "duration": 425,
    "start_time": "2023-08-10T15:22:45.222Z"
   },
   {
    "duration": 5,
    "start_time": "2023-08-10T15:23:21.225Z"
   },
   {
    "duration": 281,
    "start_time": "2023-08-10T15:23:54.542Z"
   },
   {
    "duration": 122,
    "start_time": "2023-08-10T15:25:31.316Z"
   },
   {
    "duration": 12,
    "start_time": "2023-08-10T15:25:33.625Z"
   },
   {
    "duration": 51,
    "start_time": "2023-08-10T15:25:33.883Z"
   },
   {
    "duration": 14,
    "start_time": "2023-08-10T15:25:47.699Z"
   },
   {
    "duration": 19045,
    "start_time": "2023-08-10T15:26:28.539Z"
   },
   {
    "duration": 0,
    "start_time": "2023-08-10T15:26:47.586Z"
   },
   {
    "duration": 2371,
    "start_time": "2023-08-10T15:27:56.529Z"
   },
   {
    "duration": 1202,
    "start_time": "2023-08-10T15:28:07.708Z"
   },
   {
    "duration": 50,
    "start_time": "2023-08-10T15:28:08.912Z"
   },
   {
    "duration": 2392,
    "start_time": "2023-08-10T15:28:08.965Z"
   },
   {
    "duration": 6,
    "start_time": "2023-08-10T15:28:29.505Z"
   },
   {
    "duration": 47,
    "start_time": "2023-08-10T15:28:29.785Z"
   },
   {
    "duration": 5230,
    "start_time": "2023-08-10T15:28:30.281Z"
   },
   {
    "duration": 2079,
    "start_time": "2023-08-10T15:30:10.555Z"
   },
   {
    "duration": 2250,
    "start_time": "2023-08-10T15:30:22.014Z"
   },
   {
    "duration": 2019,
    "start_time": "2023-08-10T15:30:24.267Z"
   },
   {
    "duration": 46,
    "start_time": "2023-08-10T15:30:26.287Z"
   },
   {
    "duration": 161,
    "start_time": "2023-08-10T15:30:26.335Z"
   },
   {
    "duration": 13,
    "start_time": "2023-08-10T15:30:30.802Z"
   },
   {
    "duration": 2328,
    "start_time": "2023-08-10T15:30:43.306Z"
   },
   {
    "duration": 2092,
    "start_time": "2023-08-10T15:30:45.636Z"
   },
   {
    "duration": 47,
    "start_time": "2023-08-10T15:30:47.729Z"
   },
   {
    "duration": 2612,
    "start_time": "2023-08-10T15:30:47.778Z"
   },
   {
    "duration": 2434,
    "start_time": "2023-08-10T15:31:46.695Z"
   },
   {
    "duration": 2267,
    "start_time": "2023-08-10T15:31:49.131Z"
   },
   {
    "duration": 46,
    "start_time": "2023-08-10T15:31:51.400Z"
   },
   {
    "duration": 172,
    "start_time": "2023-08-10T15:31:51.448Z"
   },
   {
    "duration": 2491,
    "start_time": "2023-08-10T15:31:55.119Z"
   },
   {
    "duration": 2387,
    "start_time": "2023-08-10T15:32:54.126Z"
   },
   {
    "duration": 2179,
    "start_time": "2023-08-10T15:32:56.515Z"
   },
   {
    "duration": 47,
    "start_time": "2023-08-10T15:32:58.696Z"
   },
   {
    "duration": 2534,
    "start_time": "2023-08-10T15:32:58.745Z"
   },
   {
    "duration": 2323,
    "start_time": "2023-08-10T15:34:04.099Z"
   },
   {
    "duration": 2202,
    "start_time": "2023-08-10T15:34:06.425Z"
   },
   {
    "duration": 48,
    "start_time": "2023-08-10T15:34:08.629Z"
   },
   {
    "duration": 2547,
    "start_time": "2023-08-10T15:34:08.679Z"
   },
   {
    "duration": 2284,
    "start_time": "2023-08-10T15:36:36.051Z"
   },
   {
    "duration": 4999,
    "start_time": "2023-08-10T15:40:41.489Z"
   },
   {
    "duration": 24,
    "start_time": "2023-08-10T15:44:09.489Z"
   },
   {
    "duration": 22,
    "start_time": "2023-08-10T15:47:59.958Z"
   },
   {
    "duration": 7,
    "start_time": "2023-08-10T15:48:04.862Z"
   },
   {
    "duration": 14,
    "start_time": "2023-08-10T15:48:13.619Z"
   },
   {
    "duration": 11,
    "start_time": "2023-08-10T15:48:40.510Z"
   },
   {
    "duration": 53,
    "start_time": "2023-08-10T15:57:32.000Z"
   },
   {
    "duration": 10,
    "start_time": "2023-08-10T15:57:38.597Z"
   },
   {
    "duration": 17,
    "start_time": "2023-08-10T15:57:42.781Z"
   },
   {
    "duration": 21,
    "start_time": "2023-08-10T15:57:56.951Z"
   },
   {
    "duration": 16,
    "start_time": "2023-08-10T15:57:58.825Z"
   },
   {
    "duration": 1521,
    "start_time": "2023-08-10T15:58:04.806Z"
   },
   {
    "duration": 5,
    "start_time": "2023-08-10T15:59:30.478Z"
   },
   {
    "duration": 12,
    "start_time": "2023-08-10T16:00:05.778Z"
   },
   {
    "duration": 709,
    "start_time": "2023-08-10T16:02:02.969Z"
   },
   {
    "duration": 3,
    "start_time": "2023-08-10T16:02:52.908Z"
   },
   {
    "duration": 1541,
    "start_time": "2023-08-10T16:03:00.691Z"
   },
   {
    "duration": 5,
    "start_time": "2023-08-10T16:03:54.018Z"
   },
   {
    "duration": 8,
    "start_time": "2023-08-10T16:04:05.670Z"
   },
   {
    "duration": 6,
    "start_time": "2023-08-10T16:04:10.474Z"
   },
   {
    "duration": 7,
    "start_time": "2023-08-10T16:04:13.494Z"
   },
   {
    "duration": 7,
    "start_time": "2023-08-10T16:04:30.004Z"
   },
   {
    "duration": 8,
    "start_time": "2023-08-10T16:15:41.209Z"
   },
   {
    "duration": 3,
    "start_time": "2023-08-10T16:17:45.183Z"
   },
   {
    "duration": 3,
    "start_time": "2023-08-10T16:17:45.683Z"
   },
   {
    "duration": 3,
    "start_time": "2023-08-10T16:17:51.488Z"
   },
   {
    "duration": 2311,
    "start_time": "2023-08-10T16:17:51.493Z"
   },
   {
    "duration": 55,
    "start_time": "2023-08-10T16:17:53.807Z"
   },
   {
    "duration": 3,
    "start_time": "2023-08-10T16:17:53.864Z"
   },
   {
    "duration": 12,
    "start_time": "2023-08-10T16:17:53.869Z"
   },
   {
    "duration": 689,
    "start_time": "2023-08-10T16:17:53.882Z"
   },
   {
    "duration": 1686,
    "start_time": "2023-08-10T16:17:54.572Z"
   },
   {
    "duration": 9,
    "start_time": "2023-08-10T16:19:01.773Z"
   },
   {
    "duration": 5,
    "start_time": "2023-08-10T16:19:07.757Z"
   },
   {
    "duration": 235,
    "start_time": "2023-08-10T16:19:37.900Z"
   },
   {
    "duration": 1364,
    "start_time": "2023-08-10T16:19:49.295Z"
   },
   {
    "duration": 6,
    "start_time": "2023-08-10T16:20:09.622Z"
   },
   {
    "duration": 176,
    "start_time": "2023-08-10T16:20:16.314Z"
   },
   {
    "duration": 7,
    "start_time": "2023-08-10T16:20:20.992Z"
   },
   {
    "duration": 7,
    "start_time": "2023-08-10T16:20:59.386Z"
   },
   {
    "duration": 18,
    "start_time": "2023-08-10T16:22:32.501Z"
   },
   {
    "duration": 17,
    "start_time": "2023-08-10T16:22:44.217Z"
   },
   {
    "duration": 12,
    "start_time": "2023-08-10T16:22:44.986Z"
   },
   {
    "duration": 13,
    "start_time": "2023-08-10T16:26:07.220Z"
   },
   {
    "duration": 13,
    "start_time": "2023-08-10T16:26:09.371Z"
   },
   {
    "duration": 14,
    "start_time": "2023-08-10T16:26:13.657Z"
   },
   {
    "duration": 12,
    "start_time": "2023-08-10T16:27:45.485Z"
   },
   {
    "duration": 31,
    "start_time": "2023-08-10T16:28:25.022Z"
   },
   {
    "duration": 4,
    "start_time": "2023-08-10T16:29:42.493Z"
   },
   {
    "duration": 27,
    "start_time": "2023-08-10T16:29:42.708Z"
   },
   {
    "duration": 8,
    "start_time": "2023-08-10T16:31:46.288Z"
   },
   {
    "duration": 34179,
    "start_time": "2023-08-10T16:31:50.375Z"
   },
   {
    "duration": 10,
    "start_time": "2023-08-10T16:32:24.558Z"
   },
   {
    "duration": 3,
    "start_time": "2023-08-10T16:33:05.275Z"
   },
   {
    "duration": 14,
    "start_time": "2023-08-10T16:33:05.623Z"
   },
   {
    "duration": 14,
    "start_time": "2023-08-10T16:33:23.815Z"
   },
   {
    "duration": 13,
    "start_time": "2023-08-10T16:33:24.106Z"
   },
   {
    "duration": 4,
    "start_time": "2023-08-10T16:33:34.899Z"
   },
   {
    "duration": 2172,
    "start_time": "2023-08-10T16:33:34.905Z"
   },
   {
    "duration": 52,
    "start_time": "2023-08-10T16:33:37.079Z"
   },
   {
    "duration": 3,
    "start_time": "2023-08-10T16:33:37.133Z"
   },
   {
    "duration": 12,
    "start_time": "2023-08-10T16:33:37.138Z"
   },
   {
    "duration": 25,
    "start_time": "2023-08-10T16:33:37.152Z"
   },
   {
    "duration": 1587,
    "start_time": "2023-08-10T16:33:37.179Z"
   },
   {
    "duration": 7,
    "start_time": "2023-08-10T16:33:38.768Z"
   },
   {
    "duration": 11,
    "start_time": "2023-08-10T16:33:38.777Z"
   },
   {
    "duration": 5,
    "start_time": "2023-08-10T16:33:38.790Z"
   },
   {
    "duration": 60,
    "start_time": "2023-08-10T16:33:38.797Z"
   },
   {
    "duration": 10,
    "start_time": "2023-08-10T16:33:38.860Z"
   },
   {
    "duration": 3,
    "start_time": "2023-08-10T16:41:34.133Z"
   },
   {
    "duration": 2424,
    "start_time": "2023-08-10T16:41:34.138Z"
   },
   {
    "duration": 51,
    "start_time": "2023-08-10T16:41:36.564Z"
   },
   {
    "duration": 3,
    "start_time": "2023-08-10T16:41:36.616Z"
   },
   {
    "duration": 40,
    "start_time": "2023-08-10T16:41:36.621Z"
   },
   {
    "duration": 20,
    "start_time": "2023-08-10T16:41:36.663Z"
   },
   {
    "duration": 1434,
    "start_time": "2023-08-10T16:41:36.684Z"
   },
   {
    "duration": 6,
    "start_time": "2023-08-10T16:41:38.120Z"
   },
   {
    "duration": 13,
    "start_time": "2023-08-10T16:41:38.128Z"
   },
   {
    "duration": 57,
    "start_time": "2023-08-10T16:41:38.142Z"
   },
   {
    "duration": 7,
    "start_time": "2023-08-10T16:41:38.201Z"
   },
   {
    "duration": 14,
    "start_time": "2023-08-10T16:55:43.518Z"
   },
   {
    "duration": 3,
    "start_time": "2023-08-11T11:42:37.254Z"
   },
   {
    "duration": 2696,
    "start_time": "2023-08-11T11:42:37.260Z"
   },
   {
    "duration": 0,
    "start_time": "2023-08-11T11:42:39.959Z"
   },
   {
    "duration": 0,
    "start_time": "2023-08-11T11:42:39.961Z"
   },
   {
    "duration": 0,
    "start_time": "2023-08-11T11:42:39.962Z"
   },
   {
    "duration": 0,
    "start_time": "2023-08-11T11:42:39.964Z"
   },
   {
    "duration": 0,
    "start_time": "2023-08-11T11:42:39.965Z"
   },
   {
    "duration": 0,
    "start_time": "2023-08-11T11:42:39.967Z"
   },
   {
    "duration": 0,
    "start_time": "2023-08-11T11:42:39.969Z"
   },
   {
    "duration": 0,
    "start_time": "2023-08-11T11:42:39.971Z"
   },
   {
    "duration": 0,
    "start_time": "2023-08-11T11:42:39.972Z"
   },
   {
    "duration": 5,
    "start_time": "2023-08-11T11:43:13.863Z"
   },
   {
    "duration": 2117,
    "start_time": "2023-08-11T11:43:13.870Z"
   },
   {
    "duration": 0,
    "start_time": "2023-08-11T11:43:15.989Z"
   },
   {
    "duration": 0,
    "start_time": "2023-08-11T11:43:15.991Z"
   },
   {
    "duration": 0,
    "start_time": "2023-08-11T11:43:15.992Z"
   },
   {
    "duration": 0,
    "start_time": "2023-08-11T11:43:15.994Z"
   },
   {
    "duration": 0,
    "start_time": "2023-08-11T11:43:16.002Z"
   },
   {
    "duration": 0,
    "start_time": "2023-08-11T11:43:16.009Z"
   },
   {
    "duration": 0,
    "start_time": "2023-08-11T11:43:16.011Z"
   },
   {
    "duration": 0,
    "start_time": "2023-08-11T11:43:16.013Z"
   },
   {
    "duration": 24527,
    "start_time": "2023-08-11T11:43:20.661Z"
   },
   {
    "duration": 5496,
    "start_time": "2023-08-11T11:43:45.190Z"
   },
   {
    "duration": 167,
    "start_time": "2023-08-11T11:43:50.688Z"
   },
   {
    "duration": 5,
    "start_time": "2023-08-11T11:43:50.857Z"
   },
   {
    "duration": 30,
    "start_time": "2023-08-11T11:43:50.864Z"
   },
   {
    "duration": 66,
    "start_time": "2023-08-11T11:43:50.897Z"
   },
   {
    "duration": 10,
    "start_time": "2023-08-11T11:43:50.965Z"
   },
   {
    "duration": 1852,
    "start_time": "2023-08-11T11:43:50.977Z"
   },
   {
    "duration": 10,
    "start_time": "2023-08-11T11:43:52.832Z"
   },
   {
    "duration": 58,
    "start_time": "2023-08-11T11:43:52.846Z"
   },
   {
    "duration": 5,
    "start_time": "2023-08-11T11:44:28.478Z"
   },
   {
    "duration": 40,
    "start_time": "2023-08-11T11:44:28.485Z"
   },
   {
    "duration": 35,
    "start_time": "2023-08-11T11:44:32.544Z"
   },
   {
    "duration": 8,
    "start_time": "2023-08-11T11:44:35.112Z"
   },
   {
    "duration": 33,
    "start_time": "2023-08-11T11:44:35.430Z"
   },
   {
    "duration": 11,
    "start_time": "2023-08-11T11:44:41.552Z"
   },
   {
    "duration": 40,
    "start_time": "2023-08-11T11:44:56.274Z"
   },
   {
    "duration": 413,
    "start_time": "2023-08-11T11:45:18.137Z"
   },
   {
    "duration": 102,
    "start_time": "2023-08-11T11:46:38.968Z"
   },
   {
    "duration": 18,
    "start_time": "2023-08-11T11:48:02.921Z"
   },
   {
    "duration": 20,
    "start_time": "2023-08-11T11:48:03.474Z"
   },
   {
    "duration": 5,
    "start_time": "2023-08-11T11:48:10.767Z"
   },
   {
    "duration": 28,
    "start_time": "2023-08-11T11:48:14.310Z"
   },
   {
    "duration": 3251,
    "start_time": "2023-08-11T11:52:38.764Z"
   },
   {
    "duration": 3201,
    "start_time": "2023-08-11T11:52:42.020Z"
   },
   {
    "duration": 55,
    "start_time": "2023-08-11T11:52:45.229Z"
   },
   {
    "duration": 3,
    "start_time": "2023-08-11T11:52:45.286Z"
   },
   {
    "duration": 47,
    "start_time": "2023-08-11T11:52:45.291Z"
   },
   {
    "duration": 15,
    "start_time": "2023-08-11T11:52:45.341Z"
   },
   {
    "duration": 9,
    "start_time": "2023-08-11T11:52:45.358Z"
   },
   {
    "duration": 1823,
    "start_time": "2023-08-11T11:52:45.369Z"
   },
   {
    "duration": 6,
    "start_time": "2023-08-11T11:52:47.195Z"
   },
   {
    "duration": 97,
    "start_time": "2023-08-11T11:52:47.206Z"
   },
   {
    "duration": 393,
    "start_time": "2023-08-11T11:52:47.309Z"
   },
   {
    "duration": 231,
    "start_time": "2023-08-11T11:52:47.709Z"
   },
   {
    "duration": 0,
    "start_time": "2023-08-11T11:52:47.942Z"
   },
   {
    "duration": 23,
    "start_time": "2023-08-11T11:52:54.828Z"
   },
   {
    "duration": 18,
    "start_time": "2023-08-11T11:52:55.371Z"
   },
   {
    "duration": 12,
    "start_time": "2023-08-11T11:53:30.060Z"
   },
   {
    "duration": 29,
    "start_time": "2023-08-11T11:53:36.600Z"
   },
   {
    "duration": 3177,
    "start_time": "2023-08-11T11:57:31.951Z"
   },
   {
    "duration": 2821,
    "start_time": "2023-08-11T11:57:35.132Z"
   },
   {
    "duration": 63,
    "start_time": "2023-08-11T11:57:37.955Z"
   },
   {
    "duration": 10,
    "start_time": "2023-08-11T11:57:38.027Z"
   },
   {
    "duration": 10,
    "start_time": "2023-08-11T11:57:38.042Z"
   },
   {
    "duration": 12,
    "start_time": "2023-08-11T11:57:38.053Z"
   },
   {
    "duration": 9,
    "start_time": "2023-08-11T11:57:38.067Z"
   },
   {
    "duration": 1790,
    "start_time": "2023-08-11T11:57:38.078Z"
   },
   {
    "duration": 7,
    "start_time": "2023-08-11T11:57:39.871Z"
   },
   {
    "duration": 71,
    "start_time": "2023-08-11T11:57:39.880Z"
   },
   {
    "duration": 407,
    "start_time": "2023-08-11T11:57:39.953Z"
   },
   {
    "duration": 8,
    "start_time": "2023-08-11T11:57:40.362Z"
   },
   {
    "duration": 442,
    "start_time": "2023-08-11T11:57:40.372Z"
   },
   {
    "duration": 590,
    "start_time": "2023-08-11T11:58:00.029Z"
   },
   {
    "duration": 375,
    "start_time": "2023-08-11T11:58:04.391Z"
   },
   {
    "duration": 432,
    "start_time": "2023-08-11T12:03:49.789Z"
   },
   {
    "duration": 511,
    "start_time": "2023-08-11T12:04:05.870Z"
   },
   {
    "duration": 474,
    "start_time": "2023-08-11T12:04:09.996Z"
   },
   {
    "duration": 430,
    "start_time": "2023-08-11T12:04:15.411Z"
   },
   {
    "duration": 425,
    "start_time": "2023-08-11T12:04:21.420Z"
   },
   {
    "duration": 382,
    "start_time": "2023-08-11T12:04:24.943Z"
   },
   {
    "duration": 9,
    "start_time": "2023-08-11T12:04:48.294Z"
   },
   {
    "duration": 12,
    "start_time": "2023-08-11T12:05:25.111Z"
   },
   {
    "duration": 5,
    "start_time": "2023-08-11T12:05:40.575Z"
   },
   {
    "duration": 7,
    "start_time": "2023-08-11T12:05:55.214Z"
   },
   {
    "duration": 6,
    "start_time": "2023-08-11T12:06:00.680Z"
   },
   {
    "duration": 6,
    "start_time": "2023-08-11T12:06:40.323Z"
   },
   {
    "duration": 3,
    "start_time": "2023-08-11T12:07:30.835Z"
   },
   {
    "duration": 12,
    "start_time": "2023-08-11T12:08:14.230Z"
   },
   {
    "duration": 10,
    "start_time": "2023-08-11T12:08:39.408Z"
   },
   {
    "duration": 17,
    "start_time": "2023-08-11T12:08:50.322Z"
   },
   {
    "duration": 19,
    "start_time": "2023-08-11T12:09:09.488Z"
   },
   {
    "duration": 9,
    "start_time": "2023-08-11T12:09:10.182Z"
   },
   {
    "duration": 2948,
    "start_time": "2023-08-11T12:09:20.121Z"
   },
   {
    "duration": 2762,
    "start_time": "2023-08-11T12:09:23.072Z"
   },
   {
    "duration": 63,
    "start_time": "2023-08-11T12:09:25.842Z"
   },
   {
    "duration": 9,
    "start_time": "2023-08-11T12:09:25.920Z"
   },
   {
    "duration": 9,
    "start_time": "2023-08-11T12:09:25.943Z"
   },
   {
    "duration": 16,
    "start_time": "2023-08-11T12:09:25.954Z"
   },
   {
    "duration": 12,
    "start_time": "2023-08-11T12:09:25.973Z"
   },
   {
    "duration": 1781,
    "start_time": "2023-08-11T12:09:25.987Z"
   },
   {
    "duration": 5,
    "start_time": "2023-08-11T12:09:27.770Z"
   },
   {
    "duration": 63,
    "start_time": "2023-08-11T12:09:27.777Z"
   },
   {
    "duration": 391,
    "start_time": "2023-08-11T12:09:27.843Z"
   },
   {
    "duration": 10,
    "start_time": "2023-08-11T12:09:28.236Z"
   },
   {
    "duration": 474,
    "start_time": "2023-08-11T12:09:28.249Z"
   },
   {
    "duration": 536,
    "start_time": "2023-08-11T12:09:28.726Z"
   },
   {
    "duration": 382,
    "start_time": "2023-08-11T12:09:29.264Z"
   },
   {
    "duration": 9,
    "start_time": "2023-08-11T12:09:29.648Z"
   },
   {
    "duration": 5,
    "start_time": "2023-08-11T12:09:29.659Z"
   },
   {
    "duration": 49,
    "start_time": "2023-08-11T12:09:29.666Z"
   },
   {
    "duration": 26,
    "start_time": "2023-08-11T12:09:29.718Z"
   },
   {
    "duration": 3099,
    "start_time": "2023-08-11T12:12:19.341Z"
   },
   {
    "duration": 2519,
    "start_time": "2023-08-11T12:12:22.444Z"
   },
   {
    "duration": 66,
    "start_time": "2023-08-11T12:12:24.965Z"
   },
   {
    "duration": 3,
    "start_time": "2023-08-11T12:12:25.035Z"
   },
   {
    "duration": 28,
    "start_time": "2023-08-11T12:12:25.042Z"
   },
   {
    "duration": 27,
    "start_time": "2023-08-11T12:12:25.072Z"
   },
   {
    "duration": 32,
    "start_time": "2023-08-11T12:12:25.108Z"
   },
   {
    "duration": 1777,
    "start_time": "2023-08-11T12:12:25.142Z"
   },
   {
    "duration": 6,
    "start_time": "2023-08-11T12:12:26.922Z"
   },
   {
    "duration": 59,
    "start_time": "2023-08-11T12:12:26.935Z"
   },
   {
    "duration": 549,
    "start_time": "2023-08-11T12:12:27.003Z"
   },
   {
    "duration": 8,
    "start_time": "2023-08-11T12:12:27.554Z"
   },
   {
    "duration": 485,
    "start_time": "2023-08-11T12:12:27.564Z"
   },
   {
    "duration": 587,
    "start_time": "2023-08-11T12:12:28.051Z"
   },
   {
    "duration": 348,
    "start_time": "2023-08-11T12:12:28.640Z"
   },
   {
    "duration": 28,
    "start_time": "2023-08-11T12:12:28.989Z"
   },
   {
    "duration": 29,
    "start_time": "2023-08-11T12:12:29.022Z"
   },
   {
    "duration": 27,
    "start_time": "2023-08-11T12:12:29.053Z"
   },
   {
    "duration": 11,
    "start_time": "2023-08-11T12:12:29.082Z"
   },
   {
    "duration": 9,
    "start_time": "2023-08-11T12:13:26.045Z"
   },
   {
    "duration": 499,
    "start_time": "2023-08-11T12:13:26.401Z"
   },
   {
    "duration": 9,
    "start_time": "2023-08-11T12:13:50.218Z"
   },
   {
    "duration": 13,
    "start_time": "2023-08-11T12:13:54.659Z"
   },
   {
    "duration": 203,
    "start_time": "2023-08-11T12:13:54.970Z"
   },
   {
    "duration": 104,
    "start_time": "2023-08-11T12:14:27.310Z"
   },
   {
    "duration": 172,
    "start_time": "2023-08-11T12:14:50.527Z"
   },
   {
    "duration": 6,
    "start_time": "2023-08-11T12:15:15.199Z"
   },
   {
    "duration": 28,
    "start_time": "2023-08-11T12:15:19.562Z"
   },
   {
    "duration": 3146,
    "start_time": "2023-08-11T12:15:24.636Z"
   },
   {
    "duration": 2751,
    "start_time": "2023-08-11T12:15:27.785Z"
   },
   {
    "duration": 53,
    "start_time": "2023-08-11T12:15:30.538Z"
   },
   {
    "duration": 10,
    "start_time": "2023-08-11T12:15:30.593Z"
   },
   {
    "duration": 75,
    "start_time": "2023-08-11T12:15:30.605Z"
   },
   {
    "duration": 89,
    "start_time": "2023-08-11T12:15:30.682Z"
   },
   {
    "duration": 78,
    "start_time": "2023-08-11T12:15:30.773Z"
   },
   {
    "duration": 1891,
    "start_time": "2023-08-11T12:15:30.853Z"
   },
   {
    "duration": 6,
    "start_time": "2023-08-11T12:15:32.746Z"
   },
   {
    "duration": 126,
    "start_time": "2023-08-11T12:15:32.755Z"
   },
   {
    "duration": 410,
    "start_time": "2023-08-11T12:15:32.883Z"
   },
   {
    "duration": 12,
    "start_time": "2023-08-11T12:15:33.299Z"
   },
   {
    "duration": 448,
    "start_time": "2023-08-11T12:15:33.313Z"
   },
   {
    "duration": 594,
    "start_time": "2023-08-11T12:15:33.763Z"
   },
   {
    "duration": 397,
    "start_time": "2023-08-11T12:15:34.359Z"
   },
   {
    "duration": 29,
    "start_time": "2023-08-11T12:15:34.775Z"
   },
   {
    "duration": 32,
    "start_time": "2023-08-11T12:15:34.810Z"
   },
   {
    "duration": 17,
    "start_time": "2023-08-11T12:15:34.844Z"
   },
   {
    "duration": 137,
    "start_time": "2023-08-11T12:15:34.863Z"
   },
   {
    "duration": 252,
    "start_time": "2023-08-11T12:16:44.432Z"
   },
   {
    "duration": 3152,
    "start_time": "2023-08-11T12:23:18.568Z"
   },
   {
    "duration": 2622,
    "start_time": "2023-08-11T12:23:21.724Z"
   },
   {
    "duration": 50,
    "start_time": "2023-08-11T12:23:24.348Z"
   },
   {
    "duration": 10,
    "start_time": "2023-08-11T12:23:24.401Z"
   },
   {
    "duration": 24,
    "start_time": "2023-08-11T12:23:24.419Z"
   },
   {
    "duration": 20,
    "start_time": "2023-08-11T12:23:24.445Z"
   },
   {
    "duration": 9,
    "start_time": "2023-08-11T12:23:24.467Z"
   },
   {
    "duration": 1670,
    "start_time": "2023-08-11T12:23:24.478Z"
   },
   {
    "duration": 4,
    "start_time": "2023-08-11T12:23:26.150Z"
   },
   {
    "duration": 82,
    "start_time": "2023-08-11T12:23:26.156Z"
   },
   {
    "duration": 430,
    "start_time": "2023-08-11T12:23:26.240Z"
   },
   {
    "duration": 9,
    "start_time": "2023-08-11T12:23:26.672Z"
   },
   {
    "duration": 479,
    "start_time": "2023-08-11T12:23:26.684Z"
   },
   {
    "duration": 563,
    "start_time": "2023-08-11T12:23:27.166Z"
   },
   {
    "duration": 376,
    "start_time": "2023-08-11T12:23:27.731Z"
   },
   {
    "duration": 27,
    "start_time": "2023-08-11T12:23:28.109Z"
   },
   {
    "duration": 5,
    "start_time": "2023-08-11T12:23:28.140Z"
   },
   {
    "duration": 13,
    "start_time": "2023-08-11T12:23:28.147Z"
   },
   {
    "duration": 48,
    "start_time": "2023-08-11T12:23:28.161Z"
   },
   {
    "duration": 392,
    "start_time": "2023-08-11T12:23:28.211Z"
   },
   {
    "duration": 0,
    "start_time": "2023-08-11T12:23:28.606Z"
   },
   {
    "duration": 0,
    "start_time": "2023-08-11T12:23:28.607Z"
   },
   {
    "duration": 0,
    "start_time": "2023-08-11T12:23:28.609Z"
   },
   {
    "duration": 6,
    "start_time": "2023-08-11T12:23:47.257Z"
   },
   {
    "duration": 248,
    "start_time": "2023-08-11T12:23:48.336Z"
   },
   {
    "duration": 244,
    "start_time": "2023-08-11T12:23:56.272Z"
   },
   {
    "duration": 230,
    "start_time": "2023-08-11T12:23:59.244Z"
   },
   {
    "duration": 225,
    "start_time": "2023-08-11T12:24:01.827Z"
   },
   {
    "duration": 246,
    "start_time": "2023-08-11T12:24:04.780Z"
   },
   {
    "duration": 17,
    "start_time": "2023-08-11T12:25:54.319Z"
   },
   {
    "duration": 282,
    "start_time": "2023-08-11T12:25:54.557Z"
   },
   {
    "duration": 154,
    "start_time": "2023-08-11T12:25:59.251Z"
   },
   {
    "duration": 5,
    "start_time": "2023-08-11T12:26:00.458Z"
   },
   {
    "duration": 240,
    "start_time": "2023-08-11T12:26:00.920Z"
   },
   {
    "duration": 2436,
    "start_time": "2023-08-11T12:26:05.140Z"
   },
   {
    "duration": 14,
    "start_time": "2023-08-11T12:26:08.452Z"
   },
   {
    "duration": 14,
    "start_time": "2023-08-11T12:26:41.725Z"
   },
   {
    "duration": 6,
    "start_time": "2023-08-11T12:26:49.147Z"
   },
   {
    "duration": 304,
    "start_time": "2023-08-11T12:26:50.568Z"
   },
   {
    "duration": 5,
    "start_time": "2023-08-11T12:27:02.038Z"
   },
   {
    "duration": 248,
    "start_time": "2023-08-11T12:27:02.678Z"
   },
   {
    "duration": 3296,
    "start_time": "2023-08-11T12:32:09.190Z"
   },
   {
    "duration": 2789,
    "start_time": "2023-08-11T12:32:12.489Z"
   },
   {
    "duration": 62,
    "start_time": "2023-08-11T12:32:15.279Z"
   },
   {
    "duration": 4,
    "start_time": "2023-08-11T12:32:15.342Z"
   },
   {
    "duration": 28,
    "start_time": "2023-08-11T12:32:15.349Z"
   },
   {
    "duration": 45,
    "start_time": "2023-08-11T12:32:15.379Z"
   },
   {
    "duration": 34,
    "start_time": "2023-08-11T12:32:15.426Z"
   },
   {
    "duration": 1837,
    "start_time": "2023-08-11T12:32:15.462Z"
   },
   {
    "duration": 14,
    "start_time": "2023-08-11T12:32:17.302Z"
   },
   {
    "duration": 58,
    "start_time": "2023-08-11T12:32:17.319Z"
   },
   {
    "duration": 379,
    "start_time": "2023-08-11T12:32:17.405Z"
   },
   {
    "duration": 13,
    "start_time": "2023-08-11T12:32:17.794Z"
   },
   {
    "duration": 426,
    "start_time": "2023-08-11T12:32:17.811Z"
   },
   {
    "duration": 599,
    "start_time": "2023-08-11T12:32:18.242Z"
   },
   {
    "duration": 388,
    "start_time": "2023-08-11T12:32:18.843Z"
   },
   {
    "duration": 10,
    "start_time": "2023-08-11T12:32:19.232Z"
   },
   {
    "duration": 9,
    "start_time": "2023-08-11T12:32:19.244Z"
   },
   {
    "duration": 47,
    "start_time": "2023-08-11T12:32:19.255Z"
   },
   {
    "duration": 23,
    "start_time": "2023-08-11T12:32:19.306Z"
   },
   {
    "duration": 84,
    "start_time": "2023-08-11T12:32:19.332Z"
   },
   {
    "duration": 11,
    "start_time": "2023-08-11T12:32:19.500Z"
   },
   {
    "duration": 289,
    "start_time": "2023-08-11T12:32:19.516Z"
   },
   {
    "duration": 2950,
    "start_time": "2023-08-11T12:32:59.524Z"
   },
   {
    "duration": 2633,
    "start_time": "2023-08-11T12:33:02.477Z"
   },
   {
    "duration": 68,
    "start_time": "2023-08-11T12:33:05.114Z"
   },
   {
    "duration": 4,
    "start_time": "2023-08-11T12:33:05.184Z"
   },
   {
    "duration": 34,
    "start_time": "2023-08-11T12:33:05.191Z"
   },
   {
    "duration": 40,
    "start_time": "2023-08-11T12:33:05.227Z"
   },
   {
    "duration": 65,
    "start_time": "2023-08-11T12:33:05.269Z"
   },
   {
    "duration": 1848,
    "start_time": "2023-08-11T12:33:05.336Z"
   },
   {
    "duration": 6,
    "start_time": "2023-08-11T12:33:07.187Z"
   },
   {
    "duration": 79,
    "start_time": "2023-08-11T12:33:07.195Z"
   },
   {
    "duration": 382,
    "start_time": "2023-08-11T12:33:07.276Z"
   },
   {
    "duration": 13,
    "start_time": "2023-08-11T12:33:07.660Z"
   },
   {
    "duration": 447,
    "start_time": "2023-08-11T12:33:07.675Z"
   },
   {
    "duration": 625,
    "start_time": "2023-08-11T12:33:08.126Z"
   },
   {
    "duration": 388,
    "start_time": "2023-08-11T12:33:08.753Z"
   },
   {
    "duration": 15,
    "start_time": "2023-08-11T12:33:09.143Z"
   },
   {
    "duration": 8,
    "start_time": "2023-08-11T12:33:09.160Z"
   },
   {
    "duration": 29,
    "start_time": "2023-08-11T12:33:09.170Z"
   },
   {
    "duration": 194,
    "start_time": "2023-08-11T12:33:09.202Z"
   },
   {
    "duration": 16,
    "start_time": "2023-08-11T12:33:09.404Z"
   },
   {
    "duration": 326,
    "start_time": "2023-08-11T12:33:09.424Z"
   },
   {
    "duration": 321499,
    "start_time": "2023-08-11T12:33:09.752Z"
   },
   {
    "duration": 254,
    "start_time": "2023-08-11T12:38:31.252Z"
   },
   {
    "duration": 0,
    "start_time": "2023-08-11T12:38:31.508Z"
   },
   {
    "duration": 0,
    "start_time": "2023-08-11T12:38:31.511Z"
   },
   {
    "duration": 0,
    "start_time": "2023-08-11T12:38:31.512Z"
   },
   {
    "duration": 0,
    "start_time": "2023-08-11T12:38:31.513Z"
   },
   {
    "duration": 7,
    "start_time": "2023-08-11T12:42:01.627Z"
   },
   {
    "duration": 232,
    "start_time": "2023-08-11T12:42:02.442Z"
   },
   {
    "duration": 15,
    "start_time": "2023-08-11T12:42:17.885Z"
   },
   {
    "duration": 225,
    "start_time": "2023-08-11T12:42:18.217Z"
   },
   {
    "duration": 7,
    "start_time": "2023-08-11T12:42:27.721Z"
   },
   {
    "duration": 223,
    "start_time": "2023-08-11T12:42:29.134Z"
   },
   {
    "duration": 1713,
    "start_time": "2023-08-11T12:42:32.254Z"
   },
   {
    "duration": 6,
    "start_time": "2023-08-11T12:42:33.969Z"
   },
   {
    "duration": 257,
    "start_time": "2023-08-11T12:42:33.977Z"
   },
   {
    "duration": 3415,
    "start_time": "2023-08-11T12:43:50.633Z"
   },
   {
    "duration": 3158,
    "start_time": "2023-08-11T12:43:54.051Z"
   },
   {
    "duration": 62,
    "start_time": "2023-08-11T12:43:57.223Z"
   },
   {
    "duration": 3,
    "start_time": "2023-08-11T12:43:57.286Z"
   },
   {
    "duration": 44,
    "start_time": "2023-08-11T12:43:57.291Z"
   },
   {
    "duration": 15,
    "start_time": "2023-08-11T12:43:57.336Z"
   },
   {
    "duration": 11,
    "start_time": "2023-08-11T12:43:57.353Z"
   },
   {
    "duration": 1783,
    "start_time": "2023-08-11T12:43:57.366Z"
   },
   {
    "duration": 7,
    "start_time": "2023-08-11T12:43:59.151Z"
   },
   {
    "duration": 77,
    "start_time": "2023-08-11T12:43:59.160Z"
   },
   {
    "duration": 451,
    "start_time": "2023-08-11T12:43:59.242Z"
   },
   {
    "duration": 12,
    "start_time": "2023-08-11T12:43:59.695Z"
   },
   {
    "duration": 434,
    "start_time": "2023-08-11T12:43:59.710Z"
   },
   {
    "duration": 608,
    "start_time": "2023-08-11T12:44:00.149Z"
   },
   {
    "duration": 394,
    "start_time": "2023-08-11T12:44:00.759Z"
   },
   {
    "duration": 8,
    "start_time": "2023-08-11T12:44:01.156Z"
   },
   {
    "duration": 95,
    "start_time": "2023-08-11T12:44:01.167Z"
   },
   {
    "duration": 32,
    "start_time": "2023-08-11T12:44:01.264Z"
   },
   {
    "duration": 621,
    "start_time": "2023-08-11T12:44:01.299Z"
   },
   {
    "duration": 23,
    "start_time": "2023-08-11T12:44:01.925Z"
   },
   {
    "duration": 0,
    "start_time": "2023-08-11T12:44:01.950Z"
   },
   {
    "duration": 0,
    "start_time": "2023-08-11T12:44:01.951Z"
   },
   {
    "duration": 0,
    "start_time": "2023-08-11T12:44:01.953Z"
   },
   {
    "duration": 0,
    "start_time": "2023-08-11T12:44:01.954Z"
   },
   {
    "duration": 0,
    "start_time": "2023-08-11T12:44:01.956Z"
   },
   {
    "duration": 0,
    "start_time": "2023-08-11T12:44:01.959Z"
   },
   {
    "duration": 0,
    "start_time": "2023-08-11T12:44:01.960Z"
   },
   {
    "duration": 197,
    "start_time": "2023-08-11T12:44:17.782Z"
   },
   {
    "duration": 3434,
    "start_time": "2023-08-11T12:44:30.154Z"
   },
   {
    "duration": 3182,
    "start_time": "2023-08-11T12:44:33.591Z"
   },
   {
    "duration": 82,
    "start_time": "2023-08-11T12:44:36.779Z"
   },
   {
    "duration": 7,
    "start_time": "2023-08-11T12:44:36.864Z"
   },
   {
    "duration": 7,
    "start_time": "2023-08-11T12:44:36.876Z"
   },
   {
    "duration": 81,
    "start_time": "2023-08-11T12:44:36.885Z"
   },
   {
    "duration": 36,
    "start_time": "2023-08-11T12:44:36.968Z"
   },
   {
    "duration": 1854,
    "start_time": "2023-08-11T12:44:37.006Z"
   },
   {
    "duration": 7,
    "start_time": "2023-08-11T12:44:38.862Z"
   },
   {
    "duration": 74,
    "start_time": "2023-08-11T12:44:38.871Z"
   },
   {
    "duration": 473,
    "start_time": "2023-08-11T12:44:38.951Z"
   },
   {
    "duration": 17,
    "start_time": "2023-08-11T12:44:39.428Z"
   },
   {
    "duration": 429,
    "start_time": "2023-08-11T12:44:39.448Z"
   },
   {
    "duration": 603,
    "start_time": "2023-08-11T12:44:39.881Z"
   },
   {
    "duration": 436,
    "start_time": "2023-08-11T12:44:40.495Z"
   },
   {
    "duration": 10,
    "start_time": "2023-08-11T12:44:40.934Z"
   },
   {
    "duration": 7,
    "start_time": "2023-08-11T12:44:40.946Z"
   },
   {
    "duration": 9,
    "start_time": "2023-08-11T12:44:40.955Z"
   },
   {
    "duration": 573,
    "start_time": "2023-08-11T12:44:40.966Z"
   },
   {
    "duration": 17,
    "start_time": "2023-08-11T12:44:41.542Z"
   },
   {
    "duration": 0,
    "start_time": "2023-08-11T12:44:41.561Z"
   },
   {
    "duration": 0,
    "start_time": "2023-08-11T12:44:41.563Z"
   },
   {
    "duration": 1,
    "start_time": "2023-08-11T12:44:41.564Z"
   },
   {
    "duration": 1,
    "start_time": "2023-08-11T12:44:41.566Z"
   },
   {
    "duration": 0,
    "start_time": "2023-08-11T12:44:41.569Z"
   },
   {
    "duration": 0,
    "start_time": "2023-08-11T12:44:41.570Z"
   },
   {
    "duration": 0,
    "start_time": "2023-08-11T12:44:41.571Z"
   },
   {
    "duration": 30,
    "start_time": "2023-08-11T12:44:48.130Z"
   },
   {
    "duration": 5,
    "start_time": "2023-08-11T12:44:48.460Z"
   },
   {
    "duration": 7,
    "start_time": "2023-08-11T12:44:48.683Z"
   },
   {
    "duration": 200,
    "start_time": "2023-08-11T12:44:49.360Z"
   },
   {
    "duration": 3582,
    "start_time": "2023-08-11T12:44:55.740Z"
   },
   {
    "duration": 3104,
    "start_time": "2023-08-11T12:44:59.325Z"
   },
   {
    "duration": 68,
    "start_time": "2023-08-11T12:45:02.432Z"
   },
   {
    "duration": 13,
    "start_time": "2023-08-11T12:45:02.502Z"
   },
   {
    "duration": 61,
    "start_time": "2023-08-11T12:45:02.519Z"
   },
   {
    "duration": 81,
    "start_time": "2023-08-11T12:45:02.583Z"
   },
   {
    "duration": 96,
    "start_time": "2023-08-11T12:45:02.667Z"
   },
   {
    "duration": 1867,
    "start_time": "2023-08-11T12:45:02.767Z"
   },
   {
    "duration": 7,
    "start_time": "2023-08-11T12:45:04.637Z"
   },
   {
    "duration": 67,
    "start_time": "2023-08-11T12:45:04.646Z"
   },
   {
    "duration": 445,
    "start_time": "2023-08-11T12:45:04.721Z"
   },
   {
    "duration": 11,
    "start_time": "2023-08-11T12:45:05.168Z"
   },
   {
    "duration": 505,
    "start_time": "2023-08-11T12:45:05.181Z"
   },
   {
    "duration": 591,
    "start_time": "2023-08-11T12:45:05.694Z"
   },
   {
    "duration": 466,
    "start_time": "2023-08-11T12:45:06.288Z"
   },
   {
    "duration": 19,
    "start_time": "2023-08-11T12:45:06.759Z"
   },
   {
    "duration": 7,
    "start_time": "2023-08-11T12:45:06.780Z"
   },
   {
    "duration": 54,
    "start_time": "2023-08-11T12:45:06.811Z"
   },
   {
    "duration": 198,
    "start_time": "2023-08-11T12:45:06.867Z"
   },
   {
    "duration": 29,
    "start_time": "2023-08-11T12:45:07.096Z"
   },
   {
    "duration": 444,
    "start_time": "2023-08-11T12:45:07.135Z"
   },
   {
    "duration": 3550,
    "start_time": "2023-08-11T12:45:27.873Z"
   },
   {
    "duration": 3007,
    "start_time": "2023-08-11T12:45:31.430Z"
   },
   {
    "duration": 99,
    "start_time": "2023-08-11T12:45:34.440Z"
   },
   {
    "duration": 13,
    "start_time": "2023-08-11T12:45:34.542Z"
   },
   {
    "duration": 22,
    "start_time": "2023-08-11T12:45:34.558Z"
   },
   {
    "duration": 22,
    "start_time": "2023-08-11T12:45:34.582Z"
   },
   {
    "duration": 56,
    "start_time": "2023-08-11T12:45:34.610Z"
   },
   {
    "duration": 2027,
    "start_time": "2023-08-11T12:45:34.669Z"
   },
   {
    "duration": 7,
    "start_time": "2023-08-11T12:45:36.698Z"
   },
   {
    "duration": 96,
    "start_time": "2023-08-11T12:45:36.708Z"
   },
   {
    "duration": 584,
    "start_time": "2023-08-11T12:45:36.810Z"
   },
   {
    "duration": 12,
    "start_time": "2023-08-11T12:45:37.396Z"
   },
   {
    "duration": 577,
    "start_time": "2023-08-11T12:45:37.410Z"
   },
   {
    "duration": 752,
    "start_time": "2023-08-11T12:45:37.991Z"
   },
   {
    "duration": 377,
    "start_time": "2023-08-11T12:45:38.757Z"
   },
   {
    "duration": 29,
    "start_time": "2023-08-11T12:45:39.144Z"
   },
   {
    "duration": 8,
    "start_time": "2023-08-11T12:45:39.175Z"
   },
   {
    "duration": 22,
    "start_time": "2023-08-11T12:45:39.185Z"
   },
   {
    "duration": 310,
    "start_time": "2023-08-11T12:45:39.213Z"
   },
   {
    "duration": 0,
    "start_time": "2023-08-11T12:45:39.527Z"
   },
   {
    "duration": 0,
    "start_time": "2023-08-11T12:45:39.529Z"
   },
   {
    "duration": 0,
    "start_time": "2023-08-11T12:45:39.530Z"
   },
   {
    "duration": 0,
    "start_time": "2023-08-11T12:45:39.531Z"
   },
   {
    "duration": 0,
    "start_time": "2023-08-11T12:45:39.532Z"
   },
   {
    "duration": 0,
    "start_time": "2023-08-11T12:45:39.533Z"
   },
   {
    "duration": 0,
    "start_time": "2023-08-11T12:45:39.534Z"
   },
   {
    "duration": 0,
    "start_time": "2023-08-11T12:45:39.536Z"
   },
   {
    "duration": 0,
    "start_time": "2023-08-11T12:45:39.537Z"
   },
   {
    "duration": 13,
    "start_time": "2023-08-11T12:45:45.560Z"
   },
   {
    "duration": 304,
    "start_time": "2023-08-11T12:45:47.350Z"
   },
   {
    "duration": 49,
    "start_time": "2023-08-11T12:45:47.660Z"
   },
   {
    "duration": 289,
    "start_time": "2023-08-11T12:45:47.822Z"
   },
   {
    "duration": 3553,
    "start_time": "2023-08-11T12:46:21.326Z"
   },
   {
    "duration": 3390,
    "start_time": "2023-08-11T12:46:24.882Z"
   },
   {
    "duration": 88,
    "start_time": "2023-08-11T12:46:28.274Z"
   },
   {
    "duration": 4,
    "start_time": "2023-08-11T12:46:28.364Z"
   },
   {
    "duration": 10,
    "start_time": "2023-08-11T12:46:28.372Z"
   },
   {
    "duration": 23,
    "start_time": "2023-08-11T12:46:28.384Z"
   },
   {
    "duration": 56,
    "start_time": "2023-08-11T12:46:28.409Z"
   },
   {
    "duration": 1786,
    "start_time": "2023-08-11T12:46:28.467Z"
   },
   {
    "duration": 6,
    "start_time": "2023-08-11T12:46:30.256Z"
   },
   {
    "duration": 108,
    "start_time": "2023-08-11T12:46:30.264Z"
   },
   {
    "duration": 449,
    "start_time": "2023-08-11T12:46:30.374Z"
   },
   {
    "duration": 17,
    "start_time": "2023-08-11T12:46:30.825Z"
   },
   {
    "duration": 443,
    "start_time": "2023-08-11T12:46:30.845Z"
   },
   {
    "duration": 589,
    "start_time": "2023-08-11T12:46:31.291Z"
   },
   {
    "duration": 371,
    "start_time": "2023-08-11T12:46:31.882Z"
   },
   {
    "duration": 10,
    "start_time": "2023-08-11T12:46:32.255Z"
   },
   {
    "duration": 257,
    "start_time": "2023-08-11T12:46:32.268Z"
   },
   {
    "duration": 249,
    "start_time": "2023-08-11T12:46:32.532Z"
   },
   {
    "duration": 82,
    "start_time": "2023-08-11T12:46:32.783Z"
   },
   {
    "duration": 147,
    "start_time": "2023-08-11T12:46:32.867Z"
   },
   {
    "duration": 32,
    "start_time": "2023-08-11T12:46:33.029Z"
   },
   {
    "duration": 286,
    "start_time": "2023-08-11T12:46:33.063Z"
   },
   {
    "duration": 363649,
    "start_time": "2023-08-11T12:46:33.352Z"
   },
   {
    "duration": 7,
    "start_time": "2023-08-11T12:52:37.004Z"
   },
   {
    "duration": 374,
    "start_time": "2023-08-11T12:52:37.013Z"
   },
   {
    "duration": 1675,
    "start_time": "2023-08-11T12:52:37.389Z"
   },
   {
    "duration": 5,
    "start_time": "2023-08-11T12:52:39.066Z"
   },
   {
    "duration": 251,
    "start_time": "2023-08-11T12:52:39.072Z"
   },
   {
    "duration": 79,
    "start_time": "2023-08-11T13:34:55.731Z"
   },
   {
    "duration": 5,
    "start_time": "2023-08-11T13:35:10.207Z"
   },
   {
    "duration": 27,
    "start_time": "2023-08-11T13:35:12.877Z"
   },
   {
    "duration": 15,
    "start_time": "2023-08-11T13:35:14.001Z"
   },
   {
    "duration": 239,
    "start_time": "2023-08-11T13:35:14.328Z"
   },
   {
    "duration": 1318,
    "start_time": "2023-08-11T13:35:34.445Z"
   },
   {
    "duration": 4,
    "start_time": "2023-08-11T13:35:35.765Z"
   },
   {
    "duration": 255,
    "start_time": "2023-08-11T13:35:35.771Z"
   },
   {
    "duration": 15,
    "start_time": "2023-08-11T13:36:51.334Z"
   },
   {
    "duration": 321,
    "start_time": "2023-08-11T13:38:00.885Z"
   },
   {
    "duration": 306,
    "start_time": "2023-08-11T13:38:14.931Z"
   },
   {
    "duration": 272,
    "start_time": "2023-08-11T13:38:40.949Z"
   },
   {
    "duration": 242,
    "start_time": "2023-08-11T13:38:44.067Z"
   },
   {
    "duration": 283,
    "start_time": "2023-08-11T13:39:08.413Z"
   },
   {
    "duration": 194,
    "start_time": "2023-08-11T13:39:59.770Z"
   },
   {
    "duration": 15,
    "start_time": "2023-08-11T13:40:00.077Z"
   },
   {
    "duration": 246,
    "start_time": "2023-08-11T13:40:11.444Z"
   },
   {
    "duration": 232,
    "start_time": "2023-08-11T13:48:41.169Z"
   },
   {
    "duration": 136,
    "start_time": "2023-08-11T13:49:19.471Z"
   },
   {
    "duration": 220,
    "start_time": "2023-08-11T13:49:28.833Z"
   },
   {
    "duration": 377,
    "start_time": "2023-08-11T13:49:33.179Z"
   },
   {
    "duration": 219,
    "start_time": "2023-08-11T13:49:39.748Z"
   },
   {
    "duration": 247,
    "start_time": "2023-08-11T13:49:46.092Z"
   },
   {
    "duration": 201,
    "start_time": "2023-08-11T13:49:59.770Z"
   },
   {
    "duration": 212,
    "start_time": "2023-08-11T13:50:06.450Z"
   },
   {
    "duration": 226,
    "start_time": "2023-08-11T13:50:10.292Z"
   },
   {
    "duration": 240,
    "start_time": "2023-08-11T13:50:15.470Z"
   },
   {
    "duration": 135,
    "start_time": "2023-08-11T13:50:19.285Z"
   },
   {
    "duration": 131,
    "start_time": "2023-08-11T13:50:23.499Z"
   },
   {
    "duration": 127,
    "start_time": "2023-08-11T13:50:27.507Z"
   },
   {
    "duration": 228,
    "start_time": "2023-08-11T13:50:32.741Z"
   },
   {
    "duration": 230,
    "start_time": "2023-08-11T13:50:34.332Z"
   },
   {
    "duration": 240,
    "start_time": "2023-08-11T13:50:39.069Z"
   },
   {
    "duration": 245,
    "start_time": "2023-08-11T13:50:54.114Z"
   },
   {
    "duration": 13,
    "start_time": "2023-08-11T13:52:22.468Z"
   },
   {
    "duration": 12,
    "start_time": "2023-08-11T13:52:29.098Z"
   },
   {
    "duration": 4,
    "start_time": "2023-08-11T13:52:33.764Z"
   },
   {
    "duration": 291,
    "start_time": "2023-08-11T13:52:38.915Z"
   },
   {
    "duration": 14,
    "start_time": "2023-08-11T13:52:42.188Z"
   },
   {
    "duration": 278,
    "start_time": "2023-08-11T13:52:45.427Z"
   },
   {
    "duration": 3,
    "start_time": "2023-08-11T14:23:06.551Z"
   },
   {
    "duration": 3736,
    "start_time": "2023-08-11T14:23:06.556Z"
   },
   {
    "duration": 0,
    "start_time": "2023-08-11T14:23:10.294Z"
   },
   {
    "duration": 0,
    "start_time": "2023-08-11T14:23:10.295Z"
   },
   {
    "duration": 0,
    "start_time": "2023-08-11T14:23:10.296Z"
   },
   {
    "duration": 0,
    "start_time": "2023-08-11T14:23:10.297Z"
   },
   {
    "duration": 0,
    "start_time": "2023-08-11T14:23:10.298Z"
   },
   {
    "duration": 0,
    "start_time": "2023-08-11T14:23:10.300Z"
   },
   {
    "duration": 0,
    "start_time": "2023-08-11T14:23:10.301Z"
   },
   {
    "duration": 0,
    "start_time": "2023-08-11T14:23:10.302Z"
   },
   {
    "duration": 0,
    "start_time": "2023-08-11T14:23:10.303Z"
   },
   {
    "duration": 17536,
    "start_time": "2023-08-12T13:15:20.648Z"
   },
   {
    "duration": 3408,
    "start_time": "2023-08-12T13:15:38.187Z"
   },
   {
    "duration": 192,
    "start_time": "2023-08-12T13:15:41.597Z"
   },
   {
    "duration": 3,
    "start_time": "2023-08-12T13:15:41.791Z"
   },
   {
    "duration": 16,
    "start_time": "2023-08-12T13:15:41.796Z"
   },
   {
    "duration": 16,
    "start_time": "2023-08-12T13:15:41.814Z"
   },
   {
    "duration": 20,
    "start_time": "2023-08-12T13:15:41.831Z"
   },
   {
    "duration": 1812,
    "start_time": "2023-08-12T13:18:13.952Z"
   },
   {
    "duration": 412,
    "start_time": "2023-08-12T13:26:55.357Z"
   },
   {
    "duration": 180,
    "start_time": "2023-08-12T13:28:24.788Z"
   },
   {
    "duration": 5,
    "start_time": "2023-08-12T13:28:32.872Z"
   },
   {
    "duration": 61,
    "start_time": "2023-08-12T13:28:33.791Z"
   },
   {
    "duration": 5,
    "start_time": "2023-08-12T13:28:47.461Z"
   },
   {
    "duration": 62,
    "start_time": "2023-08-12T13:28:47.654Z"
   },
   {
    "duration": 56,
    "start_time": "2023-08-12T13:30:50.699Z"
   },
   {
    "duration": 151,
    "start_time": "2023-08-12T13:33:10.867Z"
   },
   {
    "duration": 140,
    "start_time": "2023-08-12T13:39:57.450Z"
   },
   {
    "duration": 2661,
    "start_time": "2023-08-12T13:41:41.188Z"
   },
   {
    "duration": 2684,
    "start_time": "2023-08-12T13:41:43.852Z"
   },
   {
    "duration": 67,
    "start_time": "2023-08-12T13:41:46.539Z"
   },
   {
    "duration": 4,
    "start_time": "2023-08-12T13:41:46.609Z"
   },
   {
    "duration": 38,
    "start_time": "2023-08-12T13:41:46.617Z"
   },
   {
    "duration": 29,
    "start_time": "2023-08-12T13:41:46.657Z"
   },
   {
    "duration": 57,
    "start_time": "2023-08-12T13:41:46.688Z"
   },
   {
    "duration": 1833,
    "start_time": "2023-08-12T13:41:46.747Z"
   },
   {
    "duration": 348,
    "start_time": "2023-08-12T13:41:48.582Z"
   },
   {
    "duration": 354,
    "start_time": "2023-08-12T13:41:48.933Z"
   },
   {
    "duration": 0,
    "start_time": "2023-08-12T13:41:49.289Z"
   },
   {
    "duration": 0,
    "start_time": "2023-08-12T13:41:49.292Z"
   },
   {
    "duration": 0,
    "start_time": "2023-08-12T13:41:49.294Z"
   },
   {
    "duration": 0,
    "start_time": "2023-08-12T13:41:49.295Z"
   },
   {
    "duration": 0,
    "start_time": "2023-08-12T13:41:49.308Z"
   },
   {
    "duration": 0,
    "start_time": "2023-08-12T13:41:49.310Z"
   },
   {
    "duration": 0,
    "start_time": "2023-08-12T13:41:49.312Z"
   },
   {
    "duration": 0,
    "start_time": "2023-08-12T13:41:49.314Z"
   },
   {
    "duration": 0,
    "start_time": "2023-08-12T13:41:49.316Z"
   },
   {
    "duration": 0,
    "start_time": "2023-08-12T13:41:49.317Z"
   },
   {
    "duration": 0,
    "start_time": "2023-08-12T13:41:49.319Z"
   },
   {
    "duration": 0,
    "start_time": "2023-08-12T13:41:49.320Z"
   },
   {
    "duration": 0,
    "start_time": "2023-08-12T13:41:49.322Z"
   },
   {
    "duration": 0,
    "start_time": "2023-08-12T13:41:49.324Z"
   },
   {
    "duration": 0,
    "start_time": "2023-08-12T13:41:49.325Z"
   },
   {
    "duration": 1,
    "start_time": "2023-08-12T13:41:49.326Z"
   },
   {
    "duration": 0,
    "start_time": "2023-08-12T13:41:49.327Z"
   },
   {
    "duration": 0,
    "start_time": "2023-08-12T13:41:49.328Z"
   },
   {
    "duration": 0,
    "start_time": "2023-08-12T13:41:49.330Z"
   },
   {
    "duration": 0,
    "start_time": "2023-08-12T13:41:49.331Z"
   },
   {
    "duration": 0,
    "start_time": "2023-08-12T13:41:49.333Z"
   },
   {
    "duration": 136,
    "start_time": "2023-08-12T13:42:08.203Z"
   },
   {
    "duration": 207,
    "start_time": "2023-08-12T13:42:20.734Z"
   },
   {
    "duration": 137,
    "start_time": "2023-08-12T13:42:24.990Z"
   },
   {
    "duration": 128,
    "start_time": "2023-08-12T13:42:29.163Z"
   },
   {
    "duration": 20,
    "start_time": "2023-08-12T13:43:09.236Z"
   },
   {
    "duration": 1089,
    "start_time": "2023-08-12T13:43:21.409Z"
   },
   {
    "duration": 368,
    "start_time": "2023-08-12T13:43:30.450Z"
   },
   {
    "duration": 376,
    "start_time": "2023-08-12T13:43:42.650Z"
   },
   {
    "duration": 366,
    "start_time": "2023-08-12T13:43:43.029Z"
   },
   {
    "duration": 5,
    "start_time": "2023-08-12T13:45:26.762Z"
   },
   {
    "duration": 148,
    "start_time": "2023-08-12T13:45:26.970Z"
   },
   {
    "duration": 4,
    "start_time": "2023-08-12T14:00:41.096Z"
   },
   {
    "duration": 111,
    "start_time": "2023-08-12T14:02:37.289Z"
   },
   {
    "duration": 25,
    "start_time": "2023-08-12T14:02:42.769Z"
   },
   {
    "duration": 6,
    "start_time": "2023-08-12T14:02:43.057Z"
   },
   {
    "duration": 8,
    "start_time": "2023-08-12T14:02:43.642Z"
   },
   {
    "duration": 2319,
    "start_time": "2023-08-12T14:02:44.595Z"
   },
   {
    "duration": 2154,
    "start_time": "2023-08-12T14:04:42.956Z"
   },
   {
    "duration": 5,
    "start_time": "2023-08-12T14:05:01.701Z"
   },
   {
    "duration": 2575,
    "start_time": "2023-08-12T14:05:02.098Z"
   },
   {
    "duration": 2052,
    "start_time": "2023-08-12T14:05:50.163Z"
   },
   {
    "duration": 65,
    "start_time": "2023-08-12T14:07:32.163Z"
   },
   {
    "duration": 12,
    "start_time": "2023-08-12T14:07:38.398Z"
   },
   {
    "duration": 6,
    "start_time": "2023-08-12T14:07:38.655Z"
   },
   {
    "duration": 8,
    "start_time": "2023-08-12T14:07:39.227Z"
   },
   {
    "duration": 1169,
    "start_time": "2023-08-12T14:07:41.741Z"
   },
   {
    "duration": 31,
    "start_time": "2023-08-12T14:07:51.048Z"
   },
   {
    "duration": 9,
    "start_time": "2023-08-12T14:07:53.044Z"
   },
   {
    "duration": 6,
    "start_time": "2023-08-12T14:07:53.236Z"
   },
   {
    "duration": 6,
    "start_time": "2023-08-12T14:07:53.815Z"
   },
   {
    "duration": 176,
    "start_time": "2023-08-12T14:07:56.350Z"
   },
   {
    "duration": 7,
    "start_time": "2023-08-12T14:08:01.081Z"
   },
   {
    "duration": 200,
    "start_time": "2023-08-12T14:08:01.279Z"
   },
   {
    "duration": 34,
    "start_time": "2023-08-12T14:10:35.402Z"
   },
   {
    "duration": 8,
    "start_time": "2023-08-12T14:12:20.282Z"
   },
   {
    "duration": 6,
    "start_time": "2023-08-12T14:12:20.638Z"
   },
   {
    "duration": 8,
    "start_time": "2023-08-12T14:12:21.119Z"
   },
   {
    "duration": 40,
    "start_time": "2023-08-12T14:12:23.008Z"
   },
   {
    "duration": 93,
    "start_time": "2023-08-12T14:13:30.777Z"
   },
   {
    "duration": 53,
    "start_time": "2023-08-12T14:13:43.984Z"
   },
   {
    "duration": 53,
    "start_time": "2023-08-12T14:13:55.996Z"
   },
   {
    "duration": 49,
    "start_time": "2023-08-12T14:14:31.945Z"
   },
   {
    "duration": 50,
    "start_time": "2023-08-12T14:15:13.691Z"
   },
   {
    "duration": 47,
    "start_time": "2023-08-12T14:15:23.111Z"
   },
   {
    "duration": 45,
    "start_time": "2023-08-12T14:15:26.921Z"
   },
   {
    "duration": 51,
    "start_time": "2023-08-12T14:15:44.986Z"
   },
   {
    "duration": 33,
    "start_time": "2023-08-12T14:19:04.127Z"
   },
   {
    "duration": 42,
    "start_time": "2023-08-12T14:19:50.403Z"
   },
   {
    "duration": 45546,
    "start_time": "2023-08-12T14:20:38.089Z"
   },
   {
    "duration": 283149,
    "start_time": "2023-08-12T14:21:38.049Z"
   },
   {
    "duration": 121,
    "start_time": "2023-08-12T14:29:19.639Z"
   },
   {
    "duration": 21,
    "start_time": "2023-08-12T14:29:22.262Z"
   },
   {
    "duration": 6,
    "start_time": "2023-08-12T14:29:22.450Z"
   },
   {
    "duration": 9,
    "start_time": "2023-08-12T14:29:23.011Z"
   },
   {
    "duration": 4452,
    "start_time": "2023-08-12T14:29:25.265Z"
   },
   {
    "duration": 2411,
    "start_time": "2023-08-12T15:55:57.380Z"
   },
   {
    "duration": 2511,
    "start_time": "2023-08-12T15:55:59.793Z"
   },
   {
    "duration": 59,
    "start_time": "2023-08-12T15:56:02.306Z"
   },
   {
    "duration": 4,
    "start_time": "2023-08-12T15:56:02.367Z"
   },
   {
    "duration": 18,
    "start_time": "2023-08-12T15:56:02.373Z"
   },
   {
    "duration": 31,
    "start_time": "2023-08-12T15:56:02.393Z"
   },
   {
    "duration": 22,
    "start_time": "2023-08-12T15:56:02.426Z"
   },
   {
    "duration": 1665,
    "start_time": "2023-08-12T15:56:02.451Z"
   },
   {
    "duration": 347,
    "start_time": "2023-08-12T15:56:04.118Z"
   },
   {
    "duration": 1092,
    "start_time": "2023-08-12T15:56:04.467Z"
   },
   {
    "duration": 5,
    "start_time": "2023-08-12T15:56:05.561Z"
   },
   {
    "duration": 145,
    "start_time": "2023-08-12T15:56:05.568Z"
   },
   {
    "duration": 20,
    "start_time": "2023-08-12T15:56:05.714Z"
   },
   {
    "duration": 53,
    "start_time": "2023-08-12T15:56:05.737Z"
   },
   {
    "duration": 27,
    "start_time": "2023-08-12T15:56:05.793Z"
   },
   {
    "duration": 2188,
    "start_time": "2023-08-12T15:56:05.823Z"
   },
   {
    "duration": 8,
    "start_time": "2023-08-12T15:56:08.014Z"
   },
   {
    "duration": 1994,
    "start_time": "2023-08-12T15:56:08.024Z"
   },
   {
    "duration": 26898,
    "start_time": "2023-08-12T15:56:10.020Z"
   },
   {
    "duration": 6,
    "start_time": "2023-08-12T15:56:36.921Z"
   },
   {
    "duration": 1942,
    "start_time": "2023-08-12T15:56:36.929Z"
   },
   {
    "duration": 24162,
    "start_time": "2023-08-12T15:56:38.874Z"
   },
   {
    "duration": 5,
    "start_time": "2023-08-12T15:57:03.038Z"
   },
   {
    "duration": 2154,
    "start_time": "2023-08-12T15:57:03.045Z"
   },
   {
    "duration": 536,
    "start_time": "2023-08-12T15:57:05.201Z"
   },
   {
    "duration": 0,
    "start_time": "2023-08-12T15:57:05.739Z"
   },
   {
    "duration": 138625,
    "start_time": "2023-08-12T16:00:58.398Z"
   },
   {
    "duration": 88,
    "start_time": "2023-08-12T16:03:17.025Z"
   },
   {
    "duration": 1825,
    "start_time": "2023-08-12T16:03:17.115Z"
   },
   {
    "duration": 352,
    "start_time": "2023-08-12T16:15:56.639Z"
   },
   {
    "duration": 31,
    "start_time": "2023-08-12T16:16:12.709Z"
   },
   {
    "duration": 20,
    "start_time": "2023-08-12T16:16:16.219Z"
   },
   {
    "duration": 13,
    "start_time": "2023-08-12T16:16:53.966Z"
   },
   {
    "duration": 30,
    "start_time": "2023-08-12T16:17:48.866Z"
   },
   {
    "duration": 8,
    "start_time": "2023-08-12T16:17:49.737Z"
   },
   {
    "duration": 5,
    "start_time": "2023-08-12T16:17:49.909Z"
   },
   {
    "duration": 6,
    "start_time": "2023-08-12T16:17:50.218Z"
   },
   {
    "duration": 223,
    "start_time": "2023-08-12T16:17:50.687Z"
   },
   {
    "duration": 6,
    "start_time": "2023-08-12T16:17:51.007Z"
   },
   {
    "duration": 192,
    "start_time": "2023-08-12T16:17:51.170Z"
   },
   {
    "duration": 5113,
    "start_time": "2023-08-12T16:17:51.697Z"
   },
   {
    "duration": 5,
    "start_time": "2023-08-12T16:17:56.812Z"
   },
   {
    "duration": 227,
    "start_time": "2023-08-12T16:17:56.819Z"
   },
   {
    "duration": 5407,
    "start_time": "2023-08-12T16:17:57.048Z"
   },
   {
    "duration": 6,
    "start_time": "2023-08-12T16:18:02.458Z"
   },
   {
    "duration": 215,
    "start_time": "2023-08-12T16:18:02.466Z"
   },
   {
    "duration": 18,
    "start_time": "2023-08-12T16:18:51.502Z"
   },
   {
    "duration": 6,
    "start_time": "2023-08-12T16:19:07.489Z"
   },
   {
    "duration": 348699,
    "start_time": "2023-08-12T16:25:08.318Z"
   },
   {
    "duration": 215738,
    "start_time": "2023-08-12T16:48:30.292Z"
   },
   {
    "duration": 55,
    "start_time": "2023-08-12T16:56:17.540Z"
   },
   {
    "duration": 11,
    "start_time": "2023-08-12T16:56:21.303Z"
   },
   {
    "duration": 4,
    "start_time": "2023-08-12T16:56:21.530Z"
   },
   {
    "duration": 7,
    "start_time": "2023-08-12T16:56:22.321Z"
   },
   {
    "duration": 935,
    "start_time": "2023-08-12T16:56:24.977Z"
   },
   {
    "duration": 7561,
    "start_time": "2023-08-12T16:56:33.456Z"
   },
   {
    "duration": 7504,
    "start_time": "2023-08-12T16:56:50.276Z"
   },
   {
    "duration": 66,
    "start_time": "2023-08-12T16:57:18.882Z"
   },
   {
    "duration": 11,
    "start_time": "2023-08-12T16:57:19.582Z"
   },
   {
    "duration": 4,
    "start_time": "2023-08-12T16:57:19.738Z"
   },
   {
    "duration": 6,
    "start_time": "2023-08-12T16:57:20.068Z"
   },
   {
    "duration": 1092,
    "start_time": "2023-08-12T16:57:21.024Z"
   },
   {
    "duration": 11505,
    "start_time": "2023-08-12T16:57:27.118Z"
   },
   {
    "duration": 10196,
    "start_time": "2023-08-12T16:57:43.214Z"
   },
   {
    "duration": 12,
    "start_time": "2023-08-12T17:03:06.254Z"
   },
   {
    "duration": 345,
    "start_time": "2023-08-12T17:03:12.191Z"
   },
   {
    "duration": 6,
    "start_time": "2023-08-12T17:03:35.015Z"
   },
   {
    "duration": 210,
    "start_time": "2023-08-12T17:03:35.207Z"
   },
   {
    "duration": 6,
    "start_time": "2023-08-12T17:03:37.291Z"
   },
   {
    "duration": 190,
    "start_time": "2023-08-12T17:03:37.459Z"
   },
   {
    "duration": 6,
    "start_time": "2023-08-12T17:03:41.062Z"
   },
   {
    "duration": 836,
    "start_time": "2023-08-12T17:03:41.265Z"
   },
   {
    "duration": 2544,
    "start_time": "2023-08-12T17:04:04.611Z"
   },
   {
    "duration": 2357,
    "start_time": "2023-08-12T17:04:07.157Z"
   },
   {
    "duration": 53,
    "start_time": "2023-08-12T17:04:09.515Z"
   },
   {
    "duration": 3,
    "start_time": "2023-08-12T17:04:09.571Z"
   },
   {
    "duration": 8,
    "start_time": "2023-08-12T17:04:09.576Z"
   },
   {
    "duration": 14,
    "start_time": "2023-08-12T17:04:09.586Z"
   },
   {
    "duration": 11,
    "start_time": "2023-08-12T17:04:09.602Z"
   },
   {
    "duration": 1485,
    "start_time": "2023-08-12T17:04:09.615Z"
   },
   {
    "duration": 329,
    "start_time": "2023-08-12T17:04:11.101Z"
   },
   {
    "duration": 1071,
    "start_time": "2023-08-12T17:04:11.433Z"
   },
   {
    "duration": 5,
    "start_time": "2023-08-12T17:04:12.508Z"
   },
   {
    "duration": 74,
    "start_time": "2023-08-12T17:04:12.515Z"
   },
   {
    "duration": 26,
    "start_time": "2023-08-12T17:04:12.591Z"
   },
   {
    "duration": 24,
    "start_time": "2023-08-12T17:04:12.619Z"
   },
   {
    "duration": 17,
    "start_time": "2023-08-12T17:04:12.645Z"
   },
   {
    "duration": 750,
    "start_time": "2023-08-12T17:04:12.664Z"
   },
   {
    "duration": 93,
    "start_time": "2023-08-12T17:04:13.416Z"
   },
   {
    "duration": 896,
    "start_time": "2023-08-12T17:04:13.512Z"
   },
   {
    "duration": 12411,
    "start_time": "2023-08-12T17:04:14.410Z"
   },
   {
    "duration": 6,
    "start_time": "2023-08-12T17:04:26.822Z"
   },
   {
    "duration": 914,
    "start_time": "2023-08-12T17:04:26.830Z"
   },
   {
    "duration": 11494,
    "start_time": "2023-08-12T17:04:27.746Z"
   },
   {
    "duration": 5,
    "start_time": "2023-08-12T17:04:39.242Z"
   },
   {
    "duration": 842,
    "start_time": "2023-08-12T17:04:39.249Z"
   },
   {
    "duration": 20,
    "start_time": "2023-08-12T17:04:40.092Z"
   },
   {
    "duration": 349,
    "start_time": "2023-08-12T17:04:40.114Z"
   },
   {
    "duration": 1049,
    "start_time": "2023-08-12T17:09:41.966Z"
   },
   {
    "duration": 2516,
    "start_time": "2023-08-12T17:10:12.206Z"
   },
   {
    "duration": 247,
    "start_time": "2023-08-12T17:10:16.800Z"
   },
   {
    "duration": 2500,
    "start_time": "2023-08-12T17:10:31.228Z"
   },
   {
    "duration": 2459,
    "start_time": "2023-08-12T17:10:33.731Z"
   },
   {
    "duration": 54,
    "start_time": "2023-08-12T17:10:36.191Z"
   },
   {
    "duration": 4,
    "start_time": "2023-08-12T17:10:36.247Z"
   },
   {
    "duration": 30,
    "start_time": "2023-08-12T17:10:36.254Z"
   },
   {
    "duration": 41,
    "start_time": "2023-08-12T17:10:36.287Z"
   },
   {
    "duration": 26,
    "start_time": "2023-08-12T17:10:36.330Z"
   },
   {
    "duration": 1589,
    "start_time": "2023-08-12T17:10:36.359Z"
   },
   {
    "duration": 370,
    "start_time": "2023-08-12T17:10:37.950Z"
   },
   {
    "duration": 1186,
    "start_time": "2023-08-12T17:10:38.322Z"
   },
   {
    "duration": 5,
    "start_time": "2023-08-12T17:10:39.510Z"
   },
   {
    "duration": 107,
    "start_time": "2023-08-12T17:10:39.517Z"
   },
   {
    "duration": 16,
    "start_time": "2023-08-12T17:10:39.626Z"
   },
   {
    "duration": 23,
    "start_time": "2023-08-12T17:10:39.644Z"
   },
   {
    "duration": 30,
    "start_time": "2023-08-12T17:10:39.669Z"
   },
   {
    "duration": 1015,
    "start_time": "2023-08-12T17:10:39.701Z"
   },
   {
    "duration": 93,
    "start_time": "2023-08-12T17:10:40.718Z"
   },
   {
    "duration": 929,
    "start_time": "2023-08-12T17:10:40.812Z"
   },
   {
    "duration": 10180,
    "start_time": "2023-08-12T17:10:41.742Z"
   },
   {
    "duration": 85,
    "start_time": "2023-08-12T17:10:51.924Z"
   },
   {
    "duration": 825,
    "start_time": "2023-08-12T17:10:52.011Z"
   },
   {
    "duration": 11865,
    "start_time": "2023-08-12T17:10:52.839Z"
   },
   {
    "duration": 6,
    "start_time": "2023-08-12T17:11:04.707Z"
   },
   {
    "duration": 845,
    "start_time": "2023-08-12T17:11:04.715Z"
   },
   {
    "duration": 2767,
    "start_time": "2023-08-12T17:11:05.562Z"
   },
   {
    "duration": 338,
    "start_time": "2023-08-12T17:11:08.409Z"
   },
   {
    "duration": 0,
    "start_time": "2023-08-12T17:11:08.749Z"
   },
   {
    "duration": 0,
    "start_time": "2023-08-12T17:11:08.750Z"
   },
   {
    "duration": 0,
    "start_time": "2023-08-12T17:11:08.751Z"
   },
   {
    "duration": 7,
    "start_time": "2023-08-12T17:11:09.154Z"
   },
   {
    "duration": 1316,
    "start_time": "2023-08-12T17:11:10.094Z"
   },
   {
    "duration": 6,
    "start_time": "2023-08-12T17:11:11.413Z"
   },
   {
    "duration": 799,
    "start_time": "2023-08-12T17:11:11.653Z"
   },
   {
    "duration": 31,
    "start_time": "2023-08-12T17:11:19.495Z"
   },
   {
    "duration": 8,
    "start_time": "2023-08-12T17:11:20.139Z"
   },
   {
    "duration": 4,
    "start_time": "2023-08-12T17:11:20.316Z"
   },
   {
    "duration": 6,
    "start_time": "2023-08-12T17:11:20.664Z"
   },
   {
    "duration": 50,
    "start_time": "2023-08-12T17:11:21.480Z"
   },
   {
    "duration": 5,
    "start_time": "2023-08-12T17:11:22.260Z"
   },
   {
    "duration": 193,
    "start_time": "2023-08-12T17:11:22.505Z"
   },
   {
    "duration": 47,
    "start_time": "2023-08-12T17:11:30.905Z"
   },
   {
    "duration": 9,
    "start_time": "2023-08-12T17:11:31.545Z"
   },
   {
    "duration": 177,
    "start_time": "2023-08-12T17:11:31.663Z"
   },
   {
    "duration": 8,
    "start_time": "2023-08-12T17:11:32.005Z"
   },
   {
    "duration": 543,
    "start_time": "2023-08-12T17:11:32.574Z"
   },
   {
    "duration": 7,
    "start_time": "2023-08-12T17:11:33.213Z"
   },
   {
    "duration": 247,
    "start_time": "2023-08-12T17:11:33.364Z"
   },
   {
    "duration": 69,
    "start_time": "2023-08-12T17:11:40.452Z"
   },
   {
    "duration": 10,
    "start_time": "2023-08-12T17:11:41.068Z"
   },
   {
    "duration": 6,
    "start_time": "2023-08-12T17:11:41.227Z"
   },
   {
    "duration": 7,
    "start_time": "2023-08-12T17:11:41.568Z"
   },
   {
    "duration": 967,
    "start_time": "2023-08-12T17:11:42.243Z"
   },
   {
    "duration": 96,
    "start_time": "2023-08-12T17:11:43.213Z"
   },
   {
    "duration": 317,
    "start_time": "2023-08-12T17:11:43.311Z"
   },
   {
    "duration": 66,
    "start_time": "2023-08-12T17:11:51.063Z"
   },
   {
    "duration": 13,
    "start_time": "2023-08-12T17:11:51.690Z"
   },
   {
    "duration": 6,
    "start_time": "2023-08-12T17:11:51.828Z"
   },
   {
    "duration": 7,
    "start_time": "2023-08-12T17:11:52.224Z"
   },
   {
    "duration": 987,
    "start_time": "2023-08-12T17:11:52.726Z"
   },
   {
    "duration": 93,
    "start_time": "2023-08-12T17:11:53.716Z"
   },
   {
    "duration": 837,
    "start_time": "2023-08-12T17:11:53.812Z"
   },
   {
    "duration": 79,
    "start_time": "2023-08-12T17:12:07.789Z"
   },
   {
    "duration": 15,
    "start_time": "2023-08-12T17:12:08.530Z"
   },
   {
    "duration": 4,
    "start_time": "2023-08-12T17:12:08.698Z"
   },
   {
    "duration": 6,
    "start_time": "2023-08-12T17:12:08.991Z"
   },
   {
    "duration": 1010,
    "start_time": "2023-08-12T17:12:09.508Z"
   },
   {
    "duration": 6,
    "start_time": "2023-08-12T17:12:10.610Z"
   },
   {
    "duration": 1068,
    "start_time": "2023-08-12T17:12:10.617Z"
   },
   {
    "duration": 132,
    "start_time": "2023-08-12T17:12:18.454Z"
   },
   {
    "duration": 1104,
    "start_time": "2023-08-12T17:12:23.208Z"
   },
   {
    "duration": 95,
    "start_time": "2023-08-12T17:12:24.314Z"
   },
   {
    "duration": 1098,
    "start_time": "2023-08-12T17:12:24.411Z"
   },
   {
    "duration": 24,
    "start_time": "2023-08-12T17:12:31.402Z"
   },
   {
    "duration": 5,
    "start_time": "2023-08-12T17:12:31.605Z"
   },
   {
    "duration": 8,
    "start_time": "2023-08-12T17:12:31.940Z"
   },
   {
    "duration": 2246,
    "start_time": "2023-08-12T17:12:32.468Z"
   },
   {
    "duration": 6,
    "start_time": "2023-08-12T17:12:34.808Z"
   },
   {
    "duration": 2781,
    "start_time": "2023-08-12T17:12:34.816Z"
   },
   {
    "duration": 2442,
    "start_time": "2023-08-12T17:12:49.926Z"
   },
   {
    "duration": 2395,
    "start_time": "2023-08-12T17:12:52.370Z"
   },
   {
    "duration": 54,
    "start_time": "2023-08-12T17:12:54.766Z"
   },
   {
    "duration": 3,
    "start_time": "2023-08-12T17:12:54.823Z"
   },
   {
    "duration": 39,
    "start_time": "2023-08-12T17:12:54.828Z"
   },
   {
    "duration": 39,
    "start_time": "2023-08-12T17:12:54.869Z"
   },
   {
    "duration": 27,
    "start_time": "2023-08-12T17:12:54.910Z"
   },
   {
    "duration": 1697,
    "start_time": "2023-08-12T17:12:54.939Z"
   },
   {
    "duration": 360,
    "start_time": "2023-08-12T17:12:56.638Z"
   },
   {
    "duration": 1065,
    "start_time": "2023-08-12T17:12:57.001Z"
   },
   {
    "duration": 5,
    "start_time": "2023-08-12T17:12:58.067Z"
   },
   {
    "duration": 85,
    "start_time": "2023-08-12T17:12:58.074Z"
   },
   {
    "duration": 66,
    "start_time": "2023-08-12T17:12:58.161Z"
   },
   {
    "duration": 56,
    "start_time": "2023-08-12T17:12:58.229Z"
   },
   {
    "duration": 14,
    "start_time": "2023-08-12T17:12:58.287Z"
   },
   {
    "duration": 1507,
    "start_time": "2023-08-12T17:12:58.303Z"
   },
   {
    "duration": 6,
    "start_time": "2023-08-12T17:12:59.812Z"
   },
   {
    "duration": 892,
    "start_time": "2023-08-12T17:12:59.820Z"
   },
   {
    "duration": 24902,
    "start_time": "2023-08-12T17:13:00.715Z"
   },
   {
    "duration": 5,
    "start_time": "2023-08-12T17:13:25.619Z"
   },
   {
    "duration": 930,
    "start_time": "2023-08-12T17:13:25.627Z"
   },
   {
    "duration": 12018,
    "start_time": "2023-08-12T17:13:26.560Z"
   },
   {
    "duration": 6,
    "start_time": "2023-08-12T17:13:38.581Z"
   },
   {
    "duration": 948,
    "start_time": "2023-08-12T17:13:38.590Z"
   },
   {
    "duration": 13075,
    "start_time": "2023-08-12T17:13:39.539Z"
   },
   {
    "duration": 348,
    "start_time": "2023-08-12T17:13:52.617Z"
   },
   {
    "duration": 0,
    "start_time": "2023-08-12T17:13:52.968Z"
   },
   {
    "duration": 158,
    "start_time": "2023-08-12T17:14:29.079Z"
   },
   {
    "duration": 310,
    "start_time": "2023-08-12T17:14:32.755Z"
   },
   {
    "duration": 289,
    "start_time": "2023-08-12T17:15:02.736Z"
   },
   {
    "duration": 869,
    "start_time": "2023-08-12T17:15:22.039Z"
   },
   {
    "duration": 1154,
    "start_time": "2023-08-12T17:15:26.467Z"
   },
   {
    "duration": 909,
    "start_time": "2023-08-12T17:15:31.565Z"
   },
   {
    "duration": 874,
    "start_time": "2023-08-12T17:15:34.826Z"
   },
   {
    "duration": 1129,
    "start_time": "2023-08-12T17:15:38.126Z"
   },
   {
    "duration": 1204,
    "start_time": "2023-08-12T17:15:41.013Z"
   },
   {
    "duration": 903,
    "start_time": "2023-08-12T17:15:46.777Z"
   },
   {
    "duration": 1064,
    "start_time": "2023-08-12T17:15:51.070Z"
   },
   {
    "duration": 873,
    "start_time": "2023-08-12T17:15:55.512Z"
   },
   {
    "duration": 1103,
    "start_time": "2023-08-12T17:15:59.216Z"
   },
   {
    "duration": 1149,
    "start_time": "2023-08-12T17:16:03.798Z"
   },
   {
    "duration": 1181,
    "start_time": "2023-08-12T17:16:07.090Z"
   },
   {
    "duration": 1143,
    "start_time": "2023-08-12T17:16:10.884Z"
   },
   {
    "duration": 827,
    "start_time": "2023-08-12T17:16:13.618Z"
   },
   {
    "duration": 836,
    "start_time": "2023-08-12T17:16:23.045Z"
   },
   {
    "duration": 812,
    "start_time": "2023-08-12T17:16:27.152Z"
   },
   {
    "duration": 865,
    "start_time": "2023-08-12T17:16:34.104Z"
   },
   {
    "duration": 845,
    "start_time": "2023-08-12T17:16:37.458Z"
   },
   {
    "duration": 56,
    "start_time": "2023-08-12T17:16:53.593Z"
   },
   {
    "duration": 11,
    "start_time": "2023-08-12T17:16:54.278Z"
   },
   {
    "duration": 4,
    "start_time": "2023-08-12T17:16:54.467Z"
   },
   {
    "duration": 7,
    "start_time": "2023-08-12T17:16:54.928Z"
   },
   {
    "duration": 1017,
    "start_time": "2023-08-12T17:16:55.596Z"
   },
   {
    "duration": 5,
    "start_time": "2023-08-12T17:16:56.616Z"
   },
   {
    "duration": 319,
    "start_time": "2023-08-12T17:16:56.708Z"
   },
   {
    "duration": 154391,
    "start_time": "2023-08-12T17:16:57.029Z"
   },
   {
    "duration": 5,
    "start_time": "2023-08-12T17:19:31.423Z"
   },
   {
    "duration": 364,
    "start_time": "2023-08-12T17:19:31.430Z"
   },
   {
    "duration": 8323,
    "start_time": "2023-08-12T17:19:31.797Z"
   },
   {
    "duration": 5,
    "start_time": "2023-08-12T17:19:40.122Z"
   },
   {
    "duration": 322,
    "start_time": "2023-08-12T17:19:40.129Z"
   },
   {
    "duration": 5661,
    "start_time": "2023-08-12T17:25:12.657Z"
   },
   {
    "duration": 250,
    "start_time": "2023-08-12T17:25:18.320Z"
   },
   {
    "duration": 14354,
    "start_time": "2023-08-13T13:17:12.520Z"
   },
   {
    "duration": 2424,
    "start_time": "2023-08-13T13:17:26.877Z"
   },
   {
    "duration": 152,
    "start_time": "2023-08-13T13:17:29.303Z"
   },
   {
    "duration": 2,
    "start_time": "2023-08-13T13:17:29.458Z"
   },
   {
    "duration": 6,
    "start_time": "2023-08-13T13:17:29.462Z"
   },
   {
    "duration": 15,
    "start_time": "2023-08-13T13:17:29.469Z"
   },
   {
    "duration": 10,
    "start_time": "2023-08-13T13:17:29.485Z"
   },
   {
    "duration": 1630,
    "start_time": "2023-08-13T13:17:29.496Z"
   },
   {
    "duration": 333,
    "start_time": "2023-08-13T13:17:31.127Z"
   },
   {
    "duration": 1012,
    "start_time": "2023-08-13T13:17:31.463Z"
   },
   {
    "duration": 4,
    "start_time": "2023-08-13T13:17:32.476Z"
   },
   {
    "duration": 63,
    "start_time": "2023-08-13T13:17:32.482Z"
   },
   {
    "duration": 16,
    "start_time": "2023-08-13T13:17:32.547Z"
   },
   {
    "duration": 4,
    "start_time": "2023-08-13T13:17:32.564Z"
   },
   {
    "duration": 11,
    "start_time": "2023-08-13T13:17:32.570Z"
   },
   {
    "duration": 218,
    "start_time": "2023-08-13T13:17:32.583Z"
   },
   {
    "duration": 360,
    "start_time": "2023-08-13T13:17:32.802Z"
   },
   {
    "duration": 96,
    "start_time": "2023-08-13T13:17:33.163Z"
   },
   {
    "duration": 302,
    "start_time": "2023-08-13T13:17:33.261Z"
   },
   {
    "duration": 6599,
    "start_time": "2023-08-13T13:17:33.565Z"
   },
   {
    "duration": 5,
    "start_time": "2023-08-13T13:17:40.165Z"
   },
   {
    "duration": 318,
    "start_time": "2023-08-13T13:17:40.172Z"
   },
   {
    "duration": 6515,
    "start_time": "2023-08-13T13:17:40.492Z"
   },
   {
    "duration": 5,
    "start_time": "2023-08-13T13:17:47.009Z"
   },
   {
    "duration": 281,
    "start_time": "2023-08-13T13:17:47.016Z"
   },
   {
    "duration": 5203,
    "start_time": "2023-08-13T13:17:47.299Z"
   },
   {
    "duration": 306,
    "start_time": "2023-08-13T13:17:52.504Z"
   },
   {
    "duration": 357,
    "start_time": "2023-08-13T13:17:52.814Z"
   },
   {
    "duration": 441,
    "start_time": "2023-08-13T13:18:02.925Z"
   },
   {
    "duration": 5,
    "start_time": "2023-08-13T13:18:15.399Z"
   },
   {
    "duration": 263,
    "start_time": "2023-08-13T13:18:17.404Z"
   },
   {
    "duration": 673,
    "start_time": "2023-08-13T13:20:14.394Z"
   },
   {
    "duration": 871,
    "start_time": "2023-08-13T13:21:54.493Z"
   },
   {
    "duration": 2257,
    "start_time": "2023-08-13T13:22:19.651Z"
   },
   {
    "duration": 2198,
    "start_time": "2023-08-13T13:22:21.911Z"
   },
   {
    "duration": 53,
    "start_time": "2023-08-13T13:22:24.111Z"
   },
   {
    "duration": 4,
    "start_time": "2023-08-13T13:22:24.167Z"
   },
   {
    "duration": 9,
    "start_time": "2023-08-13T13:22:24.174Z"
   },
   {
    "duration": 16,
    "start_time": "2023-08-13T13:22:24.185Z"
   },
   {
    "duration": 12,
    "start_time": "2023-08-13T13:22:24.203Z"
   },
   {
    "duration": 1585,
    "start_time": "2023-08-13T13:22:24.217Z"
   },
   {
    "duration": 335,
    "start_time": "2023-08-13T13:22:25.804Z"
   },
   {
    "duration": 997,
    "start_time": "2023-08-13T13:22:26.141Z"
   },
   {
    "duration": 4,
    "start_time": "2023-08-13T13:22:27.140Z"
   },
   {
    "duration": 68,
    "start_time": "2023-08-13T13:22:27.145Z"
   },
   {
    "duration": 9,
    "start_time": "2023-08-13T13:22:27.215Z"
   },
   {
    "duration": 4,
    "start_time": "2023-08-13T13:22:27.227Z"
   },
   {
    "duration": 27,
    "start_time": "2023-08-13T13:22:27.232Z"
   },
   {
    "duration": 238,
    "start_time": "2023-08-13T13:22:27.261Z"
   },
   {
    "duration": 860,
    "start_time": "2023-08-13T13:22:27.500Z"
   },
   {
    "duration": 105,
    "start_time": "2023-08-13T13:22:28.362Z"
   },
   {
    "duration": 0,
    "start_time": "2023-08-13T13:22:28.468Z"
   },
   {
    "duration": 0,
    "start_time": "2023-08-13T13:22:28.469Z"
   },
   {
    "duration": 0,
    "start_time": "2023-08-13T13:22:28.471Z"
   },
   {
    "duration": 0,
    "start_time": "2023-08-13T13:22:28.473Z"
   },
   {
    "duration": 0,
    "start_time": "2023-08-13T13:22:28.474Z"
   },
   {
    "duration": 0,
    "start_time": "2023-08-13T13:22:28.474Z"
   },
   {
    "duration": 0,
    "start_time": "2023-08-13T13:22:28.475Z"
   },
   {
    "duration": 0,
    "start_time": "2023-08-13T13:22:28.477Z"
   },
   {
    "duration": 0,
    "start_time": "2023-08-13T13:22:28.478Z"
   },
   {
    "duration": 665,
    "start_time": "2023-08-13T13:22:41.201Z"
   },
   {
    "duration": 348,
    "start_time": "2023-08-13T13:43:04.013Z"
   },
   {
    "duration": 345,
    "start_time": "2023-08-13T13:43:08.821Z"
   },
   {
    "duration": 13,
    "start_time": "2023-08-13T13:43:17.218Z"
   },
   {
    "duration": 13,
    "start_time": "2023-08-13T13:43:17.488Z"
   },
   {
    "duration": 2258,
    "start_time": "2023-08-13T13:43:35.874Z"
   },
   {
    "duration": 2316,
    "start_time": "2023-08-13T13:43:38.134Z"
   },
   {
    "duration": 50,
    "start_time": "2023-08-13T13:43:40.453Z"
   },
   {
    "duration": 3,
    "start_time": "2023-08-13T13:43:40.505Z"
   },
   {
    "duration": 5,
    "start_time": "2023-08-13T13:43:40.510Z"
   },
   {
    "duration": 11,
    "start_time": "2023-08-13T13:43:40.516Z"
   },
   {
    "duration": 7,
    "start_time": "2023-08-13T13:43:40.529Z"
   },
   {
    "duration": 1540,
    "start_time": "2023-08-13T13:43:40.538Z"
   },
   {
    "duration": 346,
    "start_time": "2023-08-13T13:43:42.080Z"
   },
   {
    "duration": 1074,
    "start_time": "2023-08-13T13:43:42.427Z"
   },
   {
    "duration": 4,
    "start_time": "2023-08-13T13:43:43.503Z"
   },
   {
    "duration": 77,
    "start_time": "2023-08-13T13:43:43.509Z"
   },
   {
    "duration": 7,
    "start_time": "2023-08-13T13:43:43.588Z"
   },
   {
    "duration": 10,
    "start_time": "2023-08-13T13:43:43.598Z"
   },
   {
    "duration": 14,
    "start_time": "2023-08-13T13:43:43.610Z"
   },
   {
    "duration": 1234,
    "start_time": "2023-08-13T13:43:43.626Z"
   },
   {
    "duration": 259,
    "start_time": "2023-08-13T13:43:44.862Z"
   },
   {
    "duration": 0,
    "start_time": "2023-08-13T13:43:45.123Z"
   },
   {
    "duration": 0,
    "start_time": "2023-08-13T13:43:45.124Z"
   },
   {
    "duration": 0,
    "start_time": "2023-08-13T13:43:45.125Z"
   },
   {
    "duration": 0,
    "start_time": "2023-08-13T13:43:45.126Z"
   },
   {
    "duration": 0,
    "start_time": "2023-08-13T13:43:45.127Z"
   },
   {
    "duration": 0,
    "start_time": "2023-08-13T13:43:45.128Z"
   },
   {
    "duration": 0,
    "start_time": "2023-08-13T13:43:45.130Z"
   },
   {
    "duration": 0,
    "start_time": "2023-08-13T13:43:45.131Z"
   },
   {
    "duration": 0,
    "start_time": "2023-08-13T13:43:45.132Z"
   },
   {
    "duration": 15,
    "start_time": "2023-08-13T14:07:17.882Z"
   },
   {
    "duration": 18,
    "start_time": "2023-08-13T14:08:36.858Z"
   },
   {
    "duration": 38,
    "start_time": "2023-08-13T14:09:03.207Z"
   },
   {
    "duration": 28,
    "start_time": "2023-08-13T14:09:08.885Z"
   },
   {
    "duration": 531,
    "start_time": "2023-08-13T14:10:11.336Z"
   },
   {
    "duration": 5,
    "start_time": "2023-08-13T14:10:15.827Z"
   },
   {
    "duration": 7804,
    "start_time": "2023-08-13T14:10:21.037Z"
   },
   {
    "duration": 295,
    "start_time": "2023-08-13T14:10:28.843Z"
   },
   {
    "duration": 5,
    "start_time": "2023-08-13T14:10:44.573Z"
   },
   {
    "duration": 6389,
    "start_time": "2023-08-13T14:11:24.847Z"
   },
   {
    "duration": 4,
    "start_time": "2023-08-13T14:11:31.238Z"
   },
   {
    "duration": 356,
    "start_time": "2023-08-13T14:11:31.244Z"
   },
   {
    "duration": 81851,
    "start_time": "2023-08-13T14:11:49.516Z"
   },
   {
    "duration": 7,
    "start_time": "2023-08-13T14:13:11.371Z"
   },
   {
    "duration": 330,
    "start_time": "2023-08-13T14:13:11.380Z"
   },
   {
    "duration": 406045,
    "start_time": "2023-08-13T14:13:28.729Z"
   },
   {
    "duration": 28087,
    "start_time": "2023-08-13T14:38:31.006Z"
   },
   {
    "duration": 212,
    "start_time": "2023-08-13T14:38:59.095Z"
   },
   {
    "duration": 5903,
    "start_time": "2023-08-13T14:40:41.707Z"
   },
   {
    "duration": 4,
    "start_time": "2023-08-13T14:40:47.612Z"
   },
   {
    "duration": 288,
    "start_time": "2023-08-13T14:40:47.618Z"
   },
   {
    "duration": 329,
    "start_time": "2023-08-13T14:41:05.874Z"
   }
  ],
  "kernelspec": {
   "display_name": "Python 3 (ipykernel)",
   "language": "python",
   "name": "python3"
  },
  "language_info": {
   "codemirror_mode": {
    "name": "ipython",
    "version": 3
   },
   "file_extension": ".py",
   "mimetype": "text/x-python",
   "name": "python",
   "nbconvert_exporter": "python",
   "pygments_lexer": "ipython3",
   "version": "3.11.4"
  },
  "toc": {
   "base_numbering": 1,
   "nav_menu": {},
   "number_sections": true,
   "sideBar": true,
   "skip_h1_title": true,
   "title_cell": "Содержание",
   "title_sidebar": "Contents",
   "toc_cell": true,
   "toc_position": {},
   "toc_section_display": true,
   "toc_window_display": false
  }
 },
 "nbformat": 4,
 "nbformat_minor": 2
}
