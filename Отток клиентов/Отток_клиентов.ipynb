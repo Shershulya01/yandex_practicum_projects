{
 "cells": [
  {
   "cell_type": "markdown",
   "metadata": {
    "toc": true
   },
   "source": [
    "<h1>Содержание<span class=\"tocSkip\"></span></h1>\n",
    "<div class=\"toc\"><ul class=\"toc-item\"><li><span><a href=\"#Подготовка-данных\" data-toc-modified-id=\"Подготовка-данных-1\"><span class=\"toc-item-num\">1&nbsp;&nbsp;</span>Подготовка данных</a></span></li><li><span><a href=\"#Исследование-задачи\" data-toc-modified-id=\"Исследование-задачи-2\"><span class=\"toc-item-num\">2&nbsp;&nbsp;</span>Исследование задачи</a></span></li><li><span><a href=\"#Борьба-с-дисбалансом\" data-toc-modified-id=\"Борьба-с-дисбалансом-3\"><span class=\"toc-item-num\">3&nbsp;&nbsp;</span>Борьба с дисбалансом</a></span></li><li><span><a href=\"#Тестирование-модели\" data-toc-modified-id=\"Тестирование-модели-4\"><span class=\"toc-item-num\">4&nbsp;&nbsp;</span>Тестирование модели"
   ]
  },
  {
   "cell_type": "markdown",
   "metadata": {},
   "source": [
    "# Отток клиентов"
   ]
  },
  {
   "cell_type": "markdown",
   "metadata": {},
   "source": [
    "Из «Бета-Банка» стали уходить клиенты. Каждый месяц. Немного, но заметно. Банковские маркетологи посчитали: сохранять текущих клиентов дешевле, чем привлекать новых.\n",
    "\n",
    "Нужно спрогнозировать, уйдёт клиент из банка в ближайшее время или нет. Вам предоставлены исторические данные о поведении клиентов и расторжении договоров с банком. \n",
    "\n",
    "Постройте модель с предельно большим значением *F1*-меры. Чтобы сдать проект успешно, нужно довести метрику до 0.59. Проверьте *F1*-меру на тестовой выборке самостоятельно.\n",
    "\n",
    "Дополнительно измеряйте *AUC-ROC*, сравнивайте её значение с *F1*-мерой.\n",
    "\n",
    "Источник данных: [https://www.kaggle.com/barelydedicated/bank-customer-churn-modeling](https://www.kaggle.com/barelydedicated/bank-customer-churn-modeling)"
   ]
  },
  {
   "cell_type": "markdown",
   "metadata": {},
   "source": [
    "## Подготовка данных"
   ]
  },
  {
   "cell_type": "code",
   "execution_count": 1,
   "metadata": {},
   "outputs": [],
   "source": [
    "import pandas as pd\n",
    "import numpy as np\n",
    "import matplotlib.pyplot as plt\n",
    "from sklearn.ensemble import RandomForestClassifier\n",
    "from sklearn.linear_model import LogisticRegression\n",
    "from sklearn.model_selection import train_test_split\n",
    "from sklearn.preprocessing import StandardScaler\n",
    "from sklearn.metrics import accuracy_score, roc_auc_score, f1_score, precision_score, recall_score\n",
    "from sklearn.dummy import DummyClassifier\n",
    "from sklearn.utils import shuffle"
   ]
  },
  {
   "cell_type": "code",
   "execution_count": 2,
   "metadata": {},
   "outputs": [],
   "source": [
    "data = pd.read_csv('/datasets/Churn.csv')"
   ]
  },
  {
   "cell_type": "code",
   "execution_count": 3,
   "metadata": {},
   "outputs": [
    {
     "data": {
      "text/html": [
       "<div>\n",
       "<style scoped>\n",
       "    .dataframe tbody tr th:only-of-type {\n",
       "        vertical-align: middle;\n",
       "    }\n",
       "\n",
       "    .dataframe tbody tr th {\n",
       "        vertical-align: top;\n",
       "    }\n",
       "\n",
       "    .dataframe thead th {\n",
       "        text-align: right;\n",
       "    }\n",
       "</style>\n",
       "<table border=\"1\" class=\"dataframe\">\n",
       "  <thead>\n",
       "    <tr style=\"text-align: right;\">\n",
       "      <th></th>\n",
       "      <th>RowNumber</th>\n",
       "      <th>CustomerId</th>\n",
       "      <th>Surname</th>\n",
       "      <th>CreditScore</th>\n",
       "      <th>Geography</th>\n",
       "      <th>Gender</th>\n",
       "      <th>Age</th>\n",
       "      <th>Tenure</th>\n",
       "      <th>Balance</th>\n",
       "      <th>NumOfProducts</th>\n",
       "      <th>HasCrCard</th>\n",
       "      <th>IsActiveMember</th>\n",
       "      <th>EstimatedSalary</th>\n",
       "      <th>Exited</th>\n",
       "    </tr>\n",
       "  </thead>\n",
       "  <tbody>\n",
       "    <tr>\n",
       "      <th>0</th>\n",
       "      <td>1</td>\n",
       "      <td>15634602</td>\n",
       "      <td>Hargrave</td>\n",
       "      <td>619</td>\n",
       "      <td>France</td>\n",
       "      <td>Female</td>\n",
       "      <td>42</td>\n",
       "      <td>2.0</td>\n",
       "      <td>0.00</td>\n",
       "      <td>1</td>\n",
       "      <td>1</td>\n",
       "      <td>1</td>\n",
       "      <td>101348.88</td>\n",
       "      <td>1</td>\n",
       "    </tr>\n",
       "    <tr>\n",
       "      <th>1</th>\n",
       "      <td>2</td>\n",
       "      <td>15647311</td>\n",
       "      <td>Hill</td>\n",
       "      <td>608</td>\n",
       "      <td>Spain</td>\n",
       "      <td>Female</td>\n",
       "      <td>41</td>\n",
       "      <td>1.0</td>\n",
       "      <td>83807.86</td>\n",
       "      <td>1</td>\n",
       "      <td>0</td>\n",
       "      <td>1</td>\n",
       "      <td>112542.58</td>\n",
       "      <td>0</td>\n",
       "    </tr>\n",
       "    <tr>\n",
       "      <th>2</th>\n",
       "      <td>3</td>\n",
       "      <td>15619304</td>\n",
       "      <td>Onio</td>\n",
       "      <td>502</td>\n",
       "      <td>France</td>\n",
       "      <td>Female</td>\n",
       "      <td>42</td>\n",
       "      <td>8.0</td>\n",
       "      <td>159660.80</td>\n",
       "      <td>3</td>\n",
       "      <td>1</td>\n",
       "      <td>0</td>\n",
       "      <td>113931.57</td>\n",
       "      <td>1</td>\n",
       "    </tr>\n",
       "    <tr>\n",
       "      <th>3</th>\n",
       "      <td>4</td>\n",
       "      <td>15701354</td>\n",
       "      <td>Boni</td>\n",
       "      <td>699</td>\n",
       "      <td>France</td>\n",
       "      <td>Female</td>\n",
       "      <td>39</td>\n",
       "      <td>1.0</td>\n",
       "      <td>0.00</td>\n",
       "      <td>2</td>\n",
       "      <td>0</td>\n",
       "      <td>0</td>\n",
       "      <td>93826.63</td>\n",
       "      <td>0</td>\n",
       "    </tr>\n",
       "    <tr>\n",
       "      <th>4</th>\n",
       "      <td>5</td>\n",
       "      <td>15737888</td>\n",
       "      <td>Mitchell</td>\n",
       "      <td>850</td>\n",
       "      <td>Spain</td>\n",
       "      <td>Female</td>\n",
       "      <td>43</td>\n",
       "      <td>2.0</td>\n",
       "      <td>125510.82</td>\n",
       "      <td>1</td>\n",
       "      <td>1</td>\n",
       "      <td>1</td>\n",
       "      <td>79084.10</td>\n",
       "      <td>0</td>\n",
       "    </tr>\n",
       "    <tr>\n",
       "      <th>5</th>\n",
       "      <td>6</td>\n",
       "      <td>15574012</td>\n",
       "      <td>Chu</td>\n",
       "      <td>645</td>\n",
       "      <td>Spain</td>\n",
       "      <td>Male</td>\n",
       "      <td>44</td>\n",
       "      <td>8.0</td>\n",
       "      <td>113755.78</td>\n",
       "      <td>2</td>\n",
       "      <td>1</td>\n",
       "      <td>0</td>\n",
       "      <td>149756.71</td>\n",
       "      <td>1</td>\n",
       "    </tr>\n",
       "    <tr>\n",
       "      <th>6</th>\n",
       "      <td>7</td>\n",
       "      <td>15592531</td>\n",
       "      <td>Bartlett</td>\n",
       "      <td>822</td>\n",
       "      <td>France</td>\n",
       "      <td>Male</td>\n",
       "      <td>50</td>\n",
       "      <td>7.0</td>\n",
       "      <td>0.00</td>\n",
       "      <td>2</td>\n",
       "      <td>1</td>\n",
       "      <td>1</td>\n",
       "      <td>10062.80</td>\n",
       "      <td>0</td>\n",
       "    </tr>\n",
       "    <tr>\n",
       "      <th>7</th>\n",
       "      <td>8</td>\n",
       "      <td>15656148</td>\n",
       "      <td>Obinna</td>\n",
       "      <td>376</td>\n",
       "      <td>Germany</td>\n",
       "      <td>Female</td>\n",
       "      <td>29</td>\n",
       "      <td>4.0</td>\n",
       "      <td>115046.74</td>\n",
       "      <td>4</td>\n",
       "      <td>1</td>\n",
       "      <td>0</td>\n",
       "      <td>119346.88</td>\n",
       "      <td>1</td>\n",
       "    </tr>\n",
       "    <tr>\n",
       "      <th>8</th>\n",
       "      <td>9</td>\n",
       "      <td>15792365</td>\n",
       "      <td>He</td>\n",
       "      <td>501</td>\n",
       "      <td>France</td>\n",
       "      <td>Male</td>\n",
       "      <td>44</td>\n",
       "      <td>4.0</td>\n",
       "      <td>142051.07</td>\n",
       "      <td>2</td>\n",
       "      <td>0</td>\n",
       "      <td>1</td>\n",
       "      <td>74940.50</td>\n",
       "      <td>0</td>\n",
       "    </tr>\n",
       "    <tr>\n",
       "      <th>9</th>\n",
       "      <td>10</td>\n",
       "      <td>15592389</td>\n",
       "      <td>H?</td>\n",
       "      <td>684</td>\n",
       "      <td>France</td>\n",
       "      <td>Male</td>\n",
       "      <td>27</td>\n",
       "      <td>2.0</td>\n",
       "      <td>134603.88</td>\n",
       "      <td>1</td>\n",
       "      <td>1</td>\n",
       "      <td>1</td>\n",
       "      <td>71725.73</td>\n",
       "      <td>0</td>\n",
       "    </tr>\n",
       "    <tr>\n",
       "      <th>10</th>\n",
       "      <td>11</td>\n",
       "      <td>15767821</td>\n",
       "      <td>Bearce</td>\n",
       "      <td>528</td>\n",
       "      <td>France</td>\n",
       "      <td>Male</td>\n",
       "      <td>31</td>\n",
       "      <td>6.0</td>\n",
       "      <td>102016.72</td>\n",
       "      <td>2</td>\n",
       "      <td>0</td>\n",
       "      <td>0</td>\n",
       "      <td>80181.12</td>\n",
       "      <td>0</td>\n",
       "    </tr>\n",
       "    <tr>\n",
       "      <th>11</th>\n",
       "      <td>12</td>\n",
       "      <td>15737173</td>\n",
       "      <td>Andrews</td>\n",
       "      <td>497</td>\n",
       "      <td>Spain</td>\n",
       "      <td>Male</td>\n",
       "      <td>24</td>\n",
       "      <td>3.0</td>\n",
       "      <td>0.00</td>\n",
       "      <td>2</td>\n",
       "      <td>1</td>\n",
       "      <td>0</td>\n",
       "      <td>76390.01</td>\n",
       "      <td>0</td>\n",
       "    </tr>\n",
       "    <tr>\n",
       "      <th>12</th>\n",
       "      <td>13</td>\n",
       "      <td>15632264</td>\n",
       "      <td>Kay</td>\n",
       "      <td>476</td>\n",
       "      <td>France</td>\n",
       "      <td>Female</td>\n",
       "      <td>34</td>\n",
       "      <td>10.0</td>\n",
       "      <td>0.00</td>\n",
       "      <td>2</td>\n",
       "      <td>1</td>\n",
       "      <td>0</td>\n",
       "      <td>26260.98</td>\n",
       "      <td>0</td>\n",
       "    </tr>\n",
       "    <tr>\n",
       "      <th>13</th>\n",
       "      <td>14</td>\n",
       "      <td>15691483</td>\n",
       "      <td>Chin</td>\n",
       "      <td>549</td>\n",
       "      <td>France</td>\n",
       "      <td>Female</td>\n",
       "      <td>25</td>\n",
       "      <td>5.0</td>\n",
       "      <td>0.00</td>\n",
       "      <td>2</td>\n",
       "      <td>0</td>\n",
       "      <td>0</td>\n",
       "      <td>190857.79</td>\n",
       "      <td>0</td>\n",
       "    </tr>\n",
       "    <tr>\n",
       "      <th>14</th>\n",
       "      <td>15</td>\n",
       "      <td>15600882</td>\n",
       "      <td>Scott</td>\n",
       "      <td>635</td>\n",
       "      <td>Spain</td>\n",
       "      <td>Female</td>\n",
       "      <td>35</td>\n",
       "      <td>7.0</td>\n",
       "      <td>0.00</td>\n",
       "      <td>2</td>\n",
       "      <td>1</td>\n",
       "      <td>1</td>\n",
       "      <td>65951.65</td>\n",
       "      <td>0</td>\n",
       "    </tr>\n",
       "    <tr>\n",
       "      <th>15</th>\n",
       "      <td>16</td>\n",
       "      <td>15643966</td>\n",
       "      <td>Goforth</td>\n",
       "      <td>616</td>\n",
       "      <td>Germany</td>\n",
       "      <td>Male</td>\n",
       "      <td>45</td>\n",
       "      <td>3.0</td>\n",
       "      <td>143129.41</td>\n",
       "      <td>2</td>\n",
       "      <td>0</td>\n",
       "      <td>1</td>\n",
       "      <td>64327.26</td>\n",
       "      <td>0</td>\n",
       "    </tr>\n",
       "    <tr>\n",
       "      <th>16</th>\n",
       "      <td>17</td>\n",
       "      <td>15737452</td>\n",
       "      <td>Romeo</td>\n",
       "      <td>653</td>\n",
       "      <td>Germany</td>\n",
       "      <td>Male</td>\n",
       "      <td>58</td>\n",
       "      <td>1.0</td>\n",
       "      <td>132602.88</td>\n",
       "      <td>1</td>\n",
       "      <td>1</td>\n",
       "      <td>0</td>\n",
       "      <td>5097.67</td>\n",
       "      <td>1</td>\n",
       "    </tr>\n",
       "    <tr>\n",
       "      <th>17</th>\n",
       "      <td>18</td>\n",
       "      <td>15788218</td>\n",
       "      <td>Henderson</td>\n",
       "      <td>549</td>\n",
       "      <td>Spain</td>\n",
       "      <td>Female</td>\n",
       "      <td>24</td>\n",
       "      <td>9.0</td>\n",
       "      <td>0.00</td>\n",
       "      <td>2</td>\n",
       "      <td>1</td>\n",
       "      <td>1</td>\n",
       "      <td>14406.41</td>\n",
       "      <td>0</td>\n",
       "    </tr>\n",
       "    <tr>\n",
       "      <th>18</th>\n",
       "      <td>19</td>\n",
       "      <td>15661507</td>\n",
       "      <td>Muldrow</td>\n",
       "      <td>587</td>\n",
       "      <td>Spain</td>\n",
       "      <td>Male</td>\n",
       "      <td>45</td>\n",
       "      <td>6.0</td>\n",
       "      <td>0.00</td>\n",
       "      <td>1</td>\n",
       "      <td>0</td>\n",
       "      <td>0</td>\n",
       "      <td>158684.81</td>\n",
       "      <td>0</td>\n",
       "    </tr>\n",
       "    <tr>\n",
       "      <th>19</th>\n",
       "      <td>20</td>\n",
       "      <td>15568982</td>\n",
       "      <td>Hao</td>\n",
       "      <td>726</td>\n",
       "      <td>France</td>\n",
       "      <td>Female</td>\n",
       "      <td>24</td>\n",
       "      <td>6.0</td>\n",
       "      <td>0.00</td>\n",
       "      <td>2</td>\n",
       "      <td>1</td>\n",
       "      <td>1</td>\n",
       "      <td>54724.03</td>\n",
       "      <td>0</td>\n",
       "    </tr>\n",
       "  </tbody>\n",
       "</table>\n",
       "</div>"
      ],
      "text/plain": [
       "    RowNumber  CustomerId    Surname  CreditScore Geography  Gender  Age  \\\n",
       "0           1    15634602   Hargrave          619    France  Female   42   \n",
       "1           2    15647311       Hill          608     Spain  Female   41   \n",
       "2           3    15619304       Onio          502    France  Female   42   \n",
       "3           4    15701354       Boni          699    France  Female   39   \n",
       "4           5    15737888   Mitchell          850     Spain  Female   43   \n",
       "5           6    15574012        Chu          645     Spain    Male   44   \n",
       "6           7    15592531   Bartlett          822    France    Male   50   \n",
       "7           8    15656148     Obinna          376   Germany  Female   29   \n",
       "8           9    15792365         He          501    France    Male   44   \n",
       "9          10    15592389         H?          684    France    Male   27   \n",
       "10         11    15767821     Bearce          528    France    Male   31   \n",
       "11         12    15737173    Andrews          497     Spain    Male   24   \n",
       "12         13    15632264        Kay          476    France  Female   34   \n",
       "13         14    15691483       Chin          549    France  Female   25   \n",
       "14         15    15600882      Scott          635     Spain  Female   35   \n",
       "15         16    15643966    Goforth          616   Germany    Male   45   \n",
       "16         17    15737452      Romeo          653   Germany    Male   58   \n",
       "17         18    15788218  Henderson          549     Spain  Female   24   \n",
       "18         19    15661507    Muldrow          587     Spain    Male   45   \n",
       "19         20    15568982        Hao          726    France  Female   24   \n",
       "\n",
       "    Tenure    Balance  NumOfProducts  HasCrCard  IsActiveMember  \\\n",
       "0      2.0       0.00              1          1               1   \n",
       "1      1.0   83807.86              1          0               1   \n",
       "2      8.0  159660.80              3          1               0   \n",
       "3      1.0       0.00              2          0               0   \n",
       "4      2.0  125510.82              1          1               1   \n",
       "5      8.0  113755.78              2          1               0   \n",
       "6      7.0       0.00              2          1               1   \n",
       "7      4.0  115046.74              4          1               0   \n",
       "8      4.0  142051.07              2          0               1   \n",
       "9      2.0  134603.88              1          1               1   \n",
       "10     6.0  102016.72              2          0               0   \n",
       "11     3.0       0.00              2          1               0   \n",
       "12    10.0       0.00              2          1               0   \n",
       "13     5.0       0.00              2          0               0   \n",
       "14     7.0       0.00              2          1               1   \n",
       "15     3.0  143129.41              2          0               1   \n",
       "16     1.0  132602.88              1          1               0   \n",
       "17     9.0       0.00              2          1               1   \n",
       "18     6.0       0.00              1          0               0   \n",
       "19     6.0       0.00              2          1               1   \n",
       "\n",
       "    EstimatedSalary  Exited  \n",
       "0         101348.88       1  \n",
       "1         112542.58       0  \n",
       "2         113931.57       1  \n",
       "3          93826.63       0  \n",
       "4          79084.10       0  \n",
       "5         149756.71       1  \n",
       "6          10062.80       0  \n",
       "7         119346.88       1  \n",
       "8          74940.50       0  \n",
       "9          71725.73       0  \n",
       "10         80181.12       0  \n",
       "11         76390.01       0  \n",
       "12         26260.98       0  \n",
       "13        190857.79       0  \n",
       "14         65951.65       0  \n",
       "15         64327.26       0  \n",
       "16          5097.67       1  \n",
       "17         14406.41       0  \n",
       "18        158684.81       0  \n",
       "19         54724.03       0  "
      ]
     },
     "metadata": {},
     "output_type": "display_data"
    }
   ],
   "source": [
    "display(data.head(20))"
   ]
  },
  {
   "cell_type": "code",
   "execution_count": 4,
   "metadata": {},
   "outputs": [
    {
     "name": "stdout",
     "output_type": "stream",
     "text": [
      "<class 'pandas.core.frame.DataFrame'>\n",
      "RangeIndex: 10000 entries, 0 to 9999\n",
      "Data columns (total 14 columns):\n",
      " #   Column           Non-Null Count  Dtype  \n",
      "---  ------           --------------  -----  \n",
      " 0   RowNumber        10000 non-null  int64  \n",
      " 1   CustomerId       10000 non-null  int64  \n",
      " 2   Surname          10000 non-null  object \n",
      " 3   CreditScore      10000 non-null  int64  \n",
      " 4   Geography        10000 non-null  object \n",
      " 5   Gender           10000 non-null  object \n",
      " 6   Age              10000 non-null  int64  \n",
      " 7   Tenure           9091 non-null   float64\n",
      " 8   Balance          10000 non-null  float64\n",
      " 9   NumOfProducts    10000 non-null  int64  \n",
      " 10  HasCrCard        10000 non-null  int64  \n",
      " 11  IsActiveMember   10000 non-null  int64  \n",
      " 12  EstimatedSalary  10000 non-null  float64\n",
      " 13  Exited           10000 non-null  int64  \n",
      "dtypes: float64(3), int64(8), object(3)\n",
      "memory usage: 1.1+ MB\n"
     ]
    }
   ],
   "source": [
    "data.info()"
   ]
  },
  {
   "cell_type": "code",
   "execution_count": 5,
   "metadata": {
    "scrolled": false
   },
   "outputs": [
    {
     "data": {
      "text/html": [
       "<div>\n",
       "<style scoped>\n",
       "    .dataframe tbody tr th:only-of-type {\n",
       "        vertical-align: middle;\n",
       "    }\n",
       "\n",
       "    .dataframe tbody tr th {\n",
       "        vertical-align: top;\n",
       "    }\n",
       "\n",
       "    .dataframe thead th {\n",
       "        text-align: right;\n",
       "    }\n",
       "</style>\n",
       "<table border=\"1\" class=\"dataframe\">\n",
       "  <thead>\n",
       "    <tr style=\"text-align: right;\">\n",
       "      <th></th>\n",
       "      <th>RowNumber</th>\n",
       "      <th>CustomerId</th>\n",
       "      <th>CreditScore</th>\n",
       "      <th>Age</th>\n",
       "      <th>Tenure</th>\n",
       "      <th>Balance</th>\n",
       "      <th>NumOfProducts</th>\n",
       "      <th>HasCrCard</th>\n",
       "      <th>IsActiveMember</th>\n",
       "      <th>EstimatedSalary</th>\n",
       "      <th>Exited</th>\n",
       "    </tr>\n",
       "  </thead>\n",
       "  <tbody>\n",
       "    <tr>\n",
       "      <th>count</th>\n",
       "      <td>10000.00000</td>\n",
       "      <td>1.000000e+04</td>\n",
       "      <td>10000.000000</td>\n",
       "      <td>10000.000000</td>\n",
       "      <td>9091.000000</td>\n",
       "      <td>10000.000000</td>\n",
       "      <td>10000.000000</td>\n",
       "      <td>10000.00000</td>\n",
       "      <td>10000.000000</td>\n",
       "      <td>10000.000000</td>\n",
       "      <td>10000.000000</td>\n",
       "    </tr>\n",
       "    <tr>\n",
       "      <th>mean</th>\n",
       "      <td>5000.50000</td>\n",
       "      <td>1.569094e+07</td>\n",
       "      <td>650.528800</td>\n",
       "      <td>38.921800</td>\n",
       "      <td>4.997690</td>\n",
       "      <td>76485.889288</td>\n",
       "      <td>1.530200</td>\n",
       "      <td>0.70550</td>\n",
       "      <td>0.515100</td>\n",
       "      <td>100090.239881</td>\n",
       "      <td>0.203700</td>\n",
       "    </tr>\n",
       "    <tr>\n",
       "      <th>std</th>\n",
       "      <td>2886.89568</td>\n",
       "      <td>7.193619e+04</td>\n",
       "      <td>96.653299</td>\n",
       "      <td>10.487806</td>\n",
       "      <td>2.894723</td>\n",
       "      <td>62397.405202</td>\n",
       "      <td>0.581654</td>\n",
       "      <td>0.45584</td>\n",
       "      <td>0.499797</td>\n",
       "      <td>57510.492818</td>\n",
       "      <td>0.402769</td>\n",
       "    </tr>\n",
       "    <tr>\n",
       "      <th>min</th>\n",
       "      <td>1.00000</td>\n",
       "      <td>1.556570e+07</td>\n",
       "      <td>350.000000</td>\n",
       "      <td>18.000000</td>\n",
       "      <td>0.000000</td>\n",
       "      <td>0.000000</td>\n",
       "      <td>1.000000</td>\n",
       "      <td>0.00000</td>\n",
       "      <td>0.000000</td>\n",
       "      <td>11.580000</td>\n",
       "      <td>0.000000</td>\n",
       "    </tr>\n",
       "    <tr>\n",
       "      <th>25%</th>\n",
       "      <td>2500.75000</td>\n",
       "      <td>1.562853e+07</td>\n",
       "      <td>584.000000</td>\n",
       "      <td>32.000000</td>\n",
       "      <td>2.000000</td>\n",
       "      <td>0.000000</td>\n",
       "      <td>1.000000</td>\n",
       "      <td>0.00000</td>\n",
       "      <td>0.000000</td>\n",
       "      <td>51002.110000</td>\n",
       "      <td>0.000000</td>\n",
       "    </tr>\n",
       "    <tr>\n",
       "      <th>50%</th>\n",
       "      <td>5000.50000</td>\n",
       "      <td>1.569074e+07</td>\n",
       "      <td>652.000000</td>\n",
       "      <td>37.000000</td>\n",
       "      <td>5.000000</td>\n",
       "      <td>97198.540000</td>\n",
       "      <td>1.000000</td>\n",
       "      <td>1.00000</td>\n",
       "      <td>1.000000</td>\n",
       "      <td>100193.915000</td>\n",
       "      <td>0.000000</td>\n",
       "    </tr>\n",
       "    <tr>\n",
       "      <th>75%</th>\n",
       "      <td>7500.25000</td>\n",
       "      <td>1.575323e+07</td>\n",
       "      <td>718.000000</td>\n",
       "      <td>44.000000</td>\n",
       "      <td>7.000000</td>\n",
       "      <td>127644.240000</td>\n",
       "      <td>2.000000</td>\n",
       "      <td>1.00000</td>\n",
       "      <td>1.000000</td>\n",
       "      <td>149388.247500</td>\n",
       "      <td>0.000000</td>\n",
       "    </tr>\n",
       "    <tr>\n",
       "      <th>max</th>\n",
       "      <td>10000.00000</td>\n",
       "      <td>1.581569e+07</td>\n",
       "      <td>850.000000</td>\n",
       "      <td>92.000000</td>\n",
       "      <td>10.000000</td>\n",
       "      <td>250898.090000</td>\n",
       "      <td>4.000000</td>\n",
       "      <td>1.00000</td>\n",
       "      <td>1.000000</td>\n",
       "      <td>199992.480000</td>\n",
       "      <td>1.000000</td>\n",
       "    </tr>\n",
       "  </tbody>\n",
       "</table>\n",
       "</div>"
      ],
      "text/plain": [
       "         RowNumber    CustomerId   CreditScore           Age       Tenure  \\\n",
       "count  10000.00000  1.000000e+04  10000.000000  10000.000000  9091.000000   \n",
       "mean    5000.50000  1.569094e+07    650.528800     38.921800     4.997690   \n",
       "std     2886.89568  7.193619e+04     96.653299     10.487806     2.894723   \n",
       "min        1.00000  1.556570e+07    350.000000     18.000000     0.000000   \n",
       "25%     2500.75000  1.562853e+07    584.000000     32.000000     2.000000   \n",
       "50%     5000.50000  1.569074e+07    652.000000     37.000000     5.000000   \n",
       "75%     7500.25000  1.575323e+07    718.000000     44.000000     7.000000   \n",
       "max    10000.00000  1.581569e+07    850.000000     92.000000    10.000000   \n",
       "\n",
       "             Balance  NumOfProducts    HasCrCard  IsActiveMember  \\\n",
       "count   10000.000000   10000.000000  10000.00000    10000.000000   \n",
       "mean    76485.889288       1.530200      0.70550        0.515100   \n",
       "std     62397.405202       0.581654      0.45584        0.499797   \n",
       "min         0.000000       1.000000      0.00000        0.000000   \n",
       "25%         0.000000       1.000000      0.00000        0.000000   \n",
       "50%     97198.540000       1.000000      1.00000        1.000000   \n",
       "75%    127644.240000       2.000000      1.00000        1.000000   \n",
       "max    250898.090000       4.000000      1.00000        1.000000   \n",
       "\n",
       "       EstimatedSalary        Exited  \n",
       "count     10000.000000  10000.000000  \n",
       "mean     100090.239881      0.203700  \n",
       "std       57510.492818      0.402769  \n",
       "min          11.580000      0.000000  \n",
       "25%       51002.110000      0.000000  \n",
       "50%      100193.915000      0.000000  \n",
       "75%      149388.247500      0.000000  \n",
       "max      199992.480000      1.000000  "
      ]
     },
     "execution_count": 5,
     "metadata": {},
     "output_type": "execute_result"
    }
   ],
   "source": [
    "data.describe()"
   ]
  },
  {
   "cell_type": "code",
   "execution_count": 6,
   "metadata": {},
   "outputs": [],
   "source": [
    "data.columns = data.columns.str.lower()"
   ]
  },
  {
   "cell_type": "markdown",
   "metadata": {},
   "source": [
    "есть пропуски в данных о том сколько лет человек является клиентом банка, возможно это новые клиенты банка"
   ]
  },
  {
   "cell_type": "markdown",
   "metadata": {},
   "source": [
    "## Исследование задачи"
   ]
  },
  {
   "cell_type": "code",
   "execution_count": 7,
   "metadata": {},
   "outputs": [
    {
     "data": {
      "text/plain": [
       "count    9091.000000\n",
       "mean        4.997690\n",
       "std         2.894723\n",
       "min         0.000000\n",
       "25%         2.000000\n",
       "50%         5.000000\n",
       "75%         7.000000\n",
       "max        10.000000\n",
       "Name: tenure, dtype: float64"
      ]
     },
     "metadata": {},
     "output_type": "display_data"
    }
   ],
   "source": [
    "#посмотрим описательную статистику\n",
    "display(data['tenure'].describe())"
   ]
  },
  {
   "cell_type": "code",
   "execution_count": 8,
   "metadata": {
    "scrolled": false
   },
   "outputs": [],
   "source": [
    "#заполним пропуски в tenure медианной\n",
    "data['tenure'] = data['tenure'].fillna(data['tenure'].median())\n",
    "#удалим колонки customerid и surname\n",
    "data.drop(columns=['customerid','surname'], axis=1, inplace=True)"
   ]
  },
  {
   "cell_type": "code",
   "execution_count": 9,
   "metadata": {},
   "outputs": [
    {
     "data": {
      "text/plain": [
       "count    10000.00000\n",
       "mean         4.99790\n",
       "std          2.76001\n",
       "min          0.00000\n",
       "25%          3.00000\n",
       "50%          5.00000\n",
       "75%          7.00000\n",
       "max         10.00000\n",
       "Name: tenure, dtype: float64"
      ]
     },
     "metadata": {},
     "output_type": "display_data"
    }
   ],
   "source": [
    "#повторно посмотрим описательную статистик\n",
    "display(data['tenure'].describe())"
   ]
  },
  {
   "cell_type": "code",
   "execution_count": 10,
   "metadata": {},
   "outputs": [
    {
     "data": {
      "text/html": [
       "<div>\n",
       "<style scoped>\n",
       "    .dataframe tbody tr th:only-of-type {\n",
       "        vertical-align: middle;\n",
       "    }\n",
       "\n",
       "    .dataframe tbody tr th {\n",
       "        vertical-align: top;\n",
       "    }\n",
       "\n",
       "    .dataframe thead th {\n",
       "        text-align: right;\n",
       "    }\n",
       "</style>\n",
       "<table border=\"1\" class=\"dataframe\">\n",
       "  <thead>\n",
       "    <tr style=\"text-align: right;\">\n",
       "      <th></th>\n",
       "      <th>rownumber</th>\n",
       "      <th>creditscore</th>\n",
       "      <th>age</th>\n",
       "      <th>tenure</th>\n",
       "      <th>balance</th>\n",
       "      <th>numofproducts</th>\n",
       "      <th>hascrcard</th>\n",
       "      <th>isactivemember</th>\n",
       "      <th>estimatedsalary</th>\n",
       "      <th>exited</th>\n",
       "      <th>geography_Germany</th>\n",
       "      <th>geography_Spain</th>\n",
       "      <th>gender_Male</th>\n",
       "    </tr>\n",
       "  </thead>\n",
       "  <tbody>\n",
       "    <tr>\n",
       "      <th>0</th>\n",
       "      <td>1</td>\n",
       "      <td>619</td>\n",
       "      <td>42</td>\n",
       "      <td>2.0</td>\n",
       "      <td>0.00</td>\n",
       "      <td>1</td>\n",
       "      <td>1</td>\n",
       "      <td>1</td>\n",
       "      <td>101348.88</td>\n",
       "      <td>1</td>\n",
       "      <td>0</td>\n",
       "      <td>0</td>\n",
       "      <td>0</td>\n",
       "    </tr>\n",
       "    <tr>\n",
       "      <th>1</th>\n",
       "      <td>2</td>\n",
       "      <td>608</td>\n",
       "      <td>41</td>\n",
       "      <td>1.0</td>\n",
       "      <td>83807.86</td>\n",
       "      <td>1</td>\n",
       "      <td>0</td>\n",
       "      <td>1</td>\n",
       "      <td>112542.58</td>\n",
       "      <td>0</td>\n",
       "      <td>0</td>\n",
       "      <td>1</td>\n",
       "      <td>0</td>\n",
       "    </tr>\n",
       "    <tr>\n",
       "      <th>2</th>\n",
       "      <td>3</td>\n",
       "      <td>502</td>\n",
       "      <td>42</td>\n",
       "      <td>8.0</td>\n",
       "      <td>159660.80</td>\n",
       "      <td>3</td>\n",
       "      <td>1</td>\n",
       "      <td>0</td>\n",
       "      <td>113931.57</td>\n",
       "      <td>1</td>\n",
       "      <td>0</td>\n",
       "      <td>0</td>\n",
       "      <td>0</td>\n",
       "    </tr>\n",
       "    <tr>\n",
       "      <th>3</th>\n",
       "      <td>4</td>\n",
       "      <td>699</td>\n",
       "      <td>39</td>\n",
       "      <td>1.0</td>\n",
       "      <td>0.00</td>\n",
       "      <td>2</td>\n",
       "      <td>0</td>\n",
       "      <td>0</td>\n",
       "      <td>93826.63</td>\n",
       "      <td>0</td>\n",
       "      <td>0</td>\n",
       "      <td>0</td>\n",
       "      <td>0</td>\n",
       "    </tr>\n",
       "    <tr>\n",
       "      <th>4</th>\n",
       "      <td>5</td>\n",
       "      <td>850</td>\n",
       "      <td>43</td>\n",
       "      <td>2.0</td>\n",
       "      <td>125510.82</td>\n",
       "      <td>1</td>\n",
       "      <td>1</td>\n",
       "      <td>1</td>\n",
       "      <td>79084.10</td>\n",
       "      <td>0</td>\n",
       "      <td>0</td>\n",
       "      <td>1</td>\n",
       "      <td>0</td>\n",
       "    </tr>\n",
       "  </tbody>\n",
       "</table>\n",
       "</div>"
      ],
      "text/plain": [
       "   rownumber  creditscore  age  tenure    balance  numofproducts  hascrcard  \\\n",
       "0          1          619   42     2.0       0.00              1          1   \n",
       "1          2          608   41     1.0   83807.86              1          0   \n",
       "2          3          502   42     8.0  159660.80              3          1   \n",
       "3          4          699   39     1.0       0.00              2          0   \n",
       "4          5          850   43     2.0  125510.82              1          1   \n",
       "\n",
       "   isactivemember  estimatedsalary  exited  geography_Germany  \\\n",
       "0               1        101348.88       1                  0   \n",
       "1               1        112542.58       0                  0   \n",
       "2               0        113931.57       1                  0   \n",
       "3               0         93826.63       0                  0   \n",
       "4               1         79084.10       0                  0   \n",
       "\n",
       "   geography_Spain  gender_Male  \n",
       "0                0            0  \n",
       "1                1            0  \n",
       "2                0            0  \n",
       "3                0            0  \n",
       "4                1            0  "
      ]
     },
     "execution_count": 10,
     "metadata": {},
     "output_type": "execute_result"
    }
   ],
   "source": [
    "#применим one hot encoding к датафрейму\n",
    "data_ohe=pd.get_dummies(data, drop_first=True)\n",
    "data_ohe.head()"
   ]
  },
  {
   "cell_type": "code",
   "execution_count": 11,
   "metadata": {},
   "outputs": [
    {
     "data": {
      "text/plain": [
       "(6000, 13)"
      ]
     },
     "metadata": {},
     "output_type": "display_data"
    },
    {
     "data": {
      "text/plain": [
       "(2000, 13)"
      ]
     },
     "metadata": {},
     "output_type": "display_data"
    },
    {
     "data": {
      "text/plain": [
       "(2000, 13)"
      ]
     },
     "metadata": {},
     "output_type": "display_data"
    }
   ],
   "source": [
    "#вынесем random_state в константу \n",
    "RANDOM_STATE = 12345\n",
    "#разобьем данные на выборки\n",
    "data_train, data_other = train_test_split(data_ohe, test_size=0.4, random_state=RANDOM_STATE, stratify=data_ohe['exited'])\n",
    "data_valid, data_test = train_test_split(data_other, test_size=0.5, random_state=RANDOM_STATE, stratify=data_other['exited'])\n",
    "#посмотрим на размер выборок\n",
    "display(data_train.shape)\n",
    "display(data_valid.shape)\n",
    "display(data_test.shape)"
   ]
  },
  {
   "cell_type": "code",
   "execution_count": 12,
   "metadata": {},
   "outputs": [],
   "source": [
    "#разделим датафрейм на признаки и целевой признак\n",
    "target = data_ohe['exited']\n",
    "features = data_ohe.drop(['exited', 'rownumber'], axis=1)\n",
    "#разделим обучающий датафрейм на признаки и целевой признак\n",
    "target_train = data_train['exited']\n",
    "features_train = data_train.drop(['exited', 'rownumber'], axis=1)\n",
    "#разделим валидационный датафрейм на признаки и целевой признак\n",
    "target_valid = data_valid['exited']\n",
    "features_valid = data_valid.drop(['exited', 'rownumber'], axis=1)\n",
    "#разделим тестовый датафрейм на признаки и целевой признак\n",
    "target_test = data_test['exited']\n",
    "features_test = data_test.drop(['exited', 'rownumber'], axis=1)"
   ]
  },
  {
   "cell_type": "code",
   "execution_count": 13,
   "metadata": {},
   "outputs": [],
   "source": [
    "#создадим список с числовыми столбцами\n",
    "numeric = ['creditscore', 'age', 'tenure', 'balance', 'numofproducts', 'estimatedsalary']"
   ]
  },
  {
   "cell_type": "code",
   "execution_count": 14,
   "metadata": {},
   "outputs": [
    {
     "name": "stdout",
     "output_type": "stream",
     "text": [
      "(6000, 11)\n",
      "(2000, 11)\n",
      "(2000, 11)\n"
     ]
    }
   ],
   "source": [
    "#нормируем числовые данные используя StandardScaler\n",
    "scaler = StandardScaler()\n",
    "scaler.fit(features_train[numeric])\n",
    "features_train[numeric] = scaler.transform(features_train[numeric])\n",
    "features_valid[numeric] = scaler.transform(features_valid[numeric])\n",
    "features_test[numeric] = scaler.transform(features_test[numeric])\n",
    "\n",
    "print(features_train.shape)\n",
    "print(features_valid.shape)\n",
    "print(features_test.shape)"
   ]
  },
  {
   "cell_type": "code",
   "execution_count": 15,
   "metadata": {},
   "outputs": [
    {
     "data": {
      "text/plain": [
       "((7963, 11), (2037, 11))"
      ]
     },
     "execution_count": 15,
     "metadata": {},
     "output_type": "execute_result"
    }
   ],
   "source": [
    "# Посмотрим количество объектов отрицательного и положительно класса\n",
    "features[target == 0].shape, features[target == 1].shape"
   ]
  },
  {
   "cell_type": "code",
   "execution_count": 16,
   "metadata": {},
   "outputs": [
    {
     "data": {
      "image/png": "[encoded data removed]",
      "text/plain": [
       "<Figure size 800x800 with 1 Axes>"
      ]
     },
     "metadata": {},
     "output_type": "display_data"
    }
   ],
   "source": [
    "#построим круговую диаграмму\n",
    "balance = target.value_counts(normalize=True)\n",
    "\n",
    "balance.plot(kind='pie', autopct=\"%0.0f%%\", figsize=(8, 8), labels = ['Не ушел', 'Ушел'])\n",
    "plt.title(\"Соотношение классов в целевом признаке\")\n",
    "plt.show()"
   ]
  },
  {
   "cell_type": "markdown",
   "metadata": {},
   "source": [
    "виден дисбаланс классов, отрицательных почти в 4 раза больше, чем положительных"
   ]
  },
  {
   "cell_type": "code",
   "execution_count": 17,
   "metadata": {},
   "outputs": [
    {
     "name": "stdout",
     "output_type": "stream",
     "text": [
      "F1: 0.3076923076923077\n",
      "ROC_auc: 0.7875052345058627\n"
     ]
    }
   ],
   "source": [
    "#обучим модель логистической регрессии и подсчитаем метрики\n",
    "model_lr = LogisticRegression(random_state=RANDOM_STATE, solver='liblinear')\n",
    "model_lr.fit(features_train, target_train)\n",
    "predicted_valid = model_lr.predict(features_valid)\n",
    "print('F1:', f1_score(target_valid, predicted_valid))\n",
    "#посчитаем ROC_auc\n",
    "probabilities_valid = model_lr.predict_proba(features_valid)\n",
    "probabilities_one_valid = probabilities_valid[:, 1]\n",
    "print(\"ROC_auc:\", roc_auc_score(target_valid, probabilities_one_valid))"
   ]
  },
  {
   "cell_type": "code",
   "execution_count": 18,
   "metadata": {},
   "outputs": [
    {
     "name": "stdout",
     "output_type": "stream",
     "text": [
      "Количество деревьев = 43 Глубина дерева 15 F1: 0.6255506607929516\n"
     ]
    }
   ],
   "source": [
    "#подберем гиперпараметры для модели случайного леса\n",
    "best_est = 0\n",
    "best_f1_score_forest = 0\n",
    "best_depth = 0\n",
    "for depth in range(1,16):\n",
    "    for est in range(3,58):\n",
    "        model = RandomForestClassifier(random_state=RANDOM_STATE, n_estimators=est, max_depth=depth)\n",
    "        model.fit(features_train, target_train)\n",
    "        predicted_valid = model.predict(features_valid)\n",
    "        f1_scores = f1_score(target_valid, predicted_valid)\n",
    "        if f1_scores > best_f1_score_forest:\n",
    "            best_est = est\n",
    "            best_f1_score_forest = f1_scores\n",
    "            best_depth = depth\n",
    "print(\"Количество деревьев =\", best_est, \"Глубина дерева\" ,best_depth, \"F1:\", best_f1_score_forest)"
   ]
  },
  {
   "cell_type": "code",
   "execution_count": 19,
   "metadata": {},
   "outputs": [
    {
     "name": "stdout",
     "output_type": "stream",
     "text": [
      "F1: 0.6255506607929516\n",
      "ROC_auc: 0.8649143388511185\n"
     ]
    }
   ],
   "source": [
    "#обучим модель случайного леса с лучшими гиперпараметрами\n",
    "model_rfc = RandomForestClassifier(random_state=RANDOM_STATE, n_estimators=43, max_depth=15)\n",
    "model_rfc.fit(features_train, target_train)\n",
    "predicted_valid = model_rfc.predict(features_valid)\n",
    "print(\"F1:\", f1_score(target_valid, predicted_valid))\n",
    "probabilities_valid = model_rfc.predict_proba(features_valid)\n",
    "probabilities_one_valid = probabilities_valid[:, 1]\n",
    "print(\"ROC_auc:\", roc_auc_score(target_valid, probabilities_one_valid))  "
   ]
  },
  {
   "cell_type": "markdown",
   "metadata": {},
   "source": [
    "**Вывод:**\n",
    "- Обучили модель логистической регресии, получили F1 = 0.31 и AUC-ROC = 0.79 \n",
    "- Обучили модель случайного леса, получили F1 = 0.63 и AUC-ROC = 0.86\n",
    "\n",
    "Лучший результат без борьбы с дисбалансом классов показала модель случайного леса"
   ]
  },
  {
   "cell_type": "markdown",
   "metadata": {},
   "source": [
    "## Борьба с дисбалансом"
   ]
  },
  {
   "cell_type": "code",
   "execution_count": 20,
   "metadata": {},
   "outputs": [
    {
     "data": {
      "text/plain": [
       "(7963, 11)"
      ]
     },
     "execution_count": 20,
     "metadata": {},
     "output_type": "execute_result"
    }
   ],
   "source": [
    "#посмотрим количество объектов отрицательного класса\n",
    "features_zeros = features[target == 0]\n",
    "features_zeros.shape"
   ]
  },
  {
   "cell_type": "code",
   "execution_count": 21,
   "metadata": {},
   "outputs": [
    {
     "data": {
      "text/plain": [
       "(2037, 11)"
      ]
     },
     "execution_count": 21,
     "metadata": {},
     "output_type": "execute_result"
    }
   ],
   "source": [
    "#посмотрим количество объектов положительного класса\n",
    "features_ones = features[target == 1]\n",
    "features_ones.shape"
   ]
  },
  {
   "cell_type": "markdown",
   "metadata": {},
   "source": [
    "объектов отрицательного класса больше почти в 4 раза, чем положительных"
   ]
  },
  {
   "cell_type": "code",
   "execution_count": 22,
   "metadata": {
    "scrolled": true
   },
   "outputs": [
    {
     "name": "stdout",
     "output_type": "stream",
     "text": [
      "F1: 0.5289982425307558\n",
      "ROC_auc: 0.7937004261503596\n"
     ]
    }
   ],
   "source": [
    "#обучим модель логистической регрессии с учетом баланса классов\n",
    "model_lr_b = LogisticRegression(random_state=RANDOM_STATE, solver='liblinear', class_weight='balanced')\n",
    "model_lr_b.fit(features_train, target_train)\n",
    "predicted_valid = model_lr_b.predict(features_valid)\n",
    "print(\"F1:\", f1_score(target_valid, predicted_valid))\n",
    "#посчитаем ROC_auc\n",
    "probabilities_valid = model_lr_b.predict_proba(features_valid)\n",
    "probabilities_one_valid = probabilities_valid[:, 1]\n",
    "print(\"ROC_auc:\", roc_auc_score(target_valid, probabilities_one_valid)) "
   ]
  },
  {
   "cell_type": "code",
   "execution_count": 23,
   "metadata": {},
   "outputs": [
    {
     "name": "stdout",
     "output_type": "stream",
     "text": [
      "Порог = 0.00 | Точность = 0.204, Полнота = 1.000, F1 = 0.339, ROC_auc = 0.500\n",
      "Порог = 0.02 | Точность = 0.204, Полнота = 1.000, F1 = 0.339, ROC_auc = 0.500\n",
      "Порог = 0.04 | Точность = 0.204, Полнота = 1.000, F1 = 0.339, ROC_auc = 0.500\n",
      "Порог = 0.06 | Точность = 0.204, Полнота = 1.000, F1 = 0.339, ROC_auc = 0.501\n",
      "Порог = 0.08 | Точность = 0.206, Полнота = 1.000, F1 = 0.341, ROC_auc = 0.505\n",
      "Порог = 0.10 | Точность = 0.208, Полнота = 0.998, F1 = 0.344, ROC_auc = 0.511\n",
      "Порог = 0.12 | Точность = 0.211, Полнота = 0.998, F1 = 0.348, ROC_auc = 0.521\n",
      "Порог = 0.14 | Точность = 0.216, Полнота = 0.995, F1 = 0.355, ROC_auc = 0.535\n",
      "Порог = 0.16 | Точность = 0.222, Полнота = 0.995, F1 = 0.362, ROC_auc = 0.550\n",
      "Порог = 0.18 | Точность = 0.228, Полнота = 0.985, F1 = 0.370, ROC_auc = 0.565\n",
      "Порог = 0.20 | Точность = 0.234, Полнота = 0.975, F1 = 0.378, ROC_auc = 0.579\n",
      "Порог = 0.22 | Точность = 0.241, Полнота = 0.966, F1 = 0.386, ROC_auc = 0.594\n",
      "Порог = 0.24 | Точность = 0.251, Полнота = 0.958, F1 = 0.397, ROC_auc = 0.612\n",
      "Порог = 0.26 | Точность = 0.260, Полнота = 0.951, F1 = 0.408, ROC_auc = 0.628\n",
      "Порог = 0.28 | Точность = 0.268, Полнота = 0.936, F1 = 0.417, ROC_auc = 0.640\n",
      "Порог = 0.30 | Точность = 0.277, Полнота = 0.931, F1 = 0.427, ROC_auc = 0.654\n",
      "Порог = 0.32 | Точность = 0.284, Полнота = 0.926, F1 = 0.435, ROC_auc = 0.664\n",
      "Порог = 0.34 | Точность = 0.297, Полнота = 0.917, F1 = 0.449, ROC_auc = 0.681\n",
      "Порог = 0.36 | Точность = 0.307, Полнота = 0.895, F1 = 0.457, ROC_auc = 0.689\n",
      "Порог = 0.38 | Точность = 0.318, Полнота = 0.870, F1 = 0.466, ROC_auc = 0.696\n",
      "Порог = 0.40 | Точность = 0.333, Полнота = 0.855, F1 = 0.480, ROC_auc = 0.708\n",
      "Порог = 0.42 | Точность = 0.352, Полнота = 0.833, F1 = 0.495, ROC_auc = 0.720\n",
      "Порог = 0.44 | Точность = 0.365, Полнота = 0.814, F1 = 0.504, ROC_auc = 0.725\n",
      "Порог = 0.46 | Точность = 0.381, Полнота = 0.787, F1 = 0.514, ROC_auc = 0.730\n",
      "Порог = 0.48 | Точность = 0.391, Полнота = 0.757, F1 = 0.515, ROC_auc = 0.727\n",
      "Порог = 0.50 | Точность = 0.412, Полнота = 0.738, F1 = 0.529, ROC_auc = 0.734\n",
      "Порог = 0.52 | Точность = 0.420, Полнота = 0.716, F1 = 0.529, ROC_auc = 0.731\n",
      "Порог = 0.54 | Точность = 0.432, Полнота = 0.689, F1 = 0.531, ROC_auc = 0.728\n",
      "Порог = 0.56 | Точность = 0.441, Полнота = 0.647, F1 = 0.524, ROC_auc = 0.718\n",
      "Порог = 0.58 | Точность = 0.459, Полнота = 0.618, F1 = 0.527, ROC_auc = 0.716\n",
      "Порог = 0.60 | Точность = 0.473, Полнота = 0.583, F1 = 0.523, ROC_auc = 0.708\n",
      "Порог = 0.62 | Точность = 0.479, Полнота = 0.532, F1 = 0.504, ROC_auc = 0.692\n",
      "Порог = 0.64 | Точность = 0.500, Полнота = 0.502, F1 = 0.501, ROC_auc = 0.687\n",
      "Порог = 0.66 | Точность = 0.523, Полнота = 0.466, F1 = 0.493, ROC_auc = 0.679\n",
      "Порог = 0.68 | Точность = 0.521, Полнота = 0.419, F1 = 0.465, ROC_auc = 0.660\n"
     ]
    }
   ],
   "source": [
    "#расчитаем оптимальный порог классификации для логистической регрессии с учетом баланса классов\n",
    "probabilities_valid = model_lr_b.predict_proba(features_valid)\n",
    "probabilities_one_valid = probabilities_valid[:, 1]\n",
    "\n",
    "for threshold in np.arange(0, 0.7, 0.02):\n",
    "    predicted_valid = probabilities_one_valid > threshold\n",
    "    precision = precision_score(target_valid, predicted_valid)\n",
    "    recall = recall_score(target_valid, predicted_valid)\n",
    "    print(\"Порог = {:.2f} | Точность = {:.3f}, Полнота = {:.3f}, F1 = {:.3f}, ROC_auc = {:.3f}\".format(\n",
    "        threshold, precision, recall, f1_score(target_valid, predicted_valid), roc_auc_score(target_valid, predicted_valid)))"
   ]
  },
  {
   "cell_type": "code",
   "execution_count": 24,
   "metadata": {},
   "outputs": [
    {
     "name": "stdout",
     "output_type": "stream",
     "text": [
      "Количество деревьев = 53 Глубина дерева 10 F1: 0.65625\n"
     ]
    }
   ],
   "source": [
    "#подберем гиперпараметры для модели случайного леса с учетом баланса классов\n",
    "best_est2 = 0\n",
    "best_f1_score_forest2 = 0\n",
    "best_depth2 = 0\n",
    "for depth in range(1,16):\n",
    "    for est in range(3,58):\n",
    "        model = RandomForestClassifier(random_state=RANDOM_STATE, n_estimators=est, max_depth=depth, class_weight='balanced')\n",
    "        model.fit(features_train, target_train)\n",
    "        predicted_valid = model.predict(features_valid)\n",
    "        f1_scores = f1_score(target_valid, predicted_valid)\n",
    "        if f1_scores > best_f1_score_forest2:\n",
    "            best_est2 = est\n",
    "            best_f1_score_forest2 = f1_scores\n",
    "            best_depth2 = depth\n",
    "print(\"Количество деревьев =\", best_est2, \"Глубина дерева\" ,best_depth2, \"F1:\", best_f1_score_forest2)"
   ]
  },
  {
   "cell_type": "code",
   "execution_count": 25,
   "metadata": {},
   "outputs": [
    {
     "name": "stdout",
     "output_type": "stream",
     "text": [
      "F1: 0.6493506493506493\n",
      "ROC_auc: 0.8688032687949552\n"
     ]
    }
   ],
   "source": [
    "#обучим модель случайного леса с лучшими гиперпараметрами с учетом баланса классов\n",
    "model_rfc_b = RandomForestClassifier(random_state=RANDOM_STATE, n_estimators=29, max_depth=10, class_weight='balanced')\n",
    "model_rfc_b.fit(features_train, target_train)\n",
    "predicted_valid = model_rfc_b.predict(features_valid)\n",
    "print(\"F1:\", f1_score(target_valid, predicted_valid))\n",
    "probabilities_valid = model_rfc_b.predict_proba(features_valid)\n",
    "probabilities_one_valid = probabilities_valid[:, 1]\n",
    "print(\"ROC_auc:\", roc_auc_score(target_valid, probabilities_one_valid))  "
   ]
  },
  {
   "cell_type": "code",
   "execution_count": 26,
   "metadata": {},
   "outputs": [
    {
     "name": "stdout",
     "output_type": "stream",
     "text": [
      "Порог = 0.00 | Точность = 0.204, Полнота = 1.000, F1 = 0.339, ROC_auc = 0.500\n",
      "Порог = 0.02 | Точность = 0.205, Полнота = 1.000, F1 = 0.340, ROC_auc = 0.502\n",
      "Порог = 0.04 | Точность = 0.211, Полнота = 1.000, F1 = 0.348, ROC_auc = 0.520\n",
      "Порог = 0.06 | Точность = 0.221, Полнота = 0.995, F1 = 0.362, ROC_auc = 0.548\n",
      "Порог = 0.08 | Точность = 0.233, Полнота = 0.985, F1 = 0.377, ROC_auc = 0.577\n",
      "Порог = 0.10 | Точность = 0.246, Полнота = 0.978, F1 = 0.393, ROC_auc = 0.605\n",
      "Порог = 0.12 | Точность = 0.258, Полнота = 0.971, F1 = 0.408, ROC_auc = 0.628\n",
      "Порог = 0.14 | Точность = 0.274, Полнота = 0.958, F1 = 0.426, ROC_auc = 0.653\n",
      "Порог = 0.16 | Точность = 0.288, Полнота = 0.946, F1 = 0.442, ROC_auc = 0.674\n",
      "Порог = 0.18 | Точность = 0.307, Полнота = 0.936, F1 = 0.462, ROC_auc = 0.697\n",
      "Порог = 0.20 | Точность = 0.325, Полнота = 0.924, F1 = 0.481, ROC_auc = 0.716\n",
      "Порог = 0.22 | Точность = 0.344, Полнота = 0.904, F1 = 0.499, ROC_auc = 0.731\n",
      "Порог = 0.24 | Точность = 0.366, Полнота = 0.897, F1 = 0.520, ROC_auc = 0.750\n",
      "Порог = 0.26 | Точность = 0.388, Полнота = 0.885, F1 = 0.540, ROC_auc = 0.764\n",
      "Порог = 0.28 | Точность = 0.416, Полнота = 0.868, F1 = 0.563, ROC_auc = 0.778\n",
      "Порог = 0.30 | Точность = 0.436, Полнота = 0.850, F1 = 0.577, ROC_auc = 0.785\n",
      "Порог = 0.32 | Точность = 0.461, Полнота = 0.836, F1 = 0.595, ROC_auc = 0.793\n",
      "Порог = 0.34 | Точность = 0.480, Полнота = 0.814, F1 = 0.604, ROC_auc = 0.794\n",
      "Порог = 0.36 | Точность = 0.495, Полнота = 0.794, F1 = 0.610, ROC_auc = 0.793\n",
      "Порог = 0.38 | Точность = 0.519, Полнота = 0.775, F1 = 0.621, ROC_auc = 0.795\n",
      "Порог = 0.40 | Точность = 0.531, Полнота = 0.752, F1 = 0.623, ROC_auc = 0.791\n",
      "Порог = 0.42 | Точность = 0.561, Полнота = 0.735, F1 = 0.636, ROC_auc = 0.794\n",
      "Порог = 0.44 | Точность = 0.584, Полнота = 0.716, F1 = 0.643, ROC_auc = 0.793\n",
      "Порог = 0.46 | Точность = 0.607, Полнота = 0.703, F1 = 0.652, ROC_auc = 0.793\n",
      "Порог = 0.48 | Точность = 0.617, Полнота = 0.696, F1 = 0.654, ROC_auc = 0.793\n",
      "Порог = 0.50 | Точность = 0.626, Полнота = 0.674, F1 = 0.649, ROC_auc = 0.786\n",
      "Порог = 0.52 | Точность = 0.645, Полнота = 0.650, F1 = 0.647, ROC_auc = 0.779\n",
      "Порог = 0.54 | Точность = 0.659, Полнота = 0.630, F1 = 0.644, ROC_auc = 0.773\n",
      "Порог = 0.56 | Точность = 0.680, Полнота = 0.605, F1 = 0.641, ROC_auc = 0.766\n",
      "Порог = 0.58 | Точность = 0.701, Полнота = 0.569, F1 = 0.628, ROC_auc = 0.753\n",
      "Порог = 0.60 | Точность = 0.702, Полнота = 0.537, F1 = 0.608, ROC_auc = 0.739\n",
      "Порог = 0.62 | Точность = 0.714, Полнота = 0.515, F1 = 0.598, ROC_auc = 0.731\n",
      "Порог = 0.64 | Точность = 0.732, Полнота = 0.488, F1 = 0.585, ROC_auc = 0.721\n",
      "Порог = 0.66 | Точность = 0.738, Полнота = 0.471, F1 = 0.575, ROC_auc = 0.714\n",
      "Порог = 0.68 | Точность = 0.763, Полнота = 0.458, F1 = 0.573, ROC_auc = 0.711\n"
     ]
    }
   ],
   "source": [
    "#рассчитаем оптимальный порог классификации для случайного леса с учетом баланса классов\n",
    "probabilities_valid = model_rfc_b.predict_proba(features_valid)\n",
    "probabilities_one_valid = probabilities_valid[:, 1]\n",
    "\n",
    "for threshold in np.arange(0, 0.7, 0.02):\n",
    "    predicted_valid = probabilities_one_valid > threshold\n",
    "    precision = precision_score(target_valid, predicted_valid)\n",
    "    recall = recall_score(target_valid, predicted_valid)\n",
    "    print(\"Порог = {:.2f} | Точность = {:.3f}, Полнота = {:.3f}, F1 = {:.3f}, ROC_auc = {:.3f}\".format(\n",
    "        threshold, precision, recall, f1_score(target_valid, predicted_valid), roc_auc_score(target_valid, predicted_valid)))"
   ]
  },
  {
   "cell_type": "markdown",
   "metadata": {},
   "source": [
    "**Вывод:**\n",
    "- Обучили модель логистической регресии с учетом баланса классов, получили F1 = 0.53 и AUC-ROC = 0.79\n",
    "- Обучили модель случайного леса с учетом баланса классов, получили F1 = 0.65 и AUC-ROC = 0.87\n",
    "- При изменении порога классификации в логистической регрессии оптимальные значений метрик составляют F1 = 0.531, ROC_auc = 0.728 при пороге =0.54\n",
    "- При изменении порога классификации случайного леса оптимальные значений метрик составляют F1 = 0.655, ROC_auc = 0.788 при пороге =0.50\n",
    "\n",
    "Значение метрик с учетом баланса классов получились выше, чем значения метрик без борьбы с дизбалансом классов. \n",
    "Лучший результат с учетом баланса классов показала модель случайного леса"
   ]
  },
  {
   "cell_type": "code",
   "execution_count": 27,
   "metadata": {},
   "outputs": [],
   "source": [
    "#увеличим выборку для борьбы с дисбалансом\n",
    "#напишем функцию upsample\n",
    "def upsample(features, target, repeat):\n",
    "    features_zeros = features[target == 0]\n",
    "    features_ones = features[target == 1]\n",
    "    target_zeros = target[target == 0]\n",
    "    target_ones = target[target == 1]\n",
    "    features_upsampled = pd.concat([features_zeros] + [features_ones] * repeat)\n",
    "    target_upsampled = pd.concat([target_zeros] + [target_ones] * repeat)\n",
    "    features_upsampled, target_upsampled = shuffle(\n",
    "        features_upsampled, target_upsampled, random_state=RANDOM_STATE)\n",
    "    return features_upsampled, target_upsampled\n",
    "\n",
    "features_upsampled, target_upsampled = upsample(features_train, target_train, 4)"
   ]
  },
  {
   "cell_type": "code",
   "execution_count": 28,
   "metadata": {},
   "outputs": [
    {
     "name": "stdout",
     "output_type": "stream",
     "text": [
      "F1: 0.5246753246753246\n",
      "ROC_auc: 0.7937774041777517\n"
     ]
    }
   ],
   "source": [
    "#обучим модель логистической регрессии на увеличенной выборке\n",
    "model_lr_upsampled = LogisticRegression(random_state=RANDOM_STATE, solver='liblinear')\n",
    "model_lr_upsampled.fit(features_upsampled, target_upsampled)\n",
    "predicted_valid = model_lr_upsampled.predict(features_valid) \n",
    "print(\"F1:\", f1_score(target_valid, predicted_valid))\n",
    "#посчитаем ROC_auc\n",
    "probabilities_valid = model_lr_upsampled.predict_proba(features_valid)\n",
    "probabilities_one_valid = probabilities_valid[:, 1]\n",
    "print(\"ROC_auc:\", roc_auc_score(target_valid, probabilities_one_valid)) "
   ]
  },
  {
   "cell_type": "code",
   "execution_count": 29,
   "metadata": {},
   "outputs": [
    {
     "name": "stdout",
     "output_type": "stream",
     "text": [
      "Количество деревьев = 37 Глубина дерева 10 F1: 0.6530612244897959\n"
     ]
    }
   ],
   "source": [
    "#подберем гиперпараметры для модели случайного леса на увеличенной выборке\n",
    "best_est3 = 0\n",
    "best_f1_score_forest3 = 0\n",
    "best_depth3 = 0\n",
    "for depth in range(1,16):\n",
    "    for est in range(3,58):\n",
    "        model = RandomForestClassifier(random_state=RANDOM_STATE, n_estimators=est, max_depth=depth)\n",
    "        model.fit(features_upsampled, target_upsampled)\n",
    "        predicted_valid = model.predict(features_valid)\n",
    "        f1_scores = f1_score(target_valid, predicted_valid)       \n",
    "        if f1_scores > best_f1_score_forest3: \n",
    "            best_est3 = est\n",
    "            best_f1_score_forest3 = f1_scores\n",
    "            best_depth3 = depth\n",
    "print(\"Количество деревьев =\", best_est3, \"Глубина дерева\" ,best_depth3, \"F1:\", best_f1_score_forest3)"
   ]
  },
  {
   "cell_type": "code",
   "execution_count": 30,
   "metadata": {},
   "outputs": [
    {
     "name": "stdout",
     "output_type": "stream",
     "text": [
      "F1: 0.6530612244897959\n",
      "ROC_auc: 0.8660874839885704\n"
     ]
    }
   ],
   "source": [
    "#обучим модель случайного леса с лучшими гиперпараметрами на увеличенной выборке\n",
    "model_rfc_upsampled = RandomForestClassifier(random_state=RANDOM_STATE, n_estimators=37, max_depth=10)\n",
    "model_rfc_upsampled.fit(features_upsampled, target_upsampled)\n",
    "predicted_valid = model_rfc_upsampled.predict(features_valid) \n",
    "print(\"F1:\", f1_score(target_valid, predicted_valid))\n",
    "probabilities_valid = model_rfc_upsampled.predict_proba(features_valid)\n",
    "probabilities_one_valid = probabilities_valid[:, 1]\n",
    "print(\"ROC_auc:\", roc_auc_score(target_valid, probabilities_one_valid))  "
   ]
  },
  {
   "cell_type": "markdown",
   "metadata": {},
   "source": [
    "**Вывод:**\n",
    "- Обучили модель логистической регресии с увеличением выборки, получили F1 = 0.52 и AUC-ROC = 0.79, результат получился чуть ниже, чем при балансе классов гиперпараметром class_weight='balanced'\n",
    "- Обучили модель случайного леса с учетом баланса классов, получили F1 = 0.65 и AUC-ROC = 0.87, такой же результат, как и припри балансе классов гиперпараметром class_weight='balanced'"
   ]
  },
  {
   "cell_type": "code",
   "execution_count": 31,
   "metadata": {},
   "outputs": [],
   "source": [
    "#уменьшим выборку для борьбы с дисбалансом\n",
    "#напишем функцию downsample\n",
    "def downsample(features, target, fraction):\n",
    "    features_zeros = features[target == 0]\n",
    "    features_ones = features[target == 1]\n",
    "    target_zeros = target[target == 0]\n",
    "    target_ones = target[target == 1]\n",
    "    features_downsampled = pd.concat(\n",
    "        [features_zeros.sample(frac=fraction, random_state=RANDOM_STATE)] + [features_ones])\n",
    "    target_downsampled = pd.concat(\n",
    "        [target_zeros.sample(frac=fraction, random_state=RANDOM_STATE)] + [target_ones])\n",
    "    features_downsampled, target_downsampled = shuffle(\n",
    "        features_downsampled, target_downsampled, random_state=RANDOM_STATE)\n",
    "    return features_downsampled, target_downsampled\n",
    "\n",
    "features_downsampled, target_downsampled = downsample(features_train, target_train, 0.25)"
   ]
  },
  {
   "cell_type": "code",
   "execution_count": 32,
   "metadata": {},
   "outputs": [
    {
     "name": "stdout",
     "output_type": "stream",
     "text": [
      "F1: 0.5275862068965517\n",
      "ROC_auc: 0.7926027194797518\n"
     ]
    }
   ],
   "source": [
    "#обучим модель логистической регрессии на уменьшенной выборке\n",
    "model_lr_downsampled = LogisticRegression(random_state=RANDOM_STATE, solver='liblinear')\n",
    "model_lr_downsampled.fit(features_downsampled, target_downsampled)\n",
    "predicted_valid = model_lr_downsampled.predict(features_valid)\n",
    "print(\"F1:\", f1_score(target_valid, predicted_valid))\n",
    "#посчитаем ROC_auc\n",
    "probabilities_valid = model_lr_downsampled.predict_proba(features_valid)\n",
    "probabilities_one_valid = probabilities_valid[:, 1]\n",
    "print(\"ROC_auc:\", roc_auc_score(target_valid, probabilities_one_valid)) "
   ]
  },
  {
   "cell_type": "code",
   "execution_count": 33,
   "metadata": {},
   "outputs": [
    {
     "name": "stdout",
     "output_type": "stream",
     "text": [
      "Количество деревьев = 24 Глубина дерева 7 F1: 0.6396135265700483\n"
     ]
    }
   ],
   "source": [
    "#подберем гиперпаматеры для модели случайного леса на уменьшенной выборке\n",
    "best_est4 = 0\n",
    "best_f1_score_forest4 = 0\n",
    "best_depth4 = 0\n",
    "for depth in range(1,16):\n",
    "    for est in range(3,58):\n",
    "        model = RandomForestClassifier(random_state=RANDOM_STATE, n_estimators=est, max_depth=depth)\n",
    "        model.fit(features_downsampled, target_downsampled)\n",
    "        predicted_valid = model.predict(features_valid)\n",
    "        f1_scores = f1_score(target_valid, predicted_valid)\n",
    "        if f1_scores > best_f1_score_forest4:\n",
    "            best_est4 = est\n",
    "            best_f1_score_forest4 = f1_scores\n",
    "            best_depth4 = depth\n",
    "print(\"Количество деревьев =\", best_est4, \"Глубина дерева\" ,best_depth4, \"F1:\", best_f1_score_forest4)"
   ]
  },
  {
   "cell_type": "code",
   "execution_count": 34,
   "metadata": {},
   "outputs": [
    {
     "name": "stdout",
     "output_type": "stream",
     "text": [
      "F1: 0.6396135265700483\n",
      "ROC_auc: 0.8656148389003844\n"
     ]
    }
   ],
   "source": [
    "#обучим модель случайного леса с лучшими гиперпараметрами на уменьшенной выборке\n",
    "model_rfc_downsampled = RandomForestClassifier(random_state=RANDOM_STATE, n_estimators=24, max_depth=7)\n",
    "model_rfc_downsampled.fit(features_downsampled, target_downsampled)\n",
    "predicted_valid = model_rfc_downsampled.predict(features_valid)\n",
    "print(\"F1:\", f1_score(target_valid, predicted_valid))\n",
    "probabilities_valid = model_rfc_downsampled.predict_proba(features_valid)\n",
    "probabilities_one_valid = probabilities_valid[:, 1]\n",
    "print(\"ROC_auc:\", roc_auc_score(target_valid, probabilities_one_valid)) "
   ]
  },
  {
   "cell_type": "markdown",
   "metadata": {},
   "source": [
    "**Вывод:**\n",
    "- Обучили модель логистической регресии с уменьшенной выборке, получили F1 = 0.53 и AUC-ROC = 0.79, результа получился чуть ниже, чем при балансе классов гиперпараметром `class_weight='balanced'`\n",
    "- Обучили модель случайного леса с уменьшенной выборке, получили F1 = 0.64 и AUC-ROC = 0.87, результат чуть ниже, чем при балансе классов гиперпараметром `class_weight='balanced'`"
   ]
  },
  {
   "cell_type": "markdown",
   "metadata": {},
   "source": [
    "## Тестирование модели"
   ]
  },
  {
   "cell_type": "code",
   "execution_count": 35,
   "metadata": {},
   "outputs": [],
   "source": [
    "#объедними признаки и целевые признаки тренировочной и валидационной выборки\n",
    "features_general = pd.concat([features_valid, features_train], ignore_index= True)\n",
    "target_general = pd.concat([target_valid, target_train], ignore_index= True)"
   ]
  },
  {
   "cell_type": "code",
   "execution_count": 36,
   "metadata": {
    "scrolled": true
   },
   "outputs": [
    {
     "name": "stdout",
     "output_type": "stream",
     "text": [
      "F1: 0.6199524940617577\n",
      "ROC_auc: 0.8538584809771249\n"
     ]
    }
   ],
   "source": [
    "#обучим модель случайного леса\n",
    "model_rfc_test = RandomForestClassifier(random_state=RANDOM_STATE, n_estimators=70, max_depth=10, class_weight='balanced')\n",
    "model_rfc_test.fit(features_general, target_general)\n",
    "predicted_test = model_rfc_test.predict(features_test)\n",
    "print(\"F1:\", f1_score(target_test, predicted_test))\n",
    "#посчитаем ROC_auc\n",
    "probabilities_test = model_rfc_test.predict_proba(features_test)\n",
    "probabilities_one_test = probabilities_test[:, 1]\n",
    "print(\"ROC_auc:\", roc_auc_score(target_test, probabilities_one_test))  "
   ]
  },
  {
   "cell_type": "code",
   "execution_count": 37,
   "metadata": {},
   "outputs": [
    {
     "data": {
      "text/plain": [
       "Text(0.5, 1.0, 'Важности признаков')"
      ]
     },
     "execution_count": 37,
     "metadata": {},
     "output_type": "execute_result"
    },
    {
     "data": {
      "image/png": "[encoded data removed]",
      "text/plain": [
       "<Figure size 1200x600 with 1 Axes>"
      ]
     },
     "metadata": {},
     "output_type": "display_data"
    }
   ],
   "source": [
    "#построим график для понимания важности признаков\n",
    "feature_importance = model_rfc_b.feature_importances_\n",
    "sorted_idx = np.argsort(feature_importance)\n",
    "pos = np.arange(sorted_idx.shape[0]) + 0.5\n",
    "fig = plt.figure(figsize=(12, 6))\n",
    "plt.subplot(1, 2, 1)\n",
    "plt.barh(pos, feature_importance[sorted_idx], align=\"center\")\n",
    "plt.yticks(pos, np.array(features.columns)[sorted_idx])\n",
    "plt.title(\"Важности признаков\")"
   ]
  },
  {
   "cell_type": "markdown",
   "metadata": {},
   "source": [
    "**Вывод:**\n",
    "\n",
    " Обучили модель случайного леса на объедененных тренировочной и валидационной выборке при использовании гиперпараметра class_weight='balanced', получили F1 = 0.61 и AUC-ROC = 0.86. Удалось достичь F1 меры не менее 0.59 на тестовой выборке."
   ]
  },
  {
   "cell_type": "markdown",
   "metadata": {},
   "source": [
    "# Общий вывод:"
   ]
  },
  {
   "cell_type": "markdown",
   "metadata": {},
   "source": [
    "1. Загрузили и подготовили данные.\n",
    "2. Исследовали баланс классов, обучили три модели без учёта дисбаланса.\n",
    "3. Улучшили качество модели, учитывая дисбаланс классов и выбрали лучшую модель.\n",
    "4. Провели финальное тестирование. Установлено, что случайный лес при `class_weight='balanced'` имеет хорошую адекватность при AUC-ROC = 0.86, а также при f1-мере = 0.61, то есть предсказания неслучайны.\n",
    "\n",
    "Больше всего на уход из банка влияют возраст и количество продуктов банка."
   ]
  }
 ],
 "metadata": {
  "ExecuteTimeLog": [
   {
    "duration": 338,
    "start_time": "2023-05-16T11:38:14.173Z"
   },
   {
    "duration": 160,
    "start_time": "2023-05-16T11:38:14.512Z"
   },
   {
    "duration": 22,
    "start_time": "2023-05-16T11:39:12.079Z"
   },
   {
    "duration": 29,
    "start_time": "2023-05-16T11:39:34.869Z"
   },
   {
    "duration": 54,
    "start_time": "2023-05-16T11:40:45.866Z"
   },
   {
    "duration": 5,
    "start_time": "2023-05-16T11:44:45.391Z"
   },
   {
    "duration": 754,
    "start_time": "2023-05-16T12:20:12.260Z"
   },
   {
    "duration": 108,
    "start_time": "2023-05-16T12:23:51.918Z"
   },
   {
    "duration": 8,
    "start_time": "2023-05-16T12:24:04.565Z"
   },
   {
    "duration": 9,
    "start_time": "2023-05-16T12:24:08.664Z"
   },
   {
    "duration": 9,
    "start_time": "2023-05-16T12:25:17.590Z"
   },
   {
    "duration": 12,
    "start_time": "2023-05-16T12:25:44.654Z"
   },
   {
    "duration": 8,
    "start_time": "2023-05-16T12:25:52.859Z"
   },
   {
    "duration": 13,
    "start_time": "2023-05-16T12:26:01.254Z"
   },
   {
    "duration": 11,
    "start_time": "2023-05-16T12:26:10.862Z"
   },
   {
    "duration": 3,
    "start_time": "2023-05-16T12:26:46.058Z"
   },
   {
    "duration": 20,
    "start_time": "2023-05-16T12:26:49.965Z"
   },
   {
    "duration": 3,
    "start_time": "2023-05-16T12:26:53.465Z"
   },
   {
    "duration": 52,
    "start_time": "2023-05-16T12:59:12.862Z"
   },
   {
    "duration": 16,
    "start_time": "2023-05-16T12:59:20.358Z"
   },
   {
    "duration": 14,
    "start_time": "2023-05-16T12:59:37.182Z"
   },
   {
    "duration": 14,
    "start_time": "2023-05-16T12:59:43.606Z"
   },
   {
    "duration": 20,
    "start_time": "2023-05-16T13:00:04.146Z"
   },
   {
    "duration": 16,
    "start_time": "2023-05-16T13:00:43.178Z"
   },
   {
    "duration": 20,
    "start_time": "2023-05-16T13:00:52.562Z"
   },
   {
    "duration": 16,
    "start_time": "2023-05-16T13:01:01.660Z"
   },
   {
    "duration": 10,
    "start_time": "2023-05-16T13:02:32.526Z"
   },
   {
    "duration": 7,
    "start_time": "2023-05-16T13:02:33.364Z"
   },
   {
    "duration": 5,
    "start_time": "2023-05-16T13:03:10.714Z"
   },
   {
    "duration": 11,
    "start_time": "2023-05-16T13:05:28.963Z"
   },
   {
    "duration": 5,
    "start_time": "2023-05-16T13:06:32.738Z"
   },
   {
    "duration": 12,
    "start_time": "2023-05-16T13:06:37.094Z"
   },
   {
    "duration": 35,
    "start_time": "2023-05-16T13:06:42.678Z"
   },
   {
    "duration": 3,
    "start_time": "2023-05-16T13:07:19.474Z"
   },
   {
    "duration": 1033,
    "start_time": "2023-05-16T13:08:10.761Z"
   },
   {
    "duration": 41,
    "start_time": "2023-05-16T13:08:11.796Z"
   },
   {
    "duration": 61,
    "start_time": "2023-05-16T13:08:11.839Z"
   },
   {
    "duration": 3,
    "start_time": "2023-05-16T13:08:11.901Z"
   },
   {
    "duration": 19,
    "start_time": "2023-05-16T13:08:11.907Z"
   },
   {
    "duration": 12,
    "start_time": "2023-05-16T13:08:11.927Z"
   },
   {
    "duration": 6,
    "start_time": "2023-05-16T13:08:11.941Z"
   },
   {
    "duration": 103,
    "start_time": "2023-05-16T13:14:35.984Z"
   },
   {
    "duration": 8,
    "start_time": "2023-05-16T13:14:55.802Z"
   },
   {
    "duration": 9,
    "start_time": "2023-05-16T13:15:24.814Z"
   },
   {
    "duration": 7,
    "start_time": "2023-05-16T13:15:38.590Z"
   },
   {
    "duration": 7,
    "start_time": "2023-05-16T13:16:11.103Z"
   },
   {
    "duration": 270,
    "start_time": "2023-05-16T13:24:13.363Z"
   },
   {
    "duration": 11,
    "start_time": "2023-05-16T13:24:35.997Z"
   },
   {
    "duration": 393,
    "start_time": "2023-05-16T13:25:30.763Z"
   },
   {
    "duration": 18,
    "start_time": "2023-05-16T13:26:27.670Z"
   },
   {
    "duration": 21,
    "start_time": "2023-05-16T13:26:39.121Z"
   },
   {
    "duration": 13,
    "start_time": "2023-05-16T13:27:18.997Z"
   },
   {
    "duration": 13,
    "start_time": "2023-05-16T13:27:28.721Z"
   },
   {
    "duration": 14,
    "start_time": "2023-05-16T13:27:31.335Z"
   },
   {
    "duration": 11,
    "start_time": "2023-05-16T13:28:01.454Z"
   },
   {
    "duration": 14,
    "start_time": "2023-05-16T13:28:04.458Z"
   },
   {
    "duration": 3,
    "start_time": "2023-05-16T13:28:22.795Z"
   },
   {
    "duration": 15,
    "start_time": "2023-05-16T13:28:24.925Z"
   },
   {
    "duration": 19,
    "start_time": "2023-05-16T13:28:28.893Z"
   },
   {
    "duration": 26,
    "start_time": "2023-05-16T13:28:41.263Z"
   },
   {
    "duration": 1116,
    "start_time": "2023-05-16T13:31:12.914Z"
   },
   {
    "duration": 41,
    "start_time": "2023-05-16T13:31:14.032Z"
   },
   {
    "duration": 62,
    "start_time": "2023-05-16T13:31:14.074Z"
   },
   {
    "duration": 2,
    "start_time": "2023-05-16T13:31:14.137Z"
   },
   {
    "duration": 252,
    "start_time": "2023-05-16T13:31:14.142Z"
   },
   {
    "duration": 10,
    "start_time": "2023-05-16T13:31:14.396Z"
   },
   {
    "duration": 19,
    "start_time": "2023-05-16T13:31:14.407Z"
   },
   {
    "duration": 7,
    "start_time": "2023-05-16T13:31:14.428Z"
   },
   {
    "duration": 4,
    "start_time": "2023-05-16T13:31:14.436Z"
   },
   {
    "duration": 386,
    "start_time": "2023-05-16T13:31:29.230Z"
   },
   {
    "duration": 6,
    "start_time": "2023-05-16T13:33:55.263Z"
   },
   {
    "duration": 4,
    "start_time": "2023-05-16T13:34:01.435Z"
   },
   {
    "duration": 7,
    "start_time": "2023-05-16T13:34:05.496Z"
   },
   {
    "duration": 69,
    "start_time": "2023-05-16T13:34:21.116Z"
   },
   {
    "duration": 62,
    "start_time": "2023-05-16T13:34:21.761Z"
   },
   {
    "duration": 21,
    "start_time": "2023-05-16T13:34:55.959Z"
   },
   {
    "duration": 11,
    "start_time": "2023-05-16T13:34:56.328Z"
   },
   {
    "duration": 7,
    "start_time": "2023-05-16T13:34:57.232Z"
   },
   {
    "duration": 7,
    "start_time": "2023-05-16T13:34:59.333Z"
   },
   {
    "duration": 112,
    "start_time": "2023-05-16T13:35:55.867Z"
   },
   {
    "duration": 20,
    "start_time": "2023-05-16T13:36:28.158Z"
   },
   {
    "duration": 22,
    "start_time": "2023-05-16T13:36:28.532Z"
   },
   {
    "duration": 1077,
    "start_time": "2023-05-16T13:36:32.798Z"
   },
   {
    "duration": 41,
    "start_time": "2023-05-16T13:36:33.877Z"
   },
   {
    "duration": 62,
    "start_time": "2023-05-16T13:36:33.920Z"
   },
   {
    "duration": 3,
    "start_time": "2023-05-16T13:36:33.984Z"
   },
   {
    "duration": 7,
    "start_time": "2023-05-16T13:36:33.989Z"
   },
   {
    "duration": 35,
    "start_time": "2023-05-16T13:36:33.998Z"
   },
   {
    "duration": 12,
    "start_time": "2023-05-16T13:36:34.035Z"
   },
   {
    "duration": 7,
    "start_time": "2023-05-16T13:36:34.049Z"
   },
   {
    "duration": 6,
    "start_time": "2023-05-16T13:36:34.058Z"
   },
   {
    "duration": 3,
    "start_time": "2023-05-16T13:36:34.066Z"
   },
   {
    "duration": 121,
    "start_time": "2023-05-16T13:36:53.155Z"
   },
   {
    "duration": 12,
    "start_time": "2023-05-16T13:38:38.229Z"
   },
   {
    "duration": 1087,
    "start_time": "2023-05-16T13:38:41.694Z"
   },
   {
    "duration": 41,
    "start_time": "2023-05-16T13:38:42.783Z"
   },
   {
    "duration": 61,
    "start_time": "2023-05-16T13:38:42.825Z"
   },
   {
    "duration": 3,
    "start_time": "2023-05-16T13:38:42.887Z"
   },
   {
    "duration": 6,
    "start_time": "2023-05-16T13:38:42.892Z"
   },
   {
    "duration": 34,
    "start_time": "2023-05-16T13:38:42.899Z"
   },
   {
    "duration": 9,
    "start_time": "2023-05-16T13:38:42.935Z"
   },
   {
    "duration": 15,
    "start_time": "2023-05-16T13:38:42.946Z"
   },
   {
    "duration": 8,
    "start_time": "2023-05-16T13:38:42.962Z"
   },
   {
    "duration": 4,
    "start_time": "2023-05-16T13:38:42.972Z"
   },
   {
    "duration": 3,
    "start_time": "2023-05-16T13:43:15.269Z"
   },
   {
    "duration": 4,
    "start_time": "2023-05-16T13:44:26.268Z"
   },
   {
    "duration": 10,
    "start_time": "2023-05-16T13:45:14.812Z"
   },
   {
    "duration": 26,
    "start_time": "2023-05-16T13:46:41.272Z"
   },
   {
    "duration": 110,
    "start_time": "2023-05-16T13:48:50.811Z"
   },
   {
    "duration": 3,
    "start_time": "2023-05-16T13:49:07.127Z"
   },
   {
    "duration": 29,
    "start_time": "2023-05-16T13:49:07.661Z"
   },
   {
    "duration": 8,
    "start_time": "2023-05-16T13:52:06.865Z"
   },
   {
    "duration": 7,
    "start_time": "2023-05-16T13:52:42.031Z"
   },
   {
    "duration": 2,
    "start_time": "2023-05-16T13:52:42.628Z"
   },
   {
    "duration": 19,
    "start_time": "2023-05-16T13:52:43.472Z"
   },
   {
    "duration": 5,
    "start_time": "2023-05-16T13:53:02.230Z"
   },
   {
    "duration": 3,
    "start_time": "2023-05-16T13:53:02.757Z"
   },
   {
    "duration": 20,
    "start_time": "2023-05-16T13:53:03.056Z"
   },
   {
    "duration": 17,
    "start_time": "2023-05-16T13:53:27.602Z"
   },
   {
    "duration": 28,
    "start_time": "2023-05-16T13:55:30.401Z"
   },
   {
    "duration": 25,
    "start_time": "2023-05-16T13:56:07.825Z"
   },
   {
    "duration": 19,
    "start_time": "2023-05-16T13:56:15.028Z"
   },
   {
    "duration": 3,
    "start_time": "2023-05-16T14:03:03.432Z"
   },
   {
    "duration": 23,
    "start_time": "2023-05-16T14:09:32.819Z"
   },
   {
    "duration": 20,
    "start_time": "2023-05-16T14:09:43.323Z"
   },
   {
    "duration": 2,
    "start_time": "2023-05-16T14:11:59.603Z"
   },
   {
    "duration": 1710,
    "start_time": "2023-05-17T13:38:40.249Z"
   },
   {
    "duration": 7,
    "start_time": "2023-05-17T13:39:45.474Z"
   },
   {
    "duration": 5,
    "start_time": "2023-05-17T13:39:56.083Z"
   },
   {
    "duration": 5,
    "start_time": "2023-05-17T13:40:06.890Z"
   },
   {
    "duration": 83,
    "start_time": "2023-05-17T13:40:07.885Z"
   },
   {
    "duration": 65,
    "start_time": "2023-05-17T13:40:08.391Z"
   },
   {
    "duration": 4,
    "start_time": "2023-05-17T13:40:12.034Z"
   },
   {
    "duration": 207,
    "start_time": "2023-05-17T13:40:14.722Z"
   },
   {
    "duration": 123,
    "start_time": "2023-05-17T13:40:15.003Z"
   },
   {
    "duration": 62,
    "start_time": "2023-05-17T13:40:15.355Z"
   },
   {
    "duration": 3,
    "start_time": "2023-05-17T13:40:15.786Z"
   },
   {
    "duration": 23,
    "start_time": "2023-05-17T13:40:16.202Z"
   },
   {
    "duration": 65,
    "start_time": "2023-05-17T13:40:16.790Z"
   },
   {
    "duration": 5,
    "start_time": "2023-05-17T13:40:19.090Z"
   },
   {
    "duration": 634,
    "start_time": "2023-05-17T13:41:00.484Z"
   },
   {
    "duration": 336,
    "start_time": "2023-05-17T13:41:19.936Z"
   },
   {
    "duration": 1144,
    "start_time": "2023-05-17T13:41:30.174Z"
   },
   {
    "duration": 42,
    "start_time": "2023-05-17T13:41:31.320Z"
   },
   {
    "duration": 76,
    "start_time": "2023-05-17T13:41:31.364Z"
   },
   {
    "duration": 4,
    "start_time": "2023-05-17T13:41:31.441Z"
   },
   {
    "duration": 30,
    "start_time": "2023-05-17T13:41:31.446Z"
   },
   {
    "duration": 46,
    "start_time": "2023-05-17T13:41:31.478Z"
   },
   {
    "duration": 14,
    "start_time": "2023-05-17T13:41:31.525Z"
   },
   {
    "duration": 29,
    "start_time": "2023-05-17T13:41:31.540Z"
   },
   {
    "duration": 14,
    "start_time": "2023-05-17T13:41:31.571Z"
   },
   {
    "duration": 49,
    "start_time": "2023-05-17T13:41:31.587Z"
   },
   {
    "duration": 11,
    "start_time": "2023-05-17T13:41:31.638Z"
   },
   {
    "duration": 145,
    "start_time": "2023-05-17T13:41:31.651Z"
   },
   {
    "duration": 127885,
    "start_time": "2023-05-17T13:41:31.800Z"
   },
   {
    "duration": 11,
    "start_time": "2023-05-17T13:43:39.686Z"
   },
   {
    "duration": 50,
    "start_time": "2023-05-17T13:43:39.699Z"
   },
   {
    "duration": 146,
    "start_time": "2023-05-17T14:08:37.615Z"
   },
   {
    "duration": 1406,
    "start_time": "2023-05-17T14:08:53.983Z"
   },
   {
    "duration": 52,
    "start_time": "2023-05-17T14:08:55.392Z"
   },
   {
    "duration": 90,
    "start_time": "2023-05-17T14:08:55.446Z"
   },
   {
    "duration": 3,
    "start_time": "2023-05-17T14:08:55.538Z"
   },
   {
    "duration": 8,
    "start_time": "2023-05-17T14:08:55.545Z"
   },
   {
    "duration": 23,
    "start_time": "2023-05-17T14:08:55.555Z"
   },
   {
    "duration": 20,
    "start_time": "2023-05-17T14:08:55.598Z"
   },
   {
    "duration": 10,
    "start_time": "2023-05-17T14:08:55.621Z"
   },
   {
    "duration": 21,
    "start_time": "2023-05-17T14:08:55.633Z"
   },
   {
    "duration": 45,
    "start_time": "2023-05-17T14:08:55.656Z"
   },
   {
    "duration": 8,
    "start_time": "2023-05-17T14:08:55.703Z"
   },
   {
    "duration": 86,
    "start_time": "2023-05-17T14:08:55.713Z"
   },
   {
    "duration": 257,
    "start_time": "2023-05-17T14:08:55.807Z"
   },
   {
    "duration": 0,
    "start_time": "2023-05-17T14:08:56.066Z"
   },
   {
    "duration": 33,
    "start_time": "2023-05-17T14:10:30.879Z"
   },
   {
    "duration": 30,
    "start_time": "2023-05-17T14:10:52.008Z"
   },
   {
    "duration": 28,
    "start_time": "2023-05-17T14:11:03.798Z"
   },
   {
    "duration": 45,
    "start_time": "2023-05-17T14:11:10.032Z"
   },
   {
    "duration": 1181,
    "start_time": "2023-05-17T14:11:26.119Z"
   },
   {
    "duration": 42,
    "start_time": "2023-05-17T14:11:27.302Z"
   },
   {
    "duration": 78,
    "start_time": "2023-05-17T14:11:27.346Z"
   },
   {
    "duration": 3,
    "start_time": "2023-05-17T14:11:27.428Z"
   },
   {
    "duration": 16,
    "start_time": "2023-05-17T14:11:27.432Z"
   },
   {
    "duration": 22,
    "start_time": "2023-05-17T14:11:27.449Z"
   },
   {
    "duration": 24,
    "start_time": "2023-05-17T14:11:27.473Z"
   },
   {
    "duration": 7,
    "start_time": "2023-05-17T14:11:27.499Z"
   },
   {
    "duration": 10,
    "start_time": "2023-05-17T14:11:27.508Z"
   },
   {
    "duration": 41,
    "start_time": "2023-05-17T14:11:27.521Z"
   },
   {
    "duration": 9,
    "start_time": "2023-05-17T14:11:27.564Z"
   },
   {
    "duration": 48,
    "start_time": "2023-05-17T14:11:27.575Z"
   },
   {
    "duration": 328,
    "start_time": "2023-05-17T14:11:27.624Z"
   },
   {
    "duration": 0,
    "start_time": "2023-05-17T14:11:27.954Z"
   },
   {
    "duration": 38,
    "start_time": "2023-05-17T14:11:52.177Z"
   },
   {
    "duration": 30,
    "start_time": "2023-05-17T14:12:32.709Z"
   },
   {
    "duration": 135151,
    "start_time": "2023-05-17T14:13:44.894Z"
   },
   {
    "duration": 26,
    "start_time": "2023-05-17T14:19:28.910Z"
   },
   {
    "duration": 1208,
    "start_time": "2023-05-17T14:21:25.020Z"
   },
   {
    "duration": 42,
    "start_time": "2023-05-17T14:21:26.230Z"
   },
   {
    "duration": 66,
    "start_time": "2023-05-17T14:21:26.273Z"
   },
   {
    "duration": 2,
    "start_time": "2023-05-17T14:21:26.341Z"
   },
   {
    "duration": 40,
    "start_time": "2023-05-17T14:21:26.345Z"
   },
   {
    "duration": 26,
    "start_time": "2023-05-17T14:21:26.386Z"
   },
   {
    "duration": 12,
    "start_time": "2023-05-17T14:21:26.414Z"
   },
   {
    "duration": 25,
    "start_time": "2023-05-17T14:21:26.427Z"
   },
   {
    "duration": 23,
    "start_time": "2023-05-17T14:21:26.454Z"
   },
   {
    "duration": 46,
    "start_time": "2023-05-17T14:21:26.479Z"
   },
   {
    "duration": 6,
    "start_time": "2023-05-17T14:21:26.527Z"
   },
   {
    "duration": 67,
    "start_time": "2023-05-17T14:21:26.535Z"
   },
   {
    "duration": 132497,
    "start_time": "2023-05-17T14:21:26.605Z"
   },
   {
    "duration": 5,
    "start_time": "2023-05-17T14:23:39.105Z"
   },
   {
    "duration": 125742,
    "start_time": "2023-05-17T14:25:38.604Z"
   },
   {
    "duration": 238,
    "start_time": "2023-05-17T14:32:29.113Z"
   },
   {
    "duration": 122915,
    "start_time": "2023-05-17T14:32:46.104Z"
   },
   {
    "duration": 1087,
    "start_time": "2023-05-17T14:43:58.946Z"
   },
   {
    "duration": 46,
    "start_time": "2023-05-17T14:44:00.036Z"
   },
   {
    "duration": 69,
    "start_time": "2023-05-17T14:44:00.083Z"
   },
   {
    "duration": 3,
    "start_time": "2023-05-17T14:44:00.154Z"
   },
   {
    "duration": 40,
    "start_time": "2023-05-17T14:44:00.158Z"
   },
   {
    "duration": 41,
    "start_time": "2023-05-17T14:44:00.199Z"
   },
   {
    "duration": 22,
    "start_time": "2023-05-17T14:44:00.242Z"
   },
   {
    "duration": 17,
    "start_time": "2023-05-17T14:44:00.266Z"
   },
   {
    "duration": 17,
    "start_time": "2023-05-17T14:44:00.285Z"
   },
   {
    "duration": 55,
    "start_time": "2023-05-17T14:44:00.304Z"
   },
   {
    "duration": 30,
    "start_time": "2023-05-17T14:44:00.361Z"
   },
   {
    "duration": 70,
    "start_time": "2023-05-17T14:44:00.393Z"
   },
   {
    "duration": 104564,
    "start_time": "2023-05-17T14:44:00.464Z"
   },
   {
    "duration": 4,
    "start_time": "2023-05-17T14:45:45.031Z"
   },
   {
    "duration": 126923,
    "start_time": "2023-05-17T14:48:32.295Z"
   },
   {
    "duration": 104,
    "start_time": "2023-05-17T14:53:22.293Z"
   },
   {
    "duration": 10,
    "start_time": "2023-05-17T14:53:27.541Z"
   },
   {
    "duration": 51,
    "start_time": "2023-05-17T14:53:45.851Z"
   },
   {
    "duration": 261,
    "start_time": "2023-05-17T14:54:05.513Z"
   },
   {
    "duration": 1223,
    "start_time": "2023-05-17T14:55:15.030Z"
   },
   {
    "duration": 215,
    "start_time": "2023-05-17T14:55:19.289Z"
   },
   {
    "duration": 77,
    "start_time": "2023-05-17T14:55:33.222Z"
   },
   {
    "duration": 98,
    "start_time": "2023-05-17T14:56:29.309Z"
   },
   {
    "duration": 1459,
    "start_time": "2023-05-17T14:56:40.979Z"
   },
   {
    "duration": 42,
    "start_time": "2023-05-17T14:56:42.441Z"
   },
   {
    "duration": 67,
    "start_time": "2023-05-17T14:56:42.485Z"
   },
   {
    "duration": 3,
    "start_time": "2023-05-17T14:56:42.554Z"
   },
   {
    "duration": 33,
    "start_time": "2023-05-17T14:56:42.558Z"
   },
   {
    "duration": 29,
    "start_time": "2023-05-17T14:56:42.593Z"
   },
   {
    "duration": 11,
    "start_time": "2023-05-17T14:56:42.623Z"
   },
   {
    "duration": 10,
    "start_time": "2023-05-17T14:56:42.636Z"
   },
   {
    "duration": 5,
    "start_time": "2023-05-17T14:56:42.647Z"
   },
   {
    "duration": 22,
    "start_time": "2023-05-17T14:56:42.654Z"
   },
   {
    "duration": 21,
    "start_time": "2023-05-17T14:56:42.677Z"
   },
   {
    "duration": 26,
    "start_time": "2023-05-17T14:56:42.699Z"
   },
   {
    "duration": 17366,
    "start_time": "2023-05-17T14:56:42.727Z"
   },
   {
    "duration": 0,
    "start_time": "2023-05-17T14:57:00.097Z"
   },
   {
    "duration": 0,
    "start_time": "2023-05-17T14:57:00.098Z"
   },
   {
    "duration": 207,
    "start_time": "2023-05-17T14:57:08.841Z"
   },
   {
    "duration": 288,
    "start_time": "2023-05-17T14:57:27.034Z"
   },
   {
    "duration": 134341,
    "start_time": "2023-05-17T15:00:06.088Z"
   },
   {
    "duration": 71,
    "start_time": "2023-05-18T15:29:13.282Z"
   },
   {
    "duration": 1113,
    "start_time": "2023-05-18T15:30:11.087Z"
   },
   {
    "duration": 156,
    "start_time": "2023-05-18T15:30:12.202Z"
   },
   {
    "duration": 76,
    "start_time": "2023-05-18T15:30:12.409Z"
   },
   {
    "duration": 3,
    "start_time": "2023-05-18T15:30:15.185Z"
   },
   {
    "duration": 7,
    "start_time": "2023-05-18T15:30:16.323Z"
   },
   {
    "duration": 20,
    "start_time": "2023-05-18T15:30:16.747Z"
   },
   {
    "duration": 17,
    "start_time": "2023-05-18T15:30:18.982Z"
   },
   {
    "duration": 10,
    "start_time": "2023-05-18T15:30:21.251Z"
   },
   {
    "duration": 3,
    "start_time": "2023-05-18T15:30:22.184Z"
   },
   {
    "duration": 34,
    "start_time": "2023-05-18T15:30:22.847Z"
   },
   {
    "duration": 10,
    "start_time": "2023-05-18T15:30:23.586Z"
   },
   {
    "duration": 42,
    "start_time": "2023-05-18T15:30:25.914Z"
   },
   {
    "duration": 64,
    "start_time": "2023-05-18T15:30:29.609Z"
   },
   {
    "duration": 6,
    "start_time": "2023-05-18T15:30:35.649Z"
   },
   {
    "duration": 5,
    "start_time": "2023-05-18T15:31:32.212Z"
   },
   {
    "duration": 15,
    "start_time": "2023-05-18T15:38:09.963Z"
   },
   {
    "duration": 23,
    "start_time": "2023-05-18T15:38:19.809Z"
   },
   {
    "duration": 33,
    "start_time": "2023-05-18T15:39:27.965Z"
   },
   {
    "duration": 36,
    "start_time": "2023-05-18T15:39:43.259Z"
   },
   {
    "duration": 23,
    "start_time": "2023-05-18T15:39:51.981Z"
   },
   {
    "duration": 34,
    "start_time": "2023-05-18T15:44:03.985Z"
   },
   {
    "duration": 136984,
    "start_time": "2023-05-18T15:44:15.126Z"
   },
   {
    "duration": 299,
    "start_time": "2023-05-18T15:46:32.112Z"
   },
   {
    "duration": 330,
    "start_time": "2023-05-18T16:27:03.440Z"
   },
   {
    "duration": 356,
    "start_time": "2023-05-18T16:27:43.142Z"
   },
   {
    "duration": 421,
    "start_time": "2023-05-18T16:28:36.822Z"
   },
   {
    "duration": 212,
    "start_time": "2023-05-18T16:31:48.453Z"
   },
   {
    "duration": 404,
    "start_time": "2023-05-18T16:31:59.883Z"
   },
   {
    "duration": 302,
    "start_time": "2023-05-18T16:32:29.287Z"
   },
   {
    "duration": 322,
    "start_time": "2023-05-18T16:32:40.617Z"
   },
   {
    "duration": 351,
    "start_time": "2023-05-18T16:33:05.721Z"
   },
   {
    "duration": 353,
    "start_time": "2023-05-18T16:33:34.913Z"
   },
   {
    "duration": 336,
    "start_time": "2023-05-18T16:33:41.950Z"
   },
   {
    "duration": 11,
    "start_time": "2023-05-18T16:36:23.051Z"
   },
   {
    "duration": 175,
    "start_time": "2023-05-18T16:38:43.443Z"
   },
   {
    "duration": 184,
    "start_time": "2023-05-18T16:38:51.822Z"
   },
   {
    "duration": 377,
    "start_time": "2023-05-18T16:39:14.282Z"
   },
   {
    "duration": 356,
    "start_time": "2023-05-18T16:39:36.676Z"
   },
   {
    "duration": 355,
    "start_time": "2023-05-18T16:40:10.529Z"
   },
   {
    "duration": 354,
    "start_time": "2023-05-18T16:40:23.376Z"
   },
   {
    "duration": 345,
    "start_time": "2023-05-18T16:42:15.141Z"
   },
   {
    "duration": 382,
    "start_time": "2023-05-18T16:42:21.208Z"
   },
   {
    "duration": 195,
    "start_time": "2023-05-18T16:45:14.644Z"
   },
   {
    "duration": 358,
    "start_time": "2023-05-18T16:45:27.771Z"
   },
   {
    "duration": 273,
    "start_time": "2023-05-18T16:45:35.421Z"
   },
   {
    "duration": 253,
    "start_time": "2023-05-18T16:46:27.648Z"
   },
   {
    "duration": 68,
    "start_time": "2023-05-19T14:46:39.333Z"
   },
   {
    "duration": 7,
    "start_time": "2023-05-19T14:46:50.669Z"
   },
   {
    "duration": 1460,
    "start_time": "2023-05-19T14:47:23.759Z"
   },
   {
    "duration": 322,
    "start_time": "2023-05-19T14:47:25.222Z"
   },
   {
    "duration": 109,
    "start_time": "2023-05-19T14:47:25.547Z"
   },
   {
    "duration": 3,
    "start_time": "2023-05-19T14:47:29.421Z"
   },
   {
    "duration": 9,
    "start_time": "2023-05-19T14:47:30.352Z"
   },
   {
    "duration": 19,
    "start_time": "2023-05-19T14:47:30.680Z"
   },
   {
    "duration": 14,
    "start_time": "2023-05-19T14:47:31.370Z"
   },
   {
    "duration": 11,
    "start_time": "2023-05-19T14:47:33.450Z"
   },
   {
    "duration": 3,
    "start_time": "2023-05-19T14:47:34.045Z"
   },
   {
    "duration": 27,
    "start_time": "2023-05-19T14:47:34.472Z"
   },
   {
    "duration": 8,
    "start_time": "2023-05-19T14:47:35.571Z"
   },
   {
    "duration": 7,
    "start_time": "2023-05-19T14:47:42.145Z"
   },
   {
    "duration": 5,
    "start_time": "2023-05-19T14:47:42.645Z"
   },
   {
    "duration": 78,
    "start_time": "2023-05-19T14:47:47.645Z"
   },
   {
    "duration": 11,
    "start_time": "2023-05-19T14:47:48.579Z"
   },
   {
    "duration": 4,
    "start_time": "2023-05-19T14:48:20.006Z"
   },
   {
    "duration": 13,
    "start_time": "2023-05-19T14:48:59.670Z"
   },
   {
    "duration": 33,
    "start_time": "2023-05-19T14:49:00.207Z"
   },
   {
    "duration": 169736,
    "start_time": "2023-05-19T14:51:15.796Z"
   },
   {
    "duration": 13,
    "start_time": "2023-05-19T15:00:01.889Z"
   },
   {
    "duration": 39,
    "start_time": "2023-05-19T15:00:45.219Z"
   },
   {
    "duration": 186499,
    "start_time": "2023-05-19T15:01:32.080Z"
   },
   {
    "duration": 3,
    "start_time": "2023-05-19T15:06:27.780Z"
   },
   {
    "duration": 29,
    "start_time": "2023-05-19T15:09:34.205Z"
   },
   {
    "duration": 5,
    "start_time": "2023-05-19T15:09:40.466Z"
   },
   {
    "duration": 143596,
    "start_time": "2023-05-19T15:09:41.035Z"
   },
   {
    "duration": 120159,
    "start_time": "2023-05-19T15:36:37.416Z"
   },
   {
    "duration": 261,
    "start_time": "2023-05-19T15:40:25.152Z"
   },
   {
    "duration": 247,
    "start_time": "2023-05-19T15:40:39.990Z"
   },
   {
    "duration": 40,
    "start_time": "2023-05-19T15:40:54.539Z"
   },
   {
    "duration": 433,
    "start_time": "2023-05-19T15:41:09.657Z"
   },
   {
    "duration": 693,
    "start_time": "2023-05-19T15:41:15.452Z"
   },
   {
    "duration": 799,
    "start_time": "2023-05-19T15:41:19.476Z"
   },
   {
    "duration": 375,
    "start_time": "2023-05-19T15:41:23.752Z"
   },
   {
    "duration": 536,
    "start_time": "2023-05-19T15:41:27.730Z"
   },
   {
    "duration": 610,
    "start_time": "2023-05-19T15:41:34.947Z"
   },
   {
    "duration": 480,
    "start_time": "2023-05-19T15:41:40.374Z"
   },
   {
    "duration": 793665,
    "start_time": "2023-05-19T15:42:14.145Z"
   },
   {
    "duration": 302,
    "start_time": "2023-05-19T15:55:27.812Z"
   },
   {
    "duration": 299,
    "start_time": "2023-05-19T16:04:20.477Z"
   },
   {
    "duration": 240,
    "start_time": "2023-05-19T16:04:56.225Z"
   },
   {
    "duration": 30,
    "start_time": "2023-05-19T16:05:08.980Z"
   },
   {
    "duration": 251,
    "start_time": "2023-05-19T16:05:55.137Z"
   },
   {
    "duration": 35,
    "start_time": "2023-05-19T16:06:03.747Z"
   },
   {
    "duration": 37,
    "start_time": "2023-05-19T16:06:11.024Z"
   },
   {
    "duration": 40,
    "start_time": "2023-05-19T16:08:54.423Z"
   },
   {
    "duration": 34,
    "start_time": "2023-05-19T16:08:56.234Z"
   },
   {
    "duration": 8,
    "start_time": "2023-05-19T16:13:21.078Z"
   },
   {
    "duration": 125789,
    "start_time": "2023-05-19T16:13:22.361Z"
   },
   {
    "duration": 156795,
    "start_time": "2023-05-19T16:17:39.761Z"
   },
   {
    "duration": 31,
    "start_time": "2023-05-19T16:26:37.912Z"
   },
   {
    "duration": 39,
    "start_time": "2023-05-19T16:26:38.431Z"
   },
   {
    "duration": 23,
    "start_time": "2023-05-19T16:26:53.499Z"
   },
   {
    "duration": 58,
    "start_time": "2023-05-19T16:27:09.673Z"
   },
   {
    "duration": 51,
    "start_time": "2023-05-19T16:27:18.477Z"
   },
   {
    "duration": 1328,
    "start_time": "2023-05-19T16:27:23.661Z"
   },
   {
    "duration": 342,
    "start_time": "2023-05-19T16:27:32.982Z"
   },
   {
    "duration": 666,
    "start_time": "2023-05-19T16:27:41.991Z"
   },
   {
    "duration": 696,
    "start_time": "2023-05-19T16:27:52.238Z"
   },
   {
    "duration": 30,
    "start_time": "2023-05-19T16:28:12.188Z"
   },
   {
    "duration": 57,
    "start_time": "2023-05-19T16:29:46.000Z"
   },
   {
    "duration": 62,
    "start_time": "2023-05-19T16:29:53.790Z"
   },
   {
    "duration": 47,
    "start_time": "2023-05-19T16:30:02.405Z"
   },
   {
    "duration": 43,
    "start_time": "2023-05-19T16:30:06.209Z"
   },
   {
    "duration": 45,
    "start_time": "2023-05-19T16:30:42.147Z"
   },
   {
    "duration": 1077,
    "start_time": "2023-05-19T16:30:49.414Z"
   },
   {
    "duration": 41,
    "start_time": "2023-05-19T16:30:50.493Z"
   },
   {
    "duration": 73,
    "start_time": "2023-05-19T16:30:50.535Z"
   },
   {
    "duration": 3,
    "start_time": "2023-05-19T16:30:50.610Z"
   },
   {
    "duration": 9,
    "start_time": "2023-05-19T16:30:50.615Z"
   },
   {
    "duration": 36,
    "start_time": "2023-05-19T16:30:50.625Z"
   },
   {
    "duration": 12,
    "start_time": "2023-05-19T16:30:50.663Z"
   },
   {
    "duration": 8,
    "start_time": "2023-05-19T16:30:50.677Z"
   },
   {
    "duration": 10,
    "start_time": "2023-05-19T16:30:50.687Z"
   },
   {
    "duration": 44,
    "start_time": "2023-05-19T16:30:50.698Z"
   },
   {
    "duration": 10,
    "start_time": "2023-05-19T16:30:50.744Z"
   },
   {
    "duration": 95,
    "start_time": "2023-05-19T16:30:50.756Z"
   },
   {
    "duration": 433,
    "start_time": "2023-05-19T16:30:50.852Z"
   },
   {
    "duration": 125535,
    "start_time": "2023-05-19T16:30:51.288Z"
   },
   {
    "duration": 266,
    "start_time": "2023-05-19T16:32:56.825Z"
   },
   {
    "duration": 6,
    "start_time": "2023-05-19T16:32:57.092Z"
   },
   {
    "duration": 5,
    "start_time": "2023-05-19T16:32:57.100Z"
   },
   {
    "duration": 54,
    "start_time": "2023-05-19T16:32:57.106Z"
   },
   {
    "duration": 450,
    "start_time": "2023-05-19T16:32:57.161Z"
   },
   {
    "duration": 129040,
    "start_time": "2023-05-19T16:32:57.613Z"
   },
   {
    "duration": 407,
    "start_time": "2023-05-19T16:35:06.654Z"
   },
   {
    "duration": 16,
    "start_time": "2023-05-19T16:35:07.062Z"
   },
   {
    "duration": 80,
    "start_time": "2023-05-19T16:35:07.081Z"
   },
   {
    "duration": 165096,
    "start_time": "2023-05-19T16:35:07.163Z"
   },
   {
    "duration": 13,
    "start_time": "2023-05-19T16:37:52.261Z"
   },
   {
    "duration": 78,
    "start_time": "2023-05-19T16:37:52.276Z"
   },
   {
    "duration": 162085,
    "start_time": "2023-05-19T16:37:52.355Z"
   },
   {
    "duration": 13,
    "start_time": "2023-05-19T16:40:34.442Z"
   },
   {
    "duration": 148722,
    "start_time": "2023-05-19T16:40:34.456Z"
   },
   {
    "duration": 42,
    "start_time": "2023-05-19T16:43:03.181Z"
   },
   {
    "duration": 55,
    "start_time": "2023-05-19T16:43:03.225Z"
   },
   {
    "duration": 148792,
    "start_time": "2023-05-19T16:46:48.793Z"
   },
   {
    "duration": 134,
    "start_time": "2023-05-19T16:58:03.109Z"
   },
   {
    "duration": 34,
    "start_time": "2023-05-19T16:58:13.597Z"
   },
   {
    "duration": 26,
    "start_time": "2023-05-19T16:59:09.503Z"
   },
   {
    "duration": 23,
    "start_time": "2023-05-19T16:59:17.180Z"
   },
   {
    "duration": 7,
    "start_time": "2023-05-19T16:59:20.965Z"
   },
   {
    "duration": 185,
    "start_time": "2023-05-19T16:59:23.264Z"
   },
   {
    "duration": 277,
    "start_time": "2023-05-19T16:59:27.288Z"
   },
   {
    "duration": 5,
    "start_time": "2023-05-19T16:59:33.035Z"
   },
   {
    "duration": 5,
    "start_time": "2023-05-19T16:59:33.501Z"
   },
   {
    "duration": 23,
    "start_time": "2023-05-19T16:59:34.683Z"
   },
   {
    "duration": 10,
    "start_time": "2023-05-19T16:59:40.625Z"
   },
   {
    "duration": 26,
    "start_time": "2023-05-19T16:59:41.170Z"
   },
   {
    "duration": 13,
    "start_time": "2023-05-19T16:59:44.430Z"
   },
   {
    "duration": 21,
    "start_time": "2023-05-19T16:59:45.497Z"
   },
   {
    "duration": 6,
    "start_time": "2023-05-19T16:59:49.512Z"
   },
   {
    "duration": 30,
    "start_time": "2023-05-19T16:59:51.983Z"
   },
   {
    "duration": 34,
    "start_time": "2023-05-19T16:59:53.587Z"
   },
   {
    "duration": 1087,
    "start_time": "2023-05-19T16:59:58.648Z"
   },
   {
    "duration": 40,
    "start_time": "2023-05-19T16:59:59.737Z"
   },
   {
    "duration": 69,
    "start_time": "2023-05-19T16:59:59.778Z"
   },
   {
    "duration": 3,
    "start_time": "2023-05-19T16:59:59.849Z"
   },
   {
    "duration": 8,
    "start_time": "2023-05-19T16:59:59.854Z"
   },
   {
    "duration": 22,
    "start_time": "2023-05-19T16:59:59.864Z"
   },
   {
    "duration": 12,
    "start_time": "2023-05-19T16:59:59.887Z"
   },
   {
    "duration": 7,
    "start_time": "2023-05-19T16:59:59.901Z"
   },
   {
    "duration": 40,
    "start_time": "2023-05-19T16:59:59.910Z"
   },
   {
    "duration": 131,
    "start_time": "2023-05-19T16:59:59.952Z"
   },
   {
    "duration": 0,
    "start_time": "2023-05-19T17:00:00.085Z"
   },
   {
    "duration": 0,
    "start_time": "2023-05-19T17:00:00.086Z"
   },
   {
    "duration": 0,
    "start_time": "2023-05-19T17:00:00.088Z"
   },
   {
    "duration": 0,
    "start_time": "2023-05-19T17:00:00.089Z"
   },
   {
    "duration": 0,
    "start_time": "2023-05-19T17:00:00.090Z"
   },
   {
    "duration": 0,
    "start_time": "2023-05-19T17:00:00.091Z"
   },
   {
    "duration": 0,
    "start_time": "2023-05-19T17:00:00.092Z"
   },
   {
    "duration": 0,
    "start_time": "2023-05-19T17:00:00.093Z"
   },
   {
    "duration": 0,
    "start_time": "2023-05-19T17:00:00.095Z"
   },
   {
    "duration": 0,
    "start_time": "2023-05-19T17:00:00.096Z"
   },
   {
    "duration": 0,
    "start_time": "2023-05-19T17:00:00.097Z"
   },
   {
    "duration": 0,
    "start_time": "2023-05-19T17:00:00.098Z"
   },
   {
    "duration": 0,
    "start_time": "2023-05-19T17:00:00.099Z"
   },
   {
    "duration": 0,
    "start_time": "2023-05-19T17:00:00.101Z"
   },
   {
    "duration": 0,
    "start_time": "2023-05-19T17:00:00.102Z"
   },
   {
    "duration": 0,
    "start_time": "2023-05-19T17:00:00.103Z"
   },
   {
    "duration": 0,
    "start_time": "2023-05-19T17:00:00.104Z"
   },
   {
    "duration": 0,
    "start_time": "2023-05-19T17:00:00.105Z"
   },
   {
    "duration": 0,
    "start_time": "2023-05-19T17:00:00.106Z"
   },
   {
    "duration": 0,
    "start_time": "2023-05-19T17:00:00.107Z"
   },
   {
    "duration": 0,
    "start_time": "2023-05-19T17:00:00.108Z"
   },
   {
    "duration": 27,
    "start_time": "2023-05-19T17:00:16.775Z"
   },
   {
    "duration": 8,
    "start_time": "2023-05-19T17:00:37.743Z"
   },
   {
    "duration": 1052,
    "start_time": "2023-05-19T17:00:49.893Z"
   },
   {
    "duration": 40,
    "start_time": "2023-05-19T17:00:50.947Z"
   },
   {
    "duration": 75,
    "start_time": "2023-05-19T17:00:50.989Z"
   },
   {
    "duration": 4,
    "start_time": "2023-05-19T17:00:51.065Z"
   },
   {
    "duration": 31,
    "start_time": "2023-05-19T17:00:51.070Z"
   },
   {
    "duration": 48,
    "start_time": "2023-05-19T17:00:51.103Z"
   },
   {
    "duration": 11,
    "start_time": "2023-05-19T17:00:51.152Z"
   },
   {
    "duration": 9,
    "start_time": "2023-05-19T17:00:51.165Z"
   },
   {
    "duration": 22,
    "start_time": "2023-05-19T17:00:51.176Z"
   },
   {
    "duration": 39,
    "start_time": "2023-05-19T17:00:51.200Z"
   },
   {
    "duration": 12,
    "start_time": "2023-05-19T17:00:51.241Z"
   },
   {
    "duration": 96,
    "start_time": "2023-05-19T17:00:51.255Z"
   },
   {
    "duration": 412,
    "start_time": "2023-05-19T17:00:51.353Z"
   },
   {
    "duration": 124085,
    "start_time": "2023-05-19T17:00:51.768Z"
   },
   {
    "duration": 255,
    "start_time": "2023-05-19T17:02:55.855Z"
   },
   {
    "duration": 6,
    "start_time": "2023-05-19T17:02:56.111Z"
   },
   {
    "duration": 10,
    "start_time": "2023-05-19T17:02:56.118Z"
   },
   {
    "duration": 222,
    "start_time": "2023-05-19T17:02:56.129Z"
   },
   {
    "duration": 418,
    "start_time": "2023-05-19T17:02:56.353Z"
   },
   {
    "duration": 124437,
    "start_time": "2023-05-19T17:02:56.773Z"
   },
   {
    "duration": 380,
    "start_time": "2023-05-19T17:05:01.212Z"
   },
   {
    "duration": 13,
    "start_time": "2023-05-19T17:05:01.594Z"
   },
   {
    "duration": 62,
    "start_time": "2023-05-19T17:05:01.608Z"
   },
   {
    "duration": 164801,
    "start_time": "2023-05-19T17:05:01.752Z"
   },
   {
    "duration": 14,
    "start_time": "2023-05-19T17:07:46.554Z"
   },
   {
    "duration": 16,
    "start_time": "2023-05-19T17:07:46.570Z"
   },
   {
    "duration": 169513,
    "start_time": "2023-05-19T17:07:46.651Z"
   },
   {
    "duration": 6,
    "start_time": "2023-05-19T17:10:36.166Z"
   },
   {
    "duration": 154025,
    "start_time": "2023-05-19T17:10:36.173Z"
   },
   {
    "duration": 29,
    "start_time": "2023-05-19T17:13:10.200Z"
   },
   {
    "duration": 49,
    "start_time": "2023-05-19T17:13:10.231Z"
   },
   {
    "duration": 36,
    "start_time": "2023-05-19T17:18:13.639Z"
   },
   {
    "duration": 32,
    "start_time": "2023-05-19T17:18:16.500Z"
   },
   {
    "duration": 34,
    "start_time": "2023-05-19T17:18:23.574Z"
   },
   {
    "duration": 39,
    "start_time": "2023-05-19T17:18:25.199Z"
   },
   {
    "duration": 113,
    "start_time": "2023-05-19T17:18:35.291Z"
   },
   {
    "duration": 117,
    "start_time": "2023-05-19T17:18:36.152Z"
   },
   {
    "duration": 89,
    "start_time": "2023-05-19T17:18:50.484Z"
   },
   {
    "duration": 103,
    "start_time": "2023-05-19T17:18:52.250Z"
   },
   {
    "duration": 577,
    "start_time": "2023-05-19T17:24:27.660Z"
   },
   {
    "duration": 899,
    "start_time": "2023-05-19T17:25:35.784Z"
   },
   {
    "duration": 1024,
    "start_time": "2023-05-19T17:27:56.564Z"
   },
   {
    "duration": 13,
    "start_time": "2023-05-19T17:29:02.833Z"
   },
   {
    "duration": 16,
    "start_time": "2023-05-19T17:30:59.216Z"
   },
   {
    "duration": 120,
    "start_time": "2023-05-19T17:31:15.631Z"
   },
   {
    "duration": 106,
    "start_time": "2023-05-19T17:31:30.345Z"
   },
   {
    "duration": 114,
    "start_time": "2023-05-19T17:31:54.476Z"
   },
   {
    "duration": 18,
    "start_time": "2023-05-19T17:33:49.023Z"
   },
   {
    "duration": 16,
    "start_time": "2023-05-19T17:34:26.519Z"
   },
   {
    "duration": 11,
    "start_time": "2023-05-19T17:34:55.443Z"
   },
   {
    "duration": 25,
    "start_time": "2023-05-19T17:35:31.896Z"
   },
   {
    "duration": 206,
    "start_time": "2023-05-19T17:35:37.946Z"
   },
   {
    "duration": 158912,
    "start_time": "2023-05-19T17:38:06.986Z"
   },
   {
    "duration": 0,
    "start_time": "2023-05-19T17:40:45.922Z"
   },
   {
    "duration": 222,
    "start_time": "2023-05-19T17:46:13.444Z"
   },
   {
    "duration": 30,
    "start_time": "2023-05-19T17:46:48.747Z"
   },
   {
    "duration": 29,
    "start_time": "2023-05-19T17:47:05.054Z"
   },
   {
    "duration": 288,
    "start_time": "2023-05-19T17:47:14.048Z"
   },
   {
    "duration": 25,
    "start_time": "2023-05-19T17:47:31.399Z"
   },
   {
    "duration": 44,
    "start_time": "2023-05-20T13:22:42.855Z"
   },
   {
    "duration": 1129,
    "start_time": "2023-05-20T13:22:49.387Z"
   },
   {
    "duration": 80,
    "start_time": "2023-05-20T13:22:50.518Z"
   },
   {
    "duration": 62,
    "start_time": "2023-05-20T13:22:50.599Z"
   },
   {
    "duration": 1353,
    "start_time": "2023-05-20T13:22:52.794Z"
   },
   {
    "duration": 1084,
    "start_time": "2023-05-20T13:23:31.250Z"
   },
   {
    "duration": 1211,
    "start_time": "2023-05-20T13:23:46.488Z"
   },
   {
    "duration": 1211,
    "start_time": "2023-05-20T13:24:25.094Z"
   },
   {
    "duration": 1160,
    "start_time": "2023-05-20T13:24:46.251Z"
   },
   {
    "duration": 1101,
    "start_time": "2023-05-20T13:24:58.252Z"
   },
   {
    "duration": 41,
    "start_time": "2023-05-20T13:24:59.355Z"
   },
   {
    "duration": 67,
    "start_time": "2023-05-20T13:24:59.398Z"
   },
   {
    "duration": 3,
    "start_time": "2023-05-20T13:24:59.466Z"
   },
   {
    "duration": 85,
    "start_time": "2023-05-20T13:24:59.470Z"
   },
   {
    "duration": 17,
    "start_time": "2023-05-20T13:24:59.556Z"
   },
   {
    "duration": 18,
    "start_time": "2023-05-20T13:24:59.574Z"
   },
   {
    "duration": 8,
    "start_time": "2023-05-20T13:24:59.593Z"
   },
   {
    "duration": 15,
    "start_time": "2023-05-20T13:24:59.603Z"
   },
   {
    "duration": 30,
    "start_time": "2023-05-20T13:24:59.620Z"
   },
   {
    "duration": 7,
    "start_time": "2023-05-20T13:24:59.652Z"
   },
   {
    "duration": 32,
    "start_time": "2023-05-20T13:24:59.660Z"
   },
   {
    "duration": 473,
    "start_time": "2023-05-20T13:24:59.693Z"
   },
   {
    "duration": 119151,
    "start_time": "2023-05-20T13:25:00.168Z"
   },
   {
    "duration": 237,
    "start_time": "2023-05-20T13:26:59.320Z"
   },
   {
    "duration": 5,
    "start_time": "2023-05-20T13:26:59.559Z"
   },
   {
    "duration": 20,
    "start_time": "2023-05-20T13:26:59.565Z"
   },
   {
    "duration": 101,
    "start_time": "2023-05-20T13:26:59.587Z"
   },
   {
    "duration": 435,
    "start_time": "2023-05-20T13:26:59.690Z"
   },
   {
    "duration": 117558,
    "start_time": "2023-05-20T13:27:00.127Z"
   },
   {
    "duration": 354,
    "start_time": "2023-05-20T13:28:57.687Z"
   },
   {
    "duration": 10,
    "start_time": "2023-05-20T13:28:58.042Z"
   },
   {
    "duration": 44,
    "start_time": "2023-05-20T13:28:58.054Z"
   },
   {
    "duration": 160643,
    "start_time": "2023-05-20T13:28:58.185Z"
   },
   {
    "duration": 12,
    "start_time": "2023-05-20T13:31:38.829Z"
   },
   {
    "duration": 62,
    "start_time": "2023-05-20T13:31:38.843Z"
   },
   {
    "duration": 171128,
    "start_time": "2023-05-20T13:31:38.986Z"
   },
   {
    "duration": 5,
    "start_time": "2023-05-20T13:34:30.117Z"
   },
   {
    "duration": 150543,
    "start_time": "2023-05-20T13:34:30.124Z"
   },
   {
    "duration": 0,
    "start_time": "2023-05-20T13:37:00.813Z"
   },
   {
    "duration": 19,
    "start_time": "2023-05-20T13:43:46.499Z"
   },
   {
    "duration": 7,
    "start_time": "2023-05-20T13:44:17.572Z"
   },
   {
    "duration": 7,
    "start_time": "2023-05-20T13:44:20.440Z"
   },
   {
    "duration": 4,
    "start_time": "2023-05-20T13:45:11.897Z"
   },
   {
    "duration": 2,
    "start_time": "2023-05-20T13:45:12.302Z"
   },
   {
    "duration": 12,
    "start_time": "2023-05-20T13:45:15.861Z"
   },
   {
    "duration": 4,
    "start_time": "2023-05-20T13:45:26.086Z"
   },
   {
    "duration": 129,
    "start_time": "2023-05-20T14:00:14.021Z"
   },
   {
    "duration": 147,
    "start_time": "2023-05-20T14:00:23.877Z"
   },
   {
    "duration": 15,
    "start_time": "2023-05-20T14:00:38.920Z"
   },
   {
    "duration": 14,
    "start_time": "2023-05-20T14:00:50.215Z"
   },
   {
    "duration": 13,
    "start_time": "2023-05-20T14:06:18.253Z"
   },
   {
    "duration": 22,
    "start_time": "2023-05-20T14:06:48.108Z"
   },
   {
    "duration": 357,
    "start_time": "2023-05-20T14:08:41.161Z"
   },
   {
    "duration": 26,
    "start_time": "2023-05-20T14:10:10.164Z"
   },
   {
    "duration": 864,
    "start_time": "2023-05-20T14:10:13.158Z"
   },
   {
    "duration": 16,
    "start_time": "2023-05-20T14:10:26.098Z"
   },
   {
    "duration": 10,
    "start_time": "2023-05-20T14:12:11.614Z"
   },
   {
    "duration": 15,
    "start_time": "2023-05-20T14:12:15.665Z"
   },
   {
    "duration": 11,
    "start_time": "2023-05-20T14:14:11.316Z"
   },
   {
    "duration": 729,
    "start_time": "2023-05-20T14:14:16.016Z"
   },
   {
    "duration": 737,
    "start_time": "2023-05-20T14:14:27.670Z"
   },
   {
    "duration": 696,
    "start_time": "2023-05-20T14:15:38.541Z"
   },
   {
    "duration": 740,
    "start_time": "2023-05-20T14:15:44.605Z"
   },
   {
    "duration": 11,
    "start_time": "2023-05-20T14:16:51.119Z"
   },
   {
    "duration": 11,
    "start_time": "2023-05-20T14:17:02.991Z"
   },
   {
    "duration": 670,
    "start_time": "2023-05-20T14:17:06.873Z"
   },
   {
    "duration": 757,
    "start_time": "2023-05-20T14:17:51.322Z"
   },
   {
    "duration": 11,
    "start_time": "2023-05-20T14:17:59.862Z"
   },
   {
    "duration": 700,
    "start_time": "2023-05-20T14:18:07.011Z"
   },
   {
    "duration": 11,
    "start_time": "2023-05-20T14:19:10.298Z"
   },
   {
    "duration": 10,
    "start_time": "2023-05-20T14:19:20.889Z"
   },
   {
    "duration": 1239,
    "start_time": "2023-05-20T14:22:02.493Z"
   },
   {
    "duration": 39,
    "start_time": "2023-05-20T14:22:03.734Z"
   },
   {
    "duration": 54,
    "start_time": "2023-05-20T14:22:03.775Z"
   },
   {
    "duration": 2,
    "start_time": "2023-05-20T14:22:03.831Z"
   },
   {
    "duration": 8,
    "start_time": "2023-05-20T14:22:03.836Z"
   },
   {
    "duration": 6,
    "start_time": "2023-05-20T14:22:03.846Z"
   },
   {
    "duration": 12,
    "start_time": "2023-05-20T14:22:03.853Z"
   },
   {
    "duration": 37,
    "start_time": "2023-05-20T14:22:03.866Z"
   },
   {
    "duration": 108,
    "start_time": "2023-05-20T14:22:03.905Z"
   },
   {
    "duration": 0,
    "start_time": "2023-05-20T14:22:04.015Z"
   },
   {
    "duration": 0,
    "start_time": "2023-05-20T14:22:04.015Z"
   },
   {
    "duration": 0,
    "start_time": "2023-05-20T14:22:04.016Z"
   },
   {
    "duration": 0,
    "start_time": "2023-05-20T14:22:04.017Z"
   },
   {
    "duration": 0,
    "start_time": "2023-05-20T14:22:04.018Z"
   },
   {
    "duration": 0,
    "start_time": "2023-05-20T14:22:04.019Z"
   },
   {
    "duration": 0,
    "start_time": "2023-05-20T14:22:04.019Z"
   },
   {
    "duration": 1,
    "start_time": "2023-05-20T14:22:04.020Z"
   },
   {
    "duration": 0,
    "start_time": "2023-05-20T14:22:04.021Z"
   },
   {
    "duration": 0,
    "start_time": "2023-05-20T14:22:04.022Z"
   },
   {
    "duration": 0,
    "start_time": "2023-05-20T14:22:04.023Z"
   },
   {
    "duration": 0,
    "start_time": "2023-05-20T14:22:04.023Z"
   },
   {
    "duration": 0,
    "start_time": "2023-05-20T14:22:04.024Z"
   },
   {
    "duration": 0,
    "start_time": "2023-05-20T14:22:04.025Z"
   },
   {
    "duration": 0,
    "start_time": "2023-05-20T14:22:04.026Z"
   },
   {
    "duration": 0,
    "start_time": "2023-05-20T14:22:04.026Z"
   },
   {
    "duration": 0,
    "start_time": "2023-05-20T14:22:04.027Z"
   },
   {
    "duration": 0,
    "start_time": "2023-05-20T14:22:04.028Z"
   },
   {
    "duration": 0,
    "start_time": "2023-05-20T14:22:04.029Z"
   },
   {
    "duration": 0,
    "start_time": "2023-05-20T14:22:04.030Z"
   },
   {
    "duration": 0,
    "start_time": "2023-05-20T14:22:04.030Z"
   },
   {
    "duration": 0,
    "start_time": "2023-05-20T14:22:04.031Z"
   },
   {
    "duration": 0,
    "start_time": "2023-05-20T14:22:04.032Z"
   },
   {
    "duration": 8,
    "start_time": "2023-05-20T14:22:30.514Z"
   },
   {
    "duration": 11,
    "start_time": "2023-05-20T14:22:42.428Z"
   },
   {
    "duration": 8,
    "start_time": "2023-05-20T14:22:45.728Z"
   },
   {
    "duration": 2,
    "start_time": "2023-05-20T14:22:46.317Z"
   },
   {
    "duration": 33,
    "start_time": "2023-05-20T14:22:47.881Z"
   },
   {
    "duration": 7,
    "start_time": "2023-05-20T14:22:48.659Z"
   },
   {
    "duration": 85,
    "start_time": "2023-05-20T14:22:49.081Z"
   },
   {
    "duration": 74,
    "start_time": "2023-05-20T14:23:05.355Z"
   },
   {
    "duration": 49,
    "start_time": "2023-05-20T14:23:49.765Z"
   },
   {
    "duration": 1295,
    "start_time": "2023-05-20T14:24:16.928Z"
   },
   {
    "duration": 39,
    "start_time": "2023-05-20T14:24:18.225Z"
   },
   {
    "duration": 63,
    "start_time": "2023-05-20T14:24:18.266Z"
   },
   {
    "duration": 2,
    "start_time": "2023-05-20T14:24:18.331Z"
   },
   {
    "duration": 16,
    "start_time": "2023-05-20T14:24:18.335Z"
   },
   {
    "duration": 6,
    "start_time": "2023-05-20T14:24:18.352Z"
   },
   {
    "duration": 7,
    "start_time": "2023-05-20T14:24:18.359Z"
   },
   {
    "duration": 28,
    "start_time": "2023-05-20T14:24:18.368Z"
   },
   {
    "duration": 10,
    "start_time": "2023-05-20T14:24:18.398Z"
   },
   {
    "duration": 9,
    "start_time": "2023-05-20T14:24:18.410Z"
   },
   {
    "duration": 10,
    "start_time": "2023-05-20T14:24:18.421Z"
   },
   {
    "duration": 27,
    "start_time": "2023-05-20T14:24:18.432Z"
   },
   {
    "duration": 6,
    "start_time": "2023-05-20T14:24:18.460Z"
   },
   {
    "duration": 187,
    "start_time": "2023-05-20T14:24:18.468Z"
   },
   {
    "duration": 0,
    "start_time": "2023-05-20T14:24:18.656Z"
   },
   {
    "duration": 0,
    "start_time": "2023-05-20T14:24:18.657Z"
   },
   {
    "duration": 0,
    "start_time": "2023-05-20T14:24:18.658Z"
   },
   {
    "duration": 0,
    "start_time": "2023-05-20T14:24:18.658Z"
   },
   {
    "duration": 0,
    "start_time": "2023-05-20T14:24:18.659Z"
   },
   {
    "duration": 0,
    "start_time": "2023-05-20T14:24:18.660Z"
   },
   {
    "duration": 0,
    "start_time": "2023-05-20T14:24:18.660Z"
   },
   {
    "duration": 0,
    "start_time": "2023-05-20T14:24:18.662Z"
   },
   {
    "duration": 0,
    "start_time": "2023-05-20T14:24:18.663Z"
   },
   {
    "duration": 0,
    "start_time": "2023-05-20T14:24:18.664Z"
   },
   {
    "duration": 0,
    "start_time": "2023-05-20T14:24:18.665Z"
   },
   {
    "duration": 0,
    "start_time": "2023-05-20T14:24:18.666Z"
   },
   {
    "duration": 0,
    "start_time": "2023-05-20T14:24:18.684Z"
   },
   {
    "duration": 0,
    "start_time": "2023-05-20T14:24:18.684Z"
   },
   {
    "duration": 0,
    "start_time": "2023-05-20T14:24:18.685Z"
   },
   {
    "duration": 0,
    "start_time": "2023-05-20T14:24:18.685Z"
   },
   {
    "duration": 0,
    "start_time": "2023-05-20T14:24:18.694Z"
   },
   {
    "duration": 0,
    "start_time": "2023-05-20T14:24:18.695Z"
   },
   {
    "duration": 17,
    "start_time": "2023-05-20T14:24:51.663Z"
   },
   {
    "duration": 1394,
    "start_time": "2023-05-20T14:27:06.381Z"
   },
   {
    "duration": 50,
    "start_time": "2023-05-20T14:27:07.777Z"
   },
   {
    "duration": 71,
    "start_time": "2023-05-20T14:27:07.829Z"
   },
   {
    "duration": 3,
    "start_time": "2023-05-20T14:27:07.902Z"
   },
   {
    "duration": 12,
    "start_time": "2023-05-20T14:27:07.907Z"
   },
   {
    "duration": 6,
    "start_time": "2023-05-20T14:27:07.920Z"
   },
   {
    "duration": 14,
    "start_time": "2023-05-20T14:27:07.928Z"
   },
   {
    "duration": 22,
    "start_time": "2023-05-20T14:27:07.943Z"
   },
   {
    "duration": 36,
    "start_time": "2023-05-20T14:27:07.967Z"
   },
   {
    "duration": 8,
    "start_time": "2023-05-20T14:27:08.005Z"
   },
   {
    "duration": 3,
    "start_time": "2023-05-20T14:27:08.015Z"
   },
   {
    "duration": 33,
    "start_time": "2023-05-20T14:27:08.019Z"
   },
   {
    "duration": 10,
    "start_time": "2023-05-20T14:27:08.056Z"
   },
   {
    "duration": 1376,
    "start_time": "2023-05-20T14:27:33.281Z"
   },
   {
    "duration": 59,
    "start_time": "2023-05-20T14:27:34.663Z"
   },
   {
    "duration": 72,
    "start_time": "2023-05-20T14:27:34.724Z"
   },
   {
    "duration": 3,
    "start_time": "2023-05-20T14:27:34.799Z"
   },
   {
    "duration": 29,
    "start_time": "2023-05-20T14:27:34.805Z"
   },
   {
    "duration": 7,
    "start_time": "2023-05-20T14:27:34.836Z"
   },
   {
    "duration": 12,
    "start_time": "2023-05-20T14:27:34.845Z"
   },
   {
    "duration": 18,
    "start_time": "2023-05-20T14:27:34.858Z"
   },
   {
    "duration": 14,
    "start_time": "2023-05-20T14:27:34.877Z"
   },
   {
    "duration": 28,
    "start_time": "2023-05-20T14:27:34.892Z"
   },
   {
    "duration": 6,
    "start_time": "2023-05-20T14:27:34.922Z"
   },
   {
    "duration": 26,
    "start_time": "2023-05-20T14:27:34.929Z"
   },
   {
    "duration": 9,
    "start_time": "2023-05-20T14:27:34.957Z"
   },
   {
    "duration": 35,
    "start_time": "2023-05-20T14:27:34.970Z"
   },
   {
    "duration": 112,
    "start_time": "2023-05-20T14:27:35.007Z"
   },
   {
    "duration": 375,
    "start_time": "2023-05-20T14:27:35.120Z"
   },
   {
    "duration": 17148,
    "start_time": "2023-05-20T14:27:35.496Z"
   },
   {
    "duration": 0,
    "start_time": "2023-05-20T14:27:52.646Z"
   },
   {
    "duration": 0,
    "start_time": "2023-05-20T14:27:52.647Z"
   },
   {
    "duration": 0,
    "start_time": "2023-05-20T14:27:52.649Z"
   },
   {
    "duration": 0,
    "start_time": "2023-05-20T14:27:52.651Z"
   },
   {
    "duration": 0,
    "start_time": "2023-05-20T14:27:52.651Z"
   },
   {
    "duration": 0,
    "start_time": "2023-05-20T14:27:52.653Z"
   },
   {
    "duration": 0,
    "start_time": "2023-05-20T14:27:52.654Z"
   },
   {
    "duration": 0,
    "start_time": "2023-05-20T14:27:52.655Z"
   },
   {
    "duration": 0,
    "start_time": "2023-05-20T14:27:52.656Z"
   },
   {
    "duration": 0,
    "start_time": "2023-05-20T14:27:52.658Z"
   },
   {
    "duration": 0,
    "start_time": "2023-05-20T14:27:52.659Z"
   },
   {
    "duration": 0,
    "start_time": "2023-05-20T14:27:52.660Z"
   },
   {
    "duration": 1,
    "start_time": "2023-05-20T14:27:52.660Z"
   },
   {
    "duration": 0,
    "start_time": "2023-05-20T14:27:52.662Z"
   },
   {
    "duration": 0,
    "start_time": "2023-05-20T14:27:52.663Z"
   },
   {
    "duration": 11,
    "start_time": "2023-05-20T14:28:03.684Z"
   },
   {
    "duration": 3,
    "start_time": "2023-05-20T14:28:09.180Z"
   },
   {
    "duration": 56,
    "start_time": "2023-05-20T14:28:10.069Z"
   },
   {
    "duration": 62,
    "start_time": "2023-05-20T14:28:12.483Z"
   },
   {
    "duration": 4,
    "start_time": "2023-05-20T14:28:15.361Z"
   },
   {
    "duration": 11,
    "start_time": "2023-05-20T14:28:17.801Z"
   },
   {
    "duration": 12,
    "start_time": "2023-05-20T14:28:20.061Z"
   },
   {
    "duration": 251,
    "start_time": "2023-05-20T14:28:33.601Z"
   },
   {
    "duration": 196,
    "start_time": "2023-05-20T14:28:36.604Z"
   },
   {
    "duration": 37,
    "start_time": "2023-05-20T14:28:53.703Z"
   },
   {
    "duration": 86,
    "start_time": "2023-05-20T14:29:05.462Z"
   },
   {
    "duration": 4,
    "start_time": "2023-05-20T14:29:06.079Z"
   },
   {
    "duration": 1027,
    "start_time": "2023-05-20T14:29:11.020Z"
   },
   {
    "duration": 46,
    "start_time": "2023-05-20T14:29:21.961Z"
   },
   {
    "duration": 4,
    "start_time": "2023-05-20T14:29:22.904Z"
   },
   {
    "duration": 41,
    "start_time": "2023-05-20T14:29:23.167Z"
   },
   {
    "duration": 108,
    "start_time": "2023-05-20T14:31:13.069Z"
   },
   {
    "duration": 1377,
    "start_time": "2023-05-20T14:31:18.977Z"
   },
   {
    "duration": 41,
    "start_time": "2023-05-20T14:31:20.355Z"
   },
   {
    "duration": 56,
    "start_time": "2023-05-20T14:31:20.397Z"
   },
   {
    "duration": 3,
    "start_time": "2023-05-20T14:31:20.454Z"
   },
   {
    "duration": 11,
    "start_time": "2023-05-20T14:31:20.458Z"
   },
   {
    "duration": 15,
    "start_time": "2023-05-20T14:31:20.471Z"
   },
   {
    "duration": 34,
    "start_time": "2023-05-20T14:31:20.487Z"
   },
   {
    "duration": 39,
    "start_time": "2023-05-20T14:31:20.523Z"
   },
   {
    "duration": 9,
    "start_time": "2023-05-20T14:31:20.563Z"
   },
   {
    "duration": 13,
    "start_time": "2023-05-20T14:31:20.574Z"
   },
   {
    "duration": 6,
    "start_time": "2023-05-20T14:31:20.589Z"
   },
   {
    "duration": 27,
    "start_time": "2023-05-20T14:31:20.596Z"
   },
   {
    "duration": 5,
    "start_time": "2023-05-20T14:31:20.625Z"
   },
   {
    "duration": 63,
    "start_time": "2023-05-20T14:31:20.632Z"
   },
   {
    "duration": 284,
    "start_time": "2023-05-20T14:31:20.784Z"
   },
   {
    "duration": 116959,
    "start_time": "2023-05-20T14:31:21.069Z"
   },
   {
    "duration": 210,
    "start_time": "2023-05-20T14:33:18.029Z"
   },
   {
    "duration": 5,
    "start_time": "2023-05-20T14:33:18.240Z"
   },
   {
    "duration": 8,
    "start_time": "2023-05-20T14:33:18.246Z"
   },
   {
    "duration": 135,
    "start_time": "2023-05-20T14:33:18.255Z"
   },
   {
    "duration": 427,
    "start_time": "2023-05-20T14:33:18.392Z"
   },
   {
    "duration": 118394,
    "start_time": "2023-05-20T14:33:18.820Z"
   },
   {
    "duration": 321,
    "start_time": "2023-05-20T14:35:17.216Z"
   },
   {
    "duration": 10,
    "start_time": "2023-05-20T14:35:17.539Z"
   },
   {
    "duration": 37,
    "start_time": "2023-05-20T14:35:17.550Z"
   },
   {
    "duration": 13359,
    "start_time": "2023-05-20T14:35:17.588Z"
   },
   {
    "duration": 0,
    "start_time": "2023-05-20T14:35:30.948Z"
   },
   {
    "duration": 0,
    "start_time": "2023-05-20T14:35:30.949Z"
   },
   {
    "duration": 0,
    "start_time": "2023-05-20T14:35:30.950Z"
   },
   {
    "duration": 0,
    "start_time": "2023-05-20T14:35:30.951Z"
   },
   {
    "duration": 0,
    "start_time": "2023-05-20T14:35:30.952Z"
   },
   {
    "duration": 1,
    "start_time": "2023-05-20T14:35:30.952Z"
   },
   {
    "duration": 51,
    "start_time": "2023-05-20T14:35:51.135Z"
   },
   {
    "duration": 72,
    "start_time": "2023-05-20T14:36:09.892Z"
   },
   {
    "duration": 69,
    "start_time": "2023-05-20T14:36:14.766Z"
   },
   {
    "duration": 20,
    "start_time": "2023-05-20T14:36:17.017Z"
   },
   {
    "duration": 25,
    "start_time": "2023-05-20T14:36:22.290Z"
   },
   {
    "duration": 23,
    "start_time": "2023-05-20T14:36:42.403Z"
   },
   {
    "duration": 24,
    "start_time": "2023-05-20T14:37:26.646Z"
   },
   {
    "duration": 22,
    "start_time": "2023-05-20T14:37:30.817Z"
   },
   {
    "duration": 19,
    "start_time": "2023-05-20T14:37:42.915Z"
   },
   {
    "duration": 24,
    "start_time": "2023-05-20T14:37:49.696Z"
   },
   {
    "duration": 23,
    "start_time": "2023-05-20T14:38:41.770Z"
   },
   {
    "duration": 20,
    "start_time": "2023-05-20T14:38:49.598Z"
   },
   {
    "duration": 114,
    "start_time": "2023-05-20T14:39:21.771Z"
   },
   {
    "duration": 28,
    "start_time": "2023-05-20T14:40:12.158Z"
   },
   {
    "duration": 20,
    "start_time": "2023-05-20T14:40:15.350Z"
   },
   {
    "duration": 26,
    "start_time": "2023-05-20T14:40:21.570Z"
   },
   {
    "duration": 18,
    "start_time": "2023-05-20T14:40:25.220Z"
   },
   {
    "duration": 21,
    "start_time": "2023-05-20T14:40:36.166Z"
   },
   {
    "duration": 9,
    "start_time": "2023-05-20T14:58:31.373Z"
   },
   {
    "duration": 5,
    "start_time": "2023-05-20T14:58:36.648Z"
   },
   {
    "duration": 132,
    "start_time": "2023-05-20T14:58:37.152Z"
   },
   {
    "duration": 205,
    "start_time": "2023-05-20T14:59:18.480Z"
   },
   {
    "duration": 210,
    "start_time": "2023-05-20T14:59:59.448Z"
   },
   {
    "duration": 292,
    "start_time": "2023-05-20T15:00:52.885Z"
   },
   {
    "duration": 413,
    "start_time": "2023-05-20T15:00:58.580Z"
   },
   {
    "duration": 661,
    "start_time": "2023-05-20T15:01:01.914Z"
   },
   {
    "duration": 112,
    "start_time": "2023-05-20T15:01:05.769Z"
   },
   {
    "duration": 158,
    "start_time": "2023-05-20T15:01:09.391Z"
   },
   {
    "duration": 343,
    "start_time": "2023-05-20T15:01:13.050Z"
   },
   {
    "duration": 416,
    "start_time": "2023-05-20T15:01:16.588Z"
   },
   {
    "duration": 466,
    "start_time": "2023-05-20T15:01:20.886Z"
   },
   {
    "duration": 312,
    "start_time": "2023-05-20T15:01:36.056Z"
   },
   {
    "duration": 539,
    "start_time": "2023-05-20T15:01:39.547Z"
   },
   {
    "duration": 482,
    "start_time": "2023-05-20T15:01:43.847Z"
   },
   {
    "duration": 437,
    "start_time": "2023-05-20T15:01:46.350Z"
   },
   {
    "duration": 582,
    "start_time": "2023-05-20T15:01:50.072Z"
   },
   {
    "duration": 465,
    "start_time": "2023-05-20T15:01:54.292Z"
   },
   {
    "duration": 431,
    "start_time": "2023-05-20T15:01:57.254Z"
   },
   {
    "duration": 472,
    "start_time": "2023-05-20T15:02:00.913Z"
   },
   {
    "duration": 466,
    "start_time": "2023-05-20T15:04:14.412Z"
   },
   {
    "duration": 460,
    "start_time": "2023-05-20T15:04:19.537Z"
   },
   {
    "duration": 9,
    "start_time": "2023-05-20T15:04:34.416Z"
   },
   {
    "duration": 10,
    "start_time": "2023-05-20T15:04:37.542Z"
   },
   {
    "duration": 205,
    "start_time": "2023-05-20T15:04:41.776Z"
   },
   {
    "duration": 242,
    "start_time": "2023-05-20T15:04:46.895Z"
   },
   {
    "duration": 121,
    "start_time": "2023-05-20T15:04:56.834Z"
   },
   {
    "duration": 93,
    "start_time": "2023-05-20T15:05:00.804Z"
   },
   {
    "duration": 216,
    "start_time": "2023-05-20T15:05:06.236Z"
   },
   {
    "duration": 455,
    "start_time": "2023-05-20T15:05:12.809Z"
   },
   {
    "duration": 471,
    "start_time": "2023-05-20T15:05:29.651Z"
   },
   {
    "duration": 499,
    "start_time": "2023-05-20T15:07:35.689Z"
   },
   {
    "duration": 548,
    "start_time": "2023-05-20T15:07:46.295Z"
   },
   {
    "duration": 470,
    "start_time": "2023-05-20T15:08:18.606Z"
   },
   {
    "duration": 463,
    "start_time": "2023-05-20T15:08:59.185Z"
   },
   {
    "duration": 26,
    "start_time": "2023-05-20T15:09:05.564Z"
   },
   {
    "duration": 30,
    "start_time": "2023-05-20T15:09:27.450Z"
   },
   {
    "duration": 469,
    "start_time": "2023-05-20T15:09:35.539Z"
   },
   {
    "duration": 28,
    "start_time": "2023-05-20T15:09:36.393Z"
   },
   {
    "duration": 156311,
    "start_time": "2023-05-20T15:41:55.928Z"
   },
   {
    "duration": 218,
    "start_time": "2023-05-20T15:45:32.175Z"
   },
   {
    "duration": 198,
    "start_time": "2023-05-20T15:45:39.796Z"
   },
   {
    "duration": 35,
    "start_time": "2023-05-20T17:14:54.122Z"
   },
   {
    "duration": 135,
    "start_time": "2023-05-20T17:15:20.968Z"
   },
   {
    "duration": 123,
    "start_time": "2023-05-20T17:15:33.072Z"
   },
   {
    "duration": 125196,
    "start_time": "2023-05-20T17:30:26.176Z"
   },
   {
    "duration": 103,
    "start_time": "2023-05-20T17:33:27.726Z"
   },
   {
    "duration": 76,
    "start_time": "2023-05-20T17:33:36.588Z"
   },
   {
    "duration": 73,
    "start_time": "2023-05-20T17:34:18.859Z"
   },
   {
    "duration": 87,
    "start_time": "2023-05-20T17:34:36.601Z"
   },
   {
    "duration": 164,
    "start_time": "2023-05-20T17:34:41.991Z"
   },
   {
    "duration": 43,
    "start_time": "2023-05-20T17:34:45.500Z"
   },
   {
    "duration": 391,
    "start_time": "2023-05-20T17:34:49.068Z"
   },
   {
    "duration": 246,
    "start_time": "2023-05-20T17:34:53.325Z"
   },
   {
    "duration": 77,
    "start_time": "2023-05-20T17:34:59.367Z"
   },
   {
    "duration": 72,
    "start_time": "2023-05-20T17:36:08.279Z"
   },
   {
    "duration": 72,
    "start_time": "2023-05-20T17:36:20.755Z"
   },
   {
    "duration": 117356,
    "start_time": "2023-05-20T17:44:34.347Z"
   },
   {
    "duration": 160254,
    "start_time": "2023-05-20T17:46:31.704Z"
   },
   {
    "duration": 163465,
    "start_time": "2023-05-20T17:49:11.960Z"
   },
   {
    "duration": 360,
    "start_time": "2023-05-20T17:51:55.765Z"
   },
   {
    "duration": 319,
    "start_time": "2023-05-20T17:51:56.128Z"
   },
   {
    "duration": 79,
    "start_time": "2023-05-20T17:52:08.779Z"
   },
   {
    "duration": 71720,
    "start_time": "2023-05-20T17:52:12.680Z"
   },
   {
    "duration": 47,
    "start_time": "2023-05-20T17:53:38.172Z"
   },
   {
    "duration": 158,
    "start_time": "2023-05-20T17:54:55.535Z"
   },
   {
    "duration": 152,
    "start_time": "2023-05-20T17:57:18.761Z"
   },
   {
    "duration": 491,
    "start_time": "2023-05-20T17:57:53.364Z"
   },
   {
    "duration": 31,
    "start_time": "2023-05-20T17:57:55.335Z"
   },
   {
    "duration": 286,
    "start_time": "2023-05-20T18:04:00.380Z"
   },
   {
    "duration": 222,
    "start_time": "2023-05-20T18:04:15.083Z"
   },
   {
    "duration": 316,
    "start_time": "2023-05-20T18:04:55.287Z"
   },
   {
    "duration": 347,
    "start_time": "2023-05-20T18:05:00.377Z"
   },
   {
    "duration": 289,
    "start_time": "2023-05-20T18:05:16.980Z"
   },
   {
    "duration": 259,
    "start_time": "2023-05-20T18:08:39.097Z"
   },
   {
    "duration": 263,
    "start_time": "2023-05-20T18:08:59.576Z"
   },
   {
    "duration": 294,
    "start_time": "2023-05-20T18:10:03.784Z"
   },
   {
    "duration": 101,
    "start_time": "2023-05-20T18:10:34.405Z"
   },
   {
    "duration": 4,
    "start_time": "2023-05-20T18:11:04.702Z"
   },
   {
    "duration": 23,
    "start_time": "2023-05-20T18:11:08.999Z"
   },
   {
    "duration": 26,
    "start_time": "2023-05-20T18:11:29.072Z"
   },
   {
    "duration": 31,
    "start_time": "2023-05-20T18:11:46.784Z"
   },
   {
    "duration": 278,
    "start_time": "2023-05-20T18:12:40.079Z"
   },
   {
    "duration": 23,
    "start_time": "2023-05-20T18:12:47.637Z"
   },
   {
    "duration": 188,
    "start_time": "2023-05-20T18:14:10.120Z"
   },
   {
    "duration": 27,
    "start_time": "2023-05-20T18:14:13.074Z"
   },
   {
    "duration": 54,
    "start_time": "2023-05-20T18:14:36.735Z"
   },
   {
    "duration": 26,
    "start_time": "2023-05-20T18:15:16.537Z"
   },
   {
    "duration": 32,
    "start_time": "2023-05-20T18:15:29.313Z"
   },
   {
    "duration": 109,
    "start_time": "2023-05-20T18:15:43.176Z"
   },
   {
    "duration": 98,
    "start_time": "2023-05-20T18:16:34.189Z"
   },
   {
    "duration": 1231,
    "start_time": "2023-05-20T18:16:38.920Z"
   },
   {
    "duration": 40,
    "start_time": "2023-05-20T18:16:40.153Z"
   },
   {
    "duration": 68,
    "start_time": "2023-05-20T18:16:40.195Z"
   },
   {
    "duration": 3,
    "start_time": "2023-05-20T18:16:40.264Z"
   },
   {
    "duration": 25,
    "start_time": "2023-05-20T18:16:40.270Z"
   },
   {
    "duration": 24,
    "start_time": "2023-05-20T18:16:40.297Z"
   },
   {
    "duration": 15,
    "start_time": "2023-05-20T18:16:40.323Z"
   },
   {
    "duration": 25,
    "start_time": "2023-05-20T18:16:40.340Z"
   },
   {
    "duration": 17,
    "start_time": "2023-05-20T18:16:40.367Z"
   },
   {
    "duration": 14,
    "start_time": "2023-05-20T18:16:40.386Z"
   },
   {
    "duration": 55,
    "start_time": "2023-05-20T18:16:40.402Z"
   },
   {
    "duration": 45,
    "start_time": "2023-05-20T18:16:40.458Z"
   },
   {
    "duration": 27,
    "start_time": "2023-05-20T18:16:40.505Z"
   },
   {
    "duration": 53,
    "start_time": "2023-05-20T18:16:40.536Z"
   },
   {
    "duration": 432,
    "start_time": "2023-05-20T18:16:40.591Z"
   },
   {
    "duration": 119827,
    "start_time": "2023-05-20T18:16:41.024Z"
   },
   {
    "duration": 89,
    "start_time": "2023-05-20T18:18:40.852Z"
   },
   {
    "duration": 213,
    "start_time": "2023-05-20T18:18:40.943Z"
   },
   {
    "duration": 6,
    "start_time": "2023-05-20T18:18:41.157Z"
   },
   {
    "duration": 23,
    "start_time": "2023-05-20T18:18:41.164Z"
   },
   {
    "duration": 196,
    "start_time": "2023-05-20T18:18:41.188Z"
   },
   {
    "duration": 453,
    "start_time": "2023-05-20T18:18:41.386Z"
   },
   {
    "duration": 120547,
    "start_time": "2023-05-20T18:18:41.840Z"
   },
   {
    "duration": 319,
    "start_time": "2023-05-20T18:20:42.389Z"
   },
   {
    "duration": 321,
    "start_time": "2023-05-20T18:20:42.710Z"
   },
   {
    "duration": 10,
    "start_time": "2023-05-20T18:20:43.033Z"
   },
   {
    "duration": 142,
    "start_time": "2023-05-20T18:20:43.044Z"
   },
   {
    "duration": 168789,
    "start_time": "2023-05-20T18:20:43.187Z"
   },
   {
    "duration": 10,
    "start_time": "2023-05-20T18:23:32.185Z"
   },
   {
    "duration": 71819,
    "start_time": "2023-05-20T18:23:32.305Z"
   },
   {
    "duration": 16,
    "start_time": "2023-05-20T18:24:44.162Z"
   },
   {
    "duration": 539,
    "start_time": "2023-05-20T18:24:44.194Z"
   },
   {
    "duration": 28,
    "start_time": "2023-05-20T18:24:44.735Z"
   },
   {
    "duration": 207,
    "start_time": "2023-05-20T18:24:45.005Z"
   },
   {
    "duration": 96,
    "start_time": "2023-05-20T18:24:45.215Z"
   },
   {
    "duration": 190,
    "start_time": "2023-05-20T18:24:45.707Z"
   },
   {
    "duration": 354,
    "start_time": "2023-05-20T18:24:45.899Z"
   },
   {
    "duration": 53,
    "start_time": "2023-05-20T18:24:46.255Z"
   },
   {
    "duration": 30,
    "start_time": "2023-05-20T18:27:23.209Z"
   },
   {
    "duration": 177,
    "start_time": "2023-05-20T18:27:26.719Z"
   },
   {
    "duration": 62,
    "start_time": "2023-05-20T18:27:55.234Z"
   },
   {
    "duration": 128,
    "start_time": "2023-05-20T18:28:05.479Z"
   },
   {
    "duration": 47,
    "start_time": "2023-05-20T18:28:08.765Z"
   },
   {
    "duration": 48,
    "start_time": "2023-05-20T18:28:12.352Z"
   },
   {
    "duration": 35,
    "start_time": "2023-05-20T18:28:15.613Z"
   },
   {
    "duration": 34,
    "start_time": "2023-05-20T18:29:51.960Z"
   },
   {
    "duration": 38,
    "start_time": "2023-05-20T18:34:04.268Z"
   },
   {
    "duration": 537,
    "start_time": "2023-05-20T18:34:11.527Z"
   },
   {
    "duration": 162,
    "start_time": "2023-05-20T18:37:51.603Z"
   },
   {
    "duration": 397,
    "start_time": "2023-05-20T18:38:43.172Z"
   },
   {
    "duration": 185,
    "start_time": "2023-05-20T18:38:57.672Z"
   },
   {
    "duration": 353,
    "start_time": "2023-05-20T18:39:46.468Z"
   },
   {
    "duration": 168,
    "start_time": "2023-05-20T18:41:19.971Z"
   },
   {
    "duration": 392,
    "start_time": "2023-05-20T18:41:28.082Z"
   },
   {
    "duration": 257,
    "start_time": "2023-05-20T18:43:48.760Z"
   },
   {
    "duration": 241,
    "start_time": "2023-05-20T18:44:37.663Z"
   },
   {
    "duration": 509,
    "start_time": "2023-05-20T18:46:34.684Z"
   },
   {
    "duration": 517,
    "start_time": "2023-05-20T18:46:39.119Z"
   },
   {
    "duration": 116,
    "start_time": "2023-05-20T18:47:17.960Z"
   },
   {
    "duration": 182,
    "start_time": "2023-05-20T18:47:56.856Z"
   },
   {
    "duration": 81,
    "start_time": "2023-05-20T18:48:21.988Z"
   },
   {
    "duration": 193,
    "start_time": "2023-05-20T18:48:26.912Z"
   },
   {
    "duration": 3830,
    "start_time": "2023-05-20T18:48:48.072Z"
   },
   {
    "duration": 1841,
    "start_time": "2023-05-20T18:49:14.260Z"
   },
   {
    "duration": 2107,
    "start_time": "2023-05-20T18:52:08.011Z"
   },
   {
    "duration": 5622,
    "start_time": "2023-05-20T18:52:23.519Z"
   },
   {
    "duration": 9540,
    "start_time": "2023-05-20T19:01:37.568Z"
   },
   {
    "duration": 1637,
    "start_time": "2023-05-20T19:02:10.173Z"
   },
   {
    "duration": 1552,
    "start_time": "2023-05-20T19:02:17.927Z"
   },
   {
    "duration": 5104,
    "start_time": "2023-05-20T19:02:39.412Z"
   },
   {
    "duration": 24,
    "start_time": "2023-05-20T19:03:42.963Z"
   },
   {
    "duration": 20,
    "start_time": "2023-05-20T19:03:50.712Z"
   },
   {
    "duration": 4,
    "start_time": "2023-05-20T19:04:47.687Z"
   },
   {
    "duration": 133,
    "start_time": "2023-05-20T19:05:01.919Z"
   },
   {
    "duration": 136,
    "start_time": "2023-05-20T19:05:04.776Z"
   },
   {
    "duration": 153,
    "start_time": "2023-05-20T19:06:34.262Z"
   },
   {
    "duration": 12,
    "start_time": "2023-05-20T19:09:12.766Z"
   },
   {
    "duration": 218,
    "start_time": "2023-05-20T19:10:05.354Z"
   },
   {
    "duration": 227,
    "start_time": "2023-05-20T19:12:19.974Z"
   },
   {
    "duration": 223,
    "start_time": "2023-05-20T19:15:00.761Z"
   },
   {
    "duration": 11,
    "start_time": "2023-05-20T19:17:36.350Z"
   },
   {
    "duration": 12,
    "start_time": "2023-05-20T19:18:13.415Z"
   },
   {
    "duration": 11,
    "start_time": "2023-05-20T19:18:49.961Z"
   },
   {
    "duration": 133,
    "start_time": "2023-05-20T19:19:02.062Z"
   },
   {
    "duration": 14,
    "start_time": "2023-05-20T19:20:09.900Z"
   },
   {
    "duration": 959,
    "start_time": "2023-05-20T19:20:47.058Z"
   },
   {
    "duration": 1200,
    "start_time": "2023-05-20T19:26:23.008Z"
   },
   {
    "duration": 721,
    "start_time": "2023-05-20T19:26:53.469Z"
   },
   {
    "duration": 441,
    "start_time": "2023-05-20T19:27:38.961Z"
   },
   {
    "duration": 277,
    "start_time": "2023-05-20T19:27:59.061Z"
   },
   {
    "duration": 13,
    "start_time": "2023-05-20T19:31:08.965Z"
   },
   {
    "duration": 8,
    "start_time": "2023-05-20T19:31:14.949Z"
   },
   {
    "duration": 15,
    "start_time": "2023-05-20T19:32:32.761Z"
   },
   {
    "duration": 15,
    "start_time": "2023-05-20T19:53:18.763Z"
   },
   {
    "duration": 14,
    "start_time": "2023-05-20T19:53:29.849Z"
   },
   {
    "duration": 14,
    "start_time": "2023-05-20T19:53:40.397Z"
   },
   {
    "duration": 15,
    "start_time": "2023-05-20T19:53:59.500Z"
   },
   {
    "duration": 367,
    "start_time": "2023-05-20T19:54:06.401Z"
   },
   {
    "duration": 160,
    "start_time": "2023-05-20T19:58:24.554Z"
   },
   {
    "duration": 199,
    "start_time": "2023-05-20T19:59:14.407Z"
   },
   {
    "duration": 264,
    "start_time": "2023-05-20T20:06:59.849Z"
   },
   {
    "duration": 138,
    "start_time": "2023-05-20T20:07:03.419Z"
   },
   {
    "duration": 1319,
    "start_time": "2023-05-20T20:18:36.884Z"
   },
   {
    "duration": 39,
    "start_time": "2023-05-20T20:18:38.205Z"
   },
   {
    "duration": 64,
    "start_time": "2023-05-20T20:18:38.246Z"
   },
   {
    "duration": 3,
    "start_time": "2023-05-20T20:18:38.311Z"
   },
   {
    "duration": 10,
    "start_time": "2023-05-20T20:18:38.316Z"
   },
   {
    "duration": 6,
    "start_time": "2023-05-20T20:18:38.327Z"
   },
   {
    "duration": 21,
    "start_time": "2023-05-20T20:18:38.335Z"
   },
   {
    "duration": 22,
    "start_time": "2023-05-20T20:18:38.358Z"
   },
   {
    "duration": 32,
    "start_time": "2023-05-20T20:18:38.381Z"
   },
   {
    "duration": 8,
    "start_time": "2023-05-20T20:18:38.416Z"
   },
   {
    "duration": 11,
    "start_time": "2023-05-20T20:18:38.426Z"
   },
   {
    "duration": 33,
    "start_time": "2023-05-20T20:18:38.439Z"
   },
   {
    "duration": 7,
    "start_time": "2023-05-20T20:18:38.474Z"
   },
   {
    "duration": 108,
    "start_time": "2023-05-20T20:18:38.486Z"
   },
   {
    "duration": 285,
    "start_time": "2023-05-20T20:18:38.595Z"
   },
   {
    "duration": 119366,
    "start_time": "2023-05-20T20:18:38.881Z"
   },
   {
    "duration": 84,
    "start_time": "2023-05-20T20:20:38.248Z"
   },
   {
    "duration": 178,
    "start_time": "2023-05-20T20:20:38.333Z"
   },
   {
    "duration": 5,
    "start_time": "2023-05-20T20:20:38.512Z"
   },
   {
    "duration": 12,
    "start_time": "2023-05-20T20:20:38.518Z"
   },
   {
    "duration": 73,
    "start_time": "2023-05-20T20:20:38.531Z"
   },
   {
    "duration": 408,
    "start_time": "2023-05-20T20:20:38.605Z"
   },
   {
    "duration": 120596,
    "start_time": "2023-05-20T20:20:39.014Z"
   },
   {
    "duration": 291,
    "start_time": "2023-05-20T20:22:39.611Z"
   },
   {
    "duration": 167,
    "start_time": "2023-05-20T20:22:39.903Z"
   },
   {
    "duration": 22,
    "start_time": "2023-05-20T20:22:40.072Z"
   },
   {
    "duration": 35,
    "start_time": "2023-05-20T20:22:40.095Z"
   },
   {
    "duration": 162859,
    "start_time": "2023-05-20T20:22:40.185Z"
   },
   {
    "duration": 193,
    "start_time": "2023-05-20T20:25:23.045Z"
   },
   {
    "duration": 9,
    "start_time": "2023-05-20T20:25:23.240Z"
   },
   {
    "duration": 56,
    "start_time": "2023-05-20T20:25:23.250Z"
   },
   {
    "duration": 68691,
    "start_time": "2023-05-20T20:25:23.309Z"
   },
   {
    "duration": 41,
    "start_time": "2023-05-20T20:26:32.002Z"
   },
   {
    "duration": 14,
    "start_time": "2023-05-20T20:26:32.045Z"
   },
   {
    "duration": 520,
    "start_time": "2023-05-20T20:26:32.061Z"
   },
   {
    "duration": 192,
    "start_time": "2023-05-20T20:26:32.584Z"
   },
   {
    "duration": 1549,
    "start_time": "2023-05-21T14:01:37.825Z"
   },
   {
    "duration": 165,
    "start_time": "2023-05-21T14:01:39.376Z"
   },
   {
    "duration": 214,
    "start_time": "2023-05-21T14:01:45.797Z"
   },
   {
    "duration": 818,
    "start_time": "2023-05-21T14:01:48.283Z"
   },
   {
    "duration": 3,
    "start_time": "2023-05-21T14:02:00.585Z"
   },
   {
    "duration": 694,
    "start_time": "2023-05-21T14:02:03.085Z"
   },
   {
    "duration": 671,
    "start_time": "2023-05-21T14:02:20.205Z"
   },
   {
    "duration": 659,
    "start_time": "2023-05-21T14:03:36.758Z"
   },
   {
    "duration": 184,
    "start_time": "2023-05-21T14:03:40.266Z"
   },
   {
    "duration": 681,
    "start_time": "2023-05-21T14:03:52.323Z"
   },
   {
    "duration": 9,
    "start_time": "2023-05-21T14:04:28.873Z"
   },
   {
    "duration": 660,
    "start_time": "2023-05-21T14:04:32.359Z"
   },
   {
    "duration": 0,
    "start_time": "2023-05-21T14:04:33.020Z"
   },
   {
    "duration": 9,
    "start_time": "2023-05-21T14:04:33.051Z"
   },
   {
    "duration": 1247,
    "start_time": "2023-05-21T14:07:04.302Z"
   },
   {
    "duration": 41,
    "start_time": "2023-05-21T14:07:05.551Z"
   },
   {
    "duration": 64,
    "start_time": "2023-05-21T14:07:05.593Z"
   },
   {
    "duration": 3,
    "start_time": "2023-05-21T14:07:05.659Z"
   },
   {
    "duration": 7,
    "start_time": "2023-05-21T14:07:05.674Z"
   },
   {
    "duration": 5,
    "start_time": "2023-05-21T14:07:05.683Z"
   },
   {
    "duration": 21,
    "start_time": "2023-05-21T14:07:05.689Z"
   },
   {
    "duration": 18,
    "start_time": "2023-05-21T14:07:05.711Z"
   },
   {
    "duration": 777,
    "start_time": "2023-05-21T14:07:05.731Z"
   },
   {
    "duration": 0,
    "start_time": "2023-05-21T14:07:06.511Z"
   },
   {
    "duration": 1,
    "start_time": "2023-05-21T14:07:06.512Z"
   },
   {
    "duration": 0,
    "start_time": "2023-05-21T14:07:06.514Z"
   },
   {
    "duration": 0,
    "start_time": "2023-05-21T14:07:06.515Z"
   },
   {
    "duration": 0,
    "start_time": "2023-05-21T14:07:06.517Z"
   },
   {
    "duration": 0,
    "start_time": "2023-05-21T14:07:06.518Z"
   },
   {
    "duration": 0,
    "start_time": "2023-05-21T14:07:06.519Z"
   },
   {
    "duration": 0,
    "start_time": "2023-05-21T14:07:06.521Z"
   },
   {
    "duration": 0,
    "start_time": "2023-05-21T14:07:06.523Z"
   },
   {
    "duration": 0,
    "start_time": "2023-05-21T14:07:06.524Z"
   },
   {
    "duration": 0,
    "start_time": "2023-05-21T14:07:06.525Z"
   },
   {
    "duration": 0,
    "start_time": "2023-05-21T14:07:06.526Z"
   },
   {
    "duration": 0,
    "start_time": "2023-05-21T14:07:06.527Z"
   },
   {
    "duration": 0,
    "start_time": "2023-05-21T14:07:06.529Z"
   },
   {
    "duration": 0,
    "start_time": "2023-05-21T14:07:06.530Z"
   },
   {
    "duration": 0,
    "start_time": "2023-05-21T14:07:06.531Z"
   },
   {
    "duration": 0,
    "start_time": "2023-05-21T14:07:06.531Z"
   },
   {
    "duration": 0,
    "start_time": "2023-05-21T14:07:06.532Z"
   },
   {
    "duration": 0,
    "start_time": "2023-05-21T14:07:06.533Z"
   },
   {
    "duration": 0,
    "start_time": "2023-05-21T14:07:06.534Z"
   },
   {
    "duration": 0,
    "start_time": "2023-05-21T14:07:06.535Z"
   },
   {
    "duration": 0,
    "start_time": "2023-05-21T14:07:06.536Z"
   },
   {
    "duration": 0,
    "start_time": "2023-05-21T14:07:06.537Z"
   },
   {
    "duration": 0,
    "start_time": "2023-05-21T14:07:06.538Z"
   },
   {
    "duration": 0,
    "start_time": "2023-05-21T14:07:06.538Z"
   },
   {
    "duration": 0,
    "start_time": "2023-05-21T14:07:06.539Z"
   },
   {
    "duration": 15,
    "start_time": "2023-05-21T14:40:35.850Z"
   },
   {
    "duration": 9,
    "start_time": "2023-05-21T14:40:53.271Z"
   },
   {
    "duration": 2,
    "start_time": "2023-05-21T14:40:53.908Z"
   },
   {
    "duration": 25,
    "start_time": "2023-05-21T14:40:54.228Z"
   },
   {
    "duration": 8,
    "start_time": "2023-05-21T14:41:00.419Z"
   },
   {
    "duration": 111,
    "start_time": "2023-05-21T14:41:02.266Z"
   },
   {
    "duration": 98,
    "start_time": "2023-05-21T14:41:23.405Z"
   },
   {
    "duration": 104,
    "start_time": "2023-05-21T14:42:12.052Z"
   },
   {
    "duration": 119,
    "start_time": "2023-05-21T14:42:18.045Z"
   },
   {
    "duration": 95,
    "start_time": "2023-05-21T14:42:24.533Z"
   },
   {
    "duration": 85,
    "start_time": "2023-05-21T14:43:28.796Z"
   },
   {
    "duration": 192,
    "start_time": "2023-05-21T14:43:35.588Z"
   },
   {
    "duration": 124825,
    "start_time": "2023-05-21T14:43:47.848Z"
   },
   {
    "duration": 11,
    "start_time": "2023-05-21T14:45:52.675Z"
   },
   {
    "duration": 383,
    "start_time": "2023-05-21T14:48:21.511Z"
   },
   {
    "duration": 7,
    "start_time": "2023-05-21T14:48:36.578Z"
   },
   {
    "duration": 7,
    "start_time": "2023-05-21T14:48:36.963Z"
   },
   {
    "duration": 209,
    "start_time": "2023-05-21T14:48:37.976Z"
   },
   {
    "duration": 389,
    "start_time": "2023-05-21T14:48:40.093Z"
   },
   {
    "duration": 128147,
    "start_time": "2023-05-21T14:48:42.418Z"
   },
   {
    "duration": 193,
    "start_time": "2023-05-21T14:52:48.856Z"
   },
   {
    "duration": 194,
    "start_time": "2023-05-21T14:53:06.553Z"
   },
   {
    "duration": 16,
    "start_time": "2023-05-21T14:55:11.458Z"
   },
   {
    "duration": 128,
    "start_time": "2023-05-21T14:55:12.247Z"
   },
   {
    "duration": 166374,
    "start_time": "2023-05-21T14:55:34.102Z"
   },
   {
    "duration": 320,
    "start_time": "2023-05-21T14:58:47.342Z"
   },
   {
    "duration": 11,
    "start_time": "2023-05-21T14:58:58.576Z"
   },
   {
    "duration": 23,
    "start_time": "2023-05-21T14:59:00.070Z"
   },
   {
    "duration": 5,
    "start_time": "2023-05-21T14:59:04.661Z"
   },
   {
    "duration": 532,
    "start_time": "2023-05-21T14:59:05.209Z"
   },
   {
    "duration": 174,
    "start_time": "2023-05-21T14:59:07.577Z"
   },
   {
    "duration": 75561,
    "start_time": "2023-05-21T14:59:11.979Z"
   },
   {
    "duration": 86,
    "start_time": "2023-05-21T15:01:00.248Z"
   }
  ],
  "kernelspec": {
   "display_name": "Python 3 (ipykernel)",
   "language": "python",
   "name": "python3"
  },
  "language_info": {
   "codemirror_mode": {
    "name": "ipython",
    "version": 3
   },
   "file_extension": ".py",
   "mimetype": "text/x-python",
   "name": "python",
   "nbconvert_exporter": "python",
   "pygments_lexer": "ipython3",
   "version": "3.11.4"
  },
  "toc": {
   "base_numbering": 1,
   "nav_menu": {},
   "number_sections": true,
   "sideBar": true,
   "skip_h1_title": true,
   "title_cell": "Содержание",
   "title_sidebar": "Contents",
   "toc_cell": true,
   "toc_position": {},
   "toc_section_display": true,
   "toc_window_display": true
  }
 },
 "nbformat": 4,
 "nbformat_minor": 2
}
