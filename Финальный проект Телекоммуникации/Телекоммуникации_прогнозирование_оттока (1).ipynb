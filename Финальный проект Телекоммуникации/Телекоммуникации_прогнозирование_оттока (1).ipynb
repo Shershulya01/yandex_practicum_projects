{
 "cells": [
  {
   "cell_type": "markdown",
   "metadata": {},
   "source": [
    "# Телекоммуникации\n",
    "\n",
    "Оператор связи «ТелеДом» хочет бороться с оттоком клиентов. Для этого его сотрудники начнут предлагать промокоды и специальные условия всем, кто планирует отказаться от услуг связи. Чтобы заранее находить таких пользователей, оператору нужна модель, которая будет предсказывать, разорвёт ли абонент договор.\n",
    "\n",
    "# Описание услуг\n",
    "\n",
    "Оператор предоставляет два основных типа услуг: \n",
    "\n",
    "1. Стационарную телефонную связь. Возможно подключение телефонного аппарата к нескольким линиям одновременно.\n",
    "\n",
    "2. Интернет. Подключение может быть двух типов: через телефонную линию (DSL, от англ. digital subscriber line, «цифровая абонентская линия») или оптоволоконный кабель (Fiber optic).\n",
    "\n",
    "Также доступны такие услуги:\n",
    "\n",
    "- Интернет-безопасность: антивирус (DeviceProtection) и блокировка небезопасных сайтов (OnlineSecurity);\n",
    "- Выделенная линия технической поддержки (TechSupport);\n",
    "- Облачное хранилище файлов для резервного копирования данных (OnlineBackup);\n",
    "- Стриминговое телевидение (StreamingTV) и каталог фильмов (StreamingMovies).\n",
    "\n",
    "За услуги клиенты могут платить каждый месяц или заключить договор на 1–2 года. Доступны различные способы расчёта и возможность получения электронного чека.\n",
    "\n",
    "# Описание данных\n",
    "\n",
    "Данные состоят из файлов, полученных из разных источников:\n",
    "\n",
    "- contract_new.csv — информация о договоре;\n",
    "- personal_new.csv — персональные данные клиента;\n",
    "- internet_new.csv — информация об интернет-услугах;\n",
    "- phone_new.csv — информация об услугах телефонии.\n",
    "\n",
    "Во всех файлах столбец `customerID` содержит код клиента.\n",
    "\n",
    "Информация о договорах актуальна на 1 февраля 2020.\n",
    "\n",
    "# Данные\n",
    "\n",
    "- contract_new.csv\n",
    "- personal_new.csv\n",
    "- internet_new.csv\n",
    "- phone_new.csv"
   ]
  },
  {
   "cell_type": "markdown",
   "metadata": {},
   "source": [
    "## Исследование датафрейма"
   ]
  },
  {
   "cell_type": "code",
   "execution_count": 1,
   "metadata": {},
   "outputs": [],
   "source": [
    "#импортируем библиотеки\n",
    "import warnings\n",
    "\n",
    "import pandas as pd\n",
    "import numpy as np\n",
    "import re\n",
    "import matplotlib.pyplot as plt\n",
    "import seaborn as sns\n",
    "\n",
    "from sklearn.ensemble import RandomForestClassifier\n",
    "from sklearn.metrics import roc_auc_score, confusion_matrix\n",
    "from sklearn.model_selection import GridSearchCV, train_test_split\n",
    "from sklearn.preprocessing import OneHotEncoder, StandardScaler\n",
    "from catboost import CatBoostClassifier\n",
    "from lightgbm import LGBMClassifier\n",
    "\n",
    "warnings.filterwarnings('ignore')\n",
    "\n",
    "RANDOM_STATE = 161023"
   ]
  },
  {
   "cell_type": "code",
   "execution_count": 2,
   "metadata": {},
   "outputs": [],
   "source": [
    "#открываем файл\n",
    "contract = pd.read_csv('/datasets/contract_new.csv')\n",
    "personal = pd.read_csv('/datasets/personal_new.csv')\n",
    "internet = pd.read_csv('/datasets/internet_new.csv')\n",
    "phone = pd.read_csv('/datasets/phone_new.csv')"
   ]
  },
  {
   "cell_type": "code",
   "execution_count": 3,
   "metadata": {},
   "outputs": [],
   "source": [
    "#объединяем таблицы\n",
    "data = contract.merge(personal, on='customerID', how='outer')\n",
    "data = data.merge(internet, on='customerID', how='outer')\n",
    "data = data.merge(phone, on='customerID', how='outer')"
   ]
  },
  {
   "cell_type": "code",
   "execution_count": 4,
   "metadata": {},
   "outputs": [
    {
     "data": {
      "text/html": [
       "<div>\n",
       "<style scoped>\n",
       "    .dataframe tbody tr th:only-of-type {\n",
       "        vertical-align: middle;\n",
       "    }\n",
       "\n",
       "    .dataframe tbody tr th {\n",
       "        vertical-align: top;\n",
       "    }\n",
       "\n",
       "    .dataframe thead th {\n",
       "        text-align: right;\n",
       "    }\n",
       "</style>\n",
       "<table border=\"1\" class=\"dataframe\">\n",
       "  <thead>\n",
       "    <tr style=\"text-align: right;\">\n",
       "      <th></th>\n",
       "      <th>customerID</th>\n",
       "      <th>BeginDate</th>\n",
       "      <th>EndDate</th>\n",
       "      <th>Type</th>\n",
       "      <th>PaperlessBilling</th>\n",
       "      <th>PaymentMethod</th>\n",
       "      <th>MonthlyCharges</th>\n",
       "      <th>TotalCharges</th>\n",
       "      <th>gender</th>\n",
       "      <th>SeniorCitizen</th>\n",
       "      <th>Partner</th>\n",
       "      <th>Dependents</th>\n",
       "      <th>InternetService</th>\n",
       "      <th>OnlineSecurity</th>\n",
       "      <th>OnlineBackup</th>\n",
       "      <th>DeviceProtection</th>\n",
       "      <th>TechSupport</th>\n",
       "      <th>StreamingTV</th>\n",
       "      <th>StreamingMovies</th>\n",
       "      <th>MultipleLines</th>\n",
       "    </tr>\n",
       "  </thead>\n",
       "  <tbody>\n",
       "    <tr>\n",
       "      <th>0</th>\n",
       "      <td>7590-VHVEG</td>\n",
       "      <td>2020-01-01</td>\n",
       "      <td>No</td>\n",
       "      <td>Month-to-month</td>\n",
       "      <td>Yes</td>\n",
       "      <td>Electronic check</td>\n",
       "      <td>29.85</td>\n",
       "      <td>31.04</td>\n",
       "      <td>Female</td>\n",
       "      <td>0</td>\n",
       "      <td>Yes</td>\n",
       "      <td>No</td>\n",
       "      <td>DSL</td>\n",
       "      <td>No</td>\n",
       "      <td>Yes</td>\n",
       "      <td>No</td>\n",
       "      <td>No</td>\n",
       "      <td>No</td>\n",
       "      <td>No</td>\n",
       "      <td>NaN</td>\n",
       "    </tr>\n",
       "    <tr>\n",
       "      <th>1</th>\n",
       "      <td>5575-GNVDE</td>\n",
       "      <td>2017-04-01</td>\n",
       "      <td>No</td>\n",
       "      <td>One year</td>\n",
       "      <td>No</td>\n",
       "      <td>Mailed check</td>\n",
       "      <td>56.95</td>\n",
       "      <td>2071.84</td>\n",
       "      <td>Male</td>\n",
       "      <td>0</td>\n",
       "      <td>No</td>\n",
       "      <td>No</td>\n",
       "      <td>DSL</td>\n",
       "      <td>Yes</td>\n",
       "      <td>No</td>\n",
       "      <td>Yes</td>\n",
       "      <td>No</td>\n",
       "      <td>No</td>\n",
       "      <td>No</td>\n",
       "      <td>No</td>\n",
       "    </tr>\n",
       "    <tr>\n",
       "      <th>2</th>\n",
       "      <td>3668-QPYBK</td>\n",
       "      <td>2019-10-01</td>\n",
       "      <td>No</td>\n",
       "      <td>Month-to-month</td>\n",
       "      <td>Yes</td>\n",
       "      <td>Mailed check</td>\n",
       "      <td>53.85</td>\n",
       "      <td>226.17</td>\n",
       "      <td>Male</td>\n",
       "      <td>0</td>\n",
       "      <td>No</td>\n",
       "      <td>No</td>\n",
       "      <td>DSL</td>\n",
       "      <td>Yes</td>\n",
       "      <td>Yes</td>\n",
       "      <td>No</td>\n",
       "      <td>No</td>\n",
       "      <td>No</td>\n",
       "      <td>No</td>\n",
       "      <td>No</td>\n",
       "    </tr>\n",
       "    <tr>\n",
       "      <th>3</th>\n",
       "      <td>7795-CFOCW</td>\n",
       "      <td>2016-05-01</td>\n",
       "      <td>No</td>\n",
       "      <td>One year</td>\n",
       "      <td>No</td>\n",
       "      <td>Bank transfer (automatic)</td>\n",
       "      <td>42.30</td>\n",
       "      <td>1960.6</td>\n",
       "      <td>Male</td>\n",
       "      <td>0</td>\n",
       "      <td>No</td>\n",
       "      <td>No</td>\n",
       "      <td>DSL</td>\n",
       "      <td>Yes</td>\n",
       "      <td>No</td>\n",
       "      <td>Yes</td>\n",
       "      <td>Yes</td>\n",
       "      <td>No</td>\n",
       "      <td>No</td>\n",
       "      <td>NaN</td>\n",
       "    </tr>\n",
       "    <tr>\n",
       "      <th>4</th>\n",
       "      <td>9237-HQITU</td>\n",
       "      <td>2019-09-01</td>\n",
       "      <td>No</td>\n",
       "      <td>Month-to-month</td>\n",
       "      <td>Yes</td>\n",
       "      <td>Electronic check</td>\n",
       "      <td>70.70</td>\n",
       "      <td>353.5</td>\n",
       "      <td>Female</td>\n",
       "      <td>0</td>\n",
       "      <td>No</td>\n",
       "      <td>No</td>\n",
       "      <td>Fiber optic</td>\n",
       "      <td>No</td>\n",
       "      <td>No</td>\n",
       "      <td>No</td>\n",
       "      <td>No</td>\n",
       "      <td>No</td>\n",
       "      <td>No</td>\n",
       "      <td>No</td>\n",
       "    </tr>\n",
       "    <tr>\n",
       "      <th>5</th>\n",
       "      <td>9305-CDSKC</td>\n",
       "      <td>2019-03-01</td>\n",
       "      <td>No</td>\n",
       "      <td>Month-to-month</td>\n",
       "      <td>Yes</td>\n",
       "      <td>Electronic check</td>\n",
       "      <td>99.65</td>\n",
       "      <td>1150.96</td>\n",
       "      <td>Female</td>\n",
       "      <td>0</td>\n",
       "      <td>No</td>\n",
       "      <td>No</td>\n",
       "      <td>Fiber optic</td>\n",
       "      <td>No</td>\n",
       "      <td>No</td>\n",
       "      <td>Yes</td>\n",
       "      <td>No</td>\n",
       "      <td>Yes</td>\n",
       "      <td>Yes</td>\n",
       "      <td>Yes</td>\n",
       "    </tr>\n",
       "    <tr>\n",
       "      <th>6</th>\n",
       "      <td>1452-KIOVK</td>\n",
       "      <td>2018-04-01</td>\n",
       "      <td>No</td>\n",
       "      <td>Month-to-month</td>\n",
       "      <td>Yes</td>\n",
       "      <td>Credit card (automatic)</td>\n",
       "      <td>89.10</td>\n",
       "      <td>2058.21</td>\n",
       "      <td>Male</td>\n",
       "      <td>0</td>\n",
       "      <td>No</td>\n",
       "      <td>Yes</td>\n",
       "      <td>Fiber optic</td>\n",
       "      <td>No</td>\n",
       "      <td>Yes</td>\n",
       "      <td>No</td>\n",
       "      <td>No</td>\n",
       "      <td>Yes</td>\n",
       "      <td>No</td>\n",
       "      <td>Yes</td>\n",
       "    </tr>\n",
       "    <tr>\n",
       "      <th>7</th>\n",
       "      <td>6713-OKOMC</td>\n",
       "      <td>2019-04-01</td>\n",
       "      <td>No</td>\n",
       "      <td>Month-to-month</td>\n",
       "      <td>No</td>\n",
       "      <td>Mailed check</td>\n",
       "      <td>29.75</td>\n",
       "      <td>300.48</td>\n",
       "      <td>Female</td>\n",
       "      <td>0</td>\n",
       "      <td>No</td>\n",
       "      <td>No</td>\n",
       "      <td>DSL</td>\n",
       "      <td>Yes</td>\n",
       "      <td>No</td>\n",
       "      <td>No</td>\n",
       "      <td>No</td>\n",
       "      <td>No</td>\n",
       "      <td>No</td>\n",
       "      <td>NaN</td>\n",
       "    </tr>\n",
       "    <tr>\n",
       "      <th>8</th>\n",
       "      <td>7892-POOKP</td>\n",
       "      <td>2017-07-01</td>\n",
       "      <td>No</td>\n",
       "      <td>Month-to-month</td>\n",
       "      <td>Yes</td>\n",
       "      <td>Electronic check</td>\n",
       "      <td>104.80</td>\n",
       "      <td>3573.68</td>\n",
       "      <td>Female</td>\n",
       "      <td>0</td>\n",
       "      <td>Yes</td>\n",
       "      <td>No</td>\n",
       "      <td>Fiber optic</td>\n",
       "      <td>No</td>\n",
       "      <td>No</td>\n",
       "      <td>Yes</td>\n",
       "      <td>Yes</td>\n",
       "      <td>Yes</td>\n",
       "      <td>Yes</td>\n",
       "      <td>Yes</td>\n",
       "    </tr>\n",
       "    <tr>\n",
       "      <th>9</th>\n",
       "      <td>6388-TABGU</td>\n",
       "      <td>2014-12-01</td>\n",
       "      <td>2017-05-01</td>\n",
       "      <td>One year</td>\n",
       "      <td>No</td>\n",
       "      <td>Bank transfer (automatic)</td>\n",
       "      <td>56.15</td>\n",
       "      <td>1628.35</td>\n",
       "      <td>Male</td>\n",
       "      <td>0</td>\n",
       "      <td>No</td>\n",
       "      <td>Yes</td>\n",
       "      <td>DSL</td>\n",
       "      <td>Yes</td>\n",
       "      <td>Yes</td>\n",
       "      <td>No</td>\n",
       "      <td>No</td>\n",
       "      <td>No</td>\n",
       "      <td>No</td>\n",
       "      <td>No</td>\n",
       "    </tr>\n",
       "    <tr>\n",
       "      <th>10</th>\n",
       "      <td>9763-GRSKD</td>\n",
       "      <td>2019-01-01</td>\n",
       "      <td>No</td>\n",
       "      <td>Month-to-month</td>\n",
       "      <td>Yes</td>\n",
       "      <td>Mailed check</td>\n",
       "      <td>49.95</td>\n",
       "      <td>649.35</td>\n",
       "      <td>Male</td>\n",
       "      <td>0</td>\n",
       "      <td>Yes</td>\n",
       "      <td>Yes</td>\n",
       "      <td>DSL</td>\n",
       "      <td>Yes</td>\n",
       "      <td>No</td>\n",
       "      <td>No</td>\n",
       "      <td>No</td>\n",
       "      <td>No</td>\n",
       "      <td>No</td>\n",
       "      <td>No</td>\n",
       "    </tr>\n",
       "    <tr>\n",
       "      <th>11</th>\n",
       "      <td>7469-LKBCI</td>\n",
       "      <td>2018-10-01</td>\n",
       "      <td>No</td>\n",
       "      <td>Two year</td>\n",
       "      <td>No</td>\n",
       "      <td>Credit card (automatic)</td>\n",
       "      <td>18.95</td>\n",
       "      <td>312.3</td>\n",
       "      <td>Male</td>\n",
       "      <td>0</td>\n",
       "      <td>No</td>\n",
       "      <td>No</td>\n",
       "      <td>NaN</td>\n",
       "      <td>NaN</td>\n",
       "      <td>NaN</td>\n",
       "      <td>NaN</td>\n",
       "      <td>NaN</td>\n",
       "      <td>NaN</td>\n",
       "      <td>NaN</td>\n",
       "      <td>No</td>\n",
       "    </tr>\n",
       "    <tr>\n",
       "      <th>12</th>\n",
       "      <td>8091-TTVAX</td>\n",
       "      <td>2015-04-01</td>\n",
       "      <td>No</td>\n",
       "      <td>One year</td>\n",
       "      <td>No</td>\n",
       "      <td>Credit card (automatic)</td>\n",
       "      <td>100.35</td>\n",
       "      <td>6111.31</td>\n",
       "      <td>Male</td>\n",
       "      <td>0</td>\n",
       "      <td>Yes</td>\n",
       "      <td>No</td>\n",
       "      <td>Fiber optic</td>\n",
       "      <td>No</td>\n",
       "      <td>No</td>\n",
       "      <td>Yes</td>\n",
       "      <td>No</td>\n",
       "      <td>Yes</td>\n",
       "      <td>Yes</td>\n",
       "      <td>Yes</td>\n",
       "    </tr>\n",
       "    <tr>\n",
       "      <th>13</th>\n",
       "      <td>0280-XJGEX</td>\n",
       "      <td>2015-09-01</td>\n",
       "      <td>No</td>\n",
       "      <td>Month-to-month</td>\n",
       "      <td>Yes</td>\n",
       "      <td>Bank transfer (automatic)</td>\n",
       "      <td>103.70</td>\n",
       "      <td>5496.1</td>\n",
       "      <td>Male</td>\n",
       "      <td>0</td>\n",
       "      <td>No</td>\n",
       "      <td>No</td>\n",
       "      <td>Fiber optic</td>\n",
       "      <td>No</td>\n",
       "      <td>Yes</td>\n",
       "      <td>Yes</td>\n",
       "      <td>No</td>\n",
       "      <td>Yes</td>\n",
       "      <td>Yes</td>\n",
       "      <td>Yes</td>\n",
       "    </tr>\n",
       "    <tr>\n",
       "      <th>14</th>\n",
       "      <td>5129-JLPIS</td>\n",
       "      <td>2018-01-01</td>\n",
       "      <td>No</td>\n",
       "      <td>Month-to-month</td>\n",
       "      <td>Yes</td>\n",
       "      <td>Electronic check</td>\n",
       "      <td>105.50</td>\n",
       "      <td>2637.5</td>\n",
       "      <td>Male</td>\n",
       "      <td>0</td>\n",
       "      <td>No</td>\n",
       "      <td>No</td>\n",
       "      <td>Fiber optic</td>\n",
       "      <td>Yes</td>\n",
       "      <td>No</td>\n",
       "      <td>Yes</td>\n",
       "      <td>Yes</td>\n",
       "      <td>Yes</td>\n",
       "      <td>Yes</td>\n",
       "      <td>No</td>\n",
       "    </tr>\n",
       "    <tr>\n",
       "      <th>15</th>\n",
       "      <td>3655-SNQYZ</td>\n",
       "      <td>2014-05-01</td>\n",
       "      <td>2016-03-01</td>\n",
       "      <td>Two year</td>\n",
       "      <td>No</td>\n",
       "      <td>Credit card (automatic)</td>\n",
       "      <td>113.25</td>\n",
       "      <td>2491.5</td>\n",
       "      <td>Female</td>\n",
       "      <td>0</td>\n",
       "      <td>Yes</td>\n",
       "      <td>Yes</td>\n",
       "      <td>Fiber optic</td>\n",
       "      <td>Yes</td>\n",
       "      <td>Yes</td>\n",
       "      <td>Yes</td>\n",
       "      <td>Yes</td>\n",
       "      <td>Yes</td>\n",
       "      <td>Yes</td>\n",
       "      <td>Yes</td>\n",
       "    </tr>\n",
       "    <tr>\n",
       "      <th>16</th>\n",
       "      <td>8191-XWSZG</td>\n",
       "      <td>2015-10-01</td>\n",
       "      <td>No</td>\n",
       "      <td>One year</td>\n",
       "      <td>No</td>\n",
       "      <td>Mailed check</td>\n",
       "      <td>20.65</td>\n",
       "      <td>1106.01</td>\n",
       "      <td>Female</td>\n",
       "      <td>0</td>\n",
       "      <td>No</td>\n",
       "      <td>No</td>\n",
       "      <td>NaN</td>\n",
       "      <td>NaN</td>\n",
       "      <td>NaN</td>\n",
       "      <td>NaN</td>\n",
       "      <td>NaN</td>\n",
       "      <td>NaN</td>\n",
       "      <td>NaN</td>\n",
       "      <td>No</td>\n",
       "    </tr>\n",
       "    <tr>\n",
       "      <th>17</th>\n",
       "      <td>9959-WOFKT</td>\n",
       "      <td>2014-03-01</td>\n",
       "      <td>No</td>\n",
       "      <td>Two year</td>\n",
       "      <td>No</td>\n",
       "      <td>Bank transfer (automatic)</td>\n",
       "      <td>106.70</td>\n",
       "      <td>8257.51</td>\n",
       "      <td>Male</td>\n",
       "      <td>0</td>\n",
       "      <td>No</td>\n",
       "      <td>Yes</td>\n",
       "      <td>Fiber optic</td>\n",
       "      <td>Yes</td>\n",
       "      <td>No</td>\n",
       "      <td>Yes</td>\n",
       "      <td>No</td>\n",
       "      <td>Yes</td>\n",
       "      <td>Yes</td>\n",
       "      <td>Yes</td>\n",
       "    </tr>\n",
       "    <tr>\n",
       "      <th>18</th>\n",
       "      <td>4190-MFLUW</td>\n",
       "      <td>2019-01-01</td>\n",
       "      <td>No</td>\n",
       "      <td>Month-to-month</td>\n",
       "      <td>No</td>\n",
       "      <td>Credit card (automatic)</td>\n",
       "      <td>55.20</td>\n",
       "      <td>789.36</td>\n",
       "      <td>Female</td>\n",
       "      <td>0</td>\n",
       "      <td>Yes</td>\n",
       "      <td>Yes</td>\n",
       "      <td>DSL</td>\n",
       "      <td>No</td>\n",
       "      <td>No</td>\n",
       "      <td>Yes</td>\n",
       "      <td>Yes</td>\n",
       "      <td>No</td>\n",
       "      <td>No</td>\n",
       "      <td>No</td>\n",
       "    </tr>\n",
       "    <tr>\n",
       "      <th>19</th>\n",
       "      <td>4183-MYFRB</td>\n",
       "      <td>2018-05-01</td>\n",
       "      <td>No</td>\n",
       "      <td>Month-to-month</td>\n",
       "      <td>Yes</td>\n",
       "      <td>Electronic check</td>\n",
       "      <td>90.05</td>\n",
       "      <td>1891.05</td>\n",
       "      <td>Female</td>\n",
       "      <td>0</td>\n",
       "      <td>No</td>\n",
       "      <td>No</td>\n",
       "      <td>Fiber optic</td>\n",
       "      <td>No</td>\n",
       "      <td>Yes</td>\n",
       "      <td>Yes</td>\n",
       "      <td>No</td>\n",
       "      <td>No</td>\n",
       "      <td>Yes</td>\n",
       "      <td>No</td>\n",
       "    </tr>\n",
       "  </tbody>\n",
       "</table>\n",
       "</div>"
      ],
      "text/plain": [
       "    customerID   BeginDate     EndDate            Type PaperlessBilling  \\\n",
       "0   7590-VHVEG  2020-01-01          No  Month-to-month              Yes   \n",
       "1   5575-GNVDE  2017-04-01          No        One year               No   \n",
       "2   3668-QPYBK  2019-10-01          No  Month-to-month              Yes   \n",
       "3   7795-CFOCW  2016-05-01          No        One year               No   \n",
       "4   9237-HQITU  2019-09-01          No  Month-to-month              Yes   \n",
       "5   9305-CDSKC  2019-03-01          No  Month-to-month              Yes   \n",
       "6   1452-KIOVK  2018-04-01          No  Month-to-month              Yes   \n",
       "7   6713-OKOMC  2019-04-01          No  Month-to-month               No   \n",
       "8   7892-POOKP  2017-07-01          No  Month-to-month              Yes   \n",
       "9   6388-TABGU  2014-12-01  2017-05-01        One year               No   \n",
       "10  9763-GRSKD  2019-01-01          No  Month-to-month              Yes   \n",
       "11  7469-LKBCI  2018-10-01          No        Two year               No   \n",
       "12  8091-TTVAX  2015-04-01          No        One year               No   \n",
       "13  0280-XJGEX  2015-09-01          No  Month-to-month              Yes   \n",
       "14  5129-JLPIS  2018-01-01          No  Month-to-month              Yes   \n",
       "15  3655-SNQYZ  2014-05-01  2016-03-01        Two year               No   \n",
       "16  8191-XWSZG  2015-10-01          No        One year               No   \n",
       "17  9959-WOFKT  2014-03-01          No        Two year               No   \n",
       "18  4190-MFLUW  2019-01-01          No  Month-to-month               No   \n",
       "19  4183-MYFRB  2018-05-01          No  Month-to-month              Yes   \n",
       "\n",
       "                PaymentMethod  MonthlyCharges TotalCharges  gender  \\\n",
       "0            Electronic check           29.85        31.04  Female   \n",
       "1                Mailed check           56.95      2071.84    Male   \n",
       "2                Mailed check           53.85       226.17    Male   \n",
       "3   Bank transfer (automatic)           42.30       1960.6    Male   \n",
       "4            Electronic check           70.70        353.5  Female   \n",
       "5            Electronic check           99.65      1150.96  Female   \n",
       "6     Credit card (automatic)           89.10      2058.21    Male   \n",
       "7                Mailed check           29.75       300.48  Female   \n",
       "8            Electronic check          104.80      3573.68  Female   \n",
       "9   Bank transfer (automatic)           56.15      1628.35    Male   \n",
       "10               Mailed check           49.95       649.35    Male   \n",
       "11    Credit card (automatic)           18.95        312.3    Male   \n",
       "12    Credit card (automatic)          100.35      6111.31    Male   \n",
       "13  Bank transfer (automatic)          103.70       5496.1    Male   \n",
       "14           Electronic check          105.50       2637.5    Male   \n",
       "15    Credit card (automatic)          113.25       2491.5  Female   \n",
       "16               Mailed check           20.65      1106.01  Female   \n",
       "17  Bank transfer (automatic)          106.70      8257.51    Male   \n",
       "18    Credit card (automatic)           55.20       789.36  Female   \n",
       "19           Electronic check           90.05      1891.05  Female   \n",
       "\n",
       "    SeniorCitizen Partner Dependents InternetService OnlineSecurity  \\\n",
       "0               0     Yes         No             DSL             No   \n",
       "1               0      No         No             DSL            Yes   \n",
       "2               0      No         No             DSL            Yes   \n",
       "3               0      No         No             DSL            Yes   \n",
       "4               0      No         No     Fiber optic             No   \n",
       "5               0      No         No     Fiber optic             No   \n",
       "6               0      No        Yes     Fiber optic             No   \n",
       "7               0      No         No             DSL            Yes   \n",
       "8               0     Yes         No     Fiber optic             No   \n",
       "9               0      No        Yes             DSL            Yes   \n",
       "10              0     Yes        Yes             DSL            Yes   \n",
       "11              0      No         No             NaN            NaN   \n",
       "12              0     Yes         No     Fiber optic             No   \n",
       "13              0      No         No     Fiber optic             No   \n",
       "14              0      No         No     Fiber optic            Yes   \n",
       "15              0     Yes        Yes     Fiber optic            Yes   \n",
       "16              0      No         No             NaN            NaN   \n",
       "17              0      No        Yes     Fiber optic            Yes   \n",
       "18              0     Yes        Yes             DSL             No   \n",
       "19              0      No         No     Fiber optic             No   \n",
       "\n",
       "   OnlineBackup DeviceProtection TechSupport StreamingTV StreamingMovies  \\\n",
       "0           Yes               No          No          No              No   \n",
       "1            No              Yes          No          No              No   \n",
       "2           Yes               No          No          No              No   \n",
       "3            No              Yes         Yes          No              No   \n",
       "4            No               No          No          No              No   \n",
       "5            No              Yes          No         Yes             Yes   \n",
       "6           Yes               No          No         Yes              No   \n",
       "7            No               No          No          No              No   \n",
       "8            No              Yes         Yes         Yes             Yes   \n",
       "9           Yes               No          No          No              No   \n",
       "10           No               No          No          No              No   \n",
       "11          NaN              NaN         NaN         NaN             NaN   \n",
       "12           No              Yes          No         Yes             Yes   \n",
       "13          Yes              Yes          No         Yes             Yes   \n",
       "14           No              Yes         Yes         Yes             Yes   \n",
       "15          Yes              Yes         Yes         Yes             Yes   \n",
       "16          NaN              NaN         NaN         NaN             NaN   \n",
       "17           No              Yes          No         Yes             Yes   \n",
       "18           No              Yes         Yes          No              No   \n",
       "19          Yes              Yes          No          No             Yes   \n",
       "\n",
       "   MultipleLines  \n",
       "0            NaN  \n",
       "1             No  \n",
       "2             No  \n",
       "3            NaN  \n",
       "4             No  \n",
       "5            Yes  \n",
       "6            Yes  \n",
       "7            NaN  \n",
       "8            Yes  \n",
       "9             No  \n",
       "10            No  \n",
       "11            No  \n",
       "12           Yes  \n",
       "13           Yes  \n",
       "14            No  \n",
       "15           Yes  \n",
       "16            No  \n",
       "17           Yes  \n",
       "18            No  \n",
       "19            No  "
      ]
     },
     "metadata": {},
     "output_type": "display_data"
    },
    {
     "name": "stdout",
     "output_type": "stream",
     "text": [
      "<class 'pandas.core.frame.DataFrame'>\n",
      "Int64Index: 7043 entries, 0 to 7042\n",
      "Data columns (total 20 columns):\n",
      " #   Column            Non-Null Count  Dtype  \n",
      "---  ------            --------------  -----  \n",
      " 0   customerID        7043 non-null   object \n",
      " 1   BeginDate         7043 non-null   object \n",
      " 2   EndDate           7043 non-null   object \n",
      " 3   Type              7043 non-null   object \n",
      " 4   PaperlessBilling  7043 non-null   object \n",
      " 5   PaymentMethod     7043 non-null   object \n",
      " 6   MonthlyCharges    7043 non-null   float64\n",
      " 7   TotalCharges      7043 non-null   object \n",
      " 8   gender            7043 non-null   object \n",
      " 9   SeniorCitizen     7043 non-null   int64  \n",
      " 10  Partner           7043 non-null   object \n",
      " 11  Dependents        7043 non-null   object \n",
      " 12  InternetService   5517 non-null   object \n",
      " 13  OnlineSecurity    5517 non-null   object \n",
      " 14  OnlineBackup      5517 non-null   object \n",
      " 15  DeviceProtection  5517 non-null   object \n",
      " 16  TechSupport       5517 non-null   object \n",
      " 17  StreamingTV       5517 non-null   object \n",
      " 18  StreamingMovies   5517 non-null   object \n",
      " 19  MultipleLines     6361 non-null   object \n",
      "dtypes: float64(1), int64(1), object(18)\n",
      "memory usage: 1.1+ MB\n"
     ]
    },
    {
     "data": {
      "text/html": [
       "<div>\n",
       "<style scoped>\n",
       "    .dataframe tbody tr th:only-of-type {\n",
       "        vertical-align: middle;\n",
       "    }\n",
       "\n",
       "    .dataframe tbody tr th {\n",
       "        vertical-align: top;\n",
       "    }\n",
       "\n",
       "    .dataframe thead th {\n",
       "        text-align: right;\n",
       "    }\n",
       "</style>\n",
       "<table border=\"1\" class=\"dataframe\">\n",
       "  <thead>\n",
       "    <tr style=\"text-align: right;\">\n",
       "      <th></th>\n",
       "      <th>MonthlyCharges</th>\n",
       "      <th>SeniorCitizen</th>\n",
       "    </tr>\n",
       "  </thead>\n",
       "  <tbody>\n",
       "    <tr>\n",
       "      <th>count</th>\n",
       "      <td>7043.000000</td>\n",
       "      <td>7043.000000</td>\n",
       "    </tr>\n",
       "    <tr>\n",
       "      <th>mean</th>\n",
       "      <td>64.761692</td>\n",
       "      <td>0.162147</td>\n",
       "    </tr>\n",
       "    <tr>\n",
       "      <th>std</th>\n",
       "      <td>30.090047</td>\n",
       "      <td>0.368612</td>\n",
       "    </tr>\n",
       "    <tr>\n",
       "      <th>min</th>\n",
       "      <td>18.250000</td>\n",
       "      <td>0.000000</td>\n",
       "    </tr>\n",
       "    <tr>\n",
       "      <th>25%</th>\n",
       "      <td>35.500000</td>\n",
       "      <td>0.000000</td>\n",
       "    </tr>\n",
       "    <tr>\n",
       "      <th>50%</th>\n",
       "      <td>70.350000</td>\n",
       "      <td>0.000000</td>\n",
       "    </tr>\n",
       "    <tr>\n",
       "      <th>75%</th>\n",
       "      <td>89.850000</td>\n",
       "      <td>0.000000</td>\n",
       "    </tr>\n",
       "    <tr>\n",
       "      <th>max</th>\n",
       "      <td>118.750000</td>\n",
       "      <td>1.000000</td>\n",
       "    </tr>\n",
       "  </tbody>\n",
       "</table>\n",
       "</div>"
      ],
      "text/plain": [
       "       MonthlyCharges  SeniorCitizen\n",
       "count     7043.000000    7043.000000\n",
       "mean        64.761692       0.162147\n",
       "std         30.090047       0.368612\n",
       "min         18.250000       0.000000\n",
       "25%         35.500000       0.000000\n",
       "50%         70.350000       0.000000\n",
       "75%         89.850000       0.000000\n",
       "max        118.750000       1.000000"
      ]
     },
     "execution_count": 4,
     "metadata": {},
     "output_type": "execute_result"
    }
   ],
   "source": [
    "#смотрим общую информацию\n",
    "display(data.head(20))\n",
    "data.info()\n",
    "data.describe()"
   ]
  },
  {
   "cell_type": "code",
   "execution_count": 5,
   "metadata": {},
   "outputs": [
    {
     "data": {
      "text/plain": [
       "customerID             0\n",
       "BeginDate              0\n",
       "EndDate                0\n",
       "Type                   0\n",
       "PaperlessBilling       0\n",
       "PaymentMethod          0\n",
       "MonthlyCharges         0\n",
       "TotalCharges           0\n",
       "gender                 0\n",
       "SeniorCitizen          0\n",
       "Partner                0\n",
       "Dependents             0\n",
       "InternetService     1526\n",
       "OnlineSecurity      1526\n",
       "OnlineBackup        1526\n",
       "DeviceProtection    1526\n",
       "TechSupport         1526\n",
       "StreamingTV         1526\n",
       "StreamingMovies     1526\n",
       "MultipleLines        682\n",
       "dtype: int64"
      ]
     },
     "execution_count": 5,
     "metadata": {},
     "output_type": "execute_result"
    }
   ],
   "source": [
    "#посмотрим на пропуски\n",
    "data.isna().sum()"
   ]
  },
  {
   "cell_type": "markdown",
   "metadata": {},
   "source": [
    "пропуски есть во всех столбцах из таблицы internet и phone"
   ]
  },
  {
   "cell_type": "code",
   "execution_count": 6,
   "metadata": {},
   "outputs": [
    {
     "name": "stdout",
     "output_type": "stream",
     "text": [
      "<class 'pandas.core.frame.DataFrame'>\n",
      "RangeIndex: 5517 entries, 0 to 5516\n",
      "Data columns (total 8 columns):\n",
      " #   Column            Non-Null Count  Dtype \n",
      "---  ------            --------------  ----- \n",
      " 0   customerID        5517 non-null   object\n",
      " 1   InternetService   5517 non-null   object\n",
      " 2   OnlineSecurity    5517 non-null   object\n",
      " 3   OnlineBackup      5517 non-null   object\n",
      " 4   DeviceProtection  5517 non-null   object\n",
      " 5   TechSupport       5517 non-null   object\n",
      " 6   StreamingTV       5517 non-null   object\n",
      " 7   StreamingMovies   5517 non-null   object\n",
      "dtypes: object(8)\n",
      "memory usage: 344.9+ KB\n"
     ]
    }
   ],
   "source": [
    "internet.info()"
   ]
  },
  {
   "cell_type": "code",
   "execution_count": 7,
   "metadata": {},
   "outputs": [
    {
     "name": "stdout",
     "output_type": "stream",
     "text": [
      "<class 'pandas.core.frame.DataFrame'>\n",
      "RangeIndex: 6361 entries, 0 to 6360\n",
      "Data columns (total 2 columns):\n",
      " #   Column         Non-Null Count  Dtype \n",
      "---  ------         --------------  ----- \n",
      " 0   customerID     6361 non-null   object\n",
      " 1   MultipleLines  6361 non-null   object\n",
      "dtypes: object(2)\n",
      "memory usage: 99.5+ KB\n"
     ]
    }
   ],
   "source": [
    "phone.info()"
   ]
  },
  {
   "cell_type": "markdown",
   "metadata": {},
   "source": [
    "присутствие пропусков в таблицах internet и phone связаны с отсутсвием информации об подключении услуги, скорей всего они просто не подключены"
   ]
  },
  {
   "cell_type": "code",
   "execution_count": 8,
   "metadata": {},
   "outputs": [
    {
     "data": {
      "text/plain": [
       "0"
      ]
     },
     "execution_count": 8,
     "metadata": {},
     "output_type": "execute_result"
    }
   ],
   "source": [
    "#найдем дубликаты\n",
    "data.duplicated().sum()"
   ]
  },
  {
   "cell_type": "code",
   "execution_count": 9,
   "metadata": {},
   "outputs": [
    {
     "data": {
      "image/png": "[encoded data removed]",
      "text/plain": [
       "<Figure size 720x432 with 1 Axes>"
      ]
     },
     "metadata": {
      "needs_background": "light"
     },
     "output_type": "display_data"
    }
   ],
   "source": [
    "#построим график распределения признаков столбца MonthlyCharges\n",
    "plt.figure(figsize=(10, 6))\n",
    "plt.hist(data['MonthlyCharges'], bins=120) \n",
    "plt.xlabel('Расходы за месяц')\n",
    "plt.ylabel('Количество')\n",
    "plt.title('Распределение признаков')\n",
    "plt.show()"
   ]
  },
  {
   "cell_type": "markdown",
   "metadata": {},
   "source": [
    "на графике расходов за месяц видно большое количество расходов в районе 20, а остальные значения расположены в диапазоне от 30 до 120"
   ]
  },
  {
   "cell_type": "markdown",
   "metadata": {},
   "source": [
    "**Вывод:**\n",
    "\n",
    "- объединили таблицы\n",
    "- есть пропуски в таблицах `internet` и `phone`, связаны с отсутсвием информации об оказании услуги, значит они не пользуются этими услугами\n",
    "- отсутсвуют дубликаты\n",
    "- не все столбцы имеют правильный тип данных\n",
    "- бинарные признаки имеют значения Yes/No\n",
    "- расходы за месяц в основном в районе 20, остальные значения в диапозоне от 30 до 120"
   ]
  },
  {
   "cell_type": "markdown",
   "metadata": {},
   "source": [
    "# План работы"
   ]
  },
  {
   "cell_type": "markdown",
   "metadata": {},
   "source": [
    "1. Подготовка данных:\n",
    "- Загрузить данные\n",
    "- Ознакомиться с данными\n",
    "2. Исследовательский анализ данных:\n",
    "- Изучение структуры данных, выявление пропусков и аномалий\n",
    "- Анализ распределения признаков\n",
    "3. Предобработка данных:\n",
    "- Преобразовать бинарные признаки в числовые значения\n",
    "- Обработать пропуски\n",
    "3. Подготовка данных для обучения модели:\n",
    "- Выделение целевой переменной и определение признаков\n",
    "- Разделение данных на обучающую и тестовую выборки\n",
    "4. Обучение и оценка модели:\n",
    "- Выбор модели машинного обучения для прогнозирования оттока\n",
    "- Обучение модели на обучающей выборке и оценка ее производительности на тестовой выборке, включая оценку метрик"
   ]
  },
  {
   "cell_type": "markdown",
   "metadata": {},
   "source": [
    "## Предобработка данных"
   ]
  },
  {
   "cell_type": "code",
   "execution_count": 10,
   "metadata": {},
   "outputs": [],
   "source": [
    "#приведем названия столбцов к нижнему регистру\n",
    "data.columns = data.columns.str.lower()"
   ]
  },
  {
   "cell_type": "code",
   "execution_count": 11,
   "metadata": {},
   "outputs": [
    {
     "name": "stdout",
     "output_type": "stream",
     "text": [
      "[' ' ' ' ' ' ' ' ' ' ' ' ' ' ' ' ' ' ' ' ' ']\n"
     ]
    }
   ],
   "source": [
    "#найдем неявные пропуски в столбце totalcharges\n",
    "pattern = r'[^0-9\\.]'\n",
    "invalid_values = data[data['totalcharges'].str.contains(pattern, na=False)]['totalcharges'].values\n",
    "print(invalid_values)"
   ]
  },
  {
   "cell_type": "code",
   "execution_count": 12,
   "metadata": {},
   "outputs": [
    {
     "data": {
      "text/html": [
       "<div>\n",
       "<style scoped>\n",
       "    .dataframe tbody tr th:only-of-type {\n",
       "        vertical-align: middle;\n",
       "    }\n",
       "\n",
       "    .dataframe tbody tr th {\n",
       "        vertical-align: top;\n",
       "    }\n",
       "\n",
       "    .dataframe thead th {\n",
       "        text-align: right;\n",
       "    }\n",
       "</style>\n",
       "<table border=\"1\" class=\"dataframe\">\n",
       "  <thead>\n",
       "    <tr style=\"text-align: right;\">\n",
       "      <th></th>\n",
       "      <th>customerid</th>\n",
       "      <th>begindate</th>\n",
       "      <th>enddate</th>\n",
       "      <th>type</th>\n",
       "      <th>paperlessbilling</th>\n",
       "      <th>paymentmethod</th>\n",
       "      <th>monthlycharges</th>\n",
       "      <th>totalcharges</th>\n",
       "      <th>gender</th>\n",
       "      <th>seniorcitizen</th>\n",
       "      <th>partner</th>\n",
       "      <th>dependents</th>\n",
       "      <th>internetservice</th>\n",
       "      <th>onlinesecurity</th>\n",
       "      <th>onlinebackup</th>\n",
       "      <th>deviceprotection</th>\n",
       "      <th>techsupport</th>\n",
       "      <th>streamingtv</th>\n",
       "      <th>streamingmovies</th>\n",
       "      <th>multiplelines</th>\n",
       "    </tr>\n",
       "  </thead>\n",
       "  <tbody>\n",
       "    <tr>\n",
       "      <th>488</th>\n",
       "      <td>4472-LVYGI</td>\n",
       "      <td>2020-02-01</td>\n",
       "      <td>No</td>\n",
       "      <td>Two year</td>\n",
       "      <td>Yes</td>\n",
       "      <td>Bank transfer (automatic)</td>\n",
       "      <td>52.55</td>\n",
       "      <td></td>\n",
       "      <td>Female</td>\n",
       "      <td>0</td>\n",
       "      <td>Yes</td>\n",
       "      <td>Yes</td>\n",
       "      <td>DSL</td>\n",
       "      <td>Yes</td>\n",
       "      <td>No</td>\n",
       "      <td>Yes</td>\n",
       "      <td>Yes</td>\n",
       "      <td>Yes</td>\n",
       "      <td>No</td>\n",
       "      <td>NaN</td>\n",
       "    </tr>\n",
       "    <tr>\n",
       "      <th>753</th>\n",
       "      <td>3115-CZMZD</td>\n",
       "      <td>2020-02-01</td>\n",
       "      <td>No</td>\n",
       "      <td>Two year</td>\n",
       "      <td>No</td>\n",
       "      <td>Mailed check</td>\n",
       "      <td>20.25</td>\n",
       "      <td></td>\n",
       "      <td>Male</td>\n",
       "      <td>0</td>\n",
       "      <td>No</td>\n",
       "      <td>Yes</td>\n",
       "      <td>NaN</td>\n",
       "      <td>NaN</td>\n",
       "      <td>NaN</td>\n",
       "      <td>NaN</td>\n",
       "      <td>NaN</td>\n",
       "      <td>NaN</td>\n",
       "      <td>NaN</td>\n",
       "      <td>No</td>\n",
       "    </tr>\n",
       "    <tr>\n",
       "      <th>936</th>\n",
       "      <td>5709-LVOEQ</td>\n",
       "      <td>2020-02-01</td>\n",
       "      <td>No</td>\n",
       "      <td>Two year</td>\n",
       "      <td>No</td>\n",
       "      <td>Mailed check</td>\n",
       "      <td>80.85</td>\n",
       "      <td></td>\n",
       "      <td>Female</td>\n",
       "      <td>0</td>\n",
       "      <td>Yes</td>\n",
       "      <td>Yes</td>\n",
       "      <td>DSL</td>\n",
       "      <td>Yes</td>\n",
       "      <td>Yes</td>\n",
       "      <td>Yes</td>\n",
       "      <td>No</td>\n",
       "      <td>Yes</td>\n",
       "      <td>Yes</td>\n",
       "      <td>No</td>\n",
       "    </tr>\n",
       "    <tr>\n",
       "      <th>1082</th>\n",
       "      <td>4367-NUYAO</td>\n",
       "      <td>2020-02-01</td>\n",
       "      <td>No</td>\n",
       "      <td>Two year</td>\n",
       "      <td>No</td>\n",
       "      <td>Mailed check</td>\n",
       "      <td>25.75</td>\n",
       "      <td></td>\n",
       "      <td>Male</td>\n",
       "      <td>0</td>\n",
       "      <td>Yes</td>\n",
       "      <td>Yes</td>\n",
       "      <td>NaN</td>\n",
       "      <td>NaN</td>\n",
       "      <td>NaN</td>\n",
       "      <td>NaN</td>\n",
       "      <td>NaN</td>\n",
       "      <td>NaN</td>\n",
       "      <td>NaN</td>\n",
       "      <td>Yes</td>\n",
       "    </tr>\n",
       "    <tr>\n",
       "      <th>1340</th>\n",
       "      <td>1371-DWPAZ</td>\n",
       "      <td>2020-02-01</td>\n",
       "      <td>No</td>\n",
       "      <td>Two year</td>\n",
       "      <td>No</td>\n",
       "      <td>Credit card (automatic)</td>\n",
       "      <td>56.05</td>\n",
       "      <td></td>\n",
       "      <td>Female</td>\n",
       "      <td>0</td>\n",
       "      <td>Yes</td>\n",
       "      <td>Yes</td>\n",
       "      <td>DSL</td>\n",
       "      <td>Yes</td>\n",
       "      <td>Yes</td>\n",
       "      <td>Yes</td>\n",
       "      <td>Yes</td>\n",
       "      <td>Yes</td>\n",
       "      <td>No</td>\n",
       "      <td>NaN</td>\n",
       "    </tr>\n",
       "    <tr>\n",
       "      <th>3331</th>\n",
       "      <td>7644-OMVMY</td>\n",
       "      <td>2020-02-01</td>\n",
       "      <td>No</td>\n",
       "      <td>Two year</td>\n",
       "      <td>No</td>\n",
       "      <td>Mailed check</td>\n",
       "      <td>19.85</td>\n",
       "      <td></td>\n",
       "      <td>Male</td>\n",
       "      <td>0</td>\n",
       "      <td>Yes</td>\n",
       "      <td>Yes</td>\n",
       "      <td>NaN</td>\n",
       "      <td>NaN</td>\n",
       "      <td>NaN</td>\n",
       "      <td>NaN</td>\n",
       "      <td>NaN</td>\n",
       "      <td>NaN</td>\n",
       "      <td>NaN</td>\n",
       "      <td>No</td>\n",
       "    </tr>\n",
       "    <tr>\n",
       "      <th>3826</th>\n",
       "      <td>3213-VVOLG</td>\n",
       "      <td>2020-02-01</td>\n",
       "      <td>No</td>\n",
       "      <td>Two year</td>\n",
       "      <td>No</td>\n",
       "      <td>Mailed check</td>\n",
       "      <td>25.35</td>\n",
       "      <td></td>\n",
       "      <td>Male</td>\n",
       "      <td>0</td>\n",
       "      <td>Yes</td>\n",
       "      <td>Yes</td>\n",
       "      <td>NaN</td>\n",
       "      <td>NaN</td>\n",
       "      <td>NaN</td>\n",
       "      <td>NaN</td>\n",
       "      <td>NaN</td>\n",
       "      <td>NaN</td>\n",
       "      <td>NaN</td>\n",
       "      <td>Yes</td>\n",
       "    </tr>\n",
       "    <tr>\n",
       "      <th>4380</th>\n",
       "      <td>2520-SGTTA</td>\n",
       "      <td>2020-02-01</td>\n",
       "      <td>No</td>\n",
       "      <td>Two year</td>\n",
       "      <td>No</td>\n",
       "      <td>Mailed check</td>\n",
       "      <td>20.00</td>\n",
       "      <td></td>\n",
       "      <td>Female</td>\n",
       "      <td>0</td>\n",
       "      <td>Yes</td>\n",
       "      <td>Yes</td>\n",
       "      <td>NaN</td>\n",
       "      <td>NaN</td>\n",
       "      <td>NaN</td>\n",
       "      <td>NaN</td>\n",
       "      <td>NaN</td>\n",
       "      <td>NaN</td>\n",
       "      <td>NaN</td>\n",
       "      <td>No</td>\n",
       "    </tr>\n",
       "    <tr>\n",
       "      <th>5218</th>\n",
       "      <td>2923-ARZLG</td>\n",
       "      <td>2020-02-01</td>\n",
       "      <td>No</td>\n",
       "      <td>One year</td>\n",
       "      <td>Yes</td>\n",
       "      <td>Mailed check</td>\n",
       "      <td>19.70</td>\n",
       "      <td></td>\n",
       "      <td>Male</td>\n",
       "      <td>0</td>\n",
       "      <td>Yes</td>\n",
       "      <td>Yes</td>\n",
       "      <td>NaN</td>\n",
       "      <td>NaN</td>\n",
       "      <td>NaN</td>\n",
       "      <td>NaN</td>\n",
       "      <td>NaN</td>\n",
       "      <td>NaN</td>\n",
       "      <td>NaN</td>\n",
       "      <td>No</td>\n",
       "    </tr>\n",
       "    <tr>\n",
       "      <th>6670</th>\n",
       "      <td>4075-WKNIU</td>\n",
       "      <td>2020-02-01</td>\n",
       "      <td>No</td>\n",
       "      <td>Two year</td>\n",
       "      <td>No</td>\n",
       "      <td>Mailed check</td>\n",
       "      <td>73.35</td>\n",
       "      <td></td>\n",
       "      <td>Female</td>\n",
       "      <td>0</td>\n",
       "      <td>Yes</td>\n",
       "      <td>Yes</td>\n",
       "      <td>DSL</td>\n",
       "      <td>No</td>\n",
       "      <td>Yes</td>\n",
       "      <td>Yes</td>\n",
       "      <td>Yes</td>\n",
       "      <td>Yes</td>\n",
       "      <td>No</td>\n",
       "      <td>Yes</td>\n",
       "    </tr>\n",
       "    <tr>\n",
       "      <th>6754</th>\n",
       "      <td>2775-SEFEE</td>\n",
       "      <td>2020-02-01</td>\n",
       "      <td>No</td>\n",
       "      <td>Two year</td>\n",
       "      <td>Yes</td>\n",
       "      <td>Bank transfer (automatic)</td>\n",
       "      <td>61.90</td>\n",
       "      <td></td>\n",
       "      <td>Male</td>\n",
       "      <td>0</td>\n",
       "      <td>No</td>\n",
       "      <td>Yes</td>\n",
       "      <td>DSL</td>\n",
       "      <td>Yes</td>\n",
       "      <td>Yes</td>\n",
       "      <td>No</td>\n",
       "      <td>Yes</td>\n",
       "      <td>No</td>\n",
       "      <td>No</td>\n",
       "      <td>Yes</td>\n",
       "    </tr>\n",
       "  </tbody>\n",
       "</table>\n",
       "</div>"
      ],
      "text/plain": [
       "      customerid   begindate enddate      type paperlessbilling  \\\n",
       "488   4472-LVYGI  2020-02-01      No  Two year              Yes   \n",
       "753   3115-CZMZD  2020-02-01      No  Two year               No   \n",
       "936   5709-LVOEQ  2020-02-01      No  Two year               No   \n",
       "1082  4367-NUYAO  2020-02-01      No  Two year               No   \n",
       "1340  1371-DWPAZ  2020-02-01      No  Two year               No   \n",
       "3331  7644-OMVMY  2020-02-01      No  Two year               No   \n",
       "3826  3213-VVOLG  2020-02-01      No  Two year               No   \n",
       "4380  2520-SGTTA  2020-02-01      No  Two year               No   \n",
       "5218  2923-ARZLG  2020-02-01      No  One year              Yes   \n",
       "6670  4075-WKNIU  2020-02-01      No  Two year               No   \n",
       "6754  2775-SEFEE  2020-02-01      No  Two year              Yes   \n",
       "\n",
       "                  paymentmethod  monthlycharges totalcharges  gender  \\\n",
       "488   Bank transfer (automatic)           52.55               Female   \n",
       "753                Mailed check           20.25                 Male   \n",
       "936                Mailed check           80.85               Female   \n",
       "1082               Mailed check           25.75                 Male   \n",
       "1340    Credit card (automatic)           56.05               Female   \n",
       "3331               Mailed check           19.85                 Male   \n",
       "3826               Mailed check           25.35                 Male   \n",
       "4380               Mailed check           20.00               Female   \n",
       "5218               Mailed check           19.70                 Male   \n",
       "6670               Mailed check           73.35               Female   \n",
       "6754  Bank transfer (automatic)           61.90                 Male   \n",
       "\n",
       "      seniorcitizen partner dependents internetservice onlinesecurity  \\\n",
       "488               0     Yes        Yes             DSL            Yes   \n",
       "753               0      No        Yes             NaN            NaN   \n",
       "936               0     Yes        Yes             DSL            Yes   \n",
       "1082              0     Yes        Yes             NaN            NaN   \n",
       "1340              0     Yes        Yes             DSL            Yes   \n",
       "3331              0     Yes        Yes             NaN            NaN   \n",
       "3826              0     Yes        Yes             NaN            NaN   \n",
       "4380              0     Yes        Yes             NaN            NaN   \n",
       "5218              0     Yes        Yes             NaN            NaN   \n",
       "6670              0     Yes        Yes             DSL             No   \n",
       "6754              0      No        Yes             DSL            Yes   \n",
       "\n",
       "     onlinebackup deviceprotection techsupport streamingtv streamingmovies  \\\n",
       "488            No              Yes         Yes         Yes              No   \n",
       "753           NaN              NaN         NaN         NaN             NaN   \n",
       "936           Yes              Yes          No         Yes             Yes   \n",
       "1082          NaN              NaN         NaN         NaN             NaN   \n",
       "1340          Yes              Yes         Yes         Yes              No   \n",
       "3331          NaN              NaN         NaN         NaN             NaN   \n",
       "3826          NaN              NaN         NaN         NaN             NaN   \n",
       "4380          NaN              NaN         NaN         NaN             NaN   \n",
       "5218          NaN              NaN         NaN         NaN             NaN   \n",
       "6670          Yes              Yes         Yes         Yes              No   \n",
       "6754          Yes               No         Yes          No              No   \n",
       "\n",
       "     multiplelines  \n",
       "488            NaN  \n",
       "753             No  \n",
       "936             No  \n",
       "1082           Yes  \n",
       "1340           NaN  \n",
       "3331            No  \n",
       "3826           Yes  \n",
       "4380            No  \n",
       "5218            No  \n",
       "6670           Yes  \n",
       "6754           Yes  "
      ]
     },
     "execution_count": 12,
     "metadata": {},
     "output_type": "execute_result"
    }
   ],
   "source": [
    "#выведем данные с пропусками\n",
    "data[data['totalcharges'] == ' ']"
   ]
  },
  {
   "cell_type": "markdown",
   "metadata": {},
   "source": [
    "в столбце totalcharges присутствуют неявные пропуски, дата заключения договора, это дата выгрузки данных 1 февраля 2020 года, скорей всего клиенты только пришли и не прошло много времени. Данных с пропусками немного, значит их можно удалить"
   ]
  },
  {
   "cell_type": "code",
   "execution_count": 13,
   "metadata": {},
   "outputs": [],
   "source": [
    "#приведем столбцы к нужному типу данных\n",
    "data = data[data['totalcharges'] != ' ']\n",
    "data['totalcharges'] = data['totalcharges'].astype('float')"
   ]
  },
  {
   "cell_type": "code",
   "execution_count": 14,
   "metadata": {},
   "outputs": [],
   "source": [
    "#добавим новый столбец с целевым признаком\n",
    "data['customer_left'] = data['enddate'].apply(lambda x: 0 if x == 'No' else 1)"
   ]
  },
  {
   "cell_type": "code",
   "execution_count": 15,
   "metadata": {},
   "outputs": [
    {
     "data": {
      "image/png": "[encoded data removed]",
      "text/plain": [
       "<Figure size 432x432 with 1 Axes>"
      ]
     },
     "metadata": {},
     "output_type": "display_data"
    }
   ],
   "source": [
    "#построим круговую диаграмму распределения целевого признака\n",
    "balance = data['customer_left'].value_counts(normalize=True)\n",
    "\n",
    "balance.plot(kind='pie', autopct=\"%0.0f%%\", figsize=(6, 6), labels = ['Не ушел', 'Ушел'])\n",
    "plt.title(\"Соотношение классов в целевом признаке\")\n",
    "plt.show()"
   ]
  },
  {
   "cell_type": "markdown",
   "metadata": {},
   "source": [
    "видно, что тех кто не ушел больше"
   ]
  },
  {
   "cell_type": "code",
   "execution_count": 16,
   "metadata": {},
   "outputs": [],
   "source": [
    "#заменим значение в столбце enddate с No на дату выгрузки датафрейма\n",
    "data['enddate'] = data['enddate'].replace('No', '2020-02-01')"
   ]
  },
  {
   "cell_type": "code",
   "execution_count": 17,
   "metadata": {},
   "outputs": [],
   "source": [
    "#преобразуем столбцы к правильному типу даты\n",
    "data['begindate'] = pd.to_datetime(data['begindate'])\n",
    "data['enddate'] = pd.to_datetime(data['enddate'])"
   ]
  },
  {
   "cell_type": "code",
   "execution_count": 18,
   "metadata": {},
   "outputs": [],
   "source": [
    "#добавим признак длительности контракта в днях\n",
    "data['contract_duration'] = (data['enddate'] - data['begindate']).dt.days"
   ]
  },
  {
   "cell_type": "code",
   "execution_count": 19,
   "metadata": {},
   "outputs": [
    {
     "data": {
      "image/png": "[encoded data removed]",
      "text/plain": [
       "<Figure size 720x432 with 1 Axes>"
      ]
     },
     "metadata": {
      "needs_background": "light"
     },
     "output_type": "display_data"
    }
   ],
   "source": [
    "#вычислим корреляцию между признаками и целевым признаком\n",
    "correlations = data.corrwith(data['customer_left'])\n",
    "correlations = correlations.abs().sort_values(ascending=False)\n",
    "\n",
    "#отобразим важность признаков\n",
    "plt.figure(figsize=(10, 6))\n",
    "sns.barplot(x=correlations.values, y=correlations.index)\n",
    "plt.xlabel('Корреляция')\n",
    "plt.ylabel('Признаки')\n",
    "plt.title('Корреляция признаков с целевым признаком')\n",
    "plt.show()"
   ]
  },
  {
   "cell_type": "markdown",
   "metadata": {},
   "source": [
    "monthlycharges имеет наибольшую корреляцию с customer_left. Это может указывать на то, что клиенты с более высокими ежемесячными платежами более склонны к уходу.\n",
    "\n",
    "seniorcitizen и totalcharges также имеют корреляцию с customer_left, но их влияние слабее по сравнению с monthlycharges.\n",
    "\n",
    "contract_duration имеет самую низкую корреляцию с customer_left, что может означать, что длительность контракта не сильно влияет на решение клиентов об уходе."
   ]
  },
  {
   "cell_type": "code",
   "execution_count": 20,
   "metadata": {},
   "outputs": [],
   "source": [
    "#удалим ненужные столбцы\n",
    "data = data.drop(['customerid', 'begindate', 'enddate'], axis=1)"
   ]
  },
  {
   "cell_type": "code",
   "execution_count": 21,
   "metadata": {},
   "outputs": [],
   "source": [
    "#заполним пропуски заглушкой\n",
    "data = data.fillna('unknown')"
   ]
  },
  {
   "cell_type": "code",
   "execution_count": 22,
   "metadata": {},
   "outputs": [
    {
     "name": "stdout",
     "output_type": "stream",
     "text": [
      "True\n"
     ]
    }
   ],
   "source": [
    "#сбросим индексы\n",
    "data.reset_index(drop=True, inplace=True)\n",
    "print(data.index.is_monotonic_increasing)"
   ]
  },
  {
   "cell_type": "markdown",
   "metadata": {},
   "source": [
    "## Подготовка данных для обучения"
   ]
  },
  {
   "cell_type": "code",
   "execution_count": 23,
   "metadata": {},
   "outputs": [
    {
     "data": {
      "text/plain": [
       "(5274, 19)"
      ]
     },
     "metadata": {},
     "output_type": "display_data"
    },
    {
     "data": {
      "text/plain": [
       "(1758, 19)"
      ]
     },
     "metadata": {},
     "output_type": "display_data"
    }
   ],
   "source": [
    "#разобьем данные на выборки\n",
    "data_train, data_test = train_test_split(data, test_size=0.25, random_state=RANDOM_STATE)\n",
    "display(data_train.shape)\n",
    "display(data_test.shape)"
   ]
  },
  {
   "cell_type": "code",
   "execution_count": 24,
   "metadata": {},
   "outputs": [],
   "source": [
    "#закодируем данные\n",
    "categorical_columns = ['type', 'paperlessbilling', 'paymentmethod', 'gender', 'partner', 'dependents', 'internetservice', 'onlinesecurity', 'onlinebackup', 'deviceprotection', 'techsupport', 'streamingtv', 'streamingmovies', 'multiplelines']\n",
    "\n",
    "encoder = OneHotEncoder(sparse=False, handle_unknown='ignore')\n",
    "encoder_df = pd.DataFrame(encoder.fit_transform(data_train[categorical_columns]))\n",
    "data_train_ohe = data_train.join(encoder_df)\n",
    "data_train_ohe.drop(categorical_columns, axis=1, inplace=True)\n",
    "data_train_ohe = data_train_ohe.fillna(-1)\n",
    "\n",
    "encoder_df = pd.DataFrame(encoder.transform(data_test[categorical_columns]))\n",
    "data_test_ohe = data_test.join(encoder_df)\n",
    "data_test_ohe.drop(categorical_columns, axis=1, inplace=True)\n",
    "data_test_ohe = data_test_ohe.fillna(-1)\n",
    "\n",
    "features_train_ohe = data_train_ohe.drop(['customer_left'], axis=1)\n",
    "target_train_ohe = data_train_ohe['customer_left']\n",
    "features_test_ohe = data_test_ohe.drop(['customer_left'], axis=1)\n",
    "target_test_ohe = data_test_ohe['customer_left']\n",
    "\n",
    "features_train = data_train.drop(['customer_left'], axis=1)\n",
    "target_train = data_train['customer_left']\n",
    "features_test = data_test.drop(['customer_left'], axis=1)\n",
    "target_test = data_test['customer_left']"
   ]
  },
  {
   "cell_type": "code",
   "execution_count": 25,
   "metadata": {},
   "outputs": [
    {
     "data": {
      "text/plain": [
       "(5274, 43)"
      ]
     },
     "metadata": {},
     "output_type": "display_data"
    },
    {
     "data": {
      "text/plain": [
       "(1758, 43)"
      ]
     },
     "metadata": {},
     "output_type": "display_data"
    },
    {
     "data": {
      "text/plain": [
       "(5274, 18)"
      ]
     },
     "metadata": {},
     "output_type": "display_data"
    },
    {
     "data": {
      "text/plain": [
       "(1758, 18)"
      ]
     },
     "metadata": {},
     "output_type": "display_data"
    }
   ],
   "source": [
    "display(features_train_ohe.shape)\n",
    "display(features_test_ohe.shape)\n",
    "display(features_train.shape)\n",
    "display(features_test.shape)"
   ]
  },
  {
   "cell_type": "code",
   "execution_count": 26,
   "metadata": {},
   "outputs": [],
   "source": [
    "#создаем список с числовыми столбцами\n",
    "numeric = ['monthlycharges', 'totalcharges', 'contract_duration']"
   ]
  },
  {
   "cell_type": "code",
   "execution_count": 27,
   "metadata": {},
   "outputs": [
    {
     "name": "stdout",
     "output_type": "stream",
     "text": [
      "(5274, 43)\n",
      "(1758, 43)\n"
     ]
    }
   ],
   "source": [
    "#нормируем числовые данные\n",
    "scaler = StandardScaler()\n",
    "features_train_ohe[numeric] = scaler.fit_transform(features_train_ohe[numeric])\n",
    "features_test_ohe[numeric] = scaler.transform(features_test_ohe[numeric])\n",
    "\n",
    "print(features_train_ohe.shape)\n",
    "print(features_test_ohe.shape)"
   ]
  },
  {
   "cell_type": "markdown",
   "metadata": {},
   "source": [
    "## Обучение моделей"
   ]
  },
  {
   "cell_type": "markdown",
   "metadata": {},
   "source": [
    "найдем лучшие гиперпараметры для каждой модели с помощью GridSearchCV"
   ]
  },
  {
   "cell_type": "markdown",
   "metadata": {},
   "source": [
    "### модель случайный лес"
   ]
  },
  {
   "cell_type": "code",
   "execution_count": 28,
   "metadata": {},
   "outputs": [],
   "source": [
    "#%%time\n",
    "\n",
    "#model_rf = RandomForestClassifier(random_state=RANDOM_STATE)\n",
    "\n",
    "#param_grid = {\n",
    "    #'n_estimators': [200, 500, 1000],\n",
    "    #'max_depth': [None, 10, 20, 30],\n",
    "    #'min_samples_split': [2, 5, 10],\n",
    "    #'min_samples_leaf': [1, 2, 4],\n",
    "#}\n",
    "#grid_rf = GridSearchCV(estimator=model_rf, \n",
    "                       #param_grid=param_grid, \n",
    "                       #scoring='roc_auc', \n",
    "                       #cv=5, \n",
    "                       #n_jobs=1)\n",
    "#grid_rf.fit(features_train_ohe, target_train_ohe)\n",
    "#print('Лучшая оценка AUC-ROC на кросс-валидации: ', grid_rf.best_score_)\n",
    "#print('Лучшие гиперпараметры модели: ', grid_rf.best_params_)\n",
    "#print('Лучшая модель: ', grid_rf.best_estimator_)"
   ]
  },
  {
   "cell_type": "code",
   "execution_count": 29,
   "metadata": {},
   "outputs": [
    {
     "name": "stdout",
     "output_type": "stream",
     "text": [
      "Лучшая оценка AUC-ROC на кросс-валидации:  0.7462487561453504\n",
      "Лучшие гиперпараметры модели:  {'max_depth': 10, 'min_samples_leaf': 2, 'min_samples_split': 10, 'n_estimators': 1000}\n",
      "Лучшая модель:  RandomForestClassifier(max_depth=10, min_samples_leaf=2, min_samples_split=10,\n",
      "                       n_estimators=1000, random_state=161023)\n",
      "CPU times: user 24.1 s, sys: 61.6 ms, total: 24.2 s\n",
      "Wall time: 24.2 s\n"
     ]
    }
   ],
   "source": [
    "%%time\n",
    "\n",
    "model_rf = RandomForestClassifier(random_state=RANDOM_STATE)\n",
    "\n",
    "param_grid = {\n",
    "    'n_estimators': [1000],\n",
    "    'max_depth': [10],\n",
    "    'min_samples_split': [10],\n",
    "    'min_samples_leaf': [2],\n",
    "}\n",
    "grid_rf = GridSearchCV(estimator=model_rf, \n",
    "                       param_grid=param_grid, \n",
    "                       scoring='roc_auc', \n",
    "                       cv=5, \n",
    "                       n_jobs=1)\n",
    "grid_rf.fit(features_train_ohe, target_train_ohe)\n",
    "print('Лучшая оценка AUC-ROC на кросс-валидации: ', grid_rf.best_score_)\n",
    "print('Лучшие гиперпараметры модели: ', grid_rf.best_params_)\n",
    "print('Лучшая модель: ', grid_rf.best_estimator_)"
   ]
  },
  {
   "cell_type": "markdown",
   "metadata": {},
   "source": [
    "модель `RandomForestClassifier`:\n",
    "- Лучшая оценка AUC-ROC на кросс-валидации:  0.74\n",
    "\n",
    "- Лучшие гиперпараметры модели:  max_depth=10, min_samples_leaf=2, min_samples_split=10, n_estimators=1000"
   ]
  },
  {
   "cell_type": "markdown",
   "metadata": {},
   "source": [
    "### модель CatBoost"
   ]
  },
  {
   "cell_type": "code",
   "execution_count": 30,
   "metadata": {},
   "outputs": [],
   "source": [
    "categorical_features = ['type', 'paperlessbilling', 'paymentmethod', 'gender', 'partner', 'dependents', 'internetservice', 'onlinesecurity', 'onlinebackup', 'deviceprotection', 'techsupport', 'streamingtv', 'streamingmovies', 'multiplelines']"
   ]
  },
  {
   "cell_type": "code",
   "execution_count": 31,
   "metadata": {
    "scrolled": true
   },
   "outputs": [],
   "source": [
    "#%%time\n",
    "\n",
    "#model_cbc = CatBoostClassifier(random_seed=RANDOM_STATE, verbose=0)\n",
    "\n",
    "#param_grid = {\n",
    "    #'iterations': [200, 500, 1000],\n",
    "    #'depth': [1, 6, 10],\n",
    "    #'learning_rate': [0.01, 0.1, 0.5],\n",
    "    #'l2_leaf_reg': [1, 4, 7],\n",
    "#}\n",
    "#grid_cbc = GridSearchCV(estimator=model_cbc, \n",
    "                        #param_grid=param_grid, \n",
    "                        #scoring='roc_auc', \n",
    "                        #cv=5,\n",
    "                        #n_jobs=1)\n",
    "#grid_cbc.fit(features_train, target_train, cat_features=categorical_features)\n",
    "#print('Лучшая оценка AUC-ROC на кросс-валидации: ', grid_cbc.best_score_)\n",
    "#print('Лучшие гиперпараметры модели: ', grid_cbc.best_params_)\n",
    "#print('Лучшая модель: ', grid_cbc.best_estimator_)"
   ]
  },
  {
   "cell_type": "code",
   "execution_count": 32,
   "metadata": {},
   "outputs": [
    {
     "name": "stdout",
     "output_type": "stream",
     "text": [
      "Лучшая оценка AUC-ROC на кросс-валидации:  0.8980514757670626\n",
      "Лучшие гиперпараметры модели:  {'depth': 6, 'iterations': 1000, 'l2_leaf_reg': 1, 'learning_rate': 0.1}\n",
      "Лучшая модель:  <catboost.core.CatBoostClassifier object at 0x7f1881b6b8e0>\n",
      "CPU times: user 1min 22s, sys: 1.39 s, total: 1min 23s\n",
      "Wall time: 1min 31s\n"
     ]
    }
   ],
   "source": [
    "%%time\n",
    "\n",
    "model_cbc = CatBoostClassifier(random_seed=RANDOM_STATE, verbose=0)\n",
    "\n",
    "param_grid = {\n",
    "    'iterations': [1000],\n",
    "    'depth': [6],\n",
    "    'learning_rate': [0.1],\n",
    "    'l2_leaf_reg': [1],\n",
    "}\n",
    "grid_cbc = GridSearchCV(estimator=model_cbc, \n",
    "                        param_grid=param_grid, \n",
    "                        scoring='roc_auc', \n",
    "                        cv=5,\n",
    "                        n_jobs=1)\n",
    "grid_cbc.fit(features_train, target_train, cat_features=categorical_features)\n",
    "print('Лучшая оценка AUC-ROC на кросс-валидации: ', grid_cbc.best_score_)\n",
    "print('Лучшие гиперпараметры модели: ', grid_cbc.best_params_)\n",
    "print('Лучшая модель: ', grid_cbc.best_estimator_)"
   ]
  },
  {
   "cell_type": "markdown",
   "metadata": {},
   "source": [
    "модель `CatBoostClassifier`:\n",
    "- Лучшая оценка AUC-ROC на кросс-валидации:  0.89\n",
    "\n",
    "- Лучшие гиперпараметры модели: depth=6, iterations=1000, l2_leaf_reg=1, learning_rate=0.1"
   ]
  },
  {
   "cell_type": "markdown",
   "metadata": {},
   "source": [
    "### модель LightGBM"
   ]
  },
  {
   "cell_type": "code",
   "execution_count": 33,
   "metadata": {},
   "outputs": [],
   "source": [
    "#%%time\n",
    "\n",
    "#model_lgb = LGBMClassifier(random_state=RANDOM_STATE)\n",
    "#param_grid = {\n",
    "    #'n_estimators': [200, 500, 1000],\n",
    "    #'max_depth': [1, 5, 10],\n",
    "    #'learning_rate': [0.01, 0.1, 0.5],\n",
    "    #'num_leaves': [31, 63, 127],\n",
    "#}\n",
    "#grid_lgb = GridSearchCV(estimator=model_lgb, \n",
    "                        #param_grid=param_grid, \n",
    "                        #scoring='roc_auc',\n",
    "                        #cv=5,\n",
    "                        #n_jobs=1)\n",
    "#grid_lgb.fit(features_train_ohe, target_train_ohe)\n",
    "#print('Лучшая оценка AUC-ROC на кросс-валидации: ', grid_lgb.best_score_)\n",
    "#print('Лучшие гиперпараметры модели: ', grid_lgb.best_params_)\n",
    "#print('Лучшая модель: ', grid_lgb.best_estimator_)"
   ]
  },
  {
   "cell_type": "code",
   "execution_count": 34,
   "metadata": {},
   "outputs": [
    {
     "name": "stdout",
     "output_type": "stream",
     "text": [
      "Лучшая оценка AUC-ROC на кросс-валидации:  0.8601716160069257\n",
      "Лучшие гиперпараметры модели:  {'learning_rate': 0.1, 'max_depth': 5, 'n_estimators': 500, 'num_leaves': 63}\n",
      "Лучшая модель:  LGBMClassifier(max_depth=5, n_estimators=500, num_leaves=63,\n",
      "               random_state=161023)\n",
      "CPU times: user 4min 6s, sys: 4.9 s, total: 4min 11s\n",
      "Wall time: 4min 12s\n"
     ]
    }
   ],
   "source": [
    "%%time\n",
    "\n",
    "model_lgb = LGBMClassifier(random_state=RANDOM_STATE)\n",
    "param_grid = {\n",
    "    'n_estimators': [500],\n",
    "    'max_depth': [5],\n",
    "    'learning_rate': [0.1],\n",
    "    'num_leaves': [63],\n",
    "}\n",
    "grid_lgb = GridSearchCV(estimator=model_lgb, \n",
    "                        param_grid=param_grid, \n",
    "                        scoring='roc_auc',\n",
    "                        cv=5,\n",
    "                        n_jobs=1)\n",
    "grid_lgb.fit(features_train_ohe, target_train_ohe)\n",
    "print('Лучшая оценка AUC-ROC на кросс-валидации: ', grid_lgb.best_score_)\n",
    "print('Лучшие гиперпараметры модели: ', grid_lgb.best_params_)\n",
    "print('Лучшая модель: ', grid_lgb.best_estimator_)"
   ]
  },
  {
   "cell_type": "markdown",
   "metadata": {},
   "source": [
    "модель `LGBMClassifier`:\n",
    "- Лучшая оценка AUC-ROC на кросс-валидации:  0.86\n",
    "\n",
    "- Лучшие гиперпараметры модели: learning_rate=0.1, max_depth=5, n_estimators=500, num_leaves=63"
   ]
  },
  {
   "cell_type": "code",
   "execution_count": 35,
   "metadata": {},
   "outputs": [
    {
     "data": {
      "text/html": [
       "<div>\n",
       "<style scoped>\n",
       "    .dataframe tbody tr th:only-of-type {\n",
       "        vertical-align: middle;\n",
       "    }\n",
       "\n",
       "    .dataframe tbody tr th {\n",
       "        vertical-align: top;\n",
       "    }\n",
       "\n",
       "    .dataframe thead th {\n",
       "        text-align: right;\n",
       "    }\n",
       "</style>\n",
       "<table border=\"1\" class=\"dataframe\">\n",
       "  <thead>\n",
       "    <tr style=\"text-align: right;\">\n",
       "      <th></th>\n",
       "      <th>Модель</th>\n",
       "      <th>AUC-ROC</th>\n",
       "      <th>Время подбора гиперпараметров</th>\n",
       "      <th>Время обучения с лучшими гиперпараметрами</th>\n",
       "    </tr>\n",
       "  </thead>\n",
       "  <tbody>\n",
       "    <tr>\n",
       "      <th>0</th>\n",
       "      <td>RandomForestClassifier</td>\n",
       "      <td>0.74</td>\n",
       "      <td>21m 4s</td>\n",
       "      <td>22.3 s</td>\n",
       "    </tr>\n",
       "    <tr>\n",
       "      <th>1</th>\n",
       "      <td>CatBoostClassifier</td>\n",
       "      <td>0.89</td>\n",
       "      <td>1h 28m 46s</td>\n",
       "      <td>1m 22s</td>\n",
       "    </tr>\n",
       "    <tr>\n",
       "      <th>2</th>\n",
       "      <td>LGBMClassifier</td>\n",
       "      <td>0.86</td>\n",
       "      <td>1h 37m 52s</td>\n",
       "      <td>4min 5s</td>\n",
       "    </tr>\n",
       "  </tbody>\n",
       "</table>\n",
       "</div>"
      ],
      "text/plain": [
       "                   Модель  AUC-ROC Время подбора гиперпараметров  \\\n",
       "0  RandomForestClassifier     0.74                        21m 4s   \n",
       "1      CatBoostClassifier     0.89                    1h 28m 46s   \n",
       "2          LGBMClassifier     0.86                    1h 37m 52s   \n",
       "\n",
       "  Время обучения с лучшими гиперпараметрами  \n",
       "0                                    22.3 s  \n",
       "1                                    1m 22s  \n",
       "2                                   4min 5s  "
      ]
     },
     "execution_count": 35,
     "metadata": {},
     "output_type": "execute_result"
    }
   ],
   "source": [
    "models = {'Модель':['RandomForestClassifier', 'CatBoostClassifier', 'LGBMClassifier'], \n",
    "          'AUC-ROC': [0.74, 0.89, 0.86],\n",
    "          'Время подбора гиперпараметров': ['21m 4s', '1h 28m 46s', '1h 37m 52s'],\n",
    "          'Время обучения с лучшими гиперпараметрами': ['22.3 s', '1m 22s', '4min 5s']}\n",
    "\n",
    "df = pd.DataFrame(models)\n",
    "df"
   ]
  },
  {
   "cell_type": "markdown",
   "metadata": {},
   "source": [
    "**Вывод:**\n",
    "\n",
    " Обучили три модели: \n",
    "- RandomForestClassifier AUC-ROC = 0.74\n",
    "- CatBoostClassifier AUC-ROC = 0.89\n",
    "- LGBMClassifier AUC-ROC = 0.85\n",
    " \n",
    " Лучшую метрику AUC-ROC на кросс-валидации показала модель `CatBoostClassifier` с результатом AUC-ROC = 0.89.\n",
    " \n",
    " С гиперпараметрами:\n",
    "- depth=6\n",
    "- iterations=1000\n",
    "- l2_leaf_reg=1\n",
    "- learning_rate=0.1\n",
    "\n",
    "Эту модель будем использовать для проверки качества на тестовой выборке."
   ]
  },
  {
   "cell_type": "markdown",
   "metadata": {},
   "source": [
    "# Тестирование лучшей модели"
   ]
  },
  {
   "cell_type": "code",
   "execution_count": 36,
   "metadata": {},
   "outputs": [
    {
     "name": "stdout",
     "output_type": "stream",
     "text": [
      "AUC-ROC на тестовой выборке:  0.9162229831367271\n"
     ]
    }
   ],
   "source": [
    "#протестируем Catboos на тестовой выборке\n",
    "best_model_cbc = grid_cbc.best_estimator_\n",
    "\n",
    "predicted_proba = best_model_cbc.predict_proba(features_test)\n",
    "\n",
    "probabilities = predicted_proba[:, 1]\n",
    "\n",
    "roc_auc = roc_auc_score(target_test, probabilities)\n",
    "\n",
    "print('AUC-ROC на тестовой выборке: ', roc_auc)"
   ]
  },
  {
   "cell_type": "markdown",
   "metadata": {},
   "source": [
    "смогли получить нужную метрику AUC-ROC >= 0.85\n",
    "\n",
    "AUC-ROC на тестовой выборке = 0.91"
   ]
  },
  {
   "cell_type": "code",
   "execution_count": 37,
   "metadata": {},
   "outputs": [
    {
     "data": {
      "text/plain": [
       "Text(0.5, 1.0, 'Важности признаков')"
      ]
     },
     "execution_count": 37,
     "metadata": {},
     "output_type": "execute_result"
    },
    {
     "data": {
      "image/png": "[encoded data removed]",
      "text/plain": [
       "<Figure size 864x432 with 1 Axes>"
      ]
     },
     "metadata": {
      "needs_background": "light"
     },
     "output_type": "display_data"
    }
   ],
   "source": [
    "#построим график для понимания важности признаков\n",
    "feature_importance = best_model_cbc.feature_importances_\n",
    "sorted_idx = np.argsort(feature_importance)\n",
    "pos = np.arange(sorted_idx.shape[0]) + 0.5\n",
    "fig = plt.figure(figsize=(12, 6))\n",
    "plt.subplot(1, 2, 1)\n",
    "plt.barh(pos, feature_importance[sorted_idx], align=\"center\")\n",
    "plt.yticks(pos, np.array(features_test.columns)[sorted_idx])\n",
    "plt.title(\"Важности признаков\")"
   ]
  },
  {
   "cell_type": "markdown",
   "metadata": {},
   "source": [
    "больше всего важны длительность контракта, одинаково важны расходы за месяц и общие расходы абонента, меньше всего важны является ли абонент пенсионером и его пол"
   ]
  },
  {
   "cell_type": "code",
   "execution_count": 38,
   "metadata": {},
   "outputs": [
    {
     "data": {
      "image/png": "[encoded data removed]",
      "text/plain": [
       "<Figure size 432x288 with 2 Axes>"
      ]
     },
     "metadata": {
      "needs_background": "light"
     },
     "output_type": "display_data"
    }
   ],
   "source": [
    "#выведем матрицу ошибок\n",
    "predictions = best_model_cbc.predict(features_test)\n",
    "confusion = confusion_matrix(target_test, predictions)\n",
    "\n",
    "plt.figure(figsize=(6, 4))\n",
    "sns.heatmap(confusion, annot=True, fmt=\"d\", cmap=\"Blues\")\n",
    "plt.xlabel(\"Предсказано\")\n",
    "plt.ylabel(\"Фактически\")\n",
    "plt.title(\"Матрица ошибок\")\n",
    "plt.show()"
   ]
  },
  {
   "cell_type": "markdown",
   "metadata": {},
   "source": [
    "модель правильно классифицировала большинство отрицательных объектов и довольно неплохо справилась с положительными объектами"
   ]
  },
  {
   "cell_type": "markdown",
   "metadata": {},
   "source": [
    "## Отчет работы"
   ]
  },
  {
   "cell_type": "markdown",
   "metadata": {},
   "source": [
    "### Какие пункты плана были выполнены, а какие - нет(поясните, почему)?"
   ]
  },
  {
   "cell_type": "markdown",
   "metadata": {},
   "source": [
    "-   Подготовка данных\n",
    "    - [x]  Загрузить данные\n",
    "    - [x]  Ознакомиться с данными\n",
    "-   Исследовательский анализ данных\n",
    "    - [x]  Изучение структуры данных, выявление пропусков и аномалий\n",
    "    - [x]  Анализ распределения признаков\n",
    "-   Предобработка данных\n",
    "    - [x]  Преобразовать бинарные признаки в числовые значения\n",
    "    - [x]  Обработать пропуски\n",
    "-   Подготовка данных для обучения модели\n",
    "    - [x]  Выделение целевой переменной и определение признаков\n",
    "    - [x]  Разделение данных на обучающую и тестовую выборки\n",
    "-   Обучение и оценка модели\n",
    "    - [x]  Выбор модели машинного обучения для прогнозирования оттока\n",
    "    - [x]  Обучение модели на обучающей выборке и оценка ее производительности на тестовой выборке, включая оценку метрик"
   ]
  },
  {
   "cell_type": "markdown",
   "metadata": {},
   "source": [
    "Все пункты плана выполнены."
   ]
  },
  {
   "cell_type": "markdown",
   "metadata": {},
   "source": [
    "### Какие трудности возникли и как вы с ними справились?"
   ]
  },
  {
   "cell_type": "markdown",
   "metadata": {},
   "source": [
    "Возникли проблемы с низкой метрикой AUC-ROC модели RandomForest, потом я сделал нормированние числовых данных и метрика улучшилась. Еще я сделал кодирование данных до разделения на выборки, после замечания ментора сделал как надо."
   ]
  },
  {
   "cell_type": "markdown",
   "metadata": {},
   "source": [
    "### Какие ключевые шаги в решении задачи выделили?"
   ]
  },
  {
   "cell_type": "markdown",
   "metadata": {},
   "source": [
    "- подготовка и предобработка данных\n",
    "- анализ данных\n",
    "- создание новых и удаление ненужных признаков\n",
    "- подготовка данных для обучения\n",
    "- поиск лучшей модели\n",
    "- тестирование лучшей модели\n",
    "- анализ лучшей модели"
   ]
  },
  {
   "cell_type": "markdown",
   "metadata": {},
   "source": [
    "### Какая итоговая модель, какие у нее гиперпараметры и какое качество?"
   ]
  },
  {
   "cell_type": "markdown",
   "metadata": {},
   "source": [
    "Лучшая модель это `CatBoostClassifier` с гиперпараметрами:\n",
    "- depth=6\n",
    "- iterations=1000\n",
    "- l2_leaf_reg=1\n",
    "- learning_rate=0.1\n",
    "- random_state=161023\n",
    "\n",
    "Итоговое качество:\n",
    "- AUC-ROC = 0.91"
   ]
  },
  {
   "cell_type": "markdown",
   "metadata": {},
   "source": [
    "### Список признаков, используемых для обучения лучшей модели, описание их предобработки."
   ]
  },
  {
   "cell_type": "markdown",
   "metadata": {},
   "source": [
    "- customer_left\n",
    "- contract_duration\n",
    "- monthlycharges\n",
    "- totalcharges\n",
    "- type\n",
    "- paymentmethod\n",
    "- multiplelines\n",
    "- partner\n",
    "- onlinebackup\n",
    "- deviceprotection\n",
    "- streamingtv\n",
    "- dependents\n",
    "- onlinesecurity\n",
    "- streamingmovies\n",
    "- techsupport\n",
    "- internetservice\n",
    "- paperlessbilling\n",
    "- gender\n",
    "- seniorcitizen\n",
    "\n",
    "  Привел названия всех столбцов к нижнему регистру. \n",
    "  \n",
    "  Удалил строки с пропусками в столбце totalcharges и привел к нужному типу данных. \n",
    "  \n",
    "  Добавил целевой признак customer_left. \n",
    "  \n",
    "  Добавил признак contract_duration. \n",
    "  \n",
    "  Разделил данные на выборки размером 75% - тренировочная и 25% - тестовая.\n",
    "  \n",
    "  Для кодирования категориальных данных использовал OneHotEncoder, для масштабирование числовых данных использовал StandardScaler."
   ]
  }
 ],
 "metadata": {
  "ExecuteTimeLog": [
   {
    "duration": 5,
    "start_time": "2023-10-27T18:05:33.898Z"
   }
  ],
  "kernelspec": {
   "display_name": "Python 3 (ipykernel)",
   "language": "python",
   "name": "python3"
  },
  "language_info": {
   "codemirror_mode": {
    "name": "ipython",
    "version": 3
   },
   "file_extension": ".py",
   "mimetype": "text/x-python",
   "name": "python",
   "nbconvert_exporter": "python",
   "pygments_lexer": "ipython3",
   "version": "3.11.4"
  },
  "toc": {
   "base_numbering": 1,
   "nav_menu": {},
   "number_sections": true,
   "sideBar": true,
   "skip_h1_title": true,
   "title_cell": "Table of Contents",
   "title_sidebar": "Contents",
   "toc_cell": false,
   "toc_position": {},
   "toc_section_display": true,
   "toc_window_display": false
  }
 },
 "nbformat": 4,
 "nbformat_minor": 2
}
