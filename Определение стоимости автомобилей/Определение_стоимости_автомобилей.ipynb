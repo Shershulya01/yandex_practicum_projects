{
 "cells": [
  {
   "cell_type": "markdown",
   "metadata": {},
   "source": [
    "# Определение стоимости автомобилей"
   ]
  },
  {
   "cell_type": "markdown",
   "metadata": {},
   "source": [
    "Сервис по продаже автомобилей с пробегом «Не бит, не крашен» разрабатывает приложение для привлечения новых клиентов. В нём можно быстро узнать рыночную стоимость своего автомобиля. В вашем распоряжении исторические данные: технические характеристики, комплектации и цены автомобилей. Вам нужно построить модель для определения стоимости. \n",
    "\n",
    "Заказчику важны:\n",
    "\n",
    "- качество предсказания;\n",
    "- скорость предсказания;\n",
    "- время обучения."
   ]
  },
  {
   "cell_type": "markdown",
   "metadata": {},
   "source": [
    "## Подготовка данных"
   ]
  },
  {
   "cell_type": "code",
   "execution_count": 1,
   "metadata": {},
   "outputs": [],
   "source": [
    "import pandas as pd\n",
    "import numpy as np\n",
    "import matplotlib.pyplot as plt\n",
    "from sklearn.linear_model import LinearRegression\n",
    "from catboost import CatBoostRegressor\n",
    "from lightgbm import LGBMRegressor\n",
    "from sklearn.metrics import mean_squared_error\n",
    "from sklearn.model_selection import train_test_split, cross_val_score, GridSearchCV\n",
    "from sklearn.preprocessing import StandardScaler, OrdinalEncoder\n",
    "\n",
    "import warnings\n",
    "warnings.filterwarnings(\"ignore\")"
   ]
  },
  {
   "cell_type": "code",
   "execution_count": 2,
   "metadata": {},
   "outputs": [],
   "source": [
    "data = pd.read_csv('/datasets/autos.csv')"
   ]
  },
  {
   "cell_type": "code",
   "execution_count": 3,
   "metadata": {
    "scrolled": false
   },
   "outputs": [
    {
     "name": "stdout",
     "output_type": "stream",
     "text": [
      "<class 'pandas.core.frame.DataFrame'>\n",
      "RangeIndex: 354369 entries, 0 to 354368\n",
      "Data columns (total 16 columns):\n",
      " #   Column             Non-Null Count   Dtype \n",
      "---  ------             --------------   ----- \n",
      " 0   DateCrawled        354369 non-null  object\n",
      " 1   Price              354369 non-null  int64 \n",
      " 2   VehicleType        316879 non-null  object\n",
      " 3   RegistrationYear   354369 non-null  int64 \n",
      " 4   Gearbox            334536 non-null  object\n",
      " 5   Power              354369 non-null  int64 \n",
      " 6   Model              334664 non-null  object\n",
      " 7   Kilometer          354369 non-null  int64 \n",
      " 8   RegistrationMonth  354369 non-null  int64 \n",
      " 9   FuelType           321474 non-null  object\n",
      " 10  Brand              354369 non-null  object\n",
      " 11  Repaired           283215 non-null  object\n",
      " 12  DateCreated        354369 non-null  object\n",
      " 13  NumberOfPictures   354369 non-null  int64 \n",
      " 14  PostalCode         354369 non-null  int64 \n",
      " 15  LastSeen           354369 non-null  object\n",
      "dtypes: int64(7), object(9)\n",
      "memory usage: 43.3+ MB\n"
     ]
    },
    {
     "data": {
      "text/plain": [
       "None"
      ]
     },
     "metadata": {},
     "output_type": "display_data"
    }
   ],
   "source": [
    "display(data.info())"
   ]
  },
  {
   "cell_type": "code",
   "execution_count": 4,
   "metadata": {},
   "outputs": [
    {
     "data": {
      "text/html": [
       "<div>\n",
       "<style scoped>\n",
       "    .dataframe tbody tr th:only-of-type {\n",
       "        vertical-align: middle;\n",
       "    }\n",
       "\n",
       "    .dataframe tbody tr th {\n",
       "        vertical-align: top;\n",
       "    }\n",
       "\n",
       "    .dataframe thead th {\n",
       "        text-align: right;\n",
       "    }\n",
       "</style>\n",
       "<table border=\"1\" class=\"dataframe\">\n",
       "  <thead>\n",
       "    <tr style=\"text-align: right;\">\n",
       "      <th></th>\n",
       "      <th>DateCrawled</th>\n",
       "      <th>Price</th>\n",
       "      <th>VehicleType</th>\n",
       "      <th>RegistrationYear</th>\n",
       "      <th>Gearbox</th>\n",
       "      <th>Power</th>\n",
       "      <th>Model</th>\n",
       "      <th>Kilometer</th>\n",
       "      <th>RegistrationMonth</th>\n",
       "      <th>FuelType</th>\n",
       "      <th>Brand</th>\n",
       "      <th>Repaired</th>\n",
       "      <th>DateCreated</th>\n",
       "      <th>NumberOfPictures</th>\n",
       "      <th>PostalCode</th>\n",
       "      <th>LastSeen</th>\n",
       "    </tr>\n",
       "  </thead>\n",
       "  <tbody>\n",
       "    <tr>\n",
       "      <th>0</th>\n",
       "      <td>2016-03-24 11:52:17</td>\n",
       "      <td>480</td>\n",
       "      <td>NaN</td>\n",
       "      <td>1993</td>\n",
       "      <td>manual</td>\n",
       "      <td>0</td>\n",
       "      <td>golf</td>\n",
       "      <td>150000</td>\n",
       "      <td>0</td>\n",
       "      <td>petrol</td>\n",
       "      <td>volkswagen</td>\n",
       "      <td>NaN</td>\n",
       "      <td>2016-03-24 00:00:00</td>\n",
       "      <td>0</td>\n",
       "      <td>70435</td>\n",
       "      <td>2016-04-07 03:16:57</td>\n",
       "    </tr>\n",
       "    <tr>\n",
       "      <th>1</th>\n",
       "      <td>2016-03-24 10:58:45</td>\n",
       "      <td>18300</td>\n",
       "      <td>coupe</td>\n",
       "      <td>2011</td>\n",
       "      <td>manual</td>\n",
       "      <td>190</td>\n",
       "      <td>NaN</td>\n",
       "      <td>125000</td>\n",
       "      <td>5</td>\n",
       "      <td>gasoline</td>\n",
       "      <td>audi</td>\n",
       "      <td>yes</td>\n",
       "      <td>2016-03-24 00:00:00</td>\n",
       "      <td>0</td>\n",
       "      <td>66954</td>\n",
       "      <td>2016-04-07 01:46:50</td>\n",
       "    </tr>\n",
       "    <tr>\n",
       "      <th>2</th>\n",
       "      <td>2016-03-14 12:52:21</td>\n",
       "      <td>9800</td>\n",
       "      <td>suv</td>\n",
       "      <td>2004</td>\n",
       "      <td>auto</td>\n",
       "      <td>163</td>\n",
       "      <td>grand</td>\n",
       "      <td>125000</td>\n",
       "      <td>8</td>\n",
       "      <td>gasoline</td>\n",
       "      <td>jeep</td>\n",
       "      <td>NaN</td>\n",
       "      <td>2016-03-14 00:00:00</td>\n",
       "      <td>0</td>\n",
       "      <td>90480</td>\n",
       "      <td>2016-04-05 12:47:46</td>\n",
       "    </tr>\n",
       "    <tr>\n",
       "      <th>3</th>\n",
       "      <td>2016-03-17 16:54:04</td>\n",
       "      <td>1500</td>\n",
       "      <td>small</td>\n",
       "      <td>2001</td>\n",
       "      <td>manual</td>\n",
       "      <td>75</td>\n",
       "      <td>golf</td>\n",
       "      <td>150000</td>\n",
       "      <td>6</td>\n",
       "      <td>petrol</td>\n",
       "      <td>volkswagen</td>\n",
       "      <td>no</td>\n",
       "      <td>2016-03-17 00:00:00</td>\n",
       "      <td>0</td>\n",
       "      <td>91074</td>\n",
       "      <td>2016-03-17 17:40:17</td>\n",
       "    </tr>\n",
       "    <tr>\n",
       "      <th>4</th>\n",
       "      <td>2016-03-31 17:25:20</td>\n",
       "      <td>3600</td>\n",
       "      <td>small</td>\n",
       "      <td>2008</td>\n",
       "      <td>manual</td>\n",
       "      <td>69</td>\n",
       "      <td>fabia</td>\n",
       "      <td>90000</td>\n",
       "      <td>7</td>\n",
       "      <td>gasoline</td>\n",
       "      <td>skoda</td>\n",
       "      <td>no</td>\n",
       "      <td>2016-03-31 00:00:00</td>\n",
       "      <td>0</td>\n",
       "      <td>60437</td>\n",
       "      <td>2016-04-06 10:17:21</td>\n",
       "    </tr>\n",
       "    <tr>\n",
       "      <th>5</th>\n",
       "      <td>2016-04-04 17:36:23</td>\n",
       "      <td>650</td>\n",
       "      <td>sedan</td>\n",
       "      <td>1995</td>\n",
       "      <td>manual</td>\n",
       "      <td>102</td>\n",
       "      <td>3er</td>\n",
       "      <td>150000</td>\n",
       "      <td>10</td>\n",
       "      <td>petrol</td>\n",
       "      <td>bmw</td>\n",
       "      <td>yes</td>\n",
       "      <td>2016-04-04 00:00:00</td>\n",
       "      <td>0</td>\n",
       "      <td>33775</td>\n",
       "      <td>2016-04-06 19:17:07</td>\n",
       "    </tr>\n",
       "    <tr>\n",
       "      <th>6</th>\n",
       "      <td>2016-04-01 20:48:51</td>\n",
       "      <td>2200</td>\n",
       "      <td>convertible</td>\n",
       "      <td>2004</td>\n",
       "      <td>manual</td>\n",
       "      <td>109</td>\n",
       "      <td>2_reihe</td>\n",
       "      <td>150000</td>\n",
       "      <td>8</td>\n",
       "      <td>petrol</td>\n",
       "      <td>peugeot</td>\n",
       "      <td>no</td>\n",
       "      <td>2016-04-01 00:00:00</td>\n",
       "      <td>0</td>\n",
       "      <td>67112</td>\n",
       "      <td>2016-04-05 18:18:39</td>\n",
       "    </tr>\n",
       "    <tr>\n",
       "      <th>7</th>\n",
       "      <td>2016-03-21 18:54:38</td>\n",
       "      <td>0</td>\n",
       "      <td>sedan</td>\n",
       "      <td>1980</td>\n",
       "      <td>manual</td>\n",
       "      <td>50</td>\n",
       "      <td>other</td>\n",
       "      <td>40000</td>\n",
       "      <td>7</td>\n",
       "      <td>petrol</td>\n",
       "      <td>volkswagen</td>\n",
       "      <td>no</td>\n",
       "      <td>2016-03-21 00:00:00</td>\n",
       "      <td>0</td>\n",
       "      <td>19348</td>\n",
       "      <td>2016-03-25 16:47:58</td>\n",
       "    </tr>\n",
       "    <tr>\n",
       "      <th>8</th>\n",
       "      <td>2016-04-04 23:42:13</td>\n",
       "      <td>14500</td>\n",
       "      <td>bus</td>\n",
       "      <td>2014</td>\n",
       "      <td>manual</td>\n",
       "      <td>125</td>\n",
       "      <td>c_max</td>\n",
       "      <td>30000</td>\n",
       "      <td>8</td>\n",
       "      <td>petrol</td>\n",
       "      <td>ford</td>\n",
       "      <td>NaN</td>\n",
       "      <td>2016-04-04 00:00:00</td>\n",
       "      <td>0</td>\n",
       "      <td>94505</td>\n",
       "      <td>2016-04-04 23:42:13</td>\n",
       "    </tr>\n",
       "    <tr>\n",
       "      <th>9</th>\n",
       "      <td>2016-03-17 10:53:50</td>\n",
       "      <td>999</td>\n",
       "      <td>small</td>\n",
       "      <td>1998</td>\n",
       "      <td>manual</td>\n",
       "      <td>101</td>\n",
       "      <td>golf</td>\n",
       "      <td>150000</td>\n",
       "      <td>0</td>\n",
       "      <td>NaN</td>\n",
       "      <td>volkswagen</td>\n",
       "      <td>NaN</td>\n",
       "      <td>2016-03-17 00:00:00</td>\n",
       "      <td>0</td>\n",
       "      <td>27472</td>\n",
       "      <td>2016-03-31 17:17:06</td>\n",
       "    </tr>\n",
       "  </tbody>\n",
       "</table>\n",
       "</div>"
      ],
      "text/plain": [
       "           DateCrawled  Price  VehicleType  RegistrationYear Gearbox  Power  \\\n",
       "0  2016-03-24 11:52:17    480          NaN              1993  manual      0   \n",
       "1  2016-03-24 10:58:45  18300        coupe              2011  manual    190   \n",
       "2  2016-03-14 12:52:21   9800          suv              2004    auto    163   \n",
       "3  2016-03-17 16:54:04   1500        small              2001  manual     75   \n",
       "4  2016-03-31 17:25:20   3600        small              2008  manual     69   \n",
       "5  2016-04-04 17:36:23    650        sedan              1995  manual    102   \n",
       "6  2016-04-01 20:48:51   2200  convertible              2004  manual    109   \n",
       "7  2016-03-21 18:54:38      0        sedan              1980  manual     50   \n",
       "8  2016-04-04 23:42:13  14500          bus              2014  manual    125   \n",
       "9  2016-03-17 10:53:50    999        small              1998  manual    101   \n",
       "\n",
       "     Model  Kilometer  RegistrationMonth  FuelType       Brand Repaired  \\\n",
       "0     golf     150000                  0    petrol  volkswagen      NaN   \n",
       "1      NaN     125000                  5  gasoline        audi      yes   \n",
       "2    grand     125000                  8  gasoline        jeep      NaN   \n",
       "3     golf     150000                  6    petrol  volkswagen       no   \n",
       "4    fabia      90000                  7  gasoline       skoda       no   \n",
       "5      3er     150000                 10    petrol         bmw      yes   \n",
       "6  2_reihe     150000                  8    petrol     peugeot       no   \n",
       "7    other      40000                  7    petrol  volkswagen       no   \n",
       "8    c_max      30000                  8    petrol        ford      NaN   \n",
       "9     golf     150000                  0       NaN  volkswagen      NaN   \n",
       "\n",
       "           DateCreated  NumberOfPictures  PostalCode             LastSeen  \n",
       "0  2016-03-24 00:00:00                 0       70435  2016-04-07 03:16:57  \n",
       "1  2016-03-24 00:00:00                 0       66954  2016-04-07 01:46:50  \n",
       "2  2016-03-14 00:00:00                 0       90480  2016-04-05 12:47:46  \n",
       "3  2016-03-17 00:00:00                 0       91074  2016-03-17 17:40:17  \n",
       "4  2016-03-31 00:00:00                 0       60437  2016-04-06 10:17:21  \n",
       "5  2016-04-04 00:00:00                 0       33775  2016-04-06 19:17:07  \n",
       "6  2016-04-01 00:00:00                 0       67112  2016-04-05 18:18:39  \n",
       "7  2016-03-21 00:00:00                 0       19348  2016-03-25 16:47:58  \n",
       "8  2016-04-04 00:00:00                 0       94505  2016-04-04 23:42:13  \n",
       "9  2016-03-17 00:00:00                 0       27472  2016-03-31 17:17:06  "
      ]
     },
     "metadata": {},
     "output_type": "display_data"
    }
   ],
   "source": [
    "display(data.head(10))"
   ]
  },
  {
   "cell_type": "code",
   "execution_count": 5,
   "metadata": {},
   "outputs": [
    {
     "data": {
      "text/html": [
       "<div>\n",
       "<style scoped>\n",
       "    .dataframe tbody tr th:only-of-type {\n",
       "        vertical-align: middle;\n",
       "    }\n",
       "\n",
       "    .dataframe tbody tr th {\n",
       "        vertical-align: top;\n",
       "    }\n",
       "\n",
       "    .dataframe thead th {\n",
       "        text-align: right;\n",
       "    }\n",
       "</style>\n",
       "<table border=\"1\" class=\"dataframe\">\n",
       "  <thead>\n",
       "    <tr style=\"text-align: right;\">\n",
       "      <th></th>\n",
       "      <th>Price</th>\n",
       "      <th>RegistrationYear</th>\n",
       "      <th>Power</th>\n",
       "      <th>Kilometer</th>\n",
       "      <th>RegistrationMonth</th>\n",
       "      <th>NumberOfPictures</th>\n",
       "      <th>PostalCode</th>\n",
       "    </tr>\n",
       "  </thead>\n",
       "  <tbody>\n",
       "    <tr>\n",
       "      <th>count</th>\n",
       "      <td>354369.000000</td>\n",
       "      <td>354369.000000</td>\n",
       "      <td>354369.000000</td>\n",
       "      <td>354369.000000</td>\n",
       "      <td>354369.000000</td>\n",
       "      <td>354369.0</td>\n",
       "      <td>354369.000000</td>\n",
       "    </tr>\n",
       "    <tr>\n",
       "      <th>mean</th>\n",
       "      <td>4416.656776</td>\n",
       "      <td>2004.234448</td>\n",
       "      <td>110.094337</td>\n",
       "      <td>128211.172535</td>\n",
       "      <td>5.714645</td>\n",
       "      <td>0.0</td>\n",
       "      <td>50508.689087</td>\n",
       "    </tr>\n",
       "    <tr>\n",
       "      <th>std</th>\n",
       "      <td>4514.158514</td>\n",
       "      <td>90.227958</td>\n",
       "      <td>189.850405</td>\n",
       "      <td>37905.341530</td>\n",
       "      <td>3.726421</td>\n",
       "      <td>0.0</td>\n",
       "      <td>25783.096248</td>\n",
       "    </tr>\n",
       "    <tr>\n",
       "      <th>min</th>\n",
       "      <td>0.000000</td>\n",
       "      <td>1000.000000</td>\n",
       "      <td>0.000000</td>\n",
       "      <td>5000.000000</td>\n",
       "      <td>0.000000</td>\n",
       "      <td>0.0</td>\n",
       "      <td>1067.000000</td>\n",
       "    </tr>\n",
       "    <tr>\n",
       "      <th>25%</th>\n",
       "      <td>1050.000000</td>\n",
       "      <td>1999.000000</td>\n",
       "      <td>69.000000</td>\n",
       "      <td>125000.000000</td>\n",
       "      <td>3.000000</td>\n",
       "      <td>0.0</td>\n",
       "      <td>30165.000000</td>\n",
       "    </tr>\n",
       "    <tr>\n",
       "      <th>50%</th>\n",
       "      <td>2700.000000</td>\n",
       "      <td>2003.000000</td>\n",
       "      <td>105.000000</td>\n",
       "      <td>150000.000000</td>\n",
       "      <td>6.000000</td>\n",
       "      <td>0.0</td>\n",
       "      <td>49413.000000</td>\n",
       "    </tr>\n",
       "    <tr>\n",
       "      <th>75%</th>\n",
       "      <td>6400.000000</td>\n",
       "      <td>2008.000000</td>\n",
       "      <td>143.000000</td>\n",
       "      <td>150000.000000</td>\n",
       "      <td>9.000000</td>\n",
       "      <td>0.0</td>\n",
       "      <td>71083.000000</td>\n",
       "    </tr>\n",
       "    <tr>\n",
       "      <th>max</th>\n",
       "      <td>20000.000000</td>\n",
       "      <td>9999.000000</td>\n",
       "      <td>20000.000000</td>\n",
       "      <td>150000.000000</td>\n",
       "      <td>12.000000</td>\n",
       "      <td>0.0</td>\n",
       "      <td>99998.000000</td>\n",
       "    </tr>\n",
       "  </tbody>\n",
       "</table>\n",
       "</div>"
      ],
      "text/plain": [
       "               Price  RegistrationYear          Power      Kilometer  \\\n",
       "count  354369.000000     354369.000000  354369.000000  354369.000000   \n",
       "mean     4416.656776       2004.234448     110.094337  128211.172535   \n",
       "std      4514.158514         90.227958     189.850405   37905.341530   \n",
       "min         0.000000       1000.000000       0.000000    5000.000000   \n",
       "25%      1050.000000       1999.000000      69.000000  125000.000000   \n",
       "50%      2700.000000       2003.000000     105.000000  150000.000000   \n",
       "75%      6400.000000       2008.000000     143.000000  150000.000000   \n",
       "max     20000.000000       9999.000000   20000.000000  150000.000000   \n",
       "\n",
       "       RegistrationMonth  NumberOfPictures     PostalCode  \n",
       "count      354369.000000          354369.0  354369.000000  \n",
       "mean            5.714645               0.0   50508.689087  \n",
       "std             3.726421               0.0   25783.096248  \n",
       "min             0.000000               0.0    1067.000000  \n",
       "25%             3.000000               0.0   30165.000000  \n",
       "50%             6.000000               0.0   49413.000000  \n",
       "75%             9.000000               0.0   71083.000000  \n",
       "max            12.000000               0.0   99998.000000  "
      ]
     },
     "execution_count": 5,
     "metadata": {},
     "output_type": "execute_result"
    }
   ],
   "source": [
    "data.describe()"
   ]
  },
  {
   "cell_type": "code",
   "execution_count": 6,
   "metadata": {},
   "outputs": [
    {
     "data": {
      "text/plain": [
       "array([[<Axes: title={'center': 'Price'}>,\n",
       "        <Axes: title={'center': 'RegistrationYear'}>,\n",
       "        <Axes: title={'center': 'Power'}>],\n",
       "       [<Axes: title={'center': 'Kilometer'}>,\n",
       "        <Axes: title={'center': 'RegistrationMonth'}>,\n",
       "        <Axes: title={'center': 'NumberOfPictures'}>],\n",
       "       [<Axes: title={'center': 'PostalCode'}>, <Axes: >, <Axes: >]],\n",
       "      dtype=object)"
      ]
     },
     "execution_count": 6,
     "metadata": {},
     "output_type": "execute_result"
    },
    {
     "data": {
      "image/png": "[encoded data removed]",
      "text/plain": [
       "<Figure size 1600x1000 with 9 Axes>"
      ]
     },
     "metadata": {},
     "output_type": "display_data"
    }
   ],
   "source": [
    "data.hist(figsize=(16, 10))"
   ]
  },
  {
   "cell_type": "markdown",
   "metadata": {},
   "source": [
    "**Вывод:**\n",
    "\n",
    "Есть пропуски в столбцах `VehicleType, Gearbox, Model, FuelType, Repaired`. Есть аномалии в стобце `RegistrationYear, Power`, слишком маленькие и большие значения. Видно большое количество машин ценой от 0 до 2500 евро, основная масса пробега около 140000 км"
   ]
  },
  {
   "cell_type": "markdown",
   "metadata": {},
   "source": [
    "# Предобработка данных"
   ]
  },
  {
   "cell_type": "code",
   "execution_count": 7,
   "metadata": {},
   "outputs": [],
   "source": [
    "data.columns = data.columns.str.lower()"
   ]
  },
  {
   "cell_type": "code",
   "execution_count": 8,
   "metadata": {},
   "outputs": [
    {
     "data": {
      "text/html": [
       "<div>\n",
       "<style scoped>\n",
       "    .dataframe tbody tr th:only-of-type {\n",
       "        vertical-align: middle;\n",
       "    }\n",
       "\n",
       "    .dataframe tbody tr th {\n",
       "        vertical-align: top;\n",
       "    }\n",
       "\n",
       "    .dataframe thead th {\n",
       "        text-align: right;\n",
       "    }\n",
       "</style>\n",
       "<table border=\"1\" class=\"dataframe\">\n",
       "  <thead>\n",
       "    <tr style=\"text-align: right;\">\n",
       "      <th></th>\n",
       "      <th>price</th>\n",
       "      <th>vehicletype</th>\n",
       "      <th>registrationyear</th>\n",
       "      <th>gearbox</th>\n",
       "      <th>power</th>\n",
       "      <th>model</th>\n",
       "      <th>kilometer</th>\n",
       "      <th>fueltype</th>\n",
       "      <th>brand</th>\n",
       "      <th>repaired</th>\n",
       "    </tr>\n",
       "  </thead>\n",
       "  <tbody>\n",
       "    <tr>\n",
       "      <th>0</th>\n",
       "      <td>480</td>\n",
       "      <td>NaN</td>\n",
       "      <td>1993</td>\n",
       "      <td>manual</td>\n",
       "      <td>0</td>\n",
       "      <td>golf</td>\n",
       "      <td>150000</td>\n",
       "      <td>petrol</td>\n",
       "      <td>volkswagen</td>\n",
       "      <td>NaN</td>\n",
       "    </tr>\n",
       "    <tr>\n",
       "      <th>1</th>\n",
       "      <td>18300</td>\n",
       "      <td>coupe</td>\n",
       "      <td>2011</td>\n",
       "      <td>manual</td>\n",
       "      <td>190</td>\n",
       "      <td>NaN</td>\n",
       "      <td>125000</td>\n",
       "      <td>gasoline</td>\n",
       "      <td>audi</td>\n",
       "      <td>yes</td>\n",
       "    </tr>\n",
       "    <tr>\n",
       "      <th>2</th>\n",
       "      <td>9800</td>\n",
       "      <td>suv</td>\n",
       "      <td>2004</td>\n",
       "      <td>auto</td>\n",
       "      <td>163</td>\n",
       "      <td>grand</td>\n",
       "      <td>125000</td>\n",
       "      <td>gasoline</td>\n",
       "      <td>jeep</td>\n",
       "      <td>NaN</td>\n",
       "    </tr>\n",
       "    <tr>\n",
       "      <th>3</th>\n",
       "      <td>1500</td>\n",
       "      <td>small</td>\n",
       "      <td>2001</td>\n",
       "      <td>manual</td>\n",
       "      <td>75</td>\n",
       "      <td>golf</td>\n",
       "      <td>150000</td>\n",
       "      <td>petrol</td>\n",
       "      <td>volkswagen</td>\n",
       "      <td>no</td>\n",
       "    </tr>\n",
       "    <tr>\n",
       "      <th>4</th>\n",
       "      <td>3600</td>\n",
       "      <td>small</td>\n",
       "      <td>2008</td>\n",
       "      <td>manual</td>\n",
       "      <td>69</td>\n",
       "      <td>fabia</td>\n",
       "      <td>90000</td>\n",
       "      <td>gasoline</td>\n",
       "      <td>skoda</td>\n",
       "      <td>no</td>\n",
       "    </tr>\n",
       "    <tr>\n",
       "      <th>...</th>\n",
       "      <td>...</td>\n",
       "      <td>...</td>\n",
       "      <td>...</td>\n",
       "      <td>...</td>\n",
       "      <td>...</td>\n",
       "      <td>...</td>\n",
       "      <td>...</td>\n",
       "      <td>...</td>\n",
       "      <td>...</td>\n",
       "      <td>...</td>\n",
       "    </tr>\n",
       "    <tr>\n",
       "      <th>354364</th>\n",
       "      <td>0</td>\n",
       "      <td>NaN</td>\n",
       "      <td>2005</td>\n",
       "      <td>manual</td>\n",
       "      <td>0</td>\n",
       "      <td>colt</td>\n",
       "      <td>150000</td>\n",
       "      <td>petrol</td>\n",
       "      <td>mitsubishi</td>\n",
       "      <td>yes</td>\n",
       "    </tr>\n",
       "    <tr>\n",
       "      <th>354365</th>\n",
       "      <td>2200</td>\n",
       "      <td>NaN</td>\n",
       "      <td>2005</td>\n",
       "      <td>NaN</td>\n",
       "      <td>0</td>\n",
       "      <td>NaN</td>\n",
       "      <td>20000</td>\n",
       "      <td>NaN</td>\n",
       "      <td>sonstige_autos</td>\n",
       "      <td>NaN</td>\n",
       "    </tr>\n",
       "    <tr>\n",
       "      <th>354366</th>\n",
       "      <td>1199</td>\n",
       "      <td>convertible</td>\n",
       "      <td>2000</td>\n",
       "      <td>auto</td>\n",
       "      <td>101</td>\n",
       "      <td>fortwo</td>\n",
       "      <td>125000</td>\n",
       "      <td>petrol</td>\n",
       "      <td>smart</td>\n",
       "      <td>no</td>\n",
       "    </tr>\n",
       "    <tr>\n",
       "      <th>354367</th>\n",
       "      <td>9200</td>\n",
       "      <td>bus</td>\n",
       "      <td>1996</td>\n",
       "      <td>manual</td>\n",
       "      <td>102</td>\n",
       "      <td>transporter</td>\n",
       "      <td>150000</td>\n",
       "      <td>gasoline</td>\n",
       "      <td>volkswagen</td>\n",
       "      <td>no</td>\n",
       "    </tr>\n",
       "    <tr>\n",
       "      <th>354368</th>\n",
       "      <td>3400</td>\n",
       "      <td>wagon</td>\n",
       "      <td>2002</td>\n",
       "      <td>manual</td>\n",
       "      <td>100</td>\n",
       "      <td>golf</td>\n",
       "      <td>150000</td>\n",
       "      <td>gasoline</td>\n",
       "      <td>volkswagen</td>\n",
       "      <td>NaN</td>\n",
       "    </tr>\n",
       "  </tbody>\n",
       "</table>\n",
       "<p>354369 rows × 10 columns</p>\n",
       "</div>"
      ],
      "text/plain": [
       "        price  vehicletype  registrationyear gearbox  power        model  \\\n",
       "0         480          NaN              1993  manual      0         golf   \n",
       "1       18300        coupe              2011  manual    190          NaN   \n",
       "2        9800          suv              2004    auto    163        grand   \n",
       "3        1500        small              2001  manual     75         golf   \n",
       "4        3600        small              2008  manual     69        fabia   \n",
       "...       ...          ...               ...     ...    ...          ...   \n",
       "354364      0          NaN              2005  manual      0         colt   \n",
       "354365   2200          NaN              2005     NaN      0          NaN   \n",
       "354366   1199  convertible              2000    auto    101       fortwo   \n",
       "354367   9200          bus              1996  manual    102  transporter   \n",
       "354368   3400        wagon              2002  manual    100         golf   \n",
       "\n",
       "        kilometer  fueltype           brand repaired  \n",
       "0          150000    petrol      volkswagen      NaN  \n",
       "1          125000  gasoline            audi      yes  \n",
       "2          125000  gasoline            jeep      NaN  \n",
       "3          150000    petrol      volkswagen       no  \n",
       "4           90000  gasoline           skoda       no  \n",
       "...           ...       ...             ...      ...  \n",
       "354364     150000    petrol      mitsubishi      yes  \n",
       "354365      20000       NaN  sonstige_autos      NaN  \n",
       "354366     125000    petrol           smart       no  \n",
       "354367     150000  gasoline      volkswagen       no  \n",
       "354368     150000  gasoline      volkswagen      NaN  \n",
       "\n",
       "[354369 rows x 10 columns]"
      ]
     },
     "execution_count": 8,
     "metadata": {},
     "output_type": "execute_result"
    }
   ],
   "source": [
    "#удалим ненужные для обучения столбцы\n",
    "data = data.drop(columns=['lastseen', 'datecrawled', 'registrationmonth', 'datecreated', 'numberofpictures', 'postalcode'])\n",
    "data"
   ]
  },
  {
   "cell_type": "code",
   "execution_count": 9,
   "metadata": {},
   "outputs": [
    {
     "data": {
      "text/plain": [
       "repaired            71154\n",
       "vehicletype         37490\n",
       "fueltype            32895\n",
       "gearbox             19833\n",
       "model               19705\n",
       "price                   0\n",
       "registrationyear        0\n",
       "power                   0\n",
       "kilometer               0\n",
       "brand                   0\n",
       "dtype: int64"
      ]
     },
     "execution_count": 9,
     "metadata": {},
     "output_type": "execute_result"
    }
   ],
   "source": [
    "#посмотрим количество пропусков\n",
    "data.isna().sum().sort_values(ascending=False)"
   ]
  },
  {
   "cell_type": "code",
   "execution_count": 10,
   "metadata": {},
   "outputs": [],
   "source": [
    "#заполним пропуски\n",
    "data['repaired'] = data['repaired'].fillna('unknown')\n",
    "data['vehicletype'] = data['vehicletype'].fillna('unknown')\n",
    "data['fueltype'] = data['fueltype'].fillna('unknown')\n",
    "data['gearbox'] = data['gearbox'].fillna('unknown')\n",
    "data['model'] = data['model'].fillna('unknown')"
   ]
  },
  {
   "cell_type": "code",
   "execution_count": 11,
   "metadata": {},
   "outputs": [
    {
     "data": {
      "text/plain": [
       "45040"
      ]
     },
     "execution_count": 11,
     "metadata": {},
     "output_type": "execute_result"
    }
   ],
   "source": [
    "#посмотрим количество дубликатов\n",
    "data.duplicated().sum()"
   ]
  },
  {
   "cell_type": "code",
   "execution_count": 12,
   "metadata": {},
   "outputs": [],
   "source": [
    "#удалим дубликаты\n",
    "data = data.drop_duplicates().reset_index(drop=True)"
   ]
  },
  {
   "cell_type": "code",
   "execution_count": 13,
   "metadata": {},
   "outputs": [
    {
     "data": {
      "text/plain": [
       "0    8904\n",
       "1    1075\n",
       "2      12\n",
       "3       7\n",
       "4       1\n",
       "Name: price, dtype: int64"
      ]
     },
     "execution_count": 13,
     "metadata": {},
     "output_type": "execute_result"
    }
   ],
   "source": [
    "#посмотрим уникальные значения столбца цены\n",
    "data['price'].value_counts().sort_index().head()"
   ]
  },
  {
   "cell_type": "markdown",
   "metadata": {},
   "source": [
    "видно много значений ниже 1"
   ]
  },
  {
   "cell_type": "code",
   "execution_count": 14,
   "metadata": {},
   "outputs": [
    {
     "data": {
      "text/plain": [
       "0    8904\n",
       "1    1075\n",
       "2      12\n",
       "3       7\n",
       "4       1\n",
       "Name: price, dtype: int64"
      ]
     },
     "execution_count": 14,
     "metadata": {},
     "output_type": "execute_result"
    }
   ],
   "source": [
    "#посмотрим значения до 100 евро\n",
    "data[data['price']<100]['price'].value_counts().sort_index().head()"
   ]
  },
  {
   "cell_type": "code",
   "execution_count": 15,
   "metadata": {},
   "outputs": [
    {
     "data": {
      "text/plain": [
       "<Axes: >"
      ]
     },
     "execution_count": 15,
     "metadata": {},
     "output_type": "execute_result"
    },
    {
     "data": {
      "image/png": "[encoded data removed]",
      "text/plain": [
       "<Figure size 640x480 with 1 Axes>"
      ]
     },
     "metadata": {},
     "output_type": "display_data"
    }
   ],
   "source": [
    "#построим гистограмму\n",
    "data[data['price']<100]['price'].hist(bins = 100)"
   ]
  },
  {
   "cell_type": "code",
   "execution_count": 16,
   "metadata": {},
   "outputs": [],
   "source": [
    "#удалим строки, где price <1\n",
    "data = data[data['price']>1]"
   ]
  },
  {
   "cell_type": "code",
   "execution_count": 17,
   "metadata": {},
   "outputs": [
    {
     "data": {
      "text/plain": [
       "0        32552\n",
       "1           24\n",
       "2            9\n",
       "3            9\n",
       "4           26\n",
       "         ...  \n",
       "17932        1\n",
       "19208        1\n",
       "19211        1\n",
       "19312        1\n",
       "20000        1\n",
       "Name: power, Length: 698, dtype: int64"
      ]
     },
     "execution_count": 17,
     "metadata": {},
     "output_type": "execute_result"
    }
   ],
   "source": [
    "#посмотрим уникальные значения столбца мощности\n",
    "data['power'].value_counts().sort_index()"
   ]
  },
  {
   "cell_type": "markdown",
   "metadata": {},
   "source": [
    "видно много значений мощности равной 0 и есть значения больше 1000"
   ]
  },
  {
   "cell_type": "code",
   "execution_count": 18,
   "metadata": {},
   "outputs": [
    {
     "data": {
      "text/plain": [
       "<Axes: >"
      ]
     },
     "execution_count": 18,
     "metadata": {},
     "output_type": "execute_result"
    },
    {
     "data": {
      "image/png": "[encoded data removed]",
      "text/plain": [
       "<Figure size 640x480 with 1 Axes>"
      ]
     },
     "metadata": {},
     "output_type": "display_data"
    }
   ],
   "source": [
    "data[data['power']<1000]['power'].hist(bins = 50)"
   ]
  },
  {
   "cell_type": "markdown",
   "metadata": {},
   "source": [
    "из гистограммы видно, что мощность больше 450, это выбросы"
   ]
  },
  {
   "cell_type": "code",
   "execution_count": 19,
   "metadata": {},
   "outputs": [],
   "source": [
    "#удалим строки где мощность больше 500 и меньше 10\n",
    "data = data[(data['power']<500) & (data['power']>10)]"
   ]
  },
  {
   "cell_type": "code",
   "execution_count": 20,
   "metadata": {},
   "outputs": [
    {
     "data": {
      "text/plain": [
       "petrol      165024\n",
       "gasoline     77087\n",
       "unknown      18848\n",
       "lpg           4385\n",
       "cng            457\n",
       "hybrid         194\n",
       "other           86\n",
       "electric        62\n",
       "Name: fueltype, dtype: int64"
      ]
     },
     "execution_count": 20,
     "metadata": {},
     "output_type": "execute_result"
    }
   ],
   "source": [
    "#посмотрим уникальные значения столбца тип топлива\n",
    "data['fueltype'].value_counts()"
   ]
  },
  {
   "cell_type": "code",
   "execution_count": 21,
   "metadata": {},
   "outputs": [],
   "source": [
    "#переименуем gasoline в petrol, потому что оба означают бензин\n",
    "data['fueltype'] = data['fueltype'].replace('gasoline','petrol')"
   ]
  },
  {
   "cell_type": "code",
   "execution_count": 22,
   "metadata": {},
   "outputs": [
    {
     "data": {
      "text/plain": [
       "1000    2\n",
       "1234    1\n",
       "1500    1\n",
       "1800    2\n",
       "1910    5\n",
       "       ..\n",
       "5000    6\n",
       "5911    1\n",
       "6000    2\n",
       "8200    1\n",
       "9999    1\n",
       "Name: registrationyear, Length: 105, dtype: int64"
      ]
     },
     "execution_count": 22,
     "metadata": {},
     "output_type": "execute_result"
    }
   ],
   "source": [
    "#посмотрим уникальные значения столбца года регистрации\n",
    "data['registrationyear'].value_counts().sort_index()"
   ]
  },
  {
   "cell_type": "code",
   "execution_count": 23,
   "metadata": {},
   "outputs": [
    {
     "data": {
      "text/plain": [
       "<Axes: >"
      ]
     },
     "execution_count": 23,
     "metadata": {},
     "output_type": "execute_result"
    },
    {
     "data": {
      "image/png": "[encoded data removed]",
      "text/plain": [
       "<Figure size 640x480 with 1 Axes>"
      ]
     },
     "metadata": {},
     "output_type": "display_data"
    }
   ],
   "source": [
    "#построим гистограмму\n",
    "data[(data['registrationyear']>1950) & (data['registrationyear']<2023)]['registrationyear'].hist(bins = 100)"
   ]
  },
  {
   "cell_type": "code",
   "execution_count": 24,
   "metadata": {},
   "outputs": [],
   "source": [
    "#удалим строки с годом ниже 1960 и больше 2016\n",
    "data = data[(data['registrationyear']>1960) & (data['registrationyear']<2016)]"
   ]
  },
  {
   "cell_type": "markdown",
   "metadata": {},
   "source": [
    "**Вывод:**\n",
    "\n",
    "Провели предобработку данных, приведели названия столбцов к нижнему регистру, заполнили пропуски, удалили дубликаты, аномальные значения, выбросы, лишние признаки"
   ]
  },
  {
   "cell_type": "markdown",
   "metadata": {},
   "source": [
    "## Обучение моделей"
   ]
  },
  {
   "cell_type": "code",
   "execution_count": 25,
   "metadata": {},
   "outputs": [],
   "source": [
    "#преобразуем столбец model\n",
    "encoder = OrdinalEncoder()\n",
    "encoder.fit(data[['model']])\n",
    "data['model'] = encoder.transform(data[['model']])"
   ]
  },
  {
   "cell_type": "code",
   "execution_count": 26,
   "metadata": {},
   "outputs": [
    {
     "data": {
      "text/html": [
       "<div>\n",
       "<style scoped>\n",
       "    .dataframe tbody tr th:only-of-type {\n",
       "        vertical-align: middle;\n",
       "    }\n",
       "\n",
       "    .dataframe tbody tr th {\n",
       "        vertical-align: top;\n",
       "    }\n",
       "\n",
       "    .dataframe thead th {\n",
       "        text-align: right;\n",
       "    }\n",
       "</style>\n",
       "<table border=\"1\" class=\"dataframe\">\n",
       "  <thead>\n",
       "    <tr style=\"text-align: right;\">\n",
       "      <th></th>\n",
       "      <th>price</th>\n",
       "      <th>registrationyear</th>\n",
       "      <th>power</th>\n",
       "      <th>model</th>\n",
       "      <th>kilometer</th>\n",
       "      <th>vehicletype_convertible</th>\n",
       "      <th>vehicletype_coupe</th>\n",
       "      <th>vehicletype_other</th>\n",
       "      <th>vehicletype_sedan</th>\n",
       "      <th>vehicletype_small</th>\n",
       "      <th>...</th>\n",
       "      <th>brand_smart</th>\n",
       "      <th>brand_sonstige_autos</th>\n",
       "      <th>brand_subaru</th>\n",
       "      <th>brand_suzuki</th>\n",
       "      <th>brand_toyota</th>\n",
       "      <th>brand_trabant</th>\n",
       "      <th>brand_volkswagen</th>\n",
       "      <th>brand_volvo</th>\n",
       "      <th>repaired_unknown</th>\n",
       "      <th>repaired_yes</th>\n",
       "    </tr>\n",
       "  </thead>\n",
       "  <tbody>\n",
       "    <tr>\n",
       "      <th>1</th>\n",
       "      <td>18300</td>\n",
       "      <td>2011</td>\n",
       "      <td>190</td>\n",
       "      <td>227.0</td>\n",
       "      <td>125000</td>\n",
       "      <td>0</td>\n",
       "      <td>1</td>\n",
       "      <td>0</td>\n",
       "      <td>0</td>\n",
       "      <td>0</td>\n",
       "      <td>...</td>\n",
       "      <td>0</td>\n",
       "      <td>0</td>\n",
       "      <td>0</td>\n",
       "      <td>0</td>\n",
       "      <td>0</td>\n",
       "      <td>0</td>\n",
       "      <td>0</td>\n",
       "      <td>0</td>\n",
       "      <td>0</td>\n",
       "      <td>1</td>\n",
       "    </tr>\n",
       "    <tr>\n",
       "      <th>2</th>\n",
       "      <td>9800</td>\n",
       "      <td>2004</td>\n",
       "      <td>163</td>\n",
       "      <td>117.0</td>\n",
       "      <td>125000</td>\n",
       "      <td>0</td>\n",
       "      <td>0</td>\n",
       "      <td>0</td>\n",
       "      <td>0</td>\n",
       "      <td>0</td>\n",
       "      <td>...</td>\n",
       "      <td>0</td>\n",
       "      <td>0</td>\n",
       "      <td>0</td>\n",
       "      <td>0</td>\n",
       "      <td>0</td>\n",
       "      <td>0</td>\n",
       "      <td>0</td>\n",
       "      <td>0</td>\n",
       "      <td>1</td>\n",
       "      <td>0</td>\n",
       "    </tr>\n",
       "    <tr>\n",
       "      <th>3</th>\n",
       "      <td>1500</td>\n",
       "      <td>2001</td>\n",
       "      <td>75</td>\n",
       "      <td>116.0</td>\n",
       "      <td>150000</td>\n",
       "      <td>0</td>\n",
       "      <td>0</td>\n",
       "      <td>0</td>\n",
       "      <td>0</td>\n",
       "      <td>1</td>\n",
       "      <td>...</td>\n",
       "      <td>0</td>\n",
       "      <td>0</td>\n",
       "      <td>0</td>\n",
       "      <td>0</td>\n",
       "      <td>0</td>\n",
       "      <td>0</td>\n",
       "      <td>1</td>\n",
       "      <td>0</td>\n",
       "      <td>0</td>\n",
       "      <td>0</td>\n",
       "    </tr>\n",
       "    <tr>\n",
       "      <th>4</th>\n",
       "      <td>3600</td>\n",
       "      <td>2008</td>\n",
       "      <td>69</td>\n",
       "      <td>101.0</td>\n",
       "      <td>90000</td>\n",
       "      <td>0</td>\n",
       "      <td>0</td>\n",
       "      <td>0</td>\n",
       "      <td>0</td>\n",
       "      <td>1</td>\n",
       "      <td>...</td>\n",
       "      <td>0</td>\n",
       "      <td>0</td>\n",
       "      <td>0</td>\n",
       "      <td>0</td>\n",
       "      <td>0</td>\n",
       "      <td>0</td>\n",
       "      <td>0</td>\n",
       "      <td>0</td>\n",
       "      <td>0</td>\n",
       "      <td>0</td>\n",
       "    </tr>\n",
       "    <tr>\n",
       "      <th>5</th>\n",
       "      <td>650</td>\n",
       "      <td>1995</td>\n",
       "      <td>102</td>\n",
       "      <td>11.0</td>\n",
       "      <td>150000</td>\n",
       "      <td>0</td>\n",
       "      <td>0</td>\n",
       "      <td>0</td>\n",
       "      <td>1</td>\n",
       "      <td>0</td>\n",
       "      <td>...</td>\n",
       "      <td>0</td>\n",
       "      <td>0</td>\n",
       "      <td>0</td>\n",
       "      <td>0</td>\n",
       "      <td>0</td>\n",
       "      <td>0</td>\n",
       "      <td>0</td>\n",
       "      <td>0</td>\n",
       "      <td>0</td>\n",
       "      <td>1</td>\n",
       "    </tr>\n",
       "    <tr>\n",
       "      <th>...</th>\n",
       "      <td>...</td>\n",
       "      <td>...</td>\n",
       "      <td>...</td>\n",
       "      <td>...</td>\n",
       "      <td>...</td>\n",
       "      <td>...</td>\n",
       "      <td>...</td>\n",
       "      <td>...</td>\n",
       "      <td>...</td>\n",
       "      <td>...</td>\n",
       "      <td>...</td>\n",
       "      <td>...</td>\n",
       "      <td>...</td>\n",
       "      <td>...</td>\n",
       "      <td>...</td>\n",
       "      <td>...</td>\n",
       "      <td>...</td>\n",
       "      <td>...</td>\n",
       "      <td>...</td>\n",
       "      <td>...</td>\n",
       "      <td>...</td>\n",
       "    </tr>\n",
       "    <tr>\n",
       "      <th>309320</th>\n",
       "      <td>1690</td>\n",
       "      <td>2004</td>\n",
       "      <td>55</td>\n",
       "      <td>101.0</td>\n",
       "      <td>150000</td>\n",
       "      <td>0</td>\n",
       "      <td>0</td>\n",
       "      <td>0</td>\n",
       "      <td>0</td>\n",
       "      <td>0</td>\n",
       "      <td>...</td>\n",
       "      <td>0</td>\n",
       "      <td>0</td>\n",
       "      <td>0</td>\n",
       "      <td>0</td>\n",
       "      <td>0</td>\n",
       "      <td>0</td>\n",
       "      <td>0</td>\n",
       "      <td>0</td>\n",
       "      <td>1</td>\n",
       "      <td>0</td>\n",
       "    </tr>\n",
       "    <tr>\n",
       "      <th>309323</th>\n",
       "      <td>3200</td>\n",
       "      <td>2004</td>\n",
       "      <td>225</td>\n",
       "      <td>140.0</td>\n",
       "      <td>150000</td>\n",
       "      <td>0</td>\n",
       "      <td>0</td>\n",
       "      <td>0</td>\n",
       "      <td>1</td>\n",
       "      <td>0</td>\n",
       "      <td>...</td>\n",
       "      <td>0</td>\n",
       "      <td>0</td>\n",
       "      <td>0</td>\n",
       "      <td>0</td>\n",
       "      <td>0</td>\n",
       "      <td>0</td>\n",
       "      <td>0</td>\n",
       "      <td>0</td>\n",
       "      <td>0</td>\n",
       "      <td>1</td>\n",
       "    </tr>\n",
       "    <tr>\n",
       "      <th>309326</th>\n",
       "      <td>1199</td>\n",
       "      <td>2000</td>\n",
       "      <td>101</td>\n",
       "      <td>106.0</td>\n",
       "      <td>125000</td>\n",
       "      <td>1</td>\n",
       "      <td>0</td>\n",
       "      <td>0</td>\n",
       "      <td>0</td>\n",
       "      <td>0</td>\n",
       "      <td>...</td>\n",
       "      <td>1</td>\n",
       "      <td>0</td>\n",
       "      <td>0</td>\n",
       "      <td>0</td>\n",
       "      <td>0</td>\n",
       "      <td>0</td>\n",
       "      <td>0</td>\n",
       "      <td>0</td>\n",
       "      <td>0</td>\n",
       "      <td>0</td>\n",
       "    </tr>\n",
       "    <tr>\n",
       "      <th>309327</th>\n",
       "      <td>9200</td>\n",
       "      <td>1996</td>\n",
       "      <td>102</td>\n",
       "      <td>223.0</td>\n",
       "      <td>150000</td>\n",
       "      <td>0</td>\n",
       "      <td>0</td>\n",
       "      <td>0</td>\n",
       "      <td>0</td>\n",
       "      <td>0</td>\n",
       "      <td>...</td>\n",
       "      <td>0</td>\n",
       "      <td>0</td>\n",
       "      <td>0</td>\n",
       "      <td>0</td>\n",
       "      <td>0</td>\n",
       "      <td>0</td>\n",
       "      <td>1</td>\n",
       "      <td>0</td>\n",
       "      <td>0</td>\n",
       "      <td>0</td>\n",
       "    </tr>\n",
       "    <tr>\n",
       "      <th>309328</th>\n",
       "      <td>3400</td>\n",
       "      <td>2002</td>\n",
       "      <td>100</td>\n",
       "      <td>116.0</td>\n",
       "      <td>150000</td>\n",
       "      <td>0</td>\n",
       "      <td>0</td>\n",
       "      <td>0</td>\n",
       "      <td>0</td>\n",
       "      <td>0</td>\n",
       "      <td>...</td>\n",
       "      <td>0</td>\n",
       "      <td>0</td>\n",
       "      <td>0</td>\n",
       "      <td>0</td>\n",
       "      <td>0</td>\n",
       "      <td>0</td>\n",
       "      <td>1</td>\n",
       "      <td>0</td>\n",
       "      <td>1</td>\n",
       "      <td>0</td>\n",
       "    </tr>\n",
       "  </tbody>\n",
       "</table>\n",
       "<p>250378 rows × 62 columns</p>\n",
       "</div>"
      ],
      "text/plain": [
       "        price  registrationyear  power  model  kilometer  \\\n",
       "1       18300              2011    190  227.0     125000   \n",
       "2        9800              2004    163  117.0     125000   \n",
       "3        1500              2001     75  116.0     150000   \n",
       "4        3600              2008     69  101.0      90000   \n",
       "5         650              1995    102   11.0     150000   \n",
       "...       ...               ...    ...    ...        ...   \n",
       "309320   1690              2004     55  101.0     150000   \n",
       "309323   3200              2004    225  140.0     150000   \n",
       "309326   1199              2000    101  106.0     125000   \n",
       "309327   9200              1996    102  223.0     150000   \n",
       "309328   3400              2002    100  116.0     150000   \n",
       "\n",
       "        vehicletype_convertible  vehicletype_coupe  vehicletype_other  \\\n",
       "1                             0                  1                  0   \n",
       "2                             0                  0                  0   \n",
       "3                             0                  0                  0   \n",
       "4                             0                  0                  0   \n",
       "5                             0                  0                  0   \n",
       "...                         ...                ...                ...   \n",
       "309320                        0                  0                  0   \n",
       "309323                        0                  0                  0   \n",
       "309326                        1                  0                  0   \n",
       "309327                        0                  0                  0   \n",
       "309328                        0                  0                  0   \n",
       "\n",
       "        vehicletype_sedan  vehicletype_small  ...  brand_smart  \\\n",
       "1                       0                  0  ...            0   \n",
       "2                       0                  0  ...            0   \n",
       "3                       0                  1  ...            0   \n",
       "4                       0                  1  ...            0   \n",
       "5                       1                  0  ...            0   \n",
       "...                   ...                ...  ...          ...   \n",
       "309320                  0                  0  ...            0   \n",
       "309323                  1                  0  ...            0   \n",
       "309326                  0                  0  ...            1   \n",
       "309327                  0                  0  ...            0   \n",
       "309328                  0                  0  ...            0   \n",
       "\n",
       "        brand_sonstige_autos  brand_subaru  brand_suzuki  brand_toyota  \\\n",
       "1                          0             0             0             0   \n",
       "2                          0             0             0             0   \n",
       "3                          0             0             0             0   \n",
       "4                          0             0             0             0   \n",
       "5                          0             0             0             0   \n",
       "...                      ...           ...           ...           ...   \n",
       "309320                     0             0             0             0   \n",
       "309323                     0             0             0             0   \n",
       "309326                     0             0             0             0   \n",
       "309327                     0             0             0             0   \n",
       "309328                     0             0             0             0   \n",
       "\n",
       "        brand_trabant  brand_volkswagen  brand_volvo  repaired_unknown  \\\n",
       "1                   0                 0            0                 0   \n",
       "2                   0                 0            0                 1   \n",
       "3                   0                 1            0                 0   \n",
       "4                   0                 0            0                 0   \n",
       "5                   0                 0            0                 0   \n",
       "...               ...               ...          ...               ...   \n",
       "309320              0                 0            0                 1   \n",
       "309323              0                 0            0                 0   \n",
       "309326              0                 0            0                 0   \n",
       "309327              0                 1            0                 0   \n",
       "309328              0                 1            0                 1   \n",
       "\n",
       "        repaired_yes  \n",
       "1                  1  \n",
       "2                  0  \n",
       "3                  0  \n",
       "4                  0  \n",
       "5                  1  \n",
       "...              ...  \n",
       "309320             0  \n",
       "309323             1  \n",
       "309326             0  \n",
       "309327             0  \n",
       "309328             0  \n",
       "\n",
       "[250378 rows x 62 columns]"
      ]
     },
     "execution_count": 26,
     "metadata": {},
     "output_type": "execute_result"
    }
   ],
   "source": [
    "#преобразуем остальные категории в числа\n",
    "one_hot_list = ['vehicletype','gearbox', 'fueltype', 'brand', 'repaired']\n",
    "df = data.copy()\n",
    "tenure_one_hot = pd.get_dummies(df[one_hot_list], drop_first=True)\n",
    "df = df.drop(one_hot_list,axis = 1)\n",
    "df = df.join(tenure_one_hot, how='left')\n",
    "df"
   ]
  },
  {
   "cell_type": "code",
   "execution_count": 27,
   "metadata": {
    "scrolled": false
   },
   "outputs": [
    {
     "name": "stdout",
     "output_type": "stream",
     "text": [
      "(187783, 61)\n",
      "(62595, 61)\n",
      "(187783,)\n",
      "(62595,)\n"
     ]
    }
   ],
   "source": [
    "#разделим выборки на обучающую и тестовую\n",
    "features = df.drop(\"price\", axis=1)\n",
    "target = df[\"price\"]\n",
    "features_train, features_test, target_train, target_test = train_test_split(\n",
    "    features, target, test_size=0.25, random_state=12345)\n",
    "\n",
    "print(features_train.shape)\n",
    "print(features_test.shape)\n",
    "print(target_train.shape)\n",
    "print(target_test.shape)"
   ]
  },
  {
   "cell_type": "code",
   "execution_count": 28,
   "metadata": {},
   "outputs": [],
   "source": [
    "#машстабируем признаки\n",
    "scaler = StandardScaler()\n",
    "scaler.fit(features_train) \n",
    "features_train = scaler.transform(features_train)\n",
    "features_test = scaler.transform(features_test)"
   ]
  },
  {
   "cell_type": "code",
   "execution_count": 29,
   "metadata": {},
   "outputs": [],
   "source": [
    "#Преобразуем nparray в dataframe\n",
    "def nptodf(data, ind, column):\n",
    "    frame = pd.DataFrame(data, index = ind.index, columns = column.columns)\n",
    "    return frame\n",
    "features_train = nptodf(features_train, target_train, features)\n",
    "features_test = nptodf(features_test, target_test, features)"
   ]
  },
  {
   "cell_type": "markdown",
   "metadata": {},
   "source": [
    "# Модель линейной регрессии"
   ]
  },
  {
   "cell_type": "code",
   "execution_count": 30,
   "metadata": {},
   "outputs": [
    {
     "name": "stdout",
     "output_type": "stream",
     "text": [
      "RMSE LinearRegression: 2795.2506937227213\n",
      "CPU times: total: 1.72 s\n",
      "Wall time: 398 ms\n"
     ]
    }
   ],
   "source": [
    "%%time\n",
    "\n",
    "model_lr = LinearRegression()\n",
    "model_lr.fit(features_train, target_train)\n",
    "pred_lr = model_lr.predict(features_train)\n",
    "rmse_lr = mean_squared_error(target_train, pred_lr)**0.5\n",
    "print(\"RMSE LinearRegression:\", rmse_lr)"
   ]
  },
  {
   "cell_type": "code",
   "execution_count": 31,
   "metadata": {},
   "outputs": [
    {
     "name": "stdout",
     "output_type": "stream",
     "text": [
      "CPU times: total: 27.2 s\n",
      "Wall time: 4.62 s\n"
     ]
    },
    {
     "data": {
      "text/plain": [
       "{'copy_X': True, 'fit_intercept': True}"
      ]
     },
     "execution_count": 31,
     "metadata": {},
     "output_type": "execute_result"
    }
   ],
   "source": [
    "%%time\n",
    "\n",
    "parameters_lr = {'fit_intercept':[True,False],  \n",
    "              'copy_X':[True, False]}\n",
    "model_lr_cv = GridSearchCV(model_lr,\n",
    "                    param_grid = parameters_lr, \n",
    "                    cv=4, \n",
    "                    scoring = 'neg_root_mean_squared_error', \n",
    "                    verbose=False)\n",
    "model_lr_cv.fit(features_train, target_train)\n",
    "model_lr_cv.best_params_"
   ]
  },
  {
   "cell_type": "code",
   "execution_count": 32,
   "metadata": {},
   "outputs": [
    {
     "name": "stdout",
     "output_type": "stream",
     "text": [
      "CPU times: total: 2.16 s\n",
      "Wall time: 369 ms\n"
     ]
    }
   ],
   "source": [
    "%%time\n",
    "\n",
    "model_lr_tuned = LinearRegression(**model_lr_cv.best_params_).fit(features_train, target_train)"
   ]
  },
  {
   "cell_type": "code",
   "execution_count": 33,
   "metadata": {},
   "outputs": [
    {
     "name": "stdout",
     "output_type": "stream",
     "text": [
      "CPU times: total: 297 ms\n",
      "Wall time: 37.9 ms\n"
     ]
    }
   ],
   "source": [
    "%%time\n",
    "\n",
    "pred_lr_tuned = model_lr_tuned.predict(features_train)"
   ]
  },
  {
   "cell_type": "code",
   "execution_count": 34,
   "metadata": {},
   "outputs": [
    {
     "name": "stdout",
     "output_type": "stream",
     "text": [
      "Average RMSE LinearRegression: 2796.1291300497583\n"
     ]
    }
   ],
   "source": [
    "rmse_scores_lr_cv = -cross_val_score(model_lr_cv.best_estimator_, \n",
    "                                     features_train, \n",
    "                                     target_train, \n",
    "                                     cv=4, \n",
    "                                     scoring='neg_root_mean_squared_error')\n",
    "average_rmse_lr_cv = np.mean(rmse_scores_lr_cv)\n",
    "print(\"Average RMSE LinearRegression:\", average_rmse_lr_cv)"
   ]
  },
  {
   "cell_type": "code",
   "execution_count": 35,
   "metadata": {},
   "outputs": [],
   "source": [
    "importances_lr = pd.DataFrame(data={\n",
    "    'Attribute': features_train.columns,\n",
    "    'Importance': model_lr_tuned.coef_\n",
    "})\n",
    "importances_lr = importances_lr.sort_values(by='Importance', ascending=False)"
   ]
  },
  {
   "cell_type": "code",
   "execution_count": 36,
   "metadata": {},
   "outputs": [
    {
     "data": {
      "image/png": "[encoded data removed]",
      "text/plain": [
       "<Figure size 2000x800 with 1 Axes>"
      ]
     },
     "metadata": {},
     "output_type": "display_data"
    }
   ],
   "source": [
    "plt.rcParams[\"figure.figsize\"] = (20,8)\n",
    "plt.bar(x=importances_lr['Attribute'], height=importances_lr['Importance'], color='#087E8B')\n",
    "plt.title('Важность признаков', size=20)\n",
    "plt.xticks(rotation='vertical')\n",
    "plt.show()"
   ]
  },
  {
   "cell_type": "markdown",
   "metadata": {},
   "source": [
    "# Модель LightGBM"
   ]
  },
  {
   "cell_type": "code",
   "execution_count": 37,
   "metadata": {},
   "outputs": [
    {
     "name": "stdout",
     "output_type": "stream",
     "text": [
      "RMSE LightGBM: 1659.1262185728644\n",
      "CPU times: total: 6.89 s\n",
      "Wall time: 1.32 s\n"
     ]
    }
   ],
   "source": [
    "%%time\n",
    "\n",
    "model_lgb = LGBMRegressor(random_state=12345)\n",
    "model_lgb.fit(features_train, target_train)\n",
    "pred_lgb = model_lgb.predict(features_train)\n",
    "rmse_lgb = mean_squared_error(target_train, pred_lgb)**0.5\n",
    "print(\"RMSE LightGBM:\",rmse_lgb)"
   ]
  },
  {
   "cell_type": "code",
   "execution_count": 38,
   "metadata": {},
   "outputs": [
    {
     "name": "stdout",
     "output_type": "stream",
     "text": [
      "CPU times: total: 2min 24s\n",
      "Wall time: 26.6 s\n"
     ]
    },
    {
     "data": {
      "text/plain": [
       "{'max_depth': 14, 'n_estimators': 700}"
      ]
     },
     "execution_count": 38,
     "metadata": {},
     "output_type": "execute_result"
    }
   ],
   "source": [
    "%%time\n",
    "\n",
    "parameters_lgb = {\"n_estimators\": [200, 700],\n",
    "               \"max_depth\": [6, 14]\n",
    "              }\n",
    "\n",
    "model_lgb_cv = GridSearchCV(model_lgb,\n",
    "                          param_grid=parameters_lgb,\n",
    "                          scoring='neg_root_mean_squared_error',\n",
    "                          cv=4,\n",
    "                          n_jobs=1,\n",
    "                          verbose=False)\n",
    "\n",
    "model_lgb_cv.fit(features_train, target_train)\n",
    "model_lgb_cv.best_params_"
   ]
  },
  {
   "cell_type": "code",
   "execution_count": 39,
   "metadata": {},
   "outputs": [
    {
     "name": "stdout",
     "output_type": "stream",
     "text": [
      "CPU times: total: 11.7 s\n",
      "Wall time: 2.15 s\n"
     ]
    }
   ],
   "source": [
    "%%time\n",
    "\n",
    "model_lgb_tuned = LGBMRegressor(**model_lgb_cv.best_params_).fit(features_train, target_train)"
   ]
  },
  {
   "cell_type": "code",
   "execution_count": 40,
   "metadata": {},
   "outputs": [
    {
     "name": "stdout",
     "output_type": "stream",
     "text": [
      "CPU times: total: 6.78 s\n",
      "Wall time: 1.15 s\n"
     ]
    }
   ],
   "source": [
    "%%time\n",
    "\n",
    "pred_lgb_tuned = model_lgb_tuned.predict(features_train)"
   ]
  },
  {
   "cell_type": "code",
   "execution_count": 41,
   "metadata": {},
   "outputs": [
    {
     "name": "stdout",
     "output_type": "stream",
     "text": [
      "Average RMSE LightGBM: 1590.5536873550477\n"
     ]
    }
   ],
   "source": [
    "rmse_scores_lgb_cv = -cross_val_score(model_lgb_cv.best_estimator_, \n",
    "                                     features_train, \n",
    "                                     target_train, \n",
    "                                     cv=4,\n",
    "                                     scoring='neg_root_mean_squared_error')\n",
    "average_rmse_lgb_cv = np.mean(rmse_scores_lgb_cv)\n",
    "print(\"Average RMSE LightGBM:\", average_rmse_lgb_cv)"
   ]
  },
  {
   "cell_type": "code",
   "execution_count": 42,
   "metadata": {},
   "outputs": [],
   "source": [
    "importances_lgb = pd.DataFrame(data={\n",
    "    'Attribute': features_train.columns,\n",
    "    'Importance': model_lgb_tuned.feature_importances_\n",
    "})\n",
    "importances_lgb = importances_lgb.sort_values(by='Importance', ascending=False)"
   ]
  },
  {
   "cell_type": "code",
   "execution_count": 43,
   "metadata": {},
   "outputs": [
    {
     "data": {
      "image/png": "[encoded data removed]",
      "text/plain": [
       "<Figure size 2000x800 with 1 Axes>"
      ]
     },
     "metadata": {},
     "output_type": "display_data"
    }
   ],
   "source": [
    "plt.bar(x=importances_lgb['Attribute'], height=importances_lgb['Importance'], color='#087E8B')\n",
    "plt.title('Важность признаков', size=20)\n",
    "plt.xticks(rotation='vertical')\n",
    "plt.show()"
   ]
  },
  {
   "cell_type": "markdown",
   "metadata": {},
   "source": [
    "# Модель CatBoost"
   ]
  },
  {
   "cell_type": "code",
   "execution_count": 44,
   "metadata": {},
   "outputs": [
    {
     "name": "stdout",
     "output_type": "stream",
     "text": [
      "CPU times: total: 1min 28s\n",
      "Wall time: 9.67 s\n"
     ]
    }
   ],
   "source": [
    "%%time\n",
    "\n",
    "model_cbr = CatBoostRegressor(logging_level='Silent').fit(features_train, target_train)"
   ]
  },
  {
   "cell_type": "code",
   "execution_count": 45,
   "metadata": {},
   "outputs": [
    {
     "name": "stdout",
     "output_type": "stream",
     "text": [
      "CPU times: total: 391 ms\n",
      "Wall time: 50.9 ms\n"
     ]
    }
   ],
   "source": [
    "%%time\n",
    "\n",
    "pred_cbr = model_cbr.predict(features_train)"
   ]
  },
  {
   "cell_type": "code",
   "execution_count": 46,
   "metadata": {
    "scrolled": false
   },
   "outputs": [
    {
     "name": "stdout",
     "output_type": "stream",
     "text": [
      "RMSE CatBoostRegressor: 1530.4163505447573\n"
     ]
    }
   ],
   "source": [
    "rmse_cbr = mean_squared_error(target_train, pred_cbr)**0.5\n",
    "print('RMSE CatBoostRegressor:', rmse_cbr)"
   ]
  },
  {
   "cell_type": "code",
   "execution_count": 47,
   "metadata": {},
   "outputs": [
    {
     "name": "stdout",
     "output_type": "stream",
     "text": [
      "CPU times: total: 1min 56s\n",
      "Wall time: 4min 31s\n"
     ]
    },
    {
     "data": {
      "text/plain": [
       "{'depth': 8, 'iterations': 1000, 'l2_leaf_reg': 1, 'learning_rate': 0.1}"
      ]
     },
     "execution_count": 47,
     "metadata": {},
     "output_type": "execute_result"
    }
   ],
   "source": [
    "%%time\n",
    "\n",
    "parameters_cb = {'iterations': [1000],\n",
    "        'learning_rate': [0.03, 0.1],\n",
    "        'depth': [6, 8],\n",
    "        'l2_leaf_reg': [1, 3]\n",
    "              }\n",
    "\n",
    "model_CBR = CatBoostRegressor(loss_function='RMSE', \n",
    "                                    eval_metric = 'RMSE', \n",
    "                                    logging_level='Silent')\n",
    "\n",
    "model_cbr_cv = GridSearchCV(model_CBR,\n",
    "                         param_grid = parameters_cb, \n",
    "                         cv = 4, \n",
    "                         n_jobs=-1, \n",
    "                         scoring='neg_root_mean_squared_error')\n",
    "model_cbr_cv.fit(features_train, target_train)\n",
    "model_cbr_cv.best_params_"
   ]
  },
  {
   "cell_type": "code",
   "execution_count": 48,
   "metadata": {},
   "outputs": [
    {
     "name": "stdout",
     "output_type": "stream",
     "text": [
      "CPU times: total: 2min 1s\n",
      "Wall time: 14 s\n"
     ]
    }
   ],
   "source": [
    "%%time\n",
    "\n",
    "model_cbr_tuned = CatBoostRegressor(**model_cbr_cv.best_params_, logging_level='Silent').fit(features_train, target_train)"
   ]
  },
  {
   "cell_type": "code",
   "execution_count": 49,
   "metadata": {},
   "outputs": [
    {
     "name": "stdout",
     "output_type": "stream",
     "text": [
      "CPU times: total: 531 ms\n",
      "Wall time: 59.8 ms\n"
     ]
    }
   ],
   "source": [
    "%%time\n",
    "\n",
    "pred_cbr_tuned = model_cbr_tuned.predict(features_train)"
   ]
  },
  {
   "cell_type": "code",
   "execution_count": 50,
   "metadata": {},
   "outputs": [
    {
     "name": "stdout",
     "output_type": "stream",
     "text": [
      "Average RMSE CatBoost: 1580.7555349375054\n"
     ]
    }
   ],
   "source": [
    "rmse_scores_cbr_cv = -cross_val_score(model_cbr_cv.best_estimator_, \n",
    "                                     features_train, \n",
    "                                     target_train, \n",
    "                                     cv=4, \n",
    "                                     scoring='neg_root_mean_squared_error')\n",
    "average_rmse_cbr_cv = np.mean(rmse_scores_cbr_cv)\n",
    "print(\"Average RMSE CatBoost:\", average_rmse_cbr_cv) "
   ]
  },
  {
   "cell_type": "code",
   "execution_count": 51,
   "metadata": {},
   "outputs": [],
   "source": [
    "importances_cat = pd.DataFrame(data={\n",
    "    'Attribute': features_train.columns,\n",
    "    'Importance': model_cbr_tuned.feature_importances_\n",
    "})\n",
    "importances_cat = importances_cat.sort_values(by='Importance', ascending=False)"
   ]
  },
  {
   "cell_type": "code",
   "execution_count": 52,
   "metadata": {},
   "outputs": [
    {
     "data": {
      "image/png": "[encoded data removed]",
      "text/plain": [
       "<Figure size 2000x800 with 1 Axes>"
      ]
     },
     "metadata": {},
     "output_type": "display_data"
    }
   ],
   "source": [
    "plt.bar(x=importances_cat['Attribute'], height=importances_cat['Importance'], color='#087E8B')\n",
    "plt.title('Важность признаков', size=20)\n",
    "plt.xticks(rotation='vertical')\n",
    "plt.show()"
   ]
  },
  {
   "cell_type": "markdown",
   "metadata": {},
   "source": [
    "## Анализ моделей"
   ]
  },
  {
   "cell_type": "code",
   "execution_count": 53,
   "metadata": {},
   "outputs": [
    {
     "name": "stdout",
     "output_type": "stream",
     "text": [
      "LinearRegression:\n",
      "RMSE:2796.1291300497583, скорость предсказания: 112 ms, время обучения: 3.9 s\n",
      "LightGBM:\n",
      "RMSE:1590.5536873550477, скорость предсказания: 15.1 s, время обучения: 40.7 s\n",
      "Catboost:\n",
      "RMSE:1580.7555349375054, скорость предсказания: 467 ms, время обучения: 36.1 s\n"
     ]
    }
   ],
   "source": [
    "print('LinearRegression:', end = '')\n",
    "print()\n",
    "print(f'RMSE:{average_rmse_lr_cv}, скорость предсказания: 112 ms, время обучения: 3.9 s')\n",
    "print('LightGBM:', end = '')\n",
    "print()\n",
    "print(f'RMSE:{average_rmse_lgb_cv}, скорость предсказания: 15.1 s, время обучения: 40.7 s')\n",
    "print('Catboost:', end = '')\n",
    "print()\n",
    "print(f'RMSE:{average_rmse_cbr_cv}, скорость предсказания: 467 ms, время обучения: 36.1 s')"
   ]
  },
  {
   "cell_type": "markdown",
   "metadata": {},
   "source": [
    "лучшей моделью по RMSE, времени обучения и предсказания, оказалась модель Catboost"
   ]
  },
  {
   "cell_type": "code",
   "execution_count": 54,
   "metadata": {},
   "outputs": [
    {
     "name": "stdout",
     "output_type": "stream",
     "text": [
      "CPU times: total: 188 ms\n",
      "Wall time: 25.9 ms\n"
     ]
    }
   ],
   "source": [
    "%%time\n",
    "final_cbr_pred = model_cbr_tuned.predict(features_test)"
   ]
  },
  {
   "cell_type": "code",
   "execution_count": 55,
   "metadata": {},
   "outputs": [
    {
     "name": "stdout",
     "output_type": "stream",
     "text": [
      "RMSE: 1560.70\n"
     ]
    }
   ],
   "source": [
    "final_cbr_rmse = mean_squared_error(target_test, final_cbr_pred)**0.5\n",
    "print(\"RMSE: %.2f\" % final_cbr_rmse)"
   ]
  },
  {
   "cell_type": "markdown",
   "metadata": {},
   "source": [
    "**Вывод:**\n",
    "\n",
    "Лучшей модель оказалась `Catboost`, RMSE: 1443.25, скорость предсказания: 467 ms, время обучения: 36.1 s"
   ]
  },
  {
   "cell_type": "markdown",
   "metadata": {},
   "source": [
    "**Общий вывод:**\n",
    "\n",
    "- Загрузили, изучили данные\n",
    "- Провели предобработку данных\n",
    "- Подготовили данные для обучения\n",
    "- Обучили три модели: Линейную регрессию, LightGBM, Catboost\n",
    "- Проанализировали время обучения, время предсказания и качество моделей\n",
    "- Опираясь на критерии заказчика, выбрали лучшую модель, проверили её качество на тестовой выборке\n",
    "\n",
    " Лучшей моделью оказалась `Catboost`:\n",
    "- RMSE = 1443.25\n",
    "- скорость предсказания = 467 ms\n",
    "- время обучения = 36.1 s"
   ]
  }
 ],
 "metadata": {
  "ExecuteTimeLog": [
   {
    "duration": 406,
    "start_time": "2023-08-02T13:37:50.996Z"
   },
   {
    "duration": 1275,
    "start_time": "2023-08-02T13:38:47.276Z"
   },
   {
    "duration": 24,
    "start_time": "2023-08-02T13:38:58.478Z"
   },
   {
    "duration": 135,
    "start_time": "2023-08-02T13:39:15.548Z"
   },
   {
    "duration": 128,
    "start_time": "2023-08-02T13:39:23.599Z"
   },
   {
    "duration": 20,
    "start_time": "2023-08-02T13:39:47.640Z"
   },
   {
    "duration": 108,
    "start_time": "2023-08-02T13:39:48.930Z"
   },
   {
    "duration": 15,
    "start_time": "2023-08-02T13:39:54.159Z"
   },
   {
    "duration": 102,
    "start_time": "2023-08-02T13:40:01.780Z"
   },
   {
    "duration": 154,
    "start_time": "2023-08-02T14:07:45.309Z"
   },
   {
    "duration": 1266,
    "start_time": "2023-08-02T14:29:55.119Z"
   },
   {
    "duration": 783,
    "start_time": "2023-08-02T14:30:40.292Z"
   },
   {
    "duration": 825,
    "start_time": "2023-08-02T14:30:46.314Z"
   },
   {
    "duration": 991,
    "start_time": "2023-08-02T14:30:52.420Z"
   },
   {
    "duration": 899,
    "start_time": "2023-08-02T14:30:58.589Z"
   },
   {
    "duration": 1011,
    "start_time": "2023-08-02T14:31:31.833Z"
   },
   {
    "duration": 1064,
    "start_time": "2023-08-02T14:38:14.066Z"
   },
   {
    "duration": 101,
    "start_time": "2023-08-02T14:39:34.279Z"
   },
   {
    "duration": 87,
    "start_time": "2023-08-02T14:40:13.604Z"
   },
   {
    "duration": 135,
    "start_time": "2023-08-02T14:40:16.738Z"
   },
   {
    "duration": 85,
    "start_time": "2023-08-03T07:34:38.250Z"
   },
   {
    "duration": 2325,
    "start_time": "2023-08-03T07:34:42.238Z"
   },
   {
    "duration": 1377,
    "start_time": "2023-08-03T07:34:44.565Z"
   },
   {
    "duration": 189,
    "start_time": "2023-08-03T07:34:45.944Z"
   },
   {
    "duration": 27,
    "start_time": "2023-08-03T07:34:46.135Z"
   },
   {
    "duration": 181,
    "start_time": "2023-08-03T07:34:46.165Z"
   },
   {
    "duration": 990,
    "start_time": "2023-08-03T07:34:46.349Z"
   },
   {
    "duration": 129,
    "start_time": "2023-08-03T07:34:47.342Z"
   },
   {
    "duration": 9,
    "start_time": "2023-08-03T07:34:47.473Z"
   },
   {
    "duration": 37,
    "start_time": "2023-08-03T07:35:29.198Z"
   },
   {
    "duration": 163,
    "start_time": "2023-08-03T07:35:39.430Z"
   },
   {
    "duration": 116,
    "start_time": "2023-08-03T07:35:44.646Z"
   },
   {
    "duration": 33,
    "start_time": "2023-08-03T07:35:51.031Z"
   },
   {
    "duration": 139,
    "start_time": "2023-08-03T07:35:58.963Z"
   },
   {
    "duration": 267,
    "start_time": "2023-08-03T07:36:47.188Z"
   },
   {
    "duration": 25,
    "start_time": "2023-08-03T07:36:50.796Z"
   },
   {
    "duration": 39,
    "start_time": "2023-08-03T07:37:00.743Z"
   },
   {
    "duration": 36,
    "start_time": "2023-08-03T07:37:05.432Z"
   },
   {
    "duration": 18,
    "start_time": "2023-08-03T07:37:12.774Z"
   },
   {
    "duration": 20,
    "start_time": "2023-08-03T07:37:53.481Z"
   },
   {
    "duration": 250,
    "start_time": "2023-08-03T07:38:40.174Z"
   },
   {
    "duration": 42,
    "start_time": "2023-08-03T07:38:42.477Z"
   },
   {
    "duration": 51,
    "start_time": "2023-08-03T07:59:36.876Z"
   },
   {
    "duration": 67,
    "start_time": "2023-08-03T07:59:41.300Z"
   },
   {
    "duration": 55,
    "start_time": "2023-08-03T07:59:46.043Z"
   },
   {
    "duration": 54,
    "start_time": "2023-08-03T07:59:49.259Z"
   },
   {
    "duration": 37,
    "start_time": "2023-08-03T07:59:53.049Z"
   },
   {
    "duration": 67,
    "start_time": "2023-08-03T08:00:58.001Z"
   },
   {
    "duration": 56,
    "start_time": "2023-08-03T08:08:52.976Z"
   },
   {
    "duration": 66,
    "start_time": "2023-08-03T08:08:57.361Z"
   },
   {
    "duration": 59,
    "start_time": "2023-08-03T08:20:21.870Z"
   },
   {
    "duration": 75,
    "start_time": "2023-08-03T08:21:39.947Z"
   },
   {
    "duration": 65,
    "start_time": "2023-08-03T08:23:04.631Z"
   },
   {
    "duration": 151,
    "start_time": "2023-08-03T08:25:23.270Z"
   },
   {
    "duration": 4,
    "start_time": "2023-08-03T08:25:55.551Z"
   },
   {
    "duration": 547,
    "start_time": "2023-08-03T08:25:59.141Z"
   },
   {
    "duration": 544,
    "start_time": "2023-08-03T08:26:07.022Z"
   },
   {
    "duration": 529,
    "start_time": "2023-08-03T08:26:23.022Z"
   },
   {
    "duration": 4,
    "start_time": "2023-08-03T08:30:59.854Z"
   },
   {
    "duration": 136,
    "start_time": "2023-08-03T08:31:00.287Z"
   },
   {
    "duration": 3522,
    "start_time": "2023-08-03T08:31:02.737Z"
   },
   {
    "duration": 4636,
    "start_time": "2023-08-03T08:31:13.344Z"
   },
   {
    "duration": 4202,
    "start_time": "2023-08-03T08:31:30.532Z"
   },
   {
    "duration": 63,
    "start_time": "2023-08-03T08:32:51.123Z"
   },
   {
    "duration": 579,
    "start_time": "2023-08-03T08:33:06.242Z"
   },
   {
    "duration": 521,
    "start_time": "2023-08-03T08:33:15.040Z"
   },
   {
    "duration": 71,
    "start_time": "2023-08-03T08:33:31.763Z"
   },
   {
    "duration": 57,
    "start_time": "2023-08-03T08:33:54.437Z"
   },
   {
    "duration": 52,
    "start_time": "2023-08-03T08:34:11.443Z"
   },
   {
    "duration": 89,
    "start_time": "2023-08-03T08:34:18.614Z"
   },
   {
    "duration": 116,
    "start_time": "2023-08-03T08:34:20.686Z"
   },
   {
    "duration": 2081,
    "start_time": "2023-08-03T08:34:31.696Z"
   },
   {
    "duration": 924,
    "start_time": "2023-08-03T08:34:33.778Z"
   },
   {
    "duration": 149,
    "start_time": "2023-08-03T08:34:34.705Z"
   },
   {
    "duration": 18,
    "start_time": "2023-08-03T08:34:34.856Z"
   },
   {
    "duration": 122,
    "start_time": "2023-08-03T08:34:34.876Z"
   },
   {
    "duration": 1146,
    "start_time": "2023-08-03T08:34:35.000Z"
   },
   {
    "duration": 5,
    "start_time": "2023-08-03T08:34:36.149Z"
   },
   {
    "duration": 134,
    "start_time": "2023-08-03T08:34:36.156Z"
   },
   {
    "duration": 93,
    "start_time": "2023-08-03T08:34:36.292Z"
   },
   {
    "duration": 516,
    "start_time": "2023-08-03T08:34:36.387Z"
   },
   {
    "duration": 1077,
    "start_time": "2023-08-03T08:35:40.999Z"
   },
   {
    "duration": 1161,
    "start_time": "2023-08-03T08:42:00.845Z"
   },
   {
    "duration": 149,
    "start_time": "2023-08-03T08:49:56.046Z"
   },
   {
    "duration": 1244,
    "start_time": "2023-08-03T08:50:02.843Z"
   },
   {
    "duration": 15,
    "start_time": "2023-08-03T08:50:11.123Z"
   },
   {
    "duration": 22,
    "start_time": "2023-08-03T08:51:06.011Z"
   },
   {
    "duration": 18,
    "start_time": "2023-08-03T08:51:17.053Z"
   },
   {
    "duration": 15,
    "start_time": "2023-08-03T08:51:21.837Z"
   },
   {
    "duration": 87,
    "start_time": "2023-08-03T08:52:08.339Z"
   },
   {
    "duration": 31,
    "start_time": "2023-08-03T08:52:11.642Z"
   },
   {
    "duration": 1704,
    "start_time": "2023-08-03T08:52:20.937Z"
   },
   {
    "duration": 1050,
    "start_time": "2023-08-03T08:52:22.643Z"
   },
   {
    "duration": 166,
    "start_time": "2023-08-03T08:52:23.695Z"
   },
   {
    "duration": 23,
    "start_time": "2023-08-03T08:52:23.864Z"
   },
   {
    "duration": 182,
    "start_time": "2023-08-03T08:52:23.889Z"
   },
   {
    "duration": 1077,
    "start_time": "2023-08-03T08:52:24.074Z"
   },
   {
    "duration": 5,
    "start_time": "2023-08-03T08:52:25.153Z"
   },
   {
    "duration": 133,
    "start_time": "2023-08-03T08:52:25.160Z"
   },
   {
    "duration": 79,
    "start_time": "2023-08-03T08:52:25.294Z"
   },
   {
    "duration": 104,
    "start_time": "2023-08-03T08:52:25.375Z"
   },
   {
    "duration": 415,
    "start_time": "2023-08-03T08:52:25.480Z"
   },
   {
    "duration": 124,
    "start_time": "2023-08-03T08:53:14.133Z"
   },
   {
    "duration": 1773,
    "start_time": "2023-08-03T08:53:20.465Z"
   },
   {
    "duration": 931,
    "start_time": "2023-08-03T08:53:22.240Z"
   },
   {
    "duration": 141,
    "start_time": "2023-08-03T08:53:23.173Z"
   },
   {
    "duration": 23,
    "start_time": "2023-08-03T08:53:23.316Z"
   },
   {
    "duration": 172,
    "start_time": "2023-08-03T08:53:23.342Z"
   },
   {
    "duration": 1060,
    "start_time": "2023-08-03T08:53:23.517Z"
   },
   {
    "duration": 4,
    "start_time": "2023-08-03T08:53:24.578Z"
   },
   {
    "duration": 87,
    "start_time": "2023-08-03T08:53:24.583Z"
   },
   {
    "duration": 98,
    "start_time": "2023-08-03T08:53:24.672Z"
   },
   {
    "duration": 115,
    "start_time": "2023-08-03T08:53:24.772Z"
   },
   {
    "duration": 400,
    "start_time": "2023-08-03T08:53:24.889Z"
   },
   {
    "duration": 1722,
    "start_time": "2023-08-03T08:54:10.000Z"
   },
   {
    "duration": 943,
    "start_time": "2023-08-03T08:54:11.725Z"
   },
   {
    "duration": 127,
    "start_time": "2023-08-03T08:54:12.669Z"
   },
   {
    "duration": 31,
    "start_time": "2023-08-03T08:54:12.798Z"
   },
   {
    "duration": 135,
    "start_time": "2023-08-03T08:54:12.831Z"
   },
   {
    "duration": 1097,
    "start_time": "2023-08-03T08:54:12.967Z"
   },
   {
    "duration": 4,
    "start_time": "2023-08-03T08:54:14.066Z"
   },
   {
    "duration": 152,
    "start_time": "2023-08-03T08:54:14.072Z"
   },
   {
    "duration": 71,
    "start_time": "2023-08-03T08:54:14.226Z"
   },
   {
    "duration": 209,
    "start_time": "2023-08-03T08:54:14.298Z"
   },
   {
    "duration": 399,
    "start_time": "2023-08-03T08:54:14.522Z"
   },
   {
    "duration": 10,
    "start_time": "2023-08-03T08:59:53.237Z"
   },
   {
    "duration": 15,
    "start_time": "2023-08-03T09:00:21.427Z"
   },
   {
    "duration": 13,
    "start_time": "2023-08-03T09:02:17.524Z"
   },
   {
    "duration": 17,
    "start_time": "2023-08-03T09:02:21.880Z"
   },
   {
    "duration": 17,
    "start_time": "2023-08-03T09:02:30.719Z"
   },
   {
    "duration": 331,
    "start_time": "2023-08-03T09:02:42.059Z"
   },
   {
    "duration": 16,
    "start_time": "2023-08-03T09:02:51.498Z"
   },
   {
    "duration": 152,
    "start_time": "2023-08-03T09:03:11.343Z"
   },
   {
    "duration": 188,
    "start_time": "2023-08-03T09:03:11.540Z"
   },
   {
    "duration": 27,
    "start_time": "2023-08-03T09:03:36.905Z"
   },
   {
    "duration": 22,
    "start_time": "2023-08-03T09:04:12.200Z"
   },
   {
    "duration": 14,
    "start_time": "2023-08-03T09:04:18.726Z"
   },
   {
    "duration": 11,
    "start_time": "2023-08-03T09:04:59.828Z"
   },
   {
    "duration": 10,
    "start_time": "2023-08-03T09:05:07.227Z"
   },
   {
    "duration": 10,
    "start_time": "2023-08-03T09:05:24.128Z"
   },
   {
    "duration": 2144,
    "start_time": "2023-08-03T09:05:57.339Z"
   },
   {
    "duration": 1119,
    "start_time": "2023-08-03T09:05:59.486Z"
   },
   {
    "duration": 140,
    "start_time": "2023-08-03T09:06:00.607Z"
   },
   {
    "duration": 71,
    "start_time": "2023-08-03T09:06:00.750Z"
   },
   {
    "duration": 206,
    "start_time": "2023-08-03T09:06:00.823Z"
   },
   {
    "duration": 1131,
    "start_time": "2023-08-03T09:06:01.035Z"
   },
   {
    "duration": 4,
    "start_time": "2023-08-03T09:06:02.168Z"
   },
   {
    "duration": 191,
    "start_time": "2023-08-03T09:06:02.174Z"
   },
   {
    "duration": 139,
    "start_time": "2023-08-03T09:06:02.368Z"
   },
   {
    "duration": 176,
    "start_time": "2023-08-03T09:06:02.517Z"
   },
   {
    "duration": 197,
    "start_time": "2023-08-03T09:06:02.696Z"
   },
   {
    "duration": 227,
    "start_time": "2023-08-03T09:06:02.895Z"
   },
   {
    "duration": 25,
    "start_time": "2023-08-03T09:06:03.128Z"
   },
   {
    "duration": 161,
    "start_time": "2023-08-03T09:06:03.157Z"
   },
   {
    "duration": 204,
    "start_time": "2023-08-03T09:06:03.322Z"
   },
   {
    "duration": 10,
    "start_time": "2023-08-03T09:06:45.167Z"
   },
   {
    "duration": 302,
    "start_time": "2023-08-03T09:07:13.286Z"
   },
   {
    "duration": 1998,
    "start_time": "2023-08-03T09:07:20.382Z"
   },
   {
    "duration": 1000,
    "start_time": "2023-08-03T09:07:22.382Z"
   },
   {
    "duration": 173,
    "start_time": "2023-08-03T09:07:23.385Z"
   },
   {
    "duration": 119,
    "start_time": "2023-08-03T09:07:23.559Z"
   },
   {
    "duration": 251,
    "start_time": "2023-08-03T09:07:23.680Z"
   },
   {
    "duration": 1076,
    "start_time": "2023-08-03T09:07:23.933Z"
   },
   {
    "duration": 13,
    "start_time": "2023-08-03T09:07:25.014Z"
   },
   {
    "duration": 176,
    "start_time": "2023-08-03T09:07:25.029Z"
   },
   {
    "duration": 145,
    "start_time": "2023-08-03T09:07:25.207Z"
   },
   {
    "duration": 133,
    "start_time": "2023-08-03T09:07:25.354Z"
   },
   {
    "duration": 190,
    "start_time": "2023-08-03T09:07:25.489Z"
   },
   {
    "duration": 261,
    "start_time": "2023-08-03T09:07:25.681Z"
   },
   {
    "duration": 16,
    "start_time": "2023-08-03T09:07:25.944Z"
   },
   {
    "duration": 43,
    "start_time": "2023-08-03T09:07:25.963Z"
   },
   {
    "duration": 327,
    "start_time": "2023-08-03T09:07:26.008Z"
   },
   {
    "duration": 28,
    "start_time": "2023-08-03T09:07:26.337Z"
   },
   {
    "duration": 13,
    "start_time": "2023-08-03T09:07:26.367Z"
   },
   {
    "duration": 220,
    "start_time": "2023-08-03T09:11:28.056Z"
   },
   {
    "duration": 283,
    "start_time": "2023-08-03T09:13:12.159Z"
   },
   {
    "duration": 186,
    "start_time": "2023-08-03T09:13:16.329Z"
   },
   {
    "duration": 217,
    "start_time": "2023-08-03T09:13:19.037Z"
   },
   {
    "duration": 260,
    "start_time": "2023-08-03T09:13:21.249Z"
   },
   {
    "duration": 215,
    "start_time": "2023-08-03T09:13:25.472Z"
   },
   {
    "duration": 223,
    "start_time": "2023-08-03T09:13:29.564Z"
   },
   {
    "duration": 369,
    "start_time": "2023-08-03T09:13:35.179Z"
   },
   {
    "duration": 215,
    "start_time": "2023-08-03T09:13:39.558Z"
   },
   {
    "duration": 237,
    "start_time": "2023-08-03T09:13:49.343Z"
   },
   {
    "duration": 284,
    "start_time": "2023-08-03T09:13:56.691Z"
   },
   {
    "duration": 242,
    "start_time": "2023-08-03T09:14:07.042Z"
   },
   {
    "duration": 287,
    "start_time": "2023-08-03T09:14:10.150Z"
   },
   {
    "duration": 129,
    "start_time": "2023-08-03T09:16:30.363Z"
   },
   {
    "duration": 143,
    "start_time": "2023-08-03T09:16:50.027Z"
   },
   {
    "duration": 133,
    "start_time": "2023-08-03T09:16:57.745Z"
   },
   {
    "duration": 127,
    "start_time": "2023-08-03T09:17:58.167Z"
   },
   {
    "duration": 8,
    "start_time": "2023-08-03T09:18:27.398Z"
   },
   {
    "duration": 9,
    "start_time": "2023-08-03T09:18:38.661Z"
   },
   {
    "duration": 8,
    "start_time": "2023-08-03T09:18:47.453Z"
   },
   {
    "duration": 24,
    "start_time": "2023-08-03T09:28:02.350Z"
   },
   {
    "duration": 9,
    "start_time": "2023-08-03T09:28:02.760Z"
   },
   {
    "duration": 11,
    "start_time": "2023-08-03T09:31:16.888Z"
   },
   {
    "duration": 12,
    "start_time": "2023-08-03T09:31:21.881Z"
   },
   {
    "duration": 9,
    "start_time": "2023-08-03T09:31:26.934Z"
   },
   {
    "duration": 12,
    "start_time": "2023-08-03T09:31:34.324Z"
   },
   {
    "duration": 310,
    "start_time": "2023-08-03T09:31:51.767Z"
   },
   {
    "duration": 489,
    "start_time": "2023-08-03T09:31:59.140Z"
   },
   {
    "duration": 334,
    "start_time": "2023-08-03T09:32:04.112Z"
   },
   {
    "duration": 241,
    "start_time": "2023-08-03T09:32:17.602Z"
   },
   {
    "duration": 319,
    "start_time": "2023-08-03T09:32:21.538Z"
   },
   {
    "duration": 390,
    "start_time": "2023-08-03T09:32:26.084Z"
   },
   {
    "duration": 288,
    "start_time": "2023-08-03T09:32:30.149Z"
   },
   {
    "duration": 370,
    "start_time": "2023-08-03T09:32:32.930Z"
   },
   {
    "duration": 604,
    "start_time": "2023-08-03T09:33:16.587Z"
   },
   {
    "duration": 270,
    "start_time": "2023-08-03T09:33:30.793Z"
   },
   {
    "duration": 319,
    "start_time": "2023-08-03T09:33:44.544Z"
   },
   {
    "duration": 343,
    "start_time": "2023-08-03T09:36:21.898Z"
   },
   {
    "duration": 23,
    "start_time": "2023-08-03T09:36:34.164Z"
   },
   {
    "duration": 316,
    "start_time": "2023-08-03T09:36:42.254Z"
   },
   {
    "duration": 306,
    "start_time": "2023-08-03T09:36:50.150Z"
   },
   {
    "duration": 483,
    "start_time": "2023-08-03T09:38:14.836Z"
   },
   {
    "duration": 838,
    "start_time": "2023-08-03T09:49:28.140Z"
   },
   {
    "duration": 22,
    "start_time": "2023-08-03T10:09:11.608Z"
   },
   {
    "duration": 9,
    "start_time": "2023-08-03T10:13:06.686Z"
   },
   {
    "duration": 13,
    "start_time": "2023-08-03T10:13:13.267Z"
   },
   {
    "duration": 10,
    "start_time": "2023-08-03T10:13:39.357Z"
   },
   {
    "duration": 136,
    "start_time": "2023-08-03T10:13:52.413Z"
   },
   {
    "duration": 43,
    "start_time": "2023-08-03T10:14:10.655Z"
   },
   {
    "duration": 18,
    "start_time": "2023-08-03T10:15:23.588Z"
   },
   {
    "duration": 43,
    "start_time": "2023-08-03T10:15:27.449Z"
   },
   {
    "duration": 14,
    "start_time": "2023-08-03T10:17:42.131Z"
   },
   {
    "duration": 184,
    "start_time": "2023-08-03T10:18:27.073Z"
   },
   {
    "duration": 176,
    "start_time": "2023-08-03T10:18:29.954Z"
   },
   {
    "duration": 186,
    "start_time": "2023-08-03T10:18:31.308Z"
   },
   {
    "duration": 30,
    "start_time": "2023-08-03T10:18:51.399Z"
   },
   {
    "duration": 43,
    "start_time": "2023-08-03T10:19:37.118Z"
   },
   {
    "duration": 14,
    "start_time": "2023-08-03T10:19:43.650Z"
   },
   {
    "duration": 1968,
    "start_time": "2023-08-03T10:19:56.070Z"
   },
   {
    "duration": 986,
    "start_time": "2023-08-03T10:19:58.043Z"
   },
   {
    "duration": 128,
    "start_time": "2023-08-03T10:19:59.032Z"
   },
   {
    "duration": 30,
    "start_time": "2023-08-03T10:19:59.164Z"
   },
   {
    "duration": 209,
    "start_time": "2023-08-03T10:19:59.210Z"
   },
   {
    "duration": 1095,
    "start_time": "2023-08-03T10:19:59.423Z"
   },
   {
    "duration": 7,
    "start_time": "2023-08-03T10:20:00.521Z"
   },
   {
    "duration": 137,
    "start_time": "2023-08-03T10:20:00.529Z"
   },
   {
    "duration": 99,
    "start_time": "2023-08-03T10:20:00.669Z"
   },
   {
    "duration": 115,
    "start_time": "2023-08-03T10:20:00.771Z"
   },
   {
    "duration": 235,
    "start_time": "2023-08-03T10:20:00.890Z"
   },
   {
    "duration": 211,
    "start_time": "2023-08-03T10:20:01.129Z"
   },
   {
    "duration": 12,
    "start_time": "2023-08-03T10:20:01.342Z"
   },
   {
    "duration": 88,
    "start_time": "2023-08-03T10:20:01.356Z"
   },
   {
    "duration": 300,
    "start_time": "2023-08-03T10:20:01.447Z"
   },
   {
    "duration": 33,
    "start_time": "2023-08-03T10:20:01.750Z"
   },
   {
    "duration": 39,
    "start_time": "2023-08-03T10:20:01.786Z"
   },
   {
    "duration": 249,
    "start_time": "2023-08-03T10:20:01.829Z"
   },
   {
    "duration": 39,
    "start_time": "2023-08-03T10:20:02.081Z"
   },
   {
    "duration": 27,
    "start_time": "2023-08-03T10:20:02.130Z"
   },
   {
    "duration": 31,
    "start_time": "2023-08-03T10:20:02.159Z"
   },
   {
    "duration": 39,
    "start_time": "2023-08-03T10:20:02.193Z"
   },
   {
    "duration": 365,
    "start_time": "2023-08-03T10:20:02.234Z"
   },
   {
    "duration": 32,
    "start_time": "2023-08-03T10:20:02.601Z"
   },
   {
    "duration": 765,
    "start_time": "2023-08-03T10:20:02.637Z"
   },
   {
    "duration": 1706,
    "start_time": "2023-08-04T09:04:07.755Z"
   },
   {
    "duration": 2970,
    "start_time": "2023-08-04T09:04:09.463Z"
   },
   {
    "duration": 115,
    "start_time": "2023-08-04T09:04:12.434Z"
   },
   {
    "duration": 27,
    "start_time": "2023-08-04T09:04:12.550Z"
   },
   {
    "duration": 141,
    "start_time": "2023-08-04T09:04:12.579Z"
   },
   {
    "duration": 965,
    "start_time": "2023-08-04T09:04:12.722Z"
   },
   {
    "duration": 4,
    "start_time": "2023-08-04T09:04:13.688Z"
   },
   {
    "duration": 73,
    "start_time": "2023-08-04T09:04:13.694Z"
   },
   {
    "duration": 77,
    "start_time": "2023-08-04T09:04:13.770Z"
   },
   {
    "duration": 98,
    "start_time": "2023-08-04T09:04:13.849Z"
   },
   {
    "duration": 210,
    "start_time": "2023-08-04T09:04:13.949Z"
   },
   {
    "duration": 202,
    "start_time": "2023-08-04T09:04:14.161Z"
   },
   {
    "duration": 10,
    "start_time": "2023-08-04T09:04:14.365Z"
   },
   {
    "duration": 14,
    "start_time": "2023-08-04T09:04:14.377Z"
   },
   {
    "duration": 278,
    "start_time": "2023-08-04T09:04:14.392Z"
   },
   {
    "duration": 27,
    "start_time": "2023-08-04T09:04:14.672Z"
   },
   {
    "duration": 42,
    "start_time": "2023-08-04T09:04:14.701Z"
   },
   {
    "duration": 214,
    "start_time": "2023-08-04T09:04:14.745Z"
   },
   {
    "duration": 23,
    "start_time": "2023-08-04T09:04:14.961Z"
   },
   {
    "duration": 27,
    "start_time": "2023-08-04T09:04:14.986Z"
   },
   {
    "duration": 54,
    "start_time": "2023-08-04T09:04:15.015Z"
   },
   {
    "duration": 7,
    "start_time": "2023-08-04T09:04:15.071Z"
   },
   {
    "duration": 293,
    "start_time": "2023-08-04T09:04:15.080Z"
   },
   {
    "duration": 20,
    "start_time": "2023-08-04T09:04:15.375Z"
   },
   {
    "duration": 615,
    "start_time": "2023-08-04T09:04:15.397Z"
   },
   {
    "duration": 433,
    "start_time": "2023-08-04T09:15:51.792Z"
   },
   {
    "duration": 357,
    "start_time": "2023-08-04T09:16:18.936Z"
   },
   {
    "duration": 8,
    "start_time": "2023-08-04T09:20:33.787Z"
   },
   {
    "duration": 332,
    "start_time": "2023-08-04T09:27:41.211Z"
   },
   {
    "duration": 17565,
    "start_time": "2023-08-04T09:30:07.118Z"
   },
   {
    "duration": 26,
    "start_time": "2023-08-04T09:30:31.469Z"
   },
   {
    "duration": 68,
    "start_time": "2023-08-04T09:30:55.904Z"
   },
   {
    "duration": 3056,
    "start_time": "2023-08-04T09:33:12.502Z"
   },
   {
    "duration": 24,
    "start_time": "2023-08-04T09:33:19.820Z"
   },
   {
    "duration": 2444,
    "start_time": "2023-08-04T09:33:23.061Z"
   },
   {
    "duration": 2410,
    "start_time": "2023-08-04T09:33:46.573Z"
   },
   {
    "duration": 22,
    "start_time": "2023-08-04T09:33:48.985Z"
   },
   {
    "duration": 2416,
    "start_time": "2023-08-04T09:33:55.358Z"
   },
   {
    "duration": 26,
    "start_time": "2023-08-04T09:33:57.776Z"
   },
   {
    "duration": 1521,
    "start_time": "2023-08-04T09:34:22.100Z"
   },
   {
    "duration": 916,
    "start_time": "2023-08-04T09:34:23.623Z"
   },
   {
    "duration": 153,
    "start_time": "2023-08-04T09:34:24.541Z"
   },
   {
    "duration": 19,
    "start_time": "2023-08-04T09:34:24.696Z"
   },
   {
    "duration": 129,
    "start_time": "2023-08-04T09:34:24.717Z"
   },
   {
    "duration": 1001,
    "start_time": "2023-08-04T09:34:24.847Z"
   },
   {
    "duration": 4,
    "start_time": "2023-08-04T09:34:25.849Z"
   },
   {
    "duration": 77,
    "start_time": "2023-08-04T09:34:25.854Z"
   },
   {
    "duration": 73,
    "start_time": "2023-08-04T09:34:25.933Z"
   },
   {
    "duration": 87,
    "start_time": "2023-08-04T09:34:26.009Z"
   },
   {
    "duration": 189,
    "start_time": "2023-08-04T09:34:26.097Z"
   },
   {
    "duration": 206,
    "start_time": "2023-08-04T09:34:26.287Z"
   },
   {
    "duration": 10,
    "start_time": "2023-08-04T09:34:26.495Z"
   },
   {
    "duration": 13,
    "start_time": "2023-08-04T09:34:26.507Z"
   },
   {
    "duration": 255,
    "start_time": "2023-08-04T09:34:26.522Z"
   },
   {
    "duration": 28,
    "start_time": "2023-08-04T09:34:26.780Z"
   },
   {
    "duration": 9,
    "start_time": "2023-08-04T09:34:26.810Z"
   },
   {
    "duration": 224,
    "start_time": "2023-08-04T09:34:26.820Z"
   },
   {
    "duration": 30,
    "start_time": "2023-08-04T09:34:27.046Z"
   },
   {
    "duration": 25,
    "start_time": "2023-08-04T09:34:27.078Z"
   },
   {
    "duration": 19,
    "start_time": "2023-08-04T09:34:27.105Z"
   },
   {
    "duration": 15,
    "start_time": "2023-08-04T09:34:27.126Z"
   },
   {
    "duration": 293,
    "start_time": "2023-08-04T09:34:27.143Z"
   },
   {
    "duration": 29,
    "start_time": "2023-08-04T09:34:27.438Z"
   },
   {
    "duration": 575,
    "start_time": "2023-08-04T09:34:27.469Z"
   },
   {
    "duration": 411,
    "start_time": "2023-08-04T09:34:28.046Z"
   },
   {
    "duration": 17023,
    "start_time": "2023-08-04T09:34:28.459Z"
   },
   {
    "duration": 29,
    "start_time": "2023-08-04T09:34:45.487Z"
   },
   {
    "duration": 4,
    "start_time": "2023-08-04T09:34:48.291Z"
   },
   {
    "duration": 110,
    "start_time": "2023-08-04T09:34:57.307Z"
   },
   {
    "duration": 1392,
    "start_time": "2023-08-04T09:35:07.493Z"
   },
   {
    "duration": 11,
    "start_time": "2023-08-04T10:24:09.486Z"
   },
   {
    "duration": 15,
    "start_time": "2023-08-04T10:24:30.157Z"
   },
   {
    "duration": 547,
    "start_time": "2023-08-04T10:25:40.840Z"
   },
   {
    "duration": 14,
    "start_time": "2023-08-04T10:25:41.389Z"
   },
   {
    "duration": 23,
    "start_time": "2023-08-04T10:25:46.341Z"
   },
   {
    "duration": 1648,
    "start_time": "2023-08-04T10:25:53.468Z"
   },
   {
    "duration": 856,
    "start_time": "2023-08-04T10:25:55.118Z"
   },
   {
    "duration": 121,
    "start_time": "2023-08-04T10:25:55.975Z"
   },
   {
    "duration": 18,
    "start_time": "2023-08-04T10:25:56.098Z"
   },
   {
    "duration": 121,
    "start_time": "2023-08-04T10:25:56.118Z"
   },
   {
    "duration": 893,
    "start_time": "2023-08-04T10:25:56.241Z"
   },
   {
    "duration": 3,
    "start_time": "2023-08-04T10:25:57.136Z"
   },
   {
    "duration": 62,
    "start_time": "2023-08-04T10:25:57.141Z"
   },
   {
    "duration": 78,
    "start_time": "2023-08-04T10:25:57.205Z"
   },
   {
    "duration": 101,
    "start_time": "2023-08-04T10:25:57.285Z"
   },
   {
    "duration": 187,
    "start_time": "2023-08-04T10:25:57.388Z"
   },
   {
    "duration": 201,
    "start_time": "2023-08-04T10:25:57.577Z"
   },
   {
    "duration": 114,
    "start_time": "2023-08-04T10:25:57.780Z"
   },
   {
    "duration": 14,
    "start_time": "2023-08-04T10:25:57.897Z"
   },
   {
    "duration": 269,
    "start_time": "2023-08-04T10:25:57.913Z"
   },
   {
    "duration": 27,
    "start_time": "2023-08-04T10:25:58.184Z"
   },
   {
    "duration": 9,
    "start_time": "2023-08-04T10:25:58.213Z"
   },
   {
    "duration": 227,
    "start_time": "2023-08-04T10:25:58.223Z"
   },
   {
    "duration": 29,
    "start_time": "2023-08-04T10:25:58.452Z"
   },
   {
    "duration": 26,
    "start_time": "2023-08-04T10:25:58.483Z"
   },
   {
    "duration": 16,
    "start_time": "2023-08-04T10:25:58.511Z"
   },
   {
    "duration": 9,
    "start_time": "2023-08-04T10:25:58.529Z"
   },
   {
    "duration": 322,
    "start_time": "2023-08-04T10:25:58.539Z"
   },
   {
    "duration": 22,
    "start_time": "2023-08-04T10:25:58.866Z"
   },
   {
    "duration": 629,
    "start_time": "2023-08-04T10:25:58.891Z"
   },
   {
    "duration": 438,
    "start_time": "2023-08-04T10:25:59.522Z"
   },
   {
    "duration": 143,
    "start_time": "2023-08-04T10:25:59.962Z"
   },
   {
    "duration": 19,
    "start_time": "2023-08-04T10:26:00.107Z"
   },
   {
    "duration": 18239,
    "start_time": "2023-08-04T10:26:00.128Z"
   },
   {
    "duration": 19125,
    "start_time": "2023-08-04T10:52:32.443Z"
   },
   {
    "duration": 98,
    "start_time": "2023-08-04T10:52:51.571Z"
   },
   {
    "duration": 1551,
    "start_time": "2023-08-04T10:53:11.445Z"
   },
   {
    "duration": 845,
    "start_time": "2023-08-04T10:53:12.998Z"
   },
   {
    "duration": 167,
    "start_time": "2023-08-04T10:53:13.845Z"
   },
   {
    "duration": 19,
    "start_time": "2023-08-04T10:53:14.015Z"
   },
   {
    "duration": 152,
    "start_time": "2023-08-04T10:53:14.037Z"
   },
   {
    "duration": 946,
    "start_time": "2023-08-04T10:53:14.192Z"
   },
   {
    "duration": 3,
    "start_time": "2023-08-04T10:53:15.140Z"
   },
   {
    "duration": 79,
    "start_time": "2023-08-04T10:53:15.145Z"
   },
   {
    "duration": 81,
    "start_time": "2023-08-04T10:53:15.226Z"
   },
   {
    "duration": 96,
    "start_time": "2023-08-04T10:53:15.309Z"
   },
   {
    "duration": 189,
    "start_time": "2023-08-04T10:53:15.407Z"
   },
   {
    "duration": 214,
    "start_time": "2023-08-04T10:53:15.598Z"
   },
   {
    "duration": 110,
    "start_time": "2023-08-04T10:53:15.814Z"
   },
   {
    "duration": 15,
    "start_time": "2023-08-04T10:53:15.927Z"
   },
   {
    "duration": 282,
    "start_time": "2023-08-04T10:53:15.944Z"
   },
   {
    "duration": 26,
    "start_time": "2023-08-04T10:53:16.228Z"
   },
   {
    "duration": 18,
    "start_time": "2023-08-04T10:53:16.256Z"
   },
   {
    "duration": 230,
    "start_time": "2023-08-04T10:53:16.276Z"
   },
   {
    "duration": 22,
    "start_time": "2023-08-04T10:53:16.508Z"
   },
   {
    "duration": 36,
    "start_time": "2023-08-04T10:53:16.532Z"
   },
   {
    "duration": 20,
    "start_time": "2023-08-04T10:53:16.570Z"
   },
   {
    "duration": 14,
    "start_time": "2023-08-04T10:53:16.592Z"
   },
   {
    "duration": 328,
    "start_time": "2023-08-04T10:53:16.608Z"
   },
   {
    "duration": 28,
    "start_time": "2023-08-04T10:53:16.939Z"
   },
   {
    "duration": 610,
    "start_time": "2023-08-04T10:53:16.969Z"
   },
   {
    "duration": 431,
    "start_time": "2023-08-04T10:53:17.581Z"
   },
   {
    "duration": 17595,
    "start_time": "2023-08-04T10:53:18.014Z"
   },
   {
    "duration": 25,
    "start_time": "2023-08-04T10:53:35.611Z"
   },
   {
    "duration": 5,
    "start_time": "2023-08-04T10:53:55.269Z"
   },
   {
    "duration": 19694,
    "start_time": "2023-08-04T10:53:55.277Z"
   },
   {
    "duration": 19197,
    "start_time": "2023-08-04T10:54:58.272Z"
   },
   {
    "duration": 18892,
    "start_time": "2023-08-04T10:55:20.980Z"
   },
   {
    "duration": 117,
    "start_time": "2023-08-04T10:57:03.021Z"
   },
   {
    "duration": 16327,
    "start_time": "2023-08-04T10:57:06.862Z"
   },
   {
    "duration": 19092,
    "start_time": "2023-08-04T11:00:09.282Z"
   },
   {
    "duration": 11,
    "start_time": "2023-08-04T11:01:07.454Z"
   },
   {
    "duration": 1868,
    "start_time": "2023-08-04T11:11:10.577Z"
   },
   {
    "duration": 1089,
    "start_time": "2023-08-04T11:11:12.448Z"
   },
   {
    "duration": 137,
    "start_time": "2023-08-04T11:11:13.539Z"
   },
   {
    "duration": 22,
    "start_time": "2023-08-04T11:11:13.679Z"
   },
   {
    "duration": 137,
    "start_time": "2023-08-04T11:11:13.704Z"
   },
   {
    "duration": 1139,
    "start_time": "2023-08-04T11:11:13.843Z"
   },
   {
    "duration": 3,
    "start_time": "2023-08-04T11:11:14.984Z"
   },
   {
    "duration": 80,
    "start_time": "2023-08-04T11:11:14.989Z"
   },
   {
    "duration": 132,
    "start_time": "2023-08-04T11:11:15.072Z"
   },
   {
    "duration": 133,
    "start_time": "2023-08-04T11:11:15.206Z"
   },
   {
    "duration": 191,
    "start_time": "2023-08-04T11:11:15.342Z"
   },
   {
    "duration": 230,
    "start_time": "2023-08-04T11:11:15.535Z"
   },
   {
    "duration": 130,
    "start_time": "2023-08-04T11:11:15.768Z"
   },
   {
    "duration": 22,
    "start_time": "2023-08-04T11:11:15.902Z"
   },
   {
    "duration": 318,
    "start_time": "2023-08-04T11:11:15.926Z"
   },
   {
    "duration": 43,
    "start_time": "2023-08-04T11:11:16.247Z"
   },
   {
    "duration": 13,
    "start_time": "2023-08-04T11:11:16.293Z"
   },
   {
    "duration": 356,
    "start_time": "2023-08-04T11:11:16.308Z"
   },
   {
    "duration": 31,
    "start_time": "2023-08-04T11:11:16.668Z"
   },
   {
    "duration": 63,
    "start_time": "2023-08-04T11:11:16.704Z"
   },
   {
    "duration": 19,
    "start_time": "2023-08-04T11:11:16.770Z"
   },
   {
    "duration": 16,
    "start_time": "2023-08-04T11:11:16.792Z"
   },
   {
    "duration": 516,
    "start_time": "2023-08-04T11:11:16.812Z"
   },
   {
    "duration": 37,
    "start_time": "2023-08-04T11:11:17.331Z"
   },
   {
    "duration": 773,
    "start_time": "2023-08-04T11:11:17.371Z"
   },
   {
    "duration": 504,
    "start_time": "2023-08-04T11:11:18.147Z"
   },
   {
    "duration": 18696,
    "start_time": "2023-08-04T11:11:18.654Z"
   },
   {
    "duration": 29021,
    "start_time": "2023-08-04T11:11:37.352Z"
   },
   {
    "duration": 6,
    "start_time": "2023-08-04T11:12:06.377Z"
   },
   {
    "duration": 0,
    "start_time": "2023-08-04T11:12:06.386Z"
   },
   {
    "duration": 1561,
    "start_time": "2023-08-04T11:26:13.978Z"
   },
   {
    "duration": 921,
    "start_time": "2023-08-04T11:26:15.541Z"
   },
   {
    "duration": 129,
    "start_time": "2023-08-04T11:26:16.464Z"
   },
   {
    "duration": 29,
    "start_time": "2023-08-04T11:26:16.595Z"
   },
   {
    "duration": 113,
    "start_time": "2023-08-04T11:26:16.627Z"
   },
   {
    "duration": 942,
    "start_time": "2023-08-04T11:26:16.742Z"
   },
   {
    "duration": 4,
    "start_time": "2023-08-04T11:26:17.686Z"
   },
   {
    "duration": 60,
    "start_time": "2023-08-04T11:26:17.691Z"
   },
   {
    "duration": 78,
    "start_time": "2023-08-04T11:26:17.766Z"
   },
   {
    "duration": 105,
    "start_time": "2023-08-04T11:26:17.846Z"
   },
   {
    "duration": 209,
    "start_time": "2023-08-04T11:26:17.953Z"
   },
   {
    "duration": 211,
    "start_time": "2023-08-04T11:26:18.167Z"
   },
   {
    "duration": 124,
    "start_time": "2023-08-04T11:26:18.381Z"
   },
   {
    "duration": 15,
    "start_time": "2023-08-04T11:26:18.509Z"
   },
   {
    "duration": 259,
    "start_time": "2023-08-04T11:26:18.525Z"
   },
   {
    "duration": 28,
    "start_time": "2023-08-04T11:26:18.786Z"
   },
   {
    "duration": 9,
    "start_time": "2023-08-04T11:26:18.816Z"
   },
   {
    "duration": 249,
    "start_time": "2023-08-04T11:26:18.827Z"
   },
   {
    "duration": 22,
    "start_time": "2023-08-04T11:26:19.078Z"
   },
   {
    "duration": 27,
    "start_time": "2023-08-04T11:26:19.102Z"
   },
   {
    "duration": 37,
    "start_time": "2023-08-04T11:26:19.131Z"
   },
   {
    "duration": 25,
    "start_time": "2023-08-04T11:26:19.170Z"
   },
   {
    "duration": 318,
    "start_time": "2023-08-04T11:26:19.197Z"
   },
   {
    "duration": 21,
    "start_time": "2023-08-04T11:26:19.517Z"
   },
   {
    "duration": 655,
    "start_time": "2023-08-04T11:26:19.540Z"
   },
   {
    "duration": 442,
    "start_time": "2023-08-04T11:26:20.197Z"
   },
   {
    "duration": 17982,
    "start_time": "2023-08-04T11:26:20.641Z"
   },
   {
    "duration": 32750,
    "start_time": "2023-08-04T11:26:38.625Z"
   },
   {
    "duration": 312441,
    "start_time": "2023-08-04T11:27:11.378Z"
   },
   {
    "duration": 5,
    "start_time": "2023-08-04T11:37:22.423Z"
   },
   {
    "duration": 136,
    "start_time": "2023-08-04T11:53:24.924Z"
   },
   {
    "duration": 1552,
    "start_time": "2023-08-04T12:16:47.427Z"
   },
   {
    "duration": 842,
    "start_time": "2023-08-04T12:16:48.981Z"
   },
   {
    "duration": 125,
    "start_time": "2023-08-04T12:16:49.825Z"
   },
   {
    "duration": 23,
    "start_time": "2023-08-04T12:16:49.952Z"
   },
   {
    "duration": 156,
    "start_time": "2023-08-04T12:16:49.977Z"
   },
   {
    "duration": 951,
    "start_time": "2023-08-04T12:16:50.136Z"
   },
   {
    "duration": 4,
    "start_time": "2023-08-04T12:16:51.089Z"
   },
   {
    "duration": 77,
    "start_time": "2023-08-04T12:16:51.095Z"
   },
   {
    "duration": 75,
    "start_time": "2023-08-04T12:16:51.175Z"
   },
   {
    "duration": 118,
    "start_time": "2023-08-04T12:16:51.252Z"
   },
   {
    "duration": 188,
    "start_time": "2023-08-04T12:16:51.372Z"
   },
   {
    "duration": 214,
    "start_time": "2023-08-04T12:16:51.563Z"
   },
   {
    "duration": 115,
    "start_time": "2023-08-04T12:16:51.779Z"
   },
   {
    "duration": 14,
    "start_time": "2023-08-04T12:16:51.897Z"
   },
   {
    "duration": 288,
    "start_time": "2023-08-04T12:16:51.912Z"
   },
   {
    "duration": 28,
    "start_time": "2023-08-04T12:16:52.202Z"
   },
   {
    "duration": 16,
    "start_time": "2023-08-04T12:16:52.232Z"
   },
   {
    "duration": 229,
    "start_time": "2023-08-04T12:16:52.268Z"
   },
   {
    "duration": 29,
    "start_time": "2023-08-04T12:16:52.499Z"
   },
   {
    "duration": 60,
    "start_time": "2023-08-04T12:16:52.531Z"
   },
   {
    "duration": 40,
    "start_time": "2023-08-04T12:16:52.593Z"
   },
   {
    "duration": 17,
    "start_time": "2023-08-04T12:16:52.636Z"
   },
   {
    "duration": 315,
    "start_time": "2023-08-04T12:16:52.657Z"
   },
   {
    "duration": 22,
    "start_time": "2023-08-04T12:16:52.974Z"
   },
   {
    "duration": 666,
    "start_time": "2023-08-04T12:16:52.997Z"
   },
   {
    "duration": 466,
    "start_time": "2023-08-04T12:16:53.666Z"
   },
   {
    "duration": 17571,
    "start_time": "2023-08-04T12:16:54.135Z"
   },
   {
    "duration": 20263,
    "start_time": "2023-08-04T12:17:11.708Z"
   },
   {
    "duration": 93130,
    "start_time": "2023-08-04T12:17:31.973Z"
   },
   {
    "duration": 3,
    "start_time": "2023-08-04T12:19:05.168Z"
   },
   {
    "duration": 142814,
    "start_time": "2023-08-04T12:19:05.173Z"
   },
   {
    "duration": 1548,
    "start_time": "2023-08-04T12:27:01.246Z"
   },
   {
    "duration": 873,
    "start_time": "2023-08-04T12:27:02.796Z"
   },
   {
    "duration": 122,
    "start_time": "2023-08-04T12:27:03.670Z"
   },
   {
    "duration": 27,
    "start_time": "2023-08-04T12:27:03.794Z"
   },
   {
    "duration": 185,
    "start_time": "2023-08-04T12:27:03.824Z"
   },
   {
    "duration": 947,
    "start_time": "2023-08-04T12:27:04.012Z"
   },
   {
    "duration": 4,
    "start_time": "2023-08-04T12:27:04.967Z"
   },
   {
    "duration": 81,
    "start_time": "2023-08-04T12:27:04.973Z"
   },
   {
    "duration": 94,
    "start_time": "2023-08-04T12:27:05.056Z"
   },
   {
    "duration": 81,
    "start_time": "2023-08-04T12:27:05.152Z"
   },
   {
    "duration": 189,
    "start_time": "2023-08-04T12:27:05.235Z"
   },
   {
    "duration": 211,
    "start_time": "2023-08-04T12:27:05.426Z"
   },
   {
    "duration": 110,
    "start_time": "2023-08-04T12:27:05.639Z"
   },
   {
    "duration": 21,
    "start_time": "2023-08-04T12:27:05.752Z"
   },
   {
    "duration": 259,
    "start_time": "2023-08-04T12:27:05.774Z"
   },
   {
    "duration": 34,
    "start_time": "2023-08-04T12:27:06.035Z"
   },
   {
    "duration": 24,
    "start_time": "2023-08-04T12:27:06.071Z"
   },
   {
    "duration": 214,
    "start_time": "2023-08-04T12:27:06.097Z"
   },
   {
    "duration": 22,
    "start_time": "2023-08-04T12:27:06.312Z"
   },
   {
    "duration": 37,
    "start_time": "2023-08-04T12:27:06.336Z"
   },
   {
    "duration": 27,
    "start_time": "2023-08-04T12:27:06.375Z"
   },
   {
    "duration": 14,
    "start_time": "2023-08-04T12:27:06.404Z"
   },
   {
    "duration": 296,
    "start_time": "2023-08-04T12:27:06.420Z"
   },
   {
    "duration": 21,
    "start_time": "2023-08-04T12:27:06.718Z"
   },
   {
    "duration": 573,
    "start_time": "2023-08-04T12:27:06.740Z"
   },
   {
    "duration": 413,
    "start_time": "2023-08-04T12:27:07.314Z"
   },
   {
    "duration": 17549,
    "start_time": "2023-08-04T12:27:07.728Z"
   },
   {
    "duration": 182,
    "start_time": "2023-08-04T12:27:25.278Z"
   },
   {
    "duration": 60,
    "start_time": "2023-08-04T12:27:25.462Z"
   },
   {
    "duration": 3,
    "start_time": "2023-08-04T12:27:25.524Z"
   },
   {
    "duration": 1408,
    "start_time": "2023-08-04T12:28:46.717Z"
   },
   {
    "duration": 860,
    "start_time": "2023-08-04T12:28:48.127Z"
   },
   {
    "duration": 121,
    "start_time": "2023-08-04T12:28:48.989Z"
   },
   {
    "duration": 17,
    "start_time": "2023-08-04T12:28:49.112Z"
   },
   {
    "duration": 117,
    "start_time": "2023-08-04T12:28:49.132Z"
   },
   {
    "duration": 913,
    "start_time": "2023-08-04T12:28:49.252Z"
   },
   {
    "duration": 4,
    "start_time": "2023-08-04T12:28:50.166Z"
   },
   {
    "duration": 75,
    "start_time": "2023-08-04T12:28:50.171Z"
   },
   {
    "duration": 78,
    "start_time": "2023-08-04T12:28:50.248Z"
   },
   {
    "duration": 89,
    "start_time": "2023-08-04T12:28:50.328Z"
   },
   {
    "duration": 181,
    "start_time": "2023-08-04T12:28:50.419Z"
   },
   {
    "duration": 212,
    "start_time": "2023-08-04T12:28:50.602Z"
   },
   {
    "duration": 108,
    "start_time": "2023-08-04T12:28:50.816Z"
   },
   {
    "duration": 13,
    "start_time": "2023-08-04T12:28:50.928Z"
   },
   {
    "duration": 267,
    "start_time": "2023-08-04T12:28:50.943Z"
   },
   {
    "duration": 24,
    "start_time": "2023-08-04T12:28:51.212Z"
   },
   {
    "duration": 11,
    "start_time": "2023-08-04T12:28:51.237Z"
   },
   {
    "duration": 225,
    "start_time": "2023-08-04T12:28:51.267Z"
   },
   {
    "duration": 22,
    "start_time": "2023-08-04T12:28:51.493Z"
   },
   {
    "duration": 45,
    "start_time": "2023-08-04T12:28:51.517Z"
   },
   {
    "duration": 18,
    "start_time": "2023-08-04T12:28:51.564Z"
   },
   {
    "duration": 15,
    "start_time": "2023-08-04T12:28:51.584Z"
   },
   {
    "duration": 306,
    "start_time": "2023-08-04T12:28:51.601Z"
   },
   {
    "duration": 21,
    "start_time": "2023-08-04T12:28:51.909Z"
   },
   {
    "duration": 603,
    "start_time": "2023-08-04T12:28:51.932Z"
   },
   {
    "duration": 423,
    "start_time": "2023-08-04T12:28:52.537Z"
   },
   {
    "duration": 17085,
    "start_time": "2023-08-04T12:28:52.962Z"
   },
   {
    "duration": 223,
    "start_time": "2023-08-04T12:29:10.049Z"
   },
   {
    "duration": 140787,
    "start_time": "2023-08-04T12:29:28.085Z"
   },
   {
    "duration": 3416,
    "start_time": "2023-08-04T12:31:48.874Z"
   },
   {
    "duration": 21,
    "start_time": "2023-08-04T12:31:52.293Z"
   },
   {
    "duration": 0,
    "start_time": "2023-08-04T12:31:52.317Z"
   },
   {
    "duration": 0,
    "start_time": "2023-08-04T12:31:52.320Z"
   },
   {
    "duration": 74,
    "start_time": "2023-08-04T12:32:49.035Z"
   },
   {
    "duration": 4,
    "start_time": "2023-08-04T12:34:24.216Z"
   },
   {
    "duration": 1482,
    "start_time": "2023-08-04T12:34:27.454Z"
   },
   {
    "duration": 842,
    "start_time": "2023-08-04T12:34:28.939Z"
   },
   {
    "duration": 141,
    "start_time": "2023-08-04T12:34:29.783Z"
   },
   {
    "duration": 21,
    "start_time": "2023-08-04T12:34:29.926Z"
   },
   {
    "duration": 124,
    "start_time": "2023-08-04T12:34:29.950Z"
   },
   {
    "duration": 916,
    "start_time": "2023-08-04T12:34:30.076Z"
   },
   {
    "duration": 3,
    "start_time": "2023-08-04T12:34:30.994Z"
   },
   {
    "duration": 125,
    "start_time": "2023-08-04T12:34:30.999Z"
   },
   {
    "duration": 172,
    "start_time": "2023-08-04T12:34:31.125Z"
   },
   {
    "duration": 163,
    "start_time": "2023-08-04T12:34:31.299Z"
   },
   {
    "duration": 221,
    "start_time": "2023-08-04T12:34:31.464Z"
   },
   {
    "duration": 215,
    "start_time": "2023-08-04T12:34:31.686Z"
   },
   {
    "duration": 12,
    "start_time": "2023-08-04T12:34:31.903Z"
   },
   {
    "duration": 40,
    "start_time": "2023-08-04T12:34:31.919Z"
   },
   {
    "duration": 382,
    "start_time": "2023-08-04T12:34:31.961Z"
   },
   {
    "duration": 41,
    "start_time": "2023-08-04T12:34:32.345Z"
   },
   {
    "duration": 11,
    "start_time": "2023-08-04T12:34:32.388Z"
   },
   {
    "duration": 218,
    "start_time": "2023-08-04T12:34:32.401Z"
   },
   {
    "duration": 25,
    "start_time": "2023-08-04T12:34:32.621Z"
   },
   {
    "duration": 40,
    "start_time": "2023-08-04T12:34:32.648Z"
   },
   {
    "duration": 24,
    "start_time": "2023-08-04T12:34:32.690Z"
   },
   {
    "duration": 8,
    "start_time": "2023-08-04T12:34:32.716Z"
   },
   {
    "duration": 312,
    "start_time": "2023-08-04T12:34:32.726Z"
   },
   {
    "duration": 29,
    "start_time": "2023-08-04T12:34:33.040Z"
   },
   {
    "duration": 595,
    "start_time": "2023-08-04T12:34:33.071Z"
   },
   {
    "duration": 449,
    "start_time": "2023-08-04T12:34:33.668Z"
   },
   {
    "duration": 17504,
    "start_time": "2023-08-04T12:34:34.120Z"
   },
   {
    "duration": 191,
    "start_time": "2023-08-04T12:34:51.626Z"
   },
   {
    "duration": 1702,
    "start_time": "2023-08-04T12:41:11.887Z"
   },
   {
    "duration": 992,
    "start_time": "2023-08-04T12:41:13.591Z"
   },
   {
    "duration": 126,
    "start_time": "2023-08-04T12:41:14.585Z"
   },
   {
    "duration": 18,
    "start_time": "2023-08-04T12:41:14.713Z"
   },
   {
    "duration": 133,
    "start_time": "2023-08-04T12:41:14.733Z"
   },
   {
    "duration": 923,
    "start_time": "2023-08-04T12:41:14.868Z"
   },
   {
    "duration": 3,
    "start_time": "2023-08-04T12:41:15.792Z"
   },
   {
    "duration": 79,
    "start_time": "2023-08-04T12:41:15.797Z"
   },
   {
    "duration": 76,
    "start_time": "2023-08-04T12:41:15.878Z"
   },
   {
    "duration": 108,
    "start_time": "2023-08-04T12:41:15.968Z"
   },
   {
    "duration": 180,
    "start_time": "2023-08-04T12:41:16.079Z"
   },
   {
    "duration": 210,
    "start_time": "2023-08-04T12:41:16.261Z"
   },
   {
    "duration": 10,
    "start_time": "2023-08-04T12:41:16.473Z"
   },
   {
    "duration": 13,
    "start_time": "2023-08-04T12:41:16.486Z"
   },
   {
    "duration": 361,
    "start_time": "2023-08-04T12:41:16.501Z"
   },
   {
    "duration": 29,
    "start_time": "2023-08-04T12:41:16.867Z"
   },
   {
    "duration": 9,
    "start_time": "2023-08-04T12:41:16.898Z"
   },
   {
    "duration": 231,
    "start_time": "2023-08-04T12:41:16.909Z"
   },
   {
    "duration": 35,
    "start_time": "2023-08-04T12:41:17.142Z"
   },
   {
    "duration": 28,
    "start_time": "2023-08-04T12:41:17.179Z"
   },
   {
    "duration": 16,
    "start_time": "2023-08-04T12:41:17.210Z"
   },
   {
    "duration": 12,
    "start_time": "2023-08-04T12:41:17.229Z"
   },
   {
    "duration": 319,
    "start_time": "2023-08-04T12:41:17.268Z"
   },
   {
    "duration": 23,
    "start_time": "2023-08-04T12:41:17.590Z"
   },
   {
    "duration": 636,
    "start_time": "2023-08-04T12:41:17.615Z"
   },
   {
    "duration": 433,
    "start_time": "2023-08-04T12:41:18.254Z"
   },
   {
    "duration": 17516,
    "start_time": "2023-08-04T12:41:18.689Z"
   },
   {
    "duration": 2,
    "start_time": "2023-08-04T12:41:36.207Z"
   },
   {
    "duration": 77469,
    "start_time": "2023-08-04T12:41:36.211Z"
   },
   {
    "duration": 421796,
    "start_time": "2023-08-04T12:42:53.681Z"
   },
   {
    "duration": 207,
    "start_time": "2023-08-04T12:49:55.479Z"
   },
   {
    "duration": 2,
    "start_time": "2023-08-04T12:49:55.688Z"
   },
   {
    "duration": 40747,
    "start_time": "2023-08-04T12:50:19.241Z"
   },
   {
    "duration": 3,
    "start_time": "2023-08-04T12:51:00.066Z"
   },
   {
    "duration": 15110,
    "start_time": "2023-08-04T12:53:13.331Z"
   },
   {
    "duration": 26,
    "start_time": "2023-08-04T12:53:28.443Z"
   },
   {
    "duration": 28191,
    "start_time": "2023-08-04T13:00:01.173Z"
   },
   {
    "duration": 340,
    "start_time": "2023-08-04T13:00:29.365Z"
   },
   {
    "duration": 6,
    "start_time": "2023-08-04T13:00:29.707Z"
   },
   {
    "duration": 807392,
    "start_time": "2023-08-04T13:02:20.001Z"
   },
   {
    "duration": 33233,
    "start_time": "2023-08-04T13:15:47.395Z"
   },
   {
    "duration": 497,
    "start_time": "2023-08-04T13:16:20.632Z"
   },
   {
    "duration": 5,
    "start_time": "2023-08-04T13:16:21.131Z"
   },
   {
    "duration": 11,
    "start_time": "2023-08-04T14:29:22.754Z"
   },
   {
    "duration": 11,
    "start_time": "2023-08-04T14:29:46.048Z"
   },
   {
    "duration": 10,
    "start_time": "2023-08-04T14:29:57.956Z"
   },
   {
    "duration": 10,
    "start_time": "2023-08-04T14:30:00.022Z"
   },
   {
    "duration": 18536,
    "start_time": "2023-08-04T14:32:37.735Z"
   },
   {
    "duration": 71,
    "start_time": "2023-08-04T14:35:25.650Z"
   },
   {
    "duration": 78,
    "start_time": "2023-08-04T14:35:25.968Z"
   },
   {
    "duration": 18198,
    "start_time": "2023-08-04T14:43:25.669Z"
   },
   {
    "duration": 1455,
    "start_time": "2023-08-04T14:48:19.293Z"
   },
   {
    "duration": 911,
    "start_time": "2023-08-04T14:48:20.750Z"
   },
   {
    "duration": 134,
    "start_time": "2023-08-04T14:48:21.663Z"
   },
   {
    "duration": 16,
    "start_time": "2023-08-04T14:48:21.800Z"
   },
   {
    "duration": 124,
    "start_time": "2023-08-04T14:48:21.818Z"
   },
   {
    "duration": 919,
    "start_time": "2023-08-04T14:48:21.944Z"
   },
   {
    "duration": 5,
    "start_time": "2023-08-04T14:48:22.868Z"
   },
   {
    "duration": 74,
    "start_time": "2023-08-04T14:48:22.874Z"
   },
   {
    "duration": 80,
    "start_time": "2023-08-04T14:48:22.950Z"
   },
   {
    "duration": 95,
    "start_time": "2023-08-04T14:48:23.032Z"
   },
   {
    "duration": 196,
    "start_time": "2023-08-04T14:48:23.129Z"
   },
   {
    "duration": 217,
    "start_time": "2023-08-04T14:48:23.327Z"
   },
   {
    "duration": 11,
    "start_time": "2023-08-04T14:48:23.547Z"
   },
   {
    "duration": 21,
    "start_time": "2023-08-04T14:48:23.560Z"
   },
   {
    "duration": 337,
    "start_time": "2023-08-04T14:48:23.583Z"
   },
   {
    "duration": 33,
    "start_time": "2023-08-04T14:48:23.922Z"
   },
   {
    "duration": 11,
    "start_time": "2023-08-04T14:48:23.966Z"
   },
   {
    "duration": 261,
    "start_time": "2023-08-04T14:48:23.979Z"
   },
   {
    "duration": 34,
    "start_time": "2023-08-04T14:48:24.242Z"
   },
   {
    "duration": 26,
    "start_time": "2023-08-04T14:48:24.277Z"
   },
   {
    "duration": 26,
    "start_time": "2023-08-04T14:48:24.305Z"
   },
   {
    "duration": 8,
    "start_time": "2023-08-04T14:48:24.333Z"
   },
   {
    "duration": 291,
    "start_time": "2023-08-04T14:48:24.342Z"
   },
   {
    "duration": 32,
    "start_time": "2023-08-04T14:48:24.635Z"
   },
   {
    "duration": 572,
    "start_time": "2023-08-04T14:48:24.669Z"
   },
   {
    "duration": 404,
    "start_time": "2023-08-04T14:48:25.242Z"
   },
   {
    "duration": 17046,
    "start_time": "2023-08-04T14:48:25.648Z"
   },
   {
    "duration": 18973,
    "start_time": "2023-08-04T14:48:42.698Z"
   },
   {
    "duration": 468003,
    "start_time": "2023-08-04T14:49:01.673Z"
   },
   {
    "duration": 18803,
    "start_time": "2023-08-04T14:56:49.768Z"
   },
   {
    "duration": 197,
    "start_time": "2023-08-04T14:57:08.573Z"
   },
   {
    "duration": 98,
    "start_time": "2023-08-04T14:57:08.772Z"
   },
   {
    "duration": 15499,
    "start_time": "2023-08-04T14:57:08.872Z"
   },
   {
    "duration": 1595,
    "start_time": "2023-08-04T16:02:47.566Z"
   },
   {
    "duration": 934,
    "start_time": "2023-08-04T16:02:49.163Z"
   },
   {
    "duration": 145,
    "start_time": "2023-08-04T16:02:50.099Z"
   },
   {
    "duration": 30,
    "start_time": "2023-08-04T16:02:50.246Z"
   },
   {
    "duration": 113,
    "start_time": "2023-08-04T16:02:50.279Z"
   },
   {
    "duration": 955,
    "start_time": "2023-08-04T16:02:50.394Z"
   },
   {
    "duration": 4,
    "start_time": "2023-08-04T16:02:51.352Z"
   },
   {
    "duration": 74,
    "start_time": "2023-08-04T16:02:51.367Z"
   },
   {
    "duration": 90,
    "start_time": "2023-08-04T16:02:51.443Z"
   },
   {
    "duration": 105,
    "start_time": "2023-08-04T16:02:51.535Z"
   },
   {
    "duration": 202,
    "start_time": "2023-08-04T16:02:51.642Z"
   },
   {
    "duration": 226,
    "start_time": "2023-08-04T16:02:51.846Z"
   },
   {
    "duration": 11,
    "start_time": "2023-08-04T16:02:52.078Z"
   },
   {
    "duration": 99,
    "start_time": "2023-08-04T16:02:52.092Z"
   },
   {
    "duration": 448,
    "start_time": "2023-08-04T16:02:52.193Z"
   },
   {
    "duration": 46,
    "start_time": "2023-08-04T16:02:52.644Z"
   },
   {
    "duration": 11,
    "start_time": "2023-08-04T16:02:52.692Z"
   },
   {
    "duration": 240,
    "start_time": "2023-08-04T16:02:52.705Z"
   },
   {
    "duration": 32,
    "start_time": "2023-08-04T16:02:52.947Z"
   },
   {
    "duration": 28,
    "start_time": "2023-08-04T16:02:52.981Z"
   },
   {
    "duration": 41,
    "start_time": "2023-08-04T16:02:53.010Z"
   },
   {
    "duration": 75,
    "start_time": "2023-08-04T16:02:53.053Z"
   },
   {
    "duration": 362,
    "start_time": "2023-08-04T16:02:53.130Z"
   },
   {
    "duration": 26,
    "start_time": "2023-08-04T16:02:53.495Z"
   },
   {
    "duration": 692,
    "start_time": "2023-08-04T16:02:53.523Z"
   },
   {
    "duration": 426,
    "start_time": "2023-08-04T16:02:54.217Z"
   },
   {
    "duration": 18786,
    "start_time": "2023-08-04T16:02:54.645Z"
   },
   {
    "duration": 43237,
    "start_time": "2023-08-04T16:03:13.433Z"
   },
   {
    "duration": 925313,
    "start_time": "2023-08-04T16:03:56.672Z"
   },
   {
    "duration": 37180,
    "start_time": "2023-08-04T16:19:21.989Z"
   },
   {
    "duration": 202,
    "start_time": "2023-08-04T16:19:59.179Z"
   },
   {
    "duration": 85,
    "start_time": "2023-08-04T16:19:59.383Z"
   },
   {
    "duration": 68520,
    "start_time": "2023-08-04T16:19:59.470Z"
   },
   {
    "duration": 4227485,
    "start_time": "2023-08-04T16:21:07.991Z"
   },
   {
    "duration": 14715,
    "start_time": "2023-08-04T17:39:21.185Z"
   },
   {
    "duration": 6,
    "start_time": "2023-08-04T17:39:35.902Z"
   },
   {
    "duration": 72,
    "start_time": "2023-08-04T17:39:35.910Z"
   },
   {
    "duration": 28234,
    "start_time": "2023-08-04T17:39:35.984Z"
   },
   {
    "duration": 383,
    "start_time": "2023-08-04T17:40:04.220Z"
   },
   {
    "duration": 6,
    "start_time": "2023-08-04T17:40:04.608Z"
   },
   {
    "duration": 838413,
    "start_time": "2023-08-04T17:40:04.615Z"
   },
   {
    "duration": 36084,
    "start_time": "2023-08-04T17:54:03.030Z"
   },
   {
    "duration": 471,
    "start_time": "2023-08-04T17:54:39.116Z"
   },
   {
    "duration": 5,
    "start_time": "2023-08-04T17:54:39.589Z"
   },
   {
    "duration": 30,
    "start_time": "2023-08-04T17:54:39.595Z"
   },
   {
    "duration": 399848,
    "start_time": "2023-08-04T17:54:39.627Z"
   },
   {
    "duration": 883210,
    "start_time": "2023-08-04T19:58:38.670Z"
   },
   {
    "duration": 6,
    "start_time": "2023-08-04T20:22:24.112Z"
   },
   {
    "duration": 117,
    "start_time": "2023-08-04T20:24:56.885Z"
   },
   {
    "duration": 163,
    "start_time": "2023-08-04T20:25:10.219Z"
   },
   {
    "duration": 12,
    "start_time": "2023-08-04T20:25:10.542Z"
   },
   {
    "duration": 4,
    "start_time": "2023-08-04T20:25:16.178Z"
   },
   {
    "duration": 5,
    "start_time": "2023-08-04T20:30:07.534Z"
   },
   {
    "duration": 121,
    "start_time": "2023-08-04T21:20:22.482Z"
   },
   {
    "duration": 2237,
    "start_time": "2023-08-05T11:54:53.086Z"
   },
   {
    "duration": 0,
    "start_time": "2023-08-05T11:54:55.326Z"
   },
   {
    "duration": 14,
    "start_time": "2023-08-05T11:55:06.410Z"
   },
   {
    "duration": 24,
    "start_time": "2023-08-05T11:55:23.976Z"
   },
   {
    "duration": 22018,
    "start_time": "2023-08-05T11:55:56.920Z"
   },
   {
    "duration": 0,
    "start_time": "2023-08-05T11:56:19.028Z"
   },
   {
    "duration": 2969,
    "start_time": "2023-08-05T11:56:20.683Z"
   },
   {
    "duration": 4182,
    "start_time": "2023-08-05T11:56:23.654Z"
   },
   {
    "duration": 171,
    "start_time": "2023-08-05T11:56:27.838Z"
   },
   {
    "duration": 26,
    "start_time": "2023-08-05T11:56:28.011Z"
   },
   {
    "duration": 125030,
    "start_time": "2023-08-05T11:56:46.883Z"
   },
   {
    "duration": 14,
    "start_time": "2023-08-05T12:00:24.477Z"
   },
   {
    "duration": 63796,
    "start_time": "2023-08-05T12:00:41.753Z"
   },
   {
    "duration": 71690,
    "start_time": "2023-08-05T12:05:56.408Z"
   },
   {
    "duration": 21,
    "start_time": "2023-08-05T12:19:05.125Z"
   },
   {
    "duration": 25,
    "start_time": "2023-08-05T12:19:14.213Z"
   },
   {
    "duration": 17,
    "start_time": "2023-08-05T12:19:42.009Z"
   },
   {
    "duration": 20,
    "start_time": "2023-08-05T12:19:44.900Z"
   },
   {
    "duration": 35,
    "start_time": "2023-08-05T12:19:52.909Z"
   },
   {
    "duration": 38,
    "start_time": "2023-08-05T12:19:58.195Z"
   },
   {
    "duration": 24,
    "start_time": "2023-08-05T12:20:00.194Z"
   },
   {
    "duration": 28,
    "start_time": "2023-08-05T12:25:15.747Z"
   },
   {
    "duration": 115,
    "start_time": "2023-08-05T12:25:59.156Z"
   },
   {
    "duration": 3487,
    "start_time": "2023-08-05T12:26:22.715Z"
   },
   {
    "duration": 4394,
    "start_time": "2023-08-05T12:26:26.209Z"
   },
   {
    "duration": 210,
    "start_time": "2023-08-05T12:26:30.613Z"
   },
   {
    "duration": 29,
    "start_time": "2023-08-05T12:26:30.825Z"
   },
   {
    "duration": 156,
    "start_time": "2023-08-05T12:26:30.857Z"
   },
   {
    "duration": 1188,
    "start_time": "2023-08-05T12:26:31.014Z"
   },
   {
    "duration": 7,
    "start_time": "2023-08-05T12:26:32.209Z"
   },
   {
    "duration": 121,
    "start_time": "2023-08-05T12:26:32.223Z"
   },
   {
    "duration": 186,
    "start_time": "2023-08-05T12:26:32.346Z"
   },
   {
    "duration": 180,
    "start_time": "2023-08-05T12:26:32.534Z"
   },
   {
    "duration": 226,
    "start_time": "2023-08-05T12:26:32.716Z"
   },
   {
    "duration": 245,
    "start_time": "2023-08-05T12:26:32.947Z"
   },
   {
    "duration": 32,
    "start_time": "2023-08-05T12:26:33.203Z"
   },
   {
    "duration": 16,
    "start_time": "2023-08-05T12:26:33.239Z"
   },
   {
    "duration": 330,
    "start_time": "2023-08-05T12:26:33.257Z"
   },
   {
    "duration": 33,
    "start_time": "2023-08-05T12:26:33.592Z"
   },
   {
    "duration": 8,
    "start_time": "2023-08-05T12:26:33.627Z"
   },
   {
    "duration": 300,
    "start_time": "2023-08-05T12:26:33.636Z"
   },
   {
    "duration": 35,
    "start_time": "2023-08-05T12:26:33.938Z"
   },
   {
    "duration": 43,
    "start_time": "2023-08-05T12:26:33.975Z"
   },
   {
    "duration": 41,
    "start_time": "2023-08-05T12:26:34.020Z"
   },
   {
    "duration": 17,
    "start_time": "2023-08-05T12:26:34.063Z"
   },
   {
    "duration": 633,
    "start_time": "2023-08-05T12:26:34.082Z"
   },
   {
    "duration": 26,
    "start_time": "2023-08-05T12:26:34.720Z"
   },
   {
    "duration": 1303,
    "start_time": "2023-08-05T12:26:34.748Z"
   },
   {
    "duration": 21676,
    "start_time": "2023-08-05T12:26:36.054Z"
   },
   {
    "duration": 306,
    "start_time": "2023-08-05T12:26:57.732Z"
   },
   {
    "duration": 107,
    "start_time": "2023-08-05T12:26:58.040Z"
   },
   {
    "duration": 124,
    "start_time": "2023-08-05T12:26:58.149Z"
   },
   {
    "duration": 145,
    "start_time": "2023-08-05T12:26:58.277Z"
   },
   {
    "duration": 13,
    "start_time": "2023-08-05T12:26:58.424Z"
   },
   {
    "duration": 0,
    "start_time": "2023-08-05T12:26:58.439Z"
   },
   {
    "duration": 0,
    "start_time": "2023-08-05T12:26:58.440Z"
   },
   {
    "duration": 0,
    "start_time": "2023-08-05T12:26:58.442Z"
   },
   {
    "duration": 0,
    "start_time": "2023-08-05T12:26:58.443Z"
   },
   {
    "duration": 0,
    "start_time": "2023-08-05T12:26:58.444Z"
   },
   {
    "duration": 0,
    "start_time": "2023-08-05T12:26:58.445Z"
   },
   {
    "duration": 0,
    "start_time": "2023-08-05T12:26:58.446Z"
   },
   {
    "duration": 0,
    "start_time": "2023-08-05T12:26:58.448Z"
   },
   {
    "duration": 0,
    "start_time": "2023-08-05T12:26:58.449Z"
   },
   {
    "duration": 0,
    "start_time": "2023-08-05T12:26:58.450Z"
   },
   {
    "duration": 1,
    "start_time": "2023-08-05T12:26:58.451Z"
   },
   {
    "duration": 0,
    "start_time": "2023-08-05T12:26:58.453Z"
   },
   {
    "duration": 0,
    "start_time": "2023-08-05T12:26:58.454Z"
   },
   {
    "duration": 0,
    "start_time": "2023-08-05T12:26:58.455Z"
   },
   {
    "duration": 0,
    "start_time": "2023-08-05T12:26:58.456Z"
   },
   {
    "duration": 86212,
    "start_time": "2023-08-05T12:27:52.379Z"
   },
   {
    "duration": 81135,
    "start_time": "2023-08-05T12:29:27.484Z"
   },
   {
    "duration": 73952,
    "start_time": "2023-08-05T12:31:02.130Z"
   },
   {
    "duration": 1669,
    "start_time": "2023-08-05T12:59:53.305Z"
   },
   {
    "duration": 1110,
    "start_time": "2023-08-05T12:59:54.979Z"
   },
   {
    "duration": 156,
    "start_time": "2023-08-05T12:59:56.094Z"
   },
   {
    "duration": 40,
    "start_time": "2023-08-05T12:59:56.269Z"
   },
   {
    "duration": 128,
    "start_time": "2023-08-05T12:59:56.311Z"
   },
   {
    "duration": 1100,
    "start_time": "2023-08-05T12:59:56.441Z"
   },
   {
    "duration": 4,
    "start_time": "2023-08-05T12:59:57.543Z"
   },
   {
    "duration": 81,
    "start_time": "2023-08-05T12:59:57.558Z"
   },
   {
    "duration": 89,
    "start_time": "2023-08-05T12:59:57.641Z"
   },
   {
    "duration": 122,
    "start_time": "2023-08-05T12:59:57.733Z"
   },
   {
    "duration": 233,
    "start_time": "2023-08-05T12:59:57.862Z"
   },
   {
    "duration": 229,
    "start_time": "2023-08-05T12:59:58.105Z"
   },
   {
    "duration": 36,
    "start_time": "2023-08-05T12:59:58.336Z"
   },
   {
    "duration": 25,
    "start_time": "2023-08-05T12:59:58.383Z"
   },
   {
    "duration": 392,
    "start_time": "2023-08-05T12:59:58.410Z"
   },
   {
    "duration": 29,
    "start_time": "2023-08-05T12:59:58.803Z"
   },
   {
    "duration": 25,
    "start_time": "2023-08-05T12:59:58.834Z"
   },
   {
    "duration": 290,
    "start_time": "2023-08-05T12:59:58.861Z"
   },
   {
    "duration": 37,
    "start_time": "2023-08-05T12:59:59.156Z"
   },
   {
    "duration": 46,
    "start_time": "2023-08-05T12:59:59.195Z"
   },
   {
    "duration": 33,
    "start_time": "2023-08-05T12:59:59.263Z"
   },
   {
    "duration": 14,
    "start_time": "2023-08-05T12:59:59.307Z"
   },
   {
    "duration": 386,
    "start_time": "2023-08-05T12:59:59.324Z"
   },
   {
    "duration": 20,
    "start_time": "2023-08-05T12:59:59.711Z"
   },
   {
    "duration": 159,
    "start_time": "2023-08-05T12:59:59.733Z"
   },
   {
    "duration": 0,
    "start_time": "2023-08-05T12:59:59.898Z"
   },
   {
    "duration": 0,
    "start_time": "2023-08-05T12:59:59.899Z"
   },
   {
    "duration": 0,
    "start_time": "2023-08-05T12:59:59.900Z"
   },
   {
    "duration": 0,
    "start_time": "2023-08-05T12:59:59.903Z"
   },
   {
    "duration": 0,
    "start_time": "2023-08-05T12:59:59.906Z"
   },
   {
    "duration": 0,
    "start_time": "2023-08-05T12:59:59.908Z"
   },
   {
    "duration": 0,
    "start_time": "2023-08-05T12:59:59.909Z"
   },
   {
    "duration": 0,
    "start_time": "2023-08-05T12:59:59.910Z"
   },
   {
    "duration": 0,
    "start_time": "2023-08-05T12:59:59.911Z"
   },
   {
    "duration": 0,
    "start_time": "2023-08-05T12:59:59.912Z"
   },
   {
    "duration": 0,
    "start_time": "2023-08-05T12:59:59.913Z"
   },
   {
    "duration": 0,
    "start_time": "2023-08-05T12:59:59.914Z"
   },
   {
    "duration": 0,
    "start_time": "2023-08-05T12:59:59.915Z"
   },
   {
    "duration": 0,
    "start_time": "2023-08-05T12:59:59.917Z"
   },
   {
    "duration": 1,
    "start_time": "2023-08-05T12:59:59.917Z"
   },
   {
    "duration": 0,
    "start_time": "2023-08-05T12:59:59.919Z"
   },
   {
    "duration": 0,
    "start_time": "2023-08-05T12:59:59.920Z"
   },
   {
    "duration": 0,
    "start_time": "2023-08-05T12:59:59.921Z"
   },
   {
    "duration": 0,
    "start_time": "2023-08-05T12:59:59.922Z"
   },
   {
    "duration": 0,
    "start_time": "2023-08-05T12:59:59.923Z"
   },
   {
    "duration": 0,
    "start_time": "2023-08-05T12:59:59.924Z"
   },
   {
    "duration": 0,
    "start_time": "2023-08-05T12:59:59.925Z"
   },
   {
    "duration": 0,
    "start_time": "2023-08-05T12:59:59.926Z"
   },
   {
    "duration": 6,
    "start_time": "2023-08-05T13:00:24.443Z"
   },
   {
    "duration": 68,
    "start_time": "2023-08-05T13:00:29.295Z"
   },
   {
    "duration": 23,
    "start_time": "2023-08-05T13:00:30.319Z"
   },
   {
    "duration": 274,
    "start_time": "2023-08-05T13:01:08.189Z"
   },
   {
    "duration": 102,
    "start_time": "2023-08-05T13:02:26.843Z"
   },
   {
    "duration": 411,
    "start_time": "2023-08-05T13:02:31.217Z"
   },
   {
    "duration": 3943,
    "start_time": "2023-08-05T13:03:35.333Z"
   },
   {
    "duration": 111394,
    "start_time": "2023-08-05T13:10:52.079Z"
   },
   {
    "duration": 3882,
    "start_time": "2023-08-05T13:14:21.386Z"
   },
   {
    "duration": 181,
    "start_time": "2023-08-05T13:14:25.281Z"
   },
   {
    "duration": 13814,
    "start_time": "2023-08-05T13:14:25.466Z"
   },
   {
    "duration": 65,
    "start_time": "2023-08-05T13:14:39.293Z"
   },
   {
    "duration": 1241,
    "start_time": "2023-08-05T13:14:39.363Z"
   },
   {
    "duration": 1693,
    "start_time": "2023-08-05T13:47:23.474Z"
   },
   {
    "duration": 1019,
    "start_time": "2023-08-05T13:47:25.170Z"
   },
   {
    "duration": 143,
    "start_time": "2023-08-05T13:47:26.191Z"
   },
   {
    "duration": 33,
    "start_time": "2023-08-05T13:47:26.336Z"
   },
   {
    "duration": 119,
    "start_time": "2023-08-05T13:47:26.373Z"
   },
   {
    "duration": 1003,
    "start_time": "2023-08-05T13:47:26.494Z"
   },
   {
    "duration": 3,
    "start_time": "2023-08-05T13:47:27.499Z"
   },
   {
    "duration": 86,
    "start_time": "2023-08-05T13:47:27.504Z"
   },
   {
    "duration": 82,
    "start_time": "2023-08-05T13:47:27.592Z"
   },
   {
    "duration": 110,
    "start_time": "2023-08-05T13:47:27.676Z"
   },
   {
    "duration": 210,
    "start_time": "2023-08-05T13:47:27.787Z"
   },
   {
    "duration": 217,
    "start_time": "2023-08-05T13:47:27.999Z"
   },
   {
    "duration": 10,
    "start_time": "2023-08-05T13:47:28.218Z"
   },
   {
    "duration": 52,
    "start_time": "2023-08-05T13:47:28.230Z"
   },
   {
    "duration": 382,
    "start_time": "2023-08-05T13:47:28.284Z"
   },
   {
    "duration": 31,
    "start_time": "2023-08-05T13:47:28.668Z"
   },
   {
    "duration": 10,
    "start_time": "2023-08-05T13:47:28.701Z"
   },
   {
    "duration": 288,
    "start_time": "2023-08-05T13:47:28.712Z"
   },
   {
    "duration": 27,
    "start_time": "2023-08-05T13:47:29.002Z"
   },
   {
    "duration": 61,
    "start_time": "2023-08-05T13:47:29.031Z"
   },
   {
    "duration": 18,
    "start_time": "2023-08-05T13:47:29.099Z"
   },
   {
    "duration": 11,
    "start_time": "2023-08-05T13:47:29.119Z"
   },
   {
    "duration": 406,
    "start_time": "2023-08-05T13:47:29.132Z"
   },
   {
    "duration": 45,
    "start_time": "2023-08-05T13:47:29.540Z"
   },
   {
    "duration": 80,
    "start_time": "2023-08-05T13:47:29.591Z"
   },
   {
    "duration": 232,
    "start_time": "2023-08-05T13:47:29.679Z"
   },
   {
    "duration": 118,
    "start_time": "2023-08-05T13:47:29.913Z"
   },
   {
    "duration": 399,
    "start_time": "2023-08-05T13:47:30.033Z"
   },
   {
    "duration": 4137,
    "start_time": "2023-08-05T13:47:30.434Z"
   },
   {
    "duration": 113903,
    "start_time": "2023-08-05T13:47:34.578Z"
   },
   {
    "duration": 3991,
    "start_time": "2023-08-05T13:49:28.488Z"
   },
   {
    "duration": 180,
    "start_time": "2023-08-05T13:49:32.485Z"
   },
   {
    "duration": 13580,
    "start_time": "2023-08-05T13:49:32.678Z"
   },
   {
    "duration": 13,
    "start_time": "2023-08-05T13:49:46.261Z"
   },
   {
    "duration": 1377,
    "start_time": "2023-08-05T13:49:46.277Z"
   },
   {
    "duration": 374457,
    "start_time": "2023-08-05T13:49:47.658Z"
   },
   {
    "duration": 1543,
    "start_time": "2023-08-05T14:45:11.689Z"
   },
   {
    "duration": 954,
    "start_time": "2023-08-05T14:45:13.234Z"
   },
   {
    "duration": 176,
    "start_time": "2023-08-05T14:45:14.190Z"
   },
   {
    "duration": 23,
    "start_time": "2023-08-05T14:45:14.369Z"
   },
   {
    "duration": 137,
    "start_time": "2023-08-05T14:45:14.394Z"
   },
   {
    "duration": 971,
    "start_time": "2023-08-05T14:45:14.533Z"
   },
   {
    "duration": 4,
    "start_time": "2023-08-05T14:45:15.506Z"
   },
   {
    "duration": 84,
    "start_time": "2023-08-05T14:45:15.511Z"
   },
   {
    "duration": 78,
    "start_time": "2023-08-05T14:45:15.597Z"
   },
   {
    "duration": 110,
    "start_time": "2023-08-05T14:45:15.678Z"
   },
   {
    "duration": 193,
    "start_time": "2023-08-05T14:45:15.790Z"
   },
   {
    "duration": 217,
    "start_time": "2023-08-05T14:45:15.984Z"
   },
   {
    "duration": 9,
    "start_time": "2023-08-05T14:45:16.203Z"
   },
   {
    "duration": 13,
    "start_time": "2023-08-05T14:45:16.215Z"
   },
   {
    "duration": 376,
    "start_time": "2023-08-05T14:45:16.230Z"
   },
   {
    "duration": 28,
    "start_time": "2023-08-05T14:45:16.607Z"
   },
   {
    "duration": 23,
    "start_time": "2023-08-05T14:45:16.637Z"
   },
   {
    "duration": 232,
    "start_time": "2023-08-05T14:45:16.663Z"
   },
   {
    "duration": 23,
    "start_time": "2023-08-05T14:45:16.897Z"
   },
   {
    "duration": 39,
    "start_time": "2023-08-05T14:45:16.922Z"
   },
   {
    "duration": 23,
    "start_time": "2023-08-05T14:45:16.963Z"
   },
   {
    "duration": 8,
    "start_time": "2023-08-05T14:45:16.987Z"
   },
   {
    "duration": 331,
    "start_time": "2023-08-05T14:45:16.997Z"
   },
   {
    "duration": 37,
    "start_time": "2023-08-05T14:45:17.330Z"
   },
   {
    "duration": 139,
    "start_time": "2023-08-05T14:45:17.370Z"
   },
   {
    "duration": 0,
    "start_time": "2023-08-05T14:45:17.511Z"
   },
   {
    "duration": 0,
    "start_time": "2023-08-05T14:45:17.513Z"
   },
   {
    "duration": 0,
    "start_time": "2023-08-05T14:45:17.514Z"
   },
   {
    "duration": 0,
    "start_time": "2023-08-05T14:45:17.515Z"
   },
   {
    "duration": 0,
    "start_time": "2023-08-05T14:45:17.516Z"
   },
   {
    "duration": 0,
    "start_time": "2023-08-05T14:45:17.517Z"
   },
   {
    "duration": 0,
    "start_time": "2023-08-05T14:45:17.518Z"
   },
   {
    "duration": 0,
    "start_time": "2023-08-05T14:45:17.519Z"
   },
   {
    "duration": 0,
    "start_time": "2023-08-05T14:45:17.520Z"
   },
   {
    "duration": 0,
    "start_time": "2023-08-05T14:45:17.521Z"
   },
   {
    "duration": 0,
    "start_time": "2023-08-05T14:45:17.522Z"
   },
   {
    "duration": 0,
    "start_time": "2023-08-05T14:45:17.524Z"
   },
   {
    "duration": 0,
    "start_time": "2023-08-05T14:45:17.524Z"
   },
   {
    "duration": 0,
    "start_time": "2023-08-05T14:45:17.526Z"
   },
   {
    "duration": 0,
    "start_time": "2023-08-05T14:45:17.558Z"
   },
   {
    "duration": 0,
    "start_time": "2023-08-05T14:45:17.559Z"
   },
   {
    "duration": 0,
    "start_time": "2023-08-05T14:45:17.561Z"
   },
   {
    "duration": 0,
    "start_time": "2023-08-05T14:45:17.562Z"
   },
   {
    "duration": 0,
    "start_time": "2023-08-05T14:45:17.563Z"
   },
   {
    "duration": 0,
    "start_time": "2023-08-05T14:45:17.564Z"
   },
   {
    "duration": 0,
    "start_time": "2023-08-05T14:45:17.566Z"
   },
   {
    "duration": 0,
    "start_time": "2023-08-05T14:45:17.567Z"
   },
   {
    "duration": 0,
    "start_time": "2023-08-05T14:45:17.568Z"
   },
   {
    "duration": 0,
    "start_time": "2023-08-05T14:45:17.569Z"
   },
   {
    "duration": 0,
    "start_time": "2023-08-05T14:45:17.570Z"
   },
   {
    "duration": 0,
    "start_time": "2023-08-05T14:45:17.571Z"
   },
   {
    "duration": 0,
    "start_time": "2023-08-05T14:45:17.572Z"
   },
   {
    "duration": 0,
    "start_time": "2023-08-05T14:45:17.573Z"
   },
   {
    "duration": 0,
    "start_time": "2023-08-05T14:45:17.574Z"
   },
   {
    "duration": 0,
    "start_time": "2023-08-05T14:45:17.575Z"
   },
   {
    "duration": 81,
    "start_time": "2023-08-05T14:46:23.719Z"
   },
   {
    "duration": 90,
    "start_time": "2023-08-05T14:46:26.358Z"
   },
   {
    "duration": 227,
    "start_time": "2023-08-05T14:46:26.691Z"
   },
   {
    "duration": 69,
    "start_time": "2023-08-05T14:46:42.967Z"
   },
   {
    "duration": 173,
    "start_time": "2023-08-05T14:50:14.015Z"
   },
   {
    "duration": 184,
    "start_time": "2023-08-05T14:53:02.614Z"
   },
   {
    "duration": 47,
    "start_time": "2023-08-05T14:53:04.080Z"
   },
   {
    "duration": 222,
    "start_time": "2023-08-05T14:53:04.663Z"
   },
   {
    "duration": 109,
    "start_time": "2023-08-05T14:53:07.142Z"
   },
   {
    "duration": 81,
    "start_time": "2023-08-05T14:53:41.749Z"
   },
   {
    "duration": 393,
    "start_time": "2023-08-05T14:53:42.420Z"
   },
   {
    "duration": 4085,
    "start_time": "2023-08-05T14:53:45.091Z"
   },
   {
    "duration": 114586,
    "start_time": "2023-08-05T14:53:59.185Z"
   },
   {
    "duration": 3744,
    "start_time": "2023-08-05T14:56:14.223Z"
   },
   {
    "duration": 52,
    "start_time": "2023-08-05T14:57:00.313Z"
   },
   {
    "duration": 13709,
    "start_time": "2023-08-05T14:57:00.569Z"
   },
   {
    "duration": 73,
    "start_time": "2023-08-05T14:57:14.286Z"
   },
   {
    "duration": 0,
    "start_time": "2023-08-05T14:57:14.361Z"
   },
   {
    "duration": 1663,
    "start_time": "2023-08-05T14:57:28.265Z"
   },
   {
    "duration": 904,
    "start_time": "2023-08-05T14:57:29.930Z"
   },
   {
    "duration": 155,
    "start_time": "2023-08-05T14:57:30.836Z"
   },
   {
    "duration": 16,
    "start_time": "2023-08-05T14:57:30.993Z"
   },
   {
    "duration": 154,
    "start_time": "2023-08-05T14:57:31.011Z"
   },
   {
    "duration": 988,
    "start_time": "2023-08-05T14:57:31.168Z"
   },
   {
    "duration": 5,
    "start_time": "2023-08-05T14:57:32.159Z"
   },
   {
    "duration": 86,
    "start_time": "2023-08-05T14:57:32.167Z"
   },
   {
    "duration": 81,
    "start_time": "2023-08-05T14:57:32.255Z"
   },
   {
    "duration": 110,
    "start_time": "2023-08-05T14:57:32.338Z"
   },
   {
    "duration": 227,
    "start_time": "2023-08-05T14:57:32.450Z"
   },
   {
    "duration": 235,
    "start_time": "2023-08-05T14:57:32.680Z"
   },
   {
    "duration": 11,
    "start_time": "2023-08-05T14:57:32.917Z"
   },
   {
    "duration": 35,
    "start_time": "2023-08-05T14:57:32.932Z"
   },
   {
    "duration": 409,
    "start_time": "2023-08-05T14:57:32.970Z"
   },
   {
    "duration": 28,
    "start_time": "2023-08-05T14:57:33.381Z"
   },
   {
    "duration": 9,
    "start_time": "2023-08-05T14:57:33.411Z"
   },
   {
    "duration": 244,
    "start_time": "2023-08-05T14:57:33.422Z"
   },
   {
    "duration": 25,
    "start_time": "2023-08-05T14:57:33.673Z"
   },
   {
    "duration": 24,
    "start_time": "2023-08-05T14:57:33.700Z"
   },
   {
    "duration": 37,
    "start_time": "2023-08-05T14:57:33.726Z"
   },
   {
    "duration": 14,
    "start_time": "2023-08-05T14:57:33.766Z"
   },
   {
    "duration": 341,
    "start_time": "2023-08-05T14:57:33.781Z"
   },
   {
    "duration": 35,
    "start_time": "2023-08-05T14:57:34.125Z"
   },
   {
    "duration": 73,
    "start_time": "2023-08-05T14:57:34.163Z"
   },
   {
    "duration": 245,
    "start_time": "2023-08-05T14:57:34.238Z"
   },
   {
    "duration": 117,
    "start_time": "2023-08-05T14:57:34.485Z"
   },
   {
    "duration": 411,
    "start_time": "2023-08-05T14:57:34.603Z"
   },
   {
    "duration": 3767,
    "start_time": "2023-08-05T14:57:35.016Z"
   },
   {
    "duration": 116005,
    "start_time": "2023-08-05T14:57:38.860Z"
   },
   {
    "duration": 3791,
    "start_time": "2023-08-05T14:59:34.870Z"
   },
   {
    "duration": 114,
    "start_time": "2023-08-05T14:59:38.666Z"
   },
   {
    "duration": 14311,
    "start_time": "2023-08-05T14:59:38.858Z"
   },
   {
    "duration": 199,
    "start_time": "2023-08-05T14:59:53.176Z"
   },
   {
    "duration": 0,
    "start_time": "2023-08-05T14:59:53.378Z"
   },
   {
    "duration": 0,
    "start_time": "2023-08-05T14:59:53.379Z"
   },
   {
    "duration": 0,
    "start_time": "2023-08-05T14:59:53.381Z"
   },
   {
    "duration": 0,
    "start_time": "2023-08-05T14:59:53.383Z"
   },
   {
    "duration": 0,
    "start_time": "2023-08-05T14:59:53.385Z"
   },
   {
    "duration": 0,
    "start_time": "2023-08-05T14:59:53.386Z"
   },
   {
    "duration": 0,
    "start_time": "2023-08-05T14:59:53.387Z"
   },
   {
    "duration": 0,
    "start_time": "2023-08-05T14:59:53.388Z"
   },
   {
    "duration": 0,
    "start_time": "2023-08-05T14:59:53.389Z"
   },
   {
    "duration": 0,
    "start_time": "2023-08-05T14:59:53.390Z"
   },
   {
    "duration": 0,
    "start_time": "2023-08-05T14:59:53.392Z"
   },
   {
    "duration": 0,
    "start_time": "2023-08-05T14:59:53.393Z"
   },
   {
    "duration": 0,
    "start_time": "2023-08-05T14:59:53.395Z"
   },
   {
    "duration": 0,
    "start_time": "2023-08-05T14:59:53.396Z"
   },
   {
    "duration": 0,
    "start_time": "2023-08-05T14:59:53.397Z"
   },
   {
    "duration": 0,
    "start_time": "2023-08-05T14:59:53.398Z"
   },
   {
    "duration": 0,
    "start_time": "2023-08-05T14:59:53.399Z"
   },
   {
    "duration": 0,
    "start_time": "2023-08-05T14:59:53.400Z"
   },
   {
    "duration": 0,
    "start_time": "2023-08-05T14:59:53.401Z"
   },
   {
    "duration": 0,
    "start_time": "2023-08-05T14:59:53.402Z"
   },
   {
    "duration": 12,
    "start_time": "2023-08-05T15:03:54.116Z"
   },
   {
    "duration": 10,
    "start_time": "2023-08-05T15:03:56.036Z"
   },
   {
    "duration": 13,
    "start_time": "2023-08-05T15:06:39.675Z"
   },
   {
    "duration": 12,
    "start_time": "2023-08-05T15:07:23.635Z"
   },
   {
    "duration": 4,
    "start_time": "2023-08-05T15:07:33.113Z"
   },
   {
    "duration": 10,
    "start_time": "2023-08-05T15:07:36.645Z"
   },
   {
    "duration": 5,
    "start_time": "2023-08-05T15:07:59.683Z"
   },
   {
    "duration": 1478,
    "start_time": "2023-08-05T15:08:01.595Z"
   },
   {
    "duration": 511883,
    "start_time": "2023-08-05T15:08:31.077Z"
   },
   {
    "duration": 1519,
    "start_time": "2023-08-06T10:50:44.527Z"
   },
   {
    "duration": 1013,
    "start_time": "2023-08-06T10:50:46.048Z"
   },
   {
    "duration": 109,
    "start_time": "2023-08-06T10:50:47.062Z"
   },
   {
    "duration": 14,
    "start_time": "2023-08-06T10:50:47.173Z"
   },
   {
    "duration": 120,
    "start_time": "2023-08-06T10:50:47.199Z"
   },
   {
    "duration": 764,
    "start_time": "2023-08-06T10:50:47.321Z"
   },
   {
    "duration": 4,
    "start_time": "2023-08-06T10:50:48.086Z"
   },
   {
    "duration": 61,
    "start_time": "2023-08-06T10:50:48.099Z"
   },
   {
    "duration": 77,
    "start_time": "2023-08-06T10:50:48.162Z"
   },
   {
    "duration": 91,
    "start_time": "2023-08-06T10:50:48.241Z"
   },
   {
    "duration": 160,
    "start_time": "2023-08-06T10:50:48.333Z"
   },
   {
    "duration": 188,
    "start_time": "2023-08-06T10:50:48.500Z"
   },
   {
    "duration": 13,
    "start_time": "2023-08-06T10:50:48.690Z"
   },
   {
    "duration": 10,
    "start_time": "2023-08-06T10:50:48.705Z"
   },
   {
    "duration": 278,
    "start_time": "2023-08-06T10:50:48.717Z"
   },
   {
    "duration": 25,
    "start_time": "2023-08-06T10:50:48.997Z"
   },
   {
    "duration": 11,
    "start_time": "2023-08-06T10:50:49.024Z"
   },
   {
    "duration": 194,
    "start_time": "2023-08-06T10:50:49.036Z"
   },
   {
    "duration": 20,
    "start_time": "2023-08-06T10:50:49.231Z"
   },
   {
    "duration": 24,
    "start_time": "2023-08-06T10:50:49.252Z"
   },
   {
    "duration": 33,
    "start_time": "2023-08-06T10:50:49.277Z"
   },
   {
    "duration": 7,
    "start_time": "2023-08-06T10:50:49.312Z"
   },
   {
    "duration": 249,
    "start_time": "2023-08-06T10:50:49.320Z"
   },
   {
    "duration": 17,
    "start_time": "2023-08-06T10:50:49.571Z"
   },
   {
    "duration": 76,
    "start_time": "2023-08-06T10:50:49.590Z"
   },
   {
    "duration": 198,
    "start_time": "2023-08-06T10:50:49.667Z"
   },
   {
    "duration": 67,
    "start_time": "2023-08-06T10:50:49.867Z"
   },
   {
    "duration": 299,
    "start_time": "2023-08-06T10:50:49.936Z"
   },
   {
    "duration": 3,
    "start_time": "2023-08-06T10:50:50.237Z"
   },
   {
    "duration": 1969,
    "start_time": "2023-08-06T10:50:50.241Z"
   },
   {
    "duration": 58294,
    "start_time": "2023-08-06T10:50:52.212Z"
   },
   {
    "duration": 1999,
    "start_time": "2023-08-06T10:51:50.507Z"
   },
   {
    "duration": 192,
    "start_time": "2023-08-06T10:51:52.508Z"
   },
   {
    "duration": 6299,
    "start_time": "2023-08-06T10:51:52.702Z"
   },
   {
    "duration": 6,
    "start_time": "2023-08-06T10:51:59.003Z"
   },
   {
    "duration": 1081,
    "start_time": "2023-08-06T10:51:59.012Z"
   },
   {
    "duration": 914723,
    "start_time": "2023-08-06T10:52:00.094Z"
   },
   {
    "duration": 1426,
    "start_time": "2023-08-06T11:09:28.162Z"
   },
   {
    "duration": 737,
    "start_time": "2023-08-06T11:09:29.590Z"
   },
   {
    "duration": 126,
    "start_time": "2023-08-06T11:09:30.328Z"
   },
   {
    "duration": 15,
    "start_time": "2023-08-06T11:09:30.456Z"
   },
   {
    "duration": 114,
    "start_time": "2023-08-06T11:09:30.474Z"
   },
   {
    "duration": 762,
    "start_time": "2023-08-06T11:09:30.590Z"
   },
   {
    "duration": 4,
    "start_time": "2023-08-06T11:09:31.354Z"
   },
   {
    "duration": 79,
    "start_time": "2023-08-06T11:09:31.359Z"
   },
   {
    "duration": 74,
    "start_time": "2023-08-06T11:09:31.439Z"
   },
   {
    "duration": 106,
    "start_time": "2023-08-06T11:09:31.515Z"
   },
   {
    "duration": 167,
    "start_time": "2023-08-06T11:09:31.623Z"
   },
   {
    "duration": 184,
    "start_time": "2023-08-06T11:09:31.791Z"
   },
   {
    "duration": 9,
    "start_time": "2023-08-06T11:09:31.976Z"
   },
   {
    "duration": 16,
    "start_time": "2023-08-06T11:09:31.999Z"
   },
   {
    "duration": 258,
    "start_time": "2023-08-06T11:09:32.017Z"
   },
   {
    "duration": 31,
    "start_time": "2023-08-06T11:09:32.276Z"
   },
   {
    "duration": 9,
    "start_time": "2023-08-06T11:09:32.309Z"
   },
   {
    "duration": 205,
    "start_time": "2023-08-06T11:09:32.320Z"
   },
   {
    "duration": 24,
    "start_time": "2023-08-06T11:09:32.527Z"
   },
   {
    "duration": 28,
    "start_time": "2023-08-06T11:09:32.553Z"
   },
   {
    "duration": 14,
    "start_time": "2023-08-06T11:09:32.600Z"
   },
   {
    "duration": 27,
    "start_time": "2023-08-06T11:09:32.616Z"
   },
   {
    "duration": 251,
    "start_time": "2023-08-06T11:09:32.645Z"
   },
   {
    "duration": 18,
    "start_time": "2023-08-06T11:09:32.898Z"
   },
   {
    "duration": 67,
    "start_time": "2023-08-06T11:09:32.918Z"
   },
   {
    "duration": 188,
    "start_time": "2023-08-06T11:09:33.000Z"
   },
   {
    "duration": 69,
    "start_time": "2023-08-06T11:09:33.190Z"
   },
   {
    "duration": 284,
    "start_time": "2023-08-06T11:09:33.260Z"
   },
   {
    "duration": 4,
    "start_time": "2023-08-06T11:09:33.546Z"
   },
   {
    "duration": 1859,
    "start_time": "2023-08-06T11:09:33.551Z"
   },
   {
    "duration": 56706,
    "start_time": "2023-08-06T11:09:35.501Z"
   },
   {
    "duration": 1906,
    "start_time": "2023-08-06T11:10:32.299Z"
   },
   {
    "duration": 193,
    "start_time": "2023-08-06T11:10:34.207Z"
   },
   {
    "duration": 6901,
    "start_time": "2023-08-06T11:10:34.402Z"
   },
   {
    "duration": 4,
    "start_time": "2023-08-06T11:10:41.304Z"
   },
   {
    "duration": 1043,
    "start_time": "2023-08-06T11:10:41.310Z"
   },
   {
    "duration": 1018183,
    "start_time": "2023-08-06T11:10:42.354Z"
   },
   {
    "duration": 1472,
    "start_time": "2023-08-06T13:09:24.149Z"
   },
   {
    "duration": 945,
    "start_time": "2023-08-06T13:09:25.624Z"
   },
   {
    "duration": 146,
    "start_time": "2023-08-06T13:09:26.570Z"
   },
   {
    "duration": 15,
    "start_time": "2023-08-06T13:09:26.718Z"
   },
   {
    "duration": 117,
    "start_time": "2023-08-06T13:09:26.736Z"
   },
   {
    "duration": 823,
    "start_time": "2023-08-06T13:09:26.855Z"
   },
   {
    "duration": 3,
    "start_time": "2023-08-06T13:09:27.680Z"
   },
   {
    "duration": 75,
    "start_time": "2023-08-06T13:09:27.684Z"
   },
   {
    "duration": 81,
    "start_time": "2023-08-06T13:09:27.761Z"
   },
   {
    "duration": 150,
    "start_time": "2023-08-06T13:09:27.845Z"
   },
   {
    "duration": 219,
    "start_time": "2023-08-06T13:09:27.997Z"
   },
   {
    "duration": 205,
    "start_time": "2023-08-06T13:09:28.218Z"
   },
   {
    "duration": 9,
    "start_time": "2023-08-06T13:09:28.424Z"
   },
   {
    "duration": 23,
    "start_time": "2023-08-06T13:09:28.435Z"
   },
   {
    "duration": 282,
    "start_time": "2023-08-06T13:09:28.459Z"
   },
   {
    "duration": 25,
    "start_time": "2023-08-06T13:09:28.743Z"
   },
   {
    "duration": 8,
    "start_time": "2023-08-06T13:09:28.770Z"
   },
   {
    "duration": 205,
    "start_time": "2023-08-06T13:09:28.779Z"
   },
   {
    "duration": 28,
    "start_time": "2023-08-06T13:09:28.985Z"
   },
   {
    "duration": 41,
    "start_time": "2023-08-06T13:09:29.015Z"
   },
   {
    "duration": 62,
    "start_time": "2023-08-06T13:09:29.058Z"
   },
   {
    "duration": 9,
    "start_time": "2023-08-06T13:09:29.122Z"
   },
   {
    "duration": 241,
    "start_time": "2023-08-06T13:09:29.133Z"
   },
   {
    "duration": 18,
    "start_time": "2023-08-06T13:09:29.376Z"
   },
   {
    "duration": 79,
    "start_time": "2023-08-06T13:09:29.396Z"
   },
   {
    "duration": 210,
    "start_time": "2023-08-06T13:09:29.477Z"
   },
   {
    "duration": 68,
    "start_time": "2023-08-06T13:09:29.688Z"
   },
   {
    "duration": 301,
    "start_time": "2023-08-06T13:09:29.759Z"
   },
   {
    "duration": 3,
    "start_time": "2023-08-06T13:09:30.062Z"
   },
   {
    "duration": 4250,
    "start_time": "2023-08-06T13:09:30.067Z"
   },
   {
    "duration": 88493,
    "start_time": "2023-08-06T13:09:34.321Z"
   },
   {
    "duration": 3083,
    "start_time": "2023-08-06T13:11:02.821Z"
   },
   {
    "duration": 194,
    "start_time": "2023-08-06T13:11:05.911Z"
   },
   {
    "duration": 10106,
    "start_time": "2023-08-06T13:11:06.108Z"
   },
   {
    "duration": 4,
    "start_time": "2023-08-06T13:11:16.215Z"
   },
   {
    "duration": 1065,
    "start_time": "2023-08-06T13:11:16.222Z"
   },
   {
    "duration": 1033334,
    "start_time": "2023-08-06T13:11:17.288Z"
   }
  ],
  "kernelspec": {
   "display_name": "Python 3 (ipykernel)",
   "language": "python",
   "name": "python3"
  },
  "language_info": {
   "codemirror_mode": {
    "name": "ipython",
    "version": 3
   },
   "file_extension": ".py",
   "mimetype": "text/x-python",
   "name": "python",
   "nbconvert_exporter": "python",
   "pygments_lexer": "ipython3",
   "version": "3.11.4"
  },
  "toc": {
   "base_numbering": 1,
   "nav_menu": {},
   "number_sections": true,
   "sideBar": true,
   "skip_h1_title": true,
   "title_cell": "Table of Contents",
   "title_sidebar": "Contents",
   "toc_cell": false,
   "toc_position": {},
   "toc_section_display": true,
   "toc_window_display": false
  }
 },
 "nbformat": 4,
 "nbformat_minor": 2
}
