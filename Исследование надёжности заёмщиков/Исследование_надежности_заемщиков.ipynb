{
 "cells": [
  {
   "cell_type": "markdown",
   "id": "fd569d55",
   "metadata": {
    "deletable": false,
    "editable": false,
    "id": "c81daeeb"
   },
   "source": [
    "# Исследование надежности заемщиков\n"
   ]
  },
  {
   "cell_type": "markdown",
   "id": "3ba5f9c9",
   "metadata": {},
   "source": [
    "# Описание проекта"
   ]
  },
  {
   "cell_type": "markdown",
   "id": "40e37393",
   "metadata": {},
   "source": [
    "Заказчик — кредитный отдел банка. Нужно разобраться, влияет ли семейное положение и количество детей клиента на факт погашения кредита в срок. Входные данные от банка — статистика о платёжеспособности клиентов.\n",
    "\n",
    "Результаты исследования будут учтены при построении модели кредитного скоринга — специальной системы, которая оценивает способность потенциального заёмщика вернуть кредит банку."
   ]
  },
  {
   "cell_type": "markdown",
   "id": "27fe98f6",
   "metadata": {
    "deletable": false,
    "editable": false,
    "id": "744d7639"
   },
   "source": [
    "## Откройте таблицу и изучите общую информацию о данных"
   ]
  },
  {
   "cell_type": "markdown",
   "id": "42384065",
   "metadata": {
    "deletable": false,
    "editable": false,
    "id": "e7a14c31"
   },
   "source": [
    "**Задание 1. Импортируйте библиотеку pandas. Считайте данные из csv-файла в датафрейм и сохраните в переменную `data`. Путь к файлу:**\n",
    "\n",
    "`/datasets/data.csv`"
   ]
  },
  {
   "cell_type": "code",
   "execution_count": 1,
   "id": "a338af3d",
   "metadata": {
    "deletable": false,
    "id": "7bcf75c9"
   },
   "outputs": [],
   "source": [
    "import pandas as pd\n",
    "\n",
    "data = pd.read_csv('/datasets/data.csv')"
   ]
  },
  {
   "cell_type": "markdown",
   "id": "8a7cf8b5",
   "metadata": {
    "deletable": false,
    "editable": false,
    "id": "b8038fe3"
   },
   "source": [
    "**Задание 2. Выведите первые 20 строчек датафрейма `data` на экран.**"
   ]
  },
  {
   "cell_type": "code",
   "execution_count": 2,
   "id": "e770ba27",
   "metadata": {
    "deletable": false,
    "id": "2a7cab99",
    "outputId": "1a8f3ef2-d323-4ec2-ddf7-89670b5944c4"
   },
   "outputs": [
    {
     "data": {
      "text/html": [
       "<div>\n",
       "<style scoped>\n",
       "    .dataframe tbody tr th:only-of-type {\n",
       "        vertical-align: middle;\n",
       "    }\n",
       "\n",
       "    .dataframe tbody tr th {\n",
       "        vertical-align: top;\n",
       "    }\n",
       "\n",
       "    .dataframe thead th {\n",
       "        text-align: right;\n",
       "    }\n",
       "</style>\n",
       "<table border=\"1\" class=\"dataframe\">\n",
       "  <thead>\n",
       "    <tr style=\"text-align: right;\">\n",
       "      <th></th>\n",
       "      <th>children</th>\n",
       "      <th>days_employed</th>\n",
       "      <th>dob_years</th>\n",
       "      <th>education</th>\n",
       "      <th>education_id</th>\n",
       "      <th>family_status</th>\n",
       "      <th>family_status_id</th>\n",
       "      <th>gender</th>\n",
       "      <th>income_type</th>\n",
       "      <th>debt</th>\n",
       "      <th>total_income</th>\n",
       "      <th>purpose</th>\n",
       "    </tr>\n",
       "  </thead>\n",
       "  <tbody>\n",
       "    <tr>\n",
       "      <th>0</th>\n",
       "      <td>1</td>\n",
       "      <td>-8437.673028</td>\n",
       "      <td>42</td>\n",
       "      <td>высшее</td>\n",
       "      <td>0</td>\n",
       "      <td>женат / замужем</td>\n",
       "      <td>0</td>\n",
       "      <td>F</td>\n",
       "      <td>сотрудник</td>\n",
       "      <td>0</td>\n",
       "      <td>253875.639453</td>\n",
       "      <td>покупка жилья</td>\n",
       "    </tr>\n",
       "    <tr>\n",
       "      <th>1</th>\n",
       "      <td>1</td>\n",
       "      <td>-4024.803754</td>\n",
       "      <td>36</td>\n",
       "      <td>среднее</td>\n",
       "      <td>1</td>\n",
       "      <td>женат / замужем</td>\n",
       "      <td>0</td>\n",
       "      <td>F</td>\n",
       "      <td>сотрудник</td>\n",
       "      <td>0</td>\n",
       "      <td>112080.014102</td>\n",
       "      <td>приобретение автомобиля</td>\n",
       "    </tr>\n",
       "    <tr>\n",
       "      <th>2</th>\n",
       "      <td>0</td>\n",
       "      <td>-5623.422610</td>\n",
       "      <td>33</td>\n",
       "      <td>Среднее</td>\n",
       "      <td>1</td>\n",
       "      <td>женат / замужем</td>\n",
       "      <td>0</td>\n",
       "      <td>M</td>\n",
       "      <td>сотрудник</td>\n",
       "      <td>0</td>\n",
       "      <td>145885.952297</td>\n",
       "      <td>покупка жилья</td>\n",
       "    </tr>\n",
       "    <tr>\n",
       "      <th>3</th>\n",
       "      <td>3</td>\n",
       "      <td>-4124.747207</td>\n",
       "      <td>32</td>\n",
       "      <td>среднее</td>\n",
       "      <td>1</td>\n",
       "      <td>женат / замужем</td>\n",
       "      <td>0</td>\n",
       "      <td>M</td>\n",
       "      <td>сотрудник</td>\n",
       "      <td>0</td>\n",
       "      <td>267628.550329</td>\n",
       "      <td>дополнительное образование</td>\n",
       "    </tr>\n",
       "    <tr>\n",
       "      <th>4</th>\n",
       "      <td>0</td>\n",
       "      <td>340266.072047</td>\n",
       "      <td>53</td>\n",
       "      <td>среднее</td>\n",
       "      <td>1</td>\n",
       "      <td>гражданский брак</td>\n",
       "      <td>1</td>\n",
       "      <td>F</td>\n",
       "      <td>пенсионер</td>\n",
       "      <td>0</td>\n",
       "      <td>158616.077870</td>\n",
       "      <td>сыграть свадьбу</td>\n",
       "    </tr>\n",
       "    <tr>\n",
       "      <th>5</th>\n",
       "      <td>0</td>\n",
       "      <td>-926.185831</td>\n",
       "      <td>27</td>\n",
       "      <td>высшее</td>\n",
       "      <td>0</td>\n",
       "      <td>гражданский брак</td>\n",
       "      <td>1</td>\n",
       "      <td>M</td>\n",
       "      <td>компаньон</td>\n",
       "      <td>0</td>\n",
       "      <td>255763.565419</td>\n",
       "      <td>покупка жилья</td>\n",
       "    </tr>\n",
       "    <tr>\n",
       "      <th>6</th>\n",
       "      <td>0</td>\n",
       "      <td>-2879.202052</td>\n",
       "      <td>43</td>\n",
       "      <td>высшее</td>\n",
       "      <td>0</td>\n",
       "      <td>женат / замужем</td>\n",
       "      <td>0</td>\n",
       "      <td>F</td>\n",
       "      <td>компаньон</td>\n",
       "      <td>0</td>\n",
       "      <td>240525.971920</td>\n",
       "      <td>операции с жильем</td>\n",
       "    </tr>\n",
       "    <tr>\n",
       "      <th>7</th>\n",
       "      <td>0</td>\n",
       "      <td>-152.779569</td>\n",
       "      <td>50</td>\n",
       "      <td>СРЕДНЕЕ</td>\n",
       "      <td>1</td>\n",
       "      <td>женат / замужем</td>\n",
       "      <td>0</td>\n",
       "      <td>M</td>\n",
       "      <td>сотрудник</td>\n",
       "      <td>0</td>\n",
       "      <td>135823.934197</td>\n",
       "      <td>образование</td>\n",
       "    </tr>\n",
       "    <tr>\n",
       "      <th>8</th>\n",
       "      <td>2</td>\n",
       "      <td>-6929.865299</td>\n",
       "      <td>35</td>\n",
       "      <td>ВЫСШЕЕ</td>\n",
       "      <td>0</td>\n",
       "      <td>гражданский брак</td>\n",
       "      <td>1</td>\n",
       "      <td>F</td>\n",
       "      <td>сотрудник</td>\n",
       "      <td>0</td>\n",
       "      <td>95856.832424</td>\n",
       "      <td>на проведение свадьбы</td>\n",
       "    </tr>\n",
       "    <tr>\n",
       "      <th>9</th>\n",
       "      <td>0</td>\n",
       "      <td>-2188.756445</td>\n",
       "      <td>41</td>\n",
       "      <td>среднее</td>\n",
       "      <td>1</td>\n",
       "      <td>женат / замужем</td>\n",
       "      <td>0</td>\n",
       "      <td>M</td>\n",
       "      <td>сотрудник</td>\n",
       "      <td>0</td>\n",
       "      <td>144425.938277</td>\n",
       "      <td>покупка жилья для семьи</td>\n",
       "    </tr>\n",
       "    <tr>\n",
       "      <th>10</th>\n",
       "      <td>2</td>\n",
       "      <td>-4171.483647</td>\n",
       "      <td>36</td>\n",
       "      <td>высшее</td>\n",
       "      <td>0</td>\n",
       "      <td>женат / замужем</td>\n",
       "      <td>0</td>\n",
       "      <td>M</td>\n",
       "      <td>компаньон</td>\n",
       "      <td>0</td>\n",
       "      <td>113943.491460</td>\n",
       "      <td>покупка недвижимости</td>\n",
       "    </tr>\n",
       "    <tr>\n",
       "      <th>11</th>\n",
       "      <td>0</td>\n",
       "      <td>-792.701887</td>\n",
       "      <td>40</td>\n",
       "      <td>среднее</td>\n",
       "      <td>1</td>\n",
       "      <td>женат / замужем</td>\n",
       "      <td>0</td>\n",
       "      <td>F</td>\n",
       "      <td>сотрудник</td>\n",
       "      <td>0</td>\n",
       "      <td>77069.234271</td>\n",
       "      <td>покупка коммерческой недвижимости</td>\n",
       "    </tr>\n",
       "    <tr>\n",
       "      <th>12</th>\n",
       "      <td>0</td>\n",
       "      <td>NaN</td>\n",
       "      <td>65</td>\n",
       "      <td>среднее</td>\n",
       "      <td>1</td>\n",
       "      <td>гражданский брак</td>\n",
       "      <td>1</td>\n",
       "      <td>M</td>\n",
       "      <td>пенсионер</td>\n",
       "      <td>0</td>\n",
       "      <td>NaN</td>\n",
       "      <td>сыграть свадьбу</td>\n",
       "    </tr>\n",
       "    <tr>\n",
       "      <th>13</th>\n",
       "      <td>0</td>\n",
       "      <td>-1846.641941</td>\n",
       "      <td>54</td>\n",
       "      <td>неоконченное высшее</td>\n",
       "      <td>2</td>\n",
       "      <td>женат / замужем</td>\n",
       "      <td>0</td>\n",
       "      <td>F</td>\n",
       "      <td>сотрудник</td>\n",
       "      <td>0</td>\n",
       "      <td>130458.228857</td>\n",
       "      <td>приобретение автомобиля</td>\n",
       "    </tr>\n",
       "    <tr>\n",
       "      <th>14</th>\n",
       "      <td>0</td>\n",
       "      <td>-1844.956182</td>\n",
       "      <td>56</td>\n",
       "      <td>высшее</td>\n",
       "      <td>0</td>\n",
       "      <td>гражданский брак</td>\n",
       "      <td>1</td>\n",
       "      <td>F</td>\n",
       "      <td>компаньон</td>\n",
       "      <td>1</td>\n",
       "      <td>165127.911772</td>\n",
       "      <td>покупка жилой недвижимости</td>\n",
       "    </tr>\n",
       "    <tr>\n",
       "      <th>15</th>\n",
       "      <td>1</td>\n",
       "      <td>-972.364419</td>\n",
       "      <td>26</td>\n",
       "      <td>среднее</td>\n",
       "      <td>1</td>\n",
       "      <td>женат / замужем</td>\n",
       "      <td>0</td>\n",
       "      <td>F</td>\n",
       "      <td>сотрудник</td>\n",
       "      <td>0</td>\n",
       "      <td>116820.904450</td>\n",
       "      <td>строительство собственной недвижимости</td>\n",
       "    </tr>\n",
       "    <tr>\n",
       "      <th>16</th>\n",
       "      <td>0</td>\n",
       "      <td>-1719.934226</td>\n",
       "      <td>35</td>\n",
       "      <td>среднее</td>\n",
       "      <td>1</td>\n",
       "      <td>женат / замужем</td>\n",
       "      <td>0</td>\n",
       "      <td>F</td>\n",
       "      <td>сотрудник</td>\n",
       "      <td>0</td>\n",
       "      <td>289202.704229</td>\n",
       "      <td>недвижимость</td>\n",
       "    </tr>\n",
       "    <tr>\n",
       "      <th>17</th>\n",
       "      <td>0</td>\n",
       "      <td>-2369.999720</td>\n",
       "      <td>33</td>\n",
       "      <td>высшее</td>\n",
       "      <td>0</td>\n",
       "      <td>гражданский брак</td>\n",
       "      <td>1</td>\n",
       "      <td>M</td>\n",
       "      <td>сотрудник</td>\n",
       "      <td>0</td>\n",
       "      <td>90410.586745</td>\n",
       "      <td>строительство недвижимости</td>\n",
       "    </tr>\n",
       "    <tr>\n",
       "      <th>18</th>\n",
       "      <td>0</td>\n",
       "      <td>400281.136913</td>\n",
       "      <td>53</td>\n",
       "      <td>среднее</td>\n",
       "      <td>1</td>\n",
       "      <td>вдовец / вдова</td>\n",
       "      <td>2</td>\n",
       "      <td>F</td>\n",
       "      <td>пенсионер</td>\n",
       "      <td>0</td>\n",
       "      <td>56823.777243</td>\n",
       "      <td>на покупку подержанного автомобиля</td>\n",
       "    </tr>\n",
       "    <tr>\n",
       "      <th>19</th>\n",
       "      <td>0</td>\n",
       "      <td>-10038.818549</td>\n",
       "      <td>48</td>\n",
       "      <td>СРЕДНЕЕ</td>\n",
       "      <td>1</td>\n",
       "      <td>в разводе</td>\n",
       "      <td>3</td>\n",
       "      <td>F</td>\n",
       "      <td>сотрудник</td>\n",
       "      <td>0</td>\n",
       "      <td>242831.107982</td>\n",
       "      <td>на покупку своего автомобиля</td>\n",
       "    </tr>\n",
       "  </tbody>\n",
       "</table>\n",
       "</div>"
      ],
      "text/plain": [
       "    children  days_employed  dob_years            education  education_id  \\\n",
       "0          1   -8437.673028         42               высшее             0   \n",
       "1          1   -4024.803754         36              среднее             1   \n",
       "2          0   -5623.422610         33              Среднее             1   \n",
       "3          3   -4124.747207         32              среднее             1   \n",
       "4          0  340266.072047         53              среднее             1   \n",
       "5          0    -926.185831         27               высшее             0   \n",
       "6          0   -2879.202052         43               высшее             0   \n",
       "7          0    -152.779569         50              СРЕДНЕЕ             1   \n",
       "8          2   -6929.865299         35               ВЫСШЕЕ             0   \n",
       "9          0   -2188.756445         41              среднее             1   \n",
       "10         2   -4171.483647         36               высшее             0   \n",
       "11         0    -792.701887         40              среднее             1   \n",
       "12         0            NaN         65              среднее             1   \n",
       "13         0   -1846.641941         54  неоконченное высшее             2   \n",
       "14         0   -1844.956182         56               высшее             0   \n",
       "15         1    -972.364419         26              среднее             1   \n",
       "16         0   -1719.934226         35              среднее             1   \n",
       "17         0   -2369.999720         33               высшее             0   \n",
       "18         0  400281.136913         53              среднее             1   \n",
       "19         0  -10038.818549         48              СРЕДНЕЕ             1   \n",
       "\n",
       "       family_status  family_status_id gender income_type  debt  \\\n",
       "0    женат / замужем                 0      F   сотрудник     0   \n",
       "1    женат / замужем                 0      F   сотрудник     0   \n",
       "2    женат / замужем                 0      M   сотрудник     0   \n",
       "3    женат / замужем                 0      M   сотрудник     0   \n",
       "4   гражданский брак                 1      F   пенсионер     0   \n",
       "5   гражданский брак                 1      M   компаньон     0   \n",
       "6    женат / замужем                 0      F   компаньон     0   \n",
       "7    женат / замужем                 0      M   сотрудник     0   \n",
       "8   гражданский брак                 1      F   сотрудник     0   \n",
       "9    женат / замужем                 0      M   сотрудник     0   \n",
       "10   женат / замужем                 0      M   компаньон     0   \n",
       "11   женат / замужем                 0      F   сотрудник     0   \n",
       "12  гражданский брак                 1      M   пенсионер     0   \n",
       "13   женат / замужем                 0      F   сотрудник     0   \n",
       "14  гражданский брак                 1      F   компаньон     1   \n",
       "15   женат / замужем                 0      F   сотрудник     0   \n",
       "16   женат / замужем                 0      F   сотрудник     0   \n",
       "17  гражданский брак                 1      M   сотрудник     0   \n",
       "18    вдовец / вдова                 2      F   пенсионер     0   \n",
       "19         в разводе                 3      F   сотрудник     0   \n",
       "\n",
       "     total_income                                 purpose  \n",
       "0   253875.639453                           покупка жилья  \n",
       "1   112080.014102                 приобретение автомобиля  \n",
       "2   145885.952297                           покупка жилья  \n",
       "3   267628.550329              дополнительное образование  \n",
       "4   158616.077870                         сыграть свадьбу  \n",
       "5   255763.565419                           покупка жилья  \n",
       "6   240525.971920                       операции с жильем  \n",
       "7   135823.934197                             образование  \n",
       "8    95856.832424                   на проведение свадьбы  \n",
       "9   144425.938277                 покупка жилья для семьи  \n",
       "10  113943.491460                    покупка недвижимости  \n",
       "11   77069.234271       покупка коммерческой недвижимости  \n",
       "12            NaN                         сыграть свадьбу  \n",
       "13  130458.228857                 приобретение автомобиля  \n",
       "14  165127.911772              покупка жилой недвижимости  \n",
       "15  116820.904450  строительство собственной недвижимости  \n",
       "16  289202.704229                            недвижимость  \n",
       "17   90410.586745              строительство недвижимости  \n",
       "18   56823.777243      на покупку подержанного автомобиля  \n",
       "19  242831.107982            на покупку своего автомобиля  "
      ]
     },
     "execution_count": 2,
     "metadata": {},
     "output_type": "execute_result"
    }
   ],
   "source": [
    "data.head(20)"
   ]
  },
  {
   "cell_type": "markdown",
   "id": "d824caf2",
   "metadata": {
    "deletable": false,
    "editable": false,
    "id": "1c12e233"
   },
   "source": [
    "**Задание 3. Выведите основную информацию о датафрейме с помощью метода `info()`.**"
   ]
  },
  {
   "cell_type": "code",
   "execution_count": 3,
   "id": "94362b17",
   "metadata": {
    "deletable": false,
    "id": "2b757bca",
    "outputId": "15376089-8dad-46c9-b520-c05248d43158"
   },
   "outputs": [
    {
     "name": "stdout",
     "output_type": "stream",
     "text": [
      "<class 'pandas.core.frame.DataFrame'>\n",
      "RangeIndex: 21525 entries, 0 to 21524\n",
      "Data columns (total 12 columns):\n",
      " #   Column            Non-Null Count  Dtype  \n",
      "---  ------            --------------  -----  \n",
      " 0   children          21525 non-null  int64  \n",
      " 1   days_employed     19351 non-null  float64\n",
      " 2   dob_years         21525 non-null  int64  \n",
      " 3   education         21525 non-null  object \n",
      " 4   education_id      21525 non-null  int64  \n",
      " 5   family_status     21525 non-null  object \n",
      " 6   family_status_id  21525 non-null  int64  \n",
      " 7   gender            21525 non-null  object \n",
      " 8   income_type       21525 non-null  object \n",
      " 9   debt              21525 non-null  int64  \n",
      " 10  total_income      19351 non-null  float64\n",
      " 11  purpose           21525 non-null  object \n",
      "dtypes: float64(2), int64(5), object(5)\n",
      "memory usage: 2.0+ MB\n"
     ]
    }
   ],
   "source": [
    "data.info()"
   ]
  },
  {
   "cell_type": "markdown",
   "id": "0e14cfdd",
   "metadata": {
    "deletable": false,
    "editable": false,
    "id": "333ec665"
   },
   "source": [
    "## Предобработка данных"
   ]
  },
  {
   "cell_type": "markdown",
   "id": "bfa52c46",
   "metadata": {
    "deletable": false,
    "editable": false,
    "id": "02d92d53"
   },
   "source": [
    "### Удаление пропусков"
   ]
  },
  {
   "cell_type": "markdown",
   "id": "2c023378",
   "metadata": {
    "deletable": false,
    "editable": false,
    "id": "cd84967c"
   },
   "source": [
    "**Задание 4. Выведите количество пропущенных значений для каждого столбца. Используйте комбинацию двух методов.**"
   ]
  },
  {
   "cell_type": "code",
   "execution_count": 4,
   "id": "4841b603",
   "metadata": {
    "deletable": false,
    "id": "7f9b2309",
    "outputId": "81f4d817-781c-465c-ed15-91ce4446810d"
   },
   "outputs": [
    {
     "data": {
      "text/plain": [
       "children               0\n",
       "days_employed       2174\n",
       "dob_years              0\n",
       "education              0\n",
       "education_id           0\n",
       "family_status          0\n",
       "family_status_id       0\n",
       "gender                 0\n",
       "income_type            0\n",
       "debt                   0\n",
       "total_income        2174\n",
       "purpose                0\n",
       "dtype: int64"
      ]
     },
     "execution_count": 4,
     "metadata": {},
     "output_type": "execute_result"
    }
   ],
   "source": [
    "data.isna().sum()"
   ]
  },
  {
   "cell_type": "markdown",
   "id": "b14f2698",
   "metadata": {
    "deletable": false,
    "editable": false,
    "id": "db86e27b"
   },
   "source": [
    "**Задание 5. В двух столбцах есть пропущенные значения. Один из них — `days_employed`. Пропуски в этом столбце вы обработаете на следующем этапе. Другой столбец с пропущенными значениями — `total_income` — хранит данные о доходах. На сумму дохода сильнее всего влияет тип занятости, поэтому заполнить пропуски в этом столбце нужно медианным значением по каждому типу из столбца `income_type`. Например, у человека с типом занятости `сотрудник` пропуск в столбце `total_income` должен быть заполнен медианным доходом среди всех записей с тем же типом.**"
   ]
  },
  {
   "cell_type": "code",
   "execution_count": 5,
   "id": "9ec376dd",
   "metadata": {
    "deletable": false,
    "id": "42006a93"
   },
   "outputs": [],
   "source": [
    "for t in data['income_type'].unique():\n",
    "    data.loc[(data['income_type'] == t) & (data['total_income'].isna()), 'total_income'] = \\\n",
    "    data.loc[(data['income_type'] == t), 'total_income'].median()"
   ]
  },
  {
   "cell_type": "markdown",
   "id": "f8a61787",
   "metadata": {
    "deletable": false,
    "editable": false,
    "id": "89da5ece"
   },
   "source": [
    "### Обработка аномальных значений"
   ]
  },
  {
   "cell_type": "markdown",
   "id": "97105749",
   "metadata": {
    "deletable": false,
    "editable": false,
    "id": "57964554"
   },
   "source": [
    "**Задание 6. В данных могут встречаться артефакты (аномалии) — значения, которые не отражают действительность и появились по какой-то ошибке. таким артефактом будет отрицательное количество дней трудового стажа в столбце `days_employed`. Для реальных данных это нормально. Обработайте значения в этом столбце: замените все отрицательные значения положительными с помощью метода `abs()`.**"
   ]
  },
  {
   "cell_type": "code",
   "execution_count": 6,
   "id": "e36a633e",
   "metadata": {
    "deletable": false,
    "id": "f6f055bf"
   },
   "outputs": [],
   "source": [
    "data['days_employed'] = data['days_employed'].abs()"
   ]
  },
  {
   "cell_type": "markdown",
   "id": "23ef65cc",
   "metadata": {
    "deletable": false,
    "editable": false,
    "id": "6107dd2f"
   },
   "source": [
    "**Задание 7. Для каждого типа занятости выведите медианное значение трудового стажа `days_employed` в днях.**"
   ]
  },
  {
   "cell_type": "code",
   "execution_count": 7,
   "id": "d781c3b0",
   "metadata": {
    "deletable": false,
    "id": "85a5faf6",
    "outputId": "801ef80e-522b-4668-f34e-565af7432bcf"
   },
   "outputs": [
    {
     "data": {
      "text/plain": [
       "income_type\n",
       "безработный        366413.652744\n",
       "в декрете            3296.759962\n",
       "госслужащий          2689.368353\n",
       "компаньон            1547.382223\n",
       "пенсионер          365213.306266\n",
       "предприниматель       520.848083\n",
       "сотрудник            1574.202821\n",
       "студент               578.751554\n",
       "Name: days_employed, dtype: float64"
      ]
     },
     "execution_count": 7,
     "metadata": {},
     "output_type": "execute_result"
    }
   ],
   "source": [
    "data.groupby('income_type')['days_employed'].agg('median')"
   ]
  },
  {
   "cell_type": "markdown",
   "id": "4e197a8c",
   "metadata": {
    "deletable": false,
    "editable": false,
    "id": "38d1a030"
   },
   "source": [
    "У двух типов (безработные и пенсионеры) получатся аномально большие значения. Исправить такие значения сложно, поэтому оставьте их как есть. Тем более этот столбец не понадобится вам для исследования."
   ]
  },
  {
   "cell_type": "markdown",
   "id": "9a4d45ff",
   "metadata": {
    "deletable": false,
    "editable": false,
    "id": "d8a9f147"
   },
   "source": [
    "**Задание 8. Выведите перечень уникальных значений столбца `children`.**"
   ]
  },
  {
   "cell_type": "code",
   "execution_count": 8,
   "id": "de5ee3f4",
   "metadata": {
    "deletable": false,
    "id": "ef5056eb",
    "outputId": "6975b15c-7f95-4697-d16d-a0c79b657b03"
   },
   "outputs": [
    {
     "data": {
      "text/plain": [
       "array([ 1,  0,  3,  2, -1,  4, 20,  5], dtype=int64)"
      ]
     },
     "execution_count": 8,
     "metadata": {},
     "output_type": "execute_result"
    }
   ],
   "source": [
    "data['children'].unique()"
   ]
  },
  {
   "cell_type": "markdown",
   "id": "477ff657",
   "metadata": {
    "deletable": false,
    "editable": false,
    "id": "40b9ebf2"
   },
   "source": [
    "**Задание 9. В столбце `children` есть два аномальных значения. Удалите строки, в которых встречаются такие аномальные значения из датафрейма `data`.**"
   ]
  },
  {
   "cell_type": "code",
   "execution_count": 9,
   "id": "da08fe0e",
   "metadata": {
    "deletable": false,
    "id": "3ff9801d"
   },
   "outputs": [],
   "source": [
    "data = data[(data['children'] != -1) & (data['children'] != 20)]"
   ]
  },
  {
   "cell_type": "markdown",
   "id": "46481355",
   "metadata": {
    "deletable": false,
    "editable": false,
    "id": "bbc4d0ce"
   },
   "source": [
    "**Задание 10. Ещё раз выведите перечень уникальных значений столбца `children`, чтобы убедиться, что артефакты удалены.**"
   ]
  },
  {
   "cell_type": "code",
   "execution_count": 10,
   "id": "4a55337b",
   "metadata": {
    "deletable": false,
    "id": "ad4fa8b7",
    "outputId": "b2097101-d49d-44d9-901b-32a65c9463d1"
   },
   "outputs": [
    {
     "data": {
      "text/plain": [
       "array([1, 0, 3, 2, 4, 5], dtype=int64)"
      ]
     },
     "execution_count": 10,
     "metadata": {},
     "output_type": "execute_result"
    }
   ],
   "source": [
    "data['children'].unique()"
   ]
  },
  {
   "cell_type": "markdown",
   "id": "466e9657",
   "metadata": {
    "deletable": false,
    "editable": false,
    "id": "75440b63"
   },
   "source": [
    "### Удаление пропусков (продолжение)"
   ]
  },
  {
   "cell_type": "markdown",
   "id": "2137c9bb",
   "metadata": {
    "deletable": false,
    "editable": false,
    "id": "f4ea573f"
   },
   "source": [
    "**Задание 11. Заполните пропуски в столбце `days_employed` медианными значениями по каждого типа занятости `income_type`.**"
   ]
  },
  {
   "cell_type": "code",
   "execution_count": 11,
   "id": "431ce855",
   "metadata": {
    "deletable": false,
    "id": "af6b1a7e"
   },
   "outputs": [],
   "source": [
    "for t in data['income_type'].unique():\n",
    "    data.loc[(data['income_type'] == t) & (data['days_employed'].isna()), 'days_employed'] = \\\n",
    "    data.loc[(data['income_type'] == t), 'days_employed'].median()"
   ]
  },
  {
   "cell_type": "markdown",
   "id": "867406c7",
   "metadata": {
    "deletable": false,
    "editable": false,
    "id": "2753f40d"
   },
   "source": [
    "**Задание 12. Убедитесь, что все пропуски заполнены. Проверьте себя и ещё раз выведите количество пропущенных значений для каждого столбца с помощью двух методов.**"
   ]
  },
  {
   "cell_type": "code",
   "execution_count": 12,
   "id": "3d7afdb5",
   "metadata": {
    "deletable": false,
    "id": "55f78bc2",
    "outputId": "8da1e4e1-358e-4e87-98c9-f261bce0a7b2"
   },
   "outputs": [
    {
     "data": {
      "text/plain": [
       "children            0\n",
       "days_employed       0\n",
       "dob_years           0\n",
       "education           0\n",
       "education_id        0\n",
       "family_status       0\n",
       "family_status_id    0\n",
       "gender              0\n",
       "income_type         0\n",
       "debt                0\n",
       "total_income        0\n",
       "purpose             0\n",
       "dtype: int64"
      ]
     },
     "execution_count": 12,
     "metadata": {},
     "output_type": "execute_result"
    }
   ],
   "source": [
    "data.isna().sum()"
   ]
  },
  {
   "cell_type": "markdown",
   "id": "0592ba95",
   "metadata": {
    "deletable": false,
    "editable": false,
    "id": "ddc81e43"
   },
   "source": [
    "### Изменение типов данных"
   ]
  },
  {
   "cell_type": "markdown",
   "id": "fbea4336",
   "metadata": {
    "deletable": false,
    "editable": false,
    "id": "42d19d24"
   },
   "source": [
    "**Задание 13. Замените вещественный тип данных в столбце `total_income` на целочисленный с помощью метода `astype()`.**"
   ]
  },
  {
   "cell_type": "code",
   "execution_count": 13,
   "id": "18ad4f7b",
   "metadata": {
    "deletable": false,
    "id": "920b65ad"
   },
   "outputs": [],
   "source": [
    "data['total_income'] = data['total_income'].astype(int)"
   ]
  },
  {
   "cell_type": "markdown",
   "id": "7bbd4fdc",
   "metadata": {
    "deletable": false,
    "editable": false,
    "id": "80c420ba"
   },
   "source": [
    "### Обработка дубликатов"
   ]
  },
  {
   "cell_type": "markdown",
   "id": "efcf0c7f",
   "metadata": {
    "deletable": false,
    "editable": false
   },
   "source": [
    "**Задание 14. Обработайте неявные дубликаты в столбце `education`. В этом столбце есть одни и те же значения, но записанные по-разному: с использованием заглавных и строчных букв. Приведите их к нижнему регистру. Проверьте остальные столбцы.**"
   ]
  },
  {
   "cell_type": "code",
   "execution_count": 14,
   "id": "ba25cb16",
   "metadata": {
    "deletable": false
   },
   "outputs": [],
   "source": [
    "data['education'] = data['education'].str.lower()"
   ]
  },
  {
   "cell_type": "markdown",
   "id": "c6b14c17",
   "metadata": {
    "deletable": false,
    "editable": false,
    "id": "dc587695"
   },
   "source": [
    "**Задание 15. Выведите на экран количество строк-дубликатов в данных. Если такие строки присутствуют, удалите их.**"
   ]
  },
  {
   "cell_type": "code",
   "execution_count": 15,
   "id": "e445b831",
   "metadata": {
    "deletable": false,
    "id": "3ee445e4",
    "outputId": "9684deba-1934-42d1-99e1-cda61740f822"
   },
   "outputs": [
    {
     "data": {
      "text/plain": [
       "71"
      ]
     },
     "execution_count": 15,
     "metadata": {},
     "output_type": "execute_result"
    }
   ],
   "source": [
    "data.duplicated().sum()"
   ]
  },
  {
   "cell_type": "code",
   "execution_count": 16,
   "id": "f4f0d61a",
   "metadata": {
    "deletable": false,
    "id": "8575fe05"
   },
   "outputs": [],
   "source": [
    "data = data.drop_duplicates()"
   ]
  },
  {
   "cell_type": "markdown",
   "id": "aee619a1",
   "metadata": {
    "deletable": false,
    "editable": false,
    "id": "9904cf55"
   },
   "source": [
    "### Категоризация данных"
   ]
  },
  {
   "cell_type": "markdown",
   "id": "71663f3e",
   "metadata": {
    "deletable": false,
    "editable": false,
    "id": "72fcc8a2"
   },
   "source": [
    "**Задание 16. На основании диапазонов, указанных ниже, создайте в датафрейме `data` столбец `total_income_category` с категориями:**\n",
    "\n",
    "- 0–30000 — `'E'`;\n",
    "- 30001–50000 — `'D'`;\n",
    "- 50001–200000 — `'C'`;\n",
    "- 200001–1000000 — `'B'`;\n",
    "- 1000001 и выше — `'A'`.\n",
    "\n",
    "\n",
    "**Например, кредитополучателю с доходом 25000 нужно назначить категорию `'E'`, а клиенту, получающему 235000, — `'B'`. Используйте собственную функцию с именем `categorize_income()` и метод `apply()`.**"
   ]
  },
  {
   "cell_type": "code",
   "execution_count": 17,
   "id": "a4ddf06f",
   "metadata": {
    "deletable": false,
    "id": "e1771346"
   },
   "outputs": [],
   "source": [
    "def categorize_income(income):\n",
    "    try:\n",
    "        if 0 <= income <= 30000:\n",
    "            return 'E'\n",
    "        elif 30001 <= income <= 50000:\n",
    "            return 'D'\n",
    "        elif 50001 <= income <= 200000:\n",
    "            return 'C'\n",
    "        elif 200001 <= income <= 1000000:\n",
    "            return 'B'\n",
    "        elif income >= 1000001:\n",
    "            return 'A'\n",
    "    except:\n",
    "        pass"
   ]
  },
  {
   "cell_type": "code",
   "execution_count": 18,
   "id": "71f82cca",
   "metadata": {
    "deletable": false,
    "id": "d5f3586d"
   },
   "outputs": [],
   "source": [
    "data['total_income_category'] = data['total_income'].apply(categorize_income)"
   ]
  },
  {
   "cell_type": "markdown",
   "id": "01398a3c",
   "metadata": {
    "deletable": false,
    "editable": false,
    "id": "dde49b5c"
   },
   "source": [
    "**Задание 17. Выведите на экран перечень уникальных целей взятия кредита из столбца `purpose`.**"
   ]
  },
  {
   "cell_type": "code",
   "execution_count": 19,
   "id": "a0be7156",
   "metadata": {
    "deletable": false,
    "id": "f67ce9b3",
    "outputId": "673c12d9-7d7e-4ae0-9812-c622c89dd244"
   },
   "outputs": [
    {
     "data": {
      "text/plain": [
       "array(['покупка жилья', 'приобретение автомобиля',\n",
       "       'дополнительное образование', 'сыграть свадьбу',\n",
       "       'операции с жильем', 'образование', 'на проведение свадьбы',\n",
       "       'покупка жилья для семьи', 'покупка недвижимости',\n",
       "       'покупка коммерческой недвижимости', 'покупка жилой недвижимости',\n",
       "       'строительство собственной недвижимости', 'недвижимость',\n",
       "       'строительство недвижимости', 'на покупку подержанного автомобиля',\n",
       "       'на покупку своего автомобиля',\n",
       "       'операции с коммерческой недвижимостью',\n",
       "       'строительство жилой недвижимости', 'жилье',\n",
       "       'операции со своей недвижимостью', 'автомобили',\n",
       "       'заняться образованием', 'сделка с подержанным автомобилем',\n",
       "       'получение образования', 'автомобиль', 'свадьба',\n",
       "       'получение дополнительного образования', 'покупка своего жилья',\n",
       "       'операции с недвижимостью', 'получение высшего образования',\n",
       "       'свой автомобиль', 'сделка с автомобилем',\n",
       "       'профильное образование', 'высшее образование',\n",
       "       'покупка жилья для сдачи', 'на покупку автомобиля', 'ремонт жилью',\n",
       "       'заняться высшим образованием'], dtype=object)"
      ]
     },
     "execution_count": 19,
     "metadata": {},
     "output_type": "execute_result"
    }
   ],
   "source": [
    "data['purpose'].unique()"
   ]
  },
  {
   "cell_type": "markdown",
   "id": "a936f9ea",
   "metadata": {
    "deletable": false,
    "editable": false,
    "id": "85d0aef0"
   },
   "source": [
    "**Задание 18. Создайте функцию, которая на основании данных из столбца `purpose` сформирует новый столбец `purpose_category`, в который войдут следующие категории:**\n",
    "\n",
    "- `'операции с автомобилем'`,\n",
    "- `'операции с недвижимостью'`,\n",
    "- `'проведение свадьбы'`,\n",
    "- `'получение образования'`.\n",
    "\n",
    "**Например, если в столбце `purpose` находится подстрока `'на покупку автомобиля'`, то в столбце `purpose_category` должна появиться строка `'операции с автомобилем'`.**\n",
    "\n",
    "**Используйте собственную функцию с именем `categorize_purpose()` и метод `apply()`. Изучите данные в столбце `purpose` и определите, какие подстроки помогут вам правильно определить категорию.**"
   ]
  },
  {
   "cell_type": "code",
   "execution_count": 20,
   "id": "ec0d2aff",
   "metadata": {
    "deletable": false,
    "id": "e149fab4"
   },
   "outputs": [],
   "source": [
    "def categorize_purpose(row):\n",
    "    try:\n",
    "        if 'автом' in row:\n",
    "            return 'операции с автомобилем'\n",
    "        elif 'жил' in row or 'недвиж' in row:\n",
    "            return 'операции с недвижимостью'\n",
    "        elif 'свад' in row:\n",
    "            return 'проведение свадьбы'\n",
    "        elif 'образов' in row:\n",
    "            return 'получение образования'\n",
    "    except:\n",
    "        return 'нет категории'"
   ]
  },
  {
   "cell_type": "code",
   "execution_count": 21,
   "id": "da6e52d9",
   "metadata": {
    "deletable": false,
    "id": "bf36e69b"
   },
   "outputs": [],
   "source": [
    "data['purpose_category'] = data['purpose'].apply(categorize_purpose)"
   ]
  },
  {
   "cell_type": "markdown",
   "id": "7bf71f00",
   "metadata": {
    "deletable": false,
    "editable": false,
    "id": "09b242bf"
   },
   "source": [
    "### Шаг 3. Исследуйте данные и ответьте на вопросы"
   ]
  },
  {
   "cell_type": "markdown",
   "id": "666fefe7",
   "metadata": {
    "deletable": false,
    "editable": false,
    "id": "c5d66278"
   },
   "source": [
    "#### 3.1 Есть ли зависимость между количеством детей и возвратом кредита в срок?"
   ]
  },
  {
   "cell_type": "code",
   "execution_count": 22,
   "id": "caf428ff",
   "metadata": {
    "deletable": false,
    "id": "2cacfc4a"
   },
   "outputs": [
    {
     "data": {
      "text/html": [
       "<div>\n",
       "<style scoped>\n",
       "    .dataframe tbody tr th:only-of-type {\n",
       "        vertical-align: middle;\n",
       "    }\n",
       "\n",
       "    .dataframe tbody tr th {\n",
       "        vertical-align: top;\n",
       "    }\n",
       "\n",
       "    .dataframe thead tr th {\n",
       "        text-align: left;\n",
       "    }\n",
       "\n",
       "    .dataframe thead tr:last-of-type th {\n",
       "        text-align: right;\n",
       "    }\n",
       "</style>\n",
       "<table border=\"1\" class=\"dataframe\">\n",
       "  <thead>\n",
       "    <tr>\n",
       "      <th></th>\n",
       "      <th>количество просрочек</th>\n",
       "      <th>количество обращений</th>\n",
       "      <th>доля просрочек</th>\n",
       "    </tr>\n",
       "    <tr>\n",
       "      <th></th>\n",
       "      <th>debt</th>\n",
       "      <th>debt</th>\n",
       "      <th>debt</th>\n",
       "    </tr>\n",
       "    <tr>\n",
       "      <th>children</th>\n",
       "      <th></th>\n",
       "      <th></th>\n",
       "      <th></th>\n",
       "    </tr>\n",
       "  </thead>\n",
       "  <tbody>\n",
       "    <tr>\n",
       "      <th>0</th>\n",
       "      <td>1063</td>\n",
       "      <td>14091</td>\n",
       "      <td>0.075438</td>\n",
       "    </tr>\n",
       "    <tr>\n",
       "      <th>3</th>\n",
       "      <td>27</td>\n",
       "      <td>330</td>\n",
       "      <td>0.081818</td>\n",
       "    </tr>\n",
       "    <tr>\n",
       "      <th>1</th>\n",
       "      <td>444</td>\n",
       "      <td>4808</td>\n",
       "      <td>0.092346</td>\n",
       "    </tr>\n",
       "    <tr>\n",
       "      <th>2</th>\n",
       "      <td>194</td>\n",
       "      <td>2052</td>\n",
       "      <td>0.094542</td>\n",
       "    </tr>\n",
       "  </tbody>\n",
       "</table>\n",
       "</div>"
      ],
      "text/plain": [
       "         количество просрочек количество обращений доля просрочек\n",
       "                         debt                 debt           debt\n",
       "children                                                         \n",
       "0                        1063                14091       0.075438\n",
       "3                          27                  330       0.081818\n",
       "1                         444                 4808       0.092346\n",
       "2                         194                 2052       0.094542"
      ]
     },
     "execution_count": 22,
     "metadata": {},
     "output_type": "execute_result"
    }
   ],
   "source": [
    "# создаем сводную таблицу по количеству детей и применяем функции для нахождения суммы, количества и среднего значения\n",
    "children_debt = pd.pivot_table(data, index = ['children'], values = ['debt'], aggfunc = ['sum', 'count', 'mean'])\n",
    "\n",
    "# переменновывем названия столбцов\n",
    "children_debt = children_debt.rename(\\\n",
    "     columns= {'sum': 'количество просрочек', 'count': 'количество обращений', 'mean': 'доля просрочек'})\n",
    "\n",
    "# удаляем данные, которые мешают анализу\n",
    "children_debt.drop(labels = [4,5],axis = 0, inplace = True)\n",
    "\n",
    "# сортируем по возрастанию и выводим на экран\n",
    "children_debt.sort_values(by=[('доля просрочек', 'debt')], ascending=True)"
   ]
  },
  {
   "cell_type": "markdown",
   "id": "7aeb86aa",
   "metadata": {
    "deletable": false,
    "id": "3a6b99ec"
   },
   "source": [
    "**Вывод:** Если смотреть на людей у кого нет детей, то увидим что они чаще других возвращают кредит в срок и их большинство. У людей с `1` и `2` детьми, практически одинаковый и самый большой процент не возврата кредита в срок, но людей с `1` ребенком больше в два раза чем людей с `2` детьми. Люди с `3` детьми чаще не возвращают чем люди без детей, но реже чем люди с `1` и `2` детьми, но и их количество не такое большое, как эти три группы. По данным можно сделать вывод, что люди у которых нет детей и нет каких-то дополнительных трат, они действительно лучше всех возвращают кредит в срок. А у кого есть дети у них возникают проблемы с возвращением кредита в срок."
   ]
  },
  {
   "cell_type": "markdown",
   "id": "44708580",
   "metadata": {
    "deletable": false,
    "editable": false,
    "id": "97be82ca"
   },
   "source": [
    "#### 3.2 Есть ли зависимость между семейным положением и возвратом кредита в срок?"
   ]
  },
  {
   "cell_type": "code",
   "execution_count": 23,
   "id": "8d37e5f7",
   "metadata": {
    "deletable": false,
    "id": "dc3f7ee8"
   },
   "outputs": [
    {
     "data": {
      "text/html": [
       "<div>\n",
       "<style scoped>\n",
       "    .dataframe tbody tr th:only-of-type {\n",
       "        vertical-align: middle;\n",
       "    }\n",
       "\n",
       "    .dataframe tbody tr th {\n",
       "        vertical-align: top;\n",
       "    }\n",
       "\n",
       "    .dataframe thead tr th {\n",
       "        text-align: left;\n",
       "    }\n",
       "\n",
       "    .dataframe thead tr:last-of-type th {\n",
       "        text-align: right;\n",
       "    }\n",
       "</style>\n",
       "<table border=\"1\" class=\"dataframe\">\n",
       "  <thead>\n",
       "    <tr>\n",
       "      <th></th>\n",
       "      <th>количество просрочек</th>\n",
       "      <th>количество обращений</th>\n",
       "      <th>доля просрочек</th>\n",
       "    </tr>\n",
       "    <tr>\n",
       "      <th></th>\n",
       "      <th>debt</th>\n",
       "      <th>debt</th>\n",
       "      <th>debt</th>\n",
       "    </tr>\n",
       "    <tr>\n",
       "      <th>family_status</th>\n",
       "      <th></th>\n",
       "      <th></th>\n",
       "      <th></th>\n",
       "    </tr>\n",
       "  </thead>\n",
       "  <tbody>\n",
       "    <tr>\n",
       "      <th>вдовец / вдова</th>\n",
       "      <td>63</td>\n",
       "      <td>951</td>\n",
       "      <td>0.066246</td>\n",
       "    </tr>\n",
       "    <tr>\n",
       "      <th>в разводе</th>\n",
       "      <td>84</td>\n",
       "      <td>1189</td>\n",
       "      <td>0.070648</td>\n",
       "    </tr>\n",
       "    <tr>\n",
       "      <th>женат / замужем</th>\n",
       "      <td>927</td>\n",
       "      <td>12261</td>\n",
       "      <td>0.075606</td>\n",
       "    </tr>\n",
       "    <tr>\n",
       "      <th>гражданский брак</th>\n",
       "      <td>385</td>\n",
       "      <td>4134</td>\n",
       "      <td>0.093130</td>\n",
       "    </tr>\n",
       "    <tr>\n",
       "      <th>Не женат / не замужем</th>\n",
       "      <td>273</td>\n",
       "      <td>2796</td>\n",
       "      <td>0.097639</td>\n",
       "    </tr>\n",
       "  </tbody>\n",
       "</table>\n",
       "</div>"
      ],
      "text/plain": [
       "                      количество просрочек количество обращений доля просрочек\n",
       "                                      debt                 debt           debt\n",
       "family_status                                                                 \n",
       "вдовец / вдова                          63                  951       0.066246\n",
       "в разводе                               84                 1189       0.070648\n",
       "женат / замужем                        927                12261       0.075606\n",
       "гражданский брак                       385                 4134       0.093130\n",
       "Не женат / не замужем                  273                 2796       0.097639"
      ]
     },
     "execution_count": 23,
     "metadata": {},
     "output_type": "execute_result"
    }
   ],
   "source": [
    "family_status_debt = pd.pivot_table(data, index = ['family_status'], values = ['debt'], aggfunc = ['sum', 'count', 'mean'])\n",
    "family_status_debt = family_status_debt.rename(\\\n",
    "     columns= {'sum': 'количество просрочек', 'count': 'количество обращений', 'mean': 'доля просрочек'})\n",
    "family_status_debt.sort_values(by=[('доля просрочек', 'debt')], ascending=True)"
   ]
  },
  {
   "cell_type": "markdown",
   "id": "fc2d2396",
   "metadata": {
    "deletable": false,
    "id": "1cef7837"
   },
   "source": [
    "**Вывод:** Судя по таблице видно что чаще и больше возвращают кредит в срок люди `женатые` или которые были в браке. `Не женатые` и в `гражданском браке` чаще не возвращают кредит в срок. Можно понять что более опытные люди, которые жили семейной жизнью, лучше оценивают свой бюджет при взятии кредита. А люди `одиночки` и в `гражданском браке` без опыта, чаще плохо оценивают свои силы на возврат кредита в срок и не успевают заплатить в срок."
   ]
  },
  {
   "cell_type": "markdown",
   "id": "deb43999",
   "metadata": {
    "deletable": false,
    "editable": false,
    "id": "1e8b2fca"
   },
   "source": [
    "#### 3.3 Есть ли зависимость между уровнем дохода и возвратом кредита в срок?"
   ]
  },
  {
   "cell_type": "code",
   "execution_count": 24,
   "id": "ae8959c9",
   "metadata": {
    "deletable": false,
    "id": "cd7e3720"
   },
   "outputs": [
    {
     "data": {
      "text/html": [
       "<div>\n",
       "<style scoped>\n",
       "    .dataframe tbody tr th:only-of-type {\n",
       "        vertical-align: middle;\n",
       "    }\n",
       "\n",
       "    .dataframe tbody tr th {\n",
       "        vertical-align: top;\n",
       "    }\n",
       "\n",
       "    .dataframe thead tr th {\n",
       "        text-align: left;\n",
       "    }\n",
       "\n",
       "    .dataframe thead tr:last-of-type th {\n",
       "        text-align: right;\n",
       "    }\n",
       "</style>\n",
       "<table border=\"1\" class=\"dataframe\">\n",
       "  <thead>\n",
       "    <tr>\n",
       "      <th></th>\n",
       "      <th>количество просрочек</th>\n",
       "      <th>количество обращений</th>\n",
       "      <th>доля просрочек</th>\n",
       "    </tr>\n",
       "    <tr>\n",
       "      <th></th>\n",
       "      <th>debt</th>\n",
       "      <th>debt</th>\n",
       "      <th>debt</th>\n",
       "    </tr>\n",
       "    <tr>\n",
       "      <th>total_income_category</th>\n",
       "      <th></th>\n",
       "      <th></th>\n",
       "      <th></th>\n",
       "    </tr>\n",
       "  </thead>\n",
       "  <tbody>\n",
       "    <tr>\n",
       "      <th>D</th>\n",
       "      <td>21</td>\n",
       "      <td>349</td>\n",
       "      <td>0.060172</td>\n",
       "    </tr>\n",
       "    <tr>\n",
       "      <th>B</th>\n",
       "      <td>354</td>\n",
       "      <td>5014</td>\n",
       "      <td>0.070602</td>\n",
       "    </tr>\n",
       "    <tr>\n",
       "      <th>A</th>\n",
       "      <td>2</td>\n",
       "      <td>25</td>\n",
       "      <td>0.080000</td>\n",
       "    </tr>\n",
       "    <tr>\n",
       "      <th>C</th>\n",
       "      <td>1353</td>\n",
       "      <td>15921</td>\n",
       "      <td>0.084982</td>\n",
       "    </tr>\n",
       "    <tr>\n",
       "      <th>E</th>\n",
       "      <td>2</td>\n",
       "      <td>22</td>\n",
       "      <td>0.090909</td>\n",
       "    </tr>\n",
       "  </tbody>\n",
       "</table>\n",
       "</div>"
      ],
      "text/plain": [
       "                      количество просрочек количество обращений доля просрочек\n",
       "                                      debt                 debt           debt\n",
       "total_income_category                                                         \n",
       "D                                       21                  349       0.060172\n",
       "B                                      354                 5014       0.070602\n",
       "A                                        2                   25       0.080000\n",
       "C                                     1353                15921       0.084982\n",
       "E                                        2                   22       0.090909"
      ]
     },
     "execution_count": 24,
     "metadata": {},
     "output_type": "execute_result"
    }
   ],
   "source": [
    "total_income_debt = pd.pivot_table(data, index = ['total_income_category'], values = ['debt'], aggfunc = ['sum', 'count', 'mean'])\n",
    "total_income_debt = total_income_debt.rename(\\\n",
    "     columns= {'sum': 'количество просрочек', 'count': 'количество обращений', 'mean': 'доля просрочек'})\n",
    "total_income_debt.sort_values(by=[('доля просрочек', 'debt')], ascending=True)"
   ]
  },
  {
   "cell_type": "markdown",
   "id": "35406884",
   "metadata": {
    "deletable": false,
    "id": "e8593def"
   },
   "source": [
    "**Вывод:** Категория дохода:\\\n",
    "A-высокий\\\n",
    "B-выше среднего\\\n",
    "C-средний\\\n",
    "D-ниже среднего\\\n",
    "E-низкий\\\n",
    "По таблице видно что людей с `высоким` и `низким` дохомом очень мало, большая часть людей со `средним`, `выше среднего`и `ниже среднего` дохода. Люди с `ниже среднего` и `выше среднего` дохода чаще всего возвращают кредит в срок. Больше всего людей со `средним` уровнем дохода, если смотреть на количество, то много людей возвращают в срок, но процент состовляет 8.4% от общего числа. Как ни страно люди с `низким` доходом хуже всех возвращают кредит в срок, но их количество не велико. Но странно что по доле просрочки люди с `высоким` доходом находятся в середине списка с 8%, но их количество так же мало."
   ]
  },
  {
   "cell_type": "markdown",
   "id": "a6257a33",
   "metadata": {
    "deletable": false,
    "editable": false,
    "id": "99ecbd1f"
   },
   "source": [
    "#### 3.4 Как разные цели кредита влияют на его возврат в срок?"
   ]
  },
  {
   "cell_type": "code",
   "execution_count": 25,
   "id": "9d3b686b",
   "metadata": {
    "deletable": false,
    "id": "2b687290"
   },
   "outputs": [
    {
     "data": {
      "text/html": [
       "<div>\n",
       "<style scoped>\n",
       "    .dataframe tbody tr th:only-of-type {\n",
       "        vertical-align: middle;\n",
       "    }\n",
       "\n",
       "    .dataframe tbody tr th {\n",
       "        vertical-align: top;\n",
       "    }\n",
       "\n",
       "    .dataframe thead tr th {\n",
       "        text-align: left;\n",
       "    }\n",
       "\n",
       "    .dataframe thead tr:last-of-type th {\n",
       "        text-align: right;\n",
       "    }\n",
       "</style>\n",
       "<table border=\"1\" class=\"dataframe\">\n",
       "  <thead>\n",
       "    <tr>\n",
       "      <th></th>\n",
       "      <th>количество просрочек</th>\n",
       "      <th>количество обращений</th>\n",
       "      <th>доля просрочек</th>\n",
       "    </tr>\n",
       "    <tr>\n",
       "      <th></th>\n",
       "      <th>debt</th>\n",
       "      <th>debt</th>\n",
       "      <th>debt</th>\n",
       "    </tr>\n",
       "    <tr>\n",
       "      <th>purpose_category</th>\n",
       "      <th></th>\n",
       "      <th></th>\n",
       "      <th></th>\n",
       "    </tr>\n",
       "  </thead>\n",
       "  <tbody>\n",
       "    <tr>\n",
       "      <th>операции с недвижимостью</th>\n",
       "      <td>780</td>\n",
       "      <td>10751</td>\n",
       "      <td>0.072551</td>\n",
       "    </tr>\n",
       "    <tr>\n",
       "      <th>проведение свадьбы</th>\n",
       "      <td>183</td>\n",
       "      <td>2313</td>\n",
       "      <td>0.079118</td>\n",
       "    </tr>\n",
       "    <tr>\n",
       "      <th>получение образования</th>\n",
       "      <td>369</td>\n",
       "      <td>3988</td>\n",
       "      <td>0.092528</td>\n",
       "    </tr>\n",
       "    <tr>\n",
       "      <th>операции с автомобилем</th>\n",
       "      <td>400</td>\n",
       "      <td>4279</td>\n",
       "      <td>0.093480</td>\n",
       "    </tr>\n",
       "  </tbody>\n",
       "</table>\n",
       "</div>"
      ],
      "text/plain": [
       "                         количество просрочек количество обращений  \\\n",
       "                                         debt                 debt   \n",
       "purpose_category                                                     \n",
       "операции с недвижимостью                  780                10751   \n",
       "проведение свадьбы                        183                 2313   \n",
       "получение образования                     369                 3988   \n",
       "операции с автомобилем                    400                 4279   \n",
       "\n",
       "                         доля просрочек  \n",
       "                                   debt  \n",
       "purpose_category                         \n",
       "операции с недвижимостью       0.072551  \n",
       "проведение свадьбы             0.079118  \n",
       "получение образования          0.092528  \n",
       "операции с автомобилем         0.093480  "
      ]
     },
     "execution_count": 25,
     "metadata": {},
     "output_type": "execute_result"
    }
   ],
   "source": [
    "purpose_debt = pd.pivot_table(data, index = ['purpose_category'], values = ['debt'], aggfunc = ['sum', 'count', 'mean'])\n",
    "purpose_debt = purpose_debt.rename(\\\n",
    "     columns= {'sum': 'количество просрочек', 'count': 'количество обращений', 'mean': 'доля просрочек'})\n",
    "purpose_debt.sort_values(by=[('доля просрочек', 'debt')], ascending=True)"
   ]
  },
  {
   "cell_type": "markdown",
   "id": "1d9fff7b",
   "metadata": {
    "deletable": false,
    "id": "b4bb2ce6"
   },
   "source": [
    "**Вывод:** Больше всего людей, которые берут кредит `связанный с недвижимостью` и они чаще всех возвращают кредит в срок. Люди с целью `операции с автомобилем` и `получения образования` чаще не возвращают кредит в срок и их доля просрочки практически равна. Людей с целью `проведение свадьбы` меньше остальных категорий, но они возвращают кредит в срок лучше чем люди с целью `образование` или `автомобиль`, но хуже чем люди `покупающими неждвижимость`. \n",
    "Людей можно разделить на две категория это \n",
    "1.взрослые люди: `операции с недвижимостью` и `проведение свадьбы`(цель больше стоит перед взрослыми людьми и они лучше оценивают свои силы выплатить в срок) \n",
    "2.молодые люди:`получение образования` и `операции с автомобилем`(эти цели скорей всего актуальны среди молодых людей и они из-за не опытности хуже оценивают свои силы выплатить кредит в срок)"
   ]
  },
  {
   "cell_type": "markdown",
   "id": "715864ff",
   "metadata": {
    "deletable": false,
    "editable": false,
    "id": "09c3ac4c"
   },
   "source": [
    "#### 3.5 Приведите возможные причины появления пропусков в исходных данных."
   ]
  },
  {
   "cell_type": "markdown",
   "id": "2a8e5cf1",
   "metadata": {
    "deletable": false,
    "id": "9da2ceda"
   },
   "source": [
    "*Ответ:* неправильная выгрузка, может кто-то не захотел говорить правду и соврал о количестве детей и тд, либо не заполнил данные в анкете, если пропуски в днях стажа и доходе, то возможно еще никогда не работали или не работали официально"
   ]
  },
  {
   "cell_type": "markdown",
   "id": "d981c6a8",
   "metadata": {
    "deletable": false,
    "editable": false,
    "id": "7b0487d6"
   },
   "source": [
    "#### 3.6 Объясните, почему заполнить пропуски медианным значением — лучшее решение для количественных переменных."
   ]
  },
  {
   "cell_type": "markdown",
   "id": "427b2719",
   "metadata": {
    "deletable": false,
    "id": "7ecf2b8e"
   },
   "source": [
    "*Ответ:* Медианное значение лучше всего подходит для оценки широкого спектра людей, потому что берет самое среднее значение из всех значений и не завышается и не занижается, если имеет завышенные или заниженные значения в отличии от среднего арифметического."
   ]
  },
  {
   "cell_type": "markdown",
   "id": "a7b78839",
   "metadata": {
    "deletable": false,
    "editable": false,
    "id": "6db5255a"
   },
   "source": [
    "### Шаг 4: общий вывод."
   ]
  },
  {
   "cell_type": "markdown",
   "id": "a9fec89c",
   "metadata": {
    "deletable": false,
    "id": "bad65432"
   },
   "source": [
    "В общем можно сделать вывод, что разные цели по разному влияют на выплату кредита в срок и зависят друг от друга. Так же влияет семейное положение человека в своевременном возврате кредита, более опытные люди, которые женаты или были женаты лучше других возвращают кредит в срок. Люди с доходом выше среднего вовремя в большинстве случаев возвращают кредит в срок нежели люди со средним доходом или ниже среднего. Люди без детей возвращают кредит в срок лучше чем люди с детьми. Я бы рекомендовал не выдавать людям с 2 детьми, не женатым, имеющим низкий доход и цель кредита операция с автомобилем или получение образование, такие люди могут не вернуть в срок кредит."
   ]
  }
 ],
 "metadata": {
  "ExecuteTimeLog": [
   {
    "duration": 450,
    "start_time": "2022-10-12T17:13:16.972Z"
   },
   {
    "duration": 8,
    "start_time": "2022-10-12T17:47:12.239Z"
   },
   {
    "duration": 18,
    "start_time": "2022-10-12T17:47:20.418Z"
   },
   {
    "duration": 400,
    "start_time": "2022-10-12T17:47:51.152Z"
   },
   {
    "duration": 22,
    "start_time": "2022-10-12T17:47:51.554Z"
   },
   {
    "duration": 13,
    "start_time": "2022-10-12T17:47:51.578Z"
   },
   {
    "duration": 14,
    "start_time": "2022-10-12T17:47:51.593Z"
   },
   {
    "duration": 33,
    "start_time": "2022-10-12T17:47:51.608Z"
   },
   {
    "duration": 3,
    "start_time": "2022-10-12T17:47:51.643Z"
   },
   {
    "duration": 14,
    "start_time": "2022-10-12T17:47:51.648Z"
   },
   {
    "duration": 5,
    "start_time": "2022-10-12T17:47:51.663Z"
   },
   {
    "duration": 8,
    "start_time": "2022-10-12T17:47:51.669Z"
   },
   {
    "duration": 23,
    "start_time": "2022-10-12T17:47:51.679Z"
   },
   {
    "duration": 36,
    "start_time": "2022-10-12T17:47:51.704Z"
   },
   {
    "duration": 8,
    "start_time": "2022-10-12T17:47:51.742Z"
   },
   {
    "duration": 8,
    "start_time": "2022-10-12T17:47:51.752Z"
   },
   {
    "duration": 13,
    "start_time": "2022-10-12T17:47:51.761Z"
   },
   {
    "duration": 36,
    "start_time": "2022-10-12T17:47:51.775Z"
   },
   {
    "duration": 17,
    "start_time": "2022-10-12T17:47:51.812Z"
   },
   {
    "duration": 3,
    "start_time": "2022-10-12T17:47:51.831Z"
   },
   {
    "duration": 28,
    "start_time": "2022-10-12T17:47:51.836Z"
   },
   {
    "duration": 8,
    "start_time": "2022-10-12T17:47:51.866Z"
   },
   {
    "duration": 4,
    "start_time": "2022-10-12T17:47:51.875Z"
   },
   {
    "duration": 21,
    "start_time": "2022-10-12T17:47:51.880Z"
   },
   {
    "duration": 13,
    "start_time": "2022-10-12T17:47:51.902Z"
   },
   {
    "duration": 3,
    "start_time": "2022-10-12T17:47:51.916Z"
   },
   {
    "duration": 10,
    "start_time": "2022-10-12T17:47:51.921Z"
   },
   {
    "duration": 5,
    "start_time": "2022-10-12T17:47:51.932Z"
   },
   {
    "duration": 11,
    "start_time": "2022-10-12T17:48:15.941Z"
   },
   {
    "duration": 430,
    "start_time": "2022-10-12T18:02:47.308Z"
   },
   {
    "duration": 9,
    "start_time": "2022-10-12T18:19:03.076Z"
   },
   {
    "duration": 14,
    "start_time": "2022-10-12T18:19:11.197Z"
   },
   {
    "duration": 57,
    "start_time": "2022-10-14T15:03:28.749Z"
   },
   {
    "duration": 518,
    "start_time": "2022-10-14T15:03:34.099Z"
   },
   {
    "duration": 27,
    "start_time": "2022-10-14T15:03:34.619Z"
   },
   {
    "duration": 25,
    "start_time": "2022-10-14T15:03:34.648Z"
   },
   {
    "duration": 12,
    "start_time": "2022-10-14T15:03:34.677Z"
   },
   {
    "duration": 78,
    "start_time": "2022-10-14T15:03:34.691Z"
   },
   {
    "duration": 4,
    "start_time": "2022-10-14T15:03:34.771Z"
   },
   {
    "duration": 13,
    "start_time": "2022-10-14T15:03:34.777Z"
   },
   {
    "duration": 9,
    "start_time": "2022-10-14T15:03:34.792Z"
   },
   {
    "duration": 28,
    "start_time": "2022-10-14T15:03:34.803Z"
   },
   {
    "duration": 23,
    "start_time": "2022-10-14T15:03:34.834Z"
   },
   {
    "duration": 37,
    "start_time": "2022-10-14T15:03:34.859Z"
   },
   {
    "duration": 11,
    "start_time": "2022-10-14T15:03:34.898Z"
   },
   {
    "duration": 11,
    "start_time": "2022-10-14T15:03:34.911Z"
   },
   {
    "duration": 44,
    "start_time": "2022-10-14T15:03:34.925Z"
   },
   {
    "duration": 27,
    "start_time": "2022-10-14T15:03:34.972Z"
   },
   {
    "duration": 22,
    "start_time": "2022-10-14T15:03:35.001Z"
   },
   {
    "duration": 5,
    "start_time": "2022-10-14T15:03:35.025Z"
   },
   {
    "duration": 45,
    "start_time": "2022-10-14T15:03:35.032Z"
   },
   {
    "duration": 18,
    "start_time": "2022-10-14T15:03:35.079Z"
   },
   {
    "duration": 14,
    "start_time": "2022-10-14T15:03:35.099Z"
   },
   {
    "duration": 20,
    "start_time": "2022-10-14T15:03:35.115Z"
   },
   {
    "duration": 31,
    "start_time": "2022-10-14T15:03:35.137Z"
   },
   {
    "duration": 13,
    "start_time": "2022-10-14T15:03:35.170Z"
   },
   {
    "duration": 19,
    "start_time": "2022-10-14T15:03:35.185Z"
   },
   {
    "duration": 12,
    "start_time": "2022-10-14T15:03:35.206Z"
   },
   {
    "duration": 17,
    "start_time": "2022-10-14T15:04:26.200Z"
   },
   {
    "duration": 526,
    "start_time": "2022-10-14T15:04:34.928Z"
   },
   {
    "duration": 35,
    "start_time": "2022-10-14T15:04:35.456Z"
   },
   {
    "duration": 22,
    "start_time": "2022-10-14T15:04:35.493Z"
   },
   {
    "duration": 45,
    "start_time": "2022-10-14T15:04:35.518Z"
   },
   {
    "duration": 44,
    "start_time": "2022-10-14T15:04:35.565Z"
   },
   {
    "duration": 5,
    "start_time": "2022-10-14T15:04:35.611Z"
   },
   {
    "duration": 42,
    "start_time": "2022-10-14T15:04:35.618Z"
   },
   {
    "duration": 7,
    "start_time": "2022-10-14T15:04:35.661Z"
   },
   {
    "duration": 13,
    "start_time": "2022-10-14T15:04:35.669Z"
   },
   {
    "duration": 7,
    "start_time": "2022-10-14T15:04:35.685Z"
   },
   {
    "duration": 72,
    "start_time": "2022-10-14T15:04:35.694Z"
   },
   {
    "duration": 13,
    "start_time": "2022-10-14T15:04:35.768Z"
   },
   {
    "duration": 5,
    "start_time": "2022-10-14T15:04:35.783Z"
   },
   {
    "duration": 19,
    "start_time": "2022-10-14T15:04:35.790Z"
   },
   {
    "duration": 58,
    "start_time": "2022-10-14T15:04:35.811Z"
   },
   {
    "duration": 20,
    "start_time": "2022-10-14T15:04:35.870Z"
   },
   {
    "duration": 5,
    "start_time": "2022-10-14T15:04:35.893Z"
   },
   {
    "duration": 23,
    "start_time": "2022-10-14T15:04:35.900Z"
   },
   {
    "duration": 32,
    "start_time": "2022-10-14T15:04:35.925Z"
   },
   {
    "duration": 10,
    "start_time": "2022-10-14T15:04:35.959Z"
   },
   {
    "duration": 14,
    "start_time": "2022-10-14T15:04:35.970Z"
   },
   {
    "duration": 26,
    "start_time": "2022-10-14T15:04:35.986Z"
   },
   {
    "duration": 3,
    "start_time": "2022-10-14T15:04:36.015Z"
   },
   {
    "duration": 39,
    "start_time": "2022-10-14T15:04:36.019Z"
   },
   {
    "duration": 7,
    "start_time": "2022-10-14T15:04:36.061Z"
   },
   {
    "duration": 23,
    "start_time": "2022-10-14T15:04:48.190Z"
   },
   {
    "duration": 21,
    "start_time": "2022-10-14T15:04:58.489Z"
   },
   {
    "duration": 18,
    "start_time": "2022-10-14T15:05:14.370Z"
   },
   {
    "duration": 90,
    "start_time": "2022-10-14T15:07:24.050Z"
   },
   {
    "duration": 497,
    "start_time": "2022-10-14T15:07:32.494Z"
   },
   {
    "duration": 27,
    "start_time": "2022-10-14T15:07:32.993Z"
   },
   {
    "duration": 69,
    "start_time": "2022-10-14T15:07:33.022Z"
   },
   {
    "duration": 14,
    "start_time": "2022-10-14T15:07:33.095Z"
   },
   {
    "duration": 62,
    "start_time": "2022-10-14T15:07:33.111Z"
   },
   {
    "duration": 5,
    "start_time": "2022-10-14T15:07:33.175Z"
   },
   {
    "duration": 23,
    "start_time": "2022-10-14T15:07:33.182Z"
   },
   {
    "duration": 15,
    "start_time": "2022-10-14T15:07:33.207Z"
   },
   {
    "duration": 19,
    "start_time": "2022-10-14T15:07:33.224Z"
   },
   {
    "duration": 7,
    "start_time": "2022-10-14T15:07:33.255Z"
   },
   {
    "duration": 49,
    "start_time": "2022-10-14T15:07:33.263Z"
   },
   {
    "duration": 11,
    "start_time": "2022-10-14T15:07:33.314Z"
   },
   {
    "duration": 30,
    "start_time": "2022-10-14T15:07:33.327Z"
   },
   {
    "duration": 23,
    "start_time": "2022-10-14T15:07:33.359Z"
   },
   {
    "duration": 28,
    "start_time": "2022-10-14T15:07:33.384Z"
   },
   {
    "duration": 48,
    "start_time": "2022-10-14T15:07:33.414Z"
   },
   {
    "duration": 5,
    "start_time": "2022-10-14T15:07:33.463Z"
   },
   {
    "duration": 24,
    "start_time": "2022-10-14T15:07:33.469Z"
   },
   {
    "duration": 19,
    "start_time": "2022-10-14T15:07:33.495Z"
   },
   {
    "duration": 4,
    "start_time": "2022-10-14T15:07:33.517Z"
   },
   {
    "duration": 35,
    "start_time": "2022-10-14T15:07:33.522Z"
   },
   {
    "duration": 96,
    "start_time": "2022-10-14T15:07:33.559Z"
   },
   {
    "duration": 0,
    "start_time": "2022-10-14T15:07:33.657Z"
   },
   {
    "duration": 0,
    "start_time": "2022-10-14T15:07:33.658Z"
   },
   {
    "duration": 0,
    "start_time": "2022-10-14T15:07:33.659Z"
   },
   {
    "duration": 23,
    "start_time": "2022-10-14T15:07:59.299Z"
   },
   {
    "duration": 550,
    "start_time": "2022-10-14T15:08:05.117Z"
   },
   {
    "duration": 35,
    "start_time": "2022-10-14T15:08:05.670Z"
   },
   {
    "duration": 17,
    "start_time": "2022-10-14T15:08:05.707Z"
   },
   {
    "duration": 33,
    "start_time": "2022-10-14T15:08:05.726Z"
   },
   {
    "duration": 42,
    "start_time": "2022-10-14T15:08:05.761Z"
   },
   {
    "duration": 6,
    "start_time": "2022-10-14T15:08:05.805Z"
   },
   {
    "duration": 60,
    "start_time": "2022-10-14T15:08:05.813Z"
   },
   {
    "duration": 28,
    "start_time": "2022-10-14T15:08:05.875Z"
   },
   {
    "duration": 9,
    "start_time": "2022-10-14T15:08:05.905Z"
   },
   {
    "duration": 5,
    "start_time": "2022-10-14T15:08:05.918Z"
   },
   {
    "duration": 50,
    "start_time": "2022-10-14T15:08:05.925Z"
   },
   {
    "duration": 11,
    "start_time": "2022-10-14T15:08:05.977Z"
   },
   {
    "duration": 20,
    "start_time": "2022-10-14T15:08:05.990Z"
   },
   {
    "duration": 25,
    "start_time": "2022-10-14T15:08:06.013Z"
   },
   {
    "duration": 31,
    "start_time": "2022-10-14T15:08:06.040Z"
   },
   {
    "duration": 28,
    "start_time": "2022-10-14T15:08:06.073Z"
   },
   {
    "duration": 5,
    "start_time": "2022-10-14T15:08:06.103Z"
   },
   {
    "duration": 49,
    "start_time": "2022-10-14T15:08:06.109Z"
   },
   {
    "duration": 28,
    "start_time": "2022-10-14T15:08:06.160Z"
   },
   {
    "duration": 5,
    "start_time": "2022-10-14T15:08:06.189Z"
   },
   {
    "duration": 16,
    "start_time": "2022-10-14T15:08:06.195Z"
   },
   {
    "duration": 97,
    "start_time": "2022-10-14T15:08:06.213Z"
   },
   {
    "duration": 0,
    "start_time": "2022-10-14T15:08:06.312Z"
   },
   {
    "duration": 0,
    "start_time": "2022-10-14T15:08:06.313Z"
   },
   {
    "duration": 0,
    "start_time": "2022-10-14T15:08:06.314Z"
   },
   {
    "duration": 18,
    "start_time": "2022-10-14T15:08:19.628Z"
   },
   {
    "duration": 21,
    "start_time": "2022-10-14T15:08:28.049Z"
   },
   {
    "duration": 18,
    "start_time": "2022-10-14T15:08:36.592Z"
   },
   {
    "duration": 19,
    "start_time": "2022-10-14T15:08:43.863Z"
   },
   {
    "duration": 17,
    "start_time": "2022-10-14T15:08:55.990Z"
   },
   {
    "duration": 12,
    "start_time": "2022-10-14T15:18:15.830Z"
   },
   {
    "duration": 483,
    "start_time": "2022-10-14T15:18:23.311Z"
   },
   {
    "duration": 27,
    "start_time": "2022-10-14T15:18:23.796Z"
   },
   {
    "duration": 34,
    "start_time": "2022-10-14T15:18:23.826Z"
   },
   {
    "duration": 24,
    "start_time": "2022-10-14T15:18:23.863Z"
   },
   {
    "duration": 42,
    "start_time": "2022-10-14T15:18:23.889Z"
   },
   {
    "duration": 24,
    "start_time": "2022-10-14T15:18:23.933Z"
   },
   {
    "duration": 19,
    "start_time": "2022-10-14T15:18:23.960Z"
   },
   {
    "duration": 13,
    "start_time": "2022-10-14T15:18:23.981Z"
   },
   {
    "duration": 15,
    "start_time": "2022-10-14T15:18:23.997Z"
   },
   {
    "duration": 7,
    "start_time": "2022-10-14T15:18:24.018Z"
   },
   {
    "duration": 80,
    "start_time": "2022-10-14T15:18:24.027Z"
   },
   {
    "duration": 45,
    "start_time": "2022-10-14T15:18:24.109Z"
   },
   {
    "duration": 5,
    "start_time": "2022-10-14T15:18:24.157Z"
   },
   {
    "duration": 15,
    "start_time": "2022-10-14T15:18:24.164Z"
   },
   {
    "duration": 25,
    "start_time": "2022-10-14T15:18:24.181Z"
   },
   {
    "duration": 56,
    "start_time": "2022-10-14T15:18:24.207Z"
   },
   {
    "duration": 4,
    "start_time": "2022-10-14T15:18:24.265Z"
   },
   {
    "duration": 16,
    "start_time": "2022-10-14T15:18:24.271Z"
   },
   {
    "duration": 11,
    "start_time": "2022-10-14T15:18:24.289Z"
   },
   {
    "duration": 5,
    "start_time": "2022-10-14T15:18:24.302Z"
   },
   {
    "duration": 48,
    "start_time": "2022-10-14T15:18:24.309Z"
   },
   {
    "duration": 76,
    "start_time": "2022-10-14T15:18:24.359Z"
   },
   {
    "duration": 0,
    "start_time": "2022-10-14T15:18:24.455Z"
   },
   {
    "duration": 0,
    "start_time": "2022-10-14T15:18:24.456Z"
   },
   {
    "duration": 0,
    "start_time": "2022-10-14T15:18:24.459Z"
   },
   {
    "duration": 20,
    "start_time": "2022-10-14T15:18:29.027Z"
   },
   {
    "duration": 601,
    "start_time": "2022-10-14T15:18:33.945Z"
   },
   {
    "duration": 32,
    "start_time": "2022-10-14T15:18:34.549Z"
   },
   {
    "duration": 23,
    "start_time": "2022-10-14T15:18:34.583Z"
   },
   {
    "duration": 47,
    "start_time": "2022-10-14T15:18:34.608Z"
   },
   {
    "duration": 49,
    "start_time": "2022-10-14T15:18:34.657Z"
   },
   {
    "duration": 11,
    "start_time": "2022-10-14T15:18:34.709Z"
   },
   {
    "duration": 33,
    "start_time": "2022-10-14T15:18:34.722Z"
   },
   {
    "duration": 6,
    "start_time": "2022-10-14T15:18:34.758Z"
   },
   {
    "duration": 16,
    "start_time": "2022-10-14T15:18:34.767Z"
   },
   {
    "duration": 5,
    "start_time": "2022-10-14T15:18:34.786Z"
   },
   {
    "duration": 84,
    "start_time": "2022-10-14T15:18:34.793Z"
   },
   {
    "duration": 14,
    "start_time": "2022-10-14T15:18:34.879Z"
   },
   {
    "duration": 7,
    "start_time": "2022-10-14T15:18:34.895Z"
   },
   {
    "duration": 18,
    "start_time": "2022-10-14T15:18:34.903Z"
   },
   {
    "duration": 47,
    "start_time": "2022-10-14T15:18:34.923Z"
   },
   {
    "duration": 28,
    "start_time": "2022-10-14T15:18:34.972Z"
   },
   {
    "duration": 5,
    "start_time": "2022-10-14T15:18:35.002Z"
   },
   {
    "duration": 46,
    "start_time": "2022-10-14T15:18:35.009Z"
   },
   {
    "duration": 12,
    "start_time": "2022-10-14T15:18:35.057Z"
   },
   {
    "duration": 7,
    "start_time": "2022-10-14T15:18:35.071Z"
   },
   {
    "duration": 13,
    "start_time": "2022-10-14T15:18:35.080Z"
   },
   {
    "duration": 119,
    "start_time": "2022-10-14T15:18:35.094Z"
   },
   {
    "duration": 0,
    "start_time": "2022-10-14T15:18:35.214Z"
   },
   {
    "duration": 0,
    "start_time": "2022-10-14T15:18:35.216Z"
   },
   {
    "duration": 0,
    "start_time": "2022-10-14T15:18:35.217Z"
   },
   {
    "duration": 56,
    "start_time": "2022-10-14T15:19:37.361Z"
   },
   {
    "duration": 507,
    "start_time": "2022-10-14T15:19:44.790Z"
   },
   {
    "duration": 30,
    "start_time": "2022-10-14T15:19:45.300Z"
   },
   {
    "duration": 30,
    "start_time": "2022-10-14T15:19:45.332Z"
   },
   {
    "duration": 27,
    "start_time": "2022-10-14T15:19:45.365Z"
   },
   {
    "duration": 64,
    "start_time": "2022-10-14T15:19:45.395Z"
   },
   {
    "duration": 6,
    "start_time": "2022-10-14T15:19:45.465Z"
   },
   {
    "duration": 18,
    "start_time": "2022-10-14T15:19:45.473Z"
   },
   {
    "duration": 7,
    "start_time": "2022-10-14T15:19:45.494Z"
   },
   {
    "duration": 25,
    "start_time": "2022-10-14T15:19:45.503Z"
   },
   {
    "duration": 25,
    "start_time": "2022-10-14T15:19:45.532Z"
   },
   {
    "duration": 53,
    "start_time": "2022-10-14T15:19:45.560Z"
   },
   {
    "duration": 13,
    "start_time": "2022-10-14T15:19:45.616Z"
   },
   {
    "duration": 6,
    "start_time": "2022-10-14T15:19:45.655Z"
   },
   {
    "duration": 17,
    "start_time": "2022-10-14T15:19:45.663Z"
   },
   {
    "duration": 29,
    "start_time": "2022-10-14T15:19:45.682Z"
   },
   {
    "duration": 68,
    "start_time": "2022-10-14T15:19:45.714Z"
   },
   {
    "duration": 4,
    "start_time": "2022-10-14T15:19:45.785Z"
   },
   {
    "duration": 33,
    "start_time": "2022-10-14T15:19:45.791Z"
   },
   {
    "duration": 16,
    "start_time": "2022-10-14T15:19:45.826Z"
   },
   {
    "duration": 10,
    "start_time": "2022-10-14T15:19:45.846Z"
   },
   {
    "duration": 22,
    "start_time": "2022-10-14T15:19:45.858Z"
   },
   {
    "duration": 45,
    "start_time": "2022-10-14T15:19:45.882Z"
   },
   {
    "duration": 25,
    "start_time": "2022-10-14T15:19:45.929Z"
   },
   {
    "duration": 4,
    "start_time": "2022-10-14T15:19:45.957Z"
   },
   {
    "duration": 7,
    "start_time": "2022-10-14T15:19:45.964Z"
   },
   {
    "duration": 25,
    "start_time": "2022-10-14T15:20:18.038Z"
   },
   {
    "duration": 496,
    "start_time": "2022-10-14T15:20:24.976Z"
   },
   {
    "duration": 30,
    "start_time": "2022-10-14T15:20:25.474Z"
   },
   {
    "duration": 19,
    "start_time": "2022-10-14T15:20:25.506Z"
   },
   {
    "duration": 19,
    "start_time": "2022-10-14T15:20:25.553Z"
   },
   {
    "duration": 49,
    "start_time": "2022-10-14T15:20:25.574Z"
   },
   {
    "duration": 4,
    "start_time": "2022-10-14T15:20:25.625Z"
   },
   {
    "duration": 28,
    "start_time": "2022-10-14T15:20:25.631Z"
   },
   {
    "duration": 12,
    "start_time": "2022-10-14T15:20:25.661Z"
   },
   {
    "duration": 13,
    "start_time": "2022-10-14T15:20:25.675Z"
   },
   {
    "duration": 9,
    "start_time": "2022-10-14T15:20:25.693Z"
   },
   {
    "duration": 88,
    "start_time": "2022-10-14T15:20:25.704Z"
   },
   {
    "duration": 15,
    "start_time": "2022-10-14T15:20:25.795Z"
   },
   {
    "duration": 22,
    "start_time": "2022-10-14T15:20:25.813Z"
   },
   {
    "duration": 22,
    "start_time": "2022-10-14T15:20:25.837Z"
   },
   {
    "duration": 22,
    "start_time": "2022-10-14T15:20:25.861Z"
   },
   {
    "duration": 27,
    "start_time": "2022-10-14T15:20:25.886Z"
   },
   {
    "duration": 6,
    "start_time": "2022-10-14T15:20:25.916Z"
   },
   {
    "duration": 39,
    "start_time": "2022-10-14T15:20:25.923Z"
   },
   {
    "duration": 16,
    "start_time": "2022-10-14T15:20:25.965Z"
   },
   {
    "duration": 6,
    "start_time": "2022-10-14T15:20:25.983Z"
   },
   {
    "duration": 13,
    "start_time": "2022-10-14T15:20:25.991Z"
   },
   {
    "duration": 55,
    "start_time": "2022-10-14T15:20:26.006Z"
   },
   {
    "duration": 9,
    "start_time": "2022-10-14T15:20:26.063Z"
   },
   {
    "duration": 5,
    "start_time": "2022-10-14T15:20:26.074Z"
   },
   {
    "duration": 6,
    "start_time": "2022-10-14T15:20:26.081Z"
   },
   {
    "duration": 16,
    "start_time": "2022-10-14T15:26:52.041Z"
   },
   {
    "duration": 502,
    "start_time": "2022-10-14T15:26:57.087Z"
   },
   {
    "duration": 25,
    "start_time": "2022-10-14T15:26:57.591Z"
   },
   {
    "duration": 17,
    "start_time": "2022-10-14T15:26:57.617Z"
   },
   {
    "duration": 11,
    "start_time": "2022-10-14T15:26:57.654Z"
   },
   {
    "duration": 63,
    "start_time": "2022-10-14T15:26:57.667Z"
   },
   {
    "duration": 5,
    "start_time": "2022-10-14T15:26:57.733Z"
   },
   {
    "duration": 35,
    "start_time": "2022-10-14T15:26:57.740Z"
   },
   {
    "duration": 9,
    "start_time": "2022-10-14T15:26:57.777Z"
   },
   {
    "duration": 23,
    "start_time": "2022-10-14T15:26:57.789Z"
   },
   {
    "duration": 18,
    "start_time": "2022-10-14T15:26:57.814Z"
   },
   {
    "duration": 51,
    "start_time": "2022-10-14T15:26:57.834Z"
   },
   {
    "duration": 13,
    "start_time": "2022-10-14T15:26:57.888Z"
   },
   {
    "duration": 15,
    "start_time": "2022-10-14T15:26:57.903Z"
   },
   {
    "duration": 30,
    "start_time": "2022-10-14T15:26:57.922Z"
   },
   {
    "duration": 28,
    "start_time": "2022-10-14T15:26:57.954Z"
   },
   {
    "duration": 37,
    "start_time": "2022-10-14T15:26:57.985Z"
   },
   {
    "duration": 5,
    "start_time": "2022-10-14T15:26:58.024Z"
   },
   {
    "duration": 35,
    "start_time": "2022-10-14T15:26:58.030Z"
   },
   {
    "duration": 25,
    "start_time": "2022-10-14T15:26:58.067Z"
   },
   {
    "duration": 22,
    "start_time": "2022-10-14T15:26:58.094Z"
   },
   {
    "duration": 16,
    "start_time": "2022-10-14T15:26:58.118Z"
   },
   {
    "duration": 31,
    "start_time": "2022-10-14T15:26:58.137Z"
   },
   {
    "duration": 14,
    "start_time": "2022-10-14T15:26:58.170Z"
   },
   {
    "duration": 16,
    "start_time": "2022-10-14T15:26:58.186Z"
   },
   {
    "duration": 35,
    "start_time": "2022-10-14T15:26:58.204Z"
   },
   {
    "duration": 97,
    "start_time": "2022-10-14T15:30:41.685Z"
   },
   {
    "duration": 24,
    "start_time": "2022-10-14T15:30:54.881Z"
   },
   {
    "duration": 476,
    "start_time": "2022-10-14T15:30:59.918Z"
   },
   {
    "duration": 26,
    "start_time": "2022-10-14T15:31:00.396Z"
   },
   {
    "duration": 37,
    "start_time": "2022-10-14T15:31:00.424Z"
   },
   {
    "duration": 20,
    "start_time": "2022-10-14T15:31:00.464Z"
   },
   {
    "duration": 70,
    "start_time": "2022-10-14T15:31:00.486Z"
   },
   {
    "duration": 4,
    "start_time": "2022-10-14T15:31:00.558Z"
   },
   {
    "duration": 20,
    "start_time": "2022-10-14T15:31:00.564Z"
   },
   {
    "duration": 38,
    "start_time": "2022-10-14T15:31:00.585Z"
   },
   {
    "duration": 57,
    "start_time": "2022-10-14T15:31:00.624Z"
   },
   {
    "duration": 37,
    "start_time": "2022-10-14T15:31:00.684Z"
   },
   {
    "duration": 63,
    "start_time": "2022-10-14T15:31:00.724Z"
   },
   {
    "duration": 11,
    "start_time": "2022-10-14T15:31:00.789Z"
   },
   {
    "duration": 39,
    "start_time": "2022-10-14T15:31:00.801Z"
   },
   {
    "duration": 32,
    "start_time": "2022-10-14T15:31:00.842Z"
   },
   {
    "duration": 90,
    "start_time": "2022-10-14T15:31:00.877Z"
   },
   {
    "duration": 25,
    "start_time": "2022-10-14T15:31:00.969Z"
   },
   {
    "duration": 4,
    "start_time": "2022-10-14T15:31:00.996Z"
   },
   {
    "duration": 41,
    "start_time": "2022-10-14T15:31:01.002Z"
   },
   {
    "duration": 35,
    "start_time": "2022-10-14T15:31:01.045Z"
   },
   {
    "duration": 26,
    "start_time": "2022-10-14T15:31:01.082Z"
   },
   {
    "duration": 27,
    "start_time": "2022-10-14T15:31:01.110Z"
   },
   {
    "duration": 121,
    "start_time": "2022-10-14T15:31:01.139Z"
   },
   {
    "duration": 0,
    "start_time": "2022-10-14T15:31:01.262Z"
   },
   {
    "duration": 0,
    "start_time": "2022-10-14T15:31:01.264Z"
   },
   {
    "duration": 0,
    "start_time": "2022-10-14T15:31:01.266Z"
   },
   {
    "duration": 16,
    "start_time": "2022-10-14T15:31:13.645Z"
   },
   {
    "duration": 20,
    "start_time": "2022-10-14T15:31:42.831Z"
   },
   {
    "duration": 22,
    "start_time": "2022-10-14T15:31:45.802Z"
   },
   {
    "duration": 521,
    "start_time": "2022-10-14T15:31:50.079Z"
   },
   {
    "duration": 28,
    "start_time": "2022-10-14T15:31:50.602Z"
   },
   {
    "duration": 41,
    "start_time": "2022-10-14T15:31:50.633Z"
   },
   {
    "duration": 17,
    "start_time": "2022-10-14T15:31:50.677Z"
   },
   {
    "duration": 64,
    "start_time": "2022-10-14T15:31:50.696Z"
   },
   {
    "duration": 3,
    "start_time": "2022-10-14T15:31:50.763Z"
   },
   {
    "duration": 25,
    "start_time": "2022-10-14T15:31:50.769Z"
   },
   {
    "duration": 5,
    "start_time": "2022-10-14T15:31:50.796Z"
   },
   {
    "duration": 12,
    "start_time": "2022-10-14T15:31:50.803Z"
   },
   {
    "duration": 7,
    "start_time": "2022-10-14T15:31:50.818Z"
   },
   {
    "duration": 39,
    "start_time": "2022-10-14T15:31:50.853Z"
   },
   {
    "duration": 10,
    "start_time": "2022-10-14T15:31:50.894Z"
   },
   {
    "duration": 8,
    "start_time": "2022-10-14T15:31:50.906Z"
   },
   {
    "duration": 45,
    "start_time": "2022-10-14T15:31:50.916Z"
   },
   {
    "duration": 26,
    "start_time": "2022-10-14T15:31:50.963Z"
   },
   {
    "duration": 20,
    "start_time": "2022-10-14T15:31:50.991Z"
   },
   {
    "duration": 4,
    "start_time": "2022-10-14T15:31:51.013Z"
   },
   {
    "duration": 38,
    "start_time": "2022-10-14T15:31:51.019Z"
   },
   {
    "duration": 11,
    "start_time": "2022-10-14T15:31:51.059Z"
   },
   {
    "duration": 6,
    "start_time": "2022-10-14T15:31:51.073Z"
   },
   {
    "duration": 26,
    "start_time": "2022-10-14T15:31:51.081Z"
   },
   {
    "duration": 97,
    "start_time": "2022-10-14T15:31:51.108Z"
   },
   {
    "duration": 0,
    "start_time": "2022-10-14T15:31:51.208Z"
   },
   {
    "duration": 0,
    "start_time": "2022-10-14T15:31:51.209Z"
   },
   {
    "duration": 0,
    "start_time": "2022-10-14T15:31:51.210Z"
   },
   {
    "duration": 20,
    "start_time": "2022-10-14T15:32:05.903Z"
   },
   {
    "duration": 20,
    "start_time": "2022-10-14T15:32:08.570Z"
   },
   {
    "duration": 496,
    "start_time": "2022-10-14T15:32:35.575Z"
   },
   {
    "duration": 26,
    "start_time": "2022-10-14T15:32:36.074Z"
   },
   {
    "duration": 17,
    "start_time": "2022-10-14T15:32:36.102Z"
   },
   {
    "duration": 43,
    "start_time": "2022-10-14T15:32:36.122Z"
   },
   {
    "duration": 47,
    "start_time": "2022-10-14T15:32:36.167Z"
   },
   {
    "duration": 4,
    "start_time": "2022-10-14T15:32:36.216Z"
   },
   {
    "duration": 17,
    "start_time": "2022-10-14T15:32:36.221Z"
   },
   {
    "duration": 16,
    "start_time": "2022-10-14T15:32:36.239Z"
   },
   {
    "duration": 20,
    "start_time": "2022-10-14T15:32:36.257Z"
   },
   {
    "duration": 5,
    "start_time": "2022-10-14T15:32:36.281Z"
   },
   {
    "duration": 45,
    "start_time": "2022-10-14T15:32:36.288Z"
   },
   {
    "duration": 24,
    "start_time": "2022-10-14T15:32:36.335Z"
   },
   {
    "duration": 5,
    "start_time": "2022-10-14T15:32:36.360Z"
   },
   {
    "duration": 23,
    "start_time": "2022-10-14T15:32:36.367Z"
   },
   {
    "duration": 24,
    "start_time": "2022-10-14T15:32:36.392Z"
   },
   {
    "duration": 44,
    "start_time": "2022-10-14T15:32:36.418Z"
   },
   {
    "duration": 4,
    "start_time": "2022-10-14T15:32:36.464Z"
   },
   {
    "duration": 19,
    "start_time": "2022-10-14T15:32:36.470Z"
   },
   {
    "duration": 10,
    "start_time": "2022-10-14T15:32:36.491Z"
   },
   {
    "duration": 4,
    "start_time": "2022-10-14T15:32:36.503Z"
   },
   {
    "duration": 12,
    "start_time": "2022-10-14T15:32:36.509Z"
   },
   {
    "duration": 107,
    "start_time": "2022-10-14T15:32:36.523Z"
   },
   {
    "duration": 0,
    "start_time": "2022-10-14T15:32:36.632Z"
   },
   {
    "duration": 0,
    "start_time": "2022-10-14T15:32:36.633Z"
   },
   {
    "duration": 1,
    "start_time": "2022-10-14T15:32:36.634Z"
   },
   {
    "duration": 84,
    "start_time": "2022-10-14T15:41:14.956Z"
   },
   {
    "duration": 503,
    "start_time": "2022-10-14T15:41:22.258Z"
   },
   {
    "duration": 27,
    "start_time": "2022-10-14T15:41:22.764Z"
   },
   {
    "duration": 20,
    "start_time": "2022-10-14T15:41:22.793Z"
   },
   {
    "duration": 42,
    "start_time": "2022-10-14T15:41:22.815Z"
   },
   {
    "duration": 37,
    "start_time": "2022-10-14T15:41:22.859Z"
   },
   {
    "duration": 4,
    "start_time": "2022-10-14T15:41:22.898Z"
   },
   {
    "duration": 14,
    "start_time": "2022-10-14T15:41:22.904Z"
   },
   {
    "duration": 35,
    "start_time": "2022-10-14T15:41:22.921Z"
   },
   {
    "duration": 10,
    "start_time": "2022-10-14T15:41:22.957Z"
   },
   {
    "duration": 5,
    "start_time": "2022-10-14T15:41:22.970Z"
   },
   {
    "duration": 43,
    "start_time": "2022-10-14T15:41:22.977Z"
   },
   {
    "duration": 38,
    "start_time": "2022-10-14T15:41:23.022Z"
   },
   {
    "duration": 15,
    "start_time": "2022-10-14T15:41:23.062Z"
   },
   {
    "duration": 14,
    "start_time": "2022-10-14T15:41:23.079Z"
   },
   {
    "duration": 46,
    "start_time": "2022-10-14T15:41:23.096Z"
   },
   {
    "duration": 28,
    "start_time": "2022-10-14T15:41:23.145Z"
   },
   {
    "duration": 12,
    "start_time": "2022-10-14T15:41:23.175Z"
   },
   {
    "duration": 36,
    "start_time": "2022-10-14T15:41:23.189Z"
   },
   {
    "duration": 13,
    "start_time": "2022-10-14T15:41:23.227Z"
   },
   {
    "duration": 4,
    "start_time": "2022-10-14T15:41:23.242Z"
   },
   {
    "duration": 11,
    "start_time": "2022-10-14T15:41:23.248Z"
   },
   {
    "duration": 45,
    "start_time": "2022-10-14T15:41:23.261Z"
   },
   {
    "duration": 0,
    "start_time": "2022-10-14T15:41:23.308Z"
   },
   {
    "duration": 0,
    "start_time": "2022-10-14T15:41:23.310Z"
   },
   {
    "duration": 0,
    "start_time": "2022-10-14T15:41:23.312Z"
   },
   {
    "duration": 58,
    "start_time": "2022-10-14T15:41:41.202Z"
   },
   {
    "duration": 526,
    "start_time": "2022-10-14T15:41:49.156Z"
   },
   {
    "duration": 25,
    "start_time": "2022-10-14T15:41:49.685Z"
   },
   {
    "duration": 17,
    "start_time": "2022-10-14T15:41:49.711Z"
   },
   {
    "duration": 33,
    "start_time": "2022-10-14T15:41:49.730Z"
   },
   {
    "duration": 37,
    "start_time": "2022-10-14T15:41:49.765Z"
   },
   {
    "duration": 5,
    "start_time": "2022-10-14T15:41:49.804Z"
   },
   {
    "duration": 19,
    "start_time": "2022-10-14T15:41:49.810Z"
   },
   {
    "duration": 27,
    "start_time": "2022-10-14T15:41:49.831Z"
   },
   {
    "duration": 17,
    "start_time": "2022-10-14T15:41:49.860Z"
   },
   {
    "duration": 6,
    "start_time": "2022-10-14T15:41:49.880Z"
   },
   {
    "duration": 69,
    "start_time": "2022-10-14T15:41:49.887Z"
   },
   {
    "duration": 11,
    "start_time": "2022-10-14T15:41:49.958Z"
   },
   {
    "duration": 7,
    "start_time": "2022-10-14T15:41:49.970Z"
   },
   {
    "duration": 18,
    "start_time": "2022-10-14T15:41:49.979Z"
   },
   {
    "duration": 30,
    "start_time": "2022-10-14T15:41:49.999Z"
   },
   {
    "duration": 44,
    "start_time": "2022-10-14T15:41:50.031Z"
   },
   {
    "duration": 5,
    "start_time": "2022-10-14T15:41:50.078Z"
   },
   {
    "duration": 33,
    "start_time": "2022-10-14T15:41:50.085Z"
   },
   {
    "duration": 10,
    "start_time": "2022-10-14T15:41:50.120Z"
   },
   {
    "duration": 4,
    "start_time": "2022-10-14T15:41:50.154Z"
   },
   {
    "duration": 30,
    "start_time": "2022-10-14T15:41:50.161Z"
   },
   {
    "duration": 53,
    "start_time": "2022-10-14T15:41:50.193Z"
   },
   {
    "duration": 0,
    "start_time": "2022-10-14T15:41:50.249Z"
   },
   {
    "duration": 0,
    "start_time": "2022-10-14T15:41:50.250Z"
   },
   {
    "duration": 0,
    "start_time": "2022-10-14T15:41:50.252Z"
   },
   {
    "duration": 484,
    "start_time": "2022-10-14T15:42:11.097Z"
   },
   {
    "duration": 33,
    "start_time": "2022-10-14T15:42:11.584Z"
   },
   {
    "duration": 43,
    "start_time": "2022-10-14T15:42:11.619Z"
   },
   {
    "duration": 28,
    "start_time": "2022-10-14T15:42:11.665Z"
   },
   {
    "duration": 64,
    "start_time": "2022-10-14T15:42:11.696Z"
   },
   {
    "duration": 5,
    "start_time": "2022-10-14T15:42:11.763Z"
   },
   {
    "duration": 18,
    "start_time": "2022-10-14T15:42:11.770Z"
   },
   {
    "duration": 16,
    "start_time": "2022-10-14T15:42:11.790Z"
   },
   {
    "duration": 24,
    "start_time": "2022-10-14T15:42:11.809Z"
   },
   {
    "duration": 7,
    "start_time": "2022-10-14T15:42:11.853Z"
   },
   {
    "duration": 43,
    "start_time": "2022-10-14T15:42:11.863Z"
   },
   {
    "duration": 12,
    "start_time": "2022-10-14T15:42:11.908Z"
   },
   {
    "duration": 6,
    "start_time": "2022-10-14T15:42:11.954Z"
   },
   {
    "duration": 21,
    "start_time": "2022-10-14T15:42:11.962Z"
   },
   {
    "duration": 23,
    "start_time": "2022-10-14T15:42:11.986Z"
   },
   {
    "duration": 57,
    "start_time": "2022-10-14T15:42:12.011Z"
   },
   {
    "duration": 4,
    "start_time": "2022-10-14T15:42:12.070Z"
   },
   {
    "duration": 16,
    "start_time": "2022-10-14T15:42:12.076Z"
   },
   {
    "duration": 11,
    "start_time": "2022-10-14T15:42:12.094Z"
   },
   {
    "duration": 14,
    "start_time": "2022-10-14T15:42:12.107Z"
   },
   {
    "duration": 32,
    "start_time": "2022-10-14T15:42:12.122Z"
   },
   {
    "duration": 54,
    "start_time": "2022-10-14T15:42:12.156Z"
   },
   {
    "duration": 0,
    "start_time": "2022-10-14T15:42:12.212Z"
   },
   {
    "duration": 0,
    "start_time": "2022-10-14T15:42:12.213Z"
   },
   {
    "duration": 0,
    "start_time": "2022-10-14T15:42:12.215Z"
   },
   {
    "duration": 56,
    "start_time": "2022-10-14T15:42:23.059Z"
   },
   {
    "duration": 505,
    "start_time": "2022-10-14T15:42:27.123Z"
   },
   {
    "duration": 26,
    "start_time": "2022-10-14T15:42:27.630Z"
   },
   {
    "duration": 20,
    "start_time": "2022-10-14T15:42:27.658Z"
   },
   {
    "duration": 10,
    "start_time": "2022-10-14T15:42:27.681Z"
   },
   {
    "duration": 71,
    "start_time": "2022-10-14T15:42:27.693Z"
   },
   {
    "duration": 4,
    "start_time": "2022-10-14T15:42:27.766Z"
   },
   {
    "duration": 17,
    "start_time": "2022-10-14T15:42:27.772Z"
   },
   {
    "duration": 11,
    "start_time": "2022-10-14T15:42:27.791Z"
   },
   {
    "duration": 11,
    "start_time": "2022-10-14T15:42:27.804Z"
   },
   {
    "duration": 6,
    "start_time": "2022-10-14T15:42:27.819Z"
   },
   {
    "duration": 41,
    "start_time": "2022-10-14T15:42:27.855Z"
   },
   {
    "duration": 12,
    "start_time": "2022-10-14T15:42:27.897Z"
   },
   {
    "duration": 7,
    "start_time": "2022-10-14T15:42:27.910Z"
   },
   {
    "duration": 44,
    "start_time": "2022-10-14T15:42:27.919Z"
   },
   {
    "duration": 25,
    "start_time": "2022-10-14T15:42:27.965Z"
   },
   {
    "duration": 29,
    "start_time": "2022-10-14T15:42:27.992Z"
   },
   {
    "duration": 32,
    "start_time": "2022-10-14T15:42:28.023Z"
   },
   {
    "duration": 17,
    "start_time": "2022-10-14T15:42:28.057Z"
   },
   {
    "duration": 10,
    "start_time": "2022-10-14T15:42:28.076Z"
   },
   {
    "duration": 14,
    "start_time": "2022-10-14T15:42:28.089Z"
   },
   {
    "duration": 30,
    "start_time": "2022-10-14T15:42:28.106Z"
   },
   {
    "duration": 43,
    "start_time": "2022-10-14T15:42:28.138Z"
   },
   {
    "duration": 0,
    "start_time": "2022-10-14T15:42:28.183Z"
   },
   {
    "duration": 0,
    "start_time": "2022-10-14T15:42:28.185Z"
   },
   {
    "duration": 0,
    "start_time": "2022-10-14T15:42:28.186Z"
   },
   {
    "duration": 48,
    "start_time": "2022-10-14T15:42:50.023Z"
   },
   {
    "duration": 542,
    "start_time": "2022-10-14T15:42:55.244Z"
   },
   {
    "duration": 30,
    "start_time": "2022-10-14T15:42:55.788Z"
   },
   {
    "duration": 42,
    "start_time": "2022-10-14T15:42:55.821Z"
   },
   {
    "duration": 12,
    "start_time": "2022-10-14T15:42:55.865Z"
   },
   {
    "duration": 54,
    "start_time": "2022-10-14T15:42:55.879Z"
   },
   {
    "duration": 5,
    "start_time": "2022-10-14T15:42:55.935Z"
   },
   {
    "duration": 42,
    "start_time": "2022-10-14T15:42:55.942Z"
   },
   {
    "duration": 7,
    "start_time": "2022-10-14T15:42:55.986Z"
   },
   {
    "duration": 13,
    "start_time": "2022-10-14T15:42:55.995Z"
   },
   {
    "duration": 6,
    "start_time": "2022-10-14T15:42:56.013Z"
   },
   {
    "duration": 56,
    "start_time": "2022-10-14T15:42:56.021Z"
   },
   {
    "duration": 14,
    "start_time": "2022-10-14T15:42:56.079Z"
   },
   {
    "duration": 10,
    "start_time": "2022-10-14T15:42:56.095Z"
   },
   {
    "duration": 22,
    "start_time": "2022-10-14T15:42:56.107Z"
   },
   {
    "duration": 46,
    "start_time": "2022-10-14T15:42:56.132Z"
   },
   {
    "duration": 29,
    "start_time": "2022-10-14T15:42:56.180Z"
   },
   {
    "duration": 5,
    "start_time": "2022-10-14T15:42:56.211Z"
   },
   {
    "duration": 72,
    "start_time": "2022-10-14T15:42:56.218Z"
   },
   {
    "duration": 14,
    "start_time": "2022-10-14T15:42:56.292Z"
   },
   {
    "duration": 20,
    "start_time": "2022-10-14T15:42:56.309Z"
   },
   {
    "duration": 17,
    "start_time": "2022-10-14T15:42:56.331Z"
   },
   {
    "duration": 63,
    "start_time": "2022-10-14T15:42:56.350Z"
   },
   {
    "duration": 0,
    "start_time": "2022-10-14T15:42:56.416Z"
   },
   {
    "duration": 0,
    "start_time": "2022-10-14T15:42:56.418Z"
   },
   {
    "duration": 0,
    "start_time": "2022-10-14T15:42:56.419Z"
   },
   {
    "duration": 57,
    "start_time": "2022-10-14T15:43:24.483Z"
   },
   {
    "duration": 465,
    "start_time": "2022-10-14T15:43:29.481Z"
   },
   {
    "duration": 26,
    "start_time": "2022-10-14T15:43:29.948Z"
   },
   {
    "duration": 15,
    "start_time": "2022-10-14T15:43:29.976Z"
   },
   {
    "duration": 14,
    "start_time": "2022-10-14T15:43:29.993Z"
   },
   {
    "duration": 74,
    "start_time": "2022-10-14T15:43:30.010Z"
   },
   {
    "duration": 4,
    "start_time": "2022-10-14T15:43:30.086Z"
   },
   {
    "duration": 40,
    "start_time": "2022-10-14T15:43:30.091Z"
   },
   {
    "duration": 26,
    "start_time": "2022-10-14T15:43:30.133Z"
   },
   {
    "duration": 14,
    "start_time": "2022-10-14T15:43:30.161Z"
   },
   {
    "duration": 22,
    "start_time": "2022-10-14T15:43:30.177Z"
   },
   {
    "duration": 52,
    "start_time": "2022-10-14T15:43:30.201Z"
   },
   {
    "duration": 11,
    "start_time": "2022-10-14T15:43:30.255Z"
   },
   {
    "duration": 30,
    "start_time": "2022-10-14T15:43:30.267Z"
   },
   {
    "duration": 32,
    "start_time": "2022-10-14T15:43:30.299Z"
   },
   {
    "duration": 44,
    "start_time": "2022-10-14T15:43:30.333Z"
   },
   {
    "duration": 26,
    "start_time": "2022-10-14T15:43:30.379Z"
   },
   {
    "duration": 5,
    "start_time": "2022-10-14T15:43:30.407Z"
   },
   {
    "duration": 32,
    "start_time": "2022-10-14T15:43:30.414Z"
   },
   {
    "duration": 49,
    "start_time": "2022-10-14T15:43:30.448Z"
   },
   {
    "duration": 23,
    "start_time": "2022-10-14T15:43:30.499Z"
   },
   {
    "duration": 26,
    "start_time": "2022-10-14T15:43:30.524Z"
   },
   {
    "duration": 63,
    "start_time": "2022-10-14T15:43:30.552Z"
   },
   {
    "duration": 0,
    "start_time": "2022-10-14T15:43:30.617Z"
   },
   {
    "duration": 0,
    "start_time": "2022-10-14T15:43:30.619Z"
   },
   {
    "duration": 1,
    "start_time": "2022-10-14T15:43:30.620Z"
   },
   {
    "duration": 69,
    "start_time": "2022-10-14T15:44:32.865Z"
   },
   {
    "duration": 37,
    "start_time": "2022-10-14T15:44:41.920Z"
   },
   {
    "duration": 63,
    "start_time": "2022-10-14T15:44:59.937Z"
   },
   {
    "duration": 18,
    "start_time": "2022-10-14T15:45:06.482Z"
   },
   {
    "duration": 546,
    "start_time": "2022-10-14T15:45:10.260Z"
   },
   {
    "duration": 26,
    "start_time": "2022-10-14T15:45:10.808Z"
   },
   {
    "duration": 33,
    "start_time": "2022-10-14T15:45:10.836Z"
   },
   {
    "duration": 11,
    "start_time": "2022-10-14T15:45:10.871Z"
   },
   {
    "duration": 37,
    "start_time": "2022-10-14T15:45:10.884Z"
   },
   {
    "duration": 32,
    "start_time": "2022-10-14T15:45:10.923Z"
   },
   {
    "duration": 9,
    "start_time": "2022-10-14T15:45:10.957Z"
   },
   {
    "duration": 5,
    "start_time": "2022-10-14T15:45:10.968Z"
   },
   {
    "duration": 11,
    "start_time": "2022-10-14T15:45:10.975Z"
   },
   {
    "duration": 5,
    "start_time": "2022-10-14T15:45:10.989Z"
   },
   {
    "duration": 83,
    "start_time": "2022-10-14T15:45:10.996Z"
   },
   {
    "duration": 11,
    "start_time": "2022-10-14T15:45:11.081Z"
   },
   {
    "duration": 10,
    "start_time": "2022-10-14T15:45:11.094Z"
   },
   {
    "duration": 15,
    "start_time": "2022-10-14T15:45:11.106Z"
   },
   {
    "duration": 44,
    "start_time": "2022-10-14T15:45:11.123Z"
   },
   {
    "duration": 21,
    "start_time": "2022-10-14T15:45:11.169Z"
   },
   {
    "duration": 4,
    "start_time": "2022-10-14T15:45:11.192Z"
   },
   {
    "duration": 20,
    "start_time": "2022-10-14T15:45:11.198Z"
   },
   {
    "duration": 35,
    "start_time": "2022-10-14T15:45:11.220Z"
   },
   {
    "duration": 4,
    "start_time": "2022-10-14T15:45:11.257Z"
   },
   {
    "duration": 13,
    "start_time": "2022-10-14T15:45:11.263Z"
   },
   {
    "duration": 106,
    "start_time": "2022-10-14T15:45:11.278Z"
   },
   {
    "duration": 0,
    "start_time": "2022-10-14T15:45:11.386Z"
   },
   {
    "duration": 0,
    "start_time": "2022-10-14T15:45:11.388Z"
   },
   {
    "duration": 0,
    "start_time": "2022-10-14T15:45:11.390Z"
   },
   {
    "duration": 15,
    "start_time": "2022-10-14T15:45:50.160Z"
   },
   {
    "duration": 525,
    "start_time": "2022-10-14T15:45:55.184Z"
   },
   {
    "duration": 25,
    "start_time": "2022-10-14T15:45:55.712Z"
   },
   {
    "duration": 30,
    "start_time": "2022-10-14T15:45:55.739Z"
   },
   {
    "duration": 12,
    "start_time": "2022-10-14T15:45:55.773Z"
   },
   {
    "duration": 42,
    "start_time": "2022-10-14T15:45:55.787Z"
   },
   {
    "duration": 26,
    "start_time": "2022-10-14T15:45:55.831Z"
   },
   {
    "duration": 21,
    "start_time": "2022-10-14T15:45:55.858Z"
   },
   {
    "duration": 6,
    "start_time": "2022-10-14T15:45:55.881Z"
   },
   {
    "duration": 9,
    "start_time": "2022-10-14T15:45:55.889Z"
   },
   {
    "duration": 7,
    "start_time": "2022-10-14T15:45:55.900Z"
   },
   {
    "duration": 91,
    "start_time": "2022-10-14T15:45:55.909Z"
   },
   {
    "duration": 15,
    "start_time": "2022-10-14T15:45:56.003Z"
   },
   {
    "duration": 5,
    "start_time": "2022-10-14T15:45:56.021Z"
   },
   {
    "duration": 41,
    "start_time": "2022-10-14T15:45:56.028Z"
   },
   {
    "duration": 27,
    "start_time": "2022-10-14T15:45:56.071Z"
   },
   {
    "duration": 24,
    "start_time": "2022-10-14T15:45:56.100Z"
   },
   {
    "duration": 29,
    "start_time": "2022-10-14T15:45:56.126Z"
   },
   {
    "duration": 17,
    "start_time": "2022-10-14T15:45:56.157Z"
   },
   {
    "duration": 8,
    "start_time": "2022-10-14T15:45:56.176Z"
   },
   {
    "duration": 4,
    "start_time": "2022-10-14T15:45:56.186Z"
   },
   {
    "duration": 17,
    "start_time": "2022-10-14T15:45:56.192Z"
   },
   {
    "duration": 103,
    "start_time": "2022-10-14T15:45:56.258Z"
   },
   {
    "duration": 0,
    "start_time": "2022-10-14T15:45:56.363Z"
   },
   {
    "duration": 0,
    "start_time": "2022-10-14T15:45:56.364Z"
   },
   {
    "duration": 0,
    "start_time": "2022-10-14T15:45:56.366Z"
   },
   {
    "duration": 21,
    "start_time": "2022-10-14T15:46:03.327Z"
   },
   {
    "duration": 17,
    "start_time": "2022-10-14T15:46:09.225Z"
   },
   {
    "duration": 510,
    "start_time": "2022-10-14T15:46:13.826Z"
   },
   {
    "duration": 24,
    "start_time": "2022-10-14T15:46:14.338Z"
   },
   {
    "duration": 17,
    "start_time": "2022-10-14T15:46:14.364Z"
   },
   {
    "duration": 10,
    "start_time": "2022-10-14T15:46:14.383Z"
   },
   {
    "duration": 69,
    "start_time": "2022-10-14T15:46:14.395Z"
   },
   {
    "duration": 4,
    "start_time": "2022-10-14T15:46:14.465Z"
   },
   {
    "duration": 15,
    "start_time": "2022-10-14T15:46:14.471Z"
   },
   {
    "duration": 5,
    "start_time": "2022-10-14T15:46:14.489Z"
   },
   {
    "duration": 12,
    "start_time": "2022-10-14T15:46:14.495Z"
   },
   {
    "duration": 5,
    "start_time": "2022-10-14T15:46:14.510Z"
   },
   {
    "duration": 38,
    "start_time": "2022-10-14T15:46:14.554Z"
   },
   {
    "duration": 12,
    "start_time": "2022-10-14T15:46:14.593Z"
   },
   {
    "duration": 5,
    "start_time": "2022-10-14T15:46:14.607Z"
   },
   {
    "duration": 48,
    "start_time": "2022-10-14T15:46:14.614Z"
   },
   {
    "duration": 25,
    "start_time": "2022-10-14T15:46:14.664Z"
   },
   {
    "duration": 20,
    "start_time": "2022-10-14T15:46:14.691Z"
   },
   {
    "duration": 4,
    "start_time": "2022-10-14T15:46:14.713Z"
   },
   {
    "duration": 42,
    "start_time": "2022-10-14T15:46:14.718Z"
   },
   {
    "duration": 14,
    "start_time": "2022-10-14T15:46:14.762Z"
   },
   {
    "duration": 3,
    "start_time": "2022-10-14T15:46:14.778Z"
   },
   {
    "duration": 13,
    "start_time": "2022-10-14T15:46:14.783Z"
   },
   {
    "duration": 116,
    "start_time": "2022-10-14T15:46:14.798Z"
   },
   {
    "duration": 0,
    "start_time": "2022-10-14T15:46:14.916Z"
   },
   {
    "duration": 0,
    "start_time": "2022-10-14T15:46:14.917Z"
   },
   {
    "duration": 0,
    "start_time": "2022-10-14T15:46:14.918Z"
   },
   {
    "duration": 31,
    "start_time": "2022-10-14T15:46:33.293Z"
   },
   {
    "duration": 9,
    "start_time": "2022-10-14T15:46:40.063Z"
   },
   {
    "duration": 38,
    "start_time": "2022-10-14T15:46:48.238Z"
   },
   {
    "duration": 38,
    "start_time": "2022-10-14T15:46:54.686Z"
   },
   {
    "duration": 43,
    "start_time": "2022-10-14T15:48:12.092Z"
   },
   {
    "duration": 33,
    "start_time": "2022-10-14T15:48:49.871Z"
   },
   {
    "duration": 538,
    "start_time": "2022-10-14T15:48:56.316Z"
   },
   {
    "duration": 28,
    "start_time": "2022-10-14T15:48:56.857Z"
   },
   {
    "duration": 24,
    "start_time": "2022-10-14T15:48:56.887Z"
   },
   {
    "duration": 27,
    "start_time": "2022-10-14T15:48:56.913Z"
   },
   {
    "duration": 76,
    "start_time": "2022-10-14T15:48:56.943Z"
   },
   {
    "duration": 3,
    "start_time": "2022-10-14T15:48:57.021Z"
   },
   {
    "duration": 55,
    "start_time": "2022-10-14T15:48:57.026Z"
   },
   {
    "duration": 29,
    "start_time": "2022-10-14T15:48:57.083Z"
   },
   {
    "duration": 44,
    "start_time": "2022-10-14T15:48:57.114Z"
   },
   {
    "duration": 11,
    "start_time": "2022-10-14T15:48:57.161Z"
   },
   {
    "duration": 76,
    "start_time": "2022-10-14T15:48:57.174Z"
   },
   {
    "duration": 10,
    "start_time": "2022-10-14T15:48:57.252Z"
   },
   {
    "duration": 36,
    "start_time": "2022-10-14T15:48:57.264Z"
   },
   {
    "duration": 81,
    "start_time": "2022-10-14T15:48:57.303Z"
   },
   {
    "duration": 52,
    "start_time": "2022-10-14T15:48:57.386Z"
   },
   {
    "duration": 23,
    "start_time": "2022-10-14T15:48:57.441Z"
   },
   {
    "duration": 26,
    "start_time": "2022-10-14T15:48:57.466Z"
   },
   {
    "duration": 55,
    "start_time": "2022-10-14T15:48:57.494Z"
   },
   {
    "duration": 45,
    "start_time": "2022-10-14T15:48:57.550Z"
   },
   {
    "duration": 26,
    "start_time": "2022-10-14T15:48:57.597Z"
   },
   {
    "duration": 38,
    "start_time": "2022-10-14T15:48:57.625Z"
   },
   {
    "duration": 163,
    "start_time": "2022-10-14T15:48:57.666Z"
   },
   {
    "duration": 0,
    "start_time": "2022-10-14T15:48:57.831Z"
   },
   {
    "duration": 0,
    "start_time": "2022-10-14T15:48:57.832Z"
   },
   {
    "duration": 0,
    "start_time": "2022-10-14T15:48:57.833Z"
   },
   {
    "duration": 35,
    "start_time": "2022-10-14T15:49:18.395Z"
   },
   {
    "duration": 105,
    "start_time": "2022-10-14T15:49:27.167Z"
   },
   {
    "duration": 32,
    "start_time": "2022-10-14T15:49:36.231Z"
   },
   {
    "duration": 45,
    "start_time": "2022-10-14T15:49:57.900Z"
   },
   {
    "duration": 42,
    "start_time": "2022-10-14T15:50:03.372Z"
   },
   {
    "duration": 31,
    "start_time": "2022-10-14T15:50:53.273Z"
   },
   {
    "duration": 35,
    "start_time": "2022-10-14T15:56:54.651Z"
   },
   {
    "duration": 32,
    "start_time": "2022-10-14T15:57:18.160Z"
   },
   {
    "duration": 38,
    "start_time": "2022-10-14T15:57:22.148Z"
   },
   {
    "duration": 36,
    "start_time": "2022-10-14T16:03:12.478Z"
   },
   {
    "duration": 35,
    "start_time": "2022-10-14T16:03:18.291Z"
   },
   {
    "duration": 41,
    "start_time": "2022-10-14T16:04:05.405Z"
   },
   {
    "duration": 59,
    "start_time": "2022-10-14T16:04:36.782Z"
   },
   {
    "duration": 33,
    "start_time": "2022-10-14T16:04:43.193Z"
   },
   {
    "duration": 33,
    "start_time": "2022-10-14T16:04:48.749Z"
   },
   {
    "duration": 58,
    "start_time": "2022-10-14T16:04:53.385Z"
   },
   {
    "duration": 39,
    "start_time": "2022-10-14T16:04:59.513Z"
   },
   {
    "duration": 33,
    "start_time": "2022-10-14T16:05:14.177Z"
   },
   {
    "duration": 15,
    "start_time": "2022-10-14T16:05:39.795Z"
   },
   {
    "duration": 494,
    "start_time": "2022-10-14T16:05:44.035Z"
   },
   {
    "duration": 28,
    "start_time": "2022-10-14T16:05:44.531Z"
   },
   {
    "duration": 23,
    "start_time": "2022-10-14T16:05:44.561Z"
   },
   {
    "duration": 14,
    "start_time": "2022-10-14T16:05:44.588Z"
   },
   {
    "duration": 80,
    "start_time": "2022-10-14T16:05:44.605Z"
   },
   {
    "duration": 4,
    "start_time": "2022-10-14T16:05:44.687Z"
   },
   {
    "duration": 29,
    "start_time": "2022-10-14T16:05:44.693Z"
   },
   {
    "duration": 6,
    "start_time": "2022-10-14T16:05:44.724Z"
   },
   {
    "duration": 23,
    "start_time": "2022-10-14T16:05:44.731Z"
   },
   {
    "duration": 7,
    "start_time": "2022-10-14T16:05:44.757Z"
   },
   {
    "duration": 38,
    "start_time": "2022-10-14T16:05:44.766Z"
   },
   {
    "duration": 10,
    "start_time": "2022-10-14T16:05:44.807Z"
   },
   {
    "duration": 8,
    "start_time": "2022-10-14T16:05:44.818Z"
   },
   {
    "duration": 12,
    "start_time": "2022-10-14T16:05:44.855Z"
   },
   {
    "duration": 26,
    "start_time": "2022-10-14T16:05:44.868Z"
   },
   {
    "duration": 29,
    "start_time": "2022-10-14T16:05:44.897Z"
   },
   {
    "duration": 29,
    "start_time": "2022-10-14T16:05:44.928Z"
   },
   {
    "duration": 20,
    "start_time": "2022-10-14T16:05:44.959Z"
   },
   {
    "duration": 8,
    "start_time": "2022-10-14T16:05:44.982Z"
   },
   {
    "duration": 7,
    "start_time": "2022-10-14T16:05:44.993Z"
   },
   {
    "duration": 40,
    "start_time": "2022-10-14T16:05:45.002Z"
   },
   {
    "duration": 71,
    "start_time": "2022-10-14T16:05:45.044Z"
   },
   {
    "duration": 0,
    "start_time": "2022-10-14T16:05:45.116Z"
   },
   {
    "duration": 0,
    "start_time": "2022-10-14T16:05:45.118Z"
   },
   {
    "duration": 0,
    "start_time": "2022-10-14T16:05:45.119Z"
   },
   {
    "duration": 137,
    "start_time": "2022-10-14T16:06:00.537Z"
   },
   {
    "duration": 34,
    "start_time": "2022-10-14T16:06:04.301Z"
   },
   {
    "duration": 37,
    "start_time": "2022-10-14T16:06:15.095Z"
   },
   {
    "duration": 34,
    "start_time": "2022-10-14T16:06:18.631Z"
   },
   {
    "duration": 37,
    "start_time": "2022-10-14T16:06:22.374Z"
   },
   {
    "duration": 38,
    "start_time": "2022-10-14T16:06:34.120Z"
   },
   {
    "duration": 35,
    "start_time": "2022-10-14T16:06:42.129Z"
   },
   {
    "duration": 34,
    "start_time": "2022-10-14T16:12:31.707Z"
   },
   {
    "duration": 32,
    "start_time": "2022-10-14T16:12:37.293Z"
   },
   {
    "duration": 32,
    "start_time": "2022-10-14T16:12:47.971Z"
   },
   {
    "duration": 47,
    "start_time": "2022-10-14T16:13:01.936Z"
   },
   {
    "duration": 30,
    "start_time": "2022-10-14T16:13:52.969Z"
   },
   {
    "duration": 33,
    "start_time": "2022-10-14T16:16:05.905Z"
   },
   {
    "duration": 506,
    "start_time": "2022-10-14T16:16:13.757Z"
   },
   {
    "duration": 24,
    "start_time": "2022-10-14T16:16:14.266Z"
   },
   {
    "duration": 17,
    "start_time": "2022-10-14T16:16:14.292Z"
   },
   {
    "duration": 10,
    "start_time": "2022-10-14T16:16:14.311Z"
   },
   {
    "duration": 64,
    "start_time": "2022-10-14T16:16:14.322Z"
   },
   {
    "duration": 3,
    "start_time": "2022-10-14T16:16:14.388Z"
   },
   {
    "duration": 15,
    "start_time": "2022-10-14T16:16:14.393Z"
   },
   {
    "duration": 7,
    "start_time": "2022-10-14T16:16:14.410Z"
   },
   {
    "duration": 49,
    "start_time": "2022-10-14T16:16:14.418Z"
   },
   {
    "duration": 7,
    "start_time": "2022-10-14T16:16:14.470Z"
   },
   {
    "duration": 51,
    "start_time": "2022-10-14T16:16:14.479Z"
   },
   {
    "duration": 26,
    "start_time": "2022-10-14T16:16:14.532Z"
   },
   {
    "duration": 6,
    "start_time": "2022-10-14T16:16:14.560Z"
   },
   {
    "duration": 16,
    "start_time": "2022-10-14T16:16:14.567Z"
   },
   {
    "duration": 26,
    "start_time": "2022-10-14T16:16:14.585Z"
   },
   {
    "duration": 41,
    "start_time": "2022-10-14T16:16:14.614Z"
   },
   {
    "duration": 4,
    "start_time": "2022-10-14T16:16:14.657Z"
   },
   {
    "duration": 23,
    "start_time": "2022-10-14T16:16:14.663Z"
   },
   {
    "duration": 8,
    "start_time": "2022-10-14T16:16:14.688Z"
   },
   {
    "duration": 5,
    "start_time": "2022-10-14T16:16:14.697Z"
   },
   {
    "duration": 13,
    "start_time": "2022-10-14T16:16:14.703Z"
   },
   {
    "duration": 136,
    "start_time": "2022-10-14T16:16:14.718Z"
   },
   {
    "duration": 0,
    "start_time": "2022-10-14T16:16:14.856Z"
   },
   {
    "duration": 0,
    "start_time": "2022-10-14T16:16:14.858Z"
   },
   {
    "duration": 0,
    "start_time": "2022-10-14T16:16:14.860Z"
   },
   {
    "duration": 32,
    "start_time": "2022-10-14T16:18:41.108Z"
   },
   {
    "duration": 51,
    "start_time": "2022-10-14T16:18:51.594Z"
   },
   {
    "duration": 32,
    "start_time": "2022-10-14T16:19:22.320Z"
   },
   {
    "duration": 515,
    "start_time": "2022-10-14T16:22:30.942Z"
   },
   {
    "duration": 36,
    "start_time": "2022-10-14T16:22:31.460Z"
   },
   {
    "duration": 19,
    "start_time": "2022-10-14T16:22:31.498Z"
   },
   {
    "duration": 46,
    "start_time": "2022-10-14T16:22:31.520Z"
   },
   {
    "duration": 76,
    "start_time": "2022-10-14T16:22:31.569Z"
   },
   {
    "duration": 6,
    "start_time": "2022-10-14T16:22:31.648Z"
   },
   {
    "duration": 57,
    "start_time": "2022-10-14T16:22:31.656Z"
   },
   {
    "duration": 23,
    "start_time": "2022-10-14T16:22:31.715Z"
   },
   {
    "duration": 29,
    "start_time": "2022-10-14T16:22:31.741Z"
   },
   {
    "duration": 17,
    "start_time": "2022-10-14T16:22:31.773Z"
   },
   {
    "duration": 76,
    "start_time": "2022-10-14T16:22:31.793Z"
   },
   {
    "duration": 15,
    "start_time": "2022-10-14T16:22:31.871Z"
   },
   {
    "duration": 30,
    "start_time": "2022-10-14T16:22:31.889Z"
   },
   {
    "duration": 29,
    "start_time": "2022-10-14T16:22:31.922Z"
   },
   {
    "duration": 31,
    "start_time": "2022-10-14T16:22:31.952Z"
   },
   {
    "duration": 20,
    "start_time": "2022-10-14T16:22:31.985Z"
   },
   {
    "duration": 4,
    "start_time": "2022-10-14T16:22:32.007Z"
   },
   {
    "duration": 20,
    "start_time": "2022-10-14T16:22:32.012Z"
   },
   {
    "duration": 7,
    "start_time": "2022-10-14T16:22:32.054Z"
   },
   {
    "duration": 8,
    "start_time": "2022-10-14T16:22:32.063Z"
   },
   {
    "duration": 18,
    "start_time": "2022-10-14T16:22:32.072Z"
   },
   {
    "duration": 1427,
    "start_time": "2022-10-14T16:22:32.093Z"
   },
   {
    "duration": 3,
    "start_time": "2022-10-14T16:22:33.522Z"
   },
   {
    "duration": 10,
    "start_time": "2022-10-14T16:22:33.526Z"
   },
   {
    "duration": 16,
    "start_time": "2022-10-14T16:22:33.538Z"
   },
   {
    "duration": 438,
    "start_time": "2022-10-14T16:30:14.321Z"
   },
   {
    "duration": 1337,
    "start_time": "2022-10-14T16:30:29.043Z"
   },
   {
    "duration": 346,
    "start_time": "2022-10-14T16:30:52.048Z"
   },
   {
    "duration": 346,
    "start_time": "2022-10-14T16:31:05.261Z"
   },
   {
    "duration": 49,
    "start_time": "2022-10-14T16:32:29.354Z"
   },
   {
    "duration": 366,
    "start_time": "2022-10-14T16:32:39.576Z"
   },
   {
    "duration": 484,
    "start_time": "2022-10-14T16:32:44.342Z"
   },
   {
    "duration": 25,
    "start_time": "2022-10-14T16:32:44.828Z"
   },
   {
    "duration": 16,
    "start_time": "2022-10-14T16:32:44.854Z"
   },
   {
    "duration": 10,
    "start_time": "2022-10-14T16:32:44.872Z"
   },
   {
    "duration": 37,
    "start_time": "2022-10-14T16:32:44.884Z"
   },
   {
    "duration": 31,
    "start_time": "2022-10-14T16:32:44.923Z"
   },
   {
    "duration": 16,
    "start_time": "2022-10-14T16:32:44.956Z"
   },
   {
    "duration": 6,
    "start_time": "2022-10-14T16:32:44.973Z"
   },
   {
    "duration": 10,
    "start_time": "2022-10-14T16:32:44.981Z"
   },
   {
    "duration": 6,
    "start_time": "2022-10-14T16:32:44.996Z"
   },
   {
    "duration": 75,
    "start_time": "2022-10-14T16:32:45.004Z"
   },
   {
    "duration": 10,
    "start_time": "2022-10-14T16:32:45.081Z"
   },
   {
    "duration": 3,
    "start_time": "2022-10-14T16:32:45.093Z"
   },
   {
    "duration": 16,
    "start_time": "2022-10-14T16:32:45.098Z"
   },
   {
    "duration": 51,
    "start_time": "2022-10-14T16:32:45.116Z"
   },
   {
    "duration": 19,
    "start_time": "2022-10-14T16:32:45.169Z"
   },
   {
    "duration": 3,
    "start_time": "2022-10-14T16:32:45.190Z"
   },
   {
    "duration": 14,
    "start_time": "2022-10-14T16:32:45.195Z"
   },
   {
    "duration": 12,
    "start_time": "2022-10-14T16:32:45.210Z"
   },
   {
    "duration": 34,
    "start_time": "2022-10-14T16:32:45.223Z"
   },
   {
    "duration": 14,
    "start_time": "2022-10-14T16:32:45.259Z"
   },
   {
    "duration": 1307,
    "start_time": "2022-10-14T16:32:45.275Z"
   },
   {
    "duration": 0,
    "start_time": "2022-10-14T16:32:46.584Z"
   },
   {
    "duration": 0,
    "start_time": "2022-10-14T16:32:46.585Z"
   },
   {
    "duration": 0,
    "start_time": "2022-10-14T16:32:46.586Z"
   },
   {
    "duration": 359,
    "start_time": "2022-10-14T16:33:35.250Z"
   },
   {
    "duration": 45,
    "start_time": "2022-10-14T16:34:15.306Z"
   },
   {
    "duration": 30,
    "start_time": "2022-10-14T16:34:30.130Z"
   },
   {
    "duration": 38,
    "start_time": "2022-10-14T16:34:39.541Z"
   },
   {
    "duration": 38,
    "start_time": "2022-10-14T16:34:52.179Z"
   },
   {
    "duration": 797,
    "start_time": "2022-10-14T16:35:17.556Z"
   },
   {
    "duration": 363,
    "start_time": "2022-10-14T16:36:04.191Z"
   },
   {
    "duration": 50,
    "start_time": "2022-10-14T16:37:24.341Z"
   },
   {
    "duration": 51,
    "start_time": "2022-10-14T16:40:23.605Z"
   },
   {
    "duration": 36,
    "start_time": "2022-10-14T16:40:29.285Z"
   },
   {
    "duration": 773,
    "start_time": "2022-10-14T16:40:52.857Z"
   },
   {
    "duration": 1069,
    "start_time": "2022-10-14T16:41:00.350Z"
   },
   {
    "duration": 47,
    "start_time": "2022-10-14T16:41:14.419Z"
   },
   {
    "duration": 28,
    "start_time": "2022-10-14T16:41:26.008Z"
   },
   {
    "duration": 33,
    "start_time": "2022-10-14T16:41:35.201Z"
   },
   {
    "duration": 32,
    "start_time": "2022-10-14T16:48:26.179Z"
   },
   {
    "duration": 38,
    "start_time": "2022-10-14T16:48:42.700Z"
   },
   {
    "duration": 3,
    "start_time": "2022-10-14T16:48:52.716Z"
   },
   {
    "duration": 485,
    "start_time": "2022-10-14T16:48:57.158Z"
   },
   {
    "duration": 23,
    "start_time": "2022-10-14T16:48:57.646Z"
   },
   {
    "duration": 15,
    "start_time": "2022-10-14T16:48:57.671Z"
   },
   {
    "duration": 10,
    "start_time": "2022-10-14T16:48:57.688Z"
   },
   {
    "duration": 67,
    "start_time": "2022-10-14T16:48:57.700Z"
   },
   {
    "duration": 4,
    "start_time": "2022-10-14T16:48:57.769Z"
   },
   {
    "duration": 17,
    "start_time": "2022-10-14T16:48:57.775Z"
   },
   {
    "duration": 6,
    "start_time": "2022-10-14T16:48:57.794Z"
   },
   {
    "duration": 17,
    "start_time": "2022-10-14T16:48:57.802Z"
   },
   {
    "duration": 6,
    "start_time": "2022-10-14T16:48:57.822Z"
   },
   {
    "duration": 59,
    "start_time": "2022-10-14T16:48:57.830Z"
   },
   {
    "duration": 10,
    "start_time": "2022-10-14T16:48:57.891Z"
   },
   {
    "duration": 10,
    "start_time": "2022-10-14T16:48:57.902Z"
   },
   {
    "duration": 41,
    "start_time": "2022-10-14T16:48:57.914Z"
   },
   {
    "duration": 22,
    "start_time": "2022-10-14T16:48:57.957Z"
   },
   {
    "duration": 21,
    "start_time": "2022-10-14T16:48:57.981Z"
   },
   {
    "duration": 5,
    "start_time": "2022-10-14T16:48:58.004Z"
   },
   {
    "duration": 44,
    "start_time": "2022-10-14T16:48:58.010Z"
   },
   {
    "duration": 13,
    "start_time": "2022-10-14T16:48:58.056Z"
   },
   {
    "duration": 11,
    "start_time": "2022-10-14T16:48:58.071Z"
   },
   {
    "duration": 10,
    "start_time": "2022-10-14T16:48:58.084Z"
   },
   {
    "duration": 45,
    "start_time": "2022-10-14T16:48:58.096Z"
   },
   {
    "duration": 3,
    "start_time": "2022-10-14T16:48:58.155Z"
   },
   {
    "duration": 9,
    "start_time": "2022-10-14T16:48:58.160Z"
   },
   {
    "duration": 8,
    "start_time": "2022-10-14T16:48:58.171Z"
   },
   {
    "duration": 35,
    "start_time": "2022-10-14T16:49:20.189Z"
   },
   {
    "duration": 35,
    "start_time": "2022-10-14T16:50:01.817Z"
   },
   {
    "duration": 34,
    "start_time": "2022-10-14T16:50:16.713Z"
   },
   {
    "duration": 31,
    "start_time": "2022-10-14T16:50:26.553Z"
   },
   {
    "duration": 517,
    "start_time": "2022-10-14T16:50:35.244Z"
   },
   {
    "duration": 25,
    "start_time": "2022-10-14T16:50:35.763Z"
   },
   {
    "duration": 22,
    "start_time": "2022-10-14T16:50:35.790Z"
   },
   {
    "duration": 15,
    "start_time": "2022-10-14T16:50:35.814Z"
   },
   {
    "duration": 51,
    "start_time": "2022-10-14T16:50:35.831Z"
   },
   {
    "duration": 4,
    "start_time": "2022-10-14T16:50:35.884Z"
   },
   {
    "duration": 33,
    "start_time": "2022-10-14T16:50:35.890Z"
   },
   {
    "duration": 7,
    "start_time": "2022-10-14T16:50:35.925Z"
   },
   {
    "duration": 36,
    "start_time": "2022-10-14T16:50:35.934Z"
   },
   {
    "duration": 28,
    "start_time": "2022-10-14T16:50:35.973Z"
   },
   {
    "duration": 46,
    "start_time": "2022-10-14T16:50:36.003Z"
   },
   {
    "duration": 9,
    "start_time": "2022-10-14T16:50:36.051Z"
   },
   {
    "duration": 21,
    "start_time": "2022-10-14T16:50:36.062Z"
   },
   {
    "duration": 42,
    "start_time": "2022-10-14T16:50:36.086Z"
   },
   {
    "duration": 31,
    "start_time": "2022-10-14T16:50:36.130Z"
   },
   {
    "duration": 20,
    "start_time": "2022-10-14T16:50:36.162Z"
   },
   {
    "duration": 15,
    "start_time": "2022-10-14T16:50:36.184Z"
   },
   {
    "duration": 29,
    "start_time": "2022-10-14T16:50:36.201Z"
   },
   {
    "duration": 19,
    "start_time": "2022-10-14T16:50:36.234Z"
   },
   {
    "duration": 21,
    "start_time": "2022-10-14T16:50:36.255Z"
   },
   {
    "duration": 36,
    "start_time": "2022-10-14T16:50:36.278Z"
   },
   {
    "duration": 50,
    "start_time": "2022-10-14T16:50:36.316Z"
   },
   {
    "duration": 3,
    "start_time": "2022-10-14T16:50:36.368Z"
   },
   {
    "duration": 8,
    "start_time": "2022-10-14T16:50:36.372Z"
   },
   {
    "duration": 8,
    "start_time": "2022-10-14T16:50:36.382Z"
   },
   {
    "duration": 38,
    "start_time": "2022-10-14T16:50:47.612Z"
   },
   {
    "duration": 524,
    "start_time": "2022-10-14T16:50:54.056Z"
   },
   {
    "duration": 24,
    "start_time": "2022-10-14T16:50:54.582Z"
   },
   {
    "duration": 18,
    "start_time": "2022-10-14T16:50:54.608Z"
   },
   {
    "duration": 14,
    "start_time": "2022-10-14T16:50:54.654Z"
   },
   {
    "duration": 55,
    "start_time": "2022-10-14T16:50:54.670Z"
   },
   {
    "duration": 4,
    "start_time": "2022-10-14T16:50:54.727Z"
   },
   {
    "duration": 23,
    "start_time": "2022-10-14T16:50:54.733Z"
   },
   {
    "duration": 8,
    "start_time": "2022-10-14T16:50:54.758Z"
   },
   {
    "duration": 14,
    "start_time": "2022-10-14T16:50:54.768Z"
   },
   {
    "duration": 5,
    "start_time": "2022-10-14T16:50:54.787Z"
   },
   {
    "duration": 73,
    "start_time": "2022-10-14T16:50:54.794Z"
   },
   {
    "duration": 11,
    "start_time": "2022-10-14T16:50:54.869Z"
   },
   {
    "duration": 16,
    "start_time": "2022-10-14T16:50:54.882Z"
   },
   {
    "duration": 15,
    "start_time": "2022-10-14T16:50:54.900Z"
   },
   {
    "duration": 47,
    "start_time": "2022-10-14T16:50:54.917Z"
   },
   {
    "duration": 23,
    "start_time": "2022-10-14T16:50:54.966Z"
   },
   {
    "duration": 4,
    "start_time": "2022-10-14T16:50:54.991Z"
   },
   {
    "duration": 17,
    "start_time": "2022-10-14T16:50:54.996Z"
   },
   {
    "duration": 9,
    "start_time": "2022-10-14T16:50:55.015Z"
   },
   {
    "duration": 28,
    "start_time": "2022-10-14T16:50:55.026Z"
   },
   {
    "duration": 16,
    "start_time": "2022-10-14T16:50:55.057Z"
   },
   {
    "duration": 51,
    "start_time": "2022-10-14T16:50:55.075Z"
   },
   {
    "duration": 3,
    "start_time": "2022-10-14T16:50:55.128Z"
   },
   {
    "duration": 12,
    "start_time": "2022-10-14T16:50:55.133Z"
   },
   {
    "duration": 12,
    "start_time": "2022-10-14T16:50:55.147Z"
   },
   {
    "duration": 95,
    "start_time": "2022-10-14T16:51:15.876Z"
   },
   {
    "duration": 35,
    "start_time": "2022-10-14T16:51:26.803Z"
   },
   {
    "duration": 33,
    "start_time": "2022-10-14T16:52:12.814Z"
   },
   {
    "duration": 34,
    "start_time": "2022-10-14T16:52:56.544Z"
   },
   {
    "duration": 46,
    "start_time": "2022-10-14T16:53:09.342Z"
   },
   {
    "duration": 36,
    "start_time": "2022-10-14T16:53:22.512Z"
   },
   {
    "duration": 44,
    "start_time": "2022-10-14T16:53:32.751Z"
   },
   {
    "duration": 43,
    "start_time": "2022-10-14T16:53:38.614Z"
   },
   {
    "duration": 511,
    "start_time": "2022-10-14T16:53:45.382Z"
   },
   {
    "duration": 25,
    "start_time": "2022-10-14T16:53:45.896Z"
   },
   {
    "duration": 31,
    "start_time": "2022-10-14T16:53:45.923Z"
   },
   {
    "duration": 13,
    "start_time": "2022-10-14T16:53:45.956Z"
   },
   {
    "duration": 40,
    "start_time": "2022-10-14T16:53:45.971Z"
   },
   {
    "duration": 4,
    "start_time": "2022-10-14T16:53:46.013Z"
   },
   {
    "duration": 41,
    "start_time": "2022-10-14T16:53:46.019Z"
   },
   {
    "duration": 5,
    "start_time": "2022-10-14T16:53:46.062Z"
   },
   {
    "duration": 15,
    "start_time": "2022-10-14T16:53:46.069Z"
   },
   {
    "duration": 4,
    "start_time": "2022-10-14T16:53:46.087Z"
   },
   {
    "duration": 74,
    "start_time": "2022-10-14T16:53:46.093Z"
   },
   {
    "duration": 11,
    "start_time": "2022-10-14T16:53:46.169Z"
   },
   {
    "duration": 9,
    "start_time": "2022-10-14T16:53:46.182Z"
   },
   {
    "duration": 26,
    "start_time": "2022-10-14T16:53:46.193Z"
   },
   {
    "duration": 48,
    "start_time": "2022-10-14T16:53:46.221Z"
   },
   {
    "duration": 20,
    "start_time": "2022-10-14T16:53:46.270Z"
   },
   {
    "duration": 5,
    "start_time": "2022-10-14T16:53:46.292Z"
   },
   {
    "duration": 17,
    "start_time": "2022-10-14T16:53:46.299Z"
   },
   {
    "duration": 23,
    "start_time": "2022-10-14T16:53:46.317Z"
   },
   {
    "duration": 23,
    "start_time": "2022-10-14T16:53:46.354Z"
   },
   {
    "duration": 34,
    "start_time": "2022-10-14T16:53:46.379Z"
   },
   {
    "duration": 39,
    "start_time": "2022-10-14T16:53:46.416Z"
   },
   {
    "duration": 3,
    "start_time": "2022-10-14T16:53:46.457Z"
   },
   {
    "duration": 20,
    "start_time": "2022-10-14T16:53:46.461Z"
   },
   {
    "duration": 6,
    "start_time": "2022-10-14T16:53:46.484Z"
   },
   {
    "duration": 40,
    "start_time": "2022-10-14T16:55:31.103Z"
   },
   {
    "duration": 34,
    "start_time": "2022-10-14T16:55:38.266Z"
   },
   {
    "duration": 125,
    "start_time": "2022-10-14T16:55:41.701Z"
   },
   {
    "duration": 435,
    "start_time": "2022-10-14T16:55:46.002Z"
   },
   {
    "duration": 24,
    "start_time": "2022-10-14T16:55:46.439Z"
   },
   {
    "duration": 20,
    "start_time": "2022-10-14T16:55:46.465Z"
   },
   {
    "duration": 11,
    "start_time": "2022-10-14T16:55:46.487Z"
   },
   {
    "duration": 55,
    "start_time": "2022-10-14T16:55:46.499Z"
   },
   {
    "duration": 5,
    "start_time": "2022-10-14T16:55:46.556Z"
   },
   {
    "duration": 13,
    "start_time": "2022-10-14T16:55:46.564Z"
   },
   {
    "duration": 4,
    "start_time": "2022-10-14T16:55:46.579Z"
   },
   {
    "duration": 16,
    "start_time": "2022-10-14T16:55:46.585Z"
   },
   {
    "duration": 5,
    "start_time": "2022-10-14T16:55:46.604Z"
   },
   {
    "duration": 80,
    "start_time": "2022-10-14T16:55:46.611Z"
   },
   {
    "duration": 15,
    "start_time": "2022-10-14T16:55:46.693Z"
   },
   {
    "duration": 5,
    "start_time": "2022-10-14T16:55:46.710Z"
   },
   {
    "duration": 39,
    "start_time": "2022-10-14T16:55:46.717Z"
   },
   {
    "duration": 26,
    "start_time": "2022-10-14T16:55:46.758Z"
   },
   {
    "duration": 20,
    "start_time": "2022-10-14T16:55:46.786Z"
   },
   {
    "duration": 4,
    "start_time": "2022-10-14T16:55:46.808Z"
   },
   {
    "duration": 14,
    "start_time": "2022-10-14T16:55:46.814Z"
   },
   {
    "duration": 8,
    "start_time": "2022-10-14T16:55:46.855Z"
   },
   {
    "duration": 5,
    "start_time": "2022-10-14T16:55:46.865Z"
   },
   {
    "duration": 12,
    "start_time": "2022-10-14T16:55:46.873Z"
   },
   {
    "duration": 133,
    "start_time": "2022-10-14T16:55:46.887Z"
   },
   {
    "duration": 0,
    "start_time": "2022-10-14T16:55:47.022Z"
   },
   {
    "duration": 0,
    "start_time": "2022-10-14T16:55:47.023Z"
   },
   {
    "duration": 0,
    "start_time": "2022-10-14T16:55:47.024Z"
   },
   {
    "duration": 37,
    "start_time": "2022-10-14T16:55:55.592Z"
   },
   {
    "duration": 28,
    "start_time": "2022-10-14T16:56:07.951Z"
   },
   {
    "duration": 38,
    "start_time": "2022-10-14T16:56:14.996Z"
   },
   {
    "duration": 29,
    "start_time": "2022-10-14T16:56:22.514Z"
   },
   {
    "duration": 31,
    "start_time": "2022-10-14T16:56:32.388Z"
   },
   {
    "duration": 41,
    "start_time": "2022-10-14T16:56:56.575Z"
   },
   {
    "duration": 30,
    "start_time": "2022-10-14T16:57:15.540Z"
   },
   {
    "duration": 33,
    "start_time": "2022-10-14T16:57:19.973Z"
   },
   {
    "duration": 33,
    "start_time": "2022-10-14T16:57:28.012Z"
   },
   {
    "duration": 1636,
    "start_time": "2022-10-14T16:58:59.325Z"
   },
   {
    "duration": 33,
    "start_time": "2022-10-14T16:59:04.948Z"
   },
   {
    "duration": 48,
    "start_time": "2022-10-14T17:20:42.537Z"
   },
   {
    "duration": 36,
    "start_time": "2022-10-14T17:21:37.388Z"
   },
   {
    "duration": 463,
    "start_time": "2022-10-14T17:21:54.403Z"
   },
   {
    "duration": 25,
    "start_time": "2022-10-14T17:21:54.868Z"
   },
   {
    "duration": 38,
    "start_time": "2022-10-14T17:21:54.894Z"
   },
   {
    "duration": 59,
    "start_time": "2022-10-14T17:21:54.935Z"
   },
   {
    "duration": 57,
    "start_time": "2022-10-14T17:21:54.996Z"
   },
   {
    "duration": 3,
    "start_time": "2022-10-14T17:21:55.056Z"
   },
   {
    "duration": 19,
    "start_time": "2022-10-14T17:21:55.061Z"
   },
   {
    "duration": 22,
    "start_time": "2022-10-14T17:21:55.082Z"
   },
   {
    "duration": 30,
    "start_time": "2022-10-14T17:21:55.106Z"
   },
   {
    "duration": 28,
    "start_time": "2022-10-14T17:21:55.139Z"
   },
   {
    "duration": 55,
    "start_time": "2022-10-14T17:21:55.169Z"
   },
   {
    "duration": 12,
    "start_time": "2022-10-14T17:21:55.226Z"
   },
   {
    "duration": 21,
    "start_time": "2022-10-14T17:21:55.241Z"
   },
   {
    "duration": 57,
    "start_time": "2022-10-14T17:21:55.264Z"
   },
   {
    "duration": 56,
    "start_time": "2022-10-14T17:21:55.323Z"
   },
   {
    "duration": 32,
    "start_time": "2022-10-14T17:21:55.381Z"
   },
   {
    "duration": 34,
    "start_time": "2022-10-14T17:21:55.414Z"
   },
   {
    "duration": 63,
    "start_time": "2022-10-14T17:21:55.449Z"
   },
   {
    "duration": 44,
    "start_time": "2022-10-14T17:21:55.515Z"
   },
   {
    "duration": 36,
    "start_time": "2022-10-14T17:21:55.561Z"
   },
   {
    "duration": 32,
    "start_time": "2022-10-14T17:21:55.599Z"
   },
   {
    "duration": 84,
    "start_time": "2022-10-14T17:21:55.633Z"
   },
   {
    "duration": 47,
    "start_time": "2022-10-14T17:21:55.719Z"
   },
   {
    "duration": 12,
    "start_time": "2022-10-14T17:21:55.768Z"
   },
   {
    "duration": 27,
    "start_time": "2022-10-14T17:21:55.783Z"
   },
   {
    "duration": 39,
    "start_time": "2022-10-14T17:22:08.866Z"
   },
   {
    "duration": 517,
    "start_time": "2022-10-14T17:22:12.820Z"
   },
   {
    "duration": 26,
    "start_time": "2022-10-14T17:22:13.339Z"
   },
   {
    "duration": 17,
    "start_time": "2022-10-14T17:22:13.366Z"
   },
   {
    "duration": 11,
    "start_time": "2022-10-14T17:22:13.386Z"
   },
   {
    "duration": 72,
    "start_time": "2022-10-14T17:22:13.400Z"
   },
   {
    "duration": 5,
    "start_time": "2022-10-14T17:22:13.474Z"
   },
   {
    "duration": 12,
    "start_time": "2022-10-14T17:22:13.481Z"
   },
   {
    "duration": 6,
    "start_time": "2022-10-14T17:22:13.495Z"
   },
   {
    "duration": 11,
    "start_time": "2022-10-14T17:22:13.503Z"
   },
   {
    "duration": 39,
    "start_time": "2022-10-14T17:22:13.517Z"
   },
   {
    "duration": 37,
    "start_time": "2022-10-14T17:22:13.557Z"
   },
   {
    "duration": 12,
    "start_time": "2022-10-14T17:22:13.596Z"
   },
   {
    "duration": 10,
    "start_time": "2022-10-14T17:22:13.611Z"
   },
   {
    "duration": 40,
    "start_time": "2022-10-14T17:22:13.623Z"
   },
   {
    "duration": 21,
    "start_time": "2022-10-14T17:22:13.664Z"
   },
   {
    "duration": 20,
    "start_time": "2022-10-14T17:22:13.688Z"
   },
   {
    "duration": 4,
    "start_time": "2022-10-14T17:22:13.710Z"
   },
   {
    "duration": 41,
    "start_time": "2022-10-14T17:22:13.715Z"
   },
   {
    "duration": 16,
    "start_time": "2022-10-14T17:22:13.758Z"
   },
   {
    "duration": 10,
    "start_time": "2022-10-14T17:22:13.776Z"
   },
   {
    "duration": 16,
    "start_time": "2022-10-14T17:22:13.788Z"
   },
   {
    "duration": 65,
    "start_time": "2022-10-14T17:22:13.807Z"
   },
   {
    "duration": 37,
    "start_time": "2022-10-14T17:22:13.874Z"
   },
   {
    "duration": 3,
    "start_time": "2022-10-14T17:22:13.913Z"
   },
   {
    "duration": 36,
    "start_time": "2022-10-14T17:22:13.918Z"
   },
   {
    "duration": 58,
    "start_time": "2022-10-14T17:57:51.571Z"
   },
   {
    "duration": 32,
    "start_time": "2022-10-14T17:58:58.771Z"
   },
   {
    "duration": 31,
    "start_time": "2022-10-14T17:59:09.050Z"
   },
   {
    "duration": 30,
    "start_time": "2022-10-14T18:35:37.866Z"
   },
   {
    "duration": 29,
    "start_time": "2022-10-14T18:35:56.974Z"
   },
   {
    "duration": 33,
    "start_time": "2022-10-14T18:36:37.893Z"
   },
   {
    "duration": 29,
    "start_time": "2022-10-14T18:36:47.774Z"
   },
   {
    "duration": 30,
    "start_time": "2022-10-14T18:37:10.162Z"
   },
   {
    "duration": 30,
    "start_time": "2022-10-14T18:37:47.465Z"
   },
   {
    "duration": 90,
    "start_time": "2022-10-14T18:38:01.041Z"
   },
   {
    "duration": 31,
    "start_time": "2022-10-14T18:38:03.841Z"
   },
   {
    "duration": 29,
    "start_time": "2022-10-14T18:38:39.952Z"
   },
   {
    "duration": 32,
    "start_time": "2022-10-14T18:38:46.096Z"
   },
   {
    "duration": 33,
    "start_time": "2022-10-14T18:39:35.438Z"
   },
   {
    "duration": 46,
    "start_time": "2022-10-14T18:40:06.769Z"
   },
   {
    "duration": 39,
    "start_time": "2022-10-14T18:41:20.879Z"
   },
   {
    "duration": 10,
    "start_time": "2022-10-14T18:41:40.272Z"
   },
   {
    "duration": 41,
    "start_time": "2022-10-14T18:41:52.662Z"
   },
   {
    "duration": 31,
    "start_time": "2022-10-14T18:43:14.744Z"
   },
   {
    "duration": 494,
    "start_time": "2022-10-14T18:43:19.327Z"
   },
   {
    "duration": 24,
    "start_time": "2022-10-14T18:43:19.823Z"
   },
   {
    "duration": 15,
    "start_time": "2022-10-14T18:43:19.848Z"
   },
   {
    "duration": 9,
    "start_time": "2022-10-14T18:43:19.866Z"
   },
   {
    "duration": 35,
    "start_time": "2022-10-14T18:43:19.876Z"
   },
   {
    "duration": 4,
    "start_time": "2022-10-14T18:43:19.913Z"
   },
   {
    "duration": 46,
    "start_time": "2022-10-14T18:43:19.918Z"
   },
   {
    "duration": 8,
    "start_time": "2022-10-14T18:43:19.966Z"
   },
   {
    "duration": 16,
    "start_time": "2022-10-14T18:43:19.976Z"
   },
   {
    "duration": 4,
    "start_time": "2022-10-14T18:43:19.996Z"
   },
   {
    "duration": 52,
    "start_time": "2022-10-14T18:43:20.002Z"
   },
   {
    "duration": 19,
    "start_time": "2022-10-14T18:43:20.057Z"
   },
   {
    "duration": 24,
    "start_time": "2022-10-14T18:43:20.078Z"
   },
   {
    "duration": 16,
    "start_time": "2022-10-14T18:43:20.104Z"
   },
   {
    "duration": 24,
    "start_time": "2022-10-14T18:43:20.122Z"
   },
   {
    "duration": 28,
    "start_time": "2022-10-14T18:43:20.147Z"
   },
   {
    "duration": 4,
    "start_time": "2022-10-14T18:43:20.177Z"
   },
   {
    "duration": 16,
    "start_time": "2022-10-14T18:43:20.183Z"
   },
   {
    "duration": 14,
    "start_time": "2022-10-14T18:43:20.201Z"
   },
   {
    "duration": 16,
    "start_time": "2022-10-14T18:43:20.217Z"
   },
   {
    "duration": 27,
    "start_time": "2022-10-14T18:43:20.235Z"
   },
   {
    "duration": 50,
    "start_time": "2022-10-14T18:43:20.264Z"
   },
   {
    "duration": 49,
    "start_time": "2022-10-14T18:43:20.316Z"
   },
   {
    "duration": 33,
    "start_time": "2022-10-14T18:43:20.367Z"
   },
   {
    "duration": 55,
    "start_time": "2022-10-14T18:43:20.402Z"
   },
   {
    "duration": 4,
    "start_time": "2022-10-14T18:46:42.373Z"
   },
   {
    "duration": 119,
    "start_time": "2022-10-14T19:11:21.417Z"
   },
   {
    "duration": 37,
    "start_time": "2022-10-14T19:11:33.833Z"
   },
   {
    "duration": 37,
    "start_time": "2022-10-14T19:11:45.428Z"
   },
   {
    "duration": 36,
    "start_time": "2022-10-14T19:12:02.373Z"
   },
   {
    "duration": 34,
    "start_time": "2022-10-14T19:23:28.105Z"
   },
   {
    "duration": 30,
    "start_time": "2022-10-14T19:23:45.435Z"
   },
   {
    "duration": 517,
    "start_time": "2022-10-14T19:23:49.928Z"
   },
   {
    "duration": 27,
    "start_time": "2022-10-14T19:23:50.447Z"
   },
   {
    "duration": 15,
    "start_time": "2022-10-14T19:23:50.475Z"
   },
   {
    "duration": 23,
    "start_time": "2022-10-14T19:23:50.492Z"
   },
   {
    "duration": 53,
    "start_time": "2022-10-14T19:23:50.516Z"
   },
   {
    "duration": 3,
    "start_time": "2022-10-14T19:23:50.571Z"
   },
   {
    "duration": 30,
    "start_time": "2022-10-14T19:23:50.576Z"
   },
   {
    "duration": 23,
    "start_time": "2022-10-14T19:23:50.607Z"
   },
   {
    "duration": 24,
    "start_time": "2022-10-14T19:23:50.631Z"
   },
   {
    "duration": 24,
    "start_time": "2022-10-14T19:23:50.658Z"
   },
   {
    "duration": 45,
    "start_time": "2022-10-14T19:23:50.684Z"
   },
   {
    "duration": 10,
    "start_time": "2022-10-14T19:23:50.730Z"
   },
   {
    "duration": 14,
    "start_time": "2022-10-14T19:23:50.742Z"
   },
   {
    "duration": 23,
    "start_time": "2022-10-14T19:23:50.757Z"
   },
   {
    "duration": 36,
    "start_time": "2022-10-14T19:23:50.782Z"
   },
   {
    "duration": 19,
    "start_time": "2022-10-14T19:23:50.820Z"
   },
   {
    "duration": 4,
    "start_time": "2022-10-14T19:23:50.840Z"
   },
   {
    "duration": 28,
    "start_time": "2022-10-14T19:23:50.846Z"
   },
   {
    "duration": 14,
    "start_time": "2022-10-14T19:23:50.876Z"
   },
   {
    "duration": 4,
    "start_time": "2022-10-14T19:23:50.892Z"
   },
   {
    "duration": 23,
    "start_time": "2022-10-14T19:23:50.897Z"
   },
   {
    "duration": 37,
    "start_time": "2022-10-14T19:23:50.922Z"
   },
   {
    "duration": 33,
    "start_time": "2022-10-14T19:23:50.961Z"
   },
   {
    "duration": 32,
    "start_time": "2022-10-14T19:23:50.995Z"
   },
   {
    "duration": 62,
    "start_time": "2022-10-14T19:23:51.029Z"
   },
   {
    "duration": 36,
    "start_time": "2022-10-14T19:32:48.571Z"
   },
   {
    "duration": 37,
    "start_time": "2022-10-14T19:33:12.573Z"
   },
   {
    "duration": 37,
    "start_time": "2022-10-14T19:33:30.366Z"
   },
   {
    "duration": 493,
    "start_time": "2022-10-14T19:33:41.781Z"
   },
   {
    "duration": 24,
    "start_time": "2022-10-14T19:33:42.276Z"
   },
   {
    "duration": 16,
    "start_time": "2022-10-14T19:33:42.302Z"
   },
   {
    "duration": 37,
    "start_time": "2022-10-14T19:33:42.320Z"
   },
   {
    "duration": 34,
    "start_time": "2022-10-14T19:33:42.359Z"
   },
   {
    "duration": 4,
    "start_time": "2022-10-14T19:33:42.395Z"
   },
   {
    "duration": 14,
    "start_time": "2022-10-14T19:33:42.401Z"
   },
   {
    "duration": 39,
    "start_time": "2022-10-14T19:33:42.417Z"
   },
   {
    "duration": 10,
    "start_time": "2022-10-14T19:33:42.457Z"
   },
   {
    "duration": 5,
    "start_time": "2022-10-14T19:33:42.470Z"
   },
   {
    "duration": 35,
    "start_time": "2022-10-14T19:33:42.477Z"
   },
   {
    "duration": 44,
    "start_time": "2022-10-14T19:33:42.514Z"
   },
   {
    "duration": 4,
    "start_time": "2022-10-14T19:33:42.560Z"
   },
   {
    "duration": 15,
    "start_time": "2022-10-14T19:33:42.565Z"
   },
   {
    "duration": 29,
    "start_time": "2022-10-14T19:33:42.582Z"
   },
   {
    "duration": 41,
    "start_time": "2022-10-14T19:33:42.613Z"
   },
   {
    "duration": 4,
    "start_time": "2022-10-14T19:33:42.657Z"
   },
   {
    "duration": 17,
    "start_time": "2022-10-14T19:33:42.663Z"
   },
   {
    "duration": 7,
    "start_time": "2022-10-14T19:33:42.682Z"
   },
   {
    "duration": 4,
    "start_time": "2022-10-14T19:33:42.691Z"
   },
   {
    "duration": 11,
    "start_time": "2022-10-14T19:33:42.697Z"
   },
   {
    "duration": 64,
    "start_time": "2022-10-14T19:33:42.709Z"
   },
   {
    "duration": 33,
    "start_time": "2022-10-14T19:33:42.774Z"
   },
   {
    "duration": 53,
    "start_time": "2022-10-14T19:33:42.808Z"
   },
   {
    "duration": 35,
    "start_time": "2022-10-14T19:33:42.862Z"
   },
   {
    "duration": 462,
    "start_time": "2022-10-15T06:41:18.700Z"
   },
   {
    "duration": 20,
    "start_time": "2022-10-15T06:41:19.163Z"
   },
   {
    "duration": 19,
    "start_time": "2022-10-15T06:41:19.185Z"
   },
   {
    "duration": 8,
    "start_time": "2022-10-15T06:41:19.210Z"
   },
   {
    "duration": 30,
    "start_time": "2022-10-15T06:41:19.220Z"
   },
   {
    "duration": 3,
    "start_time": "2022-10-15T06:41:19.252Z"
   },
   {
    "duration": 17,
    "start_time": "2022-10-15T06:41:19.257Z"
   },
   {
    "duration": 6,
    "start_time": "2022-10-15T06:41:19.276Z"
   },
   {
    "duration": 30,
    "start_time": "2022-10-15T06:41:19.283Z"
   },
   {
    "duration": 4,
    "start_time": "2022-10-15T06:41:19.315Z"
   },
   {
    "duration": 35,
    "start_time": "2022-10-15T06:41:19.320Z"
   },
   {
    "duration": 8,
    "start_time": "2022-10-15T06:41:19.356Z"
   },
   {
    "duration": 4,
    "start_time": "2022-10-15T06:41:19.366Z"
   },
   {
    "duration": 13,
    "start_time": "2022-10-15T06:41:19.372Z"
   },
   {
    "duration": 20,
    "start_time": "2022-10-15T06:41:19.408Z"
   },
   {
    "duration": 20,
    "start_time": "2022-10-15T06:41:19.430Z"
   },
   {
    "duration": 3,
    "start_time": "2022-10-15T06:41:19.452Z"
   },
   {
    "duration": 20,
    "start_time": "2022-10-15T06:41:19.457Z"
   },
   {
    "duration": 7,
    "start_time": "2022-10-15T06:41:19.479Z"
   },
   {
    "duration": 22,
    "start_time": "2022-10-15T06:41:19.488Z"
   },
   {
    "duration": 17,
    "start_time": "2022-10-15T06:41:19.512Z"
   },
   {
    "duration": 27,
    "start_time": "2022-10-15T06:41:19.531Z"
   },
   {
    "duration": 29,
    "start_time": "2022-10-15T06:41:19.560Z"
   },
   {
    "duration": 50,
    "start_time": "2022-10-15T06:41:19.591Z"
   },
   {
    "duration": 40,
    "start_time": "2022-10-15T06:41:19.643Z"
   },
   {
    "duration": 50,
    "start_time": "2022-10-15T08:05:03.703Z"
   },
   {
    "duration": 7,
    "start_time": "2022-10-15T08:05:41.446Z"
   },
   {
    "duration": 519,
    "start_time": "2022-10-15T08:05:44.825Z"
   },
   {
    "duration": 22,
    "start_time": "2022-10-15T08:05:45.346Z"
   },
   {
    "duration": 21,
    "start_time": "2022-10-15T08:05:45.370Z"
   },
   {
    "duration": 19,
    "start_time": "2022-10-15T08:05:45.393Z"
   },
   {
    "duration": 36,
    "start_time": "2022-10-15T08:05:45.414Z"
   },
   {
    "duration": 4,
    "start_time": "2022-10-15T08:05:45.451Z"
   },
   {
    "duration": 37,
    "start_time": "2022-10-15T08:05:45.456Z"
   },
   {
    "duration": 31,
    "start_time": "2022-10-15T08:05:45.494Z"
   },
   {
    "duration": 24,
    "start_time": "2022-10-15T08:05:45.527Z"
   },
   {
    "duration": 13,
    "start_time": "2022-10-15T08:05:45.552Z"
   },
   {
    "duration": 49,
    "start_time": "2022-10-15T08:05:45.566Z"
   },
   {
    "duration": 16,
    "start_time": "2022-10-15T08:05:45.617Z"
   },
   {
    "duration": 13,
    "start_time": "2022-10-15T08:05:45.635Z"
   },
   {
    "duration": 40,
    "start_time": "2022-10-15T08:05:45.651Z"
   },
   {
    "duration": 56,
    "start_time": "2022-10-15T08:05:45.693Z"
   },
   {
    "duration": 16,
    "start_time": "2022-10-15T08:05:45.751Z"
   },
   {
    "duration": 6,
    "start_time": "2022-10-15T08:05:45.769Z"
   },
   {
    "duration": 29,
    "start_time": "2022-10-15T08:05:45.777Z"
   },
   {
    "duration": 11,
    "start_time": "2022-10-15T08:05:45.808Z"
   },
   {
    "duration": 23,
    "start_time": "2022-10-15T08:05:45.821Z"
   },
   {
    "duration": 21,
    "start_time": "2022-10-15T08:05:45.845Z"
   },
   {
    "duration": 35,
    "start_time": "2022-10-15T08:05:45.868Z"
   },
   {
    "duration": 38,
    "start_time": "2022-10-15T08:05:45.905Z"
   },
   {
    "duration": 88,
    "start_time": "2022-10-15T08:05:45.945Z"
   },
   {
    "duration": 0,
    "start_time": "2022-10-15T08:05:46.035Z"
   },
   {
    "duration": 40,
    "start_time": "2022-10-15T08:06:03.798Z"
   },
   {
    "duration": 435,
    "start_time": "2022-10-15T08:06:09.065Z"
   },
   {
    "duration": 22,
    "start_time": "2022-10-15T08:06:09.502Z"
   },
   {
    "duration": 16,
    "start_time": "2022-10-15T08:06:09.525Z"
   },
   {
    "duration": 9,
    "start_time": "2022-10-15T08:06:09.542Z"
   },
   {
    "duration": 35,
    "start_time": "2022-10-15T08:06:09.552Z"
   },
   {
    "duration": 4,
    "start_time": "2022-10-15T08:06:09.588Z"
   },
   {
    "duration": 11,
    "start_time": "2022-10-15T08:06:09.593Z"
   },
   {
    "duration": 4,
    "start_time": "2022-10-15T08:06:09.606Z"
   },
   {
    "duration": 11,
    "start_time": "2022-10-15T08:06:09.633Z"
   },
   {
    "duration": 10,
    "start_time": "2022-10-15T08:06:09.646Z"
   },
   {
    "duration": 46,
    "start_time": "2022-10-15T08:06:09.657Z"
   },
   {
    "duration": 12,
    "start_time": "2022-10-15T08:06:09.704Z"
   },
   {
    "duration": 17,
    "start_time": "2022-10-15T08:06:09.717Z"
   },
   {
    "duration": 13,
    "start_time": "2022-10-15T08:06:09.736Z"
   },
   {
    "duration": 25,
    "start_time": "2022-10-15T08:06:09.751Z"
   },
   {
    "duration": 18,
    "start_time": "2022-10-15T08:06:09.777Z"
   },
   {
    "duration": 4,
    "start_time": "2022-10-15T08:06:09.796Z"
   },
   {
    "duration": 37,
    "start_time": "2022-10-15T08:06:09.801Z"
   },
   {
    "duration": 13,
    "start_time": "2022-10-15T08:06:09.840Z"
   },
   {
    "duration": 6,
    "start_time": "2022-10-15T08:06:09.855Z"
   },
   {
    "duration": 10,
    "start_time": "2022-10-15T08:06:09.863Z"
   },
   {
    "duration": 32,
    "start_time": "2022-10-15T08:06:09.875Z"
   },
   {
    "duration": 49,
    "start_time": "2022-10-15T08:06:09.908Z"
   },
   {
    "duration": 96,
    "start_time": "2022-10-15T08:06:09.959Z"
   },
   {
    "duration": 0,
    "start_time": "2022-10-15T08:06:10.056Z"
   },
   {
    "duration": 33,
    "start_time": "2022-10-15T08:06:57.431Z"
   },
   {
    "duration": 26,
    "start_time": "2022-10-15T08:07:34.074Z"
   },
   {
    "duration": 26,
    "start_time": "2022-10-15T08:07:44.090Z"
   },
   {
    "duration": 147,
    "start_time": "2022-10-15T08:08:00.996Z"
   },
   {
    "duration": 32,
    "start_time": "2022-10-15T08:08:05.550Z"
   },
   {
    "duration": 30,
    "start_time": "2022-10-15T08:08:11.303Z"
   },
   {
    "duration": 30,
    "start_time": "2022-10-15T08:08:20.729Z"
   },
   {
    "duration": 31,
    "start_time": "2022-10-15T08:08:28.662Z"
   },
   {
    "duration": 33,
    "start_time": "2022-10-15T08:15:47.696Z"
   },
   {
    "duration": 446,
    "start_time": "2022-10-15T08:15:53.237Z"
   },
   {
    "duration": 21,
    "start_time": "2022-10-15T08:15:53.684Z"
   },
   {
    "duration": 13,
    "start_time": "2022-10-15T08:15:53.706Z"
   },
   {
    "duration": 16,
    "start_time": "2022-10-15T08:15:53.721Z"
   },
   {
    "duration": 34,
    "start_time": "2022-10-15T08:15:53.738Z"
   },
   {
    "duration": 3,
    "start_time": "2022-10-15T08:15:53.773Z"
   },
   {
    "duration": 9,
    "start_time": "2022-10-15T08:15:53.778Z"
   },
   {
    "duration": 4,
    "start_time": "2022-10-15T08:15:53.788Z"
   },
   {
    "duration": 7,
    "start_time": "2022-10-15T08:15:53.794Z"
   },
   {
    "duration": 29,
    "start_time": "2022-10-15T08:15:53.805Z"
   },
   {
    "duration": 33,
    "start_time": "2022-10-15T08:15:53.835Z"
   },
   {
    "duration": 10,
    "start_time": "2022-10-15T08:15:53.869Z"
   },
   {
    "duration": 13,
    "start_time": "2022-10-15T08:15:53.881Z"
   },
   {
    "duration": 17,
    "start_time": "2022-10-15T08:15:53.895Z"
   },
   {
    "duration": 32,
    "start_time": "2022-10-15T08:15:53.913Z"
   },
   {
    "duration": 17,
    "start_time": "2022-10-15T08:15:53.947Z"
   },
   {
    "duration": 4,
    "start_time": "2022-10-15T08:15:53.965Z"
   },
   {
    "duration": 16,
    "start_time": "2022-10-15T08:15:53.970Z"
   },
   {
    "duration": 8,
    "start_time": "2022-10-15T08:15:53.988Z"
   },
   {
    "duration": 3,
    "start_time": "2022-10-15T08:15:53.998Z"
   },
   {
    "duration": 32,
    "start_time": "2022-10-15T08:15:54.003Z"
   },
   {
    "duration": 30,
    "start_time": "2022-10-15T08:15:54.036Z"
   },
   {
    "duration": 30,
    "start_time": "2022-10-15T08:15:54.068Z"
   },
   {
    "duration": 48,
    "start_time": "2022-10-15T08:15:54.099Z"
   },
   {
    "duration": 34,
    "start_time": "2022-10-15T08:15:54.148Z"
   }
  ],
  "colab": {
   "name": "dpp_template_part2.ipynb",
   "provenance": []
  },
  "kernelspec": {
   "display_name": "Python 3 (ipykernel)",
   "language": "python",
   "name": "python3"
  },
  "language_info": {
   "codemirror_mode": {
    "name": "ipython",
    "version": 3
   },
   "file_extension": ".py",
   "mimetype": "text/x-python",
   "name": "python",
   "nbconvert_exporter": "python",
   "pygments_lexer": "ipython3",
   "version": "3.11.4"
  },
  "toc": {
   "base_numbering": 1,
   "nav_menu": {},
   "number_sections": true,
   "sideBar": true,
   "skip_h1_title": true,
   "title_cell": "Table of Contents",
   "title_sidebar": "Contents",
   "toc_cell": false,
   "toc_position": {},
   "toc_section_display": true,
   "toc_window_display": false
  }
 },
 "nbformat": 4,
 "nbformat_minor": 5
}
