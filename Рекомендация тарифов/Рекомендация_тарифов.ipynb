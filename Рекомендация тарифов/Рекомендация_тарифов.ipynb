{
 "cells": [
  {
   "cell_type": "markdown",
   "metadata": {},
   "source": [
    "# Рекомендация тарифов"
   ]
  },
  {
   "cell_type": "markdown",
   "metadata": {},
   "source": [
    "Оператор мобильной связи «Мегалайн» выяснил: многие клиенты пользуются архивными тарифами. Они хотят построить систему, способную проанализировать поведение клиентов и предложить пользователям новый тариф: «Смарт» или «Ультра».\n",
    "\n",
    "В распоряжении данные о поведении клиентов, которые уже перешли на эти тарифы. Нужно построить модель для задачи классификации, которая выберет подходящий тариф. Предобработка данных уже сделана.\n",
    "\n",
    "Необходимо построить модель с максимально большим значением accuracy. Нужно довести долю правильных ответов по крайней мере до 0.75 и проверить accuracy на тестовой выборке."
   ]
  },
  {
   "cell_type": "markdown",
   "metadata": {},
   "source": [
    "## Откройте и изучите файл"
   ]
  },
  {
   "cell_type": "code",
   "execution_count": 1,
   "metadata": {},
   "outputs": [],
   "source": [
    "import pandas as pd\n",
    "from sklearn.tree import DecisionTreeClassifier\n",
    "from sklearn.ensemble import RandomForestClassifier\n",
    "from sklearn.linear_model import LogisticRegression\n",
    "from sklearn.model_selection import train_test_split\n",
    "from sklearn.metrics import accuracy_score\n",
    "from tqdm import tqdm"
   ]
  },
  {
   "cell_type": "code",
   "execution_count": 2,
   "metadata": {},
   "outputs": [],
   "source": [
    "data = pd.read_csv('https://code.s3.yandex.net/datasets/users_behavior.csv')"
   ]
  },
  {
   "cell_type": "code",
   "execution_count": 3,
   "metadata": {},
   "outputs": [
    {
     "data": {
      "text/html": [
       "<div>\n",
       "<style scoped>\n",
       "    .dataframe tbody tr th:only-of-type {\n",
       "        vertical-align: middle;\n",
       "    }\n",
       "\n",
       "    .dataframe tbody tr th {\n",
       "        vertical-align: top;\n",
       "    }\n",
       "\n",
       "    .dataframe thead th {\n",
       "        text-align: right;\n",
       "    }\n",
       "</style>\n",
       "<table border=\"1\" class=\"dataframe\">\n",
       "  <thead>\n",
       "    <tr style=\"text-align: right;\">\n",
       "      <th></th>\n",
       "      <th>calls</th>\n",
       "      <th>minutes</th>\n",
       "      <th>messages</th>\n",
       "      <th>mb_used</th>\n",
       "      <th>is_ultra</th>\n",
       "    </tr>\n",
       "  </thead>\n",
       "  <tbody>\n",
       "    <tr>\n",
       "      <th>0</th>\n",
       "      <td>40.0</td>\n",
       "      <td>311.90</td>\n",
       "      <td>83.0</td>\n",
       "      <td>19915.42</td>\n",
       "      <td>0</td>\n",
       "    </tr>\n",
       "    <tr>\n",
       "      <th>1</th>\n",
       "      <td>85.0</td>\n",
       "      <td>516.75</td>\n",
       "      <td>56.0</td>\n",
       "      <td>22696.96</td>\n",
       "      <td>0</td>\n",
       "    </tr>\n",
       "    <tr>\n",
       "      <th>2</th>\n",
       "      <td>77.0</td>\n",
       "      <td>467.66</td>\n",
       "      <td>86.0</td>\n",
       "      <td>21060.45</td>\n",
       "      <td>0</td>\n",
       "    </tr>\n",
       "    <tr>\n",
       "      <th>3</th>\n",
       "      <td>106.0</td>\n",
       "      <td>745.53</td>\n",
       "      <td>81.0</td>\n",
       "      <td>8437.39</td>\n",
       "      <td>1</td>\n",
       "    </tr>\n",
       "    <tr>\n",
       "      <th>4</th>\n",
       "      <td>66.0</td>\n",
       "      <td>418.74</td>\n",
       "      <td>1.0</td>\n",
       "      <td>14502.75</td>\n",
       "      <td>0</td>\n",
       "    </tr>\n",
       "    <tr>\n",
       "      <th>5</th>\n",
       "      <td>58.0</td>\n",
       "      <td>344.56</td>\n",
       "      <td>21.0</td>\n",
       "      <td>15823.37</td>\n",
       "      <td>0</td>\n",
       "    </tr>\n",
       "    <tr>\n",
       "      <th>6</th>\n",
       "      <td>57.0</td>\n",
       "      <td>431.64</td>\n",
       "      <td>20.0</td>\n",
       "      <td>3738.90</td>\n",
       "      <td>1</td>\n",
       "    </tr>\n",
       "    <tr>\n",
       "      <th>7</th>\n",
       "      <td>15.0</td>\n",
       "      <td>132.40</td>\n",
       "      <td>6.0</td>\n",
       "      <td>21911.60</td>\n",
       "      <td>0</td>\n",
       "    </tr>\n",
       "    <tr>\n",
       "      <th>8</th>\n",
       "      <td>7.0</td>\n",
       "      <td>43.39</td>\n",
       "      <td>3.0</td>\n",
       "      <td>2538.67</td>\n",
       "      <td>1</td>\n",
       "    </tr>\n",
       "    <tr>\n",
       "      <th>9</th>\n",
       "      <td>90.0</td>\n",
       "      <td>665.41</td>\n",
       "      <td>38.0</td>\n",
       "      <td>17358.61</td>\n",
       "      <td>0</td>\n",
       "    </tr>\n",
       "  </tbody>\n",
       "</table>\n",
       "</div>"
      ],
      "text/plain": [
       "   calls  minutes  messages   mb_used  is_ultra\n",
       "0   40.0   311.90      83.0  19915.42         0\n",
       "1   85.0   516.75      56.0  22696.96         0\n",
       "2   77.0   467.66      86.0  21060.45         0\n",
       "3  106.0   745.53      81.0   8437.39         1\n",
       "4   66.0   418.74       1.0  14502.75         0\n",
       "5   58.0   344.56      21.0  15823.37         0\n",
       "6   57.0   431.64      20.0   3738.90         1\n",
       "7   15.0   132.40       6.0  21911.60         0\n",
       "8    7.0    43.39       3.0   2538.67         1\n",
       "9   90.0   665.41      38.0  17358.61         0"
      ]
     },
     "metadata": {},
     "output_type": "display_data"
    }
   ],
   "source": [
    "display(data.head(10))"
   ]
  },
  {
   "cell_type": "code",
   "execution_count": 4,
   "metadata": {},
   "outputs": [
    {
     "name": "stdout",
     "output_type": "stream",
     "text": [
      "<class 'pandas.core.frame.DataFrame'>\n",
      "RangeIndex: 3214 entries, 0 to 3213\n",
      "Data columns (total 5 columns):\n",
      " #   Column    Non-Null Count  Dtype  \n",
      "---  ------    --------------  -----  \n",
      " 0   calls     3214 non-null   float64\n",
      " 1   minutes   3214 non-null   float64\n",
      " 2   messages  3214 non-null   float64\n",
      " 3   mb_used   3214 non-null   float64\n",
      " 4   is_ultra  3214 non-null   int64  \n",
      "dtypes: float64(4), int64(1)\n",
      "memory usage: 125.7 KB\n"
     ]
    }
   ],
   "source": [
    "data.info()"
   ]
  },
  {
   "cell_type": "code",
   "execution_count": 5,
   "metadata": {},
   "outputs": [
    {
     "data": {
      "text/html": [
       "<div>\n",
       "<style scoped>\n",
       "    .dataframe tbody tr th:only-of-type {\n",
       "        vertical-align: middle;\n",
       "    }\n",
       "\n",
       "    .dataframe tbody tr th {\n",
       "        vertical-align: top;\n",
       "    }\n",
       "\n",
       "    .dataframe thead th {\n",
       "        text-align: right;\n",
       "    }\n",
       "</style>\n",
       "<table border=\"1\" class=\"dataframe\">\n",
       "  <thead>\n",
       "    <tr style=\"text-align: right;\">\n",
       "      <th></th>\n",
       "      <th>calls</th>\n",
       "      <th>minutes</th>\n",
       "      <th>messages</th>\n",
       "      <th>mb_used</th>\n",
       "      <th>is_ultra</th>\n",
       "    </tr>\n",
       "  </thead>\n",
       "  <tbody>\n",
       "    <tr>\n",
       "      <th>count</th>\n",
       "      <td>3214.000000</td>\n",
       "      <td>3214.000000</td>\n",
       "      <td>3214.000000</td>\n",
       "      <td>3214.000000</td>\n",
       "      <td>3214.000000</td>\n",
       "    </tr>\n",
       "    <tr>\n",
       "      <th>mean</th>\n",
       "      <td>63.038892</td>\n",
       "      <td>438.208787</td>\n",
       "      <td>38.281269</td>\n",
       "      <td>17207.673836</td>\n",
       "      <td>0.306472</td>\n",
       "    </tr>\n",
       "    <tr>\n",
       "      <th>std</th>\n",
       "      <td>33.236368</td>\n",
       "      <td>234.569872</td>\n",
       "      <td>36.148326</td>\n",
       "      <td>7570.968246</td>\n",
       "      <td>0.461100</td>\n",
       "    </tr>\n",
       "    <tr>\n",
       "      <th>min</th>\n",
       "      <td>0.000000</td>\n",
       "      <td>0.000000</td>\n",
       "      <td>0.000000</td>\n",
       "      <td>0.000000</td>\n",
       "      <td>0.000000</td>\n",
       "    </tr>\n",
       "    <tr>\n",
       "      <th>25%</th>\n",
       "      <td>40.000000</td>\n",
       "      <td>274.575000</td>\n",
       "      <td>9.000000</td>\n",
       "      <td>12491.902500</td>\n",
       "      <td>0.000000</td>\n",
       "    </tr>\n",
       "    <tr>\n",
       "      <th>50%</th>\n",
       "      <td>62.000000</td>\n",
       "      <td>430.600000</td>\n",
       "      <td>30.000000</td>\n",
       "      <td>16943.235000</td>\n",
       "      <td>0.000000</td>\n",
       "    </tr>\n",
       "    <tr>\n",
       "      <th>75%</th>\n",
       "      <td>82.000000</td>\n",
       "      <td>571.927500</td>\n",
       "      <td>57.000000</td>\n",
       "      <td>21424.700000</td>\n",
       "      <td>1.000000</td>\n",
       "    </tr>\n",
       "    <tr>\n",
       "      <th>max</th>\n",
       "      <td>244.000000</td>\n",
       "      <td>1632.060000</td>\n",
       "      <td>224.000000</td>\n",
       "      <td>49745.730000</td>\n",
       "      <td>1.000000</td>\n",
       "    </tr>\n",
       "  </tbody>\n",
       "</table>\n",
       "</div>"
      ],
      "text/plain": [
       "             calls      minutes     messages       mb_used     is_ultra\n",
       "count  3214.000000  3214.000000  3214.000000   3214.000000  3214.000000\n",
       "mean     63.038892   438.208787    38.281269  17207.673836     0.306472\n",
       "std      33.236368   234.569872    36.148326   7570.968246     0.461100\n",
       "min       0.000000     0.000000     0.000000      0.000000     0.000000\n",
       "25%      40.000000   274.575000     9.000000  12491.902500     0.000000\n",
       "50%      62.000000   430.600000    30.000000  16943.235000     0.000000\n",
       "75%      82.000000   571.927500    57.000000  21424.700000     1.000000\n",
       "max     244.000000  1632.060000   224.000000  49745.730000     1.000000"
      ]
     },
     "execution_count": 5,
     "metadata": {},
     "output_type": "execute_result"
    }
   ],
   "source": [
    "data.describe()"
   ]
  },
  {
   "cell_type": "markdown",
   "metadata": {},
   "source": [
    "## Разбейте данные на выборки"
   ]
  },
  {
   "cell_type": "code",
   "execution_count": 6,
   "metadata": {},
   "outputs": [
    {
     "data": {
      "text/plain": [
       "(1928, 5)"
      ]
     },
     "metadata": {},
     "output_type": "display_data"
    },
    {
     "data": {
      "text/plain": [
       "(643, 5)"
      ]
     },
     "metadata": {},
     "output_type": "display_data"
    },
    {
     "data": {
      "text/plain": [
       "(643, 5)"
      ]
     },
     "metadata": {},
     "output_type": "display_data"
    }
   ],
   "source": [
    "#поделим датафрейм на обучающую выборку и выборку, которую позже разделим на валидационную и тестовую\n",
    "data_train, data_other = train_test_split(data, test_size=0.4, random_state=12345)\n",
    "#поделим data_other на валидационную и тестовую выборку\n",
    "data_valid, data_test = train_test_split(data_other, test_size=0.5, random_state=12345)\n",
    "display(data_train.shape)\n",
    "display(data_valid.shape)\n",
    "display(data_test.shape)"
   ]
  },
  {
   "cell_type": "markdown",
   "metadata": {},
   "source": [
    "## Исследуйте модели"
   ]
  },
  {
   "cell_type": "code",
   "execution_count": 7,
   "metadata": {},
   "outputs": [],
   "source": [
    "#разделим обучающий датафрейм на признаки и целевой признак\n",
    "features_train = data_train.drop(['is_ultra'], axis=1)\n",
    "target_train = data_train['is_ultra']\n",
    "\n",
    "#разделим валидационный датафрейм на признаки и целевой признак\n",
    "features_valid = data_valid.drop(['is_ultra'], axis=1)  \n",
    "target_valid = data_valid['is_ultra']"
   ]
  },
  {
   "cell_type": "code",
   "execution_count": 8,
   "metadata": {},
   "outputs": [
    {
     "name": "stdout",
     "output_type": "stream",
     "text": [
      "Глубина дерева = 3 Accuracy наилучшей модели на валидационной выборке: 0.7853810264385692\n"
     ]
    }
   ],
   "source": [
    "#исследуем модель дерево решений\n",
    "best_accuracy = 0\n",
    "best_depth = 0 \n",
    "for depth in range(1,16):\n",
    "    model = DecisionTreeClassifier(random_state=12345, max_depth=depth)\n",
    "    model.fit(features_train, target_train)\n",
    "    predictions_valid = model.predict(features_valid)\n",
    "    accuracy = accuracy_score(target_valid, predictions_valid)\n",
    "    if accuracy > best_accuracy:\n",
    "        best_accuracy = accuracy\n",
    "        best_depth = depth\n",
    "print(\"Глубина дерева =\", best_depth, \"Accuracy наилучшей модели на валидационной выборке:\", best_accuracy)"
   ]
  },
  {
   "cell_type": "markdown",
   "metadata": {},
   "source": [
    "лучшая модель с глубиной 3 и с `accuracy` = 0.7853"
   ]
  },
  {
   "cell_type": "code",
   "execution_count": 9,
   "metadata": {},
   "outputs": [
    {
     "name": "stdout",
     "output_type": "stream",
     "text": [
      "Количество деревьев = 40 Глубина дерева 8 Accuracy наилучшей модели на валидационной выборке: 0.8087091757387247\n"
     ]
    }
   ],
   "source": [
    "#исследуем модель случайный лес\n",
    "best_est = 0\n",
    "best_accuracy_forest = 0\n",
    "best_depth = 0\n",
    "for depth in range(1, 16):\n",
    "    for est in range(3, 58):\n",
    "        model = RandomForestClassifier(random_state=12345, n_estimators=est, max_depth=depth)\n",
    "        model.fit(features_train, target_train)\n",
    "        predictions_valid = model.predict(features_valid)\n",
    "        accuracy = accuracy_score(target_valid, predictions_valid)\n",
    "        if accuracy > best_accuracy_forest:\n",
    "            best_est = est\n",
    "            best_accuracy_forest = accuracy\n",
    "            best_depth = depth\n",
    "print(\"Количество деревьев =\", best_est, \"Глубина дерева\", best_depth, \"Accuracy наилучшей модели на валидационной выборке:\", best_accuracy_forest)"
   ]
  },
  {
   "cell_type": "markdown",
   "metadata": {},
   "source": [
    "лучшая модель с количеством деревьев 40, глубиной дерева 8 и с `accuracy` = 0.808"
   ]
  },
  {
   "cell_type": "code",
   "execution_count": 10,
   "metadata": {},
   "outputs": [
    {
     "name": "stdout",
     "output_type": "stream",
     "text": [
      "Accuracy наилучшей модели на валидационной выборке: 0.7107309486780715\n"
     ]
    }
   ],
   "source": [
    "#исследуем модель логистической регрессии\n",
    "model = LogisticRegression(random_state=12345)\n",
    "model.fit(features_train, target_train)\n",
    "predictions = model.predict(features_valid)\n",
    "accuracy = accuracy_score(target_valid, predictions)\n",
    "print(\"Accuracy наилучшей модели на валидационной выборке:\", accuracy)"
   ]
  },
  {
   "cell_type": "markdown",
   "metadata": {},
   "source": [
    "`accuracy` = 0.7107, результат хуже чем у дерева решений и модели случайного леса"
   ]
  },
  {
   "cell_type": "markdown",
   "metadata": {},
   "source": [
    "`Вывод:` \n",
    "- Обучили дерево принятия решений и выбрали лучшее с максимальной глубиной 3 и `accuracy` = 0.7853\n",
    "- Обучили модель случайного леса и выбрали лучшую с количеством деревьев 40, глубиной 8 и `accuracy` = 0.808\n",
    "- Обучили модель логистической регресии и получили `accuracy` =  0.7107, результат хуже чем у других моделей\n",
    "\n",
    "Лучший результат показала модель случайного леса, ее будем использовать для проверки на тестовой выборке"
   ]
  },
  {
   "cell_type": "markdown",
   "metadata": {},
   "source": [
    "## Проверьте модель на тестовой выборке"
   ]
  },
  {
   "cell_type": "code",
   "execution_count": 11,
   "metadata": {},
   "outputs": [],
   "source": [
    "#разделим тестовый датафрейм на признаки и целевой признак\n",
    "features_test = data_test.drop(['is_ultra'], axis=1)  \n",
    "target_test = data_test['is_ultra']"
   ]
  },
  {
   "cell_type": "code",
   "execution_count": 12,
   "metadata": {
    "scrolled": true
   },
   "outputs": [
    {
     "name": "stdout",
     "output_type": "stream",
     "text": [
      "accuracy = 0.7993779160186625\n"
     ]
    }
   ],
   "source": [
    "#проверим модель случайного леса на тестовой выборке\n",
    "features_general = pd.concat([features_valid, features_train], ignore_index= True)\n",
    "target_general = pd.concat([target_valid, target_train], ignore_index= True)\n",
    "model = RandomForestClassifier(random_state=12345, n_estimators=40, max_depth=8)\n",
    "model.fit(features_general, target_general)\n",
    "predictions = model.predict(features_test)\n",
    "accuracy = accuracy_score(target_test, predictions)\n",
    "print('accuracy =', accuracy)"
   ]
  },
  {
   "cell_type": "markdown",
   "metadata": {},
   "source": [
    "Модель показала хороший результат на тестовой выборке"
   ]
  },
  {
   "cell_type": "markdown",
   "metadata": {},
   "source": [
    "## Проверьте модели на адекватность"
   ]
  },
  {
   "cell_type": "code",
   "execution_count": 13,
   "metadata": {},
   "outputs": [
    {
     "name": "stdout",
     "output_type": "stream",
     "text": [
      "accuracy = 0.6842923794712286\n"
     ]
    }
   ],
   "source": [
    "#проверим модель на адекватность\n",
    "from sklearn.dummy import DummyClassifier\n",
    "dummy_model = DummyClassifier(strategy=\"most_frequent\", random_state=12345)\n",
    "dummy_model.fit(features_train, target_train)\n",
    "print('accuracy =', dummy_model.score(features_test, target_test))"
   ]
  },
  {
   "cell_type": "markdown",
   "metadata": {},
   "source": [
    "`accuracy` на тестовой выборке больше чем при проверке классификатором `DummyClassifier`, значит наша модель прошла проверка на адекватность"
   ]
  },
  {
   "cell_type": "markdown",
   "metadata": {},
   "source": [
    "# Общий вывод:"
   ]
  },
  {
   "cell_type": "markdown",
   "metadata": {},
   "source": [
    "1. Были изучены и скорректированы данные.\n",
    "\n",
    "2. Сделана разбивка на три выборки: обучающая, валидация и тестовая.\n",
    "\n",
    "3. Были рассмотрены три модели классификации (дерево решений, случайный лес и логическая регрессия), изменены гиперпараметры.\n",
    "\n",
    "4. Было выявлено, что наилучшей валидационной и тестовой моделью является случайный лес (80%), что выше, чем распределение тарифов в данных, то есть тестовая модель не предсказывает 0 или 1."
   ]
  }
 ],
 "metadata": {
  "ExecuteTimeLog": [
   {
    "duration": 49,
    "start_time": "2023-02-15T05:55:54.148Z"
   },
   {
    "duration": 527,
    "start_time": "2023-02-15T05:56:03.001Z"
   },
   {
    "duration": 22,
    "start_time": "2023-02-15T05:56:03.530Z"
   },
   {
    "duration": 23,
    "start_time": "2023-02-15T05:56:20.116Z"
   },
   {
    "duration": 37,
    "start_time": "2023-02-15T06:06:08.555Z"
   },
   {
    "duration": 858,
    "start_time": "2023-02-15T06:06:19.704Z"
   },
   {
    "duration": 28,
    "start_time": "2023-02-15T06:06:20.565Z"
   },
   {
    "duration": 50,
    "start_time": "2023-02-15T06:06:20.618Z"
   },
   {
    "duration": 14,
    "start_time": "2023-02-15T10:42:26.128Z"
   },
   {
    "duration": 18,
    "start_time": "2023-02-15T10:42:37.721Z"
   },
   {
    "duration": 65,
    "start_time": "2023-02-17T08:49:13.084Z"
   },
   {
    "duration": 1444,
    "start_time": "2023-02-17T08:49:15.319Z"
   },
   {
    "duration": 46,
    "start_time": "2023-02-17T08:49:16.766Z"
   },
   {
    "duration": 95,
    "start_time": "2023-02-17T08:49:16.814Z"
   },
   {
    "duration": 30,
    "start_time": "2023-02-17T10:00:12.061Z"
   },
   {
    "duration": 19,
    "start_time": "2023-02-17T10:00:12.318Z"
   },
   {
    "duration": 9,
    "start_time": "2023-02-17T10:00:12.966Z"
   },
   {
    "duration": 1147,
    "start_time": "2023-02-17T10:00:18.011Z"
   },
   {
    "duration": 26,
    "start_time": "2023-02-17T10:00:19.160Z"
   },
   {
    "duration": 101,
    "start_time": "2023-02-17T10:00:19.188Z"
   },
   {
    "duration": 5,
    "start_time": "2023-02-17T10:00:36.278Z"
   },
   {
    "duration": 1159,
    "start_time": "2023-02-17T10:01:01.931Z"
   },
   {
    "duration": 34,
    "start_time": "2023-02-17T10:01:03.092Z"
   },
   {
    "duration": 106,
    "start_time": "2023-02-17T10:01:03.128Z"
   },
   {
    "duration": 1221,
    "start_time": "2023-02-17T10:04:17.556Z"
   },
   {
    "duration": 28,
    "start_time": "2023-02-17T10:04:18.779Z"
   },
   {
    "duration": 100,
    "start_time": "2023-02-17T10:04:18.808Z"
   },
   {
    "duration": 7,
    "start_time": "2023-02-17T10:04:27.586Z"
   },
   {
    "duration": 10,
    "start_time": "2023-02-17T10:04:31.136Z"
   },
   {
    "duration": 1149,
    "start_time": "2023-02-17T10:04:35.291Z"
   },
   {
    "duration": 29,
    "start_time": "2023-02-17T10:04:36.442Z"
   },
   {
    "duration": 7,
    "start_time": "2023-02-17T10:04:36.473Z"
   },
   {
    "duration": 98,
    "start_time": "2023-02-17T13:58:54.202Z"
   },
   {
    "duration": 38,
    "start_time": "2023-02-17T14:00:11.312Z"
   },
   {
    "duration": 20,
    "start_time": "2023-02-17T14:00:11.659Z"
   },
   {
    "duration": 7,
    "start_time": "2023-02-17T14:00:12.466Z"
   },
   {
    "duration": 528,
    "start_time": "2023-02-17T14:00:13.346Z"
   },
   {
    "duration": 548,
    "start_time": "2023-02-17T14:02:10.726Z"
   },
   {
    "duration": 590,
    "start_time": "2023-02-17T14:02:16.705Z"
   },
   {
    "duration": 30,
    "start_time": "2023-02-17T14:17:26.405Z"
   },
   {
    "duration": 1212,
    "start_time": "2023-05-03T10:35:10.889Z"
   },
   {
    "duration": 30,
    "start_time": "2023-05-03T10:35:12.103Z"
   },
   {
    "duration": 8,
    "start_time": "2023-05-03T10:35:12.134Z"
   },
   {
    "duration": 130,
    "start_time": "2023-05-03T10:35:12.143Z"
   },
   {
    "duration": 16,
    "start_time": "2023-05-03T10:37:01.580Z"
   },
   {
    "duration": 17,
    "start_time": "2023-05-03T10:41:25.128Z"
   },
   {
    "duration": 18,
    "start_time": "2023-05-03T10:41:31.137Z"
   },
   {
    "duration": 1112,
    "start_time": "2023-05-03T10:41:36.191Z"
   },
   {
    "duration": 27,
    "start_time": "2023-05-03T10:41:37.306Z"
   },
   {
    "duration": 7,
    "start_time": "2023-05-03T10:41:37.335Z"
   },
   {
    "duration": 111,
    "start_time": "2023-05-03T10:41:37.345Z"
   },
   {
    "duration": 51,
    "start_time": "2023-05-03T10:42:53.253Z"
   },
   {
    "duration": 72,
    "start_time": "2023-05-03T10:43:16.559Z"
   },
   {
    "duration": 12,
    "start_time": "2023-05-03T10:43:32.462Z"
   },
   {
    "duration": 18,
    "start_time": "2023-05-03T10:43:51.758Z"
   },
   {
    "duration": 1162,
    "start_time": "2023-05-03T10:45:59.784Z"
   },
   {
    "duration": 27,
    "start_time": "2023-05-03T10:46:00.948Z"
   },
   {
    "duration": 38,
    "start_time": "2023-05-03T10:46:00.976Z"
   },
   {
    "duration": 161,
    "start_time": "2023-05-03T10:46:01.016Z"
   },
   {
    "duration": 27,
    "start_time": "2023-05-03T10:46:07.719Z"
   },
   {
    "duration": 1083,
    "start_time": "2023-05-03T10:46:11.930Z"
   },
   {
    "duration": 27,
    "start_time": "2023-05-03T10:46:13.015Z"
   },
   {
    "duration": 8,
    "start_time": "2023-05-03T10:46:13.044Z"
   },
   {
    "duration": 105,
    "start_time": "2023-05-03T10:46:13.054Z"
   },
   {
    "duration": 17,
    "start_time": "2023-05-03T10:47:59.835Z"
   },
   {
    "duration": 16,
    "start_time": "2023-05-03T10:51:34.195Z"
   },
   {
    "duration": 18,
    "start_time": "2023-05-03T10:51:36.453Z"
   },
   {
    "duration": 18,
    "start_time": "2023-05-03T10:55:25.432Z"
   },
   {
    "duration": 17,
    "start_time": "2023-05-03T10:56:45.811Z"
   },
   {
    "duration": 23,
    "start_time": "2023-05-03T11:06:53.974Z"
   },
   {
    "duration": 20,
    "start_time": "2023-05-03T11:09:00.658Z"
   },
   {
    "duration": 15,
    "start_time": "2023-05-03T11:09:22.788Z"
   },
   {
    "duration": 22,
    "start_time": "2023-05-03T11:14:09.798Z"
   },
   {
    "duration": 16,
    "start_time": "2023-05-03T11:14:53.257Z"
   },
   {
    "duration": 16,
    "start_time": "2023-05-03T11:15:11.008Z"
   },
   {
    "duration": 16,
    "start_time": "2023-05-03T11:15:13.297Z"
   },
   {
    "duration": 10,
    "start_time": "2023-05-03T11:16:27.784Z"
   },
   {
    "duration": 1199,
    "start_time": "2023-05-03T11:16:40.290Z"
   },
   {
    "duration": 41,
    "start_time": "2023-05-03T11:16:41.492Z"
   },
   {
    "duration": 118,
    "start_time": "2023-05-03T11:16:41.535Z"
   },
   {
    "duration": 0,
    "start_time": "2023-05-03T11:16:41.655Z"
   },
   {
    "duration": 9,
    "start_time": "2023-05-03T11:17:27.724Z"
   },
   {
    "duration": 9,
    "start_time": "2023-05-03T11:17:43.843Z"
   },
   {
    "duration": 9,
    "start_time": "2023-05-03T11:17:52.235Z"
   },
   {
    "duration": 10,
    "start_time": "2023-05-03T11:17:58.880Z"
   },
   {
    "duration": 9,
    "start_time": "2023-05-03T11:18:03.207Z"
   },
   {
    "duration": 6,
    "start_time": "2023-05-03T11:25:32.321Z"
   },
   {
    "duration": 22,
    "start_time": "2023-05-03T11:25:41.588Z"
   },
   {
    "duration": 25,
    "start_time": "2023-05-03T11:29:19.635Z"
   },
   {
    "duration": 7,
    "start_time": "2023-05-03T11:29:23.114Z"
   },
   {
    "duration": 17,
    "start_time": "2023-05-03T11:29:24.619Z"
   },
   {
    "duration": 1012,
    "start_time": "2023-05-03T11:29:48.325Z"
   },
   {
    "duration": 27,
    "start_time": "2023-05-03T11:29:49.339Z"
   },
   {
    "duration": 94,
    "start_time": "2023-05-03T11:29:49.368Z"
   },
   {
    "duration": 0,
    "start_time": "2023-05-03T11:29:49.464Z"
   },
   {
    "duration": 89,
    "start_time": "2023-05-03T11:30:04.734Z"
   },
   {
    "duration": 24,
    "start_time": "2023-05-03T11:30:04.915Z"
   },
   {
    "duration": 6,
    "start_time": "2023-05-03T11:30:05.322Z"
   },
   {
    "duration": 23,
    "start_time": "2023-05-03T11:30:05.648Z"
   },
   {
    "duration": 10,
    "start_time": "2023-05-03T11:32:22.614Z"
   },
   {
    "duration": 57,
    "start_time": "2023-05-03T11:35:00.618Z"
   },
   {
    "duration": 6,
    "start_time": "2023-05-03T11:35:05.418Z"
   },
   {
    "duration": 21,
    "start_time": "2023-05-03T11:35:07.615Z"
   },
   {
    "duration": 7,
    "start_time": "2023-05-03T11:43:00.330Z"
   },
   {
    "duration": 7,
    "start_time": "2023-05-03T11:43:58.256Z"
   },
   {
    "duration": 58189,
    "start_time": "2023-05-03T11:44:58.228Z"
   },
   {
    "duration": 5,
    "start_time": "2023-05-03T11:45:56.419Z"
   },
   {
    "duration": 113,
    "start_time": "2023-05-03T11:51:03.016Z"
   },
   {
    "duration": 137,
    "start_time": "2023-05-03T11:51:38.927Z"
   },
   {
    "duration": 225,
    "start_time": "2023-05-03T11:52:03.012Z"
   },
   {
    "duration": 117,
    "start_time": "2023-05-03T11:54:17.579Z"
   },
   {
    "duration": 224,
    "start_time": "2023-05-03T11:54:26.323Z"
   },
   {
    "duration": 237,
    "start_time": "2023-05-03T11:54:59.613Z"
   },
   {
    "duration": 257,
    "start_time": "2023-05-03T11:56:28.059Z"
   },
   {
    "duration": 236,
    "start_time": "2023-05-03T11:56:53.215Z"
   },
   {
    "duration": 331,
    "start_time": "2023-05-03T11:57:13.940Z"
   },
   {
    "duration": 221,
    "start_time": "2023-05-03T11:57:52.426Z"
   },
   {
    "duration": 227,
    "start_time": "2023-05-03T11:58:20.407Z"
   },
   {
    "duration": 219,
    "start_time": "2023-05-03T11:59:32.659Z"
   },
   {
    "duration": 207,
    "start_time": "2023-05-03T11:59:42.613Z"
   },
   {
    "duration": 240,
    "start_time": "2023-05-03T12:00:21.427Z"
   },
   {
    "duration": 229,
    "start_time": "2023-05-03T12:00:33.422Z"
   },
   {
    "duration": 111,
    "start_time": "2023-05-03T12:00:47.037Z"
   },
   {
    "duration": 1077,
    "start_time": "2023-05-03T12:00:52.019Z"
   },
   {
    "duration": 28,
    "start_time": "2023-05-03T12:00:53.097Z"
   },
   {
    "duration": 6,
    "start_time": "2023-05-03T12:00:53.127Z"
   },
   {
    "duration": 7,
    "start_time": "2023-05-03T12:00:53.135Z"
   },
   {
    "duration": 113,
    "start_time": "2023-05-03T12:00:53.143Z"
   },
   {
    "duration": 19,
    "start_time": "2023-05-03T12:01:04.144Z"
   },
   {
    "duration": 115,
    "start_time": "2023-05-03T12:22:20.910Z"
   },
   {
    "duration": 121,
    "start_time": "2023-05-03T12:22:54.577Z"
   },
   {
    "duration": 114,
    "start_time": "2023-05-03T12:23:36.836Z"
   },
   {
    "duration": 118,
    "start_time": "2023-05-03T12:24:13.715Z"
   },
   {
    "duration": 112,
    "start_time": "2023-05-03T12:24:35.519Z"
   },
   {
    "duration": 127,
    "start_time": "2023-05-03T12:24:37.516Z"
   },
   {
    "duration": 113,
    "start_time": "2023-05-03T12:26:28.503Z"
   },
   {
    "duration": 117,
    "start_time": "2023-05-03T12:26:29.856Z"
   },
   {
    "duration": 1196,
    "start_time": "2023-05-03T12:26:37.277Z"
   },
   {
    "duration": 31,
    "start_time": "2023-05-03T12:26:38.475Z"
   },
   {
    "duration": 6,
    "start_time": "2023-05-03T12:26:38.508Z"
   },
   {
    "duration": 7,
    "start_time": "2023-05-03T12:26:38.516Z"
   },
   {
    "duration": 135,
    "start_time": "2023-05-03T12:26:38.525Z"
   },
   {
    "duration": 122,
    "start_time": "2023-05-03T12:26:38.661Z"
   },
   {
    "duration": 52,
    "start_time": "2023-05-04T10:22:52.734Z"
   },
   {
    "duration": 1306,
    "start_time": "2023-05-04T10:23:00.536Z"
   },
   {
    "duration": 9,
    "start_time": "2023-05-04T10:23:03.908Z"
   },
   {
    "duration": 7,
    "start_time": "2023-05-04T10:23:05.835Z"
   },
   {
    "duration": 164,
    "start_time": "2023-05-04T10:23:06.241Z"
   },
   {
    "duration": 380,
    "start_time": "2023-05-04T10:23:09.934Z"
   },
   {
    "duration": 331,
    "start_time": "2023-05-04T10:24:30.028Z"
   },
   {
    "duration": 1257,
    "start_time": "2023-05-04T10:24:52.659Z"
   },
   {
    "duration": 36,
    "start_time": "2023-05-04T10:24:53.919Z"
   },
   {
    "duration": 8,
    "start_time": "2023-05-04T10:24:53.957Z"
   },
   {
    "duration": 18,
    "start_time": "2023-05-04T10:24:53.967Z"
   },
   {
    "duration": 170,
    "start_time": "2023-05-04T10:24:53.988Z"
   },
   {
    "duration": 305,
    "start_time": "2023-05-04T10:24:54.160Z"
   },
   {
    "duration": 296,
    "start_time": "2023-05-04T10:25:05.227Z"
   },
   {
    "duration": 616,
    "start_time": "2023-05-04T10:25:59.678Z"
   },
   {
    "duration": 591,
    "start_time": "2023-05-04T10:26:23.786Z"
   },
   {
    "duration": 586,
    "start_time": "2023-05-04T10:26:59.173Z"
   },
   {
    "duration": 127,
    "start_time": "2023-05-04T10:27:19.864Z"
   },
   {
    "duration": 593,
    "start_time": "2023-05-04T10:27:59.384Z"
   },
   {
    "duration": 2920,
    "start_time": "2023-05-04T10:28:17.091Z"
   },
   {
    "duration": 573,
    "start_time": "2023-05-04T10:28:40.909Z"
   },
   {
    "duration": 3398,
    "start_time": "2023-05-04T10:28:56.511Z"
   },
   {
    "duration": 585,
    "start_time": "2023-05-04T10:33:35.941Z"
   },
   {
    "duration": 6209,
    "start_time": "2023-05-04T10:34:14.586Z"
   },
   {
    "duration": 12618,
    "start_time": "2023-05-04T10:34:28.402Z"
   },
   {
    "duration": 27,
    "start_time": "2023-05-04T10:42:14.341Z"
   },
   {
    "duration": 129,
    "start_time": "2023-05-04T10:44:42.842Z"
   },
   {
    "duration": 40,
    "start_time": "2023-05-04T10:44:50.396Z"
   },
   {
    "duration": 45,
    "start_time": "2023-05-04T10:45:00.898Z"
   },
   {
    "duration": 28,
    "start_time": "2023-05-04T10:45:11.071Z"
   },
   {
    "duration": 27,
    "start_time": "2023-05-04T10:46:08.238Z"
   },
   {
    "duration": 29,
    "start_time": "2023-05-04T10:46:14.159Z"
   },
   {
    "duration": 1271,
    "start_time": "2023-05-04T10:46:19.616Z"
   },
   {
    "duration": 33,
    "start_time": "2023-05-04T10:46:20.889Z"
   },
   {
    "duration": 7,
    "start_time": "2023-05-04T10:46:20.924Z"
   },
   {
    "duration": 10,
    "start_time": "2023-05-04T10:46:20.934Z"
   },
   {
    "duration": 154,
    "start_time": "2023-05-04T10:46:20.947Z"
   },
   {
    "duration": 12688,
    "start_time": "2023-05-04T10:46:21.103Z"
   },
   {
    "duration": 29,
    "start_time": "2023-05-04T10:46:33.824Z"
   },
   {
    "duration": 28,
    "start_time": "2023-05-04T10:51:10.948Z"
   },
   {
    "duration": 121,
    "start_time": "2023-05-04T11:10:31.724Z"
   },
   {
    "duration": 5,
    "start_time": "2023-05-04T11:10:39.396Z"
   },
   {
    "duration": 43,
    "start_time": "2023-05-04T11:12:18.769Z"
   },
   {
    "duration": 12709,
    "start_time": "2023-05-04T11:15:53.642Z"
   },
   {
    "duration": 1158,
    "start_time": "2023-05-04T11:16:41.927Z"
   },
   {
    "duration": 31,
    "start_time": "2023-05-04T11:16:43.088Z"
   },
   {
    "duration": 6,
    "start_time": "2023-05-04T11:16:43.121Z"
   },
   {
    "duration": 9,
    "start_time": "2023-05-04T11:16:43.129Z"
   },
   {
    "duration": 145,
    "start_time": "2023-05-04T11:16:43.141Z"
   },
   {
    "duration": 3,
    "start_time": "2023-05-04T11:16:43.289Z"
   },
   {
    "duration": 12504,
    "start_time": "2023-05-04T11:16:43.293Z"
   },
   {
    "duration": 27,
    "start_time": "2023-05-04T11:16:55.799Z"
   },
   {
    "duration": 4,
    "start_time": "2023-05-04T11:16:55.828Z"
   },
   {
    "duration": 63,
    "start_time": "2023-05-04T11:16:55.833Z"
   },
   {
    "duration": 12370,
    "start_time": "2023-05-04T11:17:42.904Z"
   },
   {
    "duration": 43,
    "start_time": "2023-05-04T11:18:47.775Z"
   },
   {
    "duration": 87,
    "start_time": "2023-05-04T11:28:02.116Z"
   },
   {
    "duration": 130,
    "start_time": "2023-05-04T11:28:16.899Z"
   },
   {
    "duration": 6,
    "start_time": "2023-05-04T11:56:02.029Z"
   },
   {
    "duration": 42,
    "start_time": "2023-05-04T11:56:18.713Z"
   },
   {
    "duration": 6,
    "start_time": "2023-05-04T11:56:32.702Z"
   },
   {
    "duration": 7,
    "start_time": "2023-05-04T12:10:57.220Z"
   },
   {
    "duration": 3344,
    "start_time": "2023-05-04T12:25:52.394Z"
   },
   {
    "duration": 27,
    "start_time": "2023-05-04T12:25:55.740Z"
   },
   {
    "duration": 6,
    "start_time": "2023-05-04T12:25:55.768Z"
   },
   {
    "duration": 16,
    "start_time": "2023-05-04T12:25:55.775Z"
   },
   {
    "duration": 110,
    "start_time": "2023-05-04T12:25:55.793Z"
   },
   {
    "duration": 10893,
    "start_time": "2023-05-04T12:25:55.904Z"
   },
   {
    "duration": 22,
    "start_time": "2023-05-04T12:26:06.799Z"
   },
   {
    "duration": 21,
    "start_time": "2023-05-04T12:26:06.822Z"
   },
   {
    "duration": 61,
    "start_time": "2023-05-04T12:26:06.847Z"
   },
   {
    "duration": 1074,
    "start_time": "2023-05-04T13:28:46.713Z"
   },
   {
    "duration": 60,
    "start_time": "2023-05-04T13:28:47.789Z"
   },
   {
    "duration": 58,
    "start_time": "2023-05-04T13:36:49.685Z"
   },
   {
    "duration": 39,
    "start_time": "2023-05-04T13:36:53.521Z"
   },
   {
    "duration": 51,
    "start_time": "2023-05-04T13:37:20.354Z"
   },
   {
    "duration": 2,
    "start_time": "2023-05-04T14:08:58.159Z"
   },
   {
    "duration": 105,
    "start_time": "2023-05-04T14:08:58.661Z"
   },
   {
    "duration": 13,
    "start_time": "2023-05-04T14:09:11.614Z"
   },
   {
    "duration": 3,
    "start_time": "2023-05-04T14:09:18.236Z"
   },
   {
    "duration": 25,
    "start_time": "2023-05-04T14:09:18.491Z"
   },
   {
    "duration": 26,
    "start_time": "2023-05-04T14:09:19.044Z"
   },
   {
    "duration": 6,
    "start_time": "2023-05-04T14:09:19.764Z"
   },
   {
    "duration": 5,
    "start_time": "2023-05-04T14:09:20.561Z"
   },
   {
    "duration": 115,
    "start_time": "2023-05-04T14:09:20.771Z"
   },
   {
    "duration": 6918,
    "start_time": "2023-05-04T14:09:23.146Z"
   },
   {
    "duration": 5,
    "start_time": "2023-05-04T14:11:00.065Z"
   },
   {
    "duration": 7,
    "start_time": "2023-05-04T14:11:11.713Z"
   },
   {
    "duration": 6784,
    "start_time": "2023-05-04T14:11:20.286Z"
   },
   {
    "duration": 11481,
    "start_time": "2023-05-04T14:12:59.520Z"
   },
   {
    "duration": 6591,
    "start_time": "2023-05-04T14:13:24.723Z"
   },
   {
    "duration": 3,
    "start_time": "2023-05-04T14:19:59.576Z"
   },
   {
    "duration": 1105,
    "start_time": "2023-05-04T14:20:05.785Z"
   },
   {
    "duration": 25,
    "start_time": "2023-05-04T14:20:06.892Z"
   },
   {
    "duration": 29,
    "start_time": "2023-05-04T14:20:06.919Z"
   },
   {
    "duration": 7,
    "start_time": "2023-05-04T14:20:06.949Z"
   },
   {
    "duration": 6,
    "start_time": "2023-05-04T14:20:06.958Z"
   },
   {
    "duration": 123,
    "start_time": "2023-05-04T14:20:06.966Z"
   },
   {
    "duration": 6,
    "start_time": "2023-05-04T14:20:07.091Z"
   },
   {
    "duration": 23,
    "start_time": "2023-05-04T14:20:48.833Z"
   },
   {
    "duration": 4,
    "start_time": "2023-05-04T14:20:48.858Z"
   },
   {
    "duration": 55,
    "start_time": "2023-05-04T14:20:48.863Z"
   },
   {
    "duration": 6954,
    "start_time": "2023-05-04T14:20:48.920Z"
   },
   {
    "duration": 2,
    "start_time": "2023-05-04T14:20:55.884Z"
   },
   {
    "duration": 1032,
    "start_time": "2023-05-04T14:21:46.023Z"
   },
   {
    "duration": 24,
    "start_time": "2023-05-04T14:21:47.057Z"
   },
   {
    "duration": 30,
    "start_time": "2023-05-04T14:21:47.083Z"
   },
   {
    "duration": 16,
    "start_time": "2023-05-04T14:21:47.115Z"
   },
   {
    "duration": 14,
    "start_time": "2023-05-04T14:21:47.134Z"
   },
   {
    "duration": 141,
    "start_time": "2023-05-04T14:21:47.150Z"
   },
   {
    "duration": 2,
    "start_time": "2023-05-04T14:21:47.293Z"
   },
   {
    "duration": 27,
    "start_time": "2023-05-04T14:22:28.781Z"
   },
   {
    "duration": 4,
    "start_time": "2023-05-04T14:22:28.810Z"
   },
   {
    "duration": 43,
    "start_time": "2023-05-04T14:22:28.816Z"
   },
   {
    "duration": 41509,
    "start_time": "2023-05-04T14:22:28.861Z"
   },
   {
    "duration": 97,
    "start_time": "2023-05-04T14:24:02.993Z"
   },
   {
    "duration": 6,
    "start_time": "2023-05-04T14:30:27.053Z"
   },
   {
    "duration": 102,
    "start_time": "2023-05-04T14:34:07.438Z"
   },
   {
    "duration": 172,
    "start_time": "2023-05-04T14:34:26.131Z"
   },
   {
    "duration": 418,
    "start_time": "2023-05-04T14:34:30.296Z"
   },
   {
    "duration": 47,
    "start_time": "2023-05-04T14:34:37.972Z"
   },
   {
    "duration": 94,
    "start_time": "2023-05-04T14:34:43.428Z"
   },
   {
    "duration": 94906,
    "start_time": "2023-05-04T15:00:53.102Z"
   },
   {
    "duration": 103,
    "start_time": "2023-05-04T15:03:04.251Z"
   },
   {
    "duration": 11,
    "start_time": "2023-05-04T15:03:13.292Z"
   },
   {
    "duration": 100,
    "start_time": "2023-05-04T15:03:22.295Z"
   },
   {
    "duration": 11,
    "start_time": "2023-05-04T15:05:04.304Z"
   },
   {
    "duration": 116,
    "start_time": "2023-05-04T15:05:24.980Z"
   },
   {
    "duration": 6745,
    "start_time": "2023-05-04T15:05:55.657Z"
   },
   {
    "duration": 1115,
    "start_time": "2023-05-04T15:07:05.749Z"
   },
   {
    "duration": 26,
    "start_time": "2023-05-04T15:07:06.866Z"
   },
   {
    "duration": 28,
    "start_time": "2023-05-04T15:07:06.893Z"
   },
   {
    "duration": 7,
    "start_time": "2023-05-04T15:07:06.923Z"
   },
   {
    "duration": 12,
    "start_time": "2023-05-04T15:07:06.931Z"
   },
   {
    "duration": 126,
    "start_time": "2023-05-04T15:07:06.945Z"
   },
   {
    "duration": 2,
    "start_time": "2023-05-04T15:07:07.073Z"
   },
   {
    "duration": 6731,
    "start_time": "2023-05-04T15:07:07.085Z"
   },
   {
    "duration": 25,
    "start_time": "2023-05-04T15:07:13.818Z"
   },
   {
    "duration": 3,
    "start_time": "2023-05-04T15:07:13.845Z"
   },
   {
    "duration": 149,
    "start_time": "2023-05-04T15:07:13.850Z"
   },
   {
    "duration": 5,
    "start_time": "2023-05-04T15:07:14.002Z"
   },
   {
    "duration": 132,
    "start_time": "2023-05-04T15:07:35.373Z"
   },
   {
    "duration": 119,
    "start_time": "2023-05-04T15:08:28.937Z"
   },
   {
    "duration": 124,
    "start_time": "2023-05-04T15:08:57.501Z"
   },
   {
    "duration": 131,
    "start_time": "2023-05-04T15:10:45.428Z"
   },
   {
    "duration": 128,
    "start_time": "2023-05-04T15:10:50.537Z"
   },
   {
    "duration": 130,
    "start_time": "2023-05-04T15:11:29.519Z"
   },
   {
    "duration": 130,
    "start_time": "2023-05-04T15:11:40.232Z"
   },
   {
    "duration": 138,
    "start_time": "2023-05-04T15:12:36.020Z"
   },
   {
    "duration": 132,
    "start_time": "2023-05-04T15:12:50.564Z"
   },
   {
    "duration": 210,
    "start_time": "2023-05-04T15:14:03.944Z"
   },
   {
    "duration": 87,
    "start_time": "2023-05-04T15:15:36.429Z"
   },
   {
    "duration": 108,
    "start_time": "2023-05-04T15:17:01.020Z"
   },
   {
    "duration": 135,
    "start_time": "2023-05-04T15:17:44.807Z"
   },
   {
    "duration": 118,
    "start_time": "2023-05-04T15:17:54.781Z"
   },
   {
    "duration": 53,
    "start_time": "2023-05-04T15:18:56.585Z"
   },
   {
    "duration": 9,
    "start_time": "2023-05-04T15:23:14.573Z"
   },
   {
    "duration": 9,
    "start_time": "2023-05-04T15:23:16.316Z"
   },
   {
    "duration": 10,
    "start_time": "2023-05-04T15:23:25.131Z"
   },
   {
    "duration": 9,
    "start_time": "2023-05-04T15:23:30.158Z"
   },
   {
    "duration": 8,
    "start_time": "2023-05-04T15:23:33.185Z"
   },
   {
    "duration": 10,
    "start_time": "2023-05-04T15:23:35.957Z"
   },
   {
    "duration": 10,
    "start_time": "2023-05-04T15:23:40.017Z"
   },
   {
    "duration": 8,
    "start_time": "2023-05-04T15:23:51.278Z"
   },
   {
    "duration": 12,
    "start_time": "2023-05-04T15:24:31.123Z"
   },
   {
    "duration": 10,
    "start_time": "2023-05-04T15:24:47.221Z"
   },
   {
    "duration": 12,
    "start_time": "2023-05-04T15:25:14.139Z"
   },
   {
    "duration": 9,
    "start_time": "2023-05-04T15:25:36.167Z"
   },
   {
    "duration": 8,
    "start_time": "2023-05-04T15:25:39.480Z"
   },
   {
    "duration": 7,
    "start_time": "2023-05-04T15:25:45.989Z"
   },
   {
    "duration": 11,
    "start_time": "2023-05-04T15:25:56.789Z"
   },
   {
    "duration": 48,
    "start_time": "2023-05-05T05:29:52.192Z"
   },
   {
    "duration": 1101,
    "start_time": "2023-05-05T05:29:59.622Z"
   },
   {
    "duration": 69,
    "start_time": "2023-05-05T05:30:00.726Z"
   },
   {
    "duration": 57,
    "start_time": "2023-05-05T05:30:00.797Z"
   },
   {
    "duration": 40,
    "start_time": "2023-05-05T05:30:00.856Z"
   },
   {
    "duration": 32,
    "start_time": "2023-05-05T05:30:00.899Z"
   },
   {
    "duration": 193,
    "start_time": "2023-05-05T05:30:00.934Z"
   },
   {
    "duration": 7320,
    "start_time": "2023-05-05T05:30:01.129Z"
   },
   {
    "duration": 44,
    "start_time": "2023-05-05T05:30:08.450Z"
   },
   {
    "duration": 4,
    "start_time": "2023-05-05T05:30:08.496Z"
   },
   {
    "duration": 114,
    "start_time": "2023-05-05T05:30:08.501Z"
   },
   {
    "duration": 5,
    "start_time": "2023-05-05T05:30:08.616Z"
   },
   {
    "duration": 75093,
    "start_time": "2023-05-05T05:32:49.301Z"
   },
   {
    "duration": 115,
    "start_time": "2023-05-05T05:34:33.502Z"
   },
   {
    "duration": 75618,
    "start_time": "2023-05-05T05:34:35.436Z"
   },
   {
    "duration": 106,
    "start_time": "2023-05-05T05:41:14.908Z"
   },
   {
    "duration": 147,
    "start_time": "2023-05-05T05:42:10.436Z"
   },
   {
    "duration": 155,
    "start_time": "2023-05-05T05:42:24.635Z"
   },
   {
    "duration": 4,
    "start_time": "2023-05-05T05:44:08.244Z"
   },
   {
    "duration": 150,
    "start_time": "2023-05-05T05:44:08.602Z"
   }
  ],
  "kernelspec": {
   "display_name": "Python 3 (ipykernel)",
   "language": "python",
   "name": "python3"
  },
  "language_info": {
   "codemirror_mode": {
    "name": "ipython",
    "version": 3
   },
   "file_extension": ".py",
   "mimetype": "text/x-python",
   "name": "python",
   "nbconvert_exporter": "python",
   "pygments_lexer": "ipython3",
   "version": "3.11.4"
  },
  "toc": {
   "base_numbering": 1,
   "nav_menu": {},
   "number_sections": true,
   "sideBar": true,
   "skip_h1_title": true,
   "title_cell": "Table of Contents",
   "title_sidebar": "Contents",
   "toc_cell": false,
   "toc_position": {},
   "toc_section_display": true,
   "toc_window_display": false
  }
 },
 "nbformat": 4,
 "nbformat_minor": 2
}
