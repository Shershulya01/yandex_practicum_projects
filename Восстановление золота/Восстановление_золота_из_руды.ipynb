{
 "cells": [
  {
   "cell_type": "markdown",
   "metadata": {
    "toc": true
   },
   "source": [
    "<h1>Содержание<span class=\"tocSkip\"></span></h1>\n",
    "<div class=\"toc\"><ul class=\"toc-item\"><li><span><a href=\"#Подготовка-данных\" data-toc-modified-id=\"Подготовка-данных-1\"><span class=\"toc-item-num\">1&nbsp;&nbsp;</span>Подготовка данных</a></span></li><li><span><a href=\"#Анализ-данных\" data-toc-modified-id=\"Анализ-данных-2\"><span class=\"toc-item-num\">2&nbsp;&nbsp;</span>Анализ данных</a></span></li><li><span><a href=\"#Модель\" data-toc-modified-id=\"Модель-3\"><span class=\"toc-item-num\">3&nbsp;&nbsp;</span>Модель"
   ]
  },
  {
   "cell_type": "markdown",
   "metadata": {},
   "source": [
    "# Восстановление золота из руды"
   ]
  },
  {
   "cell_type": "markdown",
   "metadata": {},
   "source": [
    "Подготовьте прототип модели машинного обучения для «Цифры». Компания разрабатывает решения для эффективной работы промышленных предприятий.\n",
    "\n",
    "Модель должна предсказать коэффициент восстановления золота из золотосодержащей руды. Используйте данные с параметрами добычи и очистки. \n",
    "\n",
    "Модель поможет оптимизировать производство, чтобы не запускать предприятие с убыточными характеристиками.\n",
    "\n",
    "Вам нужно:\n",
    "\n",
    "1. Подготовить данные;\n",
    "2. Провести исследовательский анализ данных;\n",
    "3. Построить и обучить модель.\n",
    "\n",
    "Чтобы выполнить проект, обращайтесь к библиотекам *pandas*, *matplotlib* и *sklearn.* Вам поможет их документация."
   ]
  },
  {
   "cell_type": "markdown",
   "metadata": {},
   "source": [
    "## Подготовка данных"
   ]
  },
  {
   "cell_type": "code",
   "execution_count": 1,
   "metadata": {},
   "outputs": [],
   "source": [
    "import pandas as pd\n",
    "import numpy as np\n",
    "from scipy import stats as st \n",
    "import matplotlib.pyplot as plt\n",
    "import seaborn as sns\n",
    "from sklearn.tree import DecisionTreeRegressor\n",
    "from sklearn.ensemble import RandomForestRegressor\n",
    "from sklearn.linear_model import LinearRegression\n",
    "from sklearn.model_selection import train_test_split\n",
    "from sklearn.preprocessing import StandardScaler\n",
    "from sklearn.metrics import mean_absolute_error, make_scorer\n",
    "from sklearn.model_selection import cross_val_score\n",
    "from sklearn.dummy import DummyRegressor\n",
    "from tqdm import tqdm\n",
    "\n",
    "import warnings\n",
    "warnings.simplefilter(action='ignore', category=FutureWarning)\n",
    "warnings.filterwarnings(\"ignore\")"
   ]
  },
  {
   "cell_type": "code",
   "execution_count": 2,
   "metadata": {},
   "outputs": [],
   "source": [
    "data_train = pd.read_csv('https://code.s3.yandex.net/datasets/gold_industry_train.csv')\n",
    "data_test = pd.read_csv('https://code.s3.yandex.net/datasets/gold_industry_test.csv')\n",
    "data_full = pd.read_csv('https://code.s3.yandex.net/datasets/gold_industry_full.csv')"
   ]
  },
  {
   "cell_type": "code",
   "execution_count": 3,
   "metadata": {
    "scrolled": true
   },
   "outputs": [
    {
     "name": "stdout",
     "output_type": "stream",
     "text": [
      "<class 'pandas.core.frame.DataFrame'>\n",
      "RangeIndex: 14579 entries, 0 to 14578\n",
      "Data columns (total 87 columns):\n",
      " #   Column                                              Non-Null Count  Dtype  \n",
      "---  ------                                              --------------  -----  \n",
      " 0   date                                                14579 non-null  object \n",
      " 1   rougher.input.feed_au                               14579 non-null  float64\n",
      " 2   rougher.input.feed_ag                               14579 non-null  float64\n",
      " 3   rougher.input.feed_pb                               14507 non-null  float64\n",
      " 4   rougher.input.feed_sol                              14502 non-null  float64\n",
      " 5   rougher.input.feed_rate                             14572 non-null  float64\n",
      " 6   rougher.input.feed_size                             14478 non-null  float64\n",
      " 7   rougher.input.floatbank10_sulfate                   14548 non-null  float64\n",
      " 8   rougher.input.floatbank10_xanthate                  14572 non-null  float64\n",
      " 9   rougher.state.floatbank10_a_air                     14579 non-null  float64\n",
      " 10  rougher.state.floatbank10_a_level                   14579 non-null  float64\n",
      " 11  rougher.state.floatbank10_b_air                     14579 non-null  float64\n",
      " 12  rougher.state.floatbank10_b_level                   14579 non-null  float64\n",
      " 13  rougher.state.floatbank10_c_air                     14579 non-null  float64\n",
      " 14  rougher.state.floatbank10_c_level                   14579 non-null  float64\n",
      " 15  rougher.state.floatbank10_d_air                     14579 non-null  float64\n",
      " 16  rougher.state.floatbank10_d_level                   14579 non-null  float64\n",
      " 17  rougher.state.floatbank10_e_air                     14150 non-null  float64\n",
      " 18  rougher.state.floatbank10_e_level                   14579 non-null  float64\n",
      " 19  rougher.state.floatbank10_f_air                     14579 non-null  float64\n",
      " 20  rougher.state.floatbank10_f_level                   14579 non-null  float64\n",
      " 21  rougher.input.floatbank11_sulfate                   14543 non-null  float64\n",
      " 22  rougher.input.floatbank11_xanthate                  14172 non-null  float64\n",
      " 23  rougher.calculation.sulfate_to_au_concentrate       14578 non-null  float64\n",
      " 24  rougher.calculation.floatbank10_sulfate_to_au_feed  14578 non-null  float64\n",
      " 25  rougher.calculation.floatbank11_sulfate_to_au_feed  14578 non-null  float64\n",
      " 26  rougher.calculation.au_pb_ratio                     14579 non-null  float64\n",
      " 27  rougher.output.concentrate_au                       14579 non-null  float64\n",
      " 28  rougher.output.concentrate_ag                       14579 non-null  float64\n",
      " 29  rougher.output.concentrate_pb                       14579 non-null  float64\n",
      " 30  rougher.output.concentrate_sol                      14561 non-null  float64\n",
      " 31  rougher.output.recovery                             14579 non-null  float64\n",
      " 32  rougher.output.tail_au                              14579 non-null  float64\n",
      " 33  rougher.output.tail_ag                              14578 non-null  float64\n",
      " 34  rougher.output.tail_pb                              14579 non-null  float64\n",
      " 35  rougher.output.tail_sol                             14579 non-null  float64\n",
      " 36  primary_cleaner.input.sulfate                       14556 non-null  float64\n",
      " 37  primary_cleaner.input.depressant                    14551 non-null  float64\n",
      " 38  primary_cleaner.input.feed_size                     14579 non-null  float64\n",
      " 39  primary_cleaner.input.xanthate                      14518 non-null  float64\n",
      " 40  primary_cleaner.state.floatbank8_a_air              14576 non-null  float64\n",
      " 41  primary_cleaner.state.floatbank8_a_level            14579 non-null  float64\n",
      " 42  primary_cleaner.state.floatbank8_b_air              14576 non-null  float64\n",
      " 43  primary_cleaner.state.floatbank8_b_level            14579 non-null  float64\n",
      " 44  primary_cleaner.state.floatbank8_c_air              14579 non-null  float64\n",
      " 45  primary_cleaner.state.floatbank8_c_level            14579 non-null  float64\n",
      " 46  primary_cleaner.state.floatbank8_d_air              14578 non-null  float64\n",
      " 47  primary_cleaner.state.floatbank8_d_level            14579 non-null  float64\n",
      " 48  primary_cleaner.output.concentrate_au               14579 non-null  float64\n",
      " 49  primary_cleaner.output.concentrate_ag               14579 non-null  float64\n",
      " 50  primary_cleaner.output.concentrate_pb               14491 non-null  float64\n",
      " 51  primary_cleaner.output.concentrate_sol              14314 non-null  float64\n",
      " 52  primary_cleaner.output.tail_au                      14579 non-null  float64\n",
      " 53  primary_cleaner.output.tail_ag                      14575 non-null  float64\n",
      " 54  primary_cleaner.output.tail_pb                      14573 non-null  float64\n",
      " 55  primary_cleaner.output.tail_sol                     14534 non-null  float64\n",
      " 56  secondary_cleaner.state.floatbank2_a_air            14485 non-null  float64\n",
      " 57  secondary_cleaner.state.floatbank2_a_level          14579 non-null  float64\n",
      " 58  secondary_cleaner.state.floatbank2_b_air            14557 non-null  float64\n",
      " 59  secondary_cleaner.state.floatbank2_b_level          14579 non-null  float64\n",
      " 60  secondary_cleaner.state.floatbank3_a_air            14567 non-null  float64\n",
      " 61  secondary_cleaner.state.floatbank3_a_level          14579 non-null  float64\n",
      " 62  secondary_cleaner.state.floatbank3_b_air            14579 non-null  float64\n",
      " 63  secondary_cleaner.state.floatbank3_b_level          14579 non-null  float64\n",
      " 64  secondary_cleaner.state.floatbank4_a_air            14574 non-null  float64\n",
      " 65  secondary_cleaner.state.floatbank4_a_level          14579 non-null  float64\n",
      " 66  secondary_cleaner.state.floatbank4_b_air            14579 non-null  float64\n",
      " 67  secondary_cleaner.state.floatbank4_b_level          14579 non-null  float64\n",
      " 68  secondary_cleaner.state.floatbank5_a_air            14579 non-null  float64\n",
      " 69  secondary_cleaner.state.floatbank5_a_level          14579 non-null  float64\n",
      " 70  secondary_cleaner.state.floatbank5_b_air            14579 non-null  float64\n",
      " 71  secondary_cleaner.state.floatbank5_b_level          14579 non-null  float64\n",
      " 72  secondary_cleaner.state.floatbank6_a_air            14578 non-null  float64\n",
      " 73  secondary_cleaner.state.floatbank6_a_level          14579 non-null  float64\n",
      " 74  secondary_cleaner.output.tail_au                    14579 non-null  float64\n",
      " 75  secondary_cleaner.output.tail_ag                    14578 non-null  float64\n",
      " 76  secondary_cleaner.output.tail_pb                    14575 non-null  float64\n",
      " 77  secondary_cleaner.output.tail_sol                   13659 non-null  float64\n",
      " 78  final.output.concentrate_au                         14579 non-null  float64\n",
      " 79  final.output.concentrate_ag                         14578 non-null  float64\n",
      " 80  final.output.concentrate_pb                         14578 non-null  float64\n",
      " 81  final.output.concentrate_sol                        14387 non-null  float64\n",
      " 82  final.output.recovery                               14579 non-null  float64\n",
      " 83  final.output.tail_au                                14579 non-null  float64\n",
      " 84  final.output.tail_ag                                14578 non-null  float64\n",
      " 85  final.output.tail_pb                                14504 non-null  float64\n",
      " 86  final.output.tail_sol                               14574 non-null  float64\n",
      "dtypes: float64(86), object(1)\n",
      "memory usage: 9.7+ MB\n"
     ]
    },
    {
     "data": {
      "text/plain": [
       "None"
      ]
     },
     "metadata": {},
     "output_type": "display_data"
    }
   ],
   "source": [
    "display(data_train.info())"
   ]
  },
  {
   "cell_type": "code",
   "execution_count": 4,
   "metadata": {
    "scrolled": true
   },
   "outputs": [
    {
     "name": "stdout",
     "output_type": "stream",
     "text": [
      "<class 'pandas.core.frame.DataFrame'>\n",
      "RangeIndex: 4860 entries, 0 to 4859\n",
      "Data columns (total 53 columns):\n",
      " #   Column                                      Non-Null Count  Dtype  \n",
      "---  ------                                      --------------  -----  \n",
      " 0   date                                        4860 non-null   object \n",
      " 1   rougher.input.feed_au                       4860 non-null   float64\n",
      " 2   rougher.input.feed_ag                       4860 non-null   float64\n",
      " 3   rougher.input.feed_pb                       4832 non-null   float64\n",
      " 4   rougher.input.feed_sol                      4838 non-null   float64\n",
      " 5   rougher.input.feed_rate                     4856 non-null   float64\n",
      " 6   rougher.input.feed_size                     4816 non-null   float64\n",
      " 7   rougher.input.floatbank10_sulfate           4857 non-null   float64\n",
      " 8   rougher.input.floatbank10_xanthate          4859 non-null   float64\n",
      " 9   rougher.state.floatbank10_a_air             4859 non-null   float64\n",
      " 10  rougher.state.floatbank10_a_level           4859 non-null   float64\n",
      " 11  rougher.state.floatbank10_b_air             4859 non-null   float64\n",
      " 12  rougher.state.floatbank10_b_level           4859 non-null   float64\n",
      " 13  rougher.state.floatbank10_c_air             4859 non-null   float64\n",
      " 14  rougher.state.floatbank10_c_level           4859 non-null   float64\n",
      " 15  rougher.state.floatbank10_d_air             4860 non-null   float64\n",
      " 16  rougher.state.floatbank10_d_level           4860 non-null   float64\n",
      " 17  rougher.state.floatbank10_e_air             4853 non-null   float64\n",
      " 18  rougher.state.floatbank10_e_level           4860 non-null   float64\n",
      " 19  rougher.state.floatbank10_f_air             4860 non-null   float64\n",
      " 20  rougher.state.floatbank10_f_level           4860 non-null   float64\n",
      " 21  rougher.input.floatbank11_sulfate           4852 non-null   float64\n",
      " 22  rougher.input.floatbank11_xanthate          4814 non-null   float64\n",
      " 23  primary_cleaner.input.sulfate               4859 non-null   float64\n",
      " 24  primary_cleaner.input.depressant            4851 non-null   float64\n",
      " 25  primary_cleaner.input.feed_size             4860 non-null   float64\n",
      " 26  primary_cleaner.input.xanthate              4817 non-null   float64\n",
      " 27  primary_cleaner.state.floatbank8_a_air      4859 non-null   float64\n",
      " 28  primary_cleaner.state.floatbank8_a_level    4859 non-null   float64\n",
      " 29  primary_cleaner.state.floatbank8_b_air      4859 non-null   float64\n",
      " 30  primary_cleaner.state.floatbank8_b_level    4859 non-null   float64\n",
      " 31  primary_cleaner.state.floatbank8_c_air      4858 non-null   float64\n",
      " 32  primary_cleaner.state.floatbank8_c_level    4859 non-null   float64\n",
      " 33  primary_cleaner.state.floatbank8_d_air      4858 non-null   float64\n",
      " 34  primary_cleaner.state.floatbank8_d_level    4859 non-null   float64\n",
      " 35  secondary_cleaner.state.floatbank2_a_air    4734 non-null   float64\n",
      " 36  secondary_cleaner.state.floatbank2_a_level  4859 non-null   float64\n",
      " 37  secondary_cleaner.state.floatbank2_b_air    4859 non-null   float64\n",
      " 38  secondary_cleaner.state.floatbank2_b_level  4859 non-null   float64\n",
      " 39  secondary_cleaner.state.floatbank3_a_air    4859 non-null   float64\n",
      " 40  secondary_cleaner.state.floatbank3_a_level  4859 non-null   float64\n",
      " 41  secondary_cleaner.state.floatbank3_b_air    4859 non-null   float64\n",
      " 42  secondary_cleaner.state.floatbank3_b_level  4859 non-null   float64\n",
      " 43  secondary_cleaner.state.floatbank4_a_air    4859 non-null   float64\n",
      " 44  secondary_cleaner.state.floatbank4_a_level  4859 non-null   float64\n",
      " 45  secondary_cleaner.state.floatbank4_b_air    4859 non-null   float64\n",
      " 46  secondary_cleaner.state.floatbank4_b_level  4859 non-null   float64\n",
      " 47  secondary_cleaner.state.floatbank5_a_air    4859 non-null   float64\n",
      " 48  secondary_cleaner.state.floatbank5_a_level  4859 non-null   float64\n",
      " 49  secondary_cleaner.state.floatbank5_b_air    4859 non-null   float64\n",
      " 50  secondary_cleaner.state.floatbank5_b_level  4859 non-null   float64\n",
      " 51  secondary_cleaner.state.floatbank6_a_air    4859 non-null   float64\n",
      " 52  secondary_cleaner.state.floatbank6_a_level  4859 non-null   float64\n",
      "dtypes: float64(52), object(1)\n",
      "memory usage: 2.0+ MB\n"
     ]
    },
    {
     "data": {
      "text/plain": [
       "None"
      ]
     },
     "metadata": {},
     "output_type": "display_data"
    }
   ],
   "source": [
    "display(data_test.info())"
   ]
  },
  {
   "cell_type": "code",
   "execution_count": 5,
   "metadata": {
    "scrolled": true
   },
   "outputs": [
    {
     "name": "stdout",
     "output_type": "stream",
     "text": [
      "<class 'pandas.core.frame.DataFrame'>\n",
      "RangeIndex: 19439 entries, 0 to 19438\n",
      "Data columns (total 87 columns):\n",
      " #   Column                                              Non-Null Count  Dtype  \n",
      "---  ------                                              --------------  -----  \n",
      " 0   date                                                19439 non-null  object \n",
      " 1   rougher.input.feed_au                               19439 non-null  float64\n",
      " 2   rougher.input.feed_ag                               19439 non-null  float64\n",
      " 3   rougher.input.feed_pb                               19339 non-null  float64\n",
      " 4   rougher.input.feed_sol                              19340 non-null  float64\n",
      " 5   rougher.input.feed_rate                             19428 non-null  float64\n",
      " 6   rougher.input.feed_size                             19294 non-null  float64\n",
      " 7   rougher.input.floatbank10_sulfate                   19405 non-null  float64\n",
      " 8   rougher.input.floatbank10_xanthate                  19431 non-null  float64\n",
      " 9   rougher.state.floatbank10_a_air                     19438 non-null  float64\n",
      " 10  rougher.state.floatbank10_a_level                   19438 non-null  float64\n",
      " 11  rougher.state.floatbank10_b_air                     19438 non-null  float64\n",
      " 12  rougher.state.floatbank10_b_level                   19438 non-null  float64\n",
      " 13  rougher.state.floatbank10_c_air                     19438 non-null  float64\n",
      " 14  rougher.state.floatbank10_c_level                   19438 non-null  float64\n",
      " 15  rougher.state.floatbank10_d_air                     19439 non-null  float64\n",
      " 16  rougher.state.floatbank10_d_level                   19439 non-null  float64\n",
      " 17  rougher.state.floatbank10_e_air                     19003 non-null  float64\n",
      " 18  rougher.state.floatbank10_e_level                   19439 non-null  float64\n",
      " 19  rougher.state.floatbank10_f_air                     19439 non-null  float64\n",
      " 20  rougher.state.floatbank10_f_level                   19439 non-null  float64\n",
      " 21  rougher.input.floatbank11_sulfate                   19395 non-null  float64\n",
      " 22  rougher.input.floatbank11_xanthate                  18986 non-null  float64\n",
      " 23  rougher.calculation.sulfate_to_au_concentrate       19437 non-null  float64\n",
      " 24  rougher.calculation.floatbank10_sulfate_to_au_feed  19437 non-null  float64\n",
      " 25  rougher.calculation.floatbank11_sulfate_to_au_feed  19437 non-null  float64\n",
      " 26  rougher.calculation.au_pb_ratio                     19439 non-null  float64\n",
      " 27  rougher.output.concentrate_au                       19439 non-null  float64\n",
      " 28  rougher.output.concentrate_ag                       19439 non-null  float64\n",
      " 29  rougher.output.concentrate_pb                       19439 non-null  float64\n",
      " 30  rougher.output.concentrate_sol                      19416 non-null  float64\n",
      " 31  rougher.output.recovery                             19439 non-null  float64\n",
      " 32  rougher.output.tail_au                              19439 non-null  float64\n",
      " 33  rougher.output.tail_ag                              19438 non-null  float64\n",
      " 34  rougher.output.tail_pb                              19439 non-null  float64\n",
      " 35  rougher.output.tail_sol                             19439 non-null  float64\n",
      " 36  primary_cleaner.input.sulfate                       19415 non-null  float64\n",
      " 37  primary_cleaner.input.depressant                    19402 non-null  float64\n",
      " 38  primary_cleaner.input.feed_size                     19439 non-null  float64\n",
      " 39  primary_cleaner.input.xanthate                      19335 non-null  float64\n",
      " 40  primary_cleaner.state.floatbank8_a_air              19435 non-null  float64\n",
      " 41  primary_cleaner.state.floatbank8_a_level            19438 non-null  float64\n",
      " 42  primary_cleaner.state.floatbank8_b_air              19435 non-null  float64\n",
      " 43  primary_cleaner.state.floatbank8_b_level            19438 non-null  float64\n",
      " 44  primary_cleaner.state.floatbank8_c_air              19437 non-null  float64\n",
      " 45  primary_cleaner.state.floatbank8_c_level            19438 non-null  float64\n",
      " 46  primary_cleaner.state.floatbank8_d_air              19436 non-null  float64\n",
      " 47  primary_cleaner.state.floatbank8_d_level            19438 non-null  float64\n",
      " 48  primary_cleaner.output.concentrate_au               19439 non-null  float64\n",
      " 49  primary_cleaner.output.concentrate_ag               19439 non-null  float64\n",
      " 50  primary_cleaner.output.concentrate_pb               19323 non-null  float64\n",
      " 51  primary_cleaner.output.concentrate_sol              19069 non-null  float64\n",
      " 52  primary_cleaner.output.tail_au                      19439 non-null  float64\n",
      " 53  primary_cleaner.output.tail_ag                      19435 non-null  float64\n",
      " 54  primary_cleaner.output.tail_pb                      19418 non-null  float64\n",
      " 55  primary_cleaner.output.tail_sol                     19377 non-null  float64\n",
      " 56  secondary_cleaner.state.floatbank2_a_air            19219 non-null  float64\n",
      " 57  secondary_cleaner.state.floatbank2_a_level          19438 non-null  float64\n",
      " 58  secondary_cleaner.state.floatbank2_b_air            19416 non-null  float64\n",
      " 59  secondary_cleaner.state.floatbank2_b_level          19438 non-null  float64\n",
      " 60  secondary_cleaner.state.floatbank3_a_air            19426 non-null  float64\n",
      " 61  secondary_cleaner.state.floatbank3_a_level          19438 non-null  float64\n",
      " 62  secondary_cleaner.state.floatbank3_b_air            19438 non-null  float64\n",
      " 63  secondary_cleaner.state.floatbank3_b_level          19438 non-null  float64\n",
      " 64  secondary_cleaner.state.floatbank4_a_air            19433 non-null  float64\n",
      " 65  secondary_cleaner.state.floatbank4_a_level          19438 non-null  float64\n",
      " 66  secondary_cleaner.state.floatbank4_b_air            19438 non-null  float64\n",
      " 67  secondary_cleaner.state.floatbank4_b_level          19438 non-null  float64\n",
      " 68  secondary_cleaner.state.floatbank5_a_air            19438 non-null  float64\n",
      " 69  secondary_cleaner.state.floatbank5_a_level          19438 non-null  float64\n",
      " 70  secondary_cleaner.state.floatbank5_b_air            19438 non-null  float64\n",
      " 71  secondary_cleaner.state.floatbank5_b_level          19438 non-null  float64\n",
      " 72  secondary_cleaner.state.floatbank6_a_air            19437 non-null  float64\n",
      " 73  secondary_cleaner.state.floatbank6_a_level          19438 non-null  float64\n",
      " 74  secondary_cleaner.output.tail_au                    19439 non-null  float64\n",
      " 75  secondary_cleaner.output.tail_ag                    19437 non-null  float64\n",
      " 76  secondary_cleaner.output.tail_pb                    19427 non-null  float64\n",
      " 77  secondary_cleaner.output.tail_sol                   17691 non-null  float64\n",
      " 78  final.output.concentrate_au                         19439 non-null  float64\n",
      " 79  final.output.concentrate_ag                         19438 non-null  float64\n",
      " 80  final.output.concentrate_pb                         19438 non-null  float64\n",
      " 81  final.output.concentrate_sol                        19228 non-null  float64\n",
      " 82  final.output.recovery                               19439 non-null  float64\n",
      " 83  final.output.tail_au                                19439 non-null  float64\n",
      " 84  final.output.tail_ag                                19438 non-null  float64\n",
      " 85  final.output.tail_pb                                19338 non-null  float64\n",
      " 86  final.output.tail_sol                               19433 non-null  float64\n",
      "dtypes: float64(86), object(1)\n",
      "memory usage: 12.9+ MB\n"
     ]
    },
    {
     "data": {
      "text/plain": [
       "None"
      ]
     },
     "metadata": {},
     "output_type": "display_data"
    }
   ],
   "source": [
    "display(data_full.info())"
   ]
  },
  {
   "cell_type": "code",
   "execution_count": 6,
   "metadata": {
    "scrolled": true
   },
   "outputs": [
    {
     "data": {
      "text/html": [
       "<div>\n",
       "<style scoped>\n",
       "    .dataframe tbody tr th:only-of-type {\n",
       "        vertical-align: middle;\n",
       "    }\n",
       "\n",
       "    .dataframe tbody tr th {\n",
       "        vertical-align: top;\n",
       "    }\n",
       "\n",
       "    .dataframe thead th {\n",
       "        text-align: right;\n",
       "    }\n",
       "</style>\n",
       "<table border=\"1\" class=\"dataframe\">\n",
       "  <thead>\n",
       "    <tr style=\"text-align: right;\">\n",
       "      <th></th>\n",
       "      <th>date</th>\n",
       "      <th>rougher.input.feed_au</th>\n",
       "      <th>rougher.input.feed_ag</th>\n",
       "      <th>rougher.input.feed_pb</th>\n",
       "      <th>rougher.input.feed_sol</th>\n",
       "      <th>rougher.input.feed_rate</th>\n",
       "      <th>rougher.input.feed_size</th>\n",
       "      <th>rougher.input.floatbank10_sulfate</th>\n",
       "      <th>rougher.input.floatbank10_xanthate</th>\n",
       "      <th>rougher.state.floatbank10_a_air</th>\n",
       "      <th>...</th>\n",
       "      <th>secondary_cleaner.output.tail_sol</th>\n",
       "      <th>final.output.concentrate_au</th>\n",
       "      <th>final.output.concentrate_ag</th>\n",
       "      <th>final.output.concentrate_pb</th>\n",
       "      <th>final.output.concentrate_sol</th>\n",
       "      <th>final.output.recovery</th>\n",
       "      <th>final.output.tail_au</th>\n",
       "      <th>final.output.tail_ag</th>\n",
       "      <th>final.output.tail_pb</th>\n",
       "      <th>final.output.tail_sol</th>\n",
       "    </tr>\n",
       "  </thead>\n",
       "  <tbody>\n",
       "    <tr>\n",
       "      <th>0</th>\n",
       "      <td>2016-01-15 00:00:00</td>\n",
       "      <td>6.486150</td>\n",
       "      <td>6.100378</td>\n",
       "      <td>2.284912</td>\n",
       "      <td>36.808594</td>\n",
       "      <td>523.546326</td>\n",
       "      <td>55.486599</td>\n",
       "      <td>11.986616</td>\n",
       "      <td>6.007990</td>\n",
       "      <td>999.706909</td>\n",
       "      <td>...</td>\n",
       "      <td>8.764648</td>\n",
       "      <td>42.192020</td>\n",
       "      <td>6.055403</td>\n",
       "      <td>9.889648</td>\n",
       "      <td>5.507324</td>\n",
       "      <td>70.541216</td>\n",
       "      <td>2.143149</td>\n",
       "      <td>10.411962</td>\n",
       "      <td>0.895447</td>\n",
       "      <td>16.904297</td>\n",
       "    </tr>\n",
       "    <tr>\n",
       "      <th>1</th>\n",
       "      <td>2016-01-15 01:00:00</td>\n",
       "      <td>6.478583</td>\n",
       "      <td>6.161113</td>\n",
       "      <td>2.266033</td>\n",
       "      <td>35.753385</td>\n",
       "      <td>525.290581</td>\n",
       "      <td>57.278666</td>\n",
       "      <td>11.971193</td>\n",
       "      <td>6.005766</td>\n",
       "      <td>1000.286398</td>\n",
       "      <td>...</td>\n",
       "      <td>9.001494</td>\n",
       "      <td>42.701629</td>\n",
       "      <td>6.029369</td>\n",
       "      <td>9.968944</td>\n",
       "      <td>5.257781</td>\n",
       "      <td>69.266198</td>\n",
       "      <td>2.224930</td>\n",
       "      <td>10.462676</td>\n",
       "      <td>0.927452</td>\n",
       "      <td>16.634514</td>\n",
       "    </tr>\n",
       "    <tr>\n",
       "      <th>2</th>\n",
       "      <td>2016-01-15 02:00:00</td>\n",
       "      <td>6.362222</td>\n",
       "      <td>6.116455</td>\n",
       "      <td>2.159622</td>\n",
       "      <td>35.971630</td>\n",
       "      <td>530.026610</td>\n",
       "      <td>57.510649</td>\n",
       "      <td>11.920603</td>\n",
       "      <td>6.197377</td>\n",
       "      <td>999.719565</td>\n",
       "      <td>...</td>\n",
       "      <td>8.842896</td>\n",
       "      <td>42.657501</td>\n",
       "      <td>6.055926</td>\n",
       "      <td>10.213995</td>\n",
       "      <td>5.383759</td>\n",
       "      <td>68.116445</td>\n",
       "      <td>2.257889</td>\n",
       "      <td>10.507046</td>\n",
       "      <td>0.953716</td>\n",
       "      <td>16.208849</td>\n",
       "    </tr>\n",
       "    <tr>\n",
       "      <th>3</th>\n",
       "      <td>2016-01-15 03:00:00</td>\n",
       "      <td>6.118189</td>\n",
       "      <td>6.043309</td>\n",
       "      <td>2.037807</td>\n",
       "      <td>36.862241</td>\n",
       "      <td>542.590390</td>\n",
       "      <td>57.792734</td>\n",
       "      <td>11.630094</td>\n",
       "      <td>6.203177</td>\n",
       "      <td>999.814770</td>\n",
       "      <td>...</td>\n",
       "      <td>9.122857</td>\n",
       "      <td>42.689819</td>\n",
       "      <td>6.047977</td>\n",
       "      <td>9.977019</td>\n",
       "      <td>4.858634</td>\n",
       "      <td>68.347543</td>\n",
       "      <td>2.146849</td>\n",
       "      <td>10.422762</td>\n",
       "      <td>0.883763</td>\n",
       "      <td>16.532835</td>\n",
       "    </tr>\n",
       "    <tr>\n",
       "      <th>4</th>\n",
       "      <td>2016-01-15 04:00:00</td>\n",
       "      <td>5.663707</td>\n",
       "      <td>6.060915</td>\n",
       "      <td>1.786875</td>\n",
       "      <td>34.347666</td>\n",
       "      <td>540.531893</td>\n",
       "      <td>56.047189</td>\n",
       "      <td>10.957755</td>\n",
       "      <td>6.198826</td>\n",
       "      <td>999.678690</td>\n",
       "      <td>...</td>\n",
       "      <td>8.871028</td>\n",
       "      <td>42.774141</td>\n",
       "      <td>6.148599</td>\n",
       "      <td>10.142511</td>\n",
       "      <td>4.939416</td>\n",
       "      <td>66.927016</td>\n",
       "      <td>2.055292</td>\n",
       "      <td>10.360302</td>\n",
       "      <td>0.792826</td>\n",
       "      <td>16.525686</td>\n",
       "    </tr>\n",
       "  </tbody>\n",
       "</table>\n",
       "<p>5 rows × 87 columns</p>\n",
       "</div>"
      ],
      "text/plain": [
       "                  date  rougher.input.feed_au  rougher.input.feed_ag  \\\n",
       "0  2016-01-15 00:00:00               6.486150               6.100378   \n",
       "1  2016-01-15 01:00:00               6.478583               6.161113   \n",
       "2  2016-01-15 02:00:00               6.362222               6.116455   \n",
       "3  2016-01-15 03:00:00               6.118189               6.043309   \n",
       "4  2016-01-15 04:00:00               5.663707               6.060915   \n",
       "\n",
       "   rougher.input.feed_pb  rougher.input.feed_sol  rougher.input.feed_rate  \\\n",
       "0               2.284912               36.808594               523.546326   \n",
       "1               2.266033               35.753385               525.290581   \n",
       "2               2.159622               35.971630               530.026610   \n",
       "3               2.037807               36.862241               542.590390   \n",
       "4               1.786875               34.347666               540.531893   \n",
       "\n",
       "   rougher.input.feed_size  rougher.input.floatbank10_sulfate  \\\n",
       "0                55.486599                          11.986616   \n",
       "1                57.278666                          11.971193   \n",
       "2                57.510649                          11.920603   \n",
       "3                57.792734                          11.630094   \n",
       "4                56.047189                          10.957755   \n",
       "\n",
       "   rougher.input.floatbank10_xanthate  rougher.state.floatbank10_a_air  ...  \\\n",
       "0                            6.007990                       999.706909  ...   \n",
       "1                            6.005766                      1000.286398  ...   \n",
       "2                            6.197377                       999.719565  ...   \n",
       "3                            6.203177                       999.814770  ...   \n",
       "4                            6.198826                       999.678690  ...   \n",
       "\n",
       "   secondary_cleaner.output.tail_sol  final.output.concentrate_au  \\\n",
       "0                           8.764648                    42.192020   \n",
       "1                           9.001494                    42.701629   \n",
       "2                           8.842896                    42.657501   \n",
       "3                           9.122857                    42.689819   \n",
       "4                           8.871028                    42.774141   \n",
       "\n",
       "   final.output.concentrate_ag  final.output.concentrate_pb  \\\n",
       "0                     6.055403                     9.889648   \n",
       "1                     6.029369                     9.968944   \n",
       "2                     6.055926                    10.213995   \n",
       "3                     6.047977                     9.977019   \n",
       "4                     6.148599                    10.142511   \n",
       "\n",
       "   final.output.concentrate_sol  final.output.recovery  final.output.tail_au  \\\n",
       "0                      5.507324              70.541216              2.143149   \n",
       "1                      5.257781              69.266198              2.224930   \n",
       "2                      5.383759              68.116445              2.257889   \n",
       "3                      4.858634              68.347543              2.146849   \n",
       "4                      4.939416              66.927016              2.055292   \n",
       "\n",
       "   final.output.tail_ag  final.output.tail_pb  final.output.tail_sol  \n",
       "0             10.411962              0.895447              16.904297  \n",
       "1             10.462676              0.927452              16.634514  \n",
       "2             10.507046              0.953716              16.208849  \n",
       "3             10.422762              0.883763              16.532835  \n",
       "4             10.360302              0.792826              16.525686  \n",
       "\n",
       "[5 rows x 87 columns]"
      ]
     },
     "metadata": {},
     "output_type": "display_data"
    },
    {
     "data": {
      "text/html": [
       "<div>\n",
       "<style scoped>\n",
       "    .dataframe tbody tr th:only-of-type {\n",
       "        vertical-align: middle;\n",
       "    }\n",
       "\n",
       "    .dataframe tbody tr th {\n",
       "        vertical-align: top;\n",
       "    }\n",
       "\n",
       "    .dataframe thead th {\n",
       "        text-align: right;\n",
       "    }\n",
       "</style>\n",
       "<table border=\"1\" class=\"dataframe\">\n",
       "  <thead>\n",
       "    <tr style=\"text-align: right;\">\n",
       "      <th></th>\n",
       "      <th>date</th>\n",
       "      <th>rougher.input.feed_au</th>\n",
       "      <th>rougher.input.feed_ag</th>\n",
       "      <th>rougher.input.feed_pb</th>\n",
       "      <th>rougher.input.feed_sol</th>\n",
       "      <th>rougher.input.feed_rate</th>\n",
       "      <th>rougher.input.feed_size</th>\n",
       "      <th>rougher.input.floatbank10_sulfate</th>\n",
       "      <th>rougher.input.floatbank10_xanthate</th>\n",
       "      <th>rougher.state.floatbank10_a_air</th>\n",
       "      <th>...</th>\n",
       "      <th>secondary_cleaner.state.floatbank4_a_air</th>\n",
       "      <th>secondary_cleaner.state.floatbank4_a_level</th>\n",
       "      <th>secondary_cleaner.state.floatbank4_b_air</th>\n",
       "      <th>secondary_cleaner.state.floatbank4_b_level</th>\n",
       "      <th>secondary_cleaner.state.floatbank5_a_air</th>\n",
       "      <th>secondary_cleaner.state.floatbank5_a_level</th>\n",
       "      <th>secondary_cleaner.state.floatbank5_b_air</th>\n",
       "      <th>secondary_cleaner.state.floatbank5_b_level</th>\n",
       "      <th>secondary_cleaner.state.floatbank6_a_air</th>\n",
       "      <th>secondary_cleaner.state.floatbank6_a_level</th>\n",
       "    </tr>\n",
       "  </thead>\n",
       "  <tbody>\n",
       "    <tr>\n",
       "      <th>0</th>\n",
       "      <td>2017-12-09 14:59:59</td>\n",
       "      <td>4.365491</td>\n",
       "      <td>6.158718</td>\n",
       "      <td>3.875727</td>\n",
       "      <td>39.135119</td>\n",
       "      <td>555.820208</td>\n",
       "      <td>94.544358</td>\n",
       "      <td>6.146982</td>\n",
       "      <td>9.308612</td>\n",
       "      <td>1196.238112</td>\n",
       "      <td>...</td>\n",
       "      <td>23.018622</td>\n",
       "      <td>-500.492702</td>\n",
       "      <td>20.020205</td>\n",
       "      <td>-500.220296</td>\n",
       "      <td>17.963512</td>\n",
       "      <td>-499.939490</td>\n",
       "      <td>12.990306</td>\n",
       "      <td>-500.080993</td>\n",
       "      <td>19.990336</td>\n",
       "      <td>-499.191575</td>\n",
       "    </tr>\n",
       "    <tr>\n",
       "      <th>1</th>\n",
       "      <td>2017-12-09 15:59:59</td>\n",
       "      <td>4.362781</td>\n",
       "      <td>6.048130</td>\n",
       "      <td>3.902537</td>\n",
       "      <td>39.713906</td>\n",
       "      <td>544.731687</td>\n",
       "      <td>123.742430</td>\n",
       "      <td>6.210119</td>\n",
       "      <td>9.297709</td>\n",
       "      <td>1201.904177</td>\n",
       "      <td>...</td>\n",
       "      <td>23.024963</td>\n",
       "      <td>-501.153409</td>\n",
       "      <td>20.054122</td>\n",
       "      <td>-500.314711</td>\n",
       "      <td>17.979515</td>\n",
       "      <td>-499.272871</td>\n",
       "      <td>12.992404</td>\n",
       "      <td>-499.976268</td>\n",
       "      <td>20.013986</td>\n",
       "      <td>-500.625471</td>\n",
       "    </tr>\n",
       "    <tr>\n",
       "      <th>2</th>\n",
       "      <td>2017-12-09 16:59:59</td>\n",
       "      <td>5.081681</td>\n",
       "      <td>6.082745</td>\n",
       "      <td>4.564078</td>\n",
       "      <td>37.208683</td>\n",
       "      <td>558.155110</td>\n",
       "      <td>82.610855</td>\n",
       "      <td>7.363824</td>\n",
       "      <td>9.003562</td>\n",
       "      <td>1200.826926</td>\n",
       "      <td>...</td>\n",
       "      <td>22.993827</td>\n",
       "      <td>-501.559663</td>\n",
       "      <td>20.029144</td>\n",
       "      <td>-500.000662</td>\n",
       "      <td>18.012723</td>\n",
       "      <td>-500.024764</td>\n",
       "      <td>13.016445</td>\n",
       "      <td>-500.058432</td>\n",
       "      <td>19.973767</td>\n",
       "      <td>-501.394155</td>\n",
       "    </tr>\n",
       "    <tr>\n",
       "      <th>3</th>\n",
       "      <td>2017-12-09 17:59:59</td>\n",
       "      <td>5.145949</td>\n",
       "      <td>6.084374</td>\n",
       "      <td>4.768124</td>\n",
       "      <td>36.808874</td>\n",
       "      <td>539.713765</td>\n",
       "      <td>77.984784</td>\n",
       "      <td>6.927072</td>\n",
       "      <td>8.955597</td>\n",
       "      <td>1199.292489</td>\n",
       "      <td>...</td>\n",
       "      <td>23.032807</td>\n",
       "      <td>-501.287889</td>\n",
       "      <td>19.977466</td>\n",
       "      <td>-500.159903</td>\n",
       "      <td>17.980463</td>\n",
       "      <td>-500.504602</td>\n",
       "      <td>12.949071</td>\n",
       "      <td>-500.009937</td>\n",
       "      <td>20.010332</td>\n",
       "      <td>-508.337973</td>\n",
       "    </tr>\n",
       "    <tr>\n",
       "      <th>4</th>\n",
       "      <td>2017-12-09 18:59:59</td>\n",
       "      <td>5.735249</td>\n",
       "      <td>6.165220</td>\n",
       "      <td>4.512346</td>\n",
       "      <td>37.810642</td>\n",
       "      <td>558.713584</td>\n",
       "      <td>86.434874</td>\n",
       "      <td>7.823471</td>\n",
       "      <td>7.490356</td>\n",
       "      <td>1198.005449</td>\n",
       "      <td>...</td>\n",
       "      <td>23.001911</td>\n",
       "      <td>-499.947838</td>\n",
       "      <td>20.023735</td>\n",
       "      <td>-499.713680</td>\n",
       "      <td>17.990955</td>\n",
       "      <td>-500.334769</td>\n",
       "      <td>13.007523</td>\n",
       "      <td>-499.968459</td>\n",
       "      <td>19.995999</td>\n",
       "      <td>-499.788805</td>\n",
       "    </tr>\n",
       "  </tbody>\n",
       "</table>\n",
       "<p>5 rows × 53 columns</p>\n",
       "</div>"
      ],
      "text/plain": [
       "                  date  rougher.input.feed_au  rougher.input.feed_ag  \\\n",
       "0  2017-12-09 14:59:59               4.365491               6.158718   \n",
       "1  2017-12-09 15:59:59               4.362781               6.048130   \n",
       "2  2017-12-09 16:59:59               5.081681               6.082745   \n",
       "3  2017-12-09 17:59:59               5.145949               6.084374   \n",
       "4  2017-12-09 18:59:59               5.735249               6.165220   \n",
       "\n",
       "   rougher.input.feed_pb  rougher.input.feed_sol  rougher.input.feed_rate  \\\n",
       "0               3.875727               39.135119               555.820208   \n",
       "1               3.902537               39.713906               544.731687   \n",
       "2               4.564078               37.208683               558.155110   \n",
       "3               4.768124               36.808874               539.713765   \n",
       "4               4.512346               37.810642               558.713584   \n",
       "\n",
       "   rougher.input.feed_size  rougher.input.floatbank10_sulfate  \\\n",
       "0                94.544358                           6.146982   \n",
       "1               123.742430                           6.210119   \n",
       "2                82.610855                           7.363824   \n",
       "3                77.984784                           6.927072   \n",
       "4                86.434874                           7.823471   \n",
       "\n",
       "   rougher.input.floatbank10_xanthate  rougher.state.floatbank10_a_air  ...  \\\n",
       "0                            9.308612                      1196.238112  ...   \n",
       "1                            9.297709                      1201.904177  ...   \n",
       "2                            9.003562                      1200.826926  ...   \n",
       "3                            8.955597                      1199.292489  ...   \n",
       "4                            7.490356                      1198.005449  ...   \n",
       "\n",
       "   secondary_cleaner.state.floatbank4_a_air  \\\n",
       "0                                 23.018622   \n",
       "1                                 23.024963   \n",
       "2                                 22.993827   \n",
       "3                                 23.032807   \n",
       "4                                 23.001911   \n",
       "\n",
       "   secondary_cleaner.state.floatbank4_a_level  \\\n",
       "0                                 -500.492702   \n",
       "1                                 -501.153409   \n",
       "2                                 -501.559663   \n",
       "3                                 -501.287889   \n",
       "4                                 -499.947838   \n",
       "\n",
       "   secondary_cleaner.state.floatbank4_b_air  \\\n",
       "0                                 20.020205   \n",
       "1                                 20.054122   \n",
       "2                                 20.029144   \n",
       "3                                 19.977466   \n",
       "4                                 20.023735   \n",
       "\n",
       "   secondary_cleaner.state.floatbank4_b_level  \\\n",
       "0                                 -500.220296   \n",
       "1                                 -500.314711   \n",
       "2                                 -500.000662   \n",
       "3                                 -500.159903   \n",
       "4                                 -499.713680   \n",
       "\n",
       "   secondary_cleaner.state.floatbank5_a_air  \\\n",
       "0                                 17.963512   \n",
       "1                                 17.979515   \n",
       "2                                 18.012723   \n",
       "3                                 17.980463   \n",
       "4                                 17.990955   \n",
       "\n",
       "   secondary_cleaner.state.floatbank5_a_level  \\\n",
       "0                                 -499.939490   \n",
       "1                                 -499.272871   \n",
       "2                                 -500.024764   \n",
       "3                                 -500.504602   \n",
       "4                                 -500.334769   \n",
       "\n",
       "   secondary_cleaner.state.floatbank5_b_air  \\\n",
       "0                                 12.990306   \n",
       "1                                 12.992404   \n",
       "2                                 13.016445   \n",
       "3                                 12.949071   \n",
       "4                                 13.007523   \n",
       "\n",
       "   secondary_cleaner.state.floatbank5_b_level  \\\n",
       "0                                 -500.080993   \n",
       "1                                 -499.976268   \n",
       "2                                 -500.058432   \n",
       "3                                 -500.009937   \n",
       "4                                 -499.968459   \n",
       "\n",
       "   secondary_cleaner.state.floatbank6_a_air  \\\n",
       "0                                 19.990336   \n",
       "1                                 20.013986   \n",
       "2                                 19.973767   \n",
       "3                                 20.010332   \n",
       "4                                 19.995999   \n",
       "\n",
       "   secondary_cleaner.state.floatbank6_a_level  \n",
       "0                                 -499.191575  \n",
       "1                                 -500.625471  \n",
       "2                                 -501.394155  \n",
       "3                                 -508.337973  \n",
       "4                                 -499.788805  \n",
       "\n",
       "[5 rows x 53 columns]"
      ]
     },
     "metadata": {},
     "output_type": "display_data"
    },
    {
     "data": {
      "text/html": [
       "<div>\n",
       "<style scoped>\n",
       "    .dataframe tbody tr th:only-of-type {\n",
       "        vertical-align: middle;\n",
       "    }\n",
       "\n",
       "    .dataframe tbody tr th {\n",
       "        vertical-align: top;\n",
       "    }\n",
       "\n",
       "    .dataframe thead th {\n",
       "        text-align: right;\n",
       "    }\n",
       "</style>\n",
       "<table border=\"1\" class=\"dataframe\">\n",
       "  <thead>\n",
       "    <tr style=\"text-align: right;\">\n",
       "      <th></th>\n",
       "      <th>date</th>\n",
       "      <th>rougher.input.feed_au</th>\n",
       "      <th>rougher.input.feed_ag</th>\n",
       "      <th>rougher.input.feed_pb</th>\n",
       "      <th>rougher.input.feed_sol</th>\n",
       "      <th>rougher.input.feed_rate</th>\n",
       "      <th>rougher.input.feed_size</th>\n",
       "      <th>rougher.input.floatbank10_sulfate</th>\n",
       "      <th>rougher.input.floatbank10_xanthate</th>\n",
       "      <th>rougher.state.floatbank10_a_air</th>\n",
       "      <th>...</th>\n",
       "      <th>secondary_cleaner.output.tail_sol</th>\n",
       "      <th>final.output.concentrate_au</th>\n",
       "      <th>final.output.concentrate_ag</th>\n",
       "      <th>final.output.concentrate_pb</th>\n",
       "      <th>final.output.concentrate_sol</th>\n",
       "      <th>final.output.recovery</th>\n",
       "      <th>final.output.tail_au</th>\n",
       "      <th>final.output.tail_ag</th>\n",
       "      <th>final.output.tail_pb</th>\n",
       "      <th>final.output.tail_sol</th>\n",
       "    </tr>\n",
       "  </thead>\n",
       "  <tbody>\n",
       "    <tr>\n",
       "      <th>0</th>\n",
       "      <td>2016-01-15 00:00:00</td>\n",
       "      <td>6.486150</td>\n",
       "      <td>6.100378</td>\n",
       "      <td>2.284912</td>\n",
       "      <td>36.808594</td>\n",
       "      <td>523.546326</td>\n",
       "      <td>55.486599</td>\n",
       "      <td>11.986616</td>\n",
       "      <td>6.007990</td>\n",
       "      <td>999.706909</td>\n",
       "      <td>...</td>\n",
       "      <td>8.764648</td>\n",
       "      <td>42.192020</td>\n",
       "      <td>6.055403</td>\n",
       "      <td>9.889648</td>\n",
       "      <td>5.507324</td>\n",
       "      <td>70.541216</td>\n",
       "      <td>2.143149</td>\n",
       "      <td>10.411962</td>\n",
       "      <td>0.895447</td>\n",
       "      <td>16.904297</td>\n",
       "    </tr>\n",
       "    <tr>\n",
       "      <th>1</th>\n",
       "      <td>2016-01-15 01:00:00</td>\n",
       "      <td>6.478583</td>\n",
       "      <td>6.161113</td>\n",
       "      <td>2.266033</td>\n",
       "      <td>35.753385</td>\n",
       "      <td>525.290581</td>\n",
       "      <td>57.278666</td>\n",
       "      <td>11.971193</td>\n",
       "      <td>6.005766</td>\n",
       "      <td>1000.286398</td>\n",
       "      <td>...</td>\n",
       "      <td>9.001494</td>\n",
       "      <td>42.701629</td>\n",
       "      <td>6.029369</td>\n",
       "      <td>9.968944</td>\n",
       "      <td>5.257781</td>\n",
       "      <td>69.266198</td>\n",
       "      <td>2.224930</td>\n",
       "      <td>10.462676</td>\n",
       "      <td>0.927452</td>\n",
       "      <td>16.634514</td>\n",
       "    </tr>\n",
       "    <tr>\n",
       "      <th>2</th>\n",
       "      <td>2016-01-15 02:00:00</td>\n",
       "      <td>6.362222</td>\n",
       "      <td>6.116455</td>\n",
       "      <td>2.159622</td>\n",
       "      <td>35.971630</td>\n",
       "      <td>530.026610</td>\n",
       "      <td>57.510649</td>\n",
       "      <td>11.920603</td>\n",
       "      <td>6.197377</td>\n",
       "      <td>999.719565</td>\n",
       "      <td>...</td>\n",
       "      <td>8.842896</td>\n",
       "      <td>42.657501</td>\n",
       "      <td>6.055926</td>\n",
       "      <td>10.213995</td>\n",
       "      <td>5.383759</td>\n",
       "      <td>68.116445</td>\n",
       "      <td>2.257889</td>\n",
       "      <td>10.507046</td>\n",
       "      <td>0.953716</td>\n",
       "      <td>16.208849</td>\n",
       "    </tr>\n",
       "    <tr>\n",
       "      <th>3</th>\n",
       "      <td>2016-01-15 03:00:00</td>\n",
       "      <td>6.118189</td>\n",
       "      <td>6.043309</td>\n",
       "      <td>2.037807</td>\n",
       "      <td>36.862241</td>\n",
       "      <td>542.590390</td>\n",
       "      <td>57.792734</td>\n",
       "      <td>11.630094</td>\n",
       "      <td>6.203177</td>\n",
       "      <td>999.814770</td>\n",
       "      <td>...</td>\n",
       "      <td>9.122857</td>\n",
       "      <td>42.689819</td>\n",
       "      <td>6.047977</td>\n",
       "      <td>9.977019</td>\n",
       "      <td>4.858634</td>\n",
       "      <td>68.347543</td>\n",
       "      <td>2.146849</td>\n",
       "      <td>10.422762</td>\n",
       "      <td>0.883763</td>\n",
       "      <td>16.532835</td>\n",
       "    </tr>\n",
       "    <tr>\n",
       "      <th>4</th>\n",
       "      <td>2016-01-15 04:00:00</td>\n",
       "      <td>5.663707</td>\n",
       "      <td>6.060915</td>\n",
       "      <td>1.786875</td>\n",
       "      <td>34.347666</td>\n",
       "      <td>540.531893</td>\n",
       "      <td>56.047189</td>\n",
       "      <td>10.957755</td>\n",
       "      <td>6.198826</td>\n",
       "      <td>999.678690</td>\n",
       "      <td>...</td>\n",
       "      <td>8.871028</td>\n",
       "      <td>42.774141</td>\n",
       "      <td>6.148599</td>\n",
       "      <td>10.142511</td>\n",
       "      <td>4.939416</td>\n",
       "      <td>66.927016</td>\n",
       "      <td>2.055292</td>\n",
       "      <td>10.360302</td>\n",
       "      <td>0.792826</td>\n",
       "      <td>16.525686</td>\n",
       "    </tr>\n",
       "  </tbody>\n",
       "</table>\n",
       "<p>5 rows × 87 columns</p>\n",
       "</div>"
      ],
      "text/plain": [
       "                  date  rougher.input.feed_au  rougher.input.feed_ag  \\\n",
       "0  2016-01-15 00:00:00               6.486150               6.100378   \n",
       "1  2016-01-15 01:00:00               6.478583               6.161113   \n",
       "2  2016-01-15 02:00:00               6.362222               6.116455   \n",
       "3  2016-01-15 03:00:00               6.118189               6.043309   \n",
       "4  2016-01-15 04:00:00               5.663707               6.060915   \n",
       "\n",
       "   rougher.input.feed_pb  rougher.input.feed_sol  rougher.input.feed_rate  \\\n",
       "0               2.284912               36.808594               523.546326   \n",
       "1               2.266033               35.753385               525.290581   \n",
       "2               2.159622               35.971630               530.026610   \n",
       "3               2.037807               36.862241               542.590390   \n",
       "4               1.786875               34.347666               540.531893   \n",
       "\n",
       "   rougher.input.feed_size  rougher.input.floatbank10_sulfate  \\\n",
       "0                55.486599                          11.986616   \n",
       "1                57.278666                          11.971193   \n",
       "2                57.510649                          11.920603   \n",
       "3                57.792734                          11.630094   \n",
       "4                56.047189                          10.957755   \n",
       "\n",
       "   rougher.input.floatbank10_xanthate  rougher.state.floatbank10_a_air  ...  \\\n",
       "0                            6.007990                       999.706909  ...   \n",
       "1                            6.005766                      1000.286398  ...   \n",
       "2                            6.197377                       999.719565  ...   \n",
       "3                            6.203177                       999.814770  ...   \n",
       "4                            6.198826                       999.678690  ...   \n",
       "\n",
       "   secondary_cleaner.output.tail_sol  final.output.concentrate_au  \\\n",
       "0                           8.764648                    42.192020   \n",
       "1                           9.001494                    42.701629   \n",
       "2                           8.842896                    42.657501   \n",
       "3                           9.122857                    42.689819   \n",
       "4                           8.871028                    42.774141   \n",
       "\n",
       "   final.output.concentrate_ag  final.output.concentrate_pb  \\\n",
       "0                     6.055403                     9.889648   \n",
       "1                     6.029369                     9.968944   \n",
       "2                     6.055926                    10.213995   \n",
       "3                     6.047977                     9.977019   \n",
       "4                     6.148599                    10.142511   \n",
       "\n",
       "   final.output.concentrate_sol  final.output.recovery  final.output.tail_au  \\\n",
       "0                      5.507324              70.541216              2.143149   \n",
       "1                      5.257781              69.266198              2.224930   \n",
       "2                      5.383759              68.116445              2.257889   \n",
       "3                      4.858634              68.347543              2.146849   \n",
       "4                      4.939416              66.927016              2.055292   \n",
       "\n",
       "   final.output.tail_ag  final.output.tail_pb  final.output.tail_sol  \n",
       "0             10.411962              0.895447              16.904297  \n",
       "1             10.462676              0.927452              16.634514  \n",
       "2             10.507046              0.953716              16.208849  \n",
       "3             10.422762              0.883763              16.532835  \n",
       "4             10.360302              0.792826              16.525686  \n",
       "\n",
       "[5 rows x 87 columns]"
      ]
     },
     "metadata": {},
     "output_type": "display_data"
    }
   ],
   "source": [
    "display(data_train.head())\n",
    "display(data_test.head())\n",
    "display(data_full.head())"
   ]
  },
  {
   "cell_type": "code",
   "execution_count": 7,
   "metadata": {
    "scrolled": true
   },
   "outputs": [
    {
     "data": {
      "text/html": [
       "<div>\n",
       "<style scoped>\n",
       "    .dataframe tbody tr th:only-of-type {\n",
       "        vertical-align: middle;\n",
       "    }\n",
       "\n",
       "    .dataframe tbody tr th {\n",
       "        vertical-align: top;\n",
       "    }\n",
       "\n",
       "    .dataframe thead th {\n",
       "        text-align: right;\n",
       "    }\n",
       "</style>\n",
       "<table border=\"1\" class=\"dataframe\">\n",
       "  <thead>\n",
       "    <tr style=\"text-align: right;\">\n",
       "      <th></th>\n",
       "      <th>rougher.input.feed_au</th>\n",
       "      <th>rougher.input.feed_ag</th>\n",
       "      <th>rougher.input.feed_pb</th>\n",
       "      <th>rougher.input.feed_sol</th>\n",
       "      <th>rougher.input.feed_rate</th>\n",
       "      <th>rougher.input.feed_size</th>\n",
       "      <th>rougher.input.floatbank10_sulfate</th>\n",
       "      <th>rougher.input.floatbank10_xanthate</th>\n",
       "      <th>rougher.state.floatbank10_a_air</th>\n",
       "      <th>rougher.state.floatbank10_a_level</th>\n",
       "      <th>...</th>\n",
       "      <th>secondary_cleaner.output.tail_sol</th>\n",
       "      <th>final.output.concentrate_au</th>\n",
       "      <th>final.output.concentrate_ag</th>\n",
       "      <th>final.output.concentrate_pb</th>\n",
       "      <th>final.output.concentrate_sol</th>\n",
       "      <th>final.output.recovery</th>\n",
       "      <th>final.output.tail_au</th>\n",
       "      <th>final.output.tail_ag</th>\n",
       "      <th>final.output.tail_pb</th>\n",
       "      <th>final.output.tail_sol</th>\n",
       "    </tr>\n",
       "  </thead>\n",
       "  <tbody>\n",
       "    <tr>\n",
       "      <th>count</th>\n",
       "      <td>14579.000000</td>\n",
       "      <td>14579.000000</td>\n",
       "      <td>14507.000000</td>\n",
       "      <td>14502.000000</td>\n",
       "      <td>14572.000000</td>\n",
       "      <td>14478.000000</td>\n",
       "      <td>14548.000000</td>\n",
       "      <td>14572.000000</td>\n",
       "      <td>14579.000000</td>\n",
       "      <td>14579.000000</td>\n",
       "      <td>...</td>\n",
       "      <td>13659.000000</td>\n",
       "      <td>14579.000000</td>\n",
       "      <td>14578.000000</td>\n",
       "      <td>14578.000000</td>\n",
       "      <td>14387.000000</td>\n",
       "      <td>14579.000000</td>\n",
       "      <td>14579.000000</td>\n",
       "      <td>14578.000000</td>\n",
       "      <td>14504.000000</td>\n",
       "      <td>14574.000000</td>\n",
       "    </tr>\n",
       "    <tr>\n",
       "      <th>mean</th>\n",
       "      <td>8.352941</td>\n",
       "      <td>8.877460</td>\n",
       "      <td>3.604221</td>\n",
       "      <td>36.561420</td>\n",
       "      <td>474.332784</td>\n",
       "      <td>58.922712</td>\n",
       "      <td>12.427399</td>\n",
       "      <td>5.994854</td>\n",
       "      <td>1104.208278</td>\n",
       "      <td>-379.367166</td>\n",
       "      <td>...</td>\n",
       "      <td>7.111347</td>\n",
       "      <td>43.979499</td>\n",
       "      <td>5.192145</td>\n",
       "      <td>9.923809</td>\n",
       "      <td>9.566676</td>\n",
       "      <td>66.759066</td>\n",
       "      <td>3.087939</td>\n",
       "      <td>9.731972</td>\n",
       "      <td>2.719985</td>\n",
       "      <td>10.612745</td>\n",
       "    </tr>\n",
       "    <tr>\n",
       "      <th>std</th>\n",
       "      <td>1.934376</td>\n",
       "      <td>1.922536</td>\n",
       "      <td>1.056063</td>\n",
       "      <td>5.209823</td>\n",
       "      <td>108.503552</td>\n",
       "      <td>22.407410</td>\n",
       "      <td>3.428939</td>\n",
       "      <td>1.152873</td>\n",
       "      <td>162.235606</td>\n",
       "      <td>94.652311</td>\n",
       "      <td>...</td>\n",
       "      <td>3.909951</td>\n",
       "      <td>5.471437</td>\n",
       "      <td>1.388014</td>\n",
       "      <td>1.706976</td>\n",
       "      <td>2.805654</td>\n",
       "      <td>10.619709</td>\n",
       "      <td>0.915187</td>\n",
       "      <td>2.358143</td>\n",
       "      <td>0.958929</td>\n",
       "      <td>2.871075</td>\n",
       "    </tr>\n",
       "    <tr>\n",
       "      <th>min</th>\n",
       "      <td>0.010000</td>\n",
       "      <td>0.010000</td>\n",
       "      <td>0.010000</td>\n",
       "      <td>0.010000</td>\n",
       "      <td>0.002986</td>\n",
       "      <td>0.049194</td>\n",
       "      <td>0.001083</td>\n",
       "      <td>0.000568</td>\n",
       "      <td>-0.042069</td>\n",
       "      <td>-657.949759</td>\n",
       "      <td>...</td>\n",
       "      <td>0.000000</td>\n",
       "      <td>0.000000</td>\n",
       "      <td>0.000000</td>\n",
       "      <td>0.000000</td>\n",
       "      <td>0.000000</td>\n",
       "      <td>0.000000</td>\n",
       "      <td>0.000000</td>\n",
       "      <td>0.000000</td>\n",
       "      <td>0.000000</td>\n",
       "      <td>0.000000</td>\n",
       "    </tr>\n",
       "    <tr>\n",
       "      <th>25%</th>\n",
       "      <td>6.932996</td>\n",
       "      <td>7.341922</td>\n",
       "      <td>2.880490</td>\n",
       "      <td>34.093951</td>\n",
       "      <td>411.048483</td>\n",
       "      <td>47.278490</td>\n",
       "      <td>10.002832</td>\n",
       "      <td>5.304167</td>\n",
       "      <td>999.644856</td>\n",
       "      <td>-499.861797</td>\n",
       "      <td>...</td>\n",
       "      <td>3.784897</td>\n",
       "      <td>43.345906</td>\n",
       "      <td>4.283347</td>\n",
       "      <td>9.103183</td>\n",
       "      <td>7.860030</td>\n",
       "      <td>63.114596</td>\n",
       "      <td>2.505287</td>\n",
       "      <td>8.088928</td>\n",
       "      <td>2.036512</td>\n",
       "      <td>9.013412</td>\n",
       "    </tr>\n",
       "    <tr>\n",
       "      <th>50%</th>\n",
       "      <td>8.225284</td>\n",
       "      <td>8.715859</td>\n",
       "      <td>3.532399</td>\n",
       "      <td>37.097511</td>\n",
       "      <td>498.187968</td>\n",
       "      <td>54.361187</td>\n",
       "      <td>12.003320</td>\n",
       "      <td>6.003053</td>\n",
       "      <td>1000.982624</td>\n",
       "      <td>-300.314199</td>\n",
       "      <td>...</td>\n",
       "      <td>7.629968</td>\n",
       "      <td>44.975014</td>\n",
       "      <td>5.118647</td>\n",
       "      <td>10.046455</td>\n",
       "      <td>9.301970</td>\n",
       "      <td>67.962788</td>\n",
       "      <td>3.029238</td>\n",
       "      <td>9.818512</td>\n",
       "      <td>2.774847</td>\n",
       "      <td>10.670515</td>\n",
       "    </tr>\n",
       "    <tr>\n",
       "      <th>75%</th>\n",
       "      <td>9.832210</td>\n",
       "      <td>10.255843</td>\n",
       "      <td>4.257282</td>\n",
       "      <td>39.899799</td>\n",
       "      <td>549.586552</td>\n",
       "      <td>64.464926</td>\n",
       "      <td>14.929903</td>\n",
       "      <td>6.796632</td>\n",
       "      <td>1292.663971</td>\n",
       "      <td>-299.989315</td>\n",
       "      <td>...</td>\n",
       "      <td>10.367050</td>\n",
       "      <td>46.275153</td>\n",
       "      <td>5.925380</td>\n",
       "      <td>10.981203</td>\n",
       "      <td>11.001573</td>\n",
       "      <td>72.598187</td>\n",
       "      <td>3.614098</td>\n",
       "      <td>11.169187</td>\n",
       "      <td>3.353845</td>\n",
       "      <td>12.130827</td>\n",
       "    </tr>\n",
       "    <tr>\n",
       "      <th>max</th>\n",
       "      <td>13.731330</td>\n",
       "      <td>14.596026</td>\n",
       "      <td>7.052325</td>\n",
       "      <td>53.475325</td>\n",
       "      <td>717.508837</td>\n",
       "      <td>484.967466</td>\n",
       "      <td>36.118275</td>\n",
       "      <td>9.703448</td>\n",
       "      <td>1512.299531</td>\n",
       "      <td>-273.776101</td>\n",
       "      <td>...</td>\n",
       "      <td>26.000772</td>\n",
       "      <td>52.756638</td>\n",
       "      <td>16.001945</td>\n",
       "      <td>16.705297</td>\n",
       "      <td>19.423912</td>\n",
       "      <td>100.000000</td>\n",
       "      <td>8.245022</td>\n",
       "      <td>19.552149</td>\n",
       "      <td>5.804178</td>\n",
       "      <td>22.317730</td>\n",
       "    </tr>\n",
       "  </tbody>\n",
       "</table>\n",
       "<p>8 rows × 86 columns</p>\n",
       "</div>"
      ],
      "text/plain": [
       "       rougher.input.feed_au  rougher.input.feed_ag  rougher.input.feed_pb  \\\n",
       "count           14579.000000           14579.000000           14507.000000   \n",
       "mean                8.352941               8.877460               3.604221   \n",
       "std                 1.934376               1.922536               1.056063   \n",
       "min                 0.010000               0.010000               0.010000   \n",
       "25%                 6.932996               7.341922               2.880490   \n",
       "50%                 8.225284               8.715859               3.532399   \n",
       "75%                 9.832210              10.255843               4.257282   \n",
       "max                13.731330              14.596026               7.052325   \n",
       "\n",
       "       rougher.input.feed_sol  rougher.input.feed_rate  \\\n",
       "count            14502.000000             14572.000000   \n",
       "mean                36.561420               474.332784   \n",
       "std                  5.209823               108.503552   \n",
       "min                  0.010000                 0.002986   \n",
       "25%                 34.093951               411.048483   \n",
       "50%                 37.097511               498.187968   \n",
       "75%                 39.899799               549.586552   \n",
       "max                 53.475325               717.508837   \n",
       "\n",
       "       rougher.input.feed_size  rougher.input.floatbank10_sulfate  \\\n",
       "count             14478.000000                       14548.000000   \n",
       "mean                 58.922712                          12.427399   \n",
       "std                  22.407410                           3.428939   \n",
       "min                   0.049194                           0.001083   \n",
       "25%                  47.278490                          10.002832   \n",
       "50%                  54.361187                          12.003320   \n",
       "75%                  64.464926                          14.929903   \n",
       "max                 484.967466                          36.118275   \n",
       "\n",
       "       rougher.input.floatbank10_xanthate  rougher.state.floatbank10_a_air  \\\n",
       "count                        14572.000000                     14579.000000   \n",
       "mean                             5.994854                      1104.208278   \n",
       "std                              1.152873                       162.235606   \n",
       "min                              0.000568                        -0.042069   \n",
       "25%                              5.304167                       999.644856   \n",
       "50%                              6.003053                      1000.982624   \n",
       "75%                              6.796632                      1292.663971   \n",
       "max                              9.703448                      1512.299531   \n",
       "\n",
       "       rougher.state.floatbank10_a_level  ...  \\\n",
       "count                       14579.000000  ...   \n",
       "mean                         -379.367166  ...   \n",
       "std                            94.652311  ...   \n",
       "min                          -657.949759  ...   \n",
       "25%                          -499.861797  ...   \n",
       "50%                          -300.314199  ...   \n",
       "75%                          -299.989315  ...   \n",
       "max                          -273.776101  ...   \n",
       "\n",
       "       secondary_cleaner.output.tail_sol  final.output.concentrate_au  \\\n",
       "count                       13659.000000                 14579.000000   \n",
       "mean                            7.111347                    43.979499   \n",
       "std                             3.909951                     5.471437   \n",
       "min                             0.000000                     0.000000   \n",
       "25%                             3.784897                    43.345906   \n",
       "50%                             7.629968                    44.975014   \n",
       "75%                            10.367050                    46.275153   \n",
       "max                            26.000772                    52.756638   \n",
       "\n",
       "       final.output.concentrate_ag  final.output.concentrate_pb  \\\n",
       "count                 14578.000000                 14578.000000   \n",
       "mean                      5.192145                     9.923809   \n",
       "std                       1.388014                     1.706976   \n",
       "min                       0.000000                     0.000000   \n",
       "25%                       4.283347                     9.103183   \n",
       "50%                       5.118647                    10.046455   \n",
       "75%                       5.925380                    10.981203   \n",
       "max                      16.001945                    16.705297   \n",
       "\n",
       "       final.output.concentrate_sol  final.output.recovery  \\\n",
       "count                  14387.000000           14579.000000   \n",
       "mean                       9.566676              66.759066   \n",
       "std                        2.805654              10.619709   \n",
       "min                        0.000000               0.000000   \n",
       "25%                        7.860030              63.114596   \n",
       "50%                        9.301970              67.962788   \n",
       "75%                       11.001573              72.598187   \n",
       "max                       19.423912             100.000000   \n",
       "\n",
       "       final.output.tail_au  final.output.tail_ag  final.output.tail_pb  \\\n",
       "count          14579.000000          14578.000000          14504.000000   \n",
       "mean               3.087939              9.731972              2.719985   \n",
       "std                0.915187              2.358143              0.958929   \n",
       "min                0.000000              0.000000              0.000000   \n",
       "25%                2.505287              8.088928              2.036512   \n",
       "50%                3.029238              9.818512              2.774847   \n",
       "75%                3.614098             11.169187              3.353845   \n",
       "max                8.245022             19.552149              5.804178   \n",
       "\n",
       "       final.output.tail_sol  \n",
       "count           14574.000000  \n",
       "mean               10.612745  \n",
       "std                 2.871075  \n",
       "min                 0.000000  \n",
       "25%                 9.013412  \n",
       "50%                10.670515  \n",
       "75%                12.130827  \n",
       "max                22.317730  \n",
       "\n",
       "[8 rows x 86 columns]"
      ]
     },
     "metadata": {},
     "output_type": "display_data"
    },
    {
     "data": {
      "text/html": [
       "<div>\n",
       "<style scoped>\n",
       "    .dataframe tbody tr th:only-of-type {\n",
       "        vertical-align: middle;\n",
       "    }\n",
       "\n",
       "    .dataframe tbody tr th {\n",
       "        vertical-align: top;\n",
       "    }\n",
       "\n",
       "    .dataframe thead th {\n",
       "        text-align: right;\n",
       "    }\n",
       "</style>\n",
       "<table border=\"1\" class=\"dataframe\">\n",
       "  <thead>\n",
       "    <tr style=\"text-align: right;\">\n",
       "      <th></th>\n",
       "      <th>rougher.input.feed_au</th>\n",
       "      <th>rougher.input.feed_ag</th>\n",
       "      <th>rougher.input.feed_pb</th>\n",
       "      <th>rougher.input.feed_sol</th>\n",
       "      <th>rougher.input.feed_rate</th>\n",
       "      <th>rougher.input.feed_size</th>\n",
       "      <th>rougher.input.floatbank10_sulfate</th>\n",
       "      <th>rougher.input.floatbank10_xanthate</th>\n",
       "      <th>rougher.state.floatbank10_a_air</th>\n",
       "      <th>rougher.state.floatbank10_a_level</th>\n",
       "      <th>...</th>\n",
       "      <th>secondary_cleaner.state.floatbank4_a_air</th>\n",
       "      <th>secondary_cleaner.state.floatbank4_a_level</th>\n",
       "      <th>secondary_cleaner.state.floatbank4_b_air</th>\n",
       "      <th>secondary_cleaner.state.floatbank4_b_level</th>\n",
       "      <th>secondary_cleaner.state.floatbank5_a_air</th>\n",
       "      <th>secondary_cleaner.state.floatbank5_a_level</th>\n",
       "      <th>secondary_cleaner.state.floatbank5_b_air</th>\n",
       "      <th>secondary_cleaner.state.floatbank5_b_level</th>\n",
       "      <th>secondary_cleaner.state.floatbank6_a_air</th>\n",
       "      <th>secondary_cleaner.state.floatbank6_a_level</th>\n",
       "    </tr>\n",
       "  </thead>\n",
       "  <tbody>\n",
       "    <tr>\n",
       "      <th>count</th>\n",
       "      <td>4860.000000</td>\n",
       "      <td>4860.000000</td>\n",
       "      <td>4832.000000</td>\n",
       "      <td>4838.000000</td>\n",
       "      <td>4856.000000</td>\n",
       "      <td>4816.000000</td>\n",
       "      <td>4857.000000</td>\n",
       "      <td>4859.000000</td>\n",
       "      <td>4859.000000</td>\n",
       "      <td>4859.000000</td>\n",
       "      <td>...</td>\n",
       "      <td>4.859000e+03</td>\n",
       "      <td>4859.000000</td>\n",
       "      <td>4.859000e+03</td>\n",
       "      <td>4859.000000</td>\n",
       "      <td>4859.000000</td>\n",
       "      <td>4859.000000</td>\n",
       "      <td>4859.000000</td>\n",
       "      <td>4859.000000</td>\n",
       "      <td>4859.000000</td>\n",
       "      <td>4859.000000</td>\n",
       "    </tr>\n",
       "    <tr>\n",
       "      <th>mean</th>\n",
       "      <td>8.005584</td>\n",
       "      <td>8.547348</td>\n",
       "      <td>3.579662</td>\n",
       "      <td>37.095864</td>\n",
       "      <td>490.285103</td>\n",
       "      <td>59.113400</td>\n",
       "      <td>12.055735</td>\n",
       "      <td>6.101308</td>\n",
       "      <td>1108.635895</td>\n",
       "      <td>-368.340127</td>\n",
       "      <td>...</td>\n",
       "      <td>1.985770e+01</td>\n",
       "      <td>-488.665140</td>\n",
       "      <td>1.557025e+01</td>\n",
       "      <td>-464.176507</td>\n",
       "      <td>16.594103</td>\n",
       "      <td>-490.815250</td>\n",
       "      <td>12.945971</td>\n",
       "      <td>-489.583564</td>\n",
       "      <td>19.053888</td>\n",
       "      <td>-504.678924</td>\n",
       "    </tr>\n",
       "    <tr>\n",
       "      <th>std</th>\n",
       "      <td>1.993590</td>\n",
       "      <td>1.958601</td>\n",
       "      <td>1.029377</td>\n",
       "      <td>4.926284</td>\n",
       "      <td>94.371623</td>\n",
       "      <td>19.125122</td>\n",
       "      <td>3.407642</td>\n",
       "      <td>1.042754</td>\n",
       "      <td>156.493143</td>\n",
       "      <td>91.155929</td>\n",
       "      <td>...</td>\n",
       "      <td>5.913105e+00</td>\n",
       "      <td>44.392714</td>\n",
       "      <td>4.927361e+00</td>\n",
       "      <td>65.706994</td>\n",
       "      <td>5.724305</td>\n",
       "      <td>32.258443</td>\n",
       "      <td>5.533176</td>\n",
       "      <td>37.084609</td>\n",
       "      <td>5.548996</td>\n",
       "      <td>38.690186</td>\n",
       "    </tr>\n",
       "    <tr>\n",
       "      <th>min</th>\n",
       "      <td>0.010000</td>\n",
       "      <td>0.010000</td>\n",
       "      <td>0.010000</td>\n",
       "      <td>0.010000</td>\n",
       "      <td>0.012786</td>\n",
       "      <td>0.046369</td>\n",
       "      <td>0.018907</td>\n",
       "      <td>0.015783</td>\n",
       "      <td>300.792494</td>\n",
       "      <td>-600.568138</td>\n",
       "      <td>...</td>\n",
       "      <td>1.079872e-16</td>\n",
       "      <td>-799.704969</td>\n",
       "      <td>2.489718e-17</td>\n",
       "      <td>-799.860767</td>\n",
       "      <td>-0.371498</td>\n",
       "      <td>-797.142475</td>\n",
       "      <td>1.358469</td>\n",
       "      <td>-800.006180</td>\n",
       "      <td>0.160386</td>\n",
       "      <td>-809.734800</td>\n",
       "    </tr>\n",
       "    <tr>\n",
       "      <th>25%</th>\n",
       "      <td>6.574363</td>\n",
       "      <td>6.975898</td>\n",
       "      <td>2.903612</td>\n",
       "      <td>34.510841</td>\n",
       "      <td>434.099695</td>\n",
       "      <td>47.596984</td>\n",
       "      <td>9.890429</td>\n",
       "      <td>5.499808</td>\n",
       "      <td>999.715729</td>\n",
       "      <td>-499.731972</td>\n",
       "      <td>...</td>\n",
       "      <td>1.501123e+01</td>\n",
       "      <td>-500.704004</td>\n",
       "      <td>1.202172e+01</td>\n",
       "      <td>-500.196517</td>\n",
       "      <td>11.073822</td>\n",
       "      <td>-500.483564</td>\n",
       "      <td>9.011890</td>\n",
       "      <td>-500.129913</td>\n",
       "      <td>14.963953</td>\n",
       "      <td>-500.668501</td>\n",
       "    </tr>\n",
       "    <tr>\n",
       "      <th>50%</th>\n",
       "      <td>7.812923</td>\n",
       "      <td>8.179714</td>\n",
       "      <td>3.540772</td>\n",
       "      <td>37.499761</td>\n",
       "      <td>502.118742</td>\n",
       "      <td>55.509481</td>\n",
       "      <td>11.997859</td>\n",
       "      <td>6.099805</td>\n",
       "      <td>1001.414798</td>\n",
       "      <td>-300.181367</td>\n",
       "      <td>...</td>\n",
       "      <td>1.996807e+01</td>\n",
       "      <td>-499.892919</td>\n",
       "      <td>1.501240e+01</td>\n",
       "      <td>-499.540776</td>\n",
       "      <td>16.631195</td>\n",
       "      <td>-499.873136</td>\n",
       "      <td>11.999417</td>\n",
       "      <td>-499.955304</td>\n",
       "      <td>19.960006</td>\n",
       "      <td>-500.033769</td>\n",
       "    </tr>\n",
       "    <tr>\n",
       "      <th>75%</th>\n",
       "      <td>9.556589</td>\n",
       "      <td>10.084339</td>\n",
       "      <td>4.199847</td>\n",
       "      <td>40.461315</td>\n",
       "      <td>555.596563</td>\n",
       "      <td>66.661547</td>\n",
       "      <td>14.496072</td>\n",
       "      <td>6.802101</td>\n",
       "      <td>1202.837565</td>\n",
       "      <td>-299.961547</td>\n",
       "      <td>...</td>\n",
       "      <td>2.498900e+01</td>\n",
       "      <td>-498.652030</td>\n",
       "      <td>1.999949e+01</td>\n",
       "      <td>-400.302329</td>\n",
       "      <td>19.983191</td>\n",
       "      <td>-498.852815</td>\n",
       "      <td>15.004198</td>\n",
       "      <td>-499.643776</td>\n",
       "      <td>24.974583</td>\n",
       "      <td>-499.460134</td>\n",
       "    </tr>\n",
       "    <tr>\n",
       "      <th>max</th>\n",
       "      <td>13.417156</td>\n",
       "      <td>14.533698</td>\n",
       "      <td>7.142594</td>\n",
       "      <td>53.477742</td>\n",
       "      <td>702.523396</td>\n",
       "      <td>363.989699</td>\n",
       "      <td>30.010759</td>\n",
       "      <td>9.396928</td>\n",
       "      <td>1521.980372</td>\n",
       "      <td>-281.039299</td>\n",
       "      <td>...</td>\n",
       "      <td>3.008450e+01</td>\n",
       "      <td>-383.373053</td>\n",
       "      <td>2.398898e+01</td>\n",
       "      <td>-114.250832</td>\n",
       "      <td>33.215996</td>\n",
       "      <td>-288.963521</td>\n",
       "      <td>24.177106</td>\n",
       "      <td>-141.934397</td>\n",
       "      <td>32.028529</td>\n",
       "      <td>-104.427459</td>\n",
       "    </tr>\n",
       "  </tbody>\n",
       "</table>\n",
       "<p>8 rows × 52 columns</p>\n",
       "</div>"
      ],
      "text/plain": [
       "       rougher.input.feed_au  rougher.input.feed_ag  rougher.input.feed_pb  \\\n",
       "count            4860.000000            4860.000000            4832.000000   \n",
       "mean                8.005584               8.547348               3.579662   \n",
       "std                 1.993590               1.958601               1.029377   \n",
       "min                 0.010000               0.010000               0.010000   \n",
       "25%                 6.574363               6.975898               2.903612   \n",
       "50%                 7.812923               8.179714               3.540772   \n",
       "75%                 9.556589              10.084339               4.199847   \n",
       "max                13.417156              14.533698               7.142594   \n",
       "\n",
       "       rougher.input.feed_sol  rougher.input.feed_rate  \\\n",
       "count             4838.000000              4856.000000   \n",
       "mean                37.095864               490.285103   \n",
       "std                  4.926284                94.371623   \n",
       "min                  0.010000                 0.012786   \n",
       "25%                 34.510841               434.099695   \n",
       "50%                 37.499761               502.118742   \n",
       "75%                 40.461315               555.596563   \n",
       "max                 53.477742               702.523396   \n",
       "\n",
       "       rougher.input.feed_size  rougher.input.floatbank10_sulfate  \\\n",
       "count              4816.000000                        4857.000000   \n",
       "mean                 59.113400                          12.055735   \n",
       "std                  19.125122                           3.407642   \n",
       "min                   0.046369                           0.018907   \n",
       "25%                  47.596984                           9.890429   \n",
       "50%                  55.509481                          11.997859   \n",
       "75%                  66.661547                          14.496072   \n",
       "max                 363.989699                          30.010759   \n",
       "\n",
       "       rougher.input.floatbank10_xanthate  rougher.state.floatbank10_a_air  \\\n",
       "count                         4859.000000                      4859.000000   \n",
       "mean                             6.101308                      1108.635895   \n",
       "std                              1.042754                       156.493143   \n",
       "min                              0.015783                       300.792494   \n",
       "25%                              5.499808                       999.715729   \n",
       "50%                              6.099805                      1001.414798   \n",
       "75%                              6.802101                      1202.837565   \n",
       "max                              9.396928                      1521.980372   \n",
       "\n",
       "       rougher.state.floatbank10_a_level  ...  \\\n",
       "count                        4859.000000  ...   \n",
       "mean                         -368.340127  ...   \n",
       "std                            91.155929  ...   \n",
       "min                          -600.568138  ...   \n",
       "25%                          -499.731972  ...   \n",
       "50%                          -300.181367  ...   \n",
       "75%                          -299.961547  ...   \n",
       "max                          -281.039299  ...   \n",
       "\n",
       "       secondary_cleaner.state.floatbank4_a_air  \\\n",
       "count                              4.859000e+03   \n",
       "mean                               1.985770e+01   \n",
       "std                                5.913105e+00   \n",
       "min                                1.079872e-16   \n",
       "25%                                1.501123e+01   \n",
       "50%                                1.996807e+01   \n",
       "75%                                2.498900e+01   \n",
       "max                                3.008450e+01   \n",
       "\n",
       "       secondary_cleaner.state.floatbank4_a_level  \\\n",
       "count                                 4859.000000   \n",
       "mean                                  -488.665140   \n",
       "std                                     44.392714   \n",
       "min                                   -799.704969   \n",
       "25%                                   -500.704004   \n",
       "50%                                   -499.892919   \n",
       "75%                                   -498.652030   \n",
       "max                                   -383.373053   \n",
       "\n",
       "       secondary_cleaner.state.floatbank4_b_air  \\\n",
       "count                              4.859000e+03   \n",
       "mean                               1.557025e+01   \n",
       "std                                4.927361e+00   \n",
       "min                                2.489718e-17   \n",
       "25%                                1.202172e+01   \n",
       "50%                                1.501240e+01   \n",
       "75%                                1.999949e+01   \n",
       "max                                2.398898e+01   \n",
       "\n",
       "       secondary_cleaner.state.floatbank4_b_level  \\\n",
       "count                                 4859.000000   \n",
       "mean                                  -464.176507   \n",
       "std                                     65.706994   \n",
       "min                                   -799.860767   \n",
       "25%                                   -500.196517   \n",
       "50%                                   -499.540776   \n",
       "75%                                   -400.302329   \n",
       "max                                   -114.250832   \n",
       "\n",
       "       secondary_cleaner.state.floatbank5_a_air  \\\n",
       "count                               4859.000000   \n",
       "mean                                  16.594103   \n",
       "std                                    5.724305   \n",
       "min                                   -0.371498   \n",
       "25%                                   11.073822   \n",
       "50%                                   16.631195   \n",
       "75%                                   19.983191   \n",
       "max                                   33.215996   \n",
       "\n",
       "       secondary_cleaner.state.floatbank5_a_level  \\\n",
       "count                                 4859.000000   \n",
       "mean                                  -490.815250   \n",
       "std                                     32.258443   \n",
       "min                                   -797.142475   \n",
       "25%                                   -500.483564   \n",
       "50%                                   -499.873136   \n",
       "75%                                   -498.852815   \n",
       "max                                   -288.963521   \n",
       "\n",
       "       secondary_cleaner.state.floatbank5_b_air  \\\n",
       "count                               4859.000000   \n",
       "mean                                  12.945971   \n",
       "std                                    5.533176   \n",
       "min                                    1.358469   \n",
       "25%                                    9.011890   \n",
       "50%                                   11.999417   \n",
       "75%                                   15.004198   \n",
       "max                                   24.177106   \n",
       "\n",
       "       secondary_cleaner.state.floatbank5_b_level  \\\n",
       "count                                 4859.000000   \n",
       "mean                                  -489.583564   \n",
       "std                                     37.084609   \n",
       "min                                   -800.006180   \n",
       "25%                                   -500.129913   \n",
       "50%                                   -499.955304   \n",
       "75%                                   -499.643776   \n",
       "max                                   -141.934397   \n",
       "\n",
       "       secondary_cleaner.state.floatbank6_a_air  \\\n",
       "count                               4859.000000   \n",
       "mean                                  19.053888   \n",
       "std                                    5.548996   \n",
       "min                                    0.160386   \n",
       "25%                                   14.963953   \n",
       "50%                                   19.960006   \n",
       "75%                                   24.974583   \n",
       "max                                   32.028529   \n",
       "\n",
       "       secondary_cleaner.state.floatbank6_a_level  \n",
       "count                                 4859.000000  \n",
       "mean                                  -504.678924  \n",
       "std                                     38.690186  \n",
       "min                                   -809.734800  \n",
       "25%                                   -500.668501  \n",
       "50%                                   -500.033769  \n",
       "75%                                   -499.460134  \n",
       "max                                   -104.427459  \n",
       "\n",
       "[8 rows x 52 columns]"
      ]
     },
     "metadata": {},
     "output_type": "display_data"
    },
    {
     "data": {
      "text/html": [
       "<div>\n",
       "<style scoped>\n",
       "    .dataframe tbody tr th:only-of-type {\n",
       "        vertical-align: middle;\n",
       "    }\n",
       "\n",
       "    .dataframe tbody tr th {\n",
       "        vertical-align: top;\n",
       "    }\n",
       "\n",
       "    .dataframe thead th {\n",
       "        text-align: right;\n",
       "    }\n",
       "</style>\n",
       "<table border=\"1\" class=\"dataframe\">\n",
       "  <thead>\n",
       "    <tr style=\"text-align: right;\">\n",
       "      <th></th>\n",
       "      <th>rougher.input.feed_au</th>\n",
       "      <th>rougher.input.feed_ag</th>\n",
       "      <th>rougher.input.feed_pb</th>\n",
       "      <th>rougher.input.feed_sol</th>\n",
       "      <th>rougher.input.feed_rate</th>\n",
       "      <th>rougher.input.feed_size</th>\n",
       "      <th>rougher.input.floatbank10_sulfate</th>\n",
       "      <th>rougher.input.floatbank10_xanthate</th>\n",
       "      <th>rougher.state.floatbank10_a_air</th>\n",
       "      <th>rougher.state.floatbank10_a_level</th>\n",
       "      <th>...</th>\n",
       "      <th>secondary_cleaner.output.tail_sol</th>\n",
       "      <th>final.output.concentrate_au</th>\n",
       "      <th>final.output.concentrate_ag</th>\n",
       "      <th>final.output.concentrate_pb</th>\n",
       "      <th>final.output.concentrate_sol</th>\n",
       "      <th>final.output.recovery</th>\n",
       "      <th>final.output.tail_au</th>\n",
       "      <th>final.output.tail_ag</th>\n",
       "      <th>final.output.tail_pb</th>\n",
       "      <th>final.output.tail_sol</th>\n",
       "    </tr>\n",
       "  </thead>\n",
       "  <tbody>\n",
       "    <tr>\n",
       "      <th>count</th>\n",
       "      <td>19439.000000</td>\n",
       "      <td>19439.000000</td>\n",
       "      <td>19339.000000</td>\n",
       "      <td>19340.000000</td>\n",
       "      <td>19428.000000</td>\n",
       "      <td>19294.000000</td>\n",
       "      <td>19405.000000</td>\n",
       "      <td>19431.000000</td>\n",
       "      <td>19438.000000</td>\n",
       "      <td>19438.000000</td>\n",
       "      <td>...</td>\n",
       "      <td>17691.000000</td>\n",
       "      <td>19439.000000</td>\n",
       "      <td>19438.000000</td>\n",
       "      <td>19438.000000</td>\n",
       "      <td>19228.000000</td>\n",
       "      <td>19439.000000</td>\n",
       "      <td>19439.000000</td>\n",
       "      <td>19438.000000</td>\n",
       "      <td>19338.000000</td>\n",
       "      <td>19433.000000</td>\n",
       "    </tr>\n",
       "    <tr>\n",
       "      <th>mean</th>\n",
       "      <td>8.266097</td>\n",
       "      <td>8.794927</td>\n",
       "      <td>3.598085</td>\n",
       "      <td>36.695114</td>\n",
       "      <td>478.320042</td>\n",
       "      <td>58.970310</td>\n",
       "      <td>12.334373</td>\n",
       "      <td>6.021474</td>\n",
       "      <td>1105.315068</td>\n",
       "      <td>-376.610690</td>\n",
       "      <td>...</td>\n",
       "      <td>7.167247</td>\n",
       "      <td>44.076513</td>\n",
       "      <td>5.168470</td>\n",
       "      <td>9.978895</td>\n",
       "      <td>9.501224</td>\n",
       "      <td>67.050208</td>\n",
       "      <td>3.042467</td>\n",
       "      <td>9.688589</td>\n",
       "      <td>2.705795</td>\n",
       "      <td>10.583728</td>\n",
       "    </tr>\n",
       "    <tr>\n",
       "      <th>std</th>\n",
       "      <td>1.955092</td>\n",
       "      <td>1.936847</td>\n",
       "      <td>1.049486</td>\n",
       "      <td>5.145445</td>\n",
       "      <td>105.373758</td>\n",
       "      <td>21.634478</td>\n",
       "      <td>3.427317</td>\n",
       "      <td>1.127263</td>\n",
       "      <td>160.826798</td>\n",
       "      <td>93.909667</td>\n",
       "      <td>...</td>\n",
       "      <td>3.916079</td>\n",
       "      <td>5.129784</td>\n",
       "      <td>1.372348</td>\n",
       "      <td>1.669240</td>\n",
       "      <td>2.787537</td>\n",
       "      <td>10.125840</td>\n",
       "      <td>0.922808</td>\n",
       "      <td>2.328642</td>\n",
       "      <td>0.949077</td>\n",
       "      <td>2.868782</td>\n",
       "    </tr>\n",
       "    <tr>\n",
       "      <th>min</th>\n",
       "      <td>0.010000</td>\n",
       "      <td>0.010000</td>\n",
       "      <td>0.010000</td>\n",
       "      <td>0.010000</td>\n",
       "      <td>0.002986</td>\n",
       "      <td>0.046369</td>\n",
       "      <td>0.001083</td>\n",
       "      <td>0.000568</td>\n",
       "      <td>-0.042069</td>\n",
       "      <td>-657.949759</td>\n",
       "      <td>...</td>\n",
       "      <td>0.000000</td>\n",
       "      <td>0.000000</td>\n",
       "      <td>0.000000</td>\n",
       "      <td>0.000000</td>\n",
       "      <td>0.000000</td>\n",
       "      <td>0.000000</td>\n",
       "      <td>0.000000</td>\n",
       "      <td>0.000000</td>\n",
       "      <td>0.000000</td>\n",
       "      <td>0.000000</td>\n",
       "    </tr>\n",
       "    <tr>\n",
       "      <th>25%</th>\n",
       "      <td>6.854384</td>\n",
       "      <td>7.237967</td>\n",
       "      <td>2.887280</td>\n",
       "      <td>34.207799</td>\n",
       "      <td>416.525453</td>\n",
       "      <td>47.435103</td>\n",
       "      <td>10.000362</td>\n",
       "      <td>5.398678</td>\n",
       "      <td>999.661867</td>\n",
       "      <td>-499.835165</td>\n",
       "      <td>...</td>\n",
       "      <td>3.845475</td>\n",
       "      <td>43.402215</td>\n",
       "      <td>4.251240</td>\n",
       "      <td>9.137262</td>\n",
       "      <td>7.722820</td>\n",
       "      <td>63.299712</td>\n",
       "      <td>2.461138</td>\n",
       "      <td>8.062878</td>\n",
       "      <td>2.040119</td>\n",
       "      <td>8.938947</td>\n",
       "    </tr>\n",
       "    <tr>\n",
       "      <th>50%</th>\n",
       "      <td>8.125839</td>\n",
       "      <td>8.593574</td>\n",
       "      <td>3.534895</td>\n",
       "      <td>37.202650</td>\n",
       "      <td>499.416120</td>\n",
       "      <td>54.610197</td>\n",
       "      <td>12.001174</td>\n",
       "      <td>6.008273</td>\n",
       "      <td>1001.072890</td>\n",
       "      <td>-300.263994</td>\n",
       "      <td>...</td>\n",
       "      <td>7.685827</td>\n",
       "      <td>45.011244</td>\n",
       "      <td>5.066094</td>\n",
       "      <td>10.102433</td>\n",
       "      <td>9.218961</td>\n",
       "      <td>68.172738</td>\n",
       "      <td>2.984909</td>\n",
       "      <td>9.743623</td>\n",
       "      <td>2.748730</td>\n",
       "      <td>10.622456</td>\n",
       "    </tr>\n",
       "    <tr>\n",
       "      <th>75%</th>\n",
       "      <td>9.769917</td>\n",
       "      <td>10.213771</td>\n",
       "      <td>4.244161</td>\n",
       "      <td>40.039133</td>\n",
       "      <td>550.172183</td>\n",
       "      <td>65.023044</td>\n",
       "      <td>14.716595</td>\n",
       "      <td>6.798051</td>\n",
       "      <td>1205.620588</td>\n",
       "      <td>-299.981998</td>\n",
       "      <td>...</td>\n",
       "      <td>10.411296</td>\n",
       "      <td>46.275313</td>\n",
       "      <td>5.895527</td>\n",
       "      <td>11.035769</td>\n",
       "      <td>10.947813</td>\n",
       "      <td>72.686642</td>\n",
       "      <td>3.571351</td>\n",
       "      <td>11.134294</td>\n",
       "      <td>3.333216</td>\n",
       "      <td>12.104271</td>\n",
       "    </tr>\n",
       "    <tr>\n",
       "      <th>max</th>\n",
       "      <td>13.731330</td>\n",
       "      <td>14.596026</td>\n",
       "      <td>7.142594</td>\n",
       "      <td>53.477742</td>\n",
       "      <td>717.508837</td>\n",
       "      <td>484.967466</td>\n",
       "      <td>36.118275</td>\n",
       "      <td>9.703448</td>\n",
       "      <td>1521.980372</td>\n",
       "      <td>-273.776101</td>\n",
       "      <td>...</td>\n",
       "      <td>26.000772</td>\n",
       "      <td>52.756638</td>\n",
       "      <td>16.001945</td>\n",
       "      <td>17.031899</td>\n",
       "      <td>19.615720</td>\n",
       "      <td>100.000000</td>\n",
       "      <td>8.245022</td>\n",
       "      <td>19.552149</td>\n",
       "      <td>5.804178</td>\n",
       "      <td>22.317730</td>\n",
       "    </tr>\n",
       "  </tbody>\n",
       "</table>\n",
       "<p>8 rows × 86 columns</p>\n",
       "</div>"
      ],
      "text/plain": [
       "       rougher.input.feed_au  rougher.input.feed_ag  rougher.input.feed_pb  \\\n",
       "count           19439.000000           19439.000000           19339.000000   \n",
       "mean                8.266097               8.794927               3.598085   \n",
       "std                 1.955092               1.936847               1.049486   \n",
       "min                 0.010000               0.010000               0.010000   \n",
       "25%                 6.854384               7.237967               2.887280   \n",
       "50%                 8.125839               8.593574               3.534895   \n",
       "75%                 9.769917              10.213771               4.244161   \n",
       "max                13.731330              14.596026               7.142594   \n",
       "\n",
       "       rougher.input.feed_sol  rougher.input.feed_rate  \\\n",
       "count            19340.000000             19428.000000   \n",
       "mean                36.695114               478.320042   \n",
       "std                  5.145445               105.373758   \n",
       "min                  0.010000                 0.002986   \n",
       "25%                 34.207799               416.525453   \n",
       "50%                 37.202650               499.416120   \n",
       "75%                 40.039133               550.172183   \n",
       "max                 53.477742               717.508837   \n",
       "\n",
       "       rougher.input.feed_size  rougher.input.floatbank10_sulfate  \\\n",
       "count             19294.000000                       19405.000000   \n",
       "mean                 58.970310                          12.334373   \n",
       "std                  21.634478                           3.427317   \n",
       "min                   0.046369                           0.001083   \n",
       "25%                  47.435103                          10.000362   \n",
       "50%                  54.610197                          12.001174   \n",
       "75%                  65.023044                          14.716595   \n",
       "max                 484.967466                          36.118275   \n",
       "\n",
       "       rougher.input.floatbank10_xanthate  rougher.state.floatbank10_a_air  \\\n",
       "count                        19431.000000                     19438.000000   \n",
       "mean                             6.021474                      1105.315068   \n",
       "std                              1.127263                       160.826798   \n",
       "min                              0.000568                        -0.042069   \n",
       "25%                              5.398678                       999.661867   \n",
       "50%                              6.008273                      1001.072890   \n",
       "75%                              6.798051                      1205.620588   \n",
       "max                              9.703448                      1521.980372   \n",
       "\n",
       "       rougher.state.floatbank10_a_level  ...  \\\n",
       "count                       19438.000000  ...   \n",
       "mean                         -376.610690  ...   \n",
       "std                            93.909667  ...   \n",
       "min                          -657.949759  ...   \n",
       "25%                          -499.835165  ...   \n",
       "50%                          -300.263994  ...   \n",
       "75%                          -299.981998  ...   \n",
       "max                          -273.776101  ...   \n",
       "\n",
       "       secondary_cleaner.output.tail_sol  final.output.concentrate_au  \\\n",
       "count                       17691.000000                 19439.000000   \n",
       "mean                            7.167247                    44.076513   \n",
       "std                             3.916079                     5.129784   \n",
       "min                             0.000000                     0.000000   \n",
       "25%                             3.845475                    43.402215   \n",
       "50%                             7.685827                    45.011244   \n",
       "75%                            10.411296                    46.275313   \n",
       "max                            26.000772                    52.756638   \n",
       "\n",
       "       final.output.concentrate_ag  final.output.concentrate_pb  \\\n",
       "count                 19438.000000                 19438.000000   \n",
       "mean                      5.168470                     9.978895   \n",
       "std                       1.372348                     1.669240   \n",
       "min                       0.000000                     0.000000   \n",
       "25%                       4.251240                     9.137262   \n",
       "50%                       5.066094                    10.102433   \n",
       "75%                       5.895527                    11.035769   \n",
       "max                      16.001945                    17.031899   \n",
       "\n",
       "       final.output.concentrate_sol  final.output.recovery  \\\n",
       "count                  19228.000000           19439.000000   \n",
       "mean                       9.501224              67.050208   \n",
       "std                        2.787537              10.125840   \n",
       "min                        0.000000               0.000000   \n",
       "25%                        7.722820              63.299712   \n",
       "50%                        9.218961              68.172738   \n",
       "75%                       10.947813              72.686642   \n",
       "max                       19.615720             100.000000   \n",
       "\n",
       "       final.output.tail_au  final.output.tail_ag  final.output.tail_pb  \\\n",
       "count          19439.000000          19438.000000          19338.000000   \n",
       "mean               3.042467              9.688589              2.705795   \n",
       "std                0.922808              2.328642              0.949077   \n",
       "min                0.000000              0.000000              0.000000   \n",
       "25%                2.461138              8.062878              2.040119   \n",
       "50%                2.984909              9.743623              2.748730   \n",
       "75%                3.571351             11.134294              3.333216   \n",
       "max                8.245022             19.552149              5.804178   \n",
       "\n",
       "       final.output.tail_sol  \n",
       "count           19433.000000  \n",
       "mean               10.583728  \n",
       "std                 2.868782  \n",
       "min                 0.000000  \n",
       "25%                 8.938947  \n",
       "50%                10.622456  \n",
       "75%                12.104271  \n",
       "max                22.317730  \n",
       "\n",
       "[8 rows x 86 columns]"
      ]
     },
     "metadata": {},
     "output_type": "display_data"
    }
   ],
   "source": [
    "display(data_train.describe())\n",
    "display(data_test.describe())\n",
    "display(data_full.describe())"
   ]
  },
  {
   "cell_type": "markdown",
   "metadata": {},
   "source": [
    "# Проверка правильности расчета эффективности обогащения"
   ]
  },
  {
   "cell_type": "code",
   "execution_count": 8,
   "metadata": {},
   "outputs": [
    {
     "name": "stdout",
     "output_type": "stream",
     "text": [
      "MAE =  9.83758577644259e-15\n"
     ]
    }
   ],
   "source": [
    "#проверим на обучающей выборке, что эффективность обогащения рассчитана правильно\n",
    "C = data_train['rougher.output.concentrate_au']\n",
    "F = data_train['rougher.input.feed_au']\n",
    "T = data_train['rougher.output.tail_au']\n",
    "recovery = (C * (F - T)) / (F * (C - T)) * 100\n",
    "\n",
    "print('MAE = ', mean_absolute_error(data_train['rougher.output.recovery'], recovery))"
   ]
  },
  {
   "cell_type": "markdown",
   "metadata": {},
   "source": [
    "**Вывод:**\n",
    "\n",
    "При проверке правильности расчета эффективности обогащения золота, было получено значение метрики MAE = 9.84 * 10**-15.\n",
    "\n",
    "Значение метрики близкое к нулю говорит о том, что формула расчета эффективности обогащения правильна"
   ]
  },
  {
   "cell_type": "markdown",
   "metadata": {},
   "source": [
    "# Анализ признаков в тестовой выборке"
   ]
  },
  {
   "cell_type": "code",
   "execution_count": 9,
   "metadata": {},
   "outputs": [
    {
     "data": {
      "text/plain": [
       "{'final.output.concentrate_ag',\n",
       " 'final.output.concentrate_au',\n",
       " 'final.output.concentrate_pb',\n",
       " 'final.output.concentrate_sol',\n",
       " 'final.output.recovery',\n",
       " 'final.output.tail_ag',\n",
       " 'final.output.tail_au',\n",
       " 'final.output.tail_pb',\n",
       " 'final.output.tail_sol',\n",
       " 'primary_cleaner.output.concentrate_ag',\n",
       " 'primary_cleaner.output.concentrate_au',\n",
       " 'primary_cleaner.output.concentrate_pb',\n",
       " 'primary_cleaner.output.concentrate_sol',\n",
       " 'primary_cleaner.output.tail_ag',\n",
       " 'primary_cleaner.output.tail_au',\n",
       " 'primary_cleaner.output.tail_pb',\n",
       " 'primary_cleaner.output.tail_sol',\n",
       " 'rougher.calculation.au_pb_ratio',\n",
       " 'rougher.calculation.floatbank10_sulfate_to_au_feed',\n",
       " 'rougher.calculation.floatbank11_sulfate_to_au_feed',\n",
       " 'rougher.calculation.sulfate_to_au_concentrate',\n",
       " 'rougher.output.concentrate_ag',\n",
       " 'rougher.output.concentrate_au',\n",
       " 'rougher.output.concentrate_pb',\n",
       " 'rougher.output.concentrate_sol',\n",
       " 'rougher.output.recovery',\n",
       " 'rougher.output.tail_ag',\n",
       " 'rougher.output.tail_au',\n",
       " 'rougher.output.tail_pb',\n",
       " 'rougher.output.tail_sol',\n",
       " 'secondary_cleaner.output.tail_ag',\n",
       " 'secondary_cleaner.output.tail_au',\n",
       " 'secondary_cleaner.output.tail_pb',\n",
       " 'secondary_cleaner.output.tail_sol'}"
      ]
     },
     "execution_count": 9,
     "metadata": {},
     "output_type": "execute_result"
    }
   ],
   "source": [
    "#найдем признаки из обучающей выборки, недоступные в тестовой\n",
    "different_train_test = set(data_train.columns) - set(data_test.columns)\n",
    "different_train_test"
   ]
  },
  {
   "cell_type": "markdown",
   "metadata": {},
   "source": [
    "**Вывод:**\n",
    "\n",
    "  В тестовой выборке недоступны такие признаки, как доли элементов в черновом и финальном концентратах, на выходе после первичной и вторичной очистки, а также расчетных характеристик содержания золота в концентрате и соотношения золота и свинца"
   ]
  },
  {
   "cell_type": "markdown",
   "metadata": {},
   "source": [
    "# Предобработка данных"
   ]
  },
  {
   "cell_type": "code",
   "execution_count": 10,
   "metadata": {},
   "outputs": [
    {
     "data": {
      "text/plain": [
       "secondary_cleaner.output.tail_sol           920\n",
       "rougher.state.floatbank10_e_air             429\n",
       "rougher.input.floatbank11_xanthate          407\n",
       "primary_cleaner.output.concentrate_sol      265\n",
       "final.output.concentrate_sol                192\n",
       "                                           ... \n",
       "primary_cleaner.state.floatbank8_c_air        0\n",
       "primary_cleaner.state.floatbank8_c_level      0\n",
       "primary_cleaner.state.floatbank8_d_level      0\n",
       "primary_cleaner.output.concentrate_au         0\n",
       "primary_cleaner.state.floatbank8_b_level      0\n",
       "Length: 87, dtype: int64"
      ]
     },
     "execution_count": 10,
     "metadata": {},
     "output_type": "execute_result"
    }
   ],
   "source": [
    "#посмотрим количество пропусков\n",
    "data_train.isna().sum().sort_values(ascending=False)"
   ]
  },
  {
   "cell_type": "code",
   "execution_count": 11,
   "metadata": {
    "scrolled": true
   },
   "outputs": [],
   "source": [
    "#применим метод ffill для замены значений\n",
    "data_train = data_train.fillna(method='ffill')"
   ]
  },
  {
   "cell_type": "code",
   "execution_count": 12,
   "metadata": {
    "scrolled": true
   },
   "outputs": [
    {
     "data": {
      "text/plain": [
       "secondary_cleaner.state.floatbank2_a_air      126\n",
       "rougher.input.floatbank11_xanthate             46\n",
       "rougher.input.feed_size                        44\n",
       "primary_cleaner.input.xanthate                 43\n",
       "rougher.input.feed_pb                          28\n",
       "rougher.input.feed_sol                         22\n",
       "primary_cleaner.input.depressant                9\n",
       "rougher.input.floatbank11_sulfate               8\n",
       "rougher.state.floatbank10_e_air                 7\n",
       "rougher.input.feed_rate                         4\n",
       "rougher.input.floatbank10_sulfate               3\n",
       "primary_cleaner.state.floatbank8_d_air          2\n",
       "primary_cleaner.state.floatbank8_c_air          2\n",
       "primary_cleaner.state.floatbank8_d_level        1\n",
       "secondary_cleaner.state.floatbank3_a_level      1\n",
       "secondary_cleaner.state.floatbank2_a_level      1\n",
       "secondary_cleaner.state.floatbank2_b_air        1\n",
       "secondary_cleaner.state.floatbank2_b_level      1\n",
       "secondary_cleaner.state.floatbank3_a_air        1\n",
       "secondary_cleaner.state.floatbank4_a_air        1\n",
       "secondary_cleaner.state.floatbank3_b_air        1\n",
       "secondary_cleaner.state.floatbank3_b_level      1\n",
       "secondary_cleaner.state.floatbank4_a_level      1\n",
       "secondary_cleaner.state.floatbank4_b_air        1\n",
       "secondary_cleaner.state.floatbank4_b_level      1\n",
       "secondary_cleaner.state.floatbank5_a_air        1\n",
       "secondary_cleaner.state.floatbank5_a_level      1\n",
       "secondary_cleaner.state.floatbank5_b_air        1\n",
       "secondary_cleaner.state.floatbank5_b_level      1\n",
       "secondary_cleaner.state.floatbank6_a_air        1\n",
       "primary_cleaner.state.floatbank8_c_level        1\n",
       "secondary_cleaner.state.floatbank6_a_level      1\n",
       "primary_cleaner.state.floatbank8_b_level        1\n",
       "rougher.state.floatbank10_c_air                 1\n",
       "primary_cleaner.state.floatbank8_a_level        1\n",
       "primary_cleaner.state.floatbank8_a_air          1\n",
       "rougher.input.floatbank10_xanthate              1\n",
       "primary_cleaner.input.sulfate                   1\n",
       "rougher.state.floatbank10_a_air                 1\n",
       "rougher.state.floatbank10_a_level               1\n",
       "rougher.state.floatbank10_b_air                 1\n",
       "primary_cleaner.state.floatbank8_b_air          1\n",
       "rougher.state.floatbank10_b_level               1\n",
       "rougher.state.floatbank10_c_level               1\n",
       "rougher.input.feed_ag                           0\n",
       "rougher.state.floatbank10_d_level               0\n",
       "rougher.state.floatbank10_d_air                 0\n",
       "rougher.state.floatbank10_e_level               0\n",
       "rougher.state.floatbank10_f_air                 0\n",
       "rougher.state.floatbank10_f_level               0\n",
       "primary_cleaner.input.feed_size                 0\n",
       "rougher.input.feed_au                           0\n",
       "date                                            0\n",
       "dtype: int64"
      ]
     },
     "execution_count": 12,
     "metadata": {},
     "output_type": "execute_result"
    }
   ],
   "source": [
    "data_test.isna().sum().sort_values(ascending=False)"
   ]
  },
  {
   "cell_type": "code",
   "execution_count": 13,
   "metadata": {},
   "outputs": [],
   "source": [
    "data_test = data_test.fillna(method='ffill')"
   ]
  },
  {
   "cell_type": "code",
   "execution_count": 14,
   "metadata": {},
   "outputs": [
    {
     "data": {
      "text/plain": [
       "secondary_cleaner.output.tail_sol           1748\n",
       "rougher.input.floatbank11_xanthate           453\n",
       "rougher.state.floatbank10_e_air              436\n",
       "primary_cleaner.output.concentrate_sol       370\n",
       "secondary_cleaner.state.floatbank2_a_air     220\n",
       "                                            ... \n",
       "rougher.output.tail_sol                        0\n",
       "primary_cleaner.input.feed_size                0\n",
       "rougher.input.feed_au                          0\n",
       "primary_cleaner.output.concentrate_au          0\n",
       "date                                           0\n",
       "Length: 87, dtype: int64"
      ]
     },
     "execution_count": 14,
     "metadata": {},
     "output_type": "execute_result"
    }
   ],
   "source": [
    "data_full.isna().sum().sort_values(ascending=False)"
   ]
  },
  {
   "cell_type": "code",
   "execution_count": 15,
   "metadata": {},
   "outputs": [],
   "source": [
    "data_full = data_full.fillna(method='ffill')"
   ]
  },
  {
   "cell_type": "code",
   "execution_count": 16,
   "metadata": {},
   "outputs": [],
   "source": [
    "#заменим тип данных столбца date на datetime\n",
    "for data in [data_full, data_train, data_test]:\n",
    "    data['date'] = pd.to_datetime(data['date'], format='%Y-%m-%d %H:%M:%S')"
   ]
  },
  {
   "cell_type": "code",
   "execution_count": 17,
   "metadata": {},
   "outputs": [],
   "source": [
    "#добавим к тестовой выборке целевые признаки\n",
    "data_test = data_test.merge(data_full[['date','rougher.output.recovery',\n",
    "                                 'final.output.recovery']],\n",
    "                        how='left', on='date')"
   ]
  },
  {
   "cell_type": "code",
   "execution_count": 18,
   "metadata": {},
   "outputs": [],
   "source": [
    "#удалим признак date, чтобы он не мешал обучению моделей\n",
    "data_train = data_train.drop('date', axis=1)\n",
    "data_test = data_test.drop('date', axis=1)"
   ]
  },
  {
   "cell_type": "markdown",
   "metadata": {},
   "source": [
    "**Вывод:**\n",
    "\n",
    "Применили метод `ffill` для заполнения пропущенных значений, так как данные заполняются каждый час, поэтому заполнять пропущенные значения предыдущими данными будет самым лучшим решением.\n",
    "\n",
    "Привели столбец `date` к типу данных `datetime`.\n",
    "\n",
    "Добавили к тестовой выборке целевые признаки.\n",
    "\n",
    "Удалили признак `date` из обучающей и тестовой выборки, чтобы он не мешал обучению моделей."
   ]
  },
  {
   "cell_type": "markdown",
   "metadata": {},
   "source": [
    "## Анализ данных"
   ]
  },
  {
   "cell_type": "markdown",
   "metadata": {},
   "source": [
    "# Изменение концентрация металлов на разных этапах "
   ]
  },
  {
   "cell_type": "code",
   "execution_count": 19,
   "metadata": {
    "scrolled": false
   },
   "outputs": [
    {
     "data": {
      "image/png": "[encoded data removed]",
      "text/plain": [
       "<Figure size 1000x600 with 1 Axes>"
      ]
     },
     "metadata": {},
     "output_type": "display_data"
    }
   ],
   "source": [
    "#построим гистограмму для золота\n",
    "concentrate_au = data_full[['rougher.input.feed_au',\n",
    "                            'rougher.output.concentrate_au',\n",
    "                            'primary_cleaner.output.concentrate_au',\n",
    "                            'final.output.concentrate_au']]\n",
    "plt.figure(figsize=(10,6))\n",
    "sns.set_style('darkgrid')\n",
    "ax = sns.histplot(data=concentrate_au)\n",
    "plt.title('Изменение концентрации золота')\n",
    "plt.legend(['Финальный концентрат',\n",
    "            'После первичной очистки',\n",
    "            'После флотации',\n",
    "            'Исходное сырье'],\n",
    "           loc='upper right')\n",
    "plt.xlabel('Концентрация металла, %')\n",
    "plt.ylabel('Количество наблюдений')\n",
    "plt.show()"
   ]
  },
  {
   "cell_type": "code",
   "execution_count": 20,
   "metadata": {},
   "outputs": [
    {
     "data": {
      "image/png": "[encoded data removed]",
      "text/plain": [
       "<Figure size 1000x600 with 1 Axes>"
      ]
     },
     "metadata": {},
     "output_type": "display_data"
    }
   ],
   "source": [
    "#построим гистограмму для серебра\n",
    "concentrate_ag = data_full[['rougher.input.feed_ag',\n",
    "                            'rougher.output.concentrate_ag',\n",
    "                            'primary_cleaner.output.concentrate_ag',\n",
    "                            'final.output.concentrate_ag']]\n",
    "\n",
    "plt.figure(figsize=(10, 6))\n",
    "ax = sns.histplot(data=concentrate_ag)\n",
    "plt.title('Изменение концентрации серебра')\n",
    "plt.legend(['Финальный концентрат',\n",
    "            'После первичной очистки',\n",
    "            'После флотации',\n",
    "            'Исходное сырье'],\n",
    "           loc='upper right')\n",
    "plt.xlabel('Концентрация металла, %')\n",
    "plt.ylabel('Количество наблюдений')\n",
    "plt.show()"
   ]
  },
  {
   "cell_type": "code",
   "execution_count": 21,
   "metadata": {},
   "outputs": [
    {
     "data": {
      "image/png": "[encoded data removed]",
      "text/plain": [
       "<Figure size 1000x600 with 1 Axes>"
      ]
     },
     "metadata": {},
     "output_type": "display_data"
    }
   ],
   "source": [
    "#построим гистограмму для свинца\n",
    "concentrate_pb = data_full[['rougher.input.feed_pb',\n",
    "                            'rougher.output.concentrate_pb',\n",
    "                            'primary_cleaner.output.concentrate_pb',\n",
    "                            'final.output.concentrate_pb']]\n",
    "\n",
    "plt.figure(figsize=(10, 6))\n",
    "ax = sns.histplot(data=concentrate_pb)\n",
    "plt.title('Изменение концентрации свинца')\n",
    "plt.legend(['Финальный концентрат',\n",
    "            'После первичной очистки',\n",
    "            'После флотации',\n",
    "            'Исходное сырье'],\n",
    "           loc='upper right')\n",
    "plt.xlabel('Концентрация металла, %')\n",
    "plt.ylabel('Количество наблюдений')\n",
    "plt.show()"
   ]
  },
  {
   "cell_type": "markdown",
   "metadata": {},
   "source": [
    "**Вывод:**\n",
    "\n",
    "По графикам видно, что в при восстановлении золота из исходного сырья концентрация золота возрастает, в конце восстановления концентрация золота равна около 45%.\n",
    "\n",
    "Концентрация серебра начинает снижаться уже на этапе первичной очистки и в финальном концентрате составляет меньше 5%.\n",
    "\n",
    "Концентрация свинца в финальном концентрате достигает около 10%.\n",
    "\n",
    "На каждом распределении мы видим выбросы около нуля на этапах `После флотации` и `После первичной очистки`. Эти данные обозначим, как выбросы, не входящие в межквартильный интервал, и удалим их из нашей выборки."
   ]
  },
  {
   "cell_type": "markdown",
   "metadata": {},
   "source": [
    "# Удаление выбросов"
   ]
  },
  {
   "cell_type": "code",
   "execution_count": 22,
   "metadata": {},
   "outputs": [],
   "source": [
    "#напишем функцию для вычисления межквартильного интервала\n",
    "def get_iqr_values(data, col):\n",
    "    q1 = data[col].quantile(0.25)\n",
    "    q3 = data[col].quantile(0.75)\n",
    "    iqr = q3-q1\n",
    "    minimum  = q1 - 1.5 * iqr\n",
    "    maximum = q3 + 1.5 * iqr\n",
    "    return minimum, maximum\n",
    "\n",
    "#напишем функцию которая выводит датасет без выбросов\n",
    "def remove_outliers(data, col):\n",
    "    minimum, maximum = get_iqr_values(data, col)\n",
    "    data_out = data.loc[(data[col] > minimum) & (data[col] < maximum)]\n",
    "    return data_out"
   ]
  },
  {
   "cell_type": "code",
   "execution_count": 23,
   "metadata": {},
   "outputs": [],
   "source": [
    "#применим функцию к данным\n",
    "for i in ['ag', 'pb', 'sol', 'au']:\n",
    "    data_full = remove_outliers(data_full, f'rougher.output.concentrate_{i}')\n",
    "    data_full = remove_outliers(data_full, f'primary_cleaner.output.concentrate_{i}')\n",
    "    data_full = remove_outliers(data_full, f'final.output.concentrate_{i}')\n",
    "    data_train = remove_outliers(data_train, f'rougher.output.concentrate_{i}')\n",
    "    data_train = remove_outliers(data_train, f'primary_cleaner.output.concentrate_{i}')\n",
    "    data_train = remove_outliers(data_train, f'final.output.concentrate_{i}')"
   ]
  },
  {
   "cell_type": "markdown",
   "metadata": {},
   "source": [
    "# Сравнение распределения размеров гранул"
   ]
  },
  {
   "cell_type": "code",
   "execution_count": 24,
   "metadata": {},
   "outputs": [
    {
     "data": {
      "image/png": "[encoded data removed]",
      "text/plain": [
       "<Figure size 1000x600 with 1 Axes>"
      ]
     },
     "metadata": {},
     "output_type": "display_data"
    }
   ],
   "source": [
    "#построим гистограммы\n",
    "data_train['rougher.input.feed_size'].hist(\n",
    "    alpha=0.5,\n",
    "    bins=50,\n",
    "    figsize=(10, 6),\n",
    "    density=True)\n",
    "data_test['rougher.input.feed_size'].hist(\n",
    "    alpha=0.5,\n",
    "    bins=50,\n",
    "    figsize=(10, 6),\n",
    "    density=True)\n",
    "plt.legend(['Обучающая выборка', 'Тестовая выборка'], fontsize=10)\n",
    "plt.title('Распределение размеров гранул',\n",
    "          fontsize=14)\n",
    "plt.xlabel('Количество', fontsize=10)\n",
    "plt.ylabel('Значение параметров', fontsize=10)\n",
    "plt.show()"
   ]
  },
  {
   "cell_type": "code",
   "execution_count": 25,
   "metadata": {},
   "outputs": [
    {
     "data": {
      "text/plain": [
       "count    10902.000000\n",
       "mean        59.284088\n",
       "std         22.237349\n",
       "min          0.049194\n",
       "25%         47.598887\n",
       "50%         54.615425\n",
       "75%         64.745641\n",
       "max        484.967466\n",
       "Name: rougher.input.feed_size, dtype: float64"
      ]
     },
     "execution_count": 25,
     "metadata": {},
     "output_type": "execute_result"
    }
   ],
   "source": [
    "data_train['rougher.input.feed_size'].describe()"
   ]
  },
  {
   "cell_type": "code",
   "execution_count": 26,
   "metadata": {},
   "outputs": [
    {
     "data": {
      "text/plain": [
       "count    4860.000000\n",
       "mean       59.136150\n",
       "std        19.512497\n",
       "min         0.046369\n",
       "25%        47.610795\n",
       "50%        55.461058\n",
       "75%        66.538910\n",
       "max       363.989699\n",
       "Name: rougher.input.feed_size, dtype: float64"
      ]
     },
     "execution_count": 26,
     "metadata": {},
     "output_type": "execute_result"
    }
   ],
   "source": [
    "data_test['rougher.input.feed_size'].describe()"
   ]
  },
  {
   "cell_type": "markdown",
   "metadata": {},
   "source": [
    "**Вывод:**\n",
    "\n",
    "Распределение размеров гранул исходного сырья почти одинаковое на тестовой и обучающей выборках и составляет 54-55"
   ]
  },
  {
   "cell_type": "markdown",
   "metadata": {},
   "source": [
    "# Исследование суммарной концентрации металлов на разных стадиях"
   ]
  },
  {
   "cell_type": "code",
   "execution_count": 27,
   "metadata": {},
   "outputs": [],
   "source": [
    "#найдем суммарную концентрацию металлов (ag, pb, sol, au) в сырье\n",
    "sum_r_feed = data_full[['rougher.input.feed_ag', \n",
    "                   'rougher.input.feed_pb', \n",
    "                   'rougher.input.feed_sol', \n",
    "                   'rougher.input.feed_au']].sum(axis=1)\n",
    "#найдем суммарную концентрацию металлов (ag, pb, sol, au) в черновом концентрате\n",
    "sum_r_conc = data_full[['rougher.output.concentrate_ag', \n",
    "                   'rougher.output.concentrate_pb', \n",
    "                   'rougher.output.concentrate_sol', \n",
    "                   'rougher.output.concentrate_au']].sum(axis=1)\n",
    "#найдем суммарную концентрацию металлов (ag, pb, sol, au) в концентрате после первой очистки \n",
    "sum_prim_conc = data_full[['primary_cleaner.output.concentrate_ag', \n",
    "                   'primary_cleaner.output.concentrate_pb', \n",
    "                   'primary_cleaner.output.concentrate_sol', \n",
    "                   'primary_cleaner.output.concentrate_au']].sum(axis=1)\n",
    "#найдем суммарную концентрацию металлов (ag, pb, sol, au) в финальном концентрате\n",
    "sum_fin_conc = data_full[['final.output.concentrate_ag', \n",
    "                   'final.output.concentrate_pb', \n",
    "                   'final.output.concentrate_sol', \n",
    "                   'final.output.concentrate_au']].sum(axis=1)"
   ]
  },
  {
   "cell_type": "code",
   "execution_count": 28,
   "metadata": {
    "scrolled": false
   },
   "outputs": [
    {
     "data": {
      "image/png": "[encoded data removed]",
      "text/plain": [
       "<Figure size 1200x600 with 1 Axes>"
      ]
     },
     "metadata": {},
     "output_type": "display_data"
    }
   ],
   "source": [
    "#построим общую гистограмму\n",
    "plt.figure(figsize=(12, 6))\n",
    "sns.histplot(sum_r_feed,\n",
    "             label='В сырье',\n",
    "             color='b',\n",
    "             kde=False)\n",
    "sns.histplot(sum_r_conc,\n",
    "             label='В черновом концентрате',\n",
    "             color='r',\n",
    "             kde=False)\n",
    "sns.histplot(sum_prim_conc,\n",
    "             label='В концентрате после первой очистки ',\n",
    "             color='m',\n",
    "             kde=False)\n",
    "sns.histplot(sum_fin_conc,\n",
    "             label='Финальная концентрация',\n",
    "             color='g',\n",
    "             kde=False)\n",
    "plt.title('Суммарная концентрация металлов на разных стадиях',\n",
    "          fontsize=14)\n",
    "plt.xlabel('Суммарная концентрация', fontsize=12)\n",
    "plt.ylabel('Количество', fontsize=12)\n",
    "plt.legend()\n",
    "plt.show()"
   ]
  },
  {
   "cell_type": "markdown",
   "metadata": {},
   "source": [
    "**Вывод:**\n",
    "\n",
    "На гистограмме видно, что суммарная концентрация металла растет"
   ]
  },
  {
   "cell_type": "markdown",
   "metadata": {},
   "source": [
    "## Модель"
   ]
  },
  {
   "cell_type": "markdown",
   "metadata": {},
   "source": [
    "# Функция вычисления итоговой sMAPE"
   ]
  },
  {
   "cell_type": "code",
   "execution_count": 29,
   "metadata": {},
   "outputs": [],
   "source": [
    "#напишем функцию, которая вычисляет метрику sMAPE для каждого признака\n",
    "def smape(target, predict):\n",
    "    smape = 1/(len(target)) * sum(abs(target - predict) \\\n",
    "                / ((abs(target) + abs(predict)) / 2)) * 100\n",
    "    return smape"
   ]
  },
  {
   "cell_type": "code",
   "execution_count": 30,
   "metadata": {},
   "outputs": [],
   "source": [
    "#напишем функцию вычисляющую итоговую sMAPE\n",
    "def final_smape(rougher, final):\n",
    "    final_smape = 0.25 * rougher + 0.75 * final\n",
    "    return final_smape"
   ]
  },
  {
   "cell_type": "code",
   "execution_count": 31,
   "metadata": {},
   "outputs": [],
   "source": [
    "smape_score = make_scorer(smape, greater_is_better = False)"
   ]
  },
  {
   "cell_type": "markdown",
   "metadata": {},
   "source": [
    "# Обучие и проверка нескольких моделей"
   ]
  },
  {
   "cell_type": "code",
   "execution_count": 32,
   "metadata": {},
   "outputs": [],
   "source": [
    "RANDOM_STATE = 12345"
   ]
  },
  {
   "cell_type": "code",
   "execution_count": 33,
   "metadata": {},
   "outputs": [],
   "source": [
    "#поделим данные на features и target\n",
    "features_train = data_train.drop(columns=different_train_test, axis=1)\n",
    "target_train_rougher = data_train['rougher.output.recovery']\n",
    "target_train_final = data_train['final.output.recovery']"
   ]
  },
  {
   "cell_type": "code",
   "execution_count": 34,
   "metadata": {},
   "outputs": [],
   "source": [
    "#машстабируем признаки\n",
    "scaler = StandardScaler()\n",
    "scaler.fit(features_train)\n",
    "features_train = scaler.transform(features_train)"
   ]
  },
  {
   "cell_type": "code",
   "execution_count": 35,
   "metadata": {},
   "outputs": [],
   "source": [
    "#обучим модель дерева решений\n",
    "def dtr_learn(features, target):\n",
    "    best_result = 20\n",
    "    best_depth = 0\n",
    "    for depth in tqdm(range(2, 12, 2)):\n",
    "        model = DecisionTreeRegressor(max_depth=depth, random_state=RANDOM_STATE)\n",
    "        smape = cross_val_score(model, features, target, scoring=smape_score, n_jobs=-1, cv=5).mean()\n",
    "    if smape < best_result:\n",
    "        best_result = smape\n",
    "        best_depth = depth\n",
    "\n",
    "    return smape, model"
   ]
  },
  {
   "cell_type": "code",
   "execution_count": 36,
   "metadata": {},
   "outputs": [
    {
     "name": "stderr",
     "output_type": "stream",
     "text": [
      "100%|████████████████████████████████████████████████████████████████████████████████████| 5/5 [00:08<00:00,  1.61s/it]\n",
      "100%|████████████████████████████████████████████████████████████████████████████████████| 5/5 [00:03<00:00,  1.29it/s]"
     ]
    },
    {
     "name": "stdout",
     "output_type": "stream",
     "text": [
      "Лучшая модель для признака rougher: DecisionTreeRegressor(max_depth=10, random_state=12345)\n",
      "Лучшая модель для признака final: DecisionTreeRegressor(max_depth=10, random_state=12345)\n",
      "Наилучший показатель sMAPE: 10.814396240985813\n",
      "CPU times: total: 203 ms\n",
      "Wall time: 11.9 s\n"
     ]
    },
    {
     "name": "stderr",
     "output_type": "stream",
     "text": [
      "\n"
     ]
    }
   ],
   "source": [
    "%%time\n",
    "\n",
    "smape_dtr_rougher, model_dtr_rougher = dtr_learn(features_train, target_train_rougher)\n",
    "smape_dtr_final, model_dtr_final = dtr_learn(features_train, target_train_final)\n",
    "print('Лучшая модель для признака rougher:', model_dtr_rougher)\n",
    "print('Лучшая модель для признака final:', model_dtr_final)\n",
    "print(f'Наилучший показатель sMAPE: {final_smape(smape_dtr_rougher, smape_dtr_final) * (-1)}')"
   ]
  },
  {
   "cell_type": "code",
   "execution_count": 37,
   "metadata": {},
   "outputs": [],
   "source": [
    "#обучим модель случайного леса\n",
    "def rfr_learn(features, target):\n",
    "    best_result = 20\n",
    "    best_estim = 0\n",
    "    best_depth = 0\n",
    "    for estim in range(1, 51, 10):\n",
    "        for depth in tqdm(range(2, 11)):\n",
    "            model = RandomForestRegressor(n_estimators=estim, max_depth=depth, n_jobs=-1, random_state=RANDOM_STATE)\n",
    "            smape = cross_val_score(model, features, target, scoring=smape_score, n_jobs=-1, cv=5).mean()\n",
    "    if smape < best_result:\n",
    "        best_result = smape\n",
    "        best_depth = depth\n",
    "\n",
    "    return smape, model"
   ]
  },
  {
   "cell_type": "code",
   "execution_count": 38,
   "metadata": {},
   "outputs": [
    {
     "name": "stderr",
     "output_type": "stream",
     "text": [
      "100%|████████████████████████████████████████████████████████████████████████████████████| 9/9 [00:05<00:00,  1.50it/s]\n",
      "100%|████████████████████████████████████████████████████████████████████████████████████| 9/9 [00:30<00:00,  3.37s/it]\n",
      "100%|████████████████████████████████████████████████████████████████████████████████████| 9/9 [01:00<00:00,  6.76s/it]\n",
      "100%|████████████████████████████████████████████████████████████████████████████████████| 9/9 [01:28<00:00,  9.88s/it]\n",
      "100%|████████████████████████████████████████████████████████████████████████████████████| 9/9 [01:58<00:00, 13.19s/it]\n",
      "100%|████████████████████████████████████████████████████████████████████████████████████| 9/9 [00:05<00:00,  1.51it/s]\n",
      "100%|████████████████████████████████████████████████████████████████████████████████████| 9/9 [00:31<00:00,  3.55s/it]\n",
      "100%|████████████████████████████████████████████████████████████████████████████████████| 9/9 [01:02<00:00,  6.96s/it]\n",
      "100%|████████████████████████████████████████████████████████████████████████████████████| 9/9 [01:28<00:00,  9.88s/it]\n",
      "100%|████████████████████████████████████████████████████████████████████████████████████| 9/9 [02:02<00:00, 13.58s/it]"
     ]
    },
    {
     "name": "stdout",
     "output_type": "stream",
     "text": [
      "Лучшая модель для признака rougher: RandomForestRegressor(max_depth=10, n_estimators=41, n_jobs=-1,\n",
      "                      random_state=12345)\n",
      "Лучшая модель для признака final: RandomForestRegressor(max_depth=10, n_estimators=41, n_jobs=-1,\n",
      "                      random_state=12345)\n",
      "Наилучший показатель sMAPE: 7.89814544913283\n",
      "CPU times: total: 1.62 s\n",
      "Wall time: 10min 16s\n"
     ]
    },
    {
     "name": "stderr",
     "output_type": "stream",
     "text": [
      "\n"
     ]
    }
   ],
   "source": [
    "%%time\n",
    "\n",
    "smape_rfr_rougher, model_rfr_rougher = rfr_learn(features_train, target_train_rougher)\n",
    "smape_rfr_final, model_rfr_final = rfr_learn(features_train, target_train_final)\n",
    "print(f'Лучшая модель для признака rougher: {model_rfr_rougher}')\n",
    "print(f'Лучшая модель для признака final: {model_rfr_final}')\n",
    "print(f'Наилучший показатель sMAPE: {final_smape(smape_rfr_rougher, smape_rfr_final) * (-1)}')"
   ]
  },
  {
   "cell_type": "code",
   "execution_count": 39,
   "metadata": {},
   "outputs": [
    {
     "name": "stdout",
     "output_type": "stream",
     "text": [
      "Наилучший показатель sMAPE у модели LinearRegression(): 8.090165843994061\n",
      "CPU times: total: 1.17 s\n",
      "Wall time: 468 ms\n"
     ]
    }
   ],
   "source": [
    "%%time\n",
    "\n",
    "model_lr_rougher = LinearRegression()\n",
    "smape_rougher = cross_val_score(model_lr_rougher, features_train,  target_train_rougher, scoring=smape_score, cv=5).mean()\n",
    "\n",
    "model_lr_final = LinearRegression()\n",
    "smape_final = cross_val_score(model_lr_final, features_train, target_train_final, scoring=smape_score, cv=5).mean()\n",
    "\n",
    "result_smape = final_smape(smape_rougher, smape_final) * (-1)\n",
    "print(f'Наилучший показатель sMAPE у модели {model_lr_final}: {result_smape}')"
   ]
  },
  {
   "cell_type": "markdown",
   "metadata": {},
   "source": [
    "**Вывод:**\n",
    "\n",
    "Обучили три разные модели. \n",
    "Получили результаты:\n",
    "- Дерево решений = 10.81\n",
    "- Случайный лес = 7.90\n",
    "- Линейная регрессия = 8.09\n",
    "\n",
    "Лучший результат показала модель случайного леса, её выберем для проверки на тестовой выборке."
   ]
  },
  {
   "cell_type": "markdown",
   "metadata": {},
   "source": [
    "# Проверка лучшей модели на тестовой выборке"
   ]
  },
  {
   "cell_type": "code",
   "execution_count": 40,
   "metadata": {},
   "outputs": [],
   "source": [
    "#поделим данные на features и target\n",
    "features_test = data_test.drop(['rougher.output.recovery', 'final.output.recovery'], axis=1)\n",
    "target_test_rougher = data_test['rougher.output.recovery']\n",
    "target_test_final = data_test['final.output.recovery']\n",
    "\n",
    "#масштабируем признаки\n",
    "features_test = scaler.transform(features_test)"
   ]
  },
  {
   "cell_type": "code",
   "execution_count": 41,
   "metadata": {},
   "outputs": [
    {
     "name": "stdout",
     "output_type": "stream",
     "text": [
      "Итоговое sMAPE на тестовой выборке: 5.872514432107605\n"
     ]
    }
   ],
   "source": [
    "#обучим модель случайного леса на тестовой выборке\n",
    "model_rfr_rougher = RandomForestRegressor(n_estimators=41, max_depth=10, random_state=RANDOM_STATE)\n",
    "model_rfr_final = RandomForestRegressor(n_estimators=41, max_depth=10, random_state=RANDOM_STATE)\n",
    "\n",
    "model_rfr_rougher.fit(features_train, target_train_rougher)\n",
    "model_rfr_final.fit(features_train, target_train_final)\n",
    "\n",
    "rougher_test_predict = model_rfr_rougher.predict(features_test)\n",
    "final_test_predict = model_rfr_final.predict(features_test)\n",
    "\n",
    "smape_rougher_test = smape(target_test_rougher, rougher_test_predict)\n",
    "smape_final_test = smape(target_test_final, final_test_predict)\n",
    "\n",
    "result_smape = final_smape(smape_rougher_test, smape_final_test)\n",
    "print('Итоговое sMAPE на тестовой выборке:', result_smape)"
   ]
  },
  {
   "cell_type": "markdown",
   "metadata": {},
   "source": [
    "# Проверка на адекватность"
   ]
  },
  {
   "cell_type": "code",
   "execution_count": 42,
   "metadata": {},
   "outputs": [
    {
     "name": "stdout",
     "output_type": "stream",
     "text": [
      "Показатель sMAPE у модели: 8.318770836258688\n"
     ]
    }
   ],
   "source": [
    "dummy_rougher = DummyRegressor(strategy=\"mean\")\n",
    "dummy_final = DummyRegressor(strategy=\"mean\")\n",
    "\n",
    "dummy_rougher.fit(features_train, target_train_rougher)\n",
    "dummy_final.fit(features_train, target_train_final)\n",
    "\n",
    "dummy_predicted_rougher = dummy_rougher.predict(features_test)\n",
    "dummy_predicted_final = dummy_final.predict(features_test)\n",
    "\n",
    "smape_const_rougher = smape(target_test_rougher, dummy_predicted_rougher)\n",
    "smape_const_final = smape(target_test_final, dummy_predicted_final)\n",
    "\n",
    "final_smape_const = final_smape(smape_const_rougher, smape_const_final)\n",
    "print(f'Показатель sMAPE у модели: {final_smape_const}')"
   ]
  },
  {
   "cell_type": "markdown",
   "metadata": {},
   "source": [
    "**Вывод:**\n",
    "\n",
    "Лучшей моделью стал `RandomForestRegressor`. Он дал результат метрики sMAPE равный 7.90 на обучающей выборке и 5.87 на тестовой. При этом константная модель показала результат 8.32"
   ]
  },
  {
   "cell_type": "markdown",
   "metadata": {},
   "source": [
    "# Общий вывод:"
   ]
  },
  {
   "cell_type": "markdown",
   "metadata": {},
   "source": [
    "1. Подготовили данные.\n",
    "2. Сделали предобработку данных.\n",
    "3. Проанализировали данные.\n",
    "4. Обучили модели и вычислили sMAPE.\n",
    "5. Лучшей моделью стал случайный лес, константная модель на тестовых данных показала метрику sMAPE = 8.32."
   ]
  }
 ],
 "metadata": {
  "ExecuteTimeLog": [
   {
    "duration": 1582,
    "start_time": "2023-06-05T12:29:31.850Z"
   },
   {
    "duration": 124,
    "start_time": "2023-06-05T12:31:58.069Z"
   },
   {
    "duration": 2113,
    "start_time": "2023-06-05T12:32:09.444Z"
   },
   {
    "duration": 9,
    "start_time": "2023-06-05T12:32:29.297Z"
   },
   {
    "duration": 19,
    "start_time": "2023-06-05T12:32:32.285Z"
   },
   {
    "duration": 17,
    "start_time": "2023-06-05T12:32:40.995Z"
   },
   {
    "duration": 52,
    "start_time": "2023-06-05T12:32:56.239Z"
   },
   {
    "duration": 15,
    "start_time": "2023-06-05T12:33:14.242Z"
   },
   {
    "duration": 13,
    "start_time": "2023-06-05T12:33:16.574Z"
   },
   {
    "duration": 17,
    "start_time": "2023-06-05T12:33:19.461Z"
   },
   {
    "duration": 53,
    "start_time": "2023-06-05T12:35:30.214Z"
   },
   {
    "duration": 566,
    "start_time": "2023-06-05T12:36:29.533Z"
   },
   {
    "duration": 99,
    "start_time": "2023-06-05T12:38:53.139Z"
   },
   {
    "duration": 85,
    "start_time": "2023-06-05T12:38:58.741Z"
   },
   {
    "duration": 84,
    "start_time": "2023-06-05T12:39:10.067Z"
   },
   {
    "duration": 131,
    "start_time": "2023-06-05T12:39:17.371Z"
   },
   {
    "duration": 19,
    "start_time": "2023-06-05T12:39:27.314Z"
   },
   {
    "duration": 135,
    "start_time": "2023-06-05T12:39:45.204Z"
   },
   {
    "duration": 9,
    "start_time": "2023-06-05T12:41:00.266Z"
   },
   {
    "duration": 10,
    "start_time": "2023-06-05T12:41:04.975Z"
   },
   {
    "duration": 10,
    "start_time": "2023-06-05T12:41:07.385Z"
   },
   {
    "duration": 9,
    "start_time": "2023-06-05T12:41:15.660Z"
   },
   {
    "duration": 10,
    "start_time": "2023-06-05T12:41:21.501Z"
   },
   {
    "duration": 10,
    "start_time": "2023-06-05T12:41:25.950Z"
   },
   {
    "duration": 6,
    "start_time": "2023-06-05T12:41:30.636Z"
   },
   {
    "duration": 9,
    "start_time": "2023-06-05T12:41:39.355Z"
   },
   {
    "duration": 7,
    "start_time": "2023-06-05T12:41:44.006Z"
   },
   {
    "duration": 10,
    "start_time": "2023-06-05T12:41:49.435Z"
   },
   {
    "duration": 10,
    "start_time": "2023-06-05T12:41:56.432Z"
   },
   {
    "duration": 9,
    "start_time": "2023-06-05T12:42:00.433Z"
   },
   {
    "duration": 10,
    "start_time": "2023-06-05T12:42:05.546Z"
   },
   {
    "duration": 9,
    "start_time": "2023-06-05T12:42:10.719Z"
   },
   {
    "duration": 16,
    "start_time": "2023-06-05T12:42:50.490Z"
   },
   {
    "duration": 118,
    "start_time": "2023-06-05T12:43:07.952Z"
   },
   {
    "duration": 11,
    "start_time": "2023-06-05T12:43:12.032Z"
   },
   {
    "duration": 6513,
    "start_time": "2023-06-05T13:34:29.044Z"
   },
   {
    "duration": 4313,
    "start_time": "2023-06-05T13:34:54.911Z"
   },
   {
    "duration": 52,
    "start_time": "2023-06-06T13:20:46.960Z"
   },
   {
    "duration": 1654,
    "start_time": "2023-06-06T13:20:50.940Z"
   },
   {
    "duration": 3683,
    "start_time": "2023-06-06T13:20:52.596Z"
   },
   {
    "duration": 11,
    "start_time": "2023-06-06T13:20:59.797Z"
   },
   {
    "duration": 8,
    "start_time": "2023-06-06T13:21:08.100Z"
   },
   {
    "duration": 9,
    "start_time": "2023-06-06T13:21:24.631Z"
   },
   {
    "duration": 10,
    "start_time": "2023-06-06T13:22:12.959Z"
   },
   {
    "duration": 49,
    "start_time": "2023-06-06T13:22:21.150Z"
   },
   {
    "duration": 10,
    "start_time": "2023-06-06T13:22:25.197Z"
   },
   {
    "duration": 39,
    "start_time": "2023-06-06T13:25:37.446Z"
   },
   {
    "duration": 10,
    "start_time": "2023-06-06T13:25:38.815Z"
   },
   {
    "duration": 12,
    "start_time": "2023-06-06T13:26:00.958Z"
   },
   {
    "duration": 9,
    "start_time": "2023-06-06T13:26:02.790Z"
   },
   {
    "duration": 70,
    "start_time": "2023-06-06T13:31:03.725Z"
   },
   {
    "duration": 75,
    "start_time": "2023-06-06T13:31:06.348Z"
   },
   {
    "duration": 9,
    "start_time": "2023-06-06T13:31:46.619Z"
   },
   {
    "duration": 70,
    "start_time": "2023-06-06T13:31:59.456Z"
   },
   {
    "duration": 50,
    "start_time": "2023-06-06T13:32:02.698Z"
   },
   {
    "duration": 9,
    "start_time": "2023-06-06T13:32:07.084Z"
   },
   {
    "duration": 11,
    "start_time": "2023-06-06T13:32:11.749Z"
   },
   {
    "duration": 45,
    "start_time": "2023-06-29T09:55:45.520Z"
   },
   {
    "duration": 1645,
    "start_time": "2023-06-29T09:55:50.926Z"
   },
   {
    "duration": 3309,
    "start_time": "2023-06-29T09:55:52.573Z"
   },
   {
    "duration": 21,
    "start_time": "2023-06-29T09:55:55.885Z"
   },
   {
    "duration": 77,
    "start_time": "2023-06-29T09:55:55.908Z"
   },
   {
    "duration": 12,
    "start_time": "2023-06-29T09:56:04.680Z"
   },
   {
    "duration": 3,
    "start_time": "2023-06-29T09:56:22.440Z"
   },
   {
    "duration": 9,
    "start_time": "2023-06-29T09:56:25.958Z"
   },
   {
    "duration": 4,
    "start_time": "2023-06-29T10:52:41.819Z"
   },
   {
    "duration": 7,
    "start_time": "2023-06-29T10:52:44.485Z"
   },
   {
    "duration": 5,
    "start_time": "2023-06-29T10:52:54.749Z"
   },
   {
    "duration": 5,
    "start_time": "2023-06-29T10:58:39.807Z"
   },
   {
    "duration": 132,
    "start_time": "2023-06-29T11:02:58.498Z"
   },
   {
    "duration": 6,
    "start_time": "2023-06-29T11:15:58.202Z"
   },
   {
    "duration": 11,
    "start_time": "2023-06-29T11:15:58.496Z"
   },
   {
    "duration": 10,
    "start_time": "2023-06-29T11:15:59.085Z"
   },
   {
    "duration": 11,
    "start_time": "2023-06-29T11:15:59.438Z"
   },
   {
    "duration": 10,
    "start_time": "2023-06-29T11:16:03.631Z"
   },
   {
    "duration": 10,
    "start_time": "2023-06-29T11:16:17.786Z"
   },
   {
    "duration": 1609,
    "start_time": "2023-06-29T11:16:28.212Z"
   },
   {
    "duration": 760,
    "start_time": "2023-06-29T11:16:29.823Z"
   },
   {
    "duration": 21,
    "start_time": "2023-06-29T11:16:30.585Z"
   },
   {
    "duration": 38,
    "start_time": "2023-06-29T11:16:30.608Z"
   },
   {
    "duration": 49,
    "start_time": "2023-06-29T11:16:30.647Z"
   },
   {
    "duration": 54,
    "start_time": "2023-06-29T11:16:30.697Z"
   },
   {
    "duration": 601,
    "start_time": "2023-06-29T11:16:30.753Z"
   },
   {
    "duration": 15,
    "start_time": "2023-06-29T11:16:31.356Z"
   },
   {
    "duration": 13,
    "start_time": "2023-06-29T11:16:31.374Z"
   },
   {
    "duration": 51,
    "start_time": "2023-06-29T11:16:31.389Z"
   },
   {
    "duration": 45,
    "start_time": "2023-06-29T11:16:31.441Z"
   },
   {
    "duration": 35,
    "start_time": "2023-06-29T11:16:31.487Z"
   },
   {
    "duration": 44,
    "start_time": "2023-06-29T11:16:31.524Z"
   },
   {
    "duration": 27,
    "start_time": "2023-06-29T11:16:31.570Z"
   },
   {
    "duration": 28,
    "start_time": "2023-06-29T11:16:31.599Z"
   },
   {
    "duration": 13,
    "start_time": "2023-06-29T11:18:07.443Z"
   },
   {
    "duration": 10,
    "start_time": "2023-06-29T11:18:18.340Z"
   },
   {
    "duration": 9,
    "start_time": "2023-06-29T11:18:22.254Z"
   },
   {
    "duration": 1502,
    "start_time": "2023-06-29T11:18:28.613Z"
   },
   {
    "duration": 738,
    "start_time": "2023-06-29T11:18:30.117Z"
   },
   {
    "duration": 29,
    "start_time": "2023-06-29T11:18:30.857Z"
   },
   {
    "duration": 16,
    "start_time": "2023-06-29T11:18:30.889Z"
   },
   {
    "duration": 35,
    "start_time": "2023-06-29T11:18:30.907Z"
   },
   {
    "duration": 62,
    "start_time": "2023-06-29T11:18:30.944Z"
   },
   {
    "duration": 596,
    "start_time": "2023-06-29T11:18:31.007Z"
   },
   {
    "duration": 8,
    "start_time": "2023-06-29T11:18:31.605Z"
   },
   {
    "duration": 26,
    "start_time": "2023-06-29T11:18:31.615Z"
   },
   {
    "duration": 39,
    "start_time": "2023-06-29T11:18:31.644Z"
   },
   {
    "duration": 17,
    "start_time": "2023-06-29T11:18:31.685Z"
   },
   {
    "duration": 35,
    "start_time": "2023-06-29T11:18:31.704Z"
   },
   {
    "duration": 51,
    "start_time": "2023-06-29T11:18:31.741Z"
   },
   {
    "duration": 24,
    "start_time": "2023-06-29T11:18:31.793Z"
   },
   {
    "duration": 18,
    "start_time": "2023-06-29T11:18:31.818Z"
   },
   {
    "duration": 1861,
    "start_time": "2023-06-29T11:19:03.954Z"
   },
   {
    "duration": 805,
    "start_time": "2023-06-29T11:19:05.818Z"
   },
   {
    "duration": 22,
    "start_time": "2023-06-29T11:19:06.625Z"
   },
   {
    "duration": 36,
    "start_time": "2023-06-29T11:19:06.650Z"
   },
   {
    "duration": 17,
    "start_time": "2023-06-29T11:19:06.688Z"
   },
   {
    "duration": 77,
    "start_time": "2023-06-29T11:19:06.707Z"
   },
   {
    "duration": 609,
    "start_time": "2023-06-29T11:19:06.786Z"
   },
   {
    "duration": 8,
    "start_time": "2023-06-29T11:19:07.396Z"
   },
   {
    "duration": 9,
    "start_time": "2023-06-29T11:19:07.405Z"
   },
   {
    "duration": 13,
    "start_time": "2023-06-29T11:19:07.416Z"
   },
   {
    "duration": 10,
    "start_time": "2023-06-29T11:19:07.430Z"
   },
   {
    "duration": 28,
    "start_time": "2023-06-29T11:19:07.441Z"
   },
   {
    "duration": 19,
    "start_time": "2023-06-29T11:19:07.471Z"
   },
   {
    "duration": 11,
    "start_time": "2023-06-29T11:19:07.492Z"
   },
   {
    "duration": 8,
    "start_time": "2023-06-29T11:19:07.505Z"
   },
   {
    "duration": 1791,
    "start_time": "2023-06-29T11:19:20.791Z"
   },
   {
    "duration": 742,
    "start_time": "2023-06-29T11:19:22.584Z"
   },
   {
    "duration": 19,
    "start_time": "2023-06-29T11:19:23.328Z"
   },
   {
    "duration": 41,
    "start_time": "2023-06-29T11:19:23.348Z"
   },
   {
    "duration": 17,
    "start_time": "2023-06-29T11:19:23.391Z"
   },
   {
    "duration": 61,
    "start_time": "2023-06-29T11:19:23.409Z"
   },
   {
    "duration": 605,
    "start_time": "2023-06-29T11:19:23.471Z"
   },
   {
    "duration": 10,
    "start_time": "2023-06-29T11:19:24.083Z"
   },
   {
    "duration": 20,
    "start_time": "2023-06-29T11:19:24.095Z"
   },
   {
    "duration": 12,
    "start_time": "2023-06-29T11:19:24.117Z"
   },
   {
    "duration": 17,
    "start_time": "2023-06-29T11:19:24.131Z"
   },
   {
    "duration": 8,
    "start_time": "2023-06-29T11:19:24.150Z"
   },
   {
    "duration": 25,
    "start_time": "2023-06-29T11:19:24.160Z"
   },
   {
    "duration": 12,
    "start_time": "2023-06-29T11:19:24.187Z"
   },
   {
    "duration": 13,
    "start_time": "2023-06-29T11:19:24.200Z"
   },
   {
    "duration": 12,
    "start_time": "2023-06-29T11:29:01.016Z"
   },
   {
    "duration": 10,
    "start_time": "2023-06-29T11:32:54.929Z"
   },
   {
    "duration": 7687,
    "start_time": "2023-06-29T11:32:56.235Z"
   },
   {
    "duration": 0,
    "start_time": "2023-06-29T11:33:03.924Z"
   },
   {
    "duration": 0,
    "start_time": "2023-06-29T11:33:03.925Z"
   },
   {
    "duration": 1668,
    "start_time": "2023-06-29T11:33:17.314Z"
   },
   {
    "duration": 760,
    "start_time": "2023-06-29T11:33:18.984Z"
   },
   {
    "duration": 38,
    "start_time": "2023-06-29T11:33:19.745Z"
   },
   {
    "duration": 14,
    "start_time": "2023-06-29T11:33:19.785Z"
   },
   {
    "duration": 17,
    "start_time": "2023-06-29T11:33:19.801Z"
   },
   {
    "duration": 71,
    "start_time": "2023-06-29T11:33:19.820Z"
   },
   {
    "duration": 597,
    "start_time": "2023-06-29T11:33:19.892Z"
   },
   {
    "duration": 7,
    "start_time": "2023-06-29T11:33:20.491Z"
   },
   {
    "duration": 5,
    "start_time": "2023-06-29T11:33:20.500Z"
   },
   {
    "duration": 11,
    "start_time": "2023-06-29T11:33:20.507Z"
   },
   {
    "duration": 10,
    "start_time": "2023-06-29T11:33:20.520Z"
   },
   {
    "duration": 39,
    "start_time": "2023-06-29T11:33:20.532Z"
   },
   {
    "duration": 14,
    "start_time": "2023-06-29T11:33:20.574Z"
   },
   {
    "duration": 9,
    "start_time": "2023-06-29T11:33:20.592Z"
   },
   {
    "duration": 8,
    "start_time": "2023-06-29T11:33:20.603Z"
   },
   {
    "duration": 12,
    "start_time": "2023-06-29T11:33:20.612Z"
   },
   {
    "duration": 50,
    "start_time": "2023-06-29T11:33:20.626Z"
   },
   {
    "duration": 18,
    "start_time": "2023-06-29T11:33:20.683Z"
   },
   {
    "duration": 84,
    "start_time": "2023-07-01T16:50:44.438Z"
   },
   {
    "duration": 1922,
    "start_time": "2023-07-01T16:50:48.009Z"
   },
   {
    "duration": 2517,
    "start_time": "2023-07-01T16:50:49.934Z"
   },
   {
    "duration": 26,
    "start_time": "2023-07-01T16:50:52.457Z"
   },
   {
    "duration": 16,
    "start_time": "2023-07-01T16:50:52.486Z"
   },
   {
    "duration": 21,
    "start_time": "2023-07-01T16:50:52.504Z"
   },
   {
    "duration": 102,
    "start_time": "2023-07-01T16:50:52.553Z"
   },
   {
    "duration": 656,
    "start_time": "2023-07-01T16:50:52.662Z"
   },
   {
    "duration": 9,
    "start_time": "2023-07-01T16:50:53.321Z"
   },
   {
    "duration": 29,
    "start_time": "2023-07-01T16:50:53.333Z"
   },
   {
    "duration": 28,
    "start_time": "2023-07-01T16:50:53.365Z"
   },
   {
    "duration": 32,
    "start_time": "2023-07-01T16:50:53.446Z"
   },
   {
    "duration": 9,
    "start_time": "2023-07-01T16:50:54.198Z"
   },
   {
    "duration": 11,
    "start_time": "2023-07-01T16:50:54.476Z"
   },
   {
    "duration": 13,
    "start_time": "2023-07-01T16:50:54.922Z"
   },
   {
    "duration": 12,
    "start_time": "2023-07-01T16:50:55.179Z"
   },
   {
    "duration": 22,
    "start_time": "2023-07-01T16:50:55.439Z"
   },
   {
    "duration": 17,
    "start_time": "2023-07-01T16:50:55.871Z"
   },
   {
    "duration": 25,
    "start_time": "2023-07-01T16:50:56.145Z"
   },
   {
    "duration": 590,
    "start_time": "2023-07-01T16:50:58.810Z"
   },
   {
    "duration": 681,
    "start_time": "2023-07-01T16:51:10.239Z"
   },
   {
    "duration": 91,
    "start_time": "2023-07-01T16:51:44.439Z"
   },
   {
    "duration": 938,
    "start_time": "2023-07-01T16:51:48.923Z"
   },
   {
    "duration": 1146,
    "start_time": "2023-07-01T16:51:57.412Z"
   },
   {
    "duration": 913,
    "start_time": "2023-07-01T16:52:13.427Z"
   },
   {
    "duration": 1105,
    "start_time": "2023-07-01T16:52:26.599Z"
   },
   {
    "duration": 636,
    "start_time": "2023-07-01T16:52:32.111Z"
   },
   {
    "duration": 930,
    "start_time": "2023-07-01T16:52:34.890Z"
   },
   {
    "duration": 877,
    "start_time": "2023-07-01T16:53:16.932Z"
   },
   {
    "duration": 746,
    "start_time": "2023-07-01T16:54:02.390Z"
   },
   {
    "duration": 571,
    "start_time": "2023-07-01T16:54:39.107Z"
   },
   {
    "duration": 583,
    "start_time": "2023-07-01T16:54:52.329Z"
   },
   {
    "duration": 770,
    "start_time": "2023-07-01T16:55:01.794Z"
   },
   {
    "duration": 578,
    "start_time": "2023-07-01T16:57:11.615Z"
   },
   {
    "duration": 628,
    "start_time": "2023-07-01T16:57:59.108Z"
   },
   {
    "duration": 677,
    "start_time": "2023-07-01T16:58:11.371Z"
   },
   {
    "duration": 567,
    "start_time": "2023-07-01T16:58:19.460Z"
   },
   {
    "duration": 887,
    "start_time": "2023-07-01T16:58:51.490Z"
   },
   {
    "duration": 1143,
    "start_time": "2023-07-01T16:59:08.557Z"
   },
   {
    "duration": 1619,
    "start_time": "2023-07-01T16:59:21.479Z"
   },
   {
    "duration": 1134,
    "start_time": "2023-07-01T16:59:33.360Z"
   },
   {
    "duration": 1031,
    "start_time": "2023-07-01T16:59:46.298Z"
   },
   {
    "duration": 1222,
    "start_time": "2023-07-01T16:59:55.394Z"
   },
   {
    "duration": 1636,
    "start_time": "2023-07-01T17:00:18.390Z"
   },
   {
    "duration": 899,
    "start_time": "2023-07-01T17:00:20.029Z"
   },
   {
    "duration": 41,
    "start_time": "2023-07-01T17:00:20.930Z"
   },
   {
    "duration": 17,
    "start_time": "2023-07-01T17:00:20.973Z"
   },
   {
    "duration": 26,
    "start_time": "2023-07-01T17:00:20.993Z"
   },
   {
    "duration": 93,
    "start_time": "2023-07-01T17:00:21.021Z"
   },
   {
    "duration": 700,
    "start_time": "2023-07-01T17:00:21.116Z"
   },
   {
    "duration": 7,
    "start_time": "2023-07-01T17:00:21.818Z"
   },
   {
    "duration": 6,
    "start_time": "2023-07-01T17:00:21.827Z"
   },
   {
    "duration": 18,
    "start_time": "2023-07-01T17:00:21.852Z"
   },
   {
    "duration": 23,
    "start_time": "2023-07-01T17:00:21.872Z"
   },
   {
    "duration": 8,
    "start_time": "2023-07-01T17:00:21.898Z"
   },
   {
    "duration": 15,
    "start_time": "2023-07-01T17:00:21.908Z"
   },
   {
    "duration": 44,
    "start_time": "2023-07-01T17:00:21.926Z"
   },
   {
    "duration": 10,
    "start_time": "2023-07-01T17:00:21.973Z"
   },
   {
    "duration": 15,
    "start_time": "2023-07-01T17:00:21.985Z"
   },
   {
    "duration": 19,
    "start_time": "2023-07-01T17:00:22.002Z"
   },
   {
    "duration": 51,
    "start_time": "2023-07-01T17:00:22.023Z"
   },
   {
    "duration": 559,
    "start_time": "2023-07-01T17:00:22.076Z"
   },
   {
    "duration": 1041,
    "start_time": "2023-07-01T17:00:22.637Z"
   },
   {
    "duration": 690,
    "start_time": "2023-07-01T17:00:51.294Z"
   },
   {
    "duration": 1124,
    "start_time": "2023-07-01T17:01:03.636Z"
   },
   {
    "duration": 1037,
    "start_time": "2023-07-01T17:01:47.781Z"
   },
   {
    "duration": 1130,
    "start_time": "2023-07-01T17:01:58.815Z"
   },
   {
    "duration": 754,
    "start_time": "2023-07-01T17:02:21.262Z"
   },
   {
    "duration": 767,
    "start_time": "2023-07-01T17:02:56.818Z"
   },
   {
    "duration": 961,
    "start_time": "2023-07-01T17:03:09.939Z"
   },
   {
    "duration": 546,
    "start_time": "2023-07-01T17:06:56.919Z"
   },
   {
    "duration": 513,
    "start_time": "2023-07-01T17:08:16.797Z"
   },
   {
    "duration": 842,
    "start_time": "2023-07-01T17:15:58.704Z"
   },
   {
    "duration": 787,
    "start_time": "2023-07-01T17:18:43.031Z"
   },
   {
    "duration": 630,
    "start_time": "2023-07-01T17:27:47.195Z"
   },
   {
    "duration": 524,
    "start_time": "2023-07-01T17:27:56.161Z"
   },
   {
    "duration": 654,
    "start_time": "2023-07-01T17:36:16.531Z"
   },
   {
    "duration": 490,
    "start_time": "2023-07-01T17:45:36.487Z"
   },
   {
    "duration": 499,
    "start_time": "2023-07-01T17:45:56.912Z"
   },
   {
    "duration": 562,
    "start_time": "2023-07-01T17:46:16.948Z"
   },
   {
    "duration": 560,
    "start_time": "2023-07-01T17:46:36.462Z"
   },
   {
    "duration": 861,
    "start_time": "2023-07-01T17:47:27.848Z"
   },
   {
    "duration": 497,
    "start_time": "2023-07-01T17:48:05.598Z"
   },
   {
    "duration": 548,
    "start_time": "2023-07-01T17:48:32.526Z"
   },
   {
    "duration": 855,
    "start_time": "2023-07-01T17:49:36.038Z"
   },
   {
    "duration": 873,
    "start_time": "2023-07-01T17:49:36.895Z"
   },
   {
    "duration": 864,
    "start_time": "2023-07-01T17:50:38.849Z"
   },
   {
    "duration": 6,
    "start_time": "2023-07-01T17:51:46.278Z"
   },
   {
    "duration": 125,
    "start_time": "2023-07-01T17:51:50.788Z"
   },
   {
    "duration": 8,
    "start_time": "2023-07-01T17:52:15.902Z"
   },
   {
    "duration": 14,
    "start_time": "2023-07-01T17:52:16.155Z"
   },
   {
    "duration": 13,
    "start_time": "2023-07-01T17:52:16.344Z"
   },
   {
    "duration": 24,
    "start_time": "2023-07-01T17:52:16.713Z"
   },
   {
    "duration": 6,
    "start_time": "2023-07-01T17:52:51.104Z"
   },
   {
    "duration": 12,
    "start_time": "2023-07-01T17:52:53.403Z"
   },
   {
    "duration": 11,
    "start_time": "2023-07-01T17:52:59.936Z"
   },
   {
    "duration": 11,
    "start_time": "2023-07-01T17:53:08.946Z"
   },
   {
    "duration": 11,
    "start_time": "2023-07-01T17:53:09.274Z"
   },
   {
    "duration": 11,
    "start_time": "2023-07-01T17:53:09.714Z"
   },
   {
    "duration": 13,
    "start_time": "2023-07-01T17:53:09.962Z"
   },
   {
    "duration": 11,
    "start_time": "2023-07-01T17:53:10.137Z"
   },
   {
    "duration": 1673,
    "start_time": "2023-07-01T17:53:15.015Z"
   },
   {
    "duration": 889,
    "start_time": "2023-07-01T17:53:16.691Z"
   },
   {
    "duration": 26,
    "start_time": "2023-07-01T17:53:17.583Z"
   },
   {
    "duration": 20,
    "start_time": "2023-07-01T17:53:17.611Z"
   },
   {
    "duration": 21,
    "start_time": "2023-07-01T17:53:17.652Z"
   },
   {
    "duration": 105,
    "start_time": "2023-07-01T17:53:17.676Z"
   },
   {
    "duration": 840,
    "start_time": "2023-07-01T17:53:17.784Z"
   },
   {
    "duration": 10,
    "start_time": "2023-07-01T17:53:18.626Z"
   },
   {
    "duration": 15,
    "start_time": "2023-07-01T17:53:18.638Z"
   },
   {
    "duration": 14,
    "start_time": "2023-07-01T17:53:18.656Z"
   },
   {
    "duration": 14,
    "start_time": "2023-07-01T17:53:18.673Z"
   },
   {
    "duration": 10,
    "start_time": "2023-07-01T17:53:18.689Z"
   },
   {
    "duration": 54,
    "start_time": "2023-07-01T17:53:18.702Z"
   },
   {
    "duration": 15,
    "start_time": "2023-07-01T17:53:18.760Z"
   },
   {
    "duration": 15,
    "start_time": "2023-07-01T17:53:18.777Z"
   },
   {
    "duration": 15,
    "start_time": "2023-07-01T17:53:18.794Z"
   },
   {
    "duration": 48,
    "start_time": "2023-07-01T17:53:18.811Z"
   },
   {
    "duration": 21,
    "start_time": "2023-07-01T17:53:18.861Z"
   },
   {
    "duration": 633,
    "start_time": "2023-07-01T17:53:18.884Z"
   },
   {
    "duration": 1121,
    "start_time": "2023-07-01T17:53:19.519Z"
   },
   {
    "duration": 827,
    "start_time": "2023-07-01T17:53:20.642Z"
   },
   {
    "duration": 6,
    "start_time": "2023-07-01T17:53:37.460Z"
   },
   {
    "duration": 119,
    "start_time": "2023-07-01T17:53:44.801Z"
   },
   {
    "duration": 11,
    "start_time": "2023-07-01T17:53:51.246Z"
   },
   {
    "duration": 1530,
    "start_time": "2023-07-01T17:53:55.142Z"
   },
   {
    "duration": 818,
    "start_time": "2023-07-01T17:53:56.674Z"
   },
   {
    "duration": 30,
    "start_time": "2023-07-01T17:53:57.494Z"
   },
   {
    "duration": 36,
    "start_time": "2023-07-01T17:53:57.527Z"
   },
   {
    "duration": 24,
    "start_time": "2023-07-01T17:53:57.565Z"
   },
   {
    "duration": 109,
    "start_time": "2023-07-01T17:53:57.591Z"
   },
   {
    "duration": 730,
    "start_time": "2023-07-01T17:53:57.702Z"
   },
   {
    "duration": 20,
    "start_time": "2023-07-01T17:53:58.434Z"
   },
   {
    "duration": 6,
    "start_time": "2023-07-01T17:53:58.457Z"
   },
   {
    "duration": 23,
    "start_time": "2023-07-01T17:53:58.467Z"
   },
   {
    "duration": 22,
    "start_time": "2023-07-01T17:53:58.492Z"
   },
   {
    "duration": 15,
    "start_time": "2023-07-01T17:53:58.517Z"
   },
   {
    "duration": 29,
    "start_time": "2023-07-01T17:53:58.534Z"
   },
   {
    "duration": 12,
    "start_time": "2023-07-01T17:53:58.566Z"
   },
   {
    "duration": 11,
    "start_time": "2023-07-01T17:53:58.581Z"
   },
   {
    "duration": 14,
    "start_time": "2023-07-01T17:53:58.594Z"
   },
   {
    "duration": 51,
    "start_time": "2023-07-01T17:53:58.609Z"
   },
   {
    "duration": 19,
    "start_time": "2023-07-01T17:53:58.662Z"
   },
   {
    "duration": 542,
    "start_time": "2023-07-01T17:53:58.683Z"
   },
   {
    "duration": 987,
    "start_time": "2023-07-01T17:53:59.227Z"
   },
   {
    "duration": 747,
    "start_time": "2023-07-01T17:54:00.216Z"
   },
   {
    "duration": 1577,
    "start_time": "2023-07-01T17:57:24.510Z"
   },
   {
    "duration": 806,
    "start_time": "2023-07-01T17:57:26.090Z"
   },
   {
    "duration": 23,
    "start_time": "2023-07-01T17:57:26.898Z"
   },
   {
    "duration": 30,
    "start_time": "2023-07-01T17:57:26.923Z"
   },
   {
    "duration": 21,
    "start_time": "2023-07-01T17:57:26.954Z"
   },
   {
    "duration": 89,
    "start_time": "2023-07-01T17:57:26.978Z"
   },
   {
    "duration": 682,
    "start_time": "2023-07-01T17:57:27.069Z"
   },
   {
    "duration": 9,
    "start_time": "2023-07-01T17:57:27.753Z"
   },
   {
    "duration": 17,
    "start_time": "2023-07-01T17:57:27.764Z"
   },
   {
    "duration": 32,
    "start_time": "2023-07-01T17:57:27.784Z"
   },
   {
    "duration": 12,
    "start_time": "2023-07-01T17:57:27.818Z"
   },
   {
    "duration": 9,
    "start_time": "2023-07-01T17:57:27.832Z"
   },
   {
    "duration": 12,
    "start_time": "2023-07-01T17:57:27.852Z"
   },
   {
    "duration": 29,
    "start_time": "2023-07-01T17:57:27.866Z"
   },
   {
    "duration": 19,
    "start_time": "2023-07-01T17:57:27.897Z"
   },
   {
    "duration": 16,
    "start_time": "2023-07-01T17:57:27.918Z"
   },
   {
    "duration": 27,
    "start_time": "2023-07-01T17:57:27.937Z"
   },
   {
    "duration": 13,
    "start_time": "2023-07-01T17:57:27.967Z"
   },
   {
    "duration": 718,
    "start_time": "2023-07-01T17:57:27.982Z"
   },
   {
    "duration": 1127,
    "start_time": "2023-07-01T17:57:28.702Z"
   },
   {
    "duration": 800,
    "start_time": "2023-07-01T17:57:29.831Z"
   },
   {
    "duration": 11,
    "start_time": "2023-07-01T17:57:50.812Z"
   },
   {
    "duration": 119,
    "start_time": "2023-07-01T17:57:53.734Z"
   },
   {
    "duration": 1470,
    "start_time": "2023-07-01T17:58:03.700Z"
   },
   {
    "duration": 806,
    "start_time": "2023-07-01T17:58:05.172Z"
   },
   {
    "duration": 25,
    "start_time": "2023-07-01T17:58:05.980Z"
   },
   {
    "duration": 19,
    "start_time": "2023-07-01T17:58:06.007Z"
   },
   {
    "duration": 22,
    "start_time": "2023-07-01T17:58:06.051Z"
   },
   {
    "duration": 85,
    "start_time": "2023-07-01T17:58:06.075Z"
   },
   {
    "duration": 649,
    "start_time": "2023-07-01T17:58:06.162Z"
   },
   {
    "duration": 9,
    "start_time": "2023-07-01T17:58:06.812Z"
   },
   {
    "duration": 20,
    "start_time": "2023-07-01T17:58:06.823Z"
   },
   {
    "duration": 24,
    "start_time": "2023-07-01T17:58:06.845Z"
   },
   {
    "duration": 12,
    "start_time": "2023-07-01T17:58:06.871Z"
   },
   {
    "duration": 7,
    "start_time": "2023-07-01T17:58:06.885Z"
   },
   {
    "duration": 7,
    "start_time": "2023-07-01T17:58:06.894Z"
   },
   {
    "duration": 14,
    "start_time": "2023-07-01T17:58:06.904Z"
   },
   {
    "duration": 37,
    "start_time": "2023-07-01T17:58:06.920Z"
   },
   {
    "duration": 19,
    "start_time": "2023-07-01T17:58:06.959Z"
   },
   {
    "duration": 16,
    "start_time": "2023-07-01T17:58:06.980Z"
   },
   {
    "duration": 15,
    "start_time": "2023-07-01T17:58:06.998Z"
   },
   {
    "duration": 594,
    "start_time": "2023-07-01T17:58:07.015Z"
   },
   {
    "duration": 1163,
    "start_time": "2023-07-01T17:58:07.611Z"
   },
   {
    "duration": 738,
    "start_time": "2023-07-01T17:58:08.776Z"
   },
   {
    "duration": 9,
    "start_time": "2023-07-01T17:58:16.966Z"
   },
   {
    "duration": 744,
    "start_time": "2023-07-01T17:58:19.942Z"
   },
   {
    "duration": 646,
    "start_time": "2023-07-01T17:58:39.597Z"
   },
   {
    "duration": 548,
    "start_time": "2023-07-01T17:58:46.505Z"
   },
   {
    "duration": 16,
    "start_time": "2023-07-01T17:59:39.528Z"
   },
   {
    "duration": 1481,
    "start_time": "2023-07-01T17:59:43.351Z"
   },
   {
    "duration": 868,
    "start_time": "2023-07-01T17:59:44.834Z"
   },
   {
    "duration": 26,
    "start_time": "2023-07-01T17:59:45.704Z"
   },
   {
    "duration": 34,
    "start_time": "2023-07-01T17:59:45.733Z"
   },
   {
    "duration": 28,
    "start_time": "2023-07-01T17:59:45.770Z"
   },
   {
    "duration": 98,
    "start_time": "2023-07-01T17:59:45.801Z"
   },
   {
    "duration": 660,
    "start_time": "2023-07-01T17:59:45.901Z"
   },
   {
    "duration": 9,
    "start_time": "2023-07-01T17:59:46.564Z"
   },
   {
    "duration": 11,
    "start_time": "2023-07-01T17:59:46.575Z"
   },
   {
    "duration": 14,
    "start_time": "2023-07-01T17:59:46.588Z"
   },
   {
    "duration": 13,
    "start_time": "2023-07-01T17:59:46.604Z"
   },
   {
    "duration": 36,
    "start_time": "2023-07-01T17:59:46.619Z"
   },
   {
    "duration": 5,
    "start_time": "2023-07-01T17:59:46.658Z"
   },
   {
    "duration": 15,
    "start_time": "2023-07-01T17:59:46.666Z"
   },
   {
    "duration": 16,
    "start_time": "2023-07-01T17:59:46.683Z"
   },
   {
    "duration": 16,
    "start_time": "2023-07-01T17:59:46.701Z"
   },
   {
    "duration": 15,
    "start_time": "2023-07-01T17:59:46.753Z"
   },
   {
    "duration": 13,
    "start_time": "2023-07-01T17:59:46.771Z"
   },
   {
    "duration": 582,
    "start_time": "2023-07-01T17:59:46.786Z"
   },
   {
    "duration": 1115,
    "start_time": "2023-07-01T17:59:47.370Z"
   },
   {
    "duration": 749,
    "start_time": "2023-07-01T17:59:48.488Z"
   },
   {
    "duration": 1330,
    "start_time": "2023-07-01T18:26:59.149Z"
   },
   {
    "duration": 1215,
    "start_time": "2023-07-01T18:27:05.106Z"
   },
   {
    "duration": 615,
    "start_time": "2023-07-01T18:38:29.660Z"
   },
   {
    "duration": 581,
    "start_time": "2023-07-01T18:38:36.419Z"
   },
   {
    "duration": 829,
    "start_time": "2023-07-01T18:38:50.078Z"
   },
   {
    "duration": 1821,
    "start_time": "2023-07-02T16:13:43.037Z"
   },
   {
    "duration": 3576,
    "start_time": "2023-07-02T16:13:44.860Z"
   },
   {
    "duration": 23,
    "start_time": "2023-07-02T16:13:48.438Z"
   },
   {
    "duration": 18,
    "start_time": "2023-07-02T16:13:48.463Z"
   },
   {
    "duration": 22,
    "start_time": "2023-07-02T16:13:48.485Z"
   },
   {
    "duration": 99,
    "start_time": "2023-07-02T16:13:48.509Z"
   },
   {
    "duration": 684,
    "start_time": "2023-07-02T16:13:48.610Z"
   },
   {
    "duration": 8,
    "start_time": "2023-07-02T16:13:49.296Z"
   },
   {
    "duration": 5,
    "start_time": "2023-07-02T16:13:49.306Z"
   },
   {
    "duration": 14,
    "start_time": "2023-07-02T16:13:49.313Z"
   },
   {
    "duration": 39,
    "start_time": "2023-07-02T16:13:49.329Z"
   },
   {
    "duration": 10,
    "start_time": "2023-07-02T16:13:49.374Z"
   },
   {
    "duration": 24,
    "start_time": "2023-07-02T16:13:49.385Z"
   },
   {
    "duration": 18,
    "start_time": "2023-07-02T16:13:49.413Z"
   },
   {
    "duration": 20,
    "start_time": "2023-07-02T16:13:49.433Z"
   },
   {
    "duration": 21,
    "start_time": "2023-07-02T16:13:49.455Z"
   },
   {
    "duration": 23,
    "start_time": "2023-07-02T16:13:49.478Z"
   },
   {
    "duration": 15,
    "start_time": "2023-07-02T16:13:49.503Z"
   },
   {
    "duration": 606,
    "start_time": "2023-07-02T16:13:49.519Z"
   },
   {
    "duration": 1170,
    "start_time": "2023-07-02T16:13:50.127Z"
   },
   {
    "duration": 785,
    "start_time": "2023-07-02T16:13:51.299Z"
   },
   {
    "duration": 151,
    "start_time": "2023-07-02T16:14:39.030Z"
   },
   {
    "duration": 440,
    "start_time": "2023-07-02T16:17:05.090Z"
   },
   {
    "duration": 9,
    "start_time": "2023-07-02T16:17:54.793Z"
   },
   {
    "duration": 119,
    "start_time": "2023-07-02T16:19:25.894Z"
   },
   {
    "duration": 94,
    "start_time": "2023-07-02T16:19:37.629Z"
   },
   {
    "duration": 10434,
    "start_time": "2023-07-02T16:20:08.464Z"
   },
   {
    "duration": 1073,
    "start_time": "2023-07-02T16:22:52.107Z"
   },
   {
    "duration": 948,
    "start_time": "2023-07-02T16:25:00.812Z"
   },
   {
    "duration": 881,
    "start_time": "2023-07-02T16:27:21.932Z"
   },
   {
    "duration": 479,
    "start_time": "2023-07-02T16:27:37.414Z"
   },
   {
    "duration": 452,
    "start_time": "2023-07-02T16:28:05.795Z"
   },
   {
    "duration": 1086,
    "start_time": "2023-07-02T16:28:13.590Z"
   },
   {
    "duration": 579,
    "start_time": "2023-07-02T16:28:18.527Z"
   },
   {
    "duration": 412,
    "start_time": "2023-07-02T16:28:26.741Z"
   },
   {
    "duration": 628,
    "start_time": "2023-07-02T16:28:32.203Z"
   },
   {
    "duration": 615,
    "start_time": "2023-07-02T16:28:45.634Z"
   },
   {
    "duration": 1005,
    "start_time": "2023-07-02T16:28:50.426Z"
   },
   {
    "duration": 412,
    "start_time": "2023-07-02T16:32:19.295Z"
   },
   {
    "duration": 412,
    "start_time": "2023-07-02T16:32:48.898Z"
   },
   {
    "duration": 525,
    "start_time": "2023-07-02T16:35:13.453Z"
   },
   {
    "duration": 440,
    "start_time": "2023-07-02T16:35:20.904Z"
   },
   {
    "duration": 454,
    "start_time": "2023-07-02T16:36:09.694Z"
   },
   {
    "duration": 444,
    "start_time": "2023-07-02T16:36:41.042Z"
   },
   {
    "duration": 478,
    "start_time": "2023-07-02T16:36:50.707Z"
   },
   {
    "duration": 477,
    "start_time": "2023-07-02T16:36:54.655Z"
   },
   {
    "duration": 444,
    "start_time": "2023-07-02T16:36:57.895Z"
   },
   {
    "duration": 531,
    "start_time": "2023-07-02T16:37:02.199Z"
   },
   {
    "duration": 453,
    "start_time": "2023-07-02T16:37:23.097Z"
   },
   {
    "duration": 13,
    "start_time": "2023-07-02T16:39:38.599Z"
   },
   {
    "duration": 17,
    "start_time": "2023-07-02T16:39:38.903Z"
   },
   {
    "duration": 409,
    "start_time": "2023-07-02T16:46:36.989Z"
   },
   {
    "duration": 19,
    "start_time": "2023-07-02T16:52:05.282Z"
   },
   {
    "duration": 15,
    "start_time": "2023-07-02T16:52:09.926Z"
   },
   {
    "duration": 10,
    "start_time": "2023-07-02T16:52:14.489Z"
   },
   {
    "duration": 1914,
    "start_time": "2023-07-02T16:52:26.904Z"
   },
   {
    "duration": 1322,
    "start_time": "2023-07-02T16:52:35.126Z"
   },
   {
    "duration": 218,
    "start_time": "2023-07-02T16:53:15.923Z"
   },
   {
    "duration": 1298,
    "start_time": "2023-07-02T16:53:20.427Z"
   },
   {
    "duration": 1972,
    "start_time": "2023-07-02T16:53:22.725Z"
   },
   {
    "duration": 1356,
    "start_time": "2023-07-02T16:53:27.465Z"
   },
   {
    "duration": 1425,
    "start_time": "2023-07-02T16:53:29.816Z"
   },
   {
    "duration": 236,
    "start_time": "2023-07-02T16:53:33.783Z"
   },
   {
    "duration": 1992,
    "start_time": "2023-07-02T16:53:38.408Z"
   },
   {
    "duration": 222,
    "start_time": "2023-07-02T16:53:42.364Z"
   },
   {
    "duration": 203,
    "start_time": "2023-07-02T16:53:44.513Z"
   },
   {
    "duration": 205,
    "start_time": "2023-07-02T16:53:47.400Z"
   },
   {
    "duration": 213,
    "start_time": "2023-07-02T16:53:50.420Z"
   },
   {
    "duration": 222,
    "start_time": "2023-07-02T16:53:52.217Z"
   },
   {
    "duration": 1303,
    "start_time": "2023-07-02T16:53:57.984Z"
   },
   {
    "duration": 1370,
    "start_time": "2023-07-02T16:54:18.315Z"
   },
   {
    "duration": 2095,
    "start_time": "2023-07-02T16:54:48.058Z"
   },
   {
    "duration": 1442,
    "start_time": "2023-07-02T17:00:29.397Z"
   },
   {
    "duration": 12,
    "start_time": "2023-07-02T17:07:48.618Z"
   },
   {
    "duration": 2567,
    "start_time": "2023-07-02T17:07:51.682Z"
   },
   {
    "duration": 594,
    "start_time": "2023-07-02T17:14:11.170Z"
   },
   {
    "duration": 12,
    "start_time": "2023-07-02T17:14:17.100Z"
   },
   {
    "duration": 1662,
    "start_time": "2023-07-02T17:14:17.436Z"
   },
   {
    "duration": 2225,
    "start_time": "2023-07-02T17:14:29.594Z"
   },
   {
    "duration": 1728,
    "start_time": "2023-07-02T17:14:33.276Z"
   },
   {
    "duration": 2227,
    "start_time": "2023-07-02T17:14:44.281Z"
   },
   {
    "duration": 1626,
    "start_time": "2023-07-02T17:14:51.754Z"
   },
   {
    "duration": 12,
    "start_time": "2023-07-02T17:15:19.392Z"
   },
   {
    "duration": 2139,
    "start_time": "2023-07-02T17:15:19.709Z"
   },
   {
    "duration": 20,
    "start_time": "2023-07-02T17:15:36.119Z"
   },
   {
    "duration": 1620,
    "start_time": "2023-07-02T17:15:36.661Z"
   },
   {
    "duration": 18,
    "start_time": "2023-07-02T17:15:43.337Z"
   },
   {
    "duration": 11,
    "start_time": "2023-07-02T17:15:53.797Z"
   },
   {
    "duration": 2203,
    "start_time": "2023-07-02T17:15:56.340Z"
   },
   {
    "duration": 16,
    "start_time": "2023-07-02T17:21:16.629Z"
   },
   {
    "duration": 16,
    "start_time": "2023-07-02T17:21:47.372Z"
   },
   {
    "duration": 4,
    "start_time": "2023-07-02T17:21:58.282Z"
   },
   {
    "duration": 14,
    "start_time": "2023-07-02T17:21:59.531Z"
   },
   {
    "duration": 5,
    "start_time": "2023-07-02T17:22:27.229Z"
   },
   {
    "duration": 131,
    "start_time": "2023-07-02T17:22:27.955Z"
   },
   {
    "duration": 13,
    "start_time": "2023-07-02T17:22:35.431Z"
   },
   {
    "duration": 946,
    "start_time": "2023-07-02T17:22:36.188Z"
   },
   {
    "duration": 582,
    "start_time": "2023-07-02T17:23:49.713Z"
   },
   {
    "duration": 696,
    "start_time": "2023-07-02T17:23:56.862Z"
   },
   {
    "duration": 715,
    "start_time": "2023-07-02T17:24:06.871Z"
   },
   {
    "duration": 5,
    "start_time": "2023-07-02T17:29:30.022Z"
   },
   {
    "duration": 161,
    "start_time": "2023-07-02T17:29:30.490Z"
   },
   {
    "duration": 136,
    "start_time": "2023-07-02T17:30:18.513Z"
   },
   {
    "duration": 111,
    "start_time": "2023-07-02T17:31:10.828Z"
   },
   {
    "duration": 1717,
    "start_time": "2023-07-02T17:31:34.557Z"
   },
   {
    "duration": 3323,
    "start_time": "2023-07-02T17:31:36.277Z"
   },
   {
    "duration": 25,
    "start_time": "2023-07-02T17:31:39.602Z"
   },
   {
    "duration": 16,
    "start_time": "2023-07-02T17:31:39.629Z"
   },
   {
    "duration": 31,
    "start_time": "2023-07-02T17:31:39.648Z"
   },
   {
    "duration": 97,
    "start_time": "2023-07-02T17:31:39.681Z"
   },
   {
    "duration": 781,
    "start_time": "2023-07-02T17:31:39.781Z"
   },
   {
    "duration": 12,
    "start_time": "2023-07-02T17:31:40.564Z"
   },
   {
    "duration": 7,
    "start_time": "2023-07-02T17:31:40.579Z"
   },
   {
    "duration": 20,
    "start_time": "2023-07-02T17:31:40.588Z"
   },
   {
    "duration": 39,
    "start_time": "2023-07-02T17:31:40.610Z"
   },
   {
    "duration": 24,
    "start_time": "2023-07-02T17:31:40.652Z"
   },
   {
    "duration": 13,
    "start_time": "2023-07-02T17:31:40.678Z"
   },
   {
    "duration": 18,
    "start_time": "2023-07-02T17:31:40.696Z"
   },
   {
    "duration": 52,
    "start_time": "2023-07-02T17:31:40.717Z"
   },
   {
    "duration": 25,
    "start_time": "2023-07-02T17:31:40.772Z"
   },
   {
    "duration": 16,
    "start_time": "2023-07-02T17:31:40.800Z"
   },
   {
    "duration": 14,
    "start_time": "2023-07-02T17:31:40.818Z"
   },
   {
    "duration": 666,
    "start_time": "2023-07-02T17:31:40.866Z"
   },
   {
    "duration": 1138,
    "start_time": "2023-07-02T17:31:41.535Z"
   },
   {
    "duration": 847,
    "start_time": "2023-07-02T17:31:42.676Z"
   },
   {
    "duration": 4,
    "start_time": "2023-07-02T17:31:43.526Z"
   },
   {
    "duration": 149,
    "start_time": "2023-07-02T17:31:43.532Z"
   },
   {
    "duration": 697,
    "start_time": "2023-07-02T17:31:43.683Z"
   },
   {
    "duration": 11,
    "start_time": "2023-07-02T17:31:44.382Z"
   },
   {
    "duration": 11,
    "start_time": "2023-07-02T17:31:44.396Z"
   },
   {
    "duration": 16,
    "start_time": "2023-07-02T17:31:44.410Z"
   },
   {
    "duration": 999,
    "start_time": "2023-07-02T17:31:44.428Z"
   },
   {
    "duration": 919,
    "start_time": "2023-07-02T17:35:44.525Z"
   },
   {
    "duration": 699,
    "start_time": "2023-07-02T17:36:30.449Z"
   },
   {
    "duration": 698,
    "start_time": "2023-07-02T17:36:31.151Z"
   },
   {
    "duration": 744,
    "start_time": "2023-07-02T17:36:31.852Z"
   },
   {
    "duration": 2030,
    "start_time": "2023-07-04T06:25:34.662Z"
   },
   {
    "duration": 3346,
    "start_time": "2023-07-04T06:25:36.694Z"
   },
   {
    "duration": 29,
    "start_time": "2023-07-04T06:25:40.043Z"
   },
   {
    "duration": 18,
    "start_time": "2023-07-04T06:25:40.074Z"
   },
   {
    "duration": 31,
    "start_time": "2023-07-04T06:25:40.094Z"
   },
   {
    "duration": 95,
    "start_time": "2023-07-04T06:25:40.126Z"
   },
   {
    "duration": 590,
    "start_time": "2023-07-04T06:25:40.222Z"
   },
   {
    "duration": 12,
    "start_time": "2023-07-04T06:25:40.813Z"
   },
   {
    "duration": 25,
    "start_time": "2023-07-04T06:25:40.826Z"
   },
   {
    "duration": 18,
    "start_time": "2023-07-04T06:25:40.853Z"
   },
   {
    "duration": 9,
    "start_time": "2023-07-04T06:25:40.872Z"
   },
   {
    "duration": 6,
    "start_time": "2023-07-04T06:25:40.883Z"
   },
   {
    "duration": 4,
    "start_time": "2023-07-04T06:25:40.890Z"
   },
   {
    "duration": 48,
    "start_time": "2023-07-04T06:25:40.896Z"
   },
   {
    "duration": 18,
    "start_time": "2023-07-04T06:25:40.945Z"
   },
   {
    "duration": 13,
    "start_time": "2023-07-04T06:25:40.965Z"
   },
   {
    "duration": 10,
    "start_time": "2023-07-04T06:25:40.980Z"
   },
   {
    "duration": 29,
    "start_time": "2023-07-04T06:25:40.992Z"
   },
   {
    "duration": 583,
    "start_time": "2023-07-04T06:25:41.026Z"
   },
   {
    "duration": 870,
    "start_time": "2023-07-04T06:25:41.610Z"
   },
   {
    "duration": 680,
    "start_time": "2023-07-04T06:25:42.481Z"
   },
   {
    "duration": 5,
    "start_time": "2023-07-04T06:25:43.163Z"
   },
   {
    "duration": 209,
    "start_time": "2023-07-04T06:25:43.169Z"
   },
   {
    "duration": 515,
    "start_time": "2023-07-04T06:25:43.380Z"
   },
   {
    "duration": 10,
    "start_time": "2023-07-04T06:25:43.896Z"
   },
   {
    "duration": 55,
    "start_time": "2023-07-04T06:25:43.907Z"
   },
   {
    "duration": 12,
    "start_time": "2023-07-04T06:25:43.964Z"
   },
   {
    "duration": 778,
    "start_time": "2023-07-04T06:25:43.978Z"
   },
   {
    "duration": 3,
    "start_time": "2023-07-04T06:25:44.757Z"
   },
   {
    "duration": 7,
    "start_time": "2023-07-04T06:25:44.762Z"
   },
   {
    "duration": 190,
    "start_time": "2023-07-04T06:28:22.351Z"
   },
   {
    "duration": 12,
    "start_time": "2023-07-04T06:31:11.938Z"
   },
   {
    "duration": 5,
    "start_time": "2023-07-04T06:31:15.861Z"
   },
   {
    "duration": 3,
    "start_time": "2023-07-04T06:31:20.443Z"
   },
   {
    "duration": 5,
    "start_time": "2023-07-04T07:01:31.673Z"
   },
   {
    "duration": 15,
    "start_time": "2023-07-04T07:01:32.079Z"
   },
   {
    "duration": 608,
    "start_time": "2023-07-04T07:05:36.265Z"
   },
   {
    "duration": 16510,
    "start_time": "2023-07-04T07:06:02.679Z"
   },
   {
    "duration": 4,
    "start_time": "2023-07-04T07:07:13.261Z"
   },
   {
    "duration": 1396,
    "start_time": "2023-07-04T07:07:26.501Z"
   },
   {
    "duration": 840,
    "start_time": "2023-07-04T07:07:27.898Z"
   },
   {
    "duration": 20,
    "start_time": "2023-07-04T07:07:28.739Z"
   },
   {
    "duration": 12,
    "start_time": "2023-07-04T07:07:28.760Z"
   },
   {
    "duration": 16,
    "start_time": "2023-07-04T07:07:28.774Z"
   },
   {
    "duration": 58,
    "start_time": "2023-07-04T07:07:28.791Z"
   },
   {
    "duration": 544,
    "start_time": "2023-07-04T07:07:28.850Z"
   },
   {
    "duration": 33,
    "start_time": "2023-07-04T07:07:29.396Z"
   },
   {
    "duration": 7,
    "start_time": "2023-07-04T07:07:29.436Z"
   },
   {
    "duration": 13,
    "start_time": "2023-07-04T07:07:29.444Z"
   },
   {
    "duration": 9,
    "start_time": "2023-07-04T07:07:29.458Z"
   },
   {
    "duration": 6,
    "start_time": "2023-07-04T07:07:29.468Z"
   },
   {
    "duration": 3,
    "start_time": "2023-07-04T07:07:29.476Z"
   },
   {
    "duration": 70,
    "start_time": "2023-07-04T07:07:29.482Z"
   },
   {
    "duration": 13,
    "start_time": "2023-07-04T07:07:29.553Z"
   },
   {
    "duration": 13,
    "start_time": "2023-07-04T07:07:29.567Z"
   },
   {
    "duration": 12,
    "start_time": "2023-07-04T07:07:29.582Z"
   },
   {
    "duration": 20,
    "start_time": "2023-07-04T07:07:29.596Z"
   },
   {
    "duration": 560,
    "start_time": "2023-07-04T07:07:29.618Z"
   },
   {
    "duration": 900,
    "start_time": "2023-07-04T07:07:30.179Z"
   },
   {
    "duration": 683,
    "start_time": "2023-07-04T07:07:31.080Z"
   },
   {
    "duration": 3,
    "start_time": "2023-07-04T07:07:31.765Z"
   },
   {
    "duration": 197,
    "start_time": "2023-07-04T07:07:31.769Z"
   },
   {
    "duration": 481,
    "start_time": "2023-07-04T07:07:31.968Z"
   },
   {
    "duration": 7,
    "start_time": "2023-07-04T07:07:32.451Z"
   },
   {
    "duration": 11,
    "start_time": "2023-07-04T07:07:32.460Z"
   },
   {
    "duration": 17,
    "start_time": "2023-07-04T07:07:32.472Z"
   },
   {
    "duration": 902,
    "start_time": "2023-07-04T07:07:32.490Z"
   },
   {
    "duration": 30,
    "start_time": "2023-07-04T07:07:33.393Z"
   },
   {
    "duration": 19,
    "start_time": "2023-07-04T07:07:33.429Z"
   },
   {
    "duration": 11,
    "start_time": "2023-07-04T07:07:33.450Z"
   },
   {
    "duration": 7,
    "start_time": "2023-07-04T07:07:33.462Z"
   },
   {
    "duration": 15,
    "start_time": "2023-07-04T07:07:33.471Z"
   },
   {
    "duration": 30,
    "start_time": "2023-07-04T07:07:33.488Z"
   },
   {
    "duration": 178,
    "start_time": "2023-07-04T07:07:33.520Z"
   },
   {
    "duration": 0,
    "start_time": "2023-07-04T07:07:33.710Z"
   },
   {
    "duration": 0,
    "start_time": "2023-07-04T07:07:33.711Z"
   },
   {
    "duration": 11,
    "start_time": "2023-07-04T07:08:21.564Z"
   },
   {
    "duration": 16217,
    "start_time": "2023-07-04T07:08:31.236Z"
   },
   {
    "duration": 33,
    "start_time": "2023-07-04T07:11:06.504Z"
   },
   {
    "duration": 143,
    "start_time": "2023-07-04T07:11:21.697Z"
   },
   {
    "duration": 15,
    "start_time": "2023-07-04T07:11:24.698Z"
   },
   {
    "duration": 16028,
    "start_time": "2023-07-04T07:11:32.340Z"
   },
   {
    "duration": 1434,
    "start_time": "2023-07-04T07:12:59.840Z"
   },
   {
    "duration": 821,
    "start_time": "2023-07-04T07:13:01.277Z"
   },
   {
    "duration": 31,
    "start_time": "2023-07-04T07:13:02.117Z"
   },
   {
    "duration": 34,
    "start_time": "2023-07-04T07:13:02.149Z"
   },
   {
    "duration": 66,
    "start_time": "2023-07-04T07:13:02.185Z"
   },
   {
    "duration": 94,
    "start_time": "2023-07-04T07:13:02.252Z"
   },
   {
    "duration": 546,
    "start_time": "2023-07-04T07:13:02.347Z"
   },
   {
    "duration": 38,
    "start_time": "2023-07-04T07:13:02.895Z"
   },
   {
    "duration": 10,
    "start_time": "2023-07-04T07:13:02.938Z"
   },
   {
    "duration": 14,
    "start_time": "2023-07-04T07:13:02.949Z"
   },
   {
    "duration": 9,
    "start_time": "2023-07-04T07:13:02.964Z"
   },
   {
    "duration": 7,
    "start_time": "2023-07-04T07:13:02.974Z"
   },
   {
    "duration": 7,
    "start_time": "2023-07-04T07:13:02.982Z"
   },
   {
    "duration": 42,
    "start_time": "2023-07-04T07:13:02.992Z"
   },
   {
    "duration": 26,
    "start_time": "2023-07-04T07:13:03.035Z"
   },
   {
    "duration": 12,
    "start_time": "2023-07-04T07:13:03.063Z"
   },
   {
    "duration": 12,
    "start_time": "2023-07-04T07:13:03.076Z"
   },
   {
    "duration": 15,
    "start_time": "2023-07-04T07:13:03.090Z"
   },
   {
    "duration": 593,
    "start_time": "2023-07-04T07:13:03.106Z"
   },
   {
    "duration": 968,
    "start_time": "2023-07-04T07:13:03.703Z"
   },
   {
    "duration": 655,
    "start_time": "2023-07-04T07:13:04.673Z"
   },
   {
    "duration": 5,
    "start_time": "2023-07-04T07:13:05.342Z"
   },
   {
    "duration": 133,
    "start_time": "2023-07-04T07:13:05.350Z"
   },
   {
    "duration": 445,
    "start_time": "2023-07-04T07:13:05.484Z"
   },
   {
    "duration": 8,
    "start_time": "2023-07-04T07:13:05.931Z"
   },
   {
    "duration": 38,
    "start_time": "2023-07-04T07:13:05.941Z"
   },
   {
    "duration": 65,
    "start_time": "2023-07-04T07:13:05.981Z"
   },
   {
    "duration": 882,
    "start_time": "2023-07-04T07:13:06.047Z"
   },
   {
    "duration": 5,
    "start_time": "2023-07-04T07:13:06.933Z"
   },
   {
    "duration": 14,
    "start_time": "2023-07-04T07:13:06.940Z"
   },
   {
    "duration": 5,
    "start_time": "2023-07-04T07:13:06.956Z"
   },
   {
    "duration": 7,
    "start_time": "2023-07-04T07:13:06.963Z"
   },
   {
    "duration": 7,
    "start_time": "2023-07-04T07:13:06.972Z"
   },
   {
    "duration": 15,
    "start_time": "2023-07-04T07:13:06.981Z"
   },
   {
    "duration": 150,
    "start_time": "2023-07-04T07:13:06.997Z"
   },
   {
    "duration": 0,
    "start_time": "2023-07-04T07:13:07.148Z"
   },
   {
    "duration": 0,
    "start_time": "2023-07-04T07:13:07.149Z"
   },
   {
    "duration": 17026,
    "start_time": "2023-07-04T07:13:10.159Z"
   },
   {
    "duration": 1645,
    "start_time": "2023-07-04T07:13:30.652Z"
   },
   {
    "duration": 886,
    "start_time": "2023-07-04T07:13:32.299Z"
   },
   {
    "duration": 43,
    "start_time": "2023-07-04T07:13:33.186Z"
   },
   {
    "duration": 14,
    "start_time": "2023-07-04T07:13:33.237Z"
   },
   {
    "duration": 19,
    "start_time": "2023-07-04T07:13:33.252Z"
   },
   {
    "duration": 62,
    "start_time": "2023-07-04T07:13:33.272Z"
   },
   {
    "duration": 597,
    "start_time": "2023-07-04T07:13:33.341Z"
   },
   {
    "duration": 9,
    "start_time": "2023-07-04T07:13:33.942Z"
   },
   {
    "duration": 9,
    "start_time": "2023-07-04T07:13:33.952Z"
   },
   {
    "duration": 10,
    "start_time": "2023-07-04T07:13:33.963Z"
   },
   {
    "duration": 46,
    "start_time": "2023-07-04T07:13:33.975Z"
   },
   {
    "duration": 11,
    "start_time": "2023-07-04T07:13:34.022Z"
   },
   {
    "duration": 24,
    "start_time": "2023-07-04T07:13:34.034Z"
   },
   {
    "duration": 57,
    "start_time": "2023-07-04T07:13:34.060Z"
   },
   {
    "duration": 54,
    "start_time": "2023-07-04T07:13:34.118Z"
   },
   {
    "duration": 24,
    "start_time": "2023-07-04T07:13:34.174Z"
   },
   {
    "duration": 67,
    "start_time": "2023-07-04T07:13:34.199Z"
   },
   {
    "duration": 20,
    "start_time": "2023-07-04T07:13:34.267Z"
   },
   {
    "duration": 591,
    "start_time": "2023-07-04T07:13:34.288Z"
   },
   {
    "duration": 993,
    "start_time": "2023-07-04T07:13:34.880Z"
   },
   {
    "duration": 766,
    "start_time": "2023-07-04T07:13:35.874Z"
   },
   {
    "duration": 4,
    "start_time": "2023-07-04T07:13:36.642Z"
   },
   {
    "duration": 131,
    "start_time": "2023-07-04T07:13:36.647Z"
   },
   {
    "duration": 467,
    "start_time": "2023-07-04T07:13:36.779Z"
   },
   {
    "duration": 8,
    "start_time": "2023-07-04T07:13:37.248Z"
   },
   {
    "duration": 7,
    "start_time": "2023-07-04T07:13:37.258Z"
   },
   {
    "duration": 8,
    "start_time": "2023-07-04T07:13:37.266Z"
   },
   {
    "duration": 861,
    "start_time": "2023-07-04T07:13:37.276Z"
   },
   {
    "duration": 4,
    "start_time": "2023-07-04T07:13:38.139Z"
   },
   {
    "duration": 17,
    "start_time": "2023-07-04T07:13:38.144Z"
   },
   {
    "duration": 12,
    "start_time": "2023-07-04T07:13:38.162Z"
   },
   {
    "duration": 5,
    "start_time": "2023-07-04T07:13:38.175Z"
   },
   {
    "duration": 7,
    "start_time": "2023-07-04T07:13:38.181Z"
   },
   {
    "duration": 62,
    "start_time": "2023-07-04T07:13:38.189Z"
   },
   {
    "duration": 137,
    "start_time": "2023-07-04T07:13:38.253Z"
   },
   {
    "duration": 0,
    "start_time": "2023-07-04T07:13:38.392Z"
   },
   {
    "duration": 0,
    "start_time": "2023-07-04T07:13:38.393Z"
   },
   {
    "duration": 16034,
    "start_time": "2023-07-04T07:13:40.699Z"
   },
   {
    "duration": 1458,
    "start_time": "2023-07-04T07:15:49.227Z"
   },
   {
    "duration": 858,
    "start_time": "2023-07-04T07:15:50.687Z"
   },
   {
    "duration": 21,
    "start_time": "2023-07-04T07:15:51.547Z"
   },
   {
    "duration": 14,
    "start_time": "2023-07-04T07:15:51.570Z"
   },
   {
    "duration": 50,
    "start_time": "2023-07-04T07:15:51.586Z"
   },
   {
    "duration": 47,
    "start_time": "2023-07-04T07:15:51.642Z"
   },
   {
    "duration": 564,
    "start_time": "2023-07-04T07:15:51.690Z"
   },
   {
    "duration": 6,
    "start_time": "2023-07-04T07:15:52.255Z"
   },
   {
    "duration": 4,
    "start_time": "2023-07-04T07:15:52.263Z"
   },
   {
    "duration": 70,
    "start_time": "2023-07-04T07:15:52.268Z"
   },
   {
    "duration": 10,
    "start_time": "2023-07-04T07:15:52.339Z"
   },
   {
    "duration": 7,
    "start_time": "2023-07-04T07:15:52.350Z"
   },
   {
    "duration": 4,
    "start_time": "2023-07-04T07:15:52.358Z"
   },
   {
    "duration": 10,
    "start_time": "2023-07-04T07:15:52.365Z"
   },
   {
    "duration": 11,
    "start_time": "2023-07-04T07:15:52.376Z"
   },
   {
    "duration": 63,
    "start_time": "2023-07-04T07:15:52.389Z"
   },
   {
    "duration": 13,
    "start_time": "2023-07-04T07:15:52.453Z"
   },
   {
    "duration": 12,
    "start_time": "2023-07-04T07:15:52.467Z"
   },
   {
    "duration": 571,
    "start_time": "2023-07-04T07:15:52.480Z"
   },
   {
    "duration": 893,
    "start_time": "2023-07-04T07:15:53.053Z"
   },
   {
    "duration": 643,
    "start_time": "2023-07-04T07:15:53.948Z"
   },
   {
    "duration": 23,
    "start_time": "2023-07-04T07:15:54.592Z"
   },
   {
    "duration": 134,
    "start_time": "2023-07-04T07:15:54.627Z"
   },
   {
    "duration": 418,
    "start_time": "2023-07-04T07:15:54.762Z"
   },
   {
    "duration": 7,
    "start_time": "2023-07-04T07:15:55.182Z"
   },
   {
    "duration": 47,
    "start_time": "2023-07-04T07:15:55.190Z"
   },
   {
    "duration": 20,
    "start_time": "2023-07-04T07:15:55.238Z"
   },
   {
    "duration": 800,
    "start_time": "2023-07-04T07:15:55.260Z"
   },
   {
    "duration": 3,
    "start_time": "2023-07-04T07:15:56.062Z"
   },
   {
    "duration": 7,
    "start_time": "2023-07-04T07:15:56.067Z"
   },
   {
    "duration": 6,
    "start_time": "2023-07-04T07:15:56.076Z"
   },
   {
    "duration": 25,
    "start_time": "2023-07-04T07:15:56.084Z"
   },
   {
    "duration": 38,
    "start_time": "2023-07-04T07:15:56.117Z"
   },
   {
    "duration": 17,
    "start_time": "2023-07-04T07:15:56.157Z"
   },
   {
    "duration": 149,
    "start_time": "2023-07-04T07:15:56.176Z"
   },
   {
    "duration": 0,
    "start_time": "2023-07-04T07:15:56.334Z"
   },
   {
    "duration": 0,
    "start_time": "2023-07-04T07:15:56.334Z"
   },
   {
    "duration": 16835,
    "start_time": "2023-07-04T07:16:15.835Z"
   },
   {
    "duration": 1485,
    "start_time": "2023-07-04T07:16:48.553Z"
   },
   {
    "duration": 799,
    "start_time": "2023-07-04T07:16:50.040Z"
   },
   {
    "duration": 19,
    "start_time": "2023-07-04T07:16:50.840Z"
   },
   {
    "duration": 12,
    "start_time": "2023-07-04T07:16:50.861Z"
   },
   {
    "duration": 64,
    "start_time": "2023-07-04T07:16:50.874Z"
   },
   {
    "duration": 47,
    "start_time": "2023-07-04T07:16:50.939Z"
   },
   {
    "duration": 550,
    "start_time": "2023-07-04T07:16:50.987Z"
   },
   {
    "duration": 7,
    "start_time": "2023-07-04T07:16:51.539Z"
   },
   {
    "duration": 17,
    "start_time": "2023-07-04T07:16:51.547Z"
   },
   {
    "duration": 26,
    "start_time": "2023-07-04T07:16:51.567Z"
   },
   {
    "duration": 15,
    "start_time": "2023-07-04T07:16:51.594Z"
   },
   {
    "duration": 36,
    "start_time": "2023-07-04T07:16:51.624Z"
   },
   {
    "duration": 6,
    "start_time": "2023-07-04T07:16:51.661Z"
   },
   {
    "duration": 13,
    "start_time": "2023-07-04T07:16:51.668Z"
   },
   {
    "duration": 13,
    "start_time": "2023-07-04T07:16:51.683Z"
   },
   {
    "duration": 39,
    "start_time": "2023-07-04T07:16:51.698Z"
   },
   {
    "duration": 20,
    "start_time": "2023-07-04T07:16:51.739Z"
   },
   {
    "duration": 18,
    "start_time": "2023-07-04T07:16:51.761Z"
   },
   {
    "duration": 544,
    "start_time": "2023-07-04T07:16:51.781Z"
   },
   {
    "duration": 901,
    "start_time": "2023-07-04T07:16:52.338Z"
   },
   {
    "duration": 643,
    "start_time": "2023-07-04T07:16:53.240Z"
   },
   {
    "duration": 4,
    "start_time": "2023-07-04T07:16:53.884Z"
   },
   {
    "duration": 168,
    "start_time": "2023-07-04T07:16:53.889Z"
   },
   {
    "duration": 463,
    "start_time": "2023-07-04T07:16:54.058Z"
   },
   {
    "duration": 11,
    "start_time": "2023-07-04T07:16:54.522Z"
   },
   {
    "duration": 31,
    "start_time": "2023-07-04T07:16:54.534Z"
   },
   {
    "duration": 27,
    "start_time": "2023-07-04T07:16:54.566Z"
   },
   {
    "duration": 889,
    "start_time": "2023-07-04T07:16:54.598Z"
   },
   {
    "duration": 4,
    "start_time": "2023-07-04T07:16:55.488Z"
   },
   {
    "duration": 22,
    "start_time": "2023-07-04T07:16:55.507Z"
   },
   {
    "duration": 22,
    "start_time": "2023-07-04T07:16:55.531Z"
   },
   {
    "duration": 17,
    "start_time": "2023-07-04T07:16:55.555Z"
   },
   {
    "duration": 65,
    "start_time": "2023-07-04T07:16:55.573Z"
   },
   {
    "duration": 28,
    "start_time": "2023-07-04T07:16:55.640Z"
   },
   {
    "duration": 158,
    "start_time": "2023-07-04T07:16:55.670Z"
   },
   {
    "duration": 0,
    "start_time": "2023-07-04T07:16:55.832Z"
   },
   {
    "duration": 0,
    "start_time": "2023-07-04T07:16:55.833Z"
   },
   {
    "duration": 12,
    "start_time": "2023-07-04T07:17:45.411Z"
   },
   {
    "duration": 16252,
    "start_time": "2023-07-04T07:17:45.426Z"
   },
   {
    "duration": 10,
    "start_time": "2023-07-04T07:18:47.586Z"
   },
   {
    "duration": 1592,
    "start_time": "2023-07-04T07:19:03.933Z"
   },
   {
    "duration": 870,
    "start_time": "2023-07-04T07:19:05.526Z"
   },
   {
    "duration": 43,
    "start_time": "2023-07-04T07:19:06.398Z"
   },
   {
    "duration": 47,
    "start_time": "2023-07-04T07:19:06.443Z"
   },
   {
    "duration": 59,
    "start_time": "2023-07-04T07:19:06.492Z"
   },
   {
    "duration": 80,
    "start_time": "2023-07-04T07:19:06.552Z"
   },
   {
    "duration": 549,
    "start_time": "2023-07-04T07:19:06.634Z"
   },
   {
    "duration": 6,
    "start_time": "2023-07-04T07:19:07.184Z"
   },
   {
    "duration": 46,
    "start_time": "2023-07-04T07:19:07.192Z"
   },
   {
    "duration": 13,
    "start_time": "2023-07-04T07:19:07.240Z"
   },
   {
    "duration": 19,
    "start_time": "2023-07-04T07:19:07.254Z"
   },
   {
    "duration": 6,
    "start_time": "2023-07-04T07:19:07.275Z"
   },
   {
    "duration": 15,
    "start_time": "2023-07-04T07:19:07.283Z"
   },
   {
    "duration": 45,
    "start_time": "2023-07-04T07:19:07.305Z"
   },
   {
    "duration": 13,
    "start_time": "2023-07-04T07:19:07.352Z"
   },
   {
    "duration": 19,
    "start_time": "2023-07-04T07:19:07.366Z"
   },
   {
    "duration": 11,
    "start_time": "2023-07-04T07:19:07.387Z"
   },
   {
    "duration": 41,
    "start_time": "2023-07-04T07:19:07.399Z"
   },
   {
    "duration": 515,
    "start_time": "2023-07-04T07:19:07.442Z"
   },
   {
    "duration": 987,
    "start_time": "2023-07-04T07:19:07.959Z"
   },
   {
    "duration": 698,
    "start_time": "2023-07-04T07:19:08.948Z"
   },
   {
    "duration": 5,
    "start_time": "2023-07-04T07:19:09.648Z"
   },
   {
    "duration": 141,
    "start_time": "2023-07-04T07:19:09.654Z"
   },
   {
    "duration": 488,
    "start_time": "2023-07-04T07:19:09.796Z"
   },
   {
    "duration": 19,
    "start_time": "2023-07-04T07:19:10.286Z"
   },
   {
    "duration": 44,
    "start_time": "2023-07-04T07:19:10.306Z"
   },
   {
    "duration": 90,
    "start_time": "2023-07-04T07:19:10.352Z"
   },
   {
    "duration": 853,
    "start_time": "2023-07-04T07:19:10.444Z"
   },
   {
    "duration": 25,
    "start_time": "2023-07-04T07:19:11.298Z"
   },
   {
    "duration": 11,
    "start_time": "2023-07-04T07:19:11.335Z"
   },
   {
    "duration": 5,
    "start_time": "2023-07-04T07:19:11.348Z"
   },
   {
    "duration": 4,
    "start_time": "2023-07-04T07:19:11.355Z"
   },
   {
    "duration": 7,
    "start_time": "2023-07-04T07:19:11.361Z"
   },
   {
    "duration": 217,
    "start_time": "2023-07-04T07:19:11.370Z"
   },
   {
    "duration": 0,
    "start_time": "2023-07-04T07:19:11.589Z"
   },
   {
    "duration": 0,
    "start_time": "2023-07-04T07:19:11.590Z"
   },
   {
    "duration": 0,
    "start_time": "2023-07-04T07:19:11.593Z"
   },
   {
    "duration": 0,
    "start_time": "2023-07-04T07:19:11.595Z"
   },
   {
    "duration": 154,
    "start_time": "2023-07-04T07:19:35.925Z"
   },
   {
    "duration": 20,
    "start_time": "2023-07-04T07:20:10.218Z"
   },
   {
    "duration": 8,
    "start_time": "2023-07-04T07:20:26.553Z"
   },
   {
    "duration": 708,
    "start_time": "2023-07-04T07:20:29.367Z"
   },
   {
    "duration": 3,
    "start_time": "2023-07-04T07:20:51.988Z"
   },
   {
    "duration": 3,
    "start_time": "2023-07-04T07:20:52.071Z"
   },
   {
    "duration": 3,
    "start_time": "2023-07-04T07:20:52.463Z"
   },
   {
    "duration": 19124,
    "start_time": "2023-07-04T07:21:01.959Z"
   },
   {
    "duration": 1650,
    "start_time": "2023-07-04T07:23:36.744Z"
   },
   {
    "duration": 875,
    "start_time": "2023-07-04T07:23:38.396Z"
   },
   {
    "duration": 34,
    "start_time": "2023-07-04T07:23:39.273Z"
   },
   {
    "duration": 19,
    "start_time": "2023-07-04T07:23:39.309Z"
   },
   {
    "duration": 45,
    "start_time": "2023-07-04T07:23:39.331Z"
   },
   {
    "duration": 70,
    "start_time": "2023-07-04T07:23:39.378Z"
   },
   {
    "duration": 579,
    "start_time": "2023-07-04T07:23:39.449Z"
   },
   {
    "duration": 7,
    "start_time": "2023-07-04T07:23:40.029Z"
   },
   {
    "duration": 14,
    "start_time": "2023-07-04T07:23:40.038Z"
   },
   {
    "duration": 15,
    "start_time": "2023-07-04T07:23:40.055Z"
   },
   {
    "duration": 8,
    "start_time": "2023-07-04T07:23:40.072Z"
   },
   {
    "duration": 7,
    "start_time": "2023-07-04T07:23:40.081Z"
   },
   {
    "duration": 39,
    "start_time": "2023-07-04T07:23:40.089Z"
   },
   {
    "duration": 10,
    "start_time": "2023-07-04T07:23:40.132Z"
   },
   {
    "duration": 12,
    "start_time": "2023-07-04T07:23:40.143Z"
   },
   {
    "duration": 12,
    "start_time": "2023-07-04T07:23:40.157Z"
   },
   {
    "duration": 18,
    "start_time": "2023-07-04T07:23:40.171Z"
   },
   {
    "duration": 27,
    "start_time": "2023-07-04T07:23:40.190Z"
   },
   {
    "duration": 546,
    "start_time": "2023-07-04T07:23:40.225Z"
   },
   {
    "duration": 960,
    "start_time": "2023-07-04T07:23:40.773Z"
   },
   {
    "duration": 712,
    "start_time": "2023-07-04T07:23:41.738Z"
   },
   {
    "duration": 5,
    "start_time": "2023-07-04T07:23:42.452Z"
   },
   {
    "duration": 130,
    "start_time": "2023-07-04T07:23:42.460Z"
   },
   {
    "duration": 452,
    "start_time": "2023-07-04T07:23:42.592Z"
   },
   {
    "duration": 7,
    "start_time": "2023-07-04T07:23:43.046Z"
   },
   {
    "duration": 7,
    "start_time": "2023-07-04T07:23:43.055Z"
   },
   {
    "duration": 10,
    "start_time": "2023-07-04T07:23:43.063Z"
   },
   {
    "duration": 782,
    "start_time": "2023-07-04T07:23:43.076Z"
   },
   {
    "duration": 3,
    "start_time": "2023-07-04T07:23:43.860Z"
   },
   {
    "duration": 28,
    "start_time": "2023-07-04T07:23:43.865Z"
   },
   {
    "duration": 39,
    "start_time": "2023-07-04T07:23:43.894Z"
   },
   {
    "duration": 11,
    "start_time": "2023-07-04T07:23:43.937Z"
   },
   {
    "duration": 9,
    "start_time": "2023-07-04T07:23:43.949Z"
   },
   {
    "duration": 16,
    "start_time": "2023-07-04T07:23:43.959Z"
   },
   {
    "duration": 147,
    "start_time": "2023-07-04T07:23:43.976Z"
   },
   {
    "duration": 0,
    "start_time": "2023-07-04T07:23:44.133Z"
   },
   {
    "duration": 0,
    "start_time": "2023-07-04T07:23:44.134Z"
   },
   {
    "duration": 6,
    "start_time": "2023-07-04T07:24:49.253Z"
   },
   {
    "duration": 4,
    "start_time": "2023-07-04T07:25:00.526Z"
   },
   {
    "duration": 121,
    "start_time": "2023-07-04T07:25:01.180Z"
   },
   {
    "duration": 1396,
    "start_time": "2023-07-04T07:25:17.134Z"
   },
   {
    "duration": 756,
    "start_time": "2023-07-04T07:25:18.531Z"
   },
   {
    "duration": 40,
    "start_time": "2023-07-04T07:25:19.289Z"
   },
   {
    "duration": 15,
    "start_time": "2023-07-04T07:25:19.333Z"
   },
   {
    "duration": 16,
    "start_time": "2023-07-04T07:25:19.350Z"
   },
   {
    "duration": 74,
    "start_time": "2023-07-04T07:25:19.367Z"
   },
   {
    "duration": 527,
    "start_time": "2023-07-04T07:25:19.443Z"
   },
   {
    "duration": 7,
    "start_time": "2023-07-04T07:25:19.971Z"
   },
   {
    "duration": 4,
    "start_time": "2023-07-04T07:25:19.979Z"
   },
   {
    "duration": 54,
    "start_time": "2023-07-04T07:25:19.984Z"
   },
   {
    "duration": 15,
    "start_time": "2023-07-04T07:25:20.039Z"
   },
   {
    "duration": 6,
    "start_time": "2023-07-04T07:25:20.056Z"
   },
   {
    "duration": 4,
    "start_time": "2023-07-04T07:25:20.064Z"
   },
   {
    "duration": 11,
    "start_time": "2023-07-04T07:25:20.071Z"
   },
   {
    "duration": 12,
    "start_time": "2023-07-04T07:25:20.083Z"
   },
   {
    "duration": 30,
    "start_time": "2023-07-04T07:25:20.096Z"
   },
   {
    "duration": 14,
    "start_time": "2023-07-04T07:25:20.130Z"
   },
   {
    "duration": 9,
    "start_time": "2023-07-04T07:25:20.145Z"
   },
   {
    "duration": 492,
    "start_time": "2023-07-04T07:25:20.156Z"
   },
   {
    "duration": 838,
    "start_time": "2023-07-04T07:25:20.650Z"
   },
   {
    "duration": 602,
    "start_time": "2023-07-04T07:25:21.490Z"
   },
   {
    "duration": 15,
    "start_time": "2023-07-04T07:25:22.111Z"
   },
   {
    "duration": 126,
    "start_time": "2023-07-04T07:25:22.132Z"
   },
   {
    "duration": 411,
    "start_time": "2023-07-04T07:25:22.260Z"
   },
   {
    "duration": 8,
    "start_time": "2023-07-04T07:25:22.672Z"
   },
   {
    "duration": 29,
    "start_time": "2023-07-04T07:25:22.681Z"
   },
   {
    "duration": 42,
    "start_time": "2023-07-04T07:25:22.711Z"
   },
   {
    "duration": 875,
    "start_time": "2023-07-04T07:25:22.755Z"
   },
   {
    "duration": 3,
    "start_time": "2023-07-04T07:25:23.633Z"
   },
   {
    "duration": 7,
    "start_time": "2023-07-04T07:25:23.638Z"
   },
   {
    "duration": 10,
    "start_time": "2023-07-04T07:25:23.646Z"
   },
   {
    "duration": 7,
    "start_time": "2023-07-04T07:25:23.658Z"
   },
   {
    "duration": 10,
    "start_time": "2023-07-04T07:25:23.667Z"
   },
   {
    "duration": 30,
    "start_time": "2023-07-04T07:25:23.679Z"
   },
   {
    "duration": 158,
    "start_time": "2023-07-04T07:25:23.710Z"
   },
   {
    "duration": 0,
    "start_time": "2023-07-04T07:25:23.869Z"
   },
   {
    "duration": 1,
    "start_time": "2023-07-04T07:25:23.871Z"
   },
   {
    "duration": 0,
    "start_time": "2023-07-04T07:25:23.874Z"
   },
   {
    "duration": 9,
    "start_time": "2023-07-04T07:25:26.818Z"
   },
   {
    "duration": 111,
    "start_time": "2023-07-04T07:25:28.028Z"
   },
   {
    "duration": 21,
    "start_time": "2023-07-04T07:25:55.195Z"
   },
   {
    "duration": 10,
    "start_time": "2023-07-04T07:26:05.405Z"
   },
   {
    "duration": 116,
    "start_time": "2023-07-04T07:26:06.446Z"
   },
   {
    "duration": 25,
    "start_time": "2023-07-04T07:26:34.196Z"
   },
   {
    "duration": 112,
    "start_time": "2023-07-04T07:26:34.771Z"
   },
   {
    "duration": 3,
    "start_time": "2023-07-04T07:26:50.475Z"
   },
   {
    "duration": 6951,
    "start_time": "2023-07-04T07:26:52.080Z"
   },
   {
    "duration": 7225,
    "start_time": "2023-07-04T07:31:36.927Z"
   },
   {
    "duration": 5,
    "start_time": "2023-07-04T07:40:04.468Z"
   },
   {
    "duration": 6,
    "start_time": "2023-07-04T07:40:09.727Z"
   },
   {
    "duration": 23,
    "start_time": "2023-07-04T07:40:20.098Z"
   },
   {
    "duration": 3,
    "start_time": "2023-07-04T07:44:13.873Z"
   },
   {
    "duration": 10,
    "start_time": "2023-07-04T07:46:56.572Z"
   },
   {
    "duration": 66,
    "start_time": "2023-07-04T07:48:25.062Z"
   },
   {
    "duration": 54,
    "start_time": "2023-07-04T07:48:29.122Z"
   },
   {
    "duration": 31,
    "start_time": "2023-07-04T07:48:33.761Z"
   },
   {
    "duration": 135,
    "start_time": "2023-07-04T07:48:37.261Z"
   },
   {
    "duration": 12,
    "start_time": "2023-07-04T07:48:46.016Z"
   },
   {
    "duration": 9,
    "start_time": "2023-07-04T07:48:50.971Z"
   },
   {
    "duration": 23,
    "start_time": "2023-07-04T07:48:57.594Z"
   },
   {
    "duration": 15,
    "start_time": "2023-07-04T07:49:03.298Z"
   },
   {
    "duration": 17,
    "start_time": "2023-07-04T07:49:44.296Z"
   },
   {
    "duration": 9,
    "start_time": "2023-07-04T07:49:53.454Z"
   },
   {
    "duration": 9,
    "start_time": "2023-07-04T07:50:08.145Z"
   },
   {
    "duration": 4,
    "start_time": "2023-07-04T07:51:13.144Z"
   },
   {
    "duration": 4,
    "start_time": "2023-07-04T07:51:40.765Z"
   },
   {
    "duration": 3,
    "start_time": "2023-07-04T07:51:51.169Z"
   },
   {
    "duration": 4,
    "start_time": "2023-07-04T07:52:01.144Z"
   },
   {
    "duration": 4,
    "start_time": "2023-07-04T07:52:06.984Z"
   },
   {
    "duration": 6,
    "start_time": "2023-07-04T07:56:16.452Z"
   },
   {
    "duration": 5,
    "start_time": "2023-07-04T07:59:11.127Z"
   },
   {
    "duration": 5,
    "start_time": "2023-07-04T07:59:13.326Z"
   },
   {
    "duration": 1339,
    "start_time": "2023-07-04T07:59:29.027Z"
   },
   {
    "duration": 754,
    "start_time": "2023-07-04T07:59:30.367Z"
   },
   {
    "duration": 20,
    "start_time": "2023-07-04T07:59:31.123Z"
   },
   {
    "duration": 78,
    "start_time": "2023-07-04T07:59:31.144Z"
   },
   {
    "duration": 36,
    "start_time": "2023-07-04T07:59:31.226Z"
   },
   {
    "duration": 115,
    "start_time": "2023-07-04T07:59:31.264Z"
   },
   {
    "duration": 548,
    "start_time": "2023-07-04T07:59:31.381Z"
   },
   {
    "duration": 7,
    "start_time": "2023-07-04T07:59:31.934Z"
   },
   {
    "duration": 70,
    "start_time": "2023-07-04T07:59:31.943Z"
   },
   {
    "duration": 42,
    "start_time": "2023-07-04T07:59:32.021Z"
   },
   {
    "duration": 20,
    "start_time": "2023-07-04T07:59:32.064Z"
   },
   {
    "duration": 43,
    "start_time": "2023-07-04T07:59:32.086Z"
   },
   {
    "duration": 25,
    "start_time": "2023-07-04T07:59:32.131Z"
   },
   {
    "duration": 25,
    "start_time": "2023-07-04T07:59:32.158Z"
   },
   {
    "duration": 49,
    "start_time": "2023-07-04T07:59:32.184Z"
   },
   {
    "duration": 29,
    "start_time": "2023-07-04T07:59:32.234Z"
   },
   {
    "duration": 26,
    "start_time": "2023-07-04T07:59:32.265Z"
   },
   {
    "duration": 45,
    "start_time": "2023-07-04T07:59:32.292Z"
   },
   {
    "duration": 523,
    "start_time": "2023-07-04T07:59:32.339Z"
   },
   {
    "duration": 813,
    "start_time": "2023-07-04T07:59:32.864Z"
   },
   {
    "duration": 597,
    "start_time": "2023-07-04T07:59:33.678Z"
   },
   {
    "duration": 4,
    "start_time": "2023-07-04T07:59:34.276Z"
   },
   {
    "duration": 109,
    "start_time": "2023-07-04T07:59:34.281Z"
   },
   {
    "duration": 393,
    "start_time": "2023-07-04T07:59:34.392Z"
   },
   {
    "duration": 18,
    "start_time": "2023-07-04T07:59:34.787Z"
   },
   {
    "duration": 27,
    "start_time": "2023-07-04T07:59:34.806Z"
   },
   {
    "duration": 23,
    "start_time": "2023-07-04T07:59:34.835Z"
   },
   {
    "duration": 726,
    "start_time": "2023-07-04T07:59:34.860Z"
   },
   {
    "duration": 2,
    "start_time": "2023-07-04T07:59:35.588Z"
   },
   {
    "duration": 30,
    "start_time": "2023-07-04T07:59:35.599Z"
   },
   {
    "duration": 17,
    "start_time": "2023-07-04T07:59:35.631Z"
   },
   {
    "duration": 25,
    "start_time": "2023-07-04T07:59:35.649Z"
   },
   {
    "duration": 13,
    "start_time": "2023-07-04T07:59:35.675Z"
   },
   {
    "duration": 48,
    "start_time": "2023-07-04T07:59:35.689Z"
   },
   {
    "duration": 4,
    "start_time": "2023-07-04T07:59:35.739Z"
   },
   {
    "duration": 3371,
    "start_time": "2023-07-04T07:59:35.744Z"
   },
   {
    "duration": 14,
    "start_time": "2023-07-04T07:59:39.119Z"
   },
   {
    "duration": 4,
    "start_time": "2023-07-04T08:02:19.181Z"
   },
   {
    "duration": 3400,
    "start_time": "2023-07-04T08:02:21.043Z"
   },
   {
    "duration": 5,
    "start_time": "2023-07-04T08:02:31.288Z"
   },
   {
    "duration": 3471,
    "start_time": "2023-07-04T08:02:31.296Z"
   },
   {
    "duration": 1499,
    "start_time": "2023-07-04T08:02:48.827Z"
   },
   {
    "duration": 759,
    "start_time": "2023-07-04T08:02:50.328Z"
   },
   {
    "duration": 28,
    "start_time": "2023-07-04T08:02:51.089Z"
   },
   {
    "duration": 15,
    "start_time": "2023-07-04T08:02:51.121Z"
   },
   {
    "duration": 16,
    "start_time": "2023-07-04T08:02:51.138Z"
   },
   {
    "duration": 73,
    "start_time": "2023-07-04T08:02:51.156Z"
   },
   {
    "duration": 552,
    "start_time": "2023-07-04T08:02:51.231Z"
   },
   {
    "duration": 20,
    "start_time": "2023-07-04T08:02:51.785Z"
   },
   {
    "duration": 35,
    "start_time": "2023-07-04T08:02:51.806Z"
   },
   {
    "duration": 26,
    "start_time": "2023-07-04T08:02:51.842Z"
   },
   {
    "duration": 18,
    "start_time": "2023-07-04T08:02:51.870Z"
   },
   {
    "duration": 34,
    "start_time": "2023-07-04T08:02:51.889Z"
   },
   {
    "duration": 5,
    "start_time": "2023-07-04T08:02:51.925Z"
   },
   {
    "duration": 10,
    "start_time": "2023-07-04T08:02:51.934Z"
   },
   {
    "duration": 16,
    "start_time": "2023-07-04T08:02:51.945Z"
   },
   {
    "duration": 14,
    "start_time": "2023-07-04T08:02:51.963Z"
   },
   {
    "duration": 18,
    "start_time": "2023-07-04T08:02:51.978Z"
   },
   {
    "duration": 16,
    "start_time": "2023-07-04T08:02:52.009Z"
   },
   {
    "duration": 498,
    "start_time": "2023-07-04T08:02:52.027Z"
   },
   {
    "duration": 853,
    "start_time": "2023-07-04T08:02:52.527Z"
   },
   {
    "duration": 648,
    "start_time": "2023-07-04T08:02:53.382Z"
   },
   {
    "duration": 6,
    "start_time": "2023-07-04T08:02:54.031Z"
   },
   {
    "duration": 125,
    "start_time": "2023-07-04T08:02:54.039Z"
   },
   {
    "duration": 425,
    "start_time": "2023-07-04T08:02:54.165Z"
   },
   {
    "duration": 28,
    "start_time": "2023-07-04T08:02:54.592Z"
   },
   {
    "duration": 10,
    "start_time": "2023-07-04T08:02:54.626Z"
   },
   {
    "duration": 9,
    "start_time": "2023-07-04T08:02:54.638Z"
   },
   {
    "duration": 812,
    "start_time": "2023-07-04T08:02:54.649Z"
   },
   {
    "duration": 5,
    "start_time": "2023-07-04T08:02:55.463Z"
   },
   {
    "duration": 8,
    "start_time": "2023-07-04T08:02:55.469Z"
   },
   {
    "duration": 16,
    "start_time": "2023-07-04T08:02:55.479Z"
   },
   {
    "duration": 40,
    "start_time": "2023-07-04T08:02:55.497Z"
   },
   {
    "duration": 28,
    "start_time": "2023-07-04T08:02:55.539Z"
   },
   {
    "duration": 17,
    "start_time": "2023-07-04T08:02:55.569Z"
   },
   {
    "duration": 4,
    "start_time": "2023-07-04T08:02:55.588Z"
   },
   {
    "duration": 3579,
    "start_time": "2023-07-04T08:02:55.594Z"
   },
   {
    "duration": 12,
    "start_time": "2023-07-04T08:02:59.174Z"
   },
   {
    "duration": 12,
    "start_time": "2023-07-04T08:03:24.242Z"
   },
   {
    "duration": 3497,
    "start_time": "2023-07-04T08:03:25.828Z"
   },
   {
    "duration": 20,
    "start_time": "2023-07-04T08:03:32.502Z"
   },
   {
    "duration": 6,
    "start_time": "2023-07-04T08:03:55.338Z"
   },
   {
    "duration": 7130,
    "start_time": "2023-07-04T08:03:55.679Z"
   },
   {
    "duration": 4,
    "start_time": "2023-07-04T08:04:04.173Z"
   },
   {
    "duration": 3564,
    "start_time": "2023-07-04T08:04:04.356Z"
   },
   {
    "duration": 3692,
    "start_time": "2023-07-04T08:05:10.358Z"
   },
   {
    "duration": 4,
    "start_time": "2023-07-04T08:07:26.738Z"
   },
   {
    "duration": 3537,
    "start_time": "2023-07-04T08:07:27.066Z"
   },
   {
    "duration": 5,
    "start_time": "2023-07-04T08:07:53.336Z"
   },
   {
    "duration": 3536,
    "start_time": "2023-07-04T08:07:53.866Z"
   },
   {
    "duration": 4,
    "start_time": "2023-07-04T08:08:19.038Z"
   },
   {
    "duration": 6860,
    "start_time": "2023-07-04T08:08:19.478Z"
   },
   {
    "duration": 13,
    "start_time": "2023-07-04T08:08:57.616Z"
   },
   {
    "duration": 3509,
    "start_time": "2023-07-04T08:08:57.841Z"
   },
   {
    "duration": 1511,
    "start_time": "2023-07-04T08:09:07.144Z"
   },
   {
    "duration": 779,
    "start_time": "2023-07-04T08:09:08.657Z"
   },
   {
    "duration": 19,
    "start_time": "2023-07-04T08:09:09.437Z"
   },
   {
    "duration": 12,
    "start_time": "2023-07-04T08:09:09.457Z"
   },
   {
    "duration": 42,
    "start_time": "2023-07-04T08:09:09.471Z"
   },
   {
    "duration": 63,
    "start_time": "2023-07-04T08:09:09.514Z"
   },
   {
    "duration": 542,
    "start_time": "2023-07-04T08:09:09.579Z"
   },
   {
    "duration": 12,
    "start_time": "2023-07-04T08:09:10.122Z"
   },
   {
    "duration": 10,
    "start_time": "2023-07-04T08:09:10.136Z"
   },
   {
    "duration": 17,
    "start_time": "2023-07-04T08:09:10.147Z"
   },
   {
    "duration": 9,
    "start_time": "2023-07-04T08:09:10.166Z"
   },
   {
    "duration": 8,
    "start_time": "2023-07-04T08:09:10.177Z"
   },
   {
    "duration": 39,
    "start_time": "2023-07-04T08:09:10.186Z"
   },
   {
    "duration": 19,
    "start_time": "2023-07-04T08:09:10.231Z"
   },
   {
    "duration": 12,
    "start_time": "2023-07-04T08:09:10.252Z"
   },
   {
    "duration": 12,
    "start_time": "2023-07-04T08:09:10.266Z"
   },
   {
    "duration": 14,
    "start_time": "2023-07-04T08:09:10.279Z"
   },
   {
    "duration": 17,
    "start_time": "2023-07-04T08:09:10.294Z"
   },
   {
    "duration": 502,
    "start_time": "2023-07-04T08:09:10.312Z"
   },
   {
    "duration": 909,
    "start_time": "2023-07-04T08:09:10.816Z"
   },
   {
    "duration": 649,
    "start_time": "2023-07-04T08:09:11.726Z"
   },
   {
    "duration": 4,
    "start_time": "2023-07-04T08:09:12.377Z"
   },
   {
    "duration": 139,
    "start_time": "2023-07-04T08:09:12.382Z"
   },
   {
    "duration": 437,
    "start_time": "2023-07-04T08:09:12.522Z"
   },
   {
    "duration": 9,
    "start_time": "2023-07-04T08:09:12.961Z"
   },
   {
    "duration": 7,
    "start_time": "2023-07-04T08:09:12.972Z"
   },
   {
    "duration": 48,
    "start_time": "2023-07-04T08:09:12.981Z"
   },
   {
    "duration": 761,
    "start_time": "2023-07-04T08:09:13.031Z"
   },
   {
    "duration": 19,
    "start_time": "2023-07-04T08:09:13.794Z"
   },
   {
    "duration": 27,
    "start_time": "2023-07-04T08:09:13.814Z"
   },
   {
    "duration": 13,
    "start_time": "2023-07-04T08:09:13.843Z"
   },
   {
    "duration": 11,
    "start_time": "2023-07-04T08:09:13.858Z"
   },
   {
    "duration": 22,
    "start_time": "2023-07-04T08:09:13.871Z"
   },
   {
    "duration": 49,
    "start_time": "2023-07-04T08:09:13.895Z"
   },
   {
    "duration": 72,
    "start_time": "2023-07-04T08:09:13.945Z"
   },
   {
    "duration": 3699,
    "start_time": "2023-07-04T08:09:14.026Z"
   },
   {
    "duration": 13,
    "start_time": "2023-07-04T08:09:17.727Z"
   },
   {
    "duration": 5,
    "start_time": "2023-07-04T08:09:23.222Z"
   },
   {
    "duration": 6695,
    "start_time": "2023-07-04T08:09:23.542Z"
   },
   {
    "duration": 3,
    "start_time": "2023-07-04T08:10:02.359Z"
   },
   {
    "duration": 6887,
    "start_time": "2023-07-04T08:10:02.734Z"
   },
   {
    "duration": 4,
    "start_time": "2023-07-04T08:12:20.578Z"
   },
   {
    "duration": 6833,
    "start_time": "2023-07-04T08:12:20.792Z"
   },
   {
    "duration": 4,
    "start_time": "2023-07-04T08:19:47.180Z"
   },
   {
    "duration": 9924,
    "start_time": "2023-07-04T08:19:47.441Z"
   },
   {
    "duration": 18,
    "start_time": "2023-07-04T08:20:56.032Z"
   },
   {
    "duration": 549,
    "start_time": "2023-07-04T08:21:23.837Z"
   },
   {
    "duration": 15337,
    "start_time": "2023-07-04T08:21:32.680Z"
   },
   {
    "duration": 3,
    "start_time": "2023-07-04T08:23:33.234Z"
   },
   {
    "duration": 9,
    "start_time": "2023-07-04T08:23:53.145Z"
   },
   {
    "duration": 8,
    "start_time": "2023-07-04T08:24:02.589Z"
   },
   {
    "duration": 1827,
    "start_time": "2023-07-04T08:24:24.192Z"
   },
   {
    "duration": 849,
    "start_time": "2023-07-04T08:24:26.026Z"
   },
   {
    "duration": 44,
    "start_time": "2023-07-04T08:24:26.877Z"
   },
   {
    "duration": 16,
    "start_time": "2023-07-04T08:24:26.925Z"
   },
   {
    "duration": 28,
    "start_time": "2023-07-04T08:24:26.944Z"
   },
   {
    "duration": 70,
    "start_time": "2023-07-04T08:24:26.973Z"
   },
   {
    "duration": 584,
    "start_time": "2023-07-04T08:24:27.045Z"
   },
   {
    "duration": 11,
    "start_time": "2023-07-04T08:24:27.630Z"
   },
   {
    "duration": 28,
    "start_time": "2023-07-04T08:24:27.642Z"
   },
   {
    "duration": 27,
    "start_time": "2023-07-04T08:24:27.671Z"
   },
   {
    "duration": 48,
    "start_time": "2023-07-04T08:24:27.702Z"
   },
   {
    "duration": 35,
    "start_time": "2023-07-04T08:24:27.752Z"
   },
   {
    "duration": 6,
    "start_time": "2023-07-04T08:24:27.788Z"
   },
   {
    "duration": 62,
    "start_time": "2023-07-04T08:24:27.798Z"
   },
   {
    "duration": 56,
    "start_time": "2023-07-04T08:24:27.861Z"
   },
   {
    "duration": 55,
    "start_time": "2023-07-04T08:24:27.918Z"
   },
   {
    "duration": 10,
    "start_time": "2023-07-04T08:24:27.974Z"
   },
   {
    "duration": 8,
    "start_time": "2023-07-04T08:24:27.985Z"
   },
   {
    "duration": 596,
    "start_time": "2023-07-04T08:24:27.994Z"
   },
   {
    "duration": 999,
    "start_time": "2023-07-04T08:24:28.592Z"
   },
   {
    "duration": 728,
    "start_time": "2023-07-04T08:24:29.593Z"
   },
   {
    "duration": 10,
    "start_time": "2023-07-04T08:24:30.326Z"
   },
   {
    "duration": 170,
    "start_time": "2023-07-04T08:24:30.337Z"
   },
   {
    "duration": 483,
    "start_time": "2023-07-04T08:24:30.509Z"
   },
   {
    "duration": 36,
    "start_time": "2023-07-04T08:24:30.994Z"
   },
   {
    "duration": 48,
    "start_time": "2023-07-04T08:24:31.033Z"
   },
   {
    "duration": 86,
    "start_time": "2023-07-04T08:24:31.083Z"
   },
   {
    "duration": 1223,
    "start_time": "2023-07-04T08:24:31.171Z"
   },
   {
    "duration": 8,
    "start_time": "2023-07-04T08:24:32.406Z"
   },
   {
    "duration": 39,
    "start_time": "2023-07-04T08:24:32.415Z"
   },
   {
    "duration": 87,
    "start_time": "2023-07-04T08:24:32.456Z"
   },
   {
    "duration": 19,
    "start_time": "2023-07-04T08:24:32.544Z"
   },
   {
    "duration": 14,
    "start_time": "2023-07-04T08:24:32.565Z"
   },
   {
    "duration": 172,
    "start_time": "2023-07-04T08:24:32.581Z"
   },
   {
    "duration": 1,
    "start_time": "2023-07-04T08:24:32.755Z"
   },
   {
    "duration": 0,
    "start_time": "2023-07-04T08:24:32.761Z"
   },
   {
    "duration": 0,
    "start_time": "2023-07-04T08:24:32.763Z"
   },
   {
    "duration": 0,
    "start_time": "2023-07-04T08:24:32.764Z"
   },
   {
    "duration": 17405,
    "start_time": "2023-07-04T08:25:34.316Z"
   },
   {
    "duration": 5,
    "start_time": "2023-07-04T08:25:51.731Z"
   },
   {
    "duration": 175,
    "start_time": "2023-07-04T08:25:51.737Z"
   },
   {
    "duration": 11290,
    "start_time": "2023-07-04T08:26:16.898Z"
   },
   {
    "duration": 16,
    "start_time": "2023-07-04T08:26:52.780Z"
   },
   {
    "duration": 5,
    "start_time": "2023-07-04T08:26:59.930Z"
   },
   {
    "duration": 17,
    "start_time": "2023-07-04T08:27:01.942Z"
   },
   {
    "duration": 1861,
    "start_time": "2023-07-04T08:27:25.534Z"
   },
   {
    "duration": 792,
    "start_time": "2023-07-04T08:27:27.396Z"
   },
   {
    "duration": 50,
    "start_time": "2023-07-04T08:27:28.191Z"
   },
   {
    "duration": 32,
    "start_time": "2023-07-04T08:27:28.244Z"
   },
   {
    "duration": 22,
    "start_time": "2023-07-04T08:27:28.278Z"
   },
   {
    "duration": 53,
    "start_time": "2023-07-04T08:27:28.313Z"
   },
   {
    "duration": 529,
    "start_time": "2023-07-04T08:27:28.367Z"
   },
   {
    "duration": 24,
    "start_time": "2023-07-04T08:27:28.897Z"
   },
   {
    "duration": 23,
    "start_time": "2023-07-04T08:27:28.922Z"
   },
   {
    "duration": 14,
    "start_time": "2023-07-04T08:27:28.947Z"
   },
   {
    "duration": 9,
    "start_time": "2023-07-04T08:27:28.962Z"
   },
   {
    "duration": 6,
    "start_time": "2023-07-04T08:27:28.972Z"
   },
   {
    "duration": 8,
    "start_time": "2023-07-04T08:27:28.980Z"
   },
   {
    "duration": 42,
    "start_time": "2023-07-04T08:27:28.990Z"
   },
   {
    "duration": 15,
    "start_time": "2023-07-04T08:27:29.033Z"
   },
   {
    "duration": 11,
    "start_time": "2023-07-04T08:27:29.050Z"
   },
   {
    "duration": 11,
    "start_time": "2023-07-04T08:27:29.063Z"
   },
   {
    "duration": 22,
    "start_time": "2023-07-04T08:27:29.075Z"
   },
   {
    "duration": 543,
    "start_time": "2023-07-04T08:27:29.103Z"
   },
   {
    "duration": 841,
    "start_time": "2023-07-04T08:27:29.647Z"
   },
   {
    "duration": 643,
    "start_time": "2023-07-04T08:27:30.490Z"
   },
   {
    "duration": 5,
    "start_time": "2023-07-04T08:27:31.134Z"
   },
   {
    "duration": 150,
    "start_time": "2023-07-04T08:27:31.140Z"
   },
   {
    "duration": 452,
    "start_time": "2023-07-04T08:27:31.291Z"
   },
   {
    "duration": 9,
    "start_time": "2023-07-04T08:27:31.745Z"
   },
   {
    "duration": 56,
    "start_time": "2023-07-04T08:27:31.756Z"
   },
   {
    "duration": 30,
    "start_time": "2023-07-04T08:27:31.830Z"
   },
   {
    "duration": 882,
    "start_time": "2023-07-04T08:27:31.862Z"
   },
   {
    "duration": 4,
    "start_time": "2023-07-04T08:27:32.746Z"
   },
   {
    "duration": 28,
    "start_time": "2023-07-04T08:27:32.751Z"
   },
   {
    "duration": 10,
    "start_time": "2023-07-04T08:27:32.780Z"
   },
   {
    "duration": 56,
    "start_time": "2023-07-04T08:27:32.791Z"
   },
   {
    "duration": 17,
    "start_time": "2023-07-04T08:27:32.849Z"
   },
   {
    "duration": 20,
    "start_time": "2023-07-04T08:27:32.867Z"
   },
   {
    "duration": 5,
    "start_time": "2023-07-04T08:27:32.888Z"
   },
   {
    "duration": 10146,
    "start_time": "2023-07-04T08:27:32.895Z"
   },
   {
    "duration": 138,
    "start_time": "2023-07-04T08:27:43.043Z"
   },
   {
    "duration": 0,
    "start_time": "2023-07-04T08:27:43.183Z"
   },
   {
    "duration": 4,
    "start_time": "2023-07-04T08:33:28.580Z"
   },
   {
    "duration": 17332,
    "start_time": "2023-07-04T08:33:28.837Z"
   },
   {
    "duration": 4,
    "start_time": "2023-07-04T08:34:34.671Z"
   },
   {
    "duration": 14666,
    "start_time": "2023-07-04T08:34:34.955Z"
   },
   {
    "duration": 16607,
    "start_time": "2023-07-04T08:37:06.248Z"
   },
   {
    "duration": 3,
    "start_time": "2023-07-04T08:37:30.564Z"
   },
   {
    "duration": 1376,
    "start_time": "2023-07-04T08:37:36.970Z"
   },
   {
    "duration": 727,
    "start_time": "2023-07-04T08:37:38.348Z"
   },
   {
    "duration": 53,
    "start_time": "2023-07-04T08:37:39.076Z"
   },
   {
    "duration": 13,
    "start_time": "2023-07-04T08:37:39.131Z"
   },
   {
    "duration": 19,
    "start_time": "2023-07-04T08:37:39.146Z"
   },
   {
    "duration": 58,
    "start_time": "2023-07-04T08:37:39.167Z"
   },
   {
    "duration": 525,
    "start_time": "2023-07-04T08:37:39.230Z"
   },
   {
    "duration": 6,
    "start_time": "2023-07-04T08:37:39.756Z"
   },
   {
    "duration": 11,
    "start_time": "2023-07-04T08:37:39.764Z"
   },
   {
    "duration": 13,
    "start_time": "2023-07-04T08:37:39.777Z"
   },
   {
    "duration": 17,
    "start_time": "2023-07-04T08:37:39.791Z"
   },
   {
    "duration": 31,
    "start_time": "2023-07-04T08:37:39.809Z"
   },
   {
    "duration": 6,
    "start_time": "2023-07-04T08:37:39.842Z"
   },
   {
    "duration": 12,
    "start_time": "2023-07-04T08:37:39.849Z"
   },
   {
    "duration": 11,
    "start_time": "2023-07-04T08:37:39.862Z"
   },
   {
    "duration": 11,
    "start_time": "2023-07-04T08:37:39.875Z"
   },
   {
    "duration": 39,
    "start_time": "2023-07-04T08:37:39.887Z"
   },
   {
    "duration": 18,
    "start_time": "2023-07-04T08:37:39.927Z"
   },
   {
    "duration": 486,
    "start_time": "2023-07-04T08:37:39.946Z"
   },
   {
    "duration": 824,
    "start_time": "2023-07-04T08:37:40.433Z"
   },
   {
    "duration": 615,
    "start_time": "2023-07-04T08:37:41.259Z"
   },
   {
    "duration": 4,
    "start_time": "2023-07-04T08:37:41.876Z"
   },
   {
    "duration": 151,
    "start_time": "2023-07-04T08:37:41.887Z"
   },
   {
    "duration": 431,
    "start_time": "2023-07-04T08:37:42.040Z"
   },
   {
    "duration": 7,
    "start_time": "2023-07-04T08:37:42.472Z"
   },
   {
    "duration": 37,
    "start_time": "2023-07-04T08:37:42.480Z"
   },
   {
    "duration": 11,
    "start_time": "2023-07-04T08:37:42.519Z"
   },
   {
    "duration": 749,
    "start_time": "2023-07-04T08:37:42.534Z"
   },
   {
    "duration": 3,
    "start_time": "2023-07-04T08:37:43.285Z"
   },
   {
    "duration": 18,
    "start_time": "2023-07-04T08:37:43.290Z"
   },
   {
    "duration": 32,
    "start_time": "2023-07-04T08:37:43.309Z"
   },
   {
    "duration": 6,
    "start_time": "2023-07-04T08:37:43.343Z"
   },
   {
    "duration": 9,
    "start_time": "2023-07-04T08:37:43.351Z"
   },
   {
    "duration": 21,
    "start_time": "2023-07-04T08:37:43.361Z"
   },
   {
    "duration": 4,
    "start_time": "2023-07-04T08:37:43.384Z"
   },
   {
    "duration": 13027,
    "start_time": "2023-07-04T08:37:43.390Z"
   },
   {
    "duration": 151,
    "start_time": "2023-07-04T08:37:56.418Z"
   },
   {
    "duration": 0,
    "start_time": "2023-07-04T08:37:56.571Z"
   },
   {
    "duration": 16540,
    "start_time": "2023-07-04T08:38:00.524Z"
   },
   {
    "duration": 16086,
    "start_time": "2023-07-04T08:38:57.226Z"
   },
   {
    "duration": 3,
    "start_time": "2023-07-04T08:39:24.349Z"
   },
   {
    "duration": 4,
    "start_time": "2023-07-04T08:40:25.436Z"
   },
   {
    "duration": 67999,
    "start_time": "2023-07-04T08:40:32.730Z"
   },
   {
    "duration": 4,
    "start_time": "2023-07-04T08:42:08.030Z"
   },
   {
    "duration": 6787,
    "start_time": "2023-07-04T08:42:08.270Z"
   },
   {
    "duration": 6,
    "start_time": "2023-07-04T08:44:49.699Z"
   },
   {
    "duration": 13938,
    "start_time": "2023-07-04T08:44:49.927Z"
   },
   {
    "duration": 5,
    "start_time": "2023-07-04T08:45:43.234Z"
   },
   {
    "duration": 6,
    "start_time": "2023-07-04T08:46:16.066Z"
   },
   {
    "duration": 4,
    "start_time": "2023-07-04T08:48:25.061Z"
   },
   {
    "duration": 343,
    "start_time": "2023-07-04T08:48:25.118Z"
   },
   {
    "duration": 4,
    "start_time": "2023-07-04T08:48:39.172Z"
   },
   {
    "duration": 1429,
    "start_time": "2023-07-04T09:00:28.151Z"
   },
   {
    "duration": 812,
    "start_time": "2023-07-04T09:00:29.582Z"
   },
   {
    "duration": 29,
    "start_time": "2023-07-04T09:00:30.396Z"
   },
   {
    "duration": 114,
    "start_time": "2023-07-04T09:00:30.434Z"
   },
   {
    "duration": 91,
    "start_time": "2023-07-04T09:00:30.550Z"
   },
   {
    "duration": 101,
    "start_time": "2023-07-04T09:00:30.643Z"
   },
   {
    "duration": 629,
    "start_time": "2023-07-04T09:00:30.746Z"
   },
   {
    "duration": 29,
    "start_time": "2023-07-04T09:00:31.376Z"
   },
   {
    "duration": 64,
    "start_time": "2023-07-04T09:00:31.406Z"
   },
   {
    "duration": 67,
    "start_time": "2023-07-04T09:00:31.471Z"
   },
   {
    "duration": 30,
    "start_time": "2023-07-04T09:00:31.540Z"
   },
   {
    "duration": 34,
    "start_time": "2023-07-04T09:00:31.571Z"
   },
   {
    "duration": 56,
    "start_time": "2023-07-04T09:00:31.609Z"
   },
   {
    "duration": 27,
    "start_time": "2023-07-04T09:00:31.668Z"
   },
   {
    "duration": 70,
    "start_time": "2023-07-04T09:00:31.696Z"
   },
   {
    "duration": 19,
    "start_time": "2023-07-04T09:00:31.767Z"
   },
   {
    "duration": 59,
    "start_time": "2023-07-04T09:00:31.787Z"
   },
   {
    "duration": 101,
    "start_time": "2023-07-04T09:00:31.847Z"
   },
   {
    "duration": 563,
    "start_time": "2023-07-04T09:00:31.950Z"
   },
   {
    "duration": 878,
    "start_time": "2023-07-04T09:00:32.519Z"
   },
   {
    "duration": 684,
    "start_time": "2023-07-04T09:00:33.405Z"
   },
   {
    "duration": 38,
    "start_time": "2023-07-04T09:00:34.091Z"
   },
   {
    "duration": 116,
    "start_time": "2023-07-04T09:00:34.137Z"
   },
   {
    "duration": 415,
    "start_time": "2023-07-04T09:00:34.254Z"
   },
   {
    "duration": 7,
    "start_time": "2023-07-04T09:00:34.670Z"
   },
   {
    "duration": 19,
    "start_time": "2023-07-04T09:00:34.678Z"
   },
   {
    "duration": 40,
    "start_time": "2023-07-04T09:00:34.714Z"
   },
   {
    "duration": 793,
    "start_time": "2023-07-04T09:00:34.756Z"
   },
   {
    "duration": 7,
    "start_time": "2023-07-04T09:00:35.551Z"
   },
   {
    "duration": 14,
    "start_time": "2023-07-04T09:00:35.560Z"
   },
   {
    "duration": 38,
    "start_time": "2023-07-04T09:00:35.575Z"
   },
   {
    "duration": 62,
    "start_time": "2023-07-04T09:00:35.614Z"
   },
   {
    "duration": 21,
    "start_time": "2023-07-04T09:00:35.677Z"
   },
   {
    "duration": 78,
    "start_time": "2023-07-04T09:00:35.702Z"
   },
   {
    "duration": 57,
    "start_time": "2023-07-04T09:00:35.782Z"
   },
   {
    "duration": 13647,
    "start_time": "2023-07-04T09:00:35.841Z"
   },
   {
    "duration": 16,
    "start_time": "2023-07-04T09:00:49.489Z"
   },
   {
    "duration": 1583805,
    "start_time": "2023-07-04T09:00:49.512Z"
   },
   {
    "duration": 5805,
    "start_time": "2023-07-04T09:27:13.318Z"
   },
   {
    "duration": 122,
    "start_time": "2023-07-04T09:29:15.022Z"
   },
   {
    "duration": 6,
    "start_time": "2023-07-04T09:29:21.069Z"
   },
   {
    "duration": 950,
    "start_time": "2023-07-04T09:29:21.468Z"
   },
   {
    "duration": 1296,
    "start_time": "2023-07-04T09:32:42.525Z"
   },
   {
    "duration": 5,
    "start_time": "2023-07-04T09:35:25.243Z"
   },
   {
    "duration": 0,
    "start_time": "2023-07-04T09:35:57.257Z"
   },
   {
    "duration": 18,
    "start_time": "2023-07-04T09:40:31.520Z"
   },
   {
    "duration": 1471,
    "start_time": "2023-07-04T09:41:03.743Z"
   },
   {
    "duration": 801,
    "start_time": "2023-07-04T09:41:05.216Z"
   },
   {
    "duration": 23,
    "start_time": "2023-07-04T09:41:06.029Z"
   },
   {
    "duration": 15,
    "start_time": "2023-07-04T09:41:06.054Z"
   },
   {
    "duration": 43,
    "start_time": "2023-07-04T09:41:06.072Z"
   },
   {
    "duration": 79,
    "start_time": "2023-07-04T09:41:06.117Z"
   },
   {
    "duration": 543,
    "start_time": "2023-07-04T09:41:06.198Z"
   },
   {
    "duration": 7,
    "start_time": "2023-07-04T09:41:06.742Z"
   },
   {
    "duration": 20,
    "start_time": "2023-07-04T09:41:06.751Z"
   },
   {
    "duration": 47,
    "start_time": "2023-07-04T09:41:06.773Z"
   },
   {
    "duration": 22,
    "start_time": "2023-07-04T09:41:06.822Z"
   },
   {
    "duration": 10,
    "start_time": "2023-07-04T09:41:06.846Z"
   },
   {
    "duration": 14,
    "start_time": "2023-07-04T09:41:06.857Z"
   },
   {
    "duration": 10,
    "start_time": "2023-07-04T09:41:06.875Z"
   },
   {
    "duration": 18,
    "start_time": "2023-07-04T09:41:06.887Z"
   },
   {
    "duration": 17,
    "start_time": "2023-07-04T09:41:06.907Z"
   },
   {
    "duration": 16,
    "start_time": "2023-07-04T09:41:06.925Z"
   },
   {
    "duration": 10,
    "start_time": "2023-07-04T09:41:06.943Z"
   },
   {
    "duration": 500,
    "start_time": "2023-07-04T09:41:06.955Z"
   },
   {
    "duration": 853,
    "start_time": "2023-07-04T09:41:07.457Z"
   },
   {
    "duration": 606,
    "start_time": "2023-07-04T09:41:08.312Z"
   },
   {
    "duration": 3,
    "start_time": "2023-07-04T09:41:08.920Z"
   },
   {
    "duration": 117,
    "start_time": "2023-07-04T09:41:08.925Z"
   },
   {
    "duration": 408,
    "start_time": "2023-07-04T09:41:09.044Z"
   },
   {
    "duration": 8,
    "start_time": "2023-07-04T09:41:09.453Z"
   },
   {
    "duration": 16,
    "start_time": "2023-07-04T09:41:09.463Z"
   },
   {
    "duration": 32,
    "start_time": "2023-07-04T09:41:09.481Z"
   },
   {
    "duration": 716,
    "start_time": "2023-07-04T09:41:09.515Z"
   },
   {
    "duration": 2,
    "start_time": "2023-07-04T09:41:10.233Z"
   },
   {
    "duration": 12,
    "start_time": "2023-07-04T09:41:10.237Z"
   },
   {
    "duration": 8,
    "start_time": "2023-07-04T09:41:10.251Z"
   },
   {
    "duration": 9,
    "start_time": "2023-07-04T09:41:10.261Z"
   },
   {
    "duration": 7,
    "start_time": "2023-07-04T09:41:10.272Z"
   },
   {
    "duration": 42,
    "start_time": "2023-07-04T09:41:10.280Z"
   },
   {
    "duration": 4,
    "start_time": "2023-07-04T09:41:10.324Z"
   },
   {
    "duration": 12993,
    "start_time": "2023-07-04T09:41:10.329Z"
   },
   {
    "duration": 5,
    "start_time": "2023-07-04T09:41:23.324Z"
   },
   {
    "duration": 34,
    "start_time": "2023-07-04T09:41:23.330Z"
   },
   {
    "duration": 17,
    "start_time": "2023-07-04T09:41:23.366Z"
   },
   {
    "duration": 0,
    "start_time": "2023-07-04T09:41:23.384Z"
   },
   {
    "duration": 0,
    "start_time": "2023-07-04T09:41:23.385Z"
   },
   {
    "duration": 0,
    "start_time": "2023-07-04T09:41:23.386Z"
   },
   {
    "duration": 25107,
    "start_time": "2023-07-04T09:41:53.798Z"
   },
   {
    "duration": 0,
    "start_time": "2023-07-04T09:42:18.906Z"
   },
   {
    "duration": 0,
    "start_time": "2023-07-04T09:42:18.907Z"
   },
   {
    "duration": 6,
    "start_time": "2023-07-04T09:42:44.361Z"
   },
   {
    "duration": 24866,
    "start_time": "2023-07-04T09:42:46.297Z"
   },
   {
    "duration": 24189,
    "start_time": "2023-07-04T09:43:25.875Z"
   },
   {
    "duration": 24995,
    "start_time": "2023-07-04T09:46:08.123Z"
   },
   {
    "duration": 65997,
    "start_time": "2023-07-04T09:50:20.000Z"
   },
   {
    "duration": 25776,
    "start_time": "2023-07-04T09:52:31.775Z"
   },
   {
    "duration": 65768,
    "start_time": "2023-07-04T09:53:53.245Z"
   },
   {
    "duration": 66555,
    "start_time": "2023-07-04T09:55:11.770Z"
   },
   {
    "duration": 65217,
    "start_time": "2023-07-04T09:57:53.747Z"
   },
   {
    "duration": 101,
    "start_time": "2023-07-04T09:59:33.324Z"
   },
   {
    "duration": 5,
    "start_time": "2023-07-04T10:00:18.365Z"
   },
   {
    "duration": 5141,
    "start_time": "2023-07-04T10:00:27.965Z"
   },
   {
    "duration": 535,
    "start_time": "2023-07-04T10:00:53.013Z"
   },
   {
    "duration": 803,
    "start_time": "2023-07-04T10:01:03.506Z"
   },
   {
    "duration": 66800,
    "start_time": "2023-07-04T10:01:18.898Z"
   },
   {
    "duration": 25801,
    "start_time": "2023-07-04T10:03:18.442Z"
   },
   {
    "duration": 26058,
    "start_time": "2023-07-04T10:04:28.018Z"
   },
   {
    "duration": 68666,
    "start_time": "2023-07-04T10:05:14.356Z"
   },
   {
    "duration": 67942,
    "start_time": "2023-07-04T10:07:10.917Z"
   },
   {
    "duration": 26181,
    "start_time": "2023-07-04T10:10:41.216Z"
   },
   {
    "duration": 28699,
    "start_time": "2023-07-04T10:12:53.374Z"
   },
   {
    "duration": 26414,
    "start_time": "2023-07-04T10:13:44.991Z"
   },
   {
    "duration": 27750,
    "start_time": "2023-07-04T10:15:02.227Z"
   },
   {
    "duration": 16,
    "start_time": "2023-07-04T10:31:11.093Z"
   },
   {
    "duration": 4,
    "start_time": "2023-07-04T10:31:41.642Z"
   },
   {
    "duration": 8,
    "start_time": "2023-07-04T10:31:46.560Z"
   },
   {
    "duration": 13110,
    "start_time": "2023-07-04T10:39:10.158Z"
   },
   {
    "duration": 13204,
    "start_time": "2023-07-04T10:39:27.354Z"
   }
  ],
  "kernelspec": {
   "display_name": "Python 3 (ipykernel)",
   "language": "python",
   "name": "python3"
  },
  "language_info": {
   "codemirror_mode": {
    "name": "ipython",
    "version": 3
   },
   "file_extension": ".py",
   "mimetype": "text/x-python",
   "name": "python",
   "nbconvert_exporter": "python",
   "pygments_lexer": "ipython3",
   "version": "3.11.4"
  },
  "toc": {
   "base_numbering": 1,
   "nav_menu": {},
   "number_sections": true,
   "sideBar": true,
   "skip_h1_title": true,
   "title_cell": "Содержание",
   "title_sidebar": "Contents",
   "toc_cell": true,
   "toc_position": {},
   "toc_section_display": true,
   "toc_window_display": true
  }
 },
 "nbformat": 4,
 "nbformat_minor": 2
}
