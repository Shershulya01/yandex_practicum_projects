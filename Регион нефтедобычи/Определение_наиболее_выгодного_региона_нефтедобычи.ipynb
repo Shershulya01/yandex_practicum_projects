{
 "cells": [
  {
   "cell_type": "markdown",
   "metadata": {},
   "source": [
    "# Выбор локации для скважины"
   ]
  },
  {
   "cell_type": "markdown",
   "metadata": {},
   "source": [
    "Допустим, вы работаете в добывающей компании «ГлавРосГосНефть». Нужно решить, где бурить новую скважину.\n",
    "\n",
    "Вам предоставлены пробы нефти в трёх регионах: в каждом 10 000 месторождений, где измерили качество нефти и объём её запасов. Постройте модель машинного обучения, которая поможет определить регион, где добыча принесёт наибольшую прибыль. Проанализируйте возможную прибыль и риски техникой *Bootstrap.*\n",
    "\n",
    "Шаги для выбора локации:\n",
    "\n",
    "- В избранном регионе ищут месторождения, для каждого определяют значения признаков;\n",
    "- Строят модель и оценивают объём запасов;\n",
    "- Выбирают месторождения с самым высокими оценками значений. Количество месторождений зависит от бюджета компании и стоимости разработки одной скважины;\n",
    "- Прибыль равна суммарной прибыли отобранных месторождений."
   ]
  },
  {
   "cell_type": "markdown",
   "metadata": {},
   "source": [
    "## Загрузка и подготовка данных"
   ]
  },
  {
   "cell_type": "code",
   "execution_count": 1,
   "metadata": {},
   "outputs": [],
   "source": [
    "import pandas as pd\n",
    "import numpy as np\n",
    "from scipy import stats as st \n",
    "import seaborn as sns\n",
    "from sklearn.linear_model import LinearRegression\n",
    "from sklearn.model_selection import train_test_split\n",
    "from sklearn.preprocessing import StandardScaler\n",
    "from sklearn.metrics import mean_squared_error\n",
    "\n",
    "import warnings\n",
    "warnings.filterwarnings(\"ignore\")"
   ]
  },
  {
   "cell_type": "code",
   "execution_count": 2,
   "metadata": {},
   "outputs": [],
   "source": [
    "data0 = pd.read_csv('/datasets/geo_data_0.csv')\n",
    "data1 = pd.read_csv('/datasets/geo_data_1.csv')\n",
    "data2 = pd.read_csv('/datasets/geo_data_2.csv')"
   ]
  },
  {
   "cell_type": "code",
   "execution_count": 3,
   "metadata": {},
   "outputs": [],
   "source": [
    "#запишем ключевые значения в переменные\n",
    "BUDGET = 10e9\n",
    "PRICE = 450000\n",
    "OIL_WELL = 200"
   ]
  },
  {
   "cell_type": "code",
   "execution_count": 4,
   "metadata": {},
   "outputs": [
    {
     "name": "stdout",
     "output_type": "stream",
     "text": [
      "<class 'pandas.core.frame.DataFrame'>\n",
      "RangeIndex: 100000 entries, 0 to 99999\n",
      "Data columns (total 5 columns):\n",
      " #   Column   Non-Null Count   Dtype  \n",
      "---  ------   --------------   -----  \n",
      " 0   id       100000 non-null  object \n",
      " 1   f0       100000 non-null  float64\n",
      " 2   f1       100000 non-null  float64\n",
      " 3   f2       100000 non-null  float64\n",
      " 4   product  100000 non-null  float64\n",
      "dtypes: float64(4), object(1)\n",
      "memory usage: 3.8+ MB\n"
     ]
    },
    {
     "data": {
      "text/plain": [
       "None"
      ]
     },
     "metadata": {},
     "output_type": "display_data"
    },
    {
     "name": "stdout",
     "output_type": "stream",
     "text": [
      "<class 'pandas.core.frame.DataFrame'>\n",
      "RangeIndex: 100000 entries, 0 to 99999\n",
      "Data columns (total 5 columns):\n",
      " #   Column   Non-Null Count   Dtype  \n",
      "---  ------   --------------   -----  \n",
      " 0   id       100000 non-null  object \n",
      " 1   f0       100000 non-null  float64\n",
      " 2   f1       100000 non-null  float64\n",
      " 3   f2       100000 non-null  float64\n",
      " 4   product  100000 non-null  float64\n",
      "dtypes: float64(4), object(1)\n",
      "memory usage: 3.8+ MB\n"
     ]
    },
    {
     "data": {
      "text/plain": [
       "None"
      ]
     },
     "metadata": {},
     "output_type": "display_data"
    },
    {
     "name": "stdout",
     "output_type": "stream",
     "text": [
      "<class 'pandas.core.frame.DataFrame'>\n",
      "RangeIndex: 100000 entries, 0 to 99999\n",
      "Data columns (total 5 columns):\n",
      " #   Column   Non-Null Count   Dtype  \n",
      "---  ------   --------------   -----  \n",
      " 0   id       100000 non-null  object \n",
      " 1   f0       100000 non-null  float64\n",
      " 2   f1       100000 non-null  float64\n",
      " 3   f2       100000 non-null  float64\n",
      " 4   product  100000 non-null  float64\n",
      "dtypes: float64(4), object(1)\n",
      "memory usage: 3.8+ MB\n"
     ]
    },
    {
     "data": {
      "text/plain": [
       "None"
      ]
     },
     "metadata": {},
     "output_type": "display_data"
    }
   ],
   "source": [
    "#смотрим общую информацию о таблицах\n",
    "display(data0.info())\n",
    "display(data1.info())\n",
    "display(data2.info())"
   ]
  },
  {
   "cell_type": "code",
   "execution_count": 5,
   "metadata": {},
   "outputs": [
    {
     "data": {
      "text/html": [
       "<div>\n",
       "<style scoped>\n",
       "    .dataframe tbody tr th:only-of-type {\n",
       "        vertical-align: middle;\n",
       "    }\n",
       "\n",
       "    .dataframe tbody tr th {\n",
       "        vertical-align: top;\n",
       "    }\n",
       "\n",
       "    .dataframe thead th {\n",
       "        text-align: right;\n",
       "    }\n",
       "</style>\n",
       "<table border=\"1\" class=\"dataframe\">\n",
       "  <thead>\n",
       "    <tr style=\"text-align: right;\">\n",
       "      <th></th>\n",
       "      <th>id</th>\n",
       "      <th>f0</th>\n",
       "      <th>f1</th>\n",
       "      <th>f2</th>\n",
       "      <th>product</th>\n",
       "    </tr>\n",
       "  </thead>\n",
       "  <tbody>\n",
       "    <tr>\n",
       "      <th>0</th>\n",
       "      <td>txEyH</td>\n",
       "      <td>0.705745</td>\n",
       "      <td>-0.497823</td>\n",
       "      <td>1.221170</td>\n",
       "      <td>105.280062</td>\n",
       "    </tr>\n",
       "    <tr>\n",
       "      <th>1</th>\n",
       "      <td>2acmU</td>\n",
       "      <td>1.334711</td>\n",
       "      <td>-0.340164</td>\n",
       "      <td>4.365080</td>\n",
       "      <td>73.037750</td>\n",
       "    </tr>\n",
       "    <tr>\n",
       "      <th>2</th>\n",
       "      <td>409Wp</td>\n",
       "      <td>1.022732</td>\n",
       "      <td>0.151990</td>\n",
       "      <td>1.419926</td>\n",
       "      <td>85.265647</td>\n",
       "    </tr>\n",
       "    <tr>\n",
       "      <th>3</th>\n",
       "      <td>iJLyR</td>\n",
       "      <td>-0.032172</td>\n",
       "      <td>0.139033</td>\n",
       "      <td>2.978566</td>\n",
       "      <td>168.620776</td>\n",
       "    </tr>\n",
       "    <tr>\n",
       "      <th>4</th>\n",
       "      <td>Xdl7t</td>\n",
       "      <td>1.988431</td>\n",
       "      <td>0.155413</td>\n",
       "      <td>4.751769</td>\n",
       "      <td>154.036647</td>\n",
       "    </tr>\n",
       "  </tbody>\n",
       "</table>\n",
       "</div>"
      ],
      "text/plain": [
       "      id        f0        f1        f2     product\n",
       "0  txEyH  0.705745 -0.497823  1.221170  105.280062\n",
       "1  2acmU  1.334711 -0.340164  4.365080   73.037750\n",
       "2  409Wp  1.022732  0.151990  1.419926   85.265647\n",
       "3  iJLyR -0.032172  0.139033  2.978566  168.620776\n",
       "4  Xdl7t  1.988431  0.155413  4.751769  154.036647"
      ]
     },
     "metadata": {},
     "output_type": "display_data"
    },
    {
     "data": {
      "text/html": [
       "<div>\n",
       "<style scoped>\n",
       "    .dataframe tbody tr th:only-of-type {\n",
       "        vertical-align: middle;\n",
       "    }\n",
       "\n",
       "    .dataframe tbody tr th {\n",
       "        vertical-align: top;\n",
       "    }\n",
       "\n",
       "    .dataframe thead th {\n",
       "        text-align: right;\n",
       "    }\n",
       "</style>\n",
       "<table border=\"1\" class=\"dataframe\">\n",
       "  <thead>\n",
       "    <tr style=\"text-align: right;\">\n",
       "      <th></th>\n",
       "      <th>id</th>\n",
       "      <th>f0</th>\n",
       "      <th>f1</th>\n",
       "      <th>f2</th>\n",
       "      <th>product</th>\n",
       "    </tr>\n",
       "  </thead>\n",
       "  <tbody>\n",
       "    <tr>\n",
       "      <th>0</th>\n",
       "      <td>kBEdx</td>\n",
       "      <td>-15.001348</td>\n",
       "      <td>-8.276000</td>\n",
       "      <td>-0.005876</td>\n",
       "      <td>3.179103</td>\n",
       "    </tr>\n",
       "    <tr>\n",
       "      <th>1</th>\n",
       "      <td>62mP7</td>\n",
       "      <td>14.272088</td>\n",
       "      <td>-3.475083</td>\n",
       "      <td>0.999183</td>\n",
       "      <td>26.953261</td>\n",
       "    </tr>\n",
       "    <tr>\n",
       "      <th>2</th>\n",
       "      <td>vyE1P</td>\n",
       "      <td>6.263187</td>\n",
       "      <td>-5.948386</td>\n",
       "      <td>5.001160</td>\n",
       "      <td>134.766305</td>\n",
       "    </tr>\n",
       "    <tr>\n",
       "      <th>3</th>\n",
       "      <td>KcrkZ</td>\n",
       "      <td>-13.081196</td>\n",
       "      <td>-11.506057</td>\n",
       "      <td>4.999415</td>\n",
       "      <td>137.945408</td>\n",
       "    </tr>\n",
       "    <tr>\n",
       "      <th>4</th>\n",
       "      <td>AHL4O</td>\n",
       "      <td>12.702195</td>\n",
       "      <td>-8.147433</td>\n",
       "      <td>5.004363</td>\n",
       "      <td>134.766305</td>\n",
       "    </tr>\n",
       "  </tbody>\n",
       "</table>\n",
       "</div>"
      ],
      "text/plain": [
       "      id         f0         f1        f2     product\n",
       "0  kBEdx -15.001348  -8.276000 -0.005876    3.179103\n",
       "1  62mP7  14.272088  -3.475083  0.999183   26.953261\n",
       "2  vyE1P   6.263187  -5.948386  5.001160  134.766305\n",
       "3  KcrkZ -13.081196 -11.506057  4.999415  137.945408\n",
       "4  AHL4O  12.702195  -8.147433  5.004363  134.766305"
      ]
     },
     "metadata": {},
     "output_type": "display_data"
    },
    {
     "data": {
      "text/html": [
       "<div>\n",
       "<style scoped>\n",
       "    .dataframe tbody tr th:only-of-type {\n",
       "        vertical-align: middle;\n",
       "    }\n",
       "\n",
       "    .dataframe tbody tr th {\n",
       "        vertical-align: top;\n",
       "    }\n",
       "\n",
       "    .dataframe thead th {\n",
       "        text-align: right;\n",
       "    }\n",
       "</style>\n",
       "<table border=\"1\" class=\"dataframe\">\n",
       "  <thead>\n",
       "    <tr style=\"text-align: right;\">\n",
       "      <th></th>\n",
       "      <th>id</th>\n",
       "      <th>f0</th>\n",
       "      <th>f1</th>\n",
       "      <th>f2</th>\n",
       "      <th>product</th>\n",
       "    </tr>\n",
       "  </thead>\n",
       "  <tbody>\n",
       "    <tr>\n",
       "      <th>0</th>\n",
       "      <td>fwXo0</td>\n",
       "      <td>-1.146987</td>\n",
       "      <td>0.963328</td>\n",
       "      <td>-0.828965</td>\n",
       "      <td>27.758673</td>\n",
       "    </tr>\n",
       "    <tr>\n",
       "      <th>1</th>\n",
       "      <td>WJtFt</td>\n",
       "      <td>0.262778</td>\n",
       "      <td>0.269839</td>\n",
       "      <td>-2.530187</td>\n",
       "      <td>56.069697</td>\n",
       "    </tr>\n",
       "    <tr>\n",
       "      <th>2</th>\n",
       "      <td>ovLUW</td>\n",
       "      <td>0.194587</td>\n",
       "      <td>0.289035</td>\n",
       "      <td>-5.586433</td>\n",
       "      <td>62.871910</td>\n",
       "    </tr>\n",
       "    <tr>\n",
       "      <th>3</th>\n",
       "      <td>q6cA6</td>\n",
       "      <td>2.236060</td>\n",
       "      <td>-0.553760</td>\n",
       "      <td>0.930038</td>\n",
       "      <td>114.572842</td>\n",
       "    </tr>\n",
       "    <tr>\n",
       "      <th>4</th>\n",
       "      <td>WPMUX</td>\n",
       "      <td>-0.515993</td>\n",
       "      <td>1.716266</td>\n",
       "      <td>5.899011</td>\n",
       "      <td>149.600746</td>\n",
       "    </tr>\n",
       "  </tbody>\n",
       "</table>\n",
       "</div>"
      ],
      "text/plain": [
       "      id        f0        f1        f2     product\n",
       "0  fwXo0 -1.146987  0.963328 -0.828965   27.758673\n",
       "1  WJtFt  0.262778  0.269839 -2.530187   56.069697\n",
       "2  ovLUW  0.194587  0.289035 -5.586433   62.871910\n",
       "3  q6cA6  2.236060 -0.553760  0.930038  114.572842\n",
       "4  WPMUX -0.515993  1.716266  5.899011  149.600746"
      ]
     },
     "metadata": {},
     "output_type": "display_data"
    }
   ],
   "source": [
    "#смотрим первые 5 строк таблиц\n",
    "display(data0.head())\n",
    "display(data1.head())\n",
    "display(data2.head())"
   ]
  },
  {
   "cell_type": "code",
   "execution_count": 6,
   "metadata": {},
   "outputs": [
    {
     "data": {
      "text/html": [
       "<div>\n",
       "<style scoped>\n",
       "    .dataframe tbody tr th:only-of-type {\n",
       "        vertical-align: middle;\n",
       "    }\n",
       "\n",
       "    .dataframe tbody tr th {\n",
       "        vertical-align: top;\n",
       "    }\n",
       "\n",
       "    .dataframe thead th {\n",
       "        text-align: right;\n",
       "    }\n",
       "</style>\n",
       "<table border=\"1\" class=\"dataframe\">\n",
       "  <thead>\n",
       "    <tr style=\"text-align: right;\">\n",
       "      <th></th>\n",
       "      <th>f0</th>\n",
       "      <th>f1</th>\n",
       "      <th>f2</th>\n",
       "      <th>product</th>\n",
       "    </tr>\n",
       "  </thead>\n",
       "  <tbody>\n",
       "    <tr>\n",
       "      <th>count</th>\n",
       "      <td>100000.000000</td>\n",
       "      <td>100000.000000</td>\n",
       "      <td>100000.000000</td>\n",
       "      <td>100000.000000</td>\n",
       "    </tr>\n",
       "    <tr>\n",
       "      <th>mean</th>\n",
       "      <td>0.500419</td>\n",
       "      <td>0.250143</td>\n",
       "      <td>2.502647</td>\n",
       "      <td>92.500000</td>\n",
       "    </tr>\n",
       "    <tr>\n",
       "      <th>std</th>\n",
       "      <td>0.871832</td>\n",
       "      <td>0.504433</td>\n",
       "      <td>3.248248</td>\n",
       "      <td>44.288691</td>\n",
       "    </tr>\n",
       "    <tr>\n",
       "      <th>min</th>\n",
       "      <td>-1.408605</td>\n",
       "      <td>-0.848218</td>\n",
       "      <td>-12.088328</td>\n",
       "      <td>0.000000</td>\n",
       "    </tr>\n",
       "    <tr>\n",
       "      <th>25%</th>\n",
       "      <td>-0.072580</td>\n",
       "      <td>-0.200881</td>\n",
       "      <td>0.287748</td>\n",
       "      <td>56.497507</td>\n",
       "    </tr>\n",
       "    <tr>\n",
       "      <th>50%</th>\n",
       "      <td>0.502360</td>\n",
       "      <td>0.250252</td>\n",
       "      <td>2.515969</td>\n",
       "      <td>91.849972</td>\n",
       "    </tr>\n",
       "    <tr>\n",
       "      <th>75%</th>\n",
       "      <td>1.073581</td>\n",
       "      <td>0.700646</td>\n",
       "      <td>4.715088</td>\n",
       "      <td>128.564089</td>\n",
       "    </tr>\n",
       "    <tr>\n",
       "      <th>max</th>\n",
       "      <td>2.362331</td>\n",
       "      <td>1.343769</td>\n",
       "      <td>16.003790</td>\n",
       "      <td>185.364347</td>\n",
       "    </tr>\n",
       "  </tbody>\n",
       "</table>\n",
       "</div>"
      ],
      "text/plain": [
       "                  f0             f1             f2        product\n",
       "count  100000.000000  100000.000000  100000.000000  100000.000000\n",
       "mean        0.500419       0.250143       2.502647      92.500000\n",
       "std         0.871832       0.504433       3.248248      44.288691\n",
       "min        -1.408605      -0.848218     -12.088328       0.000000\n",
       "25%        -0.072580      -0.200881       0.287748      56.497507\n",
       "50%         0.502360       0.250252       2.515969      91.849972\n",
       "75%         1.073581       0.700646       4.715088     128.564089\n",
       "max         2.362331       1.343769      16.003790     185.364347"
      ]
     },
     "metadata": {},
     "output_type": "display_data"
    },
    {
     "data": {
      "text/html": [
       "<div>\n",
       "<style scoped>\n",
       "    .dataframe tbody tr th:only-of-type {\n",
       "        vertical-align: middle;\n",
       "    }\n",
       "\n",
       "    .dataframe tbody tr th {\n",
       "        vertical-align: top;\n",
       "    }\n",
       "\n",
       "    .dataframe thead th {\n",
       "        text-align: right;\n",
       "    }\n",
       "</style>\n",
       "<table border=\"1\" class=\"dataframe\">\n",
       "  <thead>\n",
       "    <tr style=\"text-align: right;\">\n",
       "      <th></th>\n",
       "      <th>f0</th>\n",
       "      <th>f1</th>\n",
       "      <th>f2</th>\n",
       "      <th>product</th>\n",
       "    </tr>\n",
       "  </thead>\n",
       "  <tbody>\n",
       "    <tr>\n",
       "      <th>count</th>\n",
       "      <td>100000.000000</td>\n",
       "      <td>100000.000000</td>\n",
       "      <td>100000.000000</td>\n",
       "      <td>100000.000000</td>\n",
       "    </tr>\n",
       "    <tr>\n",
       "      <th>mean</th>\n",
       "      <td>1.141296</td>\n",
       "      <td>-4.796579</td>\n",
       "      <td>2.494541</td>\n",
       "      <td>68.825000</td>\n",
       "    </tr>\n",
       "    <tr>\n",
       "      <th>std</th>\n",
       "      <td>8.965932</td>\n",
       "      <td>5.119872</td>\n",
       "      <td>1.703572</td>\n",
       "      <td>45.944423</td>\n",
       "    </tr>\n",
       "    <tr>\n",
       "      <th>min</th>\n",
       "      <td>-31.609576</td>\n",
       "      <td>-26.358598</td>\n",
       "      <td>-0.018144</td>\n",
       "      <td>0.000000</td>\n",
       "    </tr>\n",
       "    <tr>\n",
       "      <th>25%</th>\n",
       "      <td>-6.298551</td>\n",
       "      <td>-8.267985</td>\n",
       "      <td>1.000021</td>\n",
       "      <td>26.953261</td>\n",
       "    </tr>\n",
       "    <tr>\n",
       "      <th>50%</th>\n",
       "      <td>1.153055</td>\n",
       "      <td>-4.813172</td>\n",
       "      <td>2.011479</td>\n",
       "      <td>57.085625</td>\n",
       "    </tr>\n",
       "    <tr>\n",
       "      <th>75%</th>\n",
       "      <td>8.621015</td>\n",
       "      <td>-1.332816</td>\n",
       "      <td>3.999904</td>\n",
       "      <td>107.813044</td>\n",
       "    </tr>\n",
       "    <tr>\n",
       "      <th>max</th>\n",
       "      <td>29.421755</td>\n",
       "      <td>18.734063</td>\n",
       "      <td>5.019721</td>\n",
       "      <td>137.945408</td>\n",
       "    </tr>\n",
       "  </tbody>\n",
       "</table>\n",
       "</div>"
      ],
      "text/plain": [
       "                  f0             f1             f2        product\n",
       "count  100000.000000  100000.000000  100000.000000  100000.000000\n",
       "mean        1.141296      -4.796579       2.494541      68.825000\n",
       "std         8.965932       5.119872       1.703572      45.944423\n",
       "min       -31.609576     -26.358598      -0.018144       0.000000\n",
       "25%        -6.298551      -8.267985       1.000021      26.953261\n",
       "50%         1.153055      -4.813172       2.011479      57.085625\n",
       "75%         8.621015      -1.332816       3.999904     107.813044\n",
       "max        29.421755      18.734063       5.019721     137.945408"
      ]
     },
     "metadata": {},
     "output_type": "display_data"
    },
    {
     "data": {
      "text/html": [
       "<div>\n",
       "<style scoped>\n",
       "    .dataframe tbody tr th:only-of-type {\n",
       "        vertical-align: middle;\n",
       "    }\n",
       "\n",
       "    .dataframe tbody tr th {\n",
       "        vertical-align: top;\n",
       "    }\n",
       "\n",
       "    .dataframe thead th {\n",
       "        text-align: right;\n",
       "    }\n",
       "</style>\n",
       "<table border=\"1\" class=\"dataframe\">\n",
       "  <thead>\n",
       "    <tr style=\"text-align: right;\">\n",
       "      <th></th>\n",
       "      <th>f0</th>\n",
       "      <th>f1</th>\n",
       "      <th>f2</th>\n",
       "      <th>product</th>\n",
       "    </tr>\n",
       "  </thead>\n",
       "  <tbody>\n",
       "    <tr>\n",
       "      <th>count</th>\n",
       "      <td>100000.000000</td>\n",
       "      <td>100000.000000</td>\n",
       "      <td>100000.000000</td>\n",
       "      <td>100000.000000</td>\n",
       "    </tr>\n",
       "    <tr>\n",
       "      <th>mean</th>\n",
       "      <td>0.002023</td>\n",
       "      <td>-0.002081</td>\n",
       "      <td>2.495128</td>\n",
       "      <td>95.000000</td>\n",
       "    </tr>\n",
       "    <tr>\n",
       "      <th>std</th>\n",
       "      <td>1.732045</td>\n",
       "      <td>1.730417</td>\n",
       "      <td>3.473445</td>\n",
       "      <td>44.749921</td>\n",
       "    </tr>\n",
       "    <tr>\n",
       "      <th>min</th>\n",
       "      <td>-8.760004</td>\n",
       "      <td>-7.084020</td>\n",
       "      <td>-11.970335</td>\n",
       "      <td>0.000000</td>\n",
       "    </tr>\n",
       "    <tr>\n",
       "      <th>25%</th>\n",
       "      <td>-1.162288</td>\n",
       "      <td>-1.174820</td>\n",
       "      <td>0.130359</td>\n",
       "      <td>59.450441</td>\n",
       "    </tr>\n",
       "    <tr>\n",
       "      <th>50%</th>\n",
       "      <td>0.009424</td>\n",
       "      <td>-0.009482</td>\n",
       "      <td>2.484236</td>\n",
       "      <td>94.925613</td>\n",
       "    </tr>\n",
       "    <tr>\n",
       "      <th>75%</th>\n",
       "      <td>1.158535</td>\n",
       "      <td>1.163678</td>\n",
       "      <td>4.858794</td>\n",
       "      <td>130.595027</td>\n",
       "    </tr>\n",
       "    <tr>\n",
       "      <th>max</th>\n",
       "      <td>7.238262</td>\n",
       "      <td>7.844801</td>\n",
       "      <td>16.739402</td>\n",
       "      <td>190.029838</td>\n",
       "    </tr>\n",
       "  </tbody>\n",
       "</table>\n",
       "</div>"
      ],
      "text/plain": [
       "                  f0             f1             f2        product\n",
       "count  100000.000000  100000.000000  100000.000000  100000.000000\n",
       "mean        0.002023      -0.002081       2.495128      95.000000\n",
       "std         1.732045       1.730417       3.473445      44.749921\n",
       "min        -8.760004      -7.084020     -11.970335       0.000000\n",
       "25%        -1.162288      -1.174820       0.130359      59.450441\n",
       "50%         0.009424      -0.009482       2.484236      94.925613\n",
       "75%         1.158535       1.163678       4.858794     130.595027\n",
       "max         7.238262       7.844801      16.739402     190.029838"
      ]
     },
     "metadata": {},
     "output_type": "display_data"
    }
   ],
   "source": [
    "#смотрим числовую информацию таблиц\n",
    "display(data0.describe())\n",
    "display(data1.describe())\n",
    "display(data2.describe())"
   ]
  },
  {
   "cell_type": "code",
   "execution_count": 7,
   "metadata": {},
   "outputs": [
    {
     "data": {
      "text/html": [
       "<div>\n",
       "<style scoped>\n",
       "    .dataframe tbody tr th:only-of-type {\n",
       "        vertical-align: middle;\n",
       "    }\n",
       "\n",
       "    .dataframe tbody tr th {\n",
       "        vertical-align: top;\n",
       "    }\n",
       "\n",
       "    .dataframe thead th {\n",
       "        text-align: right;\n",
       "    }\n",
       "</style>\n",
       "<table border=\"1\" class=\"dataframe\">\n",
       "  <thead>\n",
       "    <tr style=\"text-align: right;\">\n",
       "      <th></th>\n",
       "      <th>id</th>\n",
       "      <th>f0</th>\n",
       "      <th>f1</th>\n",
       "      <th>f2</th>\n",
       "      <th>product</th>\n",
       "    </tr>\n",
       "  </thead>\n",
       "  <tbody>\n",
       "  </tbody>\n",
       "</table>\n",
       "</div>"
      ],
      "text/plain": [
       "Empty DataFrame\n",
       "Columns: [id, f0, f1, f2, product]\n",
       "Index: []"
      ]
     },
     "execution_count": 7,
     "metadata": {},
     "output_type": "execute_result"
    }
   ],
   "source": [
    "#проверим есть ли в данных полные дубликаты по регионам\n",
    "data0[data0.duplicated()]"
   ]
  },
  {
   "cell_type": "code",
   "execution_count": 8,
   "metadata": {},
   "outputs": [
    {
     "data": {
      "text/html": [
       "<div>\n",
       "<style scoped>\n",
       "    .dataframe tbody tr th:only-of-type {\n",
       "        vertical-align: middle;\n",
       "    }\n",
       "\n",
       "    .dataframe tbody tr th {\n",
       "        vertical-align: top;\n",
       "    }\n",
       "\n",
       "    .dataframe thead th {\n",
       "        text-align: right;\n",
       "    }\n",
       "</style>\n",
       "<table border=\"1\" class=\"dataframe\">\n",
       "  <thead>\n",
       "    <tr style=\"text-align: right;\">\n",
       "      <th></th>\n",
       "      <th>id</th>\n",
       "      <th>f0</th>\n",
       "      <th>f1</th>\n",
       "      <th>f2</th>\n",
       "      <th>product</th>\n",
       "    </tr>\n",
       "  </thead>\n",
       "  <tbody>\n",
       "  </tbody>\n",
       "</table>\n",
       "</div>"
      ],
      "text/plain": [
       "Empty DataFrame\n",
       "Columns: [id, f0, f1, f2, product]\n",
       "Index: []"
      ]
     },
     "execution_count": 8,
     "metadata": {},
     "output_type": "execute_result"
    }
   ],
   "source": [
    "data1[data1.duplicated()]"
   ]
  },
  {
   "cell_type": "code",
   "execution_count": 9,
   "metadata": {},
   "outputs": [
    {
     "data": {
      "text/html": [
       "<div>\n",
       "<style scoped>\n",
       "    .dataframe tbody tr th:only-of-type {\n",
       "        vertical-align: middle;\n",
       "    }\n",
       "\n",
       "    .dataframe tbody tr th {\n",
       "        vertical-align: top;\n",
       "    }\n",
       "\n",
       "    .dataframe thead th {\n",
       "        text-align: right;\n",
       "    }\n",
       "</style>\n",
       "<table border=\"1\" class=\"dataframe\">\n",
       "  <thead>\n",
       "    <tr style=\"text-align: right;\">\n",
       "      <th></th>\n",
       "      <th>id</th>\n",
       "      <th>f0</th>\n",
       "      <th>f1</th>\n",
       "      <th>f2</th>\n",
       "      <th>product</th>\n",
       "    </tr>\n",
       "  </thead>\n",
       "  <tbody>\n",
       "  </tbody>\n",
       "</table>\n",
       "</div>"
      ],
      "text/plain": [
       "Empty DataFrame\n",
       "Columns: [id, f0, f1, f2, product]\n",
       "Index: []"
      ]
     },
     "execution_count": 9,
     "metadata": {},
     "output_type": "execute_result"
    }
   ],
   "source": [
    "data2[data2.duplicated()]"
   ]
  },
  {
   "cell_type": "code",
   "execution_count": 10,
   "metadata": {},
   "outputs": [
    {
     "data": {
      "text/plain": [
       "array([[<Axes: title={'center': 'f0'}>, <Axes: title={'center': 'f1'}>],\n",
       "       [<Axes: title={'center': 'f2'}>,\n",
       "        <Axes: title={'center': 'product'}>]], dtype=object)"
      ]
     },
     "execution_count": 10,
     "metadata": {},
     "output_type": "execute_result"
    },
    {
     "data": {
      "image/png": "[encoded data removed]",
      "text/plain": [
       "<Figure size 1000x600 with 4 Axes>"
      ]
     },
     "metadata": {},
     "output_type": "display_data"
    }
   ],
   "source": [
    "#построим гистограммы по регионам\n",
    "data0.hist(figsize=(10,6))"
   ]
  },
  {
   "cell_type": "code",
   "execution_count": 11,
   "metadata": {},
   "outputs": [
    {
     "data": {
      "text/plain": [
       "array([[<Axes: title={'center': 'f0'}>, <Axes: title={'center': 'f1'}>],\n",
       "       [<Axes: title={'center': 'f2'}>,\n",
       "        <Axes: title={'center': 'product'}>]], dtype=object)"
      ]
     },
     "execution_count": 11,
     "metadata": {},
     "output_type": "execute_result"
    },
    {
     "data": {
      "image/png": "[encoded data removed]",
      "text/plain": [
       "<Figure size 1000x600 with 4 Axes>"
      ]
     },
     "metadata": {},
     "output_type": "display_data"
    }
   ],
   "source": [
    "data1.hist(figsize=(10,6))"
   ]
  },
  {
   "cell_type": "code",
   "execution_count": 12,
   "metadata": {
    "scrolled": false
   },
   "outputs": [
    {
     "data": {
      "text/plain": [
       "array([[<Axes: title={'center': 'f0'}>, <Axes: title={'center': 'f1'}>],\n",
       "       [<Axes: title={'center': 'f2'}>,\n",
       "        <Axes: title={'center': 'product'}>]], dtype=object)"
      ]
     },
     "execution_count": 12,
     "metadata": {},
     "output_type": "execute_result"
    },
    {
     "data": {
      "image/png": "[encoded data removed]",
      "text/plain": [
       "<Figure size 1000x600 with 4 Axes>"
      ]
     },
     "metadata": {},
     "output_type": "display_data"
    }
   ],
   "source": [
    "data2.hist(figsize=(10,6))"
   ]
  },
  {
   "cell_type": "code",
   "execution_count": 13,
   "metadata": {},
   "outputs": [
    {
     "data": {
      "text/plain": [
       "<Axes: >"
      ]
     },
     "execution_count": 13,
     "metadata": {},
     "output_type": "execute_result"
    },
    {
     "data": {
      "image/png": "[encoded data removed]",
      "text/plain": [
       "<Figure size 640x480 with 2 Axes>"
      ]
     },
     "metadata": {},
     "output_type": "display_data"
    }
   ],
   "source": [
    "#построим график тепловую карту корреляции\n",
    "sns.heatmap(data0.corr(), annot = True, cmap = 'coolwarm')"
   ]
  },
  {
   "cell_type": "code",
   "execution_count": 14,
   "metadata": {},
   "outputs": [
    {
     "data": {
      "text/plain": [
       "<Axes: >"
      ]
     },
     "execution_count": 14,
     "metadata": {},
     "output_type": "execute_result"
    },
    {
     "data": {
      "image/png": "[encoded data removed]",
      "text/plain": [
       "<Figure size 640x480 with 2 Axes>"
      ]
     },
     "metadata": {},
     "output_type": "display_data"
    }
   ],
   "source": [
    "sns.heatmap(data1.corr(), annot = True, cmap = 'coolwarm')"
   ]
  },
  {
   "cell_type": "code",
   "execution_count": 15,
   "metadata": {
    "scrolled": false
   },
   "outputs": [
    {
     "data": {
      "text/plain": [
       "<Axes: >"
      ]
     },
     "execution_count": 15,
     "metadata": {},
     "output_type": "execute_result"
    },
    {
     "data": {
      "image/png": "[encoded data removed]",
      "text/plain": [
       "<Figure size 640x480 with 2 Axes>"
      ]
     },
     "metadata": {},
     "output_type": "display_data"
    }
   ],
   "source": [
    "sns.heatmap(data2.corr(), annot = True, cmap = 'coolwarm')"
   ]
  },
  {
   "cell_type": "markdown",
   "metadata": {},
   "source": [
    "## Обучение и проверка модели"
   ]
  },
  {
   "cell_type": "code",
   "execution_count": 16,
   "metadata": {},
   "outputs": [
    {
     "data": {
      "text/plain": [
       "(75000, 3)"
      ]
     },
     "metadata": {},
     "output_type": "display_data"
    },
    {
     "data": {
      "text/plain": [
       "(25000, 3)"
      ]
     },
     "metadata": {},
     "output_type": "display_data"
    }
   ],
   "source": [
    "#разобьем данные на выборки\n",
    "target0 = data0['product']\n",
    "features0 = data0.drop(['product', 'id'], axis=1)\n",
    "features_train0, features_valid0, target_train0, target_valid0 = train_test_split(\n",
    "    features0, target0, test_size=0.25, random_state=12345)\n",
    "display(features_train0.shape)\n",
    "display(features_valid0.shape)"
   ]
  },
  {
   "cell_type": "code",
   "execution_count": 17,
   "metadata": {},
   "outputs": [
    {
     "data": {
      "text/plain": [
       "(75000, 3)"
      ]
     },
     "metadata": {},
     "output_type": "display_data"
    },
    {
     "data": {
      "text/plain": [
       "(25000, 3)"
      ]
     },
     "metadata": {},
     "output_type": "display_data"
    }
   ],
   "source": [
    "target1 = data1['product']\n",
    "features1 = data1.drop(['product', 'id'], axis=1)\n",
    "features_train1, features_valid1, target_train1, target_valid1 = train_test_split(\n",
    "    features1, target1, test_size=0.25, random_state=12345)\n",
    "display(features_train1.shape)\n",
    "display(features_valid1.shape)"
   ]
  },
  {
   "cell_type": "code",
   "execution_count": 18,
   "metadata": {},
   "outputs": [
    {
     "data": {
      "text/plain": [
       "(75000, 3)"
      ]
     },
     "metadata": {},
     "output_type": "display_data"
    },
    {
     "data": {
      "text/plain": [
       "(25000, 3)"
      ]
     },
     "metadata": {},
     "output_type": "display_data"
    }
   ],
   "source": [
    "target2 = data2['product']\n",
    "features2 = data2.drop(['product', 'id'], axis=1)\n",
    "features_train2, features_valid2, target_train2, target_valid2 = train_test_split(\n",
    "    features2, target2, test_size=0.25, random_state=12345)\n",
    "display(features_train2.shape)\n",
    "display(features_valid2.shape)"
   ]
  },
  {
   "cell_type": "code",
   "execution_count": 19,
   "metadata": {},
   "outputs": [],
   "source": [
    "#создадим список с числовыми столбцами\n",
    "numeric = ['f0', 'f1', 'f2']"
   ]
  },
  {
   "cell_type": "code",
   "execution_count": 20,
   "metadata": {},
   "outputs": [
    {
     "name": "stdout",
     "output_type": "stream",
     "text": [
      "(75000, 3)\n",
      "(25000, 3)\n"
     ]
    }
   ],
   "source": [
    "#нормируем числовые данные используя StandardScaler\n",
    "pd.options.mode.chained_assignment = None\n",
    "\n",
    "scaler = StandardScaler()\n",
    "scaler.fit(features_train0[numeric])\n",
    "features_train0[numeric] = scaler.transform(features_train0[numeric])\n",
    "features_valid0[numeric] = scaler.transform(features_valid0[numeric])\n",
    "\n",
    "print(features_train0.shape)\n",
    "print(features_valid0.shape)"
   ]
  },
  {
   "cell_type": "code",
   "execution_count": 21,
   "metadata": {},
   "outputs": [
    {
     "name": "stdout",
     "output_type": "stream",
     "text": [
      "(75000, 3)\n",
      "(25000, 3)\n"
     ]
    }
   ],
   "source": [
    "scaler = StandardScaler()\n",
    "scaler.fit(features_train1[numeric])\n",
    "features_train1[numeric] = scaler.transform(features_train1[numeric])\n",
    "features_valid1[numeric] = scaler.transform(features_valid1[numeric])\n",
    "\n",
    "print(features_train1.shape)\n",
    "print(features_valid1.shape)"
   ]
  },
  {
   "cell_type": "code",
   "execution_count": 22,
   "metadata": {},
   "outputs": [
    {
     "name": "stdout",
     "output_type": "stream",
     "text": [
      "(75000, 3)\n",
      "(25000, 3)\n"
     ]
    }
   ],
   "source": [
    "scaler = StandardScaler()\n",
    "scaler.fit(features_train2[numeric])\n",
    "features_train2[numeric] = scaler.transform(features_train2[numeric])\n",
    "features_valid2[numeric] = scaler.transform(features_valid2[numeric])\n",
    "\n",
    "print(features_train2.shape)\n",
    "print(features_valid2.shape)"
   ]
  },
  {
   "cell_type": "code",
   "execution_count": 23,
   "metadata": {},
   "outputs": [
    {
     "name": "stdout",
     "output_type": "stream",
     "text": [
      "Средний запас предсказанного сырья: 92.59256778438035\n",
      "RMSE модели линейной регрессии на валидационной выборке: 37.5794217150813\n"
     ]
    }
   ],
   "source": [
    "#обучим модель линейной регрессии\n",
    "model_lr0 = LinearRegression()\n",
    "model_lr0.fit(features_train0, target_train0)\n",
    "predicted_valid0 = model_lr0.predict(features_valid0)\n",
    "rmse0 = mean_squared_error(target_valid0, predicted_valid0)**0.5\n",
    "predicted_mean0 = predicted_valid0.mean()\n",
    "print(\"Средний запас предсказанного сырья:\", predicted_mean0)\n",
    "print(\"RMSE модели линейной регрессии на валидационной выборке:\", rmse0)"
   ]
  },
  {
   "cell_type": "code",
   "execution_count": 24,
   "metadata": {},
   "outputs": [
    {
     "name": "stdout",
     "output_type": "stream",
     "text": [
      "Средний запас предсказанного сырья: 68.728546895446\n",
      "RMSE модели линейной регрессии на валидационной выборке: 0.8930992867756168\n"
     ]
    }
   ],
   "source": [
    "model_lr1 = LinearRegression()\n",
    "model_lr1.fit(features_train1, target_train1)\n",
    "predicted_valid1 = model_lr1.predict(features_valid1)\n",
    "rmse1 = mean_squared_error(target_valid1, predicted_valid1)**0.5\n",
    "predicted_mean1 = predicted_valid1.mean()\n",
    "print(\"Средний запас предсказанного сырья:\", predicted_mean1)\n",
    "print(\"RMSE модели линейной регрессии на валидационной выборке:\", rmse1)"
   ]
  },
  {
   "cell_type": "code",
   "execution_count": 25,
   "metadata": {},
   "outputs": [
    {
     "name": "stdout",
     "output_type": "stream",
     "text": [
      "Средний запас предсказанного сырья: 94.96504596800489\n",
      "RMSE модели линейной регрессии на валидационной выборке: 40.02970873393434\n"
     ]
    }
   ],
   "source": [
    "model_lr2 = LinearRegression()\n",
    "model_lr2.fit(features_train2, target_train2)\n",
    "predicted_valid2 = model_lr2.predict(features_valid2)\n",
    "rmse2 = mean_squared_error(target_valid2, predicted_valid2)**0.5\n",
    "predicted_mean2 = predicted_valid2.mean()\n",
    "print(\"Средний запас предсказанного сырья:\", predicted_mean2)\n",
    "print(\"RMSE модели линейной регрессии на валидационной выборке:\", rmse2)"
   ]
  },
  {
   "cell_type": "markdown",
   "metadata": {},
   "source": [
    "**Вывод:**\n",
    "\n",
    "В регионе 0 получились значения:\n",
    "- Средний запас предсказанного сырья: 92.59\n",
    "- RMSE модели линейной регрессии на валидационной выборке: 37.58\n",
    "\n",
    "В регионе 1 получились значения:\n",
    "- Средний запас предсказанного сырья: 68.73\n",
    "- RMSE модели линейной регрессии на валидационной выборке: 0.89\n",
    "\n",
    "В регионе 2 получились значения:\n",
    "- Средний запас предсказанного сырья: 94.97\n",
    "- RMSE модели линейной регрессии на валидационной выборке: 40.03\n",
    "\n",
    "Больше всего среднего запаса предсказанного сырья в регионе 2. Самое лучшее значение RMSE в регионе 1."
   ]
  },
  {
   "cell_type": "markdown",
   "metadata": {},
   "source": [
    "## Подготовка к расчёту прибыли"
   ]
  },
  {
   "cell_type": "code",
   "execution_count": 26,
   "metadata": {},
   "outputs": [
    {
     "name": "stdout",
     "output_type": "stream",
     "text": [
      "Объем сырья для безубыточной разработки новой скважины: 111.11111111111111\n"
     ]
    }
   ],
   "source": [
    "#рассчитаем достаточный объем сырья для безубыточной разработки новой скважины\n",
    "print('Объем сырья для безубыточной разработки новой скважины:', BUDGET/PRICE/OIL_WELL)"
   ]
  },
  {
   "cell_type": "code",
   "execution_count": 27,
   "metadata": {},
   "outputs": [
    {
     "name": "stdout",
     "output_type": "stream",
     "text": [
      "Средний объем запасов скважины в 0-м регионе: 92.50000000000001\n",
      "Средний объем запасов скважины в 1-м регионе: 68.82500000000002\n",
      "Средний объем запасов скважины в 2-м регионе: 95.00000000000004\n"
     ]
    }
   ],
   "source": [
    "#сравним полученный объем сырья со средним запасом в каждом регионе\n",
    "print('Средний объем запасов скважины в 0-м регионе:', data0['product'].mean())\n",
    "print('Средний объем запасов скважины в 1-м регионе:', data1['product'].mean())\n",
    "print('Средний объем запасов скважины в 2-м регионе:', data2['product'].mean())"
   ]
  },
  {
   "cell_type": "markdown",
   "metadata": {},
   "source": [
    "**Вывод:**\n",
    "\n",
    " Объем сырья для безубыточной разработки новой скважины равен 111.11.\n",
    " \n",
    " Средний объем сырья в каждом регионе значительно меньше и равен:\n",
    " - Средний объем запасов скважины в 0-м регионе: 92.5\n",
    " - Средний объем запасов скважины в 1-м регионе: 68.83\n",
    " - Средний объем запасов скважины в 2-м регионе: 95.0"
   ]
  },
  {
   "cell_type": "markdown",
   "metadata": {},
   "source": [
    "## Расчёт прибыли и рисков "
   ]
  },
  {
   "cell_type": "code",
   "execution_count": 28,
   "metadata": {},
   "outputs": [],
   "source": [
    "#напишем функцию расчета прибыли\n",
    "def revenue(target, predicted, cost, count):\n",
    "    probs_sorted = predicted.sort_values(ascending=False)\n",
    "    selected = target[probs_sorted.index][:count]\n",
    "    return cost * selected.sum() - BUDGET"
   ]
  },
  {
   "cell_type": "code",
   "execution_count": 29,
   "metadata": {},
   "outputs": [
    {
     "name": "stdout",
     "output_type": "stream",
     "text": [
      "Средняя выручка: 425938526.91059244\n",
      "95%-й Доверительный интервал: (-102090094.83793654, 947976353.3583689)\n",
      "Риск убытков: 6.0 %\n"
     ]
    }
   ],
   "source": [
    "#применим технику Bootstrap с 1000 выборок, чтобы найти распределение прибыли\n",
    "#посчитаем среднюю прибыль, 95%-й доверительный интервал и риск убытков\n",
    "state = np.random.RandomState(12345)  \n",
    "values0 = []\n",
    "df0 = pd.DataFrame({'target': target_valid0, 'predicted': predicted_valid0})\n",
    "\n",
    "for i in range(1000):\n",
    "    df0_sample = df0.sample(n=500, replace=True, random_state=state) \n",
    "    df0_sample = df0_sample.sort_values(by='predicted') \n",
    "    target_subsample0 = df0_sample['target'] \n",
    "    predicted_subsample0 = df0_sample['predicted'] \n",
    "    values0.append(revenue(target_subsample0, predicted_subsample0, PRICE, 200))\n",
    "    \n",
    "values0 = pd.Series(values0)\n",
    "lower0 = values0.quantile(0.025)\n",
    "upper0 = values0.quantile(0.975)\n",
    "mean0 = values0.mean()\n",
    "risk_of_loss0 = values0[values0<0].count() / 1000\n",
    "\n",
    "print(\"Средняя выручка:\", mean0)\n",
    "print(\"95%-й Доверительный интервал:\", (lower0, upper0))\n",
    "print(\"Риск убытков:\", risk_of_loss0 * 100, \"%\")"
   ]
  },
  {
   "cell_type": "code",
   "execution_count": 30,
   "metadata": {},
   "outputs": [
    {
     "name": "stdout",
     "output_type": "stream",
     "text": [
      "Средняя выручка: 518259493.6973249\n",
      "95%-й Доверительный интервал: (128123231.43308444, 953612982.0669085)\n",
      "Риск убытков: 0.3 %\n"
     ]
    }
   ],
   "source": [
    "values1 = []\n",
    "df1 = pd.DataFrame({'target': target_valid1, 'predicted': predicted_valid1})\n",
    "\n",
    "for i in range(1000):\n",
    "    df1_sample = df1.sample(n=500, replace=True, random_state=state) \n",
    "    df1_sample = df1_sample.sort_values(by='predicted') \n",
    "    target_subsample1 = df1_sample['target'] \n",
    "    predicted_subsample1 = df1_sample['predicted'] \n",
    "    values1.append(revenue(target_subsample1, predicted_subsample1, PRICE, 200))\n",
    "\n",
    "values1 = pd.Series(values1)\n",
    "lower1 = values1.quantile(0.025)\n",
    "upper1 = values1.quantile(0.975)\n",
    "mean1 = values1.mean()\n",
    "risk_of_loss1 = values1[values1<0].count() / 1000\n",
    "\n",
    "print(\"Средняя выручка:\", mean1)\n",
    "print(\"95%-й Доверительный интервал:\", (lower1, upper1))\n",
    "print(\"Риск убытков:\", risk_of_loss1 * 100, \"%\")"
   ]
  },
  {
   "cell_type": "code",
   "execution_count": 31,
   "metadata": {
    "scrolled": false
   },
   "outputs": [
    {
     "name": "stdout",
     "output_type": "stream",
     "text": [
      "Средняя выручка: 435008362.7827556\n",
      "95%-й Доверительный интервал: (-128880547.32978901, 969706954.1802661)\n",
      "Риск убытков: 6.4 %\n"
     ]
    }
   ],
   "source": [
    "state = np.random.RandomState(12345)  \n",
    "values2 = []\n",
    "df2 = pd.DataFrame({'target': target_valid2, 'predicted': predicted_valid2})\n",
    "\n",
    "for i in range(1000):\n",
    "    df2_sample = df2.sample(n=500, replace=True, random_state=state) \n",
    "    df2_sample = df2_sample.sort_values(by='predicted') \n",
    "    target_subsample2 = df2_sample['target'] \n",
    "    predicted_subsample2 = df2_sample['predicted'] \n",
    "    values2.append(revenue(target_subsample2, predicted_subsample2, PRICE, 200))\n",
    "\n",
    "values2 = pd.Series(values2)\n",
    "lower2 = values2.quantile(0.025)\n",
    "upper2 = values2.quantile(0.975)\n",
    "mean2 = values2.mean()\n",
    "risk_of_loss2 = values2[values2<0].count() / 1000\n",
    "\n",
    "print(\"Средняя выручка:\", mean2)\n",
    "print(\"95%-й Доверительный интервал:\", (lower2, upper2))\n",
    "print(\"Риск убытков:\", risk_of_loss2 *100, \"%\")"
   ]
  },
  {
   "cell_type": "code",
   "execution_count": 32,
   "metadata": {
    "scrolled": true
   },
   "outputs": [
    {
     "name": "stdout",
     "output_type": "stream",
     "text": [
      "   Средняя прибыль              95%-й Доверительный интервал  Риск убытков %\n",
      "0     425938526.91  (-102090094.83793654, 947976353.3583689)            6.00\n",
      "1     518259493.70   (128123231.43308444, 953612982.0669085)            0.30\n",
      "2     435008362.78  (-128880547.32978901, 969706954.1802661)            6.40\n"
     ]
    }
   ],
   "source": [
    "#сделаем отдельный датафрейм по регионам\n",
    "pd.set_option('display.float_format', '{:.2f}'.format)\n",
    "df = pd.DataFrame(data=[[mean0, str((lower0, upper0)), risk_of_loss0 * 100],\n",
    "                       [mean1, str((lower1, upper1)), risk_of_loss1 * 100],\n",
    "                       [mean2, str((lower2, upper2)), risk_of_loss2 * 100]],\n",
    "                  columns=['Средняя прибыль', '95%-й Доверительный интервал', 'Риск убытков %'])\n",
    "print(df)"
   ]
  },
  {
   "cell_type": "markdown",
   "metadata": {},
   "source": [
    "**Вывод:**\n",
    " \n",
    "Показатели для 0-региона:\n",
    " \n",
    "- Средняя выручка: 425938526.91\n",
    "- 95%-й Доверительный интервал: (-102090094.84, 947976353.36)\n",
    "- Риск убытков: 6.0 %\n",
    "\n",
    "Показатели для 1-региона:\n",
    " \n",
    "- Средняя выручка: 518259493.70\n",
    "- 95%-й Доверительный интервал: (128123231.43, 953612982.07)\n",
    "- Риск убытков: 0.3 %\n",
    "\n",
    "Показатели для 2-региона:\n",
    "\n",
    "- Средняя выручка: 435008362.78\n",
    "- 95%-й Доверительный интервал: (-128880547.33, 969706954.18)\n",
    "- Риск убытков: 6.4 %\n",
    "\n",
    "Средняя выручка большего всего в 1-регионе, лучшие значения 95% доверительного интервала у 1-региона и меньше всего риск убытков в 1-регионе"
   ]
  },
  {
   "cell_type": "markdown",
   "metadata": {},
   "source": [
    "**Общий вывод:**\n",
    "\n",
    "  Лучший регион для разработки скважин это 1-регион, он имеет самый низкий риск убытков `0.3%`, имеет самую большу среднюю выручку `518259493.70`, лучшие значения 95% доверительного интервала `128123231.43 - 953612982.07`"
   ]
  }
 ],
 "metadata": {
  "ExecuteTimeLog": [
   {
    "duration": 2061,
    "start_time": "2023-05-29T07:14:03.657Z"
   },
   {
    "duration": 2503,
    "start_time": "2023-05-29T07:16:51.997Z"
   },
   {
    "duration": 2,
    "start_time": "2023-05-29T07:17:20.849Z"
   },
   {
    "duration": 25,
    "start_time": "2023-05-29T07:19:46.504Z"
   },
   {
    "duration": 25,
    "start_time": "2023-05-29T07:19:57.152Z"
   },
   {
    "duration": 26,
    "start_time": "2023-05-29T07:20:02.209Z"
   },
   {
    "duration": 21,
    "start_time": "2023-05-29T07:20:10.383Z"
   },
   {
    "duration": 24,
    "start_time": "2023-05-29T07:20:16.599Z"
   },
   {
    "duration": 32,
    "start_time": "2023-05-29T07:20:30.016Z"
   },
   {
    "duration": 70,
    "start_time": "2023-05-29T07:21:10.228Z"
   },
   {
    "duration": 42,
    "start_time": "2023-05-29T07:21:35.504Z"
   },
   {
    "duration": 140,
    "start_time": "2023-05-29T07:21:50.894Z"
   },
   {
    "duration": 129,
    "start_time": "2023-05-29T07:23:52.879Z"
   },
   {
    "duration": 53,
    "start_time": "2023-05-30T11:10:12.042Z"
   },
   {
    "duration": 1482,
    "start_time": "2023-05-30T11:10:16.973Z"
   },
   {
    "duration": 2,
    "start_time": "2023-05-30T11:10:20.960Z"
   },
   {
    "duration": 72,
    "start_time": "2023-05-30T11:10:22.422Z"
   },
   {
    "duration": 693,
    "start_time": "2023-05-30T11:10:27.315Z"
   },
   {
    "duration": 9,
    "start_time": "2023-05-30T11:10:29.614Z"
   },
   {
    "duration": 35,
    "start_time": "2023-05-30T11:10:42.374Z"
   },
   {
    "duration": 30,
    "start_time": "2023-05-30T11:11:34.978Z"
   },
   {
    "duration": 17,
    "start_time": "2023-05-30T11:12:31.614Z"
   },
   {
    "duration": 17,
    "start_time": "2023-05-30T11:12:43.821Z"
   },
   {
    "duration": 23,
    "start_time": "2023-05-30T11:17:49.392Z"
   },
   {
    "duration": 1345,
    "start_time": "2023-05-30T11:18:04.750Z"
   },
   {
    "duration": 325,
    "start_time": "2023-05-30T11:18:06.096Z"
   },
   {
    "duration": 23,
    "start_time": "2023-05-30T11:18:06.423Z"
   },
   {
    "duration": 35,
    "start_time": "2023-05-30T11:18:06.447Z"
   },
   {
    "duration": 112,
    "start_time": "2023-05-30T11:18:06.484Z"
   },
   {
    "duration": 4,
    "start_time": "2023-05-30T11:18:06.597Z"
   },
   {
    "duration": 130,
    "start_time": "2023-05-30T11:18:06.602Z"
   },
   {
    "duration": 20,
    "start_time": "2023-05-30T11:18:16.061Z"
   },
   {
    "duration": 17,
    "start_time": "2023-05-30T11:18:21.993Z"
   },
   {
    "duration": 19,
    "start_time": "2023-05-30T11:18:37.854Z"
   },
   {
    "duration": 28,
    "start_time": "2023-05-30T11:18:47.887Z"
   },
   {
    "duration": 1938,
    "start_time": "2023-05-30T11:18:54.249Z"
   },
   {
    "duration": 322,
    "start_time": "2023-05-30T11:18:56.188Z"
   },
   {
    "duration": 24,
    "start_time": "2023-05-30T11:18:56.511Z"
   },
   {
    "duration": 35,
    "start_time": "2023-05-30T11:18:56.537Z"
   },
   {
    "duration": 114,
    "start_time": "2023-05-30T11:18:56.574Z"
   },
   {
    "duration": 2,
    "start_time": "2023-05-30T11:18:56.690Z"
   },
   {
    "duration": 144,
    "start_time": "2023-05-30T11:18:56.693Z"
   },
   {
    "duration": 13,
    "start_time": "2023-05-30T11:19:22.291Z"
   },
   {
    "duration": 13,
    "start_time": "2023-05-30T11:19:32.794Z"
   },
   {
    "duration": 13,
    "start_time": "2023-05-30T11:19:36.395Z"
   },
   {
    "duration": 18,
    "start_time": "2023-05-30T11:19:48.148Z"
   },
   {
    "duration": 1276,
    "start_time": "2023-05-30T11:36:59.507Z"
   },
   {
    "duration": 315,
    "start_time": "2023-05-30T11:37:00.785Z"
   },
   {
    "duration": 24,
    "start_time": "2023-05-30T11:37:01.102Z"
   },
   {
    "duration": 60,
    "start_time": "2023-05-30T11:37:01.127Z"
   },
   {
    "duration": 89,
    "start_time": "2023-05-30T11:37:01.188Z"
   },
   {
    "duration": 3,
    "start_time": "2023-05-30T11:37:01.278Z"
   },
   {
    "duration": 143,
    "start_time": "2023-05-30T11:37:01.282Z"
   },
   {
    "duration": 21,
    "start_time": "2023-05-30T11:39:45.855Z"
   },
   {
    "duration": 17,
    "start_time": "2023-05-30T11:40:08.571Z"
   },
   {
    "duration": 14,
    "start_time": "2023-05-30T11:40:14.148Z"
   },
   {
    "duration": 14,
    "start_time": "2023-05-30T11:41:37.260Z"
   },
   {
    "duration": 16,
    "start_time": "2023-05-30T11:41:56.053Z"
   },
   {
    "duration": 15,
    "start_time": "2023-05-30T11:42:54.357Z"
   },
   {
    "duration": 14,
    "start_time": "2023-05-30T11:42:54.552Z"
   },
   {
    "duration": 4,
    "start_time": "2023-05-30T11:44:25.321Z"
   },
   {
    "duration": 2,
    "start_time": "2023-05-30T11:46:34.360Z"
   },
   {
    "duration": 17,
    "start_time": "2023-05-30T11:48:54.637Z"
   },
   {
    "duration": 20,
    "start_time": "2023-05-30T11:49:05.373Z"
   },
   {
    "duration": 16,
    "start_time": "2023-05-30T11:49:13.039Z"
   },
   {
    "duration": 16,
    "start_time": "2023-05-30T11:50:00.604Z"
   },
   {
    "duration": 1257,
    "start_time": "2023-05-30T11:50:06.873Z"
   },
   {
    "duration": 343,
    "start_time": "2023-05-30T11:50:08.132Z"
   },
   {
    "duration": 26,
    "start_time": "2023-05-30T11:50:08.476Z"
   },
   {
    "duration": 50,
    "start_time": "2023-05-30T11:50:08.504Z"
   },
   {
    "duration": 119,
    "start_time": "2023-05-30T11:50:08.556Z"
   },
   {
    "duration": 2,
    "start_time": "2023-05-30T11:50:08.677Z"
   },
   {
    "duration": 29,
    "start_time": "2023-05-30T11:50:08.681Z"
   },
   {
    "duration": 42,
    "start_time": "2023-05-30T11:50:08.712Z"
   },
   {
    "duration": 16,
    "start_time": "2023-05-30T11:50:08.755Z"
   },
   {
    "duration": 15,
    "start_time": "2023-05-30T11:50:08.772Z"
   },
   {
    "duration": 31,
    "start_time": "2023-05-30T11:50:08.789Z"
   },
   {
    "duration": 11,
    "start_time": "2023-05-30T11:50:49.662Z"
   },
   {
    "duration": 16,
    "start_time": "2023-05-30T11:50:54.069Z"
   },
   {
    "duration": 21,
    "start_time": "2023-05-30T11:50:58.654Z"
   },
   {
    "duration": 22,
    "start_time": "2023-05-30T11:52:17.276Z"
   },
   {
    "duration": 19,
    "start_time": "2023-05-30T11:52:32.466Z"
   },
   {
    "duration": 23,
    "start_time": "2023-05-30T11:52:42.301Z"
   },
   {
    "duration": 23,
    "start_time": "2023-05-30T11:52:45.607Z"
   },
   {
    "duration": 21,
    "start_time": "2023-05-30T11:53:13.814Z"
   },
   {
    "duration": 15,
    "start_time": "2023-05-30T11:53:26.982Z"
   },
   {
    "duration": 14,
    "start_time": "2023-05-30T11:53:27.673Z"
   },
   {
    "duration": 14,
    "start_time": "2023-05-30T11:53:39.589Z"
   },
   {
    "duration": 23,
    "start_time": "2023-05-30T11:53:43.000Z"
   },
   {
    "duration": 19,
    "start_time": "2023-05-30T11:53:49.359Z"
   },
   {
    "duration": 20,
    "start_time": "2023-05-30T11:53:53.555Z"
   },
   {
    "duration": 22,
    "start_time": "2023-05-30T11:54:26.782Z"
   },
   {
    "duration": 21,
    "start_time": "2023-05-30T11:54:42.908Z"
   },
   {
    "duration": 19,
    "start_time": "2023-05-30T11:55:07.878Z"
   },
   {
    "duration": 21,
    "start_time": "2023-05-30T11:55:27.672Z"
   },
   {
    "duration": 27,
    "start_time": "2023-05-30T11:55:30.270Z"
   },
   {
    "duration": 15,
    "start_time": "2023-05-30T11:55:41.814Z"
   },
   {
    "duration": 15,
    "start_time": "2023-05-30T11:55:49.377Z"
   },
   {
    "duration": 107,
    "start_time": "2023-05-30T12:06:22.215Z"
   },
   {
    "duration": 1269,
    "start_time": "2023-05-30T12:06:54.722Z"
   },
   {
    "duration": 321,
    "start_time": "2023-05-30T12:06:55.992Z"
   },
   {
    "duration": 23,
    "start_time": "2023-05-30T12:06:56.314Z"
   },
   {
    "duration": 33,
    "start_time": "2023-05-30T12:06:56.339Z"
   },
   {
    "duration": 113,
    "start_time": "2023-05-30T12:06:56.373Z"
   },
   {
    "duration": 3,
    "start_time": "2023-05-30T12:06:56.487Z"
   },
   {
    "duration": 25,
    "start_time": "2023-05-30T12:06:56.491Z"
   },
   {
    "duration": 15,
    "start_time": "2023-05-30T12:06:56.517Z"
   },
   {
    "duration": 15,
    "start_time": "2023-05-30T12:06:56.533Z"
   },
   {
    "duration": 2,
    "start_time": "2023-05-30T12:06:56.550Z"
   },
   {
    "duration": 18,
    "start_time": "2023-05-30T12:06:56.554Z"
   },
   {
    "duration": 13,
    "start_time": "2023-05-30T12:06:56.574Z"
   },
   {
    "duration": 14,
    "start_time": "2023-05-30T12:06:56.615Z"
   },
   {
    "duration": 113,
    "start_time": "2023-05-30T12:06:56.630Z"
   },
   {
    "duration": 3,
    "start_time": "2023-05-30T12:07:14.377Z"
   },
   {
    "duration": 11,
    "start_time": "2023-05-30T12:07:18.081Z"
   },
   {
    "duration": 10,
    "start_time": "2023-05-30T12:07:43.265Z"
   },
   {
    "duration": 10,
    "start_time": "2023-05-30T12:07:47.593Z"
   },
   {
    "duration": 11,
    "start_time": "2023-05-30T12:10:14.407Z"
   },
   {
    "duration": 10,
    "start_time": "2023-05-30T12:10:19.569Z"
   },
   {
    "duration": 10,
    "start_time": "2023-05-30T12:10:24.470Z"
   },
   {
    "duration": 12,
    "start_time": "2023-05-30T12:10:34.402Z"
   },
   {
    "duration": 10,
    "start_time": "2023-05-30T12:12:05.686Z"
   },
   {
    "duration": 53,
    "start_time": "2023-05-30T12:13:28.065Z"
   },
   {
    "duration": 30,
    "start_time": "2023-05-30T12:13:41.988Z"
   },
   {
    "duration": 48,
    "start_time": "2023-05-30T12:13:49.069Z"
   },
   {
    "duration": 16,
    "start_time": "2023-05-30T12:13:51.306Z"
   },
   {
    "duration": 22,
    "start_time": "2023-05-30T12:13:55.197Z"
   },
   {
    "duration": 13,
    "start_time": "2023-05-30T12:15:06.622Z"
   },
   {
    "duration": 55,
    "start_time": "2023-05-30T12:15:13.462Z"
   },
   {
    "duration": 19,
    "start_time": "2023-05-30T12:15:15.112Z"
   },
   {
    "duration": 10,
    "start_time": "2023-05-30T12:16:03.869Z"
   },
   {
    "duration": 28,
    "start_time": "2023-05-30T12:18:06.588Z"
   },
   {
    "duration": 29,
    "start_time": "2023-05-30T12:18:12.096Z"
   },
   {
    "duration": 4,
    "start_time": "2023-05-30T12:18:22.407Z"
   },
   {
    "duration": 19,
    "start_time": "2023-05-30T12:18:26.564Z"
   },
   {
    "duration": 3,
    "start_time": "2023-05-30T12:20:22.105Z"
   },
   {
    "duration": 10,
    "start_time": "2023-05-30T12:20:47.449Z"
   },
   {
    "duration": 13,
    "start_time": "2023-05-30T12:20:51.590Z"
   },
   {
    "duration": 12,
    "start_time": "2023-05-30T12:22:24.976Z"
   },
   {
    "duration": 10,
    "start_time": "2023-05-30T12:22:41.670Z"
   },
   {
    "duration": 9,
    "start_time": "2023-05-30T12:23:37.269Z"
   },
   {
    "duration": 11,
    "start_time": "2023-05-30T12:23:37.456Z"
   },
   {
    "duration": 10,
    "start_time": "2023-05-30T12:23:56.105Z"
   },
   {
    "duration": 12,
    "start_time": "2023-05-30T12:30:36.348Z"
   },
   {
    "duration": 11,
    "start_time": "2023-05-30T12:30:36.879Z"
   },
   {
    "duration": 11,
    "start_time": "2023-05-30T12:30:37.371Z"
   },
   {
    "duration": 12,
    "start_time": "2023-05-30T12:34:37.585Z"
   },
   {
    "duration": 13,
    "start_time": "2023-05-30T12:35:55.570Z"
   },
   {
    "duration": 159,
    "start_time": "2023-05-30T12:35:55.585Z"
   },
   {
    "duration": 190,
    "start_time": "2023-05-30T12:35:55.746Z"
   },
   {
    "duration": 48,
    "start_time": "2023-05-31T13:30:52.779Z"
   },
   {
    "duration": 8,
    "start_time": "2023-05-31T13:30:57.723Z"
   },
   {
    "duration": 1595,
    "start_time": "2023-05-31T13:31:03.371Z"
   },
   {
    "duration": 793,
    "start_time": "2023-05-31T13:31:04.968Z"
   },
   {
    "duration": 28,
    "start_time": "2023-05-31T13:31:05.762Z"
   },
   {
    "duration": 40,
    "start_time": "2023-05-31T13:31:05.792Z"
   },
   {
    "duration": 124,
    "start_time": "2023-05-31T13:31:05.834Z"
   },
   {
    "duration": 2,
    "start_time": "2023-05-31T13:31:05.960Z"
   },
   {
    "duration": 19,
    "start_time": "2023-05-31T13:31:05.976Z"
   },
   {
    "duration": 43,
    "start_time": "2023-05-31T13:31:05.996Z"
   },
   {
    "duration": 42,
    "start_time": "2023-05-31T13:31:06.041Z"
   },
   {
    "duration": 7,
    "start_time": "2023-05-31T13:31:06.085Z"
   },
   {
    "duration": 35,
    "start_time": "2023-05-31T13:31:06.093Z"
   },
   {
    "duration": 109,
    "start_time": "2023-05-31T13:31:06.130Z"
   },
   {
    "duration": 0,
    "start_time": "2023-05-31T13:31:06.241Z"
   },
   {
    "duration": 0,
    "start_time": "2023-05-31T13:31:06.242Z"
   },
   {
    "duration": 0,
    "start_time": "2023-05-31T13:31:06.243Z"
   },
   {
    "duration": 0,
    "start_time": "2023-05-31T13:31:06.245Z"
   },
   {
    "duration": 0,
    "start_time": "2023-05-31T13:31:06.246Z"
   },
   {
    "duration": 0,
    "start_time": "2023-05-31T13:31:06.247Z"
   },
   {
    "duration": 3,
    "start_time": "2023-05-31T13:31:36.010Z"
   },
   {
    "duration": 17,
    "start_time": "2023-05-31T13:31:36.188Z"
   },
   {
    "duration": 21,
    "start_time": "2023-05-31T13:31:36.365Z"
   },
   {
    "duration": 17,
    "start_time": "2023-05-31T13:31:36.525Z"
   },
   {
    "duration": 16,
    "start_time": "2023-05-31T13:31:36.694Z"
   },
   {
    "duration": 21,
    "start_time": "2023-05-31T13:31:36.878Z"
   },
   {
    "duration": 103,
    "start_time": "2023-05-31T13:31:37.077Z"
   },
   {
    "duration": 19,
    "start_time": "2023-05-31T13:32:20.436Z"
   },
   {
    "duration": 37,
    "start_time": "2023-05-31T13:32:40.444Z"
   },
   {
    "duration": 18,
    "start_time": "2023-05-31T13:32:43.455Z"
   },
   {
    "duration": 17,
    "start_time": "2023-05-31T13:32:50.201Z"
   },
   {
    "duration": 20,
    "start_time": "2023-05-31T13:32:56.698Z"
   },
   {
    "duration": 15,
    "start_time": "2023-05-31T13:33:01.946Z"
   },
   {
    "duration": 23,
    "start_time": "2023-05-31T13:44:05.125Z"
   },
   {
    "duration": 42,
    "start_time": "2023-05-31T13:44:07.583Z"
   },
   {
    "duration": 18,
    "start_time": "2023-05-31T13:45:26.960Z"
   },
   {
    "duration": 255,
    "start_time": "2023-05-31T13:45:48.991Z"
   },
   {
    "duration": 3,
    "start_time": "2023-05-31T14:01:03.666Z"
   },
   {
    "duration": 3,
    "start_time": "2023-05-31T14:02:44.810Z"
   },
   {
    "duration": 5,
    "start_time": "2023-05-31T14:04:48.193Z"
   },
   {
    "duration": 3877,
    "start_time": "2023-05-31T14:05:08.950Z"
   },
   {
    "duration": 19,
    "start_time": "2023-05-31T14:05:19.511Z"
   },
   {
    "duration": 13,
    "start_time": "2023-05-31T14:05:28.648Z"
   },
   {
    "duration": 5,
    "start_time": "2023-05-31T14:05:48.424Z"
   },
   {
    "duration": 7,
    "start_time": "2023-05-31T14:06:00.870Z"
   },
   {
    "duration": 4,
    "start_time": "2023-05-31T14:27:32.786Z"
   },
   {
    "duration": 3,
    "start_time": "2023-05-31T14:28:28.359Z"
   },
   {
    "duration": 10,
    "start_time": "2023-05-31T14:28:28.954Z"
   },
   {
    "duration": 3,
    "start_time": "2023-05-31T14:31:08.569Z"
   },
   {
    "duration": 11,
    "start_time": "2023-05-31T14:31:25.735Z"
   },
   {
    "duration": 15,
    "start_time": "2023-05-31T14:31:47.753Z"
   },
   {
    "duration": 3,
    "start_time": "2023-05-31T14:32:33.078Z"
   },
   {
    "duration": 11,
    "start_time": "2023-05-31T14:32:33.467Z"
   },
   {
    "duration": 19,
    "start_time": "2023-05-31T14:34:02.839Z"
   },
   {
    "duration": 14,
    "start_time": "2023-05-31T14:34:03.078Z"
   },
   {
    "duration": 15,
    "start_time": "2023-05-31T14:34:03.424Z"
   },
   {
    "duration": 12,
    "start_time": "2023-05-31T14:34:09.790Z"
   },
   {
    "duration": 10,
    "start_time": "2023-05-31T14:34:37.773Z"
   },
   {
    "duration": 11,
    "start_time": "2023-05-31T14:35:04.137Z"
   },
   {
    "duration": 4,
    "start_time": "2023-05-31T14:38:29.035Z"
   },
   {
    "duration": 3,
    "start_time": "2023-05-31T14:38:37.248Z"
   },
   {
    "duration": 4,
    "start_time": "2023-05-31T14:38:40.796Z"
   },
   {
    "duration": 3,
    "start_time": "2023-05-31T14:38:43.468Z"
   },
   {
    "duration": 10,
    "start_time": "2023-05-31T14:38:51.788Z"
   },
   {
    "duration": 4,
    "start_time": "2023-05-31T14:38:54.584Z"
   },
   {
    "duration": 6,
    "start_time": "2023-05-31T14:39:04.246Z"
   },
   {
    "duration": 11,
    "start_time": "2023-05-31T14:42:51.278Z"
   },
   {
    "duration": 10,
    "start_time": "2023-05-31T14:44:19.944Z"
   },
   {
    "duration": 12,
    "start_time": "2023-05-31T14:45:59.553Z"
   },
   {
    "duration": 11,
    "start_time": "2023-05-31T14:46:16.309Z"
   },
   {
    "duration": 11,
    "start_time": "2023-05-31T14:46:49.347Z"
   },
   {
    "duration": 11,
    "start_time": "2023-05-31T14:46:56.103Z"
   },
   {
    "duration": 12,
    "start_time": "2023-05-31T14:54:35.378Z"
   },
   {
    "duration": 3,
    "start_time": "2023-05-31T14:55:06.947Z"
   },
   {
    "duration": 11,
    "start_time": "2023-05-31T14:55:09.047Z"
   },
   {
    "duration": 12,
    "start_time": "2023-05-31T14:55:16.257Z"
   },
   {
    "duration": 12,
    "start_time": "2023-05-31T14:55:19.111Z"
   },
   {
    "duration": 1494,
    "start_time": "2023-05-31T14:55:42.568Z"
   },
   {
    "duration": 387,
    "start_time": "2023-05-31T14:55:44.065Z"
   },
   {
    "duration": 56,
    "start_time": "2023-05-31T14:55:44.454Z"
   },
   {
    "duration": 24,
    "start_time": "2023-05-31T14:55:44.511Z"
   },
   {
    "duration": 123,
    "start_time": "2023-05-31T14:55:44.538Z"
   },
   {
    "duration": 25,
    "start_time": "2023-05-31T14:55:44.662Z"
   },
   {
    "duration": 39,
    "start_time": "2023-05-31T14:55:44.689Z"
   },
   {
    "duration": 30,
    "start_time": "2023-05-31T14:55:44.730Z"
   },
   {
    "duration": 24,
    "start_time": "2023-05-31T14:55:44.761Z"
   },
   {
    "duration": 29,
    "start_time": "2023-05-31T14:55:44.787Z"
   },
   {
    "duration": 36,
    "start_time": "2023-05-31T14:55:44.817Z"
   },
   {
    "duration": 30,
    "start_time": "2023-05-31T14:55:44.855Z"
   },
   {
    "duration": 91,
    "start_time": "2023-05-31T14:55:44.887Z"
   },
   {
    "duration": 113,
    "start_time": "2023-05-31T14:55:44.982Z"
   },
   {
    "duration": 187,
    "start_time": "2023-05-31T14:55:45.098Z"
   },
   {
    "duration": 212,
    "start_time": "2023-05-31T14:55:45.287Z"
   },
   {
    "duration": 35,
    "start_time": "2023-05-31T14:55:45.501Z"
   },
   {
    "duration": 33,
    "start_time": "2023-05-31T14:55:45.538Z"
   },
   {
    "duration": 20,
    "start_time": "2023-05-31T14:55:45.572Z"
   },
   {
    "duration": 130,
    "start_time": "2023-05-31T14:55:45.594Z"
   },
   {
    "duration": 0,
    "start_time": "2023-05-31T14:55:45.726Z"
   },
   {
    "duration": 0,
    "start_time": "2023-05-31T14:55:45.728Z"
   },
   {
    "duration": 12,
    "start_time": "2023-05-31T14:56:27.772Z"
   },
   {
    "duration": 11,
    "start_time": "2023-05-31T14:56:29.951Z"
   },
   {
    "duration": 14,
    "start_time": "2023-05-31T14:56:44.319Z"
   },
   {
    "duration": 45,
    "start_time": "2023-06-01T10:58:09.540Z"
   },
   {
    "duration": 16,
    "start_time": "2023-06-01T10:58:14.637Z"
   },
   {
    "duration": 1505,
    "start_time": "2023-06-01T10:58:20.840Z"
   },
   {
    "duration": 2188,
    "start_time": "2023-06-01T10:58:22.347Z"
   },
   {
    "duration": 38,
    "start_time": "2023-06-01T10:58:24.537Z"
   },
   {
    "duration": 37,
    "start_time": "2023-06-01T10:58:24.577Z"
   },
   {
    "duration": 97,
    "start_time": "2023-06-01T10:58:24.620Z"
   },
   {
    "duration": 20,
    "start_time": "2023-06-01T10:58:24.728Z"
   },
   {
    "duration": 17,
    "start_time": "2023-06-01T10:58:24.749Z"
   },
   {
    "duration": 17,
    "start_time": "2023-06-01T10:58:24.768Z"
   },
   {
    "duration": 13,
    "start_time": "2023-06-01T10:58:24.786Z"
   },
   {
    "duration": 35,
    "start_time": "2023-06-01T10:58:24.801Z"
   },
   {
    "duration": 25,
    "start_time": "2023-06-01T10:58:24.838Z"
   },
   {
    "duration": 14,
    "start_time": "2023-06-01T10:58:24.865Z"
   },
   {
    "duration": 50,
    "start_time": "2023-06-01T10:58:24.881Z"
   },
   {
    "duration": 104,
    "start_time": "2023-06-01T10:58:24.933Z"
   },
   {
    "duration": 75,
    "start_time": "2023-06-01T10:58:25.038Z"
   },
   {
    "duration": 8,
    "start_time": "2023-06-01T10:58:25.115Z"
   },
   {
    "duration": 13,
    "start_time": "2023-06-01T10:58:25.126Z"
   },
   {
    "duration": 10,
    "start_time": "2023-06-01T10:58:25.143Z"
   },
   {
    "duration": 68,
    "start_time": "2023-06-01T10:58:25.155Z"
   },
   {
    "duration": 129,
    "start_time": "2023-06-01T10:58:25.226Z"
   },
   {
    "duration": 0,
    "start_time": "2023-06-01T10:58:25.357Z"
   },
   {
    "duration": 0,
    "start_time": "2023-06-01T10:58:25.358Z"
   },
   {
    "duration": 84,
    "start_time": "2023-06-01T11:18:48.662Z"
   },
   {
    "duration": 449,
    "start_time": "2023-06-01T11:19:49.553Z"
   },
   {
    "duration": 473,
    "start_time": "2023-06-01T11:19:53.223Z"
   },
   {
    "duration": 660,
    "start_time": "2023-06-01T11:20:49.187Z"
   },
   {
    "duration": 753,
    "start_time": "2023-06-01T11:21:54.192Z"
   },
   {
    "duration": 714,
    "start_time": "2023-06-01T11:22:30.554Z"
   },
   {
    "duration": 765,
    "start_time": "2023-06-01T11:22:39.221Z"
   },
   {
    "duration": 60,
    "start_time": "2023-06-01T11:23:09.073Z"
   },
   {
    "duration": 17,
    "start_time": "2023-06-01T11:23:16.367Z"
   },
   {
    "duration": 20,
    "start_time": "2023-06-01T11:23:22.884Z"
   },
   {
    "duration": 21,
    "start_time": "2023-06-01T11:23:26.624Z"
   },
   {
    "duration": 20,
    "start_time": "2023-06-01T11:26:22.684Z"
   },
   {
    "duration": 778,
    "start_time": "2023-06-01T11:26:39.313Z"
   },
   {
    "duration": 4153,
    "start_time": "2023-06-01T11:28:03.622Z"
   },
   {
    "duration": 703,
    "start_time": "2023-06-01T11:28:18.200Z"
   },
   {
    "duration": 783,
    "start_time": "2023-06-01T11:28:25.151Z"
   },
   {
    "duration": 713,
    "start_time": "2023-06-01T11:28:31.551Z"
   },
   {
    "duration": 837,
    "start_time": "2023-06-01T11:28:36.255Z"
   },
   {
    "duration": 435,
    "start_time": "2023-06-01T11:28:44.585Z"
   },
   {
    "duration": 500,
    "start_time": "2023-06-01T11:28:59.094Z"
   },
   {
    "duration": 657,
    "start_time": "2023-06-01T11:29:08.261Z"
   },
   {
    "duration": 3953,
    "start_time": "2023-06-01T11:31:24.329Z"
   },
   {
    "duration": 4069,
    "start_time": "2023-06-01T11:31:36.361Z"
   },
   {
    "duration": 4082,
    "start_time": "2023-06-01T11:34:56.250Z"
   },
   {
    "duration": 1320,
    "start_time": "2023-06-01T11:35:12.189Z"
   },
   {
    "duration": 358,
    "start_time": "2023-06-01T11:35:13.511Z"
   },
   {
    "duration": 58,
    "start_time": "2023-06-01T11:35:13.871Z"
   },
   {
    "duration": 30,
    "start_time": "2023-06-01T11:35:13.932Z"
   },
   {
    "duration": 132,
    "start_time": "2023-06-01T11:35:13.964Z"
   },
   {
    "duration": 21,
    "start_time": "2023-06-01T11:35:14.106Z"
   },
   {
    "duration": 19,
    "start_time": "2023-06-01T11:35:14.128Z"
   },
   {
    "duration": 26,
    "start_time": "2023-06-01T11:35:14.150Z"
   },
   {
    "duration": 10,
    "start_time": "2023-06-01T11:35:14.178Z"
   },
   {
    "duration": 35,
    "start_time": "2023-06-01T11:35:14.190Z"
   },
   {
    "duration": 41,
    "start_time": "2023-06-01T11:35:14.227Z"
   },
   {
    "duration": 22,
    "start_time": "2023-06-01T11:35:14.270Z"
   },
   {
    "duration": 15,
    "start_time": "2023-06-01T11:35:14.293Z"
   },
   {
    "duration": 100,
    "start_time": "2023-06-01T11:35:14.311Z"
   },
   {
    "duration": 97,
    "start_time": "2023-06-01T11:35:14.413Z"
   },
   {
    "duration": 93,
    "start_time": "2023-06-01T11:35:14.512Z"
   },
   {
    "duration": 14,
    "start_time": "2023-06-01T11:35:14.607Z"
   },
   {
    "duration": 6,
    "start_time": "2023-06-01T11:35:14.628Z"
   },
   {
    "duration": 3,
    "start_time": "2023-06-01T11:35:14.636Z"
   },
   {
    "duration": 151,
    "start_time": "2023-06-01T11:35:14.640Z"
   },
   {
    "duration": 0,
    "start_time": "2023-06-01T11:35:14.792Z"
   },
   {
    "duration": 0,
    "start_time": "2023-06-01T11:35:14.793Z"
   },
   {
    "duration": 3943,
    "start_time": "2023-06-01T11:35:22.406Z"
   },
   {
    "duration": 4066,
    "start_time": "2023-06-01T11:37:16.029Z"
   },
   {
    "duration": 66,
    "start_time": "2023-06-01T11:37:35.753Z"
   },
   {
    "duration": 4097,
    "start_time": "2023-06-01T11:37:38.403Z"
   },
   {
    "duration": 4105,
    "start_time": "2023-06-01T11:47:30.987Z"
   },
   {
    "duration": 3941,
    "start_time": "2023-06-01T11:47:40.763Z"
   },
   {
    "duration": 3968,
    "start_time": "2023-06-01T11:47:48.904Z"
   },
   {
    "duration": 3856,
    "start_time": "2023-06-01T11:47:54.164Z"
   },
   {
    "duration": 4101,
    "start_time": "2023-06-01T11:48:00.894Z"
   },
   {
    "duration": 11,
    "start_time": "2023-06-01T12:01:18.250Z"
   },
   {
    "duration": 10,
    "start_time": "2023-06-01T12:01:22.168Z"
   },
   {
    "duration": 13,
    "start_time": "2023-06-01T12:01:30.544Z"
   },
   {
    "duration": 11,
    "start_time": "2023-06-01T12:03:07.389Z"
   },
   {
    "duration": 3,
    "start_time": "2023-06-01T12:05:05.160Z"
   },
   {
    "duration": 4045,
    "start_time": "2023-06-01T12:05:09.086Z"
   },
   {
    "duration": 4,
    "start_time": "2023-06-01T12:05:20.068Z"
   },
   {
    "duration": 4186,
    "start_time": "2023-06-01T12:05:21.902Z"
   },
   {
    "duration": 24,
    "start_time": "2023-06-01T12:10:59.713Z"
   },
   {
    "duration": 24,
    "start_time": "2023-06-01T12:11:24.260Z"
   },
   {
    "duration": 24,
    "start_time": "2023-06-01T12:12:19.997Z"
   },
   {
    "duration": 19,
    "start_time": "2023-06-01T12:12:26.674Z"
   },
   {
    "duration": 1246,
    "start_time": "2023-06-01T12:12:32.955Z"
   },
   {
    "duration": 487,
    "start_time": "2023-06-01T12:12:34.203Z"
   },
   {
    "duration": 54,
    "start_time": "2023-06-01T12:12:34.692Z"
   },
   {
    "duration": 25,
    "start_time": "2023-06-01T12:12:34.747Z"
   },
   {
    "duration": 127,
    "start_time": "2023-06-01T12:12:34.774Z"
   },
   {
    "duration": 23,
    "start_time": "2023-06-01T12:12:34.902Z"
   },
   {
    "duration": 20,
    "start_time": "2023-06-01T12:12:34.926Z"
   },
   {
    "duration": 28,
    "start_time": "2023-06-01T12:12:34.947Z"
   },
   {
    "duration": 2,
    "start_time": "2023-06-01T12:12:34.977Z"
   },
   {
    "duration": 43,
    "start_time": "2023-06-01T12:12:34.981Z"
   },
   {
    "duration": 15,
    "start_time": "2023-06-01T12:12:35.026Z"
   },
   {
    "duration": 34,
    "start_time": "2023-06-01T12:12:35.042Z"
   },
   {
    "duration": 46,
    "start_time": "2023-06-01T12:12:35.077Z"
   },
   {
    "duration": 99,
    "start_time": "2023-06-01T12:12:35.128Z"
   },
   {
    "duration": 111,
    "start_time": "2023-06-01T12:12:35.308Z"
   },
   {
    "duration": 6,
    "start_time": "2023-06-01T12:12:35.422Z"
   },
   {
    "duration": 4,
    "start_time": "2023-06-01T12:12:35.431Z"
   },
   {
    "duration": 19,
    "start_time": "2023-06-01T12:12:35.508Z"
   },
   {
    "duration": 6,
    "start_time": "2023-06-01T12:12:35.529Z"
   },
   {
    "duration": 193,
    "start_time": "2023-06-01T12:12:35.536Z"
   },
   {
    "duration": 0,
    "start_time": "2023-06-01T12:12:35.731Z"
   },
   {
    "duration": 0,
    "start_time": "2023-06-01T12:12:35.733Z"
   },
   {
    "duration": 0,
    "start_time": "2023-06-01T12:12:35.734Z"
   },
   {
    "duration": 4164,
    "start_time": "2023-06-01T12:12:37.586Z"
   },
   {
    "duration": 12,
    "start_time": "2023-06-01T12:12:51.892Z"
   },
   {
    "duration": 10,
    "start_time": "2023-06-01T12:13:06.849Z"
   },
   {
    "duration": 10,
    "start_time": "2023-06-01T12:13:38.258Z"
   },
   {
    "duration": 4646,
    "start_time": "2023-06-01T12:16:27.285Z"
   },
   {
    "duration": 4164,
    "start_time": "2023-06-01T12:16:36.115Z"
   },
   {
    "duration": 8,
    "start_time": "2023-06-01T12:16:46.591Z"
   },
   {
    "duration": 5,
    "start_time": "2023-06-01T12:16:56.421Z"
   },
   {
    "duration": 5,
    "start_time": "2023-06-01T12:16:58.818Z"
   },
   {
    "duration": 4,
    "start_time": "2023-06-01T12:17:13.197Z"
   },
   {
    "duration": 16,
    "start_time": "2023-06-01T12:17:52.956Z"
   },
   {
    "duration": 19,
    "start_time": "2023-06-01T12:17:57.190Z"
   },
   {
    "duration": 16,
    "start_time": "2023-06-01T12:18:01.451Z"
   },
   {
    "duration": 10,
    "start_time": "2023-06-01T12:18:10.256Z"
   },
   {
    "duration": 16,
    "start_time": "2023-06-01T12:18:17.690Z"
   },
   {
    "duration": 30,
    "start_time": "2023-06-01T12:18:36.804Z"
   },
   {
    "duration": 16,
    "start_time": "2023-06-01T12:18:40.876Z"
   },
   {
    "duration": 17,
    "start_time": "2023-06-01T12:18:48.477Z"
   },
   {
    "duration": 721,
    "start_time": "2023-06-01T12:18:53.033Z"
   },
   {
    "duration": 71,
    "start_time": "2023-06-01T12:20:09.179Z"
   },
   {
    "duration": 852,
    "start_time": "2023-06-01T12:20:11.884Z"
   },
   {
    "duration": 826,
    "start_time": "2023-06-01T12:20:26.804Z"
   },
   {
    "duration": 740,
    "start_time": "2023-06-01T12:20:30.921Z"
   },
   {
    "duration": 788,
    "start_time": "2023-06-01T12:20:40.760Z"
   },
   {
    "duration": 731,
    "start_time": "2023-06-01T12:20:45.885Z"
   },
   {
    "duration": 3,
    "start_time": "2023-06-01T12:20:52.276Z"
   },
   {
    "duration": 9,
    "start_time": "2023-06-01T12:20:59.194Z"
   },
   {
    "duration": 16,
    "start_time": "2023-06-01T12:21:00.780Z"
   },
   {
    "duration": 787,
    "start_time": "2023-06-01T12:21:04.560Z"
   },
   {
    "duration": 804,
    "start_time": "2023-06-01T12:21:11.337Z"
   },
   {
    "duration": 838,
    "start_time": "2023-06-01T12:21:24.051Z"
   },
   {
    "duration": 792,
    "start_time": "2023-06-01T12:21:33.979Z"
   },
   {
    "duration": 72,
    "start_time": "2023-06-01T12:21:40.102Z"
   },
   {
    "duration": 789,
    "start_time": "2023-06-01T12:21:53.082Z"
   },
   {
    "duration": 20,
    "start_time": "2023-06-01T12:24:47.960Z"
   },
   {
    "duration": 1393,
    "start_time": "2023-06-01T12:25:19.908Z"
   },
   {
    "duration": 16,
    "start_time": "2023-06-01T12:26:10.712Z"
   },
   {
    "duration": 5,
    "start_time": "2023-06-01T12:26:32.596Z"
   },
   {
    "duration": 917,
    "start_time": "2023-06-01T12:26:37.861Z"
   },
   {
    "duration": 9,
    "start_time": "2023-06-01T12:26:42.378Z"
   },
   {
    "duration": 7,
    "start_time": "2023-06-01T12:26:45.678Z"
   },
   {
    "duration": 9,
    "start_time": "2023-06-01T12:26:55.453Z"
   },
   {
    "duration": 502,
    "start_time": "2023-06-01T12:26:58.667Z"
   },
   {
    "duration": 49,
    "start_time": "2023-06-01T12:27:18.853Z"
   },
   {
    "duration": 465,
    "start_time": "2023-06-01T12:27:22.020Z"
   },
   {
    "duration": 428,
    "start_time": "2023-06-01T12:27:27.455Z"
   },
   {
    "duration": 540,
    "start_time": "2023-06-01T12:27:30.139Z"
   },
   {
    "duration": 481,
    "start_time": "2023-06-01T12:27:35.763Z"
   },
   {
    "duration": 494,
    "start_time": "2023-06-01T12:27:38.694Z"
   },
   {
    "duration": 1505,
    "start_time": "2023-06-01T12:28:01.454Z"
   },
   {
    "duration": 1219,
    "start_time": "2023-06-01T12:28:13.154Z"
   },
   {
    "duration": 373,
    "start_time": "2023-06-01T12:28:14.375Z"
   },
   {
    "duration": 38,
    "start_time": "2023-06-01T12:28:14.750Z"
   },
   {
    "duration": 50,
    "start_time": "2023-06-01T12:28:14.790Z"
   },
   {
    "duration": 105,
    "start_time": "2023-06-01T12:28:14.842Z"
   },
   {
    "duration": 14,
    "start_time": "2023-06-01T12:28:14.949Z"
   },
   {
    "duration": 19,
    "start_time": "2023-06-01T12:28:14.965Z"
   },
   {
    "duration": 37,
    "start_time": "2023-06-01T12:28:14.986Z"
   },
   {
    "duration": 16,
    "start_time": "2023-06-01T12:28:15.026Z"
   },
   {
    "duration": 19,
    "start_time": "2023-06-01T12:28:15.046Z"
   },
   {
    "duration": 44,
    "start_time": "2023-06-01T12:28:15.067Z"
   },
   {
    "duration": 20,
    "start_time": "2023-06-01T12:28:15.124Z"
   },
   {
    "duration": 62,
    "start_time": "2023-06-01T12:28:15.146Z"
   },
   {
    "duration": 116,
    "start_time": "2023-06-01T12:28:15.212Z"
   },
   {
    "duration": 179,
    "start_time": "2023-06-01T12:28:15.329Z"
   },
   {
    "duration": 3,
    "start_time": "2023-06-01T12:28:15.510Z"
   },
   {
    "duration": 15,
    "start_time": "2023-06-01T12:28:15.514Z"
   },
   {
    "duration": 83,
    "start_time": "2023-06-01T12:28:15.531Z"
   },
   {
    "duration": 4,
    "start_time": "2023-06-01T12:28:15.619Z"
   },
   {
    "duration": 115,
    "start_time": "2023-06-01T12:28:15.625Z"
   },
   {
    "duration": 0,
    "start_time": "2023-06-01T12:28:15.742Z"
   },
   {
    "duration": 1446,
    "start_time": "2023-06-01T12:28:33.303Z"
   },
   {
    "duration": 3756,
    "start_time": "2023-06-01T12:29:05.756Z"
   },
   {
    "duration": 1451,
    "start_time": "2023-06-01T12:29:33.647Z"
   },
   {
    "duration": 1524,
    "start_time": "2023-06-01T12:30:19.395Z"
   },
   {
    "duration": 1439,
    "start_time": "2023-06-01T12:31:05.080Z"
   },
   {
    "duration": 1422,
    "start_time": "2023-06-01T12:31:18.240Z"
   },
   {
    "duration": 1451,
    "start_time": "2023-06-01T12:31:25.483Z"
   },
   {
    "duration": 1407,
    "start_time": "2023-06-01T12:47:59.533Z"
   },
   {
    "duration": 1477,
    "start_time": "2023-06-01T12:48:17.642Z"
   },
   {
    "duration": 1467,
    "start_time": "2023-06-01T12:48:24.502Z"
   },
   {
    "duration": 1426,
    "start_time": "2023-06-01T12:54:58.734Z"
   },
   {
    "duration": 1503,
    "start_time": "2023-06-01T12:55:06.320Z"
   },
   {
    "duration": 1395,
    "start_time": "2023-06-01T12:55:16.835Z"
   },
   {
    "duration": 5,
    "start_time": "2023-06-01T12:56:36.626Z"
   },
   {
    "duration": 4,
    "start_time": "2023-06-01T12:57:27.554Z"
   },
   {
    "duration": 16,
    "start_time": "2023-06-01T12:57:30.378Z"
   },
   {
    "duration": 8,
    "start_time": "2023-06-01T12:58:22.923Z"
   },
   {
    "duration": 24,
    "start_time": "2023-06-01T12:58:24.809Z"
   },
   {
    "duration": 4,
    "start_time": "2023-06-01T13:01:07.093Z"
   },
   {
    "duration": 9,
    "start_time": "2023-06-01T13:01:13.428Z"
   },
   {
    "duration": 24,
    "start_time": "2023-06-01T13:01:51.213Z"
   },
   {
    "duration": 8,
    "start_time": "2023-06-01T13:02:34.882Z"
   },
   {
    "duration": 5,
    "start_time": "2023-06-01T13:05:13.629Z"
   },
   {
    "duration": 9,
    "start_time": "2023-06-01T13:05:17.180Z"
   },
   {
    "duration": 11,
    "start_time": "2023-06-01T13:06:18.271Z"
   },
   {
    "duration": 12,
    "start_time": "2023-06-01T13:06:25.950Z"
   },
   {
    "duration": 6,
    "start_time": "2023-06-01T13:07:27.575Z"
   },
   {
    "duration": 8,
    "start_time": "2023-06-01T13:07:36.092Z"
   },
   {
    "duration": 9,
    "start_time": "2023-06-01T13:07:45.957Z"
   },
   {
    "duration": 9,
    "start_time": "2023-06-01T13:07:54.058Z"
   },
   {
    "duration": 8,
    "start_time": "2023-06-01T13:07:58.014Z"
   },
   {
    "duration": 7,
    "start_time": "2023-06-01T13:09:01.432Z"
   },
   {
    "duration": 9,
    "start_time": "2023-06-01T13:09:27.176Z"
   },
   {
    "duration": 6,
    "start_time": "2023-06-01T13:09:32.176Z"
   },
   {
    "duration": 54,
    "start_time": "2023-06-01T13:14:12.520Z"
   },
   {
    "duration": 6,
    "start_time": "2023-06-01T13:15:49.278Z"
   },
   {
    "duration": 50,
    "start_time": "2023-06-01T13:17:28.845Z"
   },
   {
    "duration": 1240,
    "start_time": "2023-06-01T13:19:20.393Z"
   },
   {
    "duration": 1159,
    "start_time": "2023-06-01T13:19:38.445Z"
   },
   {
    "duration": 1376,
    "start_time": "2023-06-01T13:20:01.844Z"
   },
   {
    "duration": 1212,
    "start_time": "2023-06-01T13:20:38.516Z"
   },
   {
    "duration": 455,
    "start_time": "2023-06-01T13:20:39.730Z"
   },
   {
    "duration": 45,
    "start_time": "2023-06-01T13:20:40.186Z"
   },
   {
    "duration": 24,
    "start_time": "2023-06-01T13:20:40.232Z"
   },
   {
    "duration": 131,
    "start_time": "2023-06-01T13:20:40.259Z"
   },
   {
    "duration": 20,
    "start_time": "2023-06-01T13:20:40.392Z"
   },
   {
    "duration": 17,
    "start_time": "2023-06-01T13:20:40.413Z"
   },
   {
    "duration": 18,
    "start_time": "2023-06-01T13:20:40.431Z"
   },
   {
    "duration": 2,
    "start_time": "2023-06-01T13:20:40.450Z"
   },
   {
    "duration": 21,
    "start_time": "2023-06-01T13:20:40.454Z"
   },
   {
    "duration": 43,
    "start_time": "2023-06-01T13:20:40.476Z"
   },
   {
    "duration": 16,
    "start_time": "2023-06-01T13:20:40.521Z"
   },
   {
    "duration": 14,
    "start_time": "2023-06-01T13:20:40.538Z"
   },
   {
    "duration": 69,
    "start_time": "2023-06-01T13:20:40.554Z"
   },
   {
    "duration": 100,
    "start_time": "2023-06-01T13:20:40.709Z"
   },
   {
    "duration": 3,
    "start_time": "2023-06-01T13:20:40.811Z"
   },
   {
    "duration": 5,
    "start_time": "2023-06-01T13:20:40.815Z"
   },
   {
    "duration": 8,
    "start_time": "2023-06-01T13:20:40.907Z"
   },
   {
    "duration": 3,
    "start_time": "2023-06-01T13:20:40.917Z"
   },
   {
    "duration": 1441,
    "start_time": "2023-06-01T13:20:41.007Z"
   },
   {
    "duration": 1214,
    "start_time": "2023-06-01T13:20:42.450Z"
   },
   {
    "duration": 1242,
    "start_time": "2023-06-01T13:20:43.666Z"
   },
   {
    "duration": 1155,
    "start_time": "2023-06-01T13:20:44.909Z"
   },
   {
    "duration": 6,
    "start_time": "2023-06-01T13:20:46.065Z"
   },
   {
    "duration": 3,
    "start_time": "2023-06-01T13:21:23.951Z"
   },
   {
    "duration": 1348,
    "start_time": "2023-06-01T13:21:55.545Z"
   },
   {
    "duration": 1404,
    "start_time": "2023-06-01T13:23:15.895Z"
   },
   {
    "duration": 1325,
    "start_time": "2023-06-01T13:24:15.023Z"
   },
   {
    "duration": 1381,
    "start_time": "2023-06-01T13:24:38.789Z"
   },
   {
    "duration": 1352,
    "start_time": "2023-06-01T13:25:15.842Z"
   },
   {
    "duration": 1433,
    "start_time": "2023-06-01T13:25:17.196Z"
   },
   {
    "duration": 1301,
    "start_time": "2023-06-01T13:25:18.631Z"
   },
   {
    "duration": 8,
    "start_time": "2023-06-01T13:25:58.637Z"
   },
   {
    "duration": 1389,
    "start_time": "2023-06-01T13:28:27.924Z"
   },
   {
    "duration": 1350,
    "start_time": "2023-06-01T13:28:29.315Z"
   },
   {
    "duration": 1407,
    "start_time": "2023-06-01T13:28:32.795Z"
   },
   {
    "duration": 8,
    "start_time": "2023-06-01T13:28:34.206Z"
   },
   {
    "duration": 96,
    "start_time": "2023-06-01T13:41:34.355Z"
   },
   {
    "duration": 21,
    "start_time": "2023-06-01T13:41:45.056Z"
   },
   {
    "duration": 41,
    "start_time": "2023-06-01T13:42:32.602Z"
   },
   {
    "duration": 497,
    "start_time": "2023-06-01T13:42:40.419Z"
   },
   {
    "duration": 27,
    "start_time": "2023-06-01T13:44:34.072Z"
   },
   {
    "duration": 401,
    "start_time": "2023-06-01T13:44:45.308Z"
   },
   {
    "duration": 361,
    "start_time": "2023-06-01T13:45:31.946Z"
   },
   {
    "duration": 624,
    "start_time": "2023-06-01T13:46:15.987Z"
   },
   {
    "duration": 8,
    "start_time": "2023-06-01T13:47:42.853Z"
   },
   {
    "duration": 9,
    "start_time": "2023-06-01T13:47:46.117Z"
   },
   {
    "duration": 360,
    "start_time": "2023-06-01T13:47:55.851Z"
   },
   {
    "duration": 451,
    "start_time": "2023-06-01T13:48:13.859Z"
   },
   {
    "duration": 2010,
    "start_time": "2023-06-01T16:09:16.154Z"
   },
   {
    "duration": 326,
    "start_time": "2023-06-01T16:09:18.166Z"
   },
   {
    "duration": 43,
    "start_time": "2023-06-01T16:09:18.493Z"
   },
   {
    "duration": 19,
    "start_time": "2023-06-01T16:09:18.538Z"
   },
   {
    "duration": 110,
    "start_time": "2023-06-01T16:09:18.559Z"
   },
   {
    "duration": 12,
    "start_time": "2023-06-01T16:09:18.670Z"
   },
   {
    "duration": 32,
    "start_time": "2023-06-01T16:09:18.684Z"
   },
   {
    "duration": 16,
    "start_time": "2023-06-01T16:09:18.717Z"
   },
   {
    "duration": 2,
    "start_time": "2023-06-01T16:09:18.734Z"
   },
   {
    "duration": 18,
    "start_time": "2023-06-01T16:09:18.738Z"
   },
   {
    "duration": 14,
    "start_time": "2023-06-01T16:09:18.757Z"
   },
   {
    "duration": 15,
    "start_time": "2023-06-01T16:09:18.772Z"
   },
   {
    "duration": 106,
    "start_time": "2023-06-01T16:09:18.816Z"
   },
   {
    "duration": 95,
    "start_time": "2023-06-01T16:09:18.924Z"
   },
   {
    "duration": 196,
    "start_time": "2023-06-01T16:09:19.020Z"
   },
   {
    "duration": 98,
    "start_time": "2023-06-01T16:09:19.218Z"
   },
   {
    "duration": 8,
    "start_time": "2023-06-01T16:09:19.318Z"
   },
   {
    "duration": 14,
    "start_time": "2023-06-01T16:09:19.327Z"
   },
   {
    "duration": 16,
    "start_time": "2023-06-01T16:09:19.342Z"
   },
   {
    "duration": 1239,
    "start_time": "2023-06-01T16:09:19.359Z"
   },
   {
    "duration": 1221,
    "start_time": "2023-06-01T16:09:20.599Z"
   },
   {
    "duration": 1195,
    "start_time": "2023-06-01T16:09:21.822Z"
   },
   {
    "duration": 6,
    "start_time": "2023-06-01T16:09:23.018Z"
   },
   {
    "duration": 51,
    "start_time": "2023-06-02T10:53:06.282Z"
   },
   {
    "duration": 1567,
    "start_time": "2023-06-02T10:53:10.897Z"
   },
   {
    "duration": 752,
    "start_time": "2023-06-02T10:53:12.465Z"
   },
   {
    "duration": 39,
    "start_time": "2023-06-02T10:53:13.219Z"
   },
   {
    "duration": 21,
    "start_time": "2023-06-02T10:53:13.260Z"
   },
   {
    "duration": 118,
    "start_time": "2023-06-02T10:53:13.283Z"
   },
   {
    "duration": 49,
    "start_time": "2023-06-02T10:53:13.403Z"
   },
   {
    "duration": 66,
    "start_time": "2023-06-02T10:53:26.054Z"
   },
   {
    "duration": 86,
    "start_time": "2023-06-02T10:53:35.892Z"
   },
   {
    "duration": 26,
    "start_time": "2023-06-02T10:54:21.993Z"
   },
   {
    "duration": 23,
    "start_time": "2023-06-02T10:54:22.369Z"
   },
   {
    "duration": 25,
    "start_time": "2023-06-02T10:54:23.761Z"
   },
   {
    "duration": 49,
    "start_time": "2023-06-02T10:55:27.361Z"
   },
   {
    "duration": 53,
    "start_time": "2023-06-02T10:55:31.622Z"
   },
   {
    "duration": 60,
    "start_time": "2023-06-02T10:55:34.404Z"
   },
   {
    "duration": 43,
    "start_time": "2023-06-02T10:55:40.406Z"
   },
   {
    "duration": 53,
    "start_time": "2023-06-02T10:55:44.514Z"
   },
   {
    "duration": 327,
    "start_time": "2023-06-02T10:56:15.822Z"
   },
   {
    "duration": 248,
    "start_time": "2023-06-02T10:56:49.865Z"
   },
   {
    "duration": 758,
    "start_time": "2023-06-02T10:56:53.853Z"
   },
   {
    "duration": 88,
    "start_time": "2023-06-02T10:56:58.670Z"
   },
   {
    "duration": 286,
    "start_time": "2023-06-02T10:57:03.049Z"
   },
   {
    "duration": 345,
    "start_time": "2023-06-02T10:57:23.401Z"
   },
   {
    "duration": 412,
    "start_time": "2023-06-02T10:57:34.571Z"
   },
   {
    "duration": 439,
    "start_time": "2023-06-02T10:57:34.995Z"
   },
   {
    "duration": 397,
    "start_time": "2023-06-02T10:58:25.785Z"
   },
   {
    "duration": 434,
    "start_time": "2023-06-02T10:58:30.984Z"
   },
   {
    "duration": 406,
    "start_time": "2023-06-02T10:58:34.155Z"
   },
   {
    "duration": 372,
    "start_time": "2023-06-02T10:58:38.066Z"
   },
   {
    "duration": 470,
    "start_time": "2023-06-02T10:58:43.349Z"
   },
   {
    "duration": 331,
    "start_time": "2023-06-02T10:58:44.998Z"
   },
   {
    "duration": 394,
    "start_time": "2023-06-02T10:58:47.193Z"
   },
   {
    "duration": 385,
    "start_time": "2023-06-02T10:58:51.665Z"
   },
   {
    "duration": 424,
    "start_time": "2023-06-02T10:58:54.790Z"
   },
   {
    "duration": 396,
    "start_time": "2023-06-02T10:59:01.338Z"
   },
   {
    "duration": 549,
    "start_time": "2023-06-02T10:59:03.753Z"
   },
   {
    "duration": 64,
    "start_time": "2023-06-02T11:00:20.782Z"
   },
   {
    "duration": 309,
    "start_time": "2023-06-02T11:00:37.526Z"
   },
   {
    "duration": 309,
    "start_time": "2023-06-02T11:00:56.593Z"
   },
   {
    "duration": 286,
    "start_time": "2023-06-02T11:01:06.366Z"
   },
   {
    "duration": 293,
    "start_time": "2023-06-02T11:01:06.654Z"
   },
   {
    "duration": 456,
    "start_time": "2023-06-02T11:02:28.078Z"
   },
   {
    "duration": 195,
    "start_time": "2023-06-02T11:02:31.388Z"
   },
   {
    "duration": 300,
    "start_time": "2023-06-02T11:02:36.300Z"
   },
   {
    "duration": 198,
    "start_time": "2023-06-02T11:02:48.694Z"
   },
   {
    "duration": 191,
    "start_time": "2023-06-02T11:02:54.102Z"
   },
   {
    "duration": 194,
    "start_time": "2023-06-02T11:02:57.906Z"
   },
   {
    "duration": 211,
    "start_time": "2023-06-02T11:03:01.565Z"
   },
   {
    "duration": 249,
    "start_time": "2023-06-02T11:03:04.424Z"
   },
   {
    "duration": 191,
    "start_time": "2023-06-02T11:03:08.288Z"
   },
   {
    "duration": 186,
    "start_time": "2023-06-02T11:03:15.126Z"
   },
   {
    "duration": 191,
    "start_time": "2023-06-02T11:03:18.386Z"
   },
   {
    "duration": 458,
    "start_time": "2023-06-02T11:03:31.354Z"
   },
   {
    "duration": 191,
    "start_time": "2023-06-02T11:03:38.396Z"
   },
   {
    "duration": 332,
    "start_time": "2023-06-02T11:03:43.790Z"
   },
   {
    "duration": 192,
    "start_time": "2023-06-02T11:03:48.700Z"
   },
   {
    "duration": 200,
    "start_time": "2023-06-02T11:03:57.092Z"
   },
   {
    "duration": 293,
    "start_time": "2023-06-02T11:04:12.970Z"
   },
   {
    "duration": 265,
    "start_time": "2023-06-02T11:04:26.363Z"
   },
   {
    "duration": 267,
    "start_time": "2023-06-02T11:04:26.659Z"
   },
   {
    "duration": 290,
    "start_time": "2023-06-02T11:05:00.838Z"
   },
   {
    "duration": 3,
    "start_time": "2023-06-02T11:18:32.762Z"
   },
   {
    "duration": 3,
    "start_time": "2023-06-02T11:18:35.480Z"
   },
   {
    "duration": 3,
    "start_time": "2023-06-02T11:18:37.506Z"
   },
   {
    "duration": 3,
    "start_time": "2023-06-02T11:18:46.682Z"
   },
   {
    "duration": 90,
    "start_time": "2023-06-02T11:18:49.791Z"
   },
   {
    "duration": 2,
    "start_time": "2023-06-02T11:19:10.679Z"
   },
   {
    "duration": 358,
    "start_time": "2023-06-02T11:19:13.332Z"
   },
   {
    "duration": 3,
    "start_time": "2023-06-02T11:19:13.691Z"
   },
   {
    "duration": 12,
    "start_time": "2023-06-02T11:19:18.323Z"
   },
   {
    "duration": 17,
    "start_time": "2023-06-02T11:19:18.572Z"
   },
   {
    "duration": 17,
    "start_time": "2023-06-02T11:19:18.785Z"
   },
   {
    "duration": 3,
    "start_time": "2023-06-02T11:19:21.091Z"
   },
   {
    "duration": 25,
    "start_time": "2023-06-02T11:19:21.466Z"
   },
   {
    "duration": 19,
    "start_time": "2023-06-02T11:19:21.613Z"
   },
   {
    "duration": 17,
    "start_time": "2023-06-02T11:19:21.764Z"
   },
   {
    "duration": 166,
    "start_time": "2023-06-02T11:19:23.457Z"
   },
   {
    "duration": 189,
    "start_time": "2023-06-02T11:19:23.629Z"
   },
   {
    "duration": 100,
    "start_time": "2023-06-02T11:19:23.820Z"
   },
   {
    "duration": 4,
    "start_time": "2023-06-02T11:19:26.476Z"
   },
   {
    "duration": 6,
    "start_time": "2023-06-02T11:19:26.793Z"
   },
   {
    "duration": 3,
    "start_time": "2023-06-02T11:19:29.051Z"
   },
   {
    "duration": 1387,
    "start_time": "2023-06-02T11:19:29.712Z"
   },
   {
    "duration": 2249,
    "start_time": "2023-06-02T12:06:38.387Z"
   },
   {
    "duration": 1517,
    "start_time": "2023-06-02T12:06:40.638Z"
   },
   {
    "duration": 3,
    "start_time": "2023-06-02T12:06:42.156Z"
   },
   {
    "duration": 59,
    "start_time": "2023-06-02T12:06:42.161Z"
   },
   {
    "duration": 20,
    "start_time": "2023-06-02T12:06:42.221Z"
   },
   {
    "duration": 102,
    "start_time": "2023-06-02T12:06:42.242Z"
   },
   {
    "duration": 41,
    "start_time": "2023-06-02T12:06:42.346Z"
   },
   {
    "duration": 64,
    "start_time": "2023-06-02T12:06:42.389Z"
   },
   {
    "duration": 59,
    "start_time": "2023-06-02T12:06:42.455Z"
   },
   {
    "duration": 406,
    "start_time": "2023-06-02T12:06:42.517Z"
   },
   {
    "duration": 394,
    "start_time": "2023-06-02T12:06:42.924Z"
   },
   {
    "duration": 445,
    "start_time": "2023-06-02T12:06:43.319Z"
   },
   {
    "duration": 314,
    "start_time": "2023-06-02T12:06:43.766Z"
   },
   {
    "duration": 303,
    "start_time": "2023-06-02T12:06:44.082Z"
   },
   {
    "duration": 305,
    "start_time": "2023-06-02T12:06:44.386Z"
   },
   {
    "duration": 24,
    "start_time": "2023-06-02T12:06:44.692Z"
   },
   {
    "duration": 16,
    "start_time": "2023-06-02T12:06:44.718Z"
   },
   {
    "duration": 21,
    "start_time": "2023-06-02T12:06:44.736Z"
   },
   {
    "duration": 27,
    "start_time": "2023-06-02T12:06:44.759Z"
   },
   {
    "duration": 38,
    "start_time": "2023-06-02T12:06:44.787Z"
   },
   {
    "duration": 21,
    "start_time": "2023-06-02T12:06:44.826Z"
   },
   {
    "duration": 14,
    "start_time": "2023-06-02T12:06:44.848Z"
   },
   {
    "duration": 47,
    "start_time": "2023-06-02T12:06:44.864Z"
   },
   {
    "duration": 99,
    "start_time": "2023-06-02T12:06:44.915Z"
   },
   {
    "duration": 200,
    "start_time": "2023-06-02T12:06:45.016Z"
   },
   {
    "duration": 89,
    "start_time": "2023-06-02T12:06:45.218Z"
   },
   {
    "duration": 8,
    "start_time": "2023-06-02T12:06:45.309Z"
   },
   {
    "duration": 95,
    "start_time": "2023-06-02T12:06:45.320Z"
   },
   {
    "duration": 1353,
    "start_time": "2023-06-02T12:06:45.417Z"
   },
   {
    "duration": 1317,
    "start_time": "2023-06-02T12:06:46.772Z"
   },
   {
    "duration": 1309,
    "start_time": "2023-06-02T12:06:48.091Z"
   },
   {
    "duration": 9,
    "start_time": "2023-06-02T12:06:49.402Z"
   }
  ],
  "kernelspec": {
   "display_name": "Python 3 (ipykernel)",
   "language": "python",
   "name": "python3"
  },
  "language_info": {
   "codemirror_mode": {
    "name": "ipython",
    "version": 3
   },
   "file_extension": ".py",
   "mimetype": "text/x-python",
   "name": "python",
   "nbconvert_exporter": "python",
   "pygments_lexer": "ipython3",
   "version": "3.11.4"
  },
  "toc": {
   "base_numbering": 1,
   "nav_menu": {},
   "number_sections": true,
   "sideBar": true,
   "skip_h1_title": true,
   "title_cell": "Table of Contents",
   "title_sidebar": "Contents",
   "toc_cell": false,
   "toc_position": {},
   "toc_section_display": true,
   "toc_window_display": true
  }
 },
 "nbformat": 4,
 "nbformat_minor": 2
}
