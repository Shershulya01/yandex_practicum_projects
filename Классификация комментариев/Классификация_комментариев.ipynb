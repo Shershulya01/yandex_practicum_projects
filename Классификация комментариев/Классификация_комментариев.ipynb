{
 "cells": [
  {
   "cell_type": "markdown",
   "metadata": {
    "toc": true
   },
   "source": [
    "<h1>Содержание<span class=\"tocSkip\"></span></h1>\n",
    "<div class=\"toc\"><ul class=\"toc-item\"><li><span><a href=\"#Подготовка\" data-toc-modified-id=\"Подготовка-1\"><span class=\"toc-item-num\">1&nbsp;&nbsp;</span>Подготовка</a></span></li><li><span><a href=\"#Обучение\" data-toc-modified-id=\"Обучение-2\"><span class=\"toc-item-num\">2&nbsp;&nbsp;</span>Обучение</a></span></li><li><span><a href=\"#Выводы\" data-toc-modified-id=\"Выводы-3\"><span class=\"toc-item-num\">3&nbsp;&nbsp;</span>Выводы"
   ]
  },
  {
   "cell_type": "markdown",
   "metadata": {},
   "source": [
    "# Проект для «Викишоп»"
   ]
  },
  {
   "cell_type": "markdown",
   "metadata": {},
   "source": [
    "Интернет-магазин «Викишоп» запускает новый сервис. Теперь пользователи могут редактировать и дополнять описания товаров, как в вики-сообществах. То есть клиенты предлагают свои правки и комментируют изменения других. Магазину нужен инструмент, который будет искать токсичные комментарии и отправлять их на модерацию. \n",
    "\n",
    "Обучите модель классифицировать комментарии на позитивные и негативные. В вашем распоряжении набор данных с разметкой о токсичности правок.\n",
    "\n",
    "Постройте модель со значением метрики качества *F1* не меньше 0.75. \n",
    "\n",
    "**Инструкция по выполнению проекта**\n",
    "\n",
    "1. Загрузите и подготовьте данные.\n",
    "2. Обучите разные модели. \n",
    "3. Сделайте выводы.\n",
    "\n",
    "Для выполнения проекта применять *BERT* необязательно, но вы можете попробовать.\n",
    "\n",
    "**Описание данных**\n",
    "\n",
    "Данные находятся в файле `toxic_comments.csv`. Столбец *text* в нём содержит текст комментария, а *toxic* — целевой признак."
   ]
  },
  {
   "cell_type": "markdown",
   "metadata": {},
   "source": [
    "## Подготовка"
   ]
  },
  {
   "cell_type": "code",
   "execution_count": 1,
   "metadata": {},
   "outputs": [],
   "source": [
    "import pandas as pd\n",
    "import re\n",
    "import nltk\n",
    "import matplotlib.pyplot as plt\n",
    "from catboost import CatBoostClassifier\n",
    "from sklearn.tree import DecisionTreeClassifier\n",
    "from sklearn.linear_model import LogisticRegression\n",
    "from nltk.tokenize import word_tokenize \n",
    "from nltk.stem import WordNetLemmatizer \n",
    "from nltk.corpus import stopwords, wordnet\n",
    "from sklearn.pipeline import Pipeline\n",
    "from sklearn.feature_extraction.text import TfidfVectorizer\n",
    "from sklearn.metrics import f1_score\n",
    "from sklearn.model_selection import train_test_split, GridSearchCV\n",
    "\n",
    "import warnings\n",
    "warnings.filterwarnings(\"ignore\")"
   ]
  },
  {
   "cell_type": "code",
   "execution_count": 2,
   "metadata": {},
   "outputs": [],
   "source": [
    "data = pd.read_csv('/datasets/toxic_comments.csv', index_col = 0)"
   ]
  },
  {
   "cell_type": "code",
   "execution_count": 3,
   "metadata": {},
   "outputs": [
    {
     "name": "stdout",
     "output_type": "stream",
     "text": [
      "<class 'pandas.core.frame.DataFrame'>\n",
      "Int64Index: 159292 entries, 0 to 159450\n",
      "Data columns (total 2 columns):\n",
      " #   Column  Non-Null Count   Dtype \n",
      "---  ------  --------------   ----- \n",
      " 0   text    159292 non-null  object\n",
      " 1   toxic   159292 non-null  int64 \n",
      "dtypes: int64(1), object(1)\n",
      "memory usage: 3.6+ MB\n"
     ]
    }
   ],
   "source": [
    "data.info()"
   ]
  },
  {
   "cell_type": "code",
   "execution_count": 4,
   "metadata": {},
   "outputs": [
    {
     "data": {
      "text/html": [
       "<div>\n",
       "<style scoped>\n",
       "    .dataframe tbody tr th:only-of-type {\n",
       "        vertical-align: middle;\n",
       "    }\n",
       "\n",
       "    .dataframe tbody tr th {\n",
       "        vertical-align: top;\n",
       "    }\n",
       "\n",
       "    .dataframe thead th {\n",
       "        text-align: right;\n",
       "    }\n",
       "</style>\n",
       "<table border=\"1\" class=\"dataframe\">\n",
       "  <thead>\n",
       "    <tr style=\"text-align: right;\">\n",
       "      <th></th>\n",
       "      <th>text</th>\n",
       "      <th>toxic</th>\n",
       "    </tr>\n",
       "  </thead>\n",
       "  <tbody>\n",
       "    <tr>\n",
       "      <th>0</th>\n",
       "      <td>Explanation\\nWhy the edits made under my usern...</td>\n",
       "      <td>0</td>\n",
       "    </tr>\n",
       "    <tr>\n",
       "      <th>1</th>\n",
       "      <td>D'aww! He matches this background colour I'm s...</td>\n",
       "      <td>0</td>\n",
       "    </tr>\n",
       "    <tr>\n",
       "      <th>2</th>\n",
       "      <td>Hey man, I'm really not trying to edit war. It...</td>\n",
       "      <td>0</td>\n",
       "    </tr>\n",
       "    <tr>\n",
       "      <th>3</th>\n",
       "      <td>\"\\nMore\\nI can't make any real suggestions on ...</td>\n",
       "      <td>0</td>\n",
       "    </tr>\n",
       "    <tr>\n",
       "      <th>4</th>\n",
       "      <td>You, sir, are my hero. Any chance you remember...</td>\n",
       "      <td>0</td>\n",
       "    </tr>\n",
       "    <tr>\n",
       "      <th>5</th>\n",
       "      <td>\"\\n\\nCongratulations from me as well, use the ...</td>\n",
       "      <td>0</td>\n",
       "    </tr>\n",
       "    <tr>\n",
       "      <th>6</th>\n",
       "      <td>COCKSUCKER BEFORE YOU PISS AROUND ON MY WORK</td>\n",
       "      <td>1</td>\n",
       "    </tr>\n",
       "    <tr>\n",
       "      <th>7</th>\n",
       "      <td>Your vandalism to the Matt Shirvington article...</td>\n",
       "      <td>0</td>\n",
       "    </tr>\n",
       "    <tr>\n",
       "      <th>8</th>\n",
       "      <td>Sorry if the word 'nonsense' was offensive to ...</td>\n",
       "      <td>0</td>\n",
       "    </tr>\n",
       "    <tr>\n",
       "      <th>9</th>\n",
       "      <td>alignment on this subject and which are contra...</td>\n",
       "      <td>0</td>\n",
       "    </tr>\n",
       "  </tbody>\n",
       "</table>\n",
       "</div>"
      ],
      "text/plain": [
       "                                                text  toxic\n",
       "0  Explanation\\nWhy the edits made under my usern...      0\n",
       "1  D'aww! He matches this background colour I'm s...      0\n",
       "2  Hey man, I'm really not trying to edit war. It...      0\n",
       "3  \"\\nMore\\nI can't make any real suggestions on ...      0\n",
       "4  You, sir, are my hero. Any chance you remember...      0\n",
       "5  \"\\n\\nCongratulations from me as well, use the ...      0\n",
       "6       COCKSUCKER BEFORE YOU PISS AROUND ON MY WORK      1\n",
       "7  Your vandalism to the Matt Shirvington article...      0\n",
       "8  Sorry if the word 'nonsense' was offensive to ...      0\n",
       "9  alignment on this subject and which are contra...      0"
      ]
     },
     "execution_count": 4,
     "metadata": {},
     "output_type": "execute_result"
    }
   ],
   "source": [
    "data.head(10)"
   ]
  },
  {
   "cell_type": "code",
   "execution_count": 5,
   "metadata": {},
   "outputs": [
    {
     "data": {
      "text/plain": [
       "text     0\n",
       "toxic    0\n",
       "dtype: int64"
      ]
     },
     "execution_count": 5,
     "metadata": {},
     "output_type": "execute_result"
    }
   ],
   "source": [
    "#проверим пропуски\n",
    "data.isna().sum()"
   ]
  },
  {
   "cell_type": "code",
   "execution_count": 6,
   "metadata": {},
   "outputs": [
    {
     "data": {
      "text/plain": [
       "0"
      ]
     },
     "execution_count": 6,
     "metadata": {},
     "output_type": "execute_result"
    }
   ],
   "source": [
    "#проверим дубликаты\n",
    "data.duplicated().sum()"
   ]
  },
  {
   "cell_type": "code",
   "execution_count": 7,
   "metadata": {},
   "outputs": [
    {
     "data": {
      "image/png": "[encoded data removed]",
      "text/plain": [
       "<Figure size 640x480 with 1 Axes>"
      ]
     },
     "metadata": {},
     "output_type": "display_data"
    }
   ],
   "source": [
    "#посмотрим диаграмму\n",
    "data['toxic'].value_counts().plot(kind='barh')\n",
    "plt.title('Токсичные сообщения')\n",
    "plt.xlabel('Количество сообщений')\n",
    "plt.ylabel('Категории')\n",
    "plt.show()"
   ]
  },
  {
   "cell_type": "code",
   "execution_count": 8,
   "metadata": {},
   "outputs": [
    {
     "name": "stderr",
     "output_type": "stream",
     "text": [
      "[nltk_data] Downloading package punkt to\n",
      "[nltk_data]     C:\\Users\\karma\\AppData\\Roaming\\nltk_data...\n",
      "[nltk_data]   Package punkt is already up-to-date!\n",
      "[nltk_data] Downloading package stopwords to\n",
      "[nltk_data]     C:\\Users\\karma\\AppData\\Roaming\\nltk_data...\n",
      "[nltk_data]   Package stopwords is already up-to-date!\n",
      "[nltk_data] Downloading package averaged_perceptron_tagger to\n",
      "[nltk_data]     C:\\Users\\karma\\AppData\\Roaming\\nltk_data...\n",
      "[nltk_data]   Package averaged_perceptron_tagger is already up-to-\n",
      "[nltk_data]       date!\n",
      "[nltk_data] Downloading package wordnet to\n",
      "[nltk_data]     C:\\Users\\karma\\AppData\\Roaming\\nltk_data...\n",
      "[nltk_data]   Package wordnet is already up-to-date!\n"
     ]
    }
   ],
   "source": [
    "#загрузим пакет со списком стоп-слов\n",
    "nltk.download('punkt')\n",
    "nltk.download('stopwords')\n",
    "nltk.download('averaged_perceptron_tagger')\n",
    "nltk.download('wordnet')\n",
    "stop_words = set(stopwords.words('english'))"
   ]
  },
  {
   "cell_type": "code",
   "execution_count": 9,
   "metadata": {},
   "outputs": [],
   "source": [
    "lemmatizer = WordNetLemmatizer()"
   ]
  },
  {
   "cell_type": "code",
   "execution_count": 10,
   "metadata": {},
   "outputs": [],
   "source": [
    "#напишем функцию для очистки текста\n",
    "def get_wordnet_pos(tag):\n",
    "    tag = tag[0].upper()\n",
    "    tag_dict = {\"J\": wordnet.ADJ,\n",
    "                \"N\": wordnet.NOUN, \n",
    "                \"V\": wordnet.VERB,\n",
    "                \"R\": wordnet.ADV}\n",
    "    return tag_dict.get(tag, wordnet.NOUN)\n",
    "\n",
    "def clear_text_with_pos(text):\n",
    "    text = re.sub(r'[^a-zA-z\\' ]', ' ', text)\n",
    "    text = text.lower()\n",
    "    tokens = nltk.word_tokenize(text)\n",
    "    pos_tags = nltk.pos_tag(tokens)\n",
    "    lemmatized_words = [lemmatizer.lemmatize(word, pos=get_wordnet_pos(tag)) for word, tag in pos_tags if word not in stop_words]\n",
    "    cleaned_text = ' '.join(lemmatized_words)\n",
    "    return cleaned_text\n",
    "\n",
    "data['text'] = data['text'].apply(clear_text_with_pos)"
   ]
  },
  {
   "cell_type": "code",
   "execution_count": 11,
   "metadata": {},
   "outputs": [
    {
     "data": {
      "text/html": [
       "<div>\n",
       "<style scoped>\n",
       "    .dataframe tbody tr th:only-of-type {\n",
       "        vertical-align: middle;\n",
       "    }\n",
       "\n",
       "    .dataframe tbody tr th {\n",
       "        vertical-align: top;\n",
       "    }\n",
       "\n",
       "    .dataframe thead th {\n",
       "        text-align: right;\n",
       "    }\n",
       "</style>\n",
       "<table border=\"1\" class=\"dataframe\">\n",
       "  <thead>\n",
       "    <tr style=\"text-align: right;\">\n",
       "      <th></th>\n",
       "      <th>text</th>\n",
       "      <th>toxic</th>\n",
       "    </tr>\n",
       "  </thead>\n",
       "  <tbody>\n",
       "    <tr>\n",
       "      <th>0</th>\n",
       "      <td>explanation edits make username hardcore metal...</td>\n",
       "      <td>0</td>\n",
       "    </tr>\n",
       "    <tr>\n",
       "      <th>1</th>\n",
       "      <td>d'aww match background colour 'm seemingly sti...</td>\n",
       "      <td>0</td>\n",
       "    </tr>\n",
       "    <tr>\n",
       "      <th>2</th>\n",
       "      <td>hey man 'm really try edit war 's guy constant...</td>\n",
       "      <td>0</td>\n",
       "    </tr>\n",
       "    <tr>\n",
       "      <th>3</th>\n",
       "      <td>ca n't make real suggestion improvement wonder...</td>\n",
       "      <td>0</td>\n",
       "    </tr>\n",
       "    <tr>\n",
       "      <th>4</th>\n",
       "      <td>sir hero chance remember page 's</td>\n",
       "      <td>0</td>\n",
       "    </tr>\n",
       "  </tbody>\n",
       "</table>\n",
       "</div>"
      ],
      "text/plain": [
       "                                                text  toxic\n",
       "0  explanation edits make username hardcore metal...      0\n",
       "1  d'aww match background colour 'm seemingly sti...      0\n",
       "2  hey man 'm really try edit war 's guy constant...      0\n",
       "3  ca n't make real suggestion improvement wonder...      0\n",
       "4                   sir hero chance remember page 's      0"
      ]
     },
     "execution_count": 11,
     "metadata": {},
     "output_type": "execute_result"
    }
   ],
   "source": [
    "data.head()"
   ]
  },
  {
   "cell_type": "code",
   "execution_count": 12,
   "metadata": {},
   "outputs": [],
   "source": [
    "#разделим выборки\n",
    "target = data['toxic']\n",
    "features = data['text']\n",
    "\n",
    "features_train, features_test, target_train, target_test = train_test_split(features, target, test_size = 0.1, stratify = target, random_state=12345)"
   ]
  },
  {
   "cell_type": "code",
   "execution_count": 13,
   "metadata": {
    "scrolled": true
   },
   "outputs": [
    {
     "name": "stdout",
     "output_type": "stream",
     "text": [
      "(143362,)\n",
      "(15930,)\n",
      "(143362,)\n",
      "(15930,)\n"
     ]
    }
   ],
   "source": [
    "print(features_train.shape)\n",
    "print(features_test.shape)\n",
    "print(target_train.shape)\n",
    "print(target_test.shape)"
   ]
  },
  {
   "cell_type": "markdown",
   "metadata": {},
   "source": [
    "**Вывод:**\n",
    "- данные обработаны, очищены от лишних символов, лемматизированы, токенизированы, разбиты на выборки"
   ]
  },
  {
   "cell_type": "markdown",
   "metadata": {},
   "source": [
    "## Обучение"
   ]
  },
  {
   "cell_type": "code",
   "execution_count": 14,
   "metadata": {},
   "outputs": [],
   "source": [
    "def training(model, params):\n",
    "    pipeline = Pipeline([\n",
    "        ('tfidf', TfidfVectorizer(min_df = 1)),\n",
    "        ('model', model)])\n",
    "    grid = GridSearchCV(pipeline, cv = 5, n_jobs = -1, param_grid = params ,scoring = 'f1', verbose = False)\n",
    "    grid.fit(features_train, target_train)\n",
    "    print('Лучший результат:', grid.best_score_)\n",
    "    print('Лучшие параметры:', grid.best_params_)\n",
    "    return grid"
   ]
  },
  {
   "cell_type": "code",
   "execution_count": 15,
   "metadata": {},
   "outputs": [
    {
     "name": "stdout",
     "output_type": "stream",
     "text": [
      "Лучший результат: 0.7774529438039229\n",
      "Лучшие параметры: {'model__C': 10.0, 'model__penalty': 'l2'}\n",
      "CPU times: total: 30.6 s\n",
      "Wall time: 42.2 s\n"
     ]
    }
   ],
   "source": [
    "%%time\n",
    "\n",
    "lr_model = training(LogisticRegression(), {\n",
    "    'model__C':[0.1, 1.0, 10.0],\n",
    "    'model__penalty':[\"l2\"]\n",
    "})"
   ]
  },
  {
   "cell_type": "code",
   "execution_count": 16,
   "metadata": {},
   "outputs": [
    {
     "name": "stdout",
     "output_type": "stream",
     "text": [
      "Лучший результат: 0.5474319090709714\n",
      "Лучшие параметры: {'model__criterion': 'gini', 'model__max_depth': 6}\n",
      "CPU times: total: 17.4 s\n",
      "Wall time: 59.2 s\n"
     ]
    }
   ],
   "source": [
    "%%time\n",
    "\n",
    "dtc_model = training(DecisionTreeClassifier(), {\n",
    "    'model__criterion':['gini','entropy'],\n",
    "    'model__max_depth':[2,4,6]\n",
    "})"
   ]
  },
  {
   "cell_type": "code",
   "execution_count": 17,
   "metadata": {},
   "outputs": [
    {
     "name": "stdout",
     "output_type": "stream",
     "text": [
      "Лучший результат: 0.39093708538051214\n",
      "Лучшие параметры: {'model__depth': 4, 'model__iterations': 10, 'model__learning_rate': 0.01}\n",
      "CPU times: total: 1min 31s\n",
      "Wall time: 3min 57s\n"
     ]
    }
   ],
   "source": [
    "%%time\n",
    "\n",
    "cat_model = training(CatBoostClassifier(logging_level='Silent'), {\n",
    "    'model__depth': [4,6],\n",
    "    'model__learning_rate' : [0.01,0.03],\n",
    "    'model__iterations' : [1, 10]\n",
    "})"
   ]
  },
  {
   "cell_type": "markdown",
   "metadata": {},
   "source": [
    "лучший результат на тренировочной выборке у LogisticRegression, поэтому протестируем её на тестовой выборке"
   ]
  },
  {
   "cell_type": "code",
   "execution_count": 18,
   "metadata": {},
   "outputs": [
    {
     "name": "stdout",
     "output_type": "stream",
     "text": [
      "Результат LogisticRegression 0.7938356164383561\n"
     ]
    }
   ],
   "source": [
    "lr_test = f1_score(target_test, lr_model.predict(features_test))\n",
    "print(\"Результат LogisticRegression\", lr_test)"
   ]
  },
  {
   "cell_type": "markdown",
   "metadata": {},
   "source": [
    "## Общий вывод"
   ]
  },
  {
   "cell_type": "markdown",
   "metadata": {},
   "source": [
    "- загрузили и изучили данные\n",
    "- обработали данные\n",
    "- очистили от лишних символов\n",
    "- лемматизировали, токенизировали\n",
    "- обучили три модели: LogisticRegression, DecisionTreeClassifier, CatBoostClassifier\n",
    "- выбрали лучшую модель на тренировочной выборке, ей оказалась LogisticRegression\n",
    "- протестировали LogisticRegression на тестовой выборке\n",
    "- получили f1_score модели LogisticRegression на тестовой выборке равной 0.78"
   ]
  }
 ],
 "metadata": {
  "ExecuteTimeLog": [
   {
    "duration": 422,
    "start_time": "2023-08-21T06:53:36.230Z"
   },
   {
    "duration": 2375,
    "start_time": "2023-08-21T06:54:35.279Z"
   },
   {
    "duration": 30,
    "start_time": "2023-08-21T06:54:48.169Z"
   },
   {
    "duration": 19,
    "start_time": "2023-08-21T06:55:04.484Z"
   },
   {
    "duration": 20,
    "start_time": "2023-08-21T06:55:20.059Z"
   },
   {
    "duration": 1278,
    "start_time": "2023-08-21T06:57:35.035Z"
   },
   {
    "duration": 23,
    "start_time": "2023-08-21T06:58:25.677Z"
   },
   {
    "duration": 43,
    "start_time": "2023-08-21T06:59:04.706Z"
   },
   {
    "duration": 206,
    "start_time": "2023-08-21T06:59:23.721Z"
   },
   {
    "duration": 466,
    "start_time": "2023-08-21T06:59:54.735Z"
   },
   {
    "duration": 15,
    "start_time": "2023-08-21T07:00:02.950Z"
   },
   {
    "duration": 9,
    "start_time": "2023-08-21T07:00:08.601Z"
   },
   {
    "duration": 483,
    "start_time": "2023-08-21T07:00:11.837Z"
   },
   {
    "duration": 188,
    "start_time": "2023-08-21T07:02:41.226Z"
   },
   {
    "duration": 199,
    "start_time": "2023-08-21T07:02:44.581Z"
   },
   {
    "duration": 187,
    "start_time": "2023-08-21T07:02:49.651Z"
   },
   {
    "duration": 1823,
    "start_time": "2023-08-25T07:52:04.552Z"
   },
   {
    "duration": 2252,
    "start_time": "2023-08-25T07:52:06.377Z"
   },
   {
    "duration": 24,
    "start_time": "2023-08-25T07:52:08.631Z"
   },
   {
    "duration": 15,
    "start_time": "2023-08-25T07:52:08.657Z"
   },
   {
    "duration": 25,
    "start_time": "2023-08-25T07:52:10.708Z"
   },
   {
    "duration": 213,
    "start_time": "2023-08-25T07:52:11.022Z"
   },
   {
    "duration": 754,
    "start_time": "2023-08-25T07:52:53.981Z"
   },
   {
    "duration": 29,
    "start_time": "2023-08-25T07:52:54.737Z"
   },
   {
    "duration": 13,
    "start_time": "2023-08-25T07:52:54.768Z"
   },
   {
    "duration": 727,
    "start_time": "2023-08-25T07:53:03.518Z"
   },
   {
    "duration": 28,
    "start_time": "2023-08-25T07:53:04.247Z"
   },
   {
    "duration": 7,
    "start_time": "2023-08-25T07:53:05.238Z"
   },
   {
    "duration": 31,
    "start_time": "2023-08-25T07:53:15.912Z"
   },
   {
    "duration": 840,
    "start_time": "2023-08-25T07:53:20.545Z"
   },
   {
    "duration": 34,
    "start_time": "2023-08-25T07:53:21.386Z"
   },
   {
    "duration": 19,
    "start_time": "2023-08-25T07:53:21.422Z"
   },
   {
    "duration": 780,
    "start_time": "2023-08-25T07:53:40.749Z"
   },
   {
    "duration": 32,
    "start_time": "2023-08-25T07:53:41.530Z"
   },
   {
    "duration": 828,
    "start_time": "2023-08-25T07:53:46.789Z"
   },
   {
    "duration": 33,
    "start_time": "2023-08-25T07:53:47.619Z"
   },
   {
    "duration": 768,
    "start_time": "2023-08-25T07:54:21.636Z"
   },
   {
    "duration": 36,
    "start_time": "2023-08-25T07:54:22.406Z"
   },
   {
    "duration": 16,
    "start_time": "2023-08-25T07:54:22.444Z"
   },
   {
    "duration": 57,
    "start_time": "2023-08-25T07:54:22.462Z"
   },
   {
    "duration": 218,
    "start_time": "2023-08-25T07:54:22.520Z"
   },
   {
    "duration": 136,
    "start_time": "2023-08-25T07:55:29.898Z"
   },
   {
    "duration": 128,
    "start_time": "2023-08-25T07:55:39.906Z"
   },
   {
    "duration": 211,
    "start_time": "2023-08-25T07:55:48.013Z"
   },
   {
    "duration": 4,
    "start_time": "2023-08-25T07:55:57.369Z"
   },
   {
    "duration": 2,
    "start_time": "2023-08-25T07:56:05.485Z"
   },
   {
    "duration": 5,
    "start_time": "2023-08-25T07:57:29.997Z"
   },
   {
    "duration": 1688,
    "start_time": "2023-08-25T08:09:05.436Z"
   },
   {
    "duration": 749,
    "start_time": "2023-08-25T08:09:07.126Z"
   },
   {
    "duration": 30,
    "start_time": "2023-08-25T08:09:07.876Z"
   },
   {
    "duration": 13,
    "start_time": "2023-08-25T08:09:07.908Z"
   },
   {
    "duration": 50,
    "start_time": "2023-08-25T08:09:07.923Z"
   },
   {
    "duration": 227,
    "start_time": "2023-08-25T08:09:07.974Z"
   },
   {
    "duration": 214,
    "start_time": "2023-08-25T08:09:08.202Z"
   },
   {
    "duration": 194,
    "start_time": "2023-08-25T08:09:08.418Z"
   },
   {
    "duration": 2,
    "start_time": "2023-08-25T08:09:08.613Z"
   },
   {
    "duration": 65055,
    "start_time": "2023-08-25T08:09:08.617Z"
   },
   {
    "duration": 9,
    "start_time": "2023-08-25T08:10:13.673Z"
   },
   {
    "duration": 70125,
    "start_time": "2023-08-25T08:15:18.316Z"
   },
   {
    "duration": 7,
    "start_time": "2023-08-25T08:16:28.444Z"
   },
   {
    "duration": 1711,
    "start_time": "2023-08-25T08:17:53.974Z"
   },
   {
    "duration": 841,
    "start_time": "2023-08-25T08:17:55.687Z"
   },
   {
    "duration": 36,
    "start_time": "2023-08-25T08:17:56.530Z"
   },
   {
    "duration": 33,
    "start_time": "2023-08-25T08:17:56.568Z"
   },
   {
    "duration": 38,
    "start_time": "2023-08-25T08:17:56.604Z"
   },
   {
    "duration": 230,
    "start_time": "2023-08-25T08:17:56.643Z"
   },
   {
    "duration": 235,
    "start_time": "2023-08-25T08:17:56.875Z"
   },
   {
    "duration": 224,
    "start_time": "2023-08-25T08:17:57.112Z"
   },
   {
    "duration": 3,
    "start_time": "2023-08-25T08:17:57.337Z"
   },
   {
    "duration": 68370,
    "start_time": "2023-08-25T08:17:57.342Z"
   },
   {
    "duration": 8,
    "start_time": "2023-08-25T08:19:05.714Z"
   },
   {
    "duration": 173,
    "start_time": "2023-08-25T08:19:05.723Z"
   },
   {
    "duration": 0,
    "start_time": "2023-08-25T08:19:05.897Z"
   },
   {
    "duration": 63,
    "start_time": "2023-08-25T08:19:52.478Z"
   },
   {
    "duration": 4,
    "start_time": "2023-08-25T08:19:52.939Z"
   },
   {
    "duration": 3,
    "start_time": "2023-08-25T08:22:10.448Z"
   },
   {
    "duration": 63,
    "start_time": "2023-08-25T08:34:34.269Z"
   },
   {
    "duration": 4,
    "start_time": "2023-08-25T08:34:34.611Z"
   },
   {
    "duration": 3,
    "start_time": "2023-08-25T08:41:34.377Z"
   },
   {
    "duration": 1346,
    "start_time": "2023-08-25T08:41:39.969Z"
   },
   {
    "duration": 3,
    "start_time": "2023-08-25T08:42:00.254Z"
   },
   {
    "duration": 567246,
    "start_time": "2023-08-25T08:42:00.589Z"
   },
   {
    "duration": 142447,
    "start_time": "2023-08-25T08:51:27.837Z"
   },
   {
    "duration": 1523,
    "start_time": "2023-08-25T09:32:09.117Z"
   },
   {
    "duration": 761,
    "start_time": "2023-08-25T09:32:10.642Z"
   },
   {
    "duration": 32,
    "start_time": "2023-08-25T09:32:11.405Z"
   },
   {
    "duration": 17,
    "start_time": "2023-08-25T09:32:11.439Z"
   },
   {
    "duration": 40,
    "start_time": "2023-08-25T09:32:11.458Z"
   },
   {
    "duration": 222,
    "start_time": "2023-08-25T09:32:11.499Z"
   },
   {
    "duration": 213,
    "start_time": "2023-08-25T09:32:11.723Z"
   },
   {
    "duration": 142,
    "start_time": "2023-08-25T09:32:11.938Z"
   },
   {
    "duration": 3,
    "start_time": "2023-08-25T09:32:12.082Z"
   },
   {
    "duration": 64621,
    "start_time": "2023-08-25T09:32:12.086Z"
   },
   {
    "duration": 9,
    "start_time": "2023-08-25T09:33:16.709Z"
   },
   {
    "duration": 73,
    "start_time": "2023-08-25T09:33:16.719Z"
   },
   {
    "duration": 5,
    "start_time": "2023-08-25T09:33:16.794Z"
   },
   {
    "duration": 17,
    "start_time": "2023-08-25T09:33:16.802Z"
   },
   {
    "duration": 588622,
    "start_time": "2023-08-25T09:33:16.821Z"
   },
   {
    "duration": 266,
    "start_time": "2023-08-25T09:43:05.444Z"
   },
   {
    "duration": 89,
    "start_time": "2023-08-25T09:43:05.712Z"
   },
   {
    "duration": 92,
    "start_time": "2023-08-25T09:43:05.803Z"
   },
   {
    "duration": 0,
    "start_time": "2023-08-25T09:43:05.897Z"
   },
   {
    "duration": 1175,
    "start_time": "2023-08-25T09:45:51.603Z"
   },
   {
    "duration": 1629,
    "start_time": "2023-08-25T10:41:51.340Z"
   },
   {
    "duration": 793,
    "start_time": "2023-08-25T10:41:52.970Z"
   },
   {
    "duration": 31,
    "start_time": "2023-08-25T10:41:53.764Z"
   },
   {
    "duration": 11,
    "start_time": "2023-08-25T10:41:53.797Z"
   },
   {
    "duration": 41,
    "start_time": "2023-08-25T10:41:53.810Z"
   },
   {
    "duration": 237,
    "start_time": "2023-08-25T10:41:53.853Z"
   },
   {
    "duration": 127,
    "start_time": "2023-08-25T10:41:54.092Z"
   },
   {
    "duration": 0,
    "start_time": "2023-08-25T10:41:54.221Z"
   },
   {
    "duration": 0,
    "start_time": "2023-08-25T10:41:54.222Z"
   },
   {
    "duration": 0,
    "start_time": "2023-08-25T10:41:54.223Z"
   },
   {
    "duration": 0,
    "start_time": "2023-08-25T10:41:54.225Z"
   },
   {
    "duration": 0,
    "start_time": "2023-08-25T10:41:54.234Z"
   },
   {
    "duration": 0,
    "start_time": "2023-08-25T10:41:54.235Z"
   },
   {
    "duration": 0,
    "start_time": "2023-08-25T10:41:54.236Z"
   },
   {
    "duration": 0,
    "start_time": "2023-08-25T10:41:54.237Z"
   },
   {
    "duration": 0,
    "start_time": "2023-08-25T10:41:54.238Z"
   },
   {
    "duration": 0,
    "start_time": "2023-08-25T10:41:54.239Z"
   },
   {
    "duration": 0,
    "start_time": "2023-08-25T10:41:54.240Z"
   },
   {
    "duration": 1546,
    "start_time": "2023-08-25T10:46:32.789Z"
   },
   {
    "duration": 814,
    "start_time": "2023-08-25T10:46:34.337Z"
   },
   {
    "duration": 31,
    "start_time": "2023-08-25T10:46:35.153Z"
   },
   {
    "duration": 21,
    "start_time": "2023-08-25T10:46:35.185Z"
   },
   {
    "duration": 46,
    "start_time": "2023-08-25T10:46:35.208Z"
   },
   {
    "duration": 211,
    "start_time": "2023-08-25T10:46:35.255Z"
   },
   {
    "duration": 1519,
    "start_time": "2023-08-25T10:48:04.338Z"
   },
   {
    "duration": 770,
    "start_time": "2023-08-25T10:48:05.858Z"
   },
   {
    "duration": 26,
    "start_time": "2023-08-25T10:48:06.630Z"
   },
   {
    "duration": 10,
    "start_time": "2023-08-25T10:48:06.658Z"
   },
   {
    "duration": 30,
    "start_time": "2023-08-25T10:48:06.669Z"
   },
   {
    "duration": 221,
    "start_time": "2023-08-25T10:48:06.700Z"
   },
   {
    "duration": 1473,
    "start_time": "2023-08-25T10:51:07.280Z"
   },
   {
    "duration": 2303,
    "start_time": "2023-08-25T10:51:08.755Z"
   },
   {
    "duration": 26,
    "start_time": "2023-08-25T10:51:11.059Z"
   },
   {
    "duration": 17,
    "start_time": "2023-08-25T10:51:11.086Z"
   },
   {
    "duration": 46,
    "start_time": "2023-08-25T10:51:11.105Z"
   },
   {
    "duration": 229,
    "start_time": "2023-08-25T10:51:11.153Z"
   },
   {
    "duration": 1629,
    "start_time": "2023-08-25T10:53:39.465Z"
   },
   {
    "duration": 781,
    "start_time": "2023-08-25T10:53:41.096Z"
   },
   {
    "duration": 29,
    "start_time": "2023-08-25T10:53:41.879Z"
   },
   {
    "duration": 26,
    "start_time": "2023-08-25T10:53:41.910Z"
   },
   {
    "duration": 34,
    "start_time": "2023-08-25T10:53:41.938Z"
   },
   {
    "duration": 218,
    "start_time": "2023-08-25T10:53:41.974Z"
   },
   {
    "duration": 123,
    "start_time": "2023-08-25T10:53:42.194Z"
   },
   {
    "duration": 0,
    "start_time": "2023-08-25T10:53:42.319Z"
   },
   {
    "duration": 0,
    "start_time": "2023-08-25T10:53:42.320Z"
   },
   {
    "duration": 0,
    "start_time": "2023-08-25T10:53:42.321Z"
   },
   {
    "duration": 0,
    "start_time": "2023-08-25T10:53:42.322Z"
   },
   {
    "duration": 0,
    "start_time": "2023-08-25T10:53:42.324Z"
   },
   {
    "duration": 0,
    "start_time": "2023-08-25T10:53:42.334Z"
   },
   {
    "duration": 0,
    "start_time": "2023-08-25T10:53:42.335Z"
   },
   {
    "duration": 0,
    "start_time": "2023-08-25T10:53:42.336Z"
   },
   {
    "duration": 0,
    "start_time": "2023-08-25T10:53:42.337Z"
   },
   {
    "duration": 0,
    "start_time": "2023-08-25T10:53:42.338Z"
   },
   {
    "duration": 0,
    "start_time": "2023-08-25T10:53:42.339Z"
   },
   {
    "duration": 0,
    "start_time": "2023-08-25T10:53:42.339Z"
   },
   {
    "duration": 223,
    "start_time": "2023-08-25T10:53:53.198Z"
   },
   {
    "duration": 1500,
    "start_time": "2023-08-25T10:56:48.454Z"
   },
   {
    "duration": 778,
    "start_time": "2023-08-25T10:56:49.956Z"
   },
   {
    "duration": 31,
    "start_time": "2023-08-25T10:56:50.736Z"
   },
   {
    "duration": 9,
    "start_time": "2023-08-25T10:56:50.768Z"
   },
   {
    "duration": 30,
    "start_time": "2023-08-25T10:56:50.779Z"
   },
   {
    "duration": 236,
    "start_time": "2023-08-25T10:56:50.810Z"
   },
   {
    "duration": 238,
    "start_time": "2023-08-25T10:56:51.047Z"
   },
   {
    "duration": 118,
    "start_time": "2023-08-25T10:56:51.287Z"
   },
   {
    "duration": 129,
    "start_time": "2023-08-25T10:56:51.406Z"
   },
   {
    "duration": 3,
    "start_time": "2023-08-25T10:56:51.536Z"
   },
   {
    "duration": 66221,
    "start_time": "2023-08-25T10:56:51.540Z"
   },
   {
    "duration": 7,
    "start_time": "2023-08-25T10:57:57.763Z"
   },
   {
    "duration": 70,
    "start_time": "2023-08-25T10:57:57.772Z"
   },
   {
    "duration": 3,
    "start_time": "2023-08-25T10:57:57.845Z"
   },
   {
    "duration": 18,
    "start_time": "2023-08-25T10:57:57.850Z"
   },
   {
    "duration": 1513,
    "start_time": "2023-08-25T10:58:09.834Z"
   },
   {
    "duration": 804,
    "start_time": "2023-08-25T10:58:11.349Z"
   },
   {
    "duration": 31,
    "start_time": "2023-08-25T10:58:12.155Z"
   },
   {
    "duration": 10,
    "start_time": "2023-08-25T10:58:12.187Z"
   },
   {
    "duration": 50,
    "start_time": "2023-08-25T10:58:12.199Z"
   },
   {
    "duration": 223,
    "start_time": "2023-08-25T10:58:12.250Z"
   },
   {
    "duration": 204,
    "start_time": "2023-08-25T10:58:12.475Z"
   },
   {
    "duration": 132,
    "start_time": "2023-08-25T10:58:12.681Z"
   },
   {
    "duration": 3,
    "start_time": "2023-08-25T10:58:12.815Z"
   },
   {
    "duration": 66065,
    "start_time": "2023-08-25T10:58:12.820Z"
   },
   {
    "duration": 7,
    "start_time": "2023-08-25T10:59:18.887Z"
   },
   {
    "duration": 73,
    "start_time": "2023-08-25T10:59:18.896Z"
   },
   {
    "duration": 4,
    "start_time": "2023-08-25T10:59:18.970Z"
   },
   {
    "duration": 14,
    "start_time": "2023-08-25T10:59:18.976Z"
   },
   {
    "duration": 595350,
    "start_time": "2023-08-25T10:59:18.992Z"
   },
   {
    "duration": 142901,
    "start_time": "2023-08-25T11:09:14.344Z"
   },
   {
    "duration": 1541,
    "start_time": "2023-08-25T11:28:57.600Z"
   },
   {
    "duration": 770,
    "start_time": "2023-08-25T11:28:59.143Z"
   },
   {
    "duration": 32,
    "start_time": "2023-08-25T11:28:59.914Z"
   },
   {
    "duration": 57,
    "start_time": "2023-08-25T11:28:59.948Z"
   },
   {
    "duration": 106,
    "start_time": "2023-08-25T11:29:00.007Z"
   },
   {
    "duration": 327,
    "start_time": "2023-08-25T11:29:00.114Z"
   },
   {
    "duration": 208,
    "start_time": "2023-08-25T11:29:00.442Z"
   },
   {
    "duration": 168,
    "start_time": "2023-08-25T11:29:00.652Z"
   },
   {
    "duration": 2,
    "start_time": "2023-08-25T11:29:00.822Z"
   },
   {
    "duration": 566,
    "start_time": "2023-08-25T11:29:00.826Z"
   },
   {
    "duration": 0,
    "start_time": "2023-08-25T11:29:01.393Z"
   },
   {
    "duration": 0,
    "start_time": "2023-08-25T11:29:01.394Z"
   },
   {
    "duration": 0,
    "start_time": "2023-08-25T11:29:01.396Z"
   },
   {
    "duration": 0,
    "start_time": "2023-08-25T11:29:01.396Z"
   },
   {
    "duration": 0,
    "start_time": "2023-08-25T11:29:01.398Z"
   },
   {
    "duration": 0,
    "start_time": "2023-08-25T11:29:01.399Z"
   },
   {
    "duration": 0,
    "start_time": "2023-08-25T11:29:01.399Z"
   },
   {
    "duration": 0,
    "start_time": "2023-08-25T11:29:01.401Z"
   },
   {
    "duration": 329,
    "start_time": "2023-08-25T11:30:32.762Z"
   },
   {
    "duration": 1620,
    "start_time": "2023-08-25T11:31:43.932Z"
   },
   {
    "duration": 890,
    "start_time": "2023-08-25T11:31:45.555Z"
   },
   {
    "duration": 33,
    "start_time": "2023-08-25T11:31:46.447Z"
   },
   {
    "duration": 16,
    "start_time": "2023-08-25T11:31:46.482Z"
   },
   {
    "duration": 37,
    "start_time": "2023-08-25T11:31:46.500Z"
   },
   {
    "duration": 273,
    "start_time": "2023-08-25T11:31:46.541Z"
   },
   {
    "duration": 224,
    "start_time": "2023-08-25T11:31:46.816Z"
   },
   {
    "duration": 133,
    "start_time": "2023-08-25T11:31:47.041Z"
   },
   {
    "duration": 3,
    "start_time": "2023-08-25T11:31:47.175Z"
   },
   {
    "duration": 511,
    "start_time": "2023-08-25T11:31:47.180Z"
   },
   {
    "duration": 0,
    "start_time": "2023-08-25T11:31:47.693Z"
   },
   {
    "duration": 0,
    "start_time": "2023-08-25T11:31:47.695Z"
   },
   {
    "duration": 0,
    "start_time": "2023-08-25T11:31:47.696Z"
   },
   {
    "duration": 0,
    "start_time": "2023-08-25T11:31:47.697Z"
   },
   {
    "duration": 0,
    "start_time": "2023-08-25T11:31:47.698Z"
   },
   {
    "duration": 0,
    "start_time": "2023-08-25T11:31:47.699Z"
   },
   {
    "duration": 0,
    "start_time": "2023-08-25T11:31:47.700Z"
   },
   {
    "duration": 0,
    "start_time": "2023-08-25T11:31:47.701Z"
   },
   {
    "duration": 164,
    "start_time": "2023-08-25T11:32:59.411Z"
   },
   {
    "duration": 20491,
    "start_time": "2023-08-25T11:33:03.223Z"
   },
   {
    "duration": 1509,
    "start_time": "2023-08-25T11:34:00.663Z"
   },
   {
    "duration": 833,
    "start_time": "2023-08-25T11:34:02.174Z"
   },
   {
    "duration": 31,
    "start_time": "2023-08-25T11:34:03.009Z"
   },
   {
    "duration": 50,
    "start_time": "2023-08-25T11:34:03.043Z"
   },
   {
    "duration": 49,
    "start_time": "2023-08-25T11:34:03.095Z"
   },
   {
    "duration": 232,
    "start_time": "2023-08-25T11:34:03.145Z"
   },
   {
    "duration": 203,
    "start_time": "2023-08-25T11:34:03.379Z"
   },
   {
    "duration": 137,
    "start_time": "2023-08-25T11:34:03.584Z"
   },
   {
    "duration": 3,
    "start_time": "2023-08-25T11:34:03.723Z"
   },
   {
    "duration": 600,
    "start_time": "2023-08-25T11:34:03.728Z"
   },
   {
    "duration": 0,
    "start_time": "2023-08-25T11:34:04.329Z"
   },
   {
    "duration": 0,
    "start_time": "2023-08-25T11:34:04.330Z"
   },
   {
    "duration": 0,
    "start_time": "2023-08-25T11:34:04.331Z"
   },
   {
    "duration": 0,
    "start_time": "2023-08-25T11:34:04.333Z"
   },
   {
    "duration": 0,
    "start_time": "2023-08-25T11:34:04.334Z"
   },
   {
    "duration": 0,
    "start_time": "2023-08-25T11:34:04.335Z"
   },
   {
    "duration": 0,
    "start_time": "2023-08-25T11:34:04.336Z"
   },
   {
    "duration": 0,
    "start_time": "2023-08-25T11:34:04.337Z"
   },
   {
    "duration": 289,
    "start_time": "2023-08-25T11:35:14.214Z"
   },
   {
    "duration": 2,
    "start_time": "2023-08-25T11:35:17.291Z"
   },
   {
    "duration": 1436,
    "start_time": "2023-08-25T11:36:26.187Z"
   },
   {
    "duration": 784,
    "start_time": "2023-08-25T11:36:27.625Z"
   },
   {
    "duration": 26,
    "start_time": "2023-08-25T11:36:28.411Z"
   },
   {
    "duration": 15,
    "start_time": "2023-08-25T11:36:28.439Z"
   },
   {
    "duration": 29,
    "start_time": "2023-08-25T11:36:28.456Z"
   },
   {
    "duration": 227,
    "start_time": "2023-08-25T11:36:28.487Z"
   },
   {
    "duration": 191,
    "start_time": "2023-08-25T11:36:28.715Z"
   },
   {
    "duration": 185,
    "start_time": "2023-08-25T11:36:28.908Z"
   },
   {
    "duration": 2,
    "start_time": "2023-08-25T11:36:29.095Z"
   },
   {
    "duration": 487559,
    "start_time": "2023-08-25T11:36:29.099Z"
   },
   {
    "duration": 7,
    "start_time": "2023-08-25T11:44:36.661Z"
   },
   {
    "duration": 95,
    "start_time": "2023-08-25T11:44:36.669Z"
   },
   {
    "duration": 3,
    "start_time": "2023-08-25T11:44:36.766Z"
   },
   {
    "duration": 10,
    "start_time": "2023-08-25T11:44:36.772Z"
   }
  ],
  "kernelspec": {
   "display_name": "Python 3 (ipykernel)",
   "language": "python",
   "name": "python3"
  },
  "language_info": {
   "codemirror_mode": {
    "name": "ipython",
    "version": 3
   },
   "file_extension": ".py",
   "mimetype": "text/x-python",
   "name": "python",
   "nbconvert_exporter": "python",
   "pygments_lexer": "ipython3",
   "version": "3.11.4"
  },
  "toc": {
   "base_numbering": 1,
   "nav_menu": {},
   "number_sections": true,
   "sideBar": true,
   "skip_h1_title": true,
   "title_cell": "Содержание",
   "title_sidebar": "Contents",
   "toc_cell": true,
   "toc_position": {
    "height": "calc(100% - 180px)",
    "left": "10px",
    "top": "150px",
    "width": "302.391px"
   },
   "toc_section_display": true,
   "toc_window_display": false
  }
 },
 "nbformat": 4,
 "nbformat_minor": 2
}
