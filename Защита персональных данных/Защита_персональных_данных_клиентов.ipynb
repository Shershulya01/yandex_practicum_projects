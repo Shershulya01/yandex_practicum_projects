{
 "cells": [
  {
   "cell_type": "markdown",
   "metadata": {
    "toc": true
   },
   "source": [
    "<h1>Содержание<span class=\"tocSkip\"></span></h1>\n",
    "<div class=\"toc\"><ul class=\"toc-item\"><li><span><a href=\"#Загрузка-данных\" data-toc-modified-id=\"Загрузка-данных-1\"><span class=\"toc-item-num\">1&nbsp;&nbsp;</span>Загрузка данных</a></span></li><li><span><a href=\"#Умножение-матриц\" data-toc-modified-id=\"Умножение-матриц-2\"><span class=\"toc-item-num\">2&nbsp;&nbsp;</span>Умножение матриц</a></span></li><li><span><a href=\"#Алгоритм-преобразования\" data-toc-modified-id=\"Алгоритм-преобразования-3\"><span class=\"toc-item-num\">3&nbsp;&nbsp;</span>Алгоритм преобразования</a></span></li><li><span><a href=\"#Проверка-алгоритма\" data-toc-modified-id=\"Проверка-алгоритма-4\"><span class=\"toc-item-num\">4&nbsp;&nbsp;</span>Проверка алгоритма"
   ]
  },
  {
   "cell_type": "markdown",
   "metadata": {},
   "source": [
    "# Защита персональных данных клиентов"
   ]
  },
  {
   "cell_type": "markdown",
   "metadata": {},
   "source": [
    "Вам нужно защитить данные клиентов страховой компании «Хоть потоп». Разработайте такой метод преобразования данных, чтобы по ним было сложно восстановить персональную информацию. Обоснуйте корректность его работы.\n",
    "\n",
    "Нужно защитить данные, чтобы при преобразовании качество моделей машинного обучения не ухудшилось. Подбирать наилучшую модель не требуется."
   ]
  },
  {
   "cell_type": "markdown",
   "metadata": {},
   "source": [
    "## Загрузка данных"
   ]
  },
  {
   "cell_type": "code",
   "execution_count": 1,
   "metadata": {},
   "outputs": [],
   "source": [
    "import pandas as pd\n",
    "import numpy as np\n",
    "from sklearn.linear_model import LinearRegression\n",
    "from sklearn.model_selection import train_test_split\n",
    "from sklearn.metrics import r2_score\n",
    "\n",
    "import warnings\n",
    "warnings.simplefilter(action='ignore', category=FutureWarning)\n",
    "warnings.filterwarnings(\"ignore\")"
   ]
  },
  {
   "cell_type": "code",
   "execution_count": 2,
   "metadata": {},
   "outputs": [],
   "source": [
    "data = pd.read_csv('/datasets/insurance.csv')"
   ]
  },
  {
   "cell_type": "code",
   "execution_count": 3,
   "metadata": {},
   "outputs": [
    {
     "name": "stdout",
     "output_type": "stream",
     "text": [
      "<class 'pandas.core.frame.DataFrame'>\n",
      "RangeIndex: 5000 entries, 0 to 4999\n",
      "Data columns (total 5 columns):\n",
      " #   Column             Non-Null Count  Dtype  \n",
      "---  ------             --------------  -----  \n",
      " 0   Пол                5000 non-null   int64  \n",
      " 1   Возраст            5000 non-null   float64\n",
      " 2   Зарплата           5000 non-null   float64\n",
      " 3   Члены семьи        5000 non-null   int64  \n",
      " 4   Страховые выплаты  5000 non-null   int64  \n",
      "dtypes: float64(2), int64(3)\n",
      "memory usage: 195.4 KB\n"
     ]
    }
   ],
   "source": [
    "data.info()"
   ]
  },
  {
   "cell_type": "code",
   "execution_count": 4,
   "metadata": {},
   "outputs": [
    {
     "data": {
      "text/html": [
       "<div>\n",
       "<style scoped>\n",
       "    .dataframe tbody tr th:only-of-type {\n",
       "        vertical-align: middle;\n",
       "    }\n",
       "\n",
       "    .dataframe tbody tr th {\n",
       "        vertical-align: top;\n",
       "    }\n",
       "\n",
       "    .dataframe thead th {\n",
       "        text-align: right;\n",
       "    }\n",
       "</style>\n",
       "<table border=\"1\" class=\"dataframe\">\n",
       "  <thead>\n",
       "    <tr style=\"text-align: right;\">\n",
       "      <th></th>\n",
       "      <th>Пол</th>\n",
       "      <th>Возраст</th>\n",
       "      <th>Зарплата</th>\n",
       "      <th>Члены семьи</th>\n",
       "      <th>Страховые выплаты</th>\n",
       "    </tr>\n",
       "  </thead>\n",
       "  <tbody>\n",
       "    <tr>\n",
       "      <th>0</th>\n",
       "      <td>1</td>\n",
       "      <td>41.0</td>\n",
       "      <td>49600.0</td>\n",
       "      <td>1</td>\n",
       "      <td>0</td>\n",
       "    </tr>\n",
       "    <tr>\n",
       "      <th>1</th>\n",
       "      <td>0</td>\n",
       "      <td>46.0</td>\n",
       "      <td>38000.0</td>\n",
       "      <td>1</td>\n",
       "      <td>1</td>\n",
       "    </tr>\n",
       "    <tr>\n",
       "      <th>2</th>\n",
       "      <td>0</td>\n",
       "      <td>29.0</td>\n",
       "      <td>21000.0</td>\n",
       "      <td>0</td>\n",
       "      <td>0</td>\n",
       "    </tr>\n",
       "    <tr>\n",
       "      <th>3</th>\n",
       "      <td>0</td>\n",
       "      <td>21.0</td>\n",
       "      <td>41700.0</td>\n",
       "      <td>2</td>\n",
       "      <td>0</td>\n",
       "    </tr>\n",
       "    <tr>\n",
       "      <th>4</th>\n",
       "      <td>1</td>\n",
       "      <td>28.0</td>\n",
       "      <td>26100.0</td>\n",
       "      <td>0</td>\n",
       "      <td>0</td>\n",
       "    </tr>\n",
       "    <tr>\n",
       "      <th>5</th>\n",
       "      <td>1</td>\n",
       "      <td>43.0</td>\n",
       "      <td>41000.0</td>\n",
       "      <td>2</td>\n",
       "      <td>1</td>\n",
       "    </tr>\n",
       "    <tr>\n",
       "      <th>6</th>\n",
       "      <td>1</td>\n",
       "      <td>39.0</td>\n",
       "      <td>39700.0</td>\n",
       "      <td>2</td>\n",
       "      <td>0</td>\n",
       "    </tr>\n",
       "    <tr>\n",
       "      <th>7</th>\n",
       "      <td>1</td>\n",
       "      <td>25.0</td>\n",
       "      <td>38600.0</td>\n",
       "      <td>4</td>\n",
       "      <td>0</td>\n",
       "    </tr>\n",
       "    <tr>\n",
       "      <th>8</th>\n",
       "      <td>1</td>\n",
       "      <td>36.0</td>\n",
       "      <td>49700.0</td>\n",
       "      <td>1</td>\n",
       "      <td>0</td>\n",
       "    </tr>\n",
       "    <tr>\n",
       "      <th>9</th>\n",
       "      <td>1</td>\n",
       "      <td>32.0</td>\n",
       "      <td>51700.0</td>\n",
       "      <td>1</td>\n",
       "      <td>0</td>\n",
       "    </tr>\n",
       "  </tbody>\n",
       "</table>\n",
       "</div>"
      ],
      "text/plain": [
       "   Пол  Возраст  Зарплата  Члены семьи  Страховые выплаты\n",
       "0    1     41.0   49600.0            1                  0\n",
       "1    0     46.0   38000.0            1                  1\n",
       "2    0     29.0   21000.0            0                  0\n",
       "3    0     21.0   41700.0            2                  0\n",
       "4    1     28.0   26100.0            0                  0\n",
       "5    1     43.0   41000.0            2                  1\n",
       "6    1     39.0   39700.0            2                  0\n",
       "7    1     25.0   38600.0            4                  0\n",
       "8    1     36.0   49700.0            1                  0\n",
       "9    1     32.0   51700.0            1                  0"
      ]
     },
     "metadata": {},
     "output_type": "display_data"
    }
   ],
   "source": [
    "display(data.head(10))"
   ]
  },
  {
   "cell_type": "code",
   "execution_count": 5,
   "metadata": {},
   "outputs": [
    {
     "data": {
      "text/html": [
       "<div>\n",
       "<style scoped>\n",
       "    .dataframe tbody tr th:only-of-type {\n",
       "        vertical-align: middle;\n",
       "    }\n",
       "\n",
       "    .dataframe tbody tr th {\n",
       "        vertical-align: top;\n",
       "    }\n",
       "\n",
       "    .dataframe thead th {\n",
       "        text-align: right;\n",
       "    }\n",
       "</style>\n",
       "<table border=\"1\" class=\"dataframe\">\n",
       "  <thead>\n",
       "    <tr style=\"text-align: right;\">\n",
       "      <th></th>\n",
       "      <th>Пол</th>\n",
       "      <th>Возраст</th>\n",
       "      <th>Зарплата</th>\n",
       "      <th>Члены семьи</th>\n",
       "      <th>Страховые выплаты</th>\n",
       "    </tr>\n",
       "  </thead>\n",
       "  <tbody>\n",
       "    <tr>\n",
       "      <th>count</th>\n",
       "      <td>5000.000000</td>\n",
       "      <td>5000.000000</td>\n",
       "      <td>5000.000000</td>\n",
       "      <td>5000.000000</td>\n",
       "      <td>5000.000000</td>\n",
       "    </tr>\n",
       "    <tr>\n",
       "      <th>mean</th>\n",
       "      <td>0.499000</td>\n",
       "      <td>30.952800</td>\n",
       "      <td>39916.360000</td>\n",
       "      <td>1.194200</td>\n",
       "      <td>0.148000</td>\n",
       "    </tr>\n",
       "    <tr>\n",
       "      <th>std</th>\n",
       "      <td>0.500049</td>\n",
       "      <td>8.440807</td>\n",
       "      <td>9900.083569</td>\n",
       "      <td>1.091387</td>\n",
       "      <td>0.463183</td>\n",
       "    </tr>\n",
       "    <tr>\n",
       "      <th>min</th>\n",
       "      <td>0.000000</td>\n",
       "      <td>18.000000</td>\n",
       "      <td>5300.000000</td>\n",
       "      <td>0.000000</td>\n",
       "      <td>0.000000</td>\n",
       "    </tr>\n",
       "    <tr>\n",
       "      <th>25%</th>\n",
       "      <td>0.000000</td>\n",
       "      <td>24.000000</td>\n",
       "      <td>33300.000000</td>\n",
       "      <td>0.000000</td>\n",
       "      <td>0.000000</td>\n",
       "    </tr>\n",
       "    <tr>\n",
       "      <th>50%</th>\n",
       "      <td>0.000000</td>\n",
       "      <td>30.000000</td>\n",
       "      <td>40200.000000</td>\n",
       "      <td>1.000000</td>\n",
       "      <td>0.000000</td>\n",
       "    </tr>\n",
       "    <tr>\n",
       "      <th>75%</th>\n",
       "      <td>1.000000</td>\n",
       "      <td>37.000000</td>\n",
       "      <td>46600.000000</td>\n",
       "      <td>2.000000</td>\n",
       "      <td>0.000000</td>\n",
       "    </tr>\n",
       "    <tr>\n",
       "      <th>max</th>\n",
       "      <td>1.000000</td>\n",
       "      <td>65.000000</td>\n",
       "      <td>79000.000000</td>\n",
       "      <td>6.000000</td>\n",
       "      <td>5.000000</td>\n",
       "    </tr>\n",
       "  </tbody>\n",
       "</table>\n",
       "</div>"
      ],
      "text/plain": [
       "               Пол      Возраст      Зарплата  Члены семьи  Страховые выплаты\n",
       "count  5000.000000  5000.000000   5000.000000  5000.000000        5000.000000\n",
       "mean      0.499000    30.952800  39916.360000     1.194200           0.148000\n",
       "std       0.500049     8.440807   9900.083569     1.091387           0.463183\n",
       "min       0.000000    18.000000   5300.000000     0.000000           0.000000\n",
       "25%       0.000000    24.000000  33300.000000     0.000000           0.000000\n",
       "50%       0.000000    30.000000  40200.000000     1.000000           0.000000\n",
       "75%       1.000000    37.000000  46600.000000     2.000000           0.000000\n",
       "max       1.000000    65.000000  79000.000000     6.000000           5.000000"
      ]
     },
     "execution_count": 5,
     "metadata": {},
     "output_type": "execute_result"
    }
   ],
   "source": [
    "data.describe()"
   ]
  },
  {
   "cell_type": "markdown",
   "metadata": {},
   "source": [
    "## Умножение матриц"
   ]
  },
  {
   "cell_type": "markdown",
   "metadata": {},
   "source": [
    "В этом задании вы можете записывать формулы в *Jupyter Notebook.*\n",
    "\n",
    "Чтобы записать формулу внутри текста, окружите её символами доллара \\\\$; если снаружи —  двойными символами \\\\$\\\\$. Эти формулы записываются на языке вёрстки *LaTeX.* \n",
    "\n",
    "Для примера мы записали формулы линейной регрессии. Можете их скопировать и отредактировать, чтобы решить задачу.\n",
    "\n",
    "Работать в *LaTeX* необязательно."
   ]
  },
  {
   "cell_type": "markdown",
   "metadata": {},
   "source": [
    "Обозначения:\n",
    "\n",
    "- $X$ — матрица признаков (нулевой столбец состоит из единиц)\n",
    "\n",
    "- $y$ — вектор целевого признака\n",
    "\n",
    "- $P$ — матрица, на которую умножаются признаки\n",
    "\n",
    "- $w$ — вектор весов линейной регрессии (нулевой элемент равен сдвигу)"
   ]
  },
  {
   "cell_type": "markdown",
   "metadata": {},
   "source": [
    "Предсказания:\n",
    "\n",
    "$$\n",
    "a = Xw\n",
    "$$\n",
    "\n",
    "Задача обучения:\n",
    "\n",
    "$$\n",
    "w = \\arg\\min_w MSE(Xw, y)\n",
    "$$\n",
    "\n",
    "Формула обучения:\n",
    "\n",
    "$$\n",
    "w = (X^T X)^{-1} X^T y\n",
    "$$"
   ]
  },
  {
   "cell_type": "markdown",
   "metadata": {},
   "source": [
    "**Ответ:**  Качество линейной регрессии не изменится\n",
    "\n",
    "**Обоснование:** \n",
    "\n",
    "1.Подставим в формулу $a= Xw$ значения $w$ из формулы выше:\n",
    "\n",
    "$$\n",
    "a = X(X^T X)^{-1} X^T y\n",
    "$$\n",
    "\n",
    "Так вычисляются предсказания для не преобразованных признаков.\n",
    "\n",
    "2.Преобразованные признаки $M$ - это матрица признаков $X$ умноженная на обратимую матрицу $P:M = XP$ \n",
    "\n",
    "Для преобразованных признаков формула предсказаний примет вид:\n",
    "\n",
    "$$\n",
    "a_m = M(M^T M)^{-1} M^T y = XP((XP)^T(XP))^{-1}(XP)^T y\n",
    "$$\n",
    "\n",
    "Для дальнейшего преобразования:\n",
    "\n",
    "3.воспользуемся свойствами матриц:$(AB)^T = A^TB^T$:\n",
    "\n",
    "$$\n",
    "a_m = XP (X^TP^TXP)^{-1} X^TP^T y\n",
    "$$\n",
    "\n",
    "4.воспльзуемся свойствами обратных матриц:$(AB)^{-1} = A^{-1}B^{-1}$:\n",
    "\n",
    "$$\n",
    "a_m = XP (X^TX)^{-1} (P^T)^{-1}P^{-1} X^TP^T y\n",
    "$$\n",
    "\n",
    "$E$  - единичная матрица\n",
    "\n",
    "5.Так как $PP^{-1} = E$, а умножение любой матрица на единичную матрицу даёт ту же матрицу $AE=A$:\n",
    "\n",
    "$$\n",
    "a_m = XE(X^TX)^{-1} E X^T y = X(X^T X)^{-1} X^T y\n",
    "$$"
   ]
  },
  {
   "cell_type": "markdown",
   "metadata": {},
   "source": [
    "Исходные параметры линейной регрессии:\n",
    "\n",
    "$$\n",
    "w = (X^TX)^{-1}X^Ty\n",
    "$$\n",
    "\n",
    "Преобразованные параметры линейной регрессии:\n",
    "\n",
    "$$\n",
    "w_p = ((XP)^TXP)^{-1}(XP)^Ty\n",
    "$$\n",
    "\n",
    "Мы хотим найти связь между $w$ и $w_P$. Воспользуемся свойствами матриц:\n",
    "\n",
    "- $(AB)^T = B^T A^T$\n",
    "\n",
    "- $(AB)^{-1} = B^{-1} A^{-1}$\n",
    "\n",
    "Теперь применим эти свойства к формуле для преобразованных параметров:\n",
    "\n",
    "$$\n",
    "w_p = ((XP)^TXP)^{-1}(XP)^Ty\n",
    "$$\n",
    "\n",
    "- $(XP)^T XP = P^T X^T X P$\n",
    "\n",
    "- $(P^T X^T X P)^{-1} = P^{-1} (X^T X)^{-1} (P^T)^{-1}$\n",
    "\n",
    "Подставим полученные значения обратно в формулу:\n",
    "\n",
    "$$\n",
    "w_p = P^{-1}(X^TX)^{-1}(P^T)^{-1}(XP)^Ty\n",
    "$$\n",
    "\n",
    "Раскроем $(XP)^T$:\n",
    "\n",
    "$$\n",
    "(XP)^T = P^TX^T\n",
    "$$\n",
    "\n",
    "Теперь, подставим значение обратно в выражение для $w_p$:\n",
    "\n",
    "$$\n",
    "w_p = P^{-1}(X^TX)^{-1}(P^T)^{-1}(P^TX^T)y\n",
    "$$\n",
    "\n",
    "Заметим, что $P^{-1}(P^T)^{-1} = E$, где $E$ - единичная матрица:\n",
    "\n",
    "$$\n",
    "w_p = E(X^TX)^{-1}X^Ty\n",
    "$$\n",
    "\n",
    "Так как умножение матрицы на единичную матрицу даёт ту же матрицу ($AE = A$), то:\n",
    "\n",
    "$$\n",
    "w_p =  P^{-1}(X^TX)^{-1}X^Ty\n",
    "$$\n",
    "\n",
    "Это и есть значение весов $w$ для не преобразованных признаков, как мы видим, $ w_p = P^{-1}w$.\n",
    "\n",
    "Теперь давайте рассмотрим предсказания $a$ и $a_m$:\n",
    "\n",
    "$$\n",
    "a = X_w\n",
    "$$\n",
    "\n",
    "$$\n",
    "a_m = XP((XP)^T(XP))^{-1}(XP)^Ty\n",
    "$$\n",
    "\n",
    "Мы показали, что $w_p = w$, следовательно:\n",
    "\n",
    "$$\n",
    "a_m = Xw\n",
    "$$\n",
    "\n",
    "Таким образом, $a = a_m$, что доказывает, что качество линейной регрессии не изменится после преобразования признаков."
   ]
  },
  {
   "cell_type": "markdown",
   "metadata": {},
   "source": [
    "**Вывод:**\n",
    "\n",
    "Таким образом уравнение для предсказаний по преобразованным признакам приобрело вид уравнения предсказаний по не преобразованным признакам"
   ]
  },
  {
   "cell_type": "markdown",
   "metadata": {},
   "source": [
    "## Алгоритм преобразования"
   ]
  },
  {
   "cell_type": "markdown",
   "metadata": {},
   "source": [
    "**Алгоритм**\n",
    "\n",
    "Исходя из того, что умножение признаков на обратимую матрицу не влияет на результат работы линейной регрессии, алгоритм защиты данных пользователей будет следующий:\n",
    "\n",
    "1. Преобразуем признаки, содержащие персональные данные клиентов в матрицу.\n",
    "2. Создадим обратимую матрицу, состоящую из случайных чисел, размер которой по вертикали и горизонтали будет равен количеству признаков. Назовём данную матрицу кодирующей матрицей.\n",
    "3. Произведём умножение матрицы признаков на кодирующую матрицу.\n",
    "\n",
    "Таким образом персональные данные клиентов будут закодированны, но на результаты работы линейной регрессии это никак не скажется."
   ]
  },
  {
   "cell_type": "markdown",
   "metadata": {},
   "source": [
    "**Обоснование**\n",
    "\n",
    "Проверим наш алгоритм на простом наборе данных. Пусть матрица признаков $X$ будет размера $2X4$"
   ]
  },
  {
   "cell_type": "code",
   "execution_count": 6,
   "metadata": {},
   "outputs": [
    {
     "data": {
      "text/plain": [
       "array([[1, 2],\n",
       "       [2, 3],\n",
       "       [3, 4],\n",
       "       [4, 5]])"
      ]
     },
     "execution_count": 6,
     "metadata": {},
     "output_type": "execute_result"
    }
   ],
   "source": [
    "X = np.array([[1, 2],\n",
    "             [2, 3],\n",
    "             [3, 4],\n",
    "             [4, 5]\n",
    "            ])\n",
    "X"
   ]
  },
  {
   "cell_type": "markdown",
   "metadata": {},
   "source": [
    "Целевой признак зададим вектором $y$:"
   ]
  },
  {
   "cell_type": "code",
   "execution_count": 7,
   "metadata": {},
   "outputs": [
    {
     "data": {
      "text/plain": [
       "array([1, 2, 3, 4])"
      ]
     },
     "execution_count": 7,
     "metadata": {},
     "output_type": "execute_result"
    }
   ],
   "source": [
    "y = np.array([1,2,3,4])\n",
    "y"
   ]
  },
  {
   "cell_type": "markdown",
   "metadata": {},
   "source": [
    "Создадим обратимую(кодирующую) матрицу $P$  размером $2X2$"
   ]
  },
  {
   "cell_type": "code",
   "execution_count": 8,
   "metadata": {},
   "outputs": [
    {
     "data": {
      "text/plain": [
       "array([[2, 1],\n",
       "       [2, 3]])"
      ]
     },
     "execution_count": 8,
     "metadata": {},
     "output_type": "execute_result"
    }
   ],
   "source": [
    "P = np.random.randint(1,10,(2,2))\n",
    "P"
   ]
  },
  {
   "cell_type": "markdown",
   "metadata": {},
   "source": [
    "Умножив матрицу признаков на кодирующую матрицу получим закодированную матрицу $M=XP$"
   ]
  },
  {
   "cell_type": "code",
   "execution_count": 9,
   "metadata": {},
   "outputs": [
    {
     "data": {
      "text/plain": [
       "array([[ 6,  7],\n",
       "       [10, 11],\n",
       "       [14, 15],\n",
       "       [18, 19]])"
      ]
     },
     "execution_count": 9,
     "metadata": {},
     "output_type": "execute_result"
    }
   ],
   "source": [
    "M = X @ P\n",
    "M"
   ]
  },
  {
   "cell_type": "markdown",
   "metadata": {},
   "source": [
    "По формуле линейной регрессии $a = X (X^T X)^{-1} X^T y$ получим вектор прогнозов для не закодированных признаков:"
   ]
  },
  {
   "cell_type": "code",
   "execution_count": 10,
   "metadata": {},
   "outputs": [
    {
     "data": {
      "text/plain": [
       "array([1., 2., 3., 4.])"
      ]
     },
     "execution_count": 10,
     "metadata": {},
     "output_type": "execute_result"
    }
   ],
   "source": [
    "a = X @ np.linalg.inv(X.T @ X) @ X.T @ y\n",
    "a"
   ]
  },
  {
   "cell_type": "markdown",
   "metadata": {},
   "source": [
    "По этой же формуле $a_m = M (M^T M)^{-1} M^T y$ получим вектор прогнозов для закодированных признаков:"
   ]
  },
  {
   "cell_type": "code",
   "execution_count": 11,
   "metadata": {},
   "outputs": [
    {
     "data": {
      "text/plain": [
       "array([1., 2., 3., 4.])"
      ]
     },
     "execution_count": 11,
     "metadata": {},
     "output_type": "execute_result"
    }
   ],
   "source": [
    "a_m = M @ np.linalg.inv(M.T @ M) @ M.T @ y\n",
    "a"
   ]
  },
  {
   "cell_type": "markdown",
   "metadata": {},
   "source": [
    "**Вывод:**\n",
    "\n",
    "Как мы видим, результаты прогноза на закодированных и не закодированных признаках получился идентичным. Осталось применить алгоритм к реальным данным и проверить результаты"
   ]
  },
  {
   "cell_type": "markdown",
   "metadata": {},
   "source": [
    "## Проверка алгоритма"
   ]
  },
  {
   "cell_type": "code",
   "execution_count": 12,
   "metadata": {},
   "outputs": [],
   "source": [
    "#создадим функцию кодирования\n",
    "def features_coding(matrix):\n",
    "    \"\"\" Функция приниммает датафрейм признаков, \n",
    "        возвращает признаки, закодированные умножением на обратимую матрицу  \n",
    "    \"\"\"\n",
    "    np.random.seed(12345)\n",
    "    if type(matrix) == pd.core.frame.DataFrame or type(matrix) == pd.core.series.Series:\n",
    "        matrix = matrix.values\n",
    "    range_matrix = matrix.shape[1]\n",
    "    determinant = 0\n",
    "    while determinant == 0:\n",
    "        key_matrix = np.random.randint(1,100,(range_matrix,range_matrix))\n",
    "        determinant = np.linalg.det(key_matrix)\n",
    "    return matrix @ key_matrix"
   ]
  },
  {
   "cell_type": "markdown",
   "metadata": {},
   "source": [
    "# Проверка работы алгоритма МО на незакодированных признаках"
   ]
  },
  {
   "cell_type": "code",
   "execution_count": 13,
   "metadata": {},
   "outputs": [],
   "source": [
    "#разделим на признаки и цели\n",
    "features = data.drop('Страховые выплаты', axis=1)\n",
    "target = data['Страховые выплаты']\n",
    "#разделим на обучающую и тренировочную выборки\n",
    "features_train, features_test, target_train, target_test = train_test_split(features, \n",
    "                                                                            target, \n",
    "                                                                            test_size = 0.25, \n",
    "                                                                            random_state=12345)"
   ]
  },
  {
   "cell_type": "code",
   "execution_count": 14,
   "metadata": {},
   "outputs": [
    {
     "name": "stdout",
     "output_type": "stream",
     "text": [
      "R2 на незакодированных признаках: 0.43522757127027\n"
     ]
    }
   ],
   "source": [
    "#обучим модель линейной регрессии \n",
    "lin_rg = LinearRegression()\n",
    "lin_rg.fit(features_train, target_train)\n",
    "predictions = lin_rg.predict(features_test)\n",
    "print(\"R2 на незакодированных признаках:\", r2_score(target_test, predictions))"
   ]
  },
  {
   "cell_type": "markdown",
   "metadata": {},
   "source": [
    "# Проверка работы алгоритма МО на закодированных признаках"
   ]
  },
  {
   "cell_type": "code",
   "execution_count": 15,
   "metadata": {},
   "outputs": [
    {
     "data": {
      "text/plain": [
       "array([[2977895.,  745477., 4564510., 4017730.],\n",
       "       [2282006.,  571622., 3497458., 3078103.],\n",
       "       [1261218.,  316015., 1932870., 1701058.],\n",
       "       [2503030.,  626259., 3837186., 3377764.],\n",
       "       [1567275.,  392510., 2402042., 2114193.]])"
      ]
     },
     "execution_count": 15,
     "metadata": {},
     "output_type": "execute_result"
    }
   ],
   "source": [
    "#кодируем признаки\n",
    "features_code = features_coding(features)\n",
    "#разделим на обучающую и тренировочную выборки\n",
    "features_code_train, features_code_test, target_train, target_test = train_test_split(features_code, \n",
    "                                                                                      target, \n",
    "                                                                                      test_size = 0.25, \n",
    "                                                                                      random_state=12345)\n",
    "features_code[0:5]"
   ]
  },
  {
   "cell_type": "code",
   "execution_count": 16,
   "metadata": {},
   "outputs": [
    {
     "name": "stdout",
     "output_type": "stream",
     "text": [
      "R2 на закодированных признаках: 0.43522757126915324\n"
     ]
    }
   ],
   "source": [
    "#обучим модель линейной регрессии \n",
    "lin_rg_code = LinearRegression()\n",
    "lin_rg_code.fit(features_code_train, target_train)\n",
    "predictions_code = lin_rg_code.predict(features_code_test)\n",
    "print(\"R2 на закодированных признаках:\",r2_score(target_test, predictions_code))"
   ]
  },
  {
   "cell_type": "markdown",
   "metadata": {},
   "source": [
    "**Вывод:**\n",
    "\n",
    "Как видно из сравнения метрики качества моделей МО для закодированных и не закодированных данных, на качество работы модели кодирование не сказалось. На реальных данных алгоритм показал свою работоспособность"
   ]
  },
  {
   "cell_type": "markdown",
   "metadata": {},
   "source": [
    "# Общий вывод:"
   ]
  },
  {
   "cell_type": "markdown",
   "metadata": {},
   "source": [
    "1. Загрузили и изучили данные.\n",
    "2. Ответили на вопросы и обосновали решение.\n",
    "3. Создали алгоритм преобразования данных.\n",
    "4. Проверели алгоритм метрикой R2 для закодированных и не закодированных данных."
   ]
  }
 ],
 "metadata": {
  "ExecuteTimeLog": [
   {
    "duration": 42,
    "start_time": "2023-07-19T16:21:41.480Z"
   },
   {
    "duration": 1458,
    "start_time": "2023-07-19T16:21:43.149Z"
   },
   {
    "duration": 89,
    "start_time": "2023-07-19T16:21:44.609Z"
   },
   {
    "duration": 12,
    "start_time": "2023-07-19T16:21:44.699Z"
   },
   {
    "duration": 19,
    "start_time": "2023-07-19T16:22:01.761Z"
   },
   {
    "duration": 17,
    "start_time": "2023-07-19T16:22:06.512Z"
   },
   {
    "duration": 4,
    "start_time": "2023-07-19T16:24:04.210Z"
   },
   {
    "duration": 1616,
    "start_time": "2023-07-22T13:11:06.882Z"
   },
   {
    "duration": 89,
    "start_time": "2023-07-22T13:11:08.500Z"
   },
   {
    "duration": 22,
    "start_time": "2023-07-22T13:11:08.591Z"
   },
   {
    "duration": 16,
    "start_time": "2023-07-22T13:23:05.750Z"
   },
   {
    "duration": 5,
    "start_time": "2023-07-22T19:19:55.865Z"
   },
   {
    "duration": 5,
    "start_time": "2023-07-22T19:20:31.259Z"
   },
   {
    "duration": 5,
    "start_time": "2023-07-22T19:21:44.248Z"
   },
   {
    "duration": 5,
    "start_time": "2023-07-22T19:22:11.506Z"
   },
   {
    "duration": 4,
    "start_time": "2023-07-22T19:22:41.223Z"
   },
   {
    "duration": 10,
    "start_time": "2023-07-22T19:23:29.770Z"
   },
   {
    "duration": 6,
    "start_time": "2023-07-22T19:24:04.610Z"
   },
   {
    "duration": 5,
    "start_time": "2023-07-22T19:26:55.806Z"
   },
   {
    "duration": 5,
    "start_time": "2023-07-22T19:26:57.340Z"
   },
   {
    "duration": 115,
    "start_time": "2023-07-22T19:28:08.999Z"
   },
   {
    "duration": 8,
    "start_time": "2023-07-22T19:28:16.818Z"
   },
   {
    "duration": 9,
    "start_time": "2023-07-22T19:28:42.755Z"
   },
   {
    "duration": 10,
    "start_time": "2023-07-22T19:29:04.778Z"
   },
   {
    "duration": 10,
    "start_time": "2023-07-22T19:29:17.253Z"
   },
   {
    "duration": 4,
    "start_time": "2023-07-22T19:29:22.423Z"
   },
   {
    "duration": 12,
    "start_time": "2023-07-22T19:30:29.704Z"
   },
   {
    "duration": 8,
    "start_time": "2023-07-22T19:30:34.353Z"
   },
   {
    "duration": 11,
    "start_time": "2023-07-22T19:31:02.112Z"
   },
   {
    "duration": 9,
    "start_time": "2023-07-22T19:31:10.317Z"
   },
   {
    "duration": 5,
    "start_time": "2023-07-22T19:31:22.579Z"
   },
   {
    "duration": 3,
    "start_time": "2023-07-22T19:33:55.308Z"
   },
   {
    "duration": 8,
    "start_time": "2023-07-22T19:36:10.050Z"
   },
   {
    "duration": 6,
    "start_time": "2023-07-22T19:36:11.639Z"
   },
   {
    "duration": 9,
    "start_time": "2023-07-22T19:37:57.209Z"
   },
   {
    "duration": 10,
    "start_time": "2023-07-22T19:38:00.677Z"
   },
   {
    "duration": 3,
    "start_time": "2023-07-22T19:44:26.534Z"
   },
   {
    "duration": 10,
    "start_time": "2023-07-22T19:50:03.465Z"
   },
   {
    "duration": 9,
    "start_time": "2023-07-22T19:50:07.701Z"
   },
   {
    "duration": 3084,
    "start_time": "2023-07-22T20:09:24.403Z"
   },
   {
    "duration": 38,
    "start_time": "2023-07-22T20:09:27.489Z"
   },
   {
    "duration": 35,
    "start_time": "2023-07-22T20:09:27.529Z"
   },
   {
    "duration": 6,
    "start_time": "2023-07-22T20:09:27.566Z"
   },
   {
    "duration": 19,
    "start_time": "2023-07-22T20:09:27.574Z"
   },
   {
    "duration": 31,
    "start_time": "2023-07-22T20:09:27.595Z"
   },
   {
    "duration": 8,
    "start_time": "2023-07-22T20:09:27.628Z"
   },
   {
    "duration": 7,
    "start_time": "2023-07-22T20:09:27.639Z"
   },
   {
    "duration": 21,
    "start_time": "2023-07-22T20:09:27.647Z"
   },
   {
    "duration": 47,
    "start_time": "2023-07-22T20:09:27.670Z"
   },
   {
    "duration": 15,
    "start_time": "2023-07-22T20:09:27.719Z"
   },
   {
    "duration": 25,
    "start_time": "2023-07-22T20:09:27.736Z"
   },
   {
    "duration": 61,
    "start_time": "2023-07-22T20:09:27.763Z"
   },
   {
    "duration": 16,
    "start_time": "2023-07-22T20:09:27.831Z"
   },
   {
    "duration": 42,
    "start_time": "2023-07-23T13:56:07.403Z"
   },
   {
    "duration": 1133,
    "start_time": "2023-07-23T13:56:10.504Z"
   },
   {
    "duration": 78,
    "start_time": "2023-07-23T13:56:11.638Z"
   },
   {
    "duration": 33,
    "start_time": "2023-07-23T13:56:11.718Z"
   },
   {
    "duration": 32,
    "start_time": "2023-07-23T13:56:19.996Z"
   },
   {
    "duration": 59,
    "start_time": "2023-07-23T16:44:34.244Z"
   },
   {
    "duration": 3,
    "start_time": "2023-07-23T16:44:41.736Z"
   },
   {
    "duration": 28,
    "start_time": "2023-07-23T16:44:41.952Z"
   },
   {
    "duration": 35,
    "start_time": "2023-07-23T16:44:42.163Z"
   },
   {
    "duration": 4,
    "start_time": "2023-07-23T16:44:44.277Z"
   },
   {
    "duration": 4,
    "start_time": "2023-07-23T16:44:44.599Z"
   },
   {
    "duration": 4,
    "start_time": "2023-07-23T16:44:44.947Z"
   },
   {
    "duration": 4,
    "start_time": "2023-07-23T16:44:45.252Z"
   },
   {
    "duration": 5,
    "start_time": "2023-07-23T16:44:45.584Z"
   },
   {
    "duration": 5,
    "start_time": "2023-07-23T16:44:45.909Z"
   },
   {
    "duration": 6,
    "start_time": "2023-07-23T16:44:46.398Z"
   },
   {
    "duration": 7,
    "start_time": "2023-07-23T16:44:47.108Z"
   },
   {
    "duration": 11,
    "start_time": "2023-07-23T16:44:47.501Z"
   },
   {
    "duration": 7,
    "start_time": "2023-07-23T16:44:48.705Z"
   },
   {
    "duration": 7,
    "start_time": "2023-07-23T16:44:48.813Z"
   }
  ],
  "kernelspec": {
   "display_name": "Python 3 (ipykernel)",
   "language": "python",
   "name": "python3"
  },
  "language_info": {
   "codemirror_mode": {
    "name": "ipython",
    "version": 3
   },
   "file_extension": ".py",
   "mimetype": "text/x-python",
   "name": "python",
   "nbconvert_exporter": "python",
   "pygments_lexer": "ipython3",
   "version": "3.11.4"
  },
  "toc": {
   "base_numbering": 1,
   "nav_menu": {},
   "number_sections": true,
   "sideBar": true,
   "skip_h1_title": true,
   "title_cell": "Содержание",
   "title_sidebar": "Contents",
   "toc_cell": true,
   "toc_position": {
    "height": "728px",
    "left": "542px",
    "top": "111.125px",
    "width": "371px"
   },
   "toc_section_display": true,
   "toc_window_display": false
  }
 },
 "nbformat": 4,
 "nbformat_minor": 2
}
